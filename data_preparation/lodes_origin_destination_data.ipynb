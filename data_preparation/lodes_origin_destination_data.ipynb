{
 "cells": [
  {
   "cell_type": "code",
   "execution_count": 1,
   "metadata": {
    "collapsed": true
   },
   "outputs": [],
   "source": [
    "import pandas as pd\n",
    "import glob\n",
    "pd.set_option('display.max_columns', 500)"
   ]
  },
  {
   "cell_type": "code",
   "execution_count": 2,
   "metadata": {},
   "outputs": [
    {
     "name": "stderr",
     "output_type": "stream",
     "text": [
      "/Users/nj995/anaconda3/lib/python3.6/site-packages/IPython/core/interactiveshell.py:2698: DtypeWarning: Columns (37) have mixed types. Specify dtype option on import or set low_memory=False.\n",
      "  interactivity=interactivity, compiler=compiler, result=result)\n"
     ]
    }
   ],
   "source": [
    "# # O-D Files\n",
    "# od = pd.read_csv('../../data/LODES/mo_od_main_JT00_2015.csv')\n",
    "# od_aux = pd.read_csv('../../data/LODES/mo_od_aux_JT00_2015.csv')\n",
    "# # Residence Area Characteristics\n",
    "# rac = pd.read_csv('../../data/LODES/mo_rac_S000_JT00_2015.csv')\n",
    "# # Workplace Area Characteristics\n",
    "# wac = pd.read_csv('../../data/LODES/mo_wac_S000_JT00_2015.csv')\n",
    "\n",
    "xwalk = pd.read_csv('../../data/LODES/raw/mo_xwalk.csv')"
   ]
  },
  {
   "cell_type": "markdown",
   "metadata": {},
   "source": [
    "## OD Files"
   ]
  },
  {
   "cell_type": "code",
   "execution_count": 3,
   "metadata": {},
   "outputs": [],
   "source": [
    "od_files = glob.glob('../../data/LODES/raw/mo_od_main_JT01*.csv')"
   ]
  },
  {
   "cell_type": "code",
   "execution_count": 4,
   "metadata": {},
   "outputs": [],
   "source": [
    "i = 0\n",
    "for file in od_files:\n",
    "    temp = pd.read_csv(file)\n",
    "    temp['year'] = file[37:41]\n",
    "    if i == 0:\n",
    "        od_main_JT01 = temp\n",
    "    else:\n",
    "        od_main_JT01 = pd.concat([od_main_JT01, temp])\n",
    "    i += 1\n",
    "od_main_JT01 = od_main_JT01.reset_index(drop = True)"
   ]
  },
  {
   "cell_type": "code",
   "execution_count": 5,
   "metadata": {},
   "outputs": [],
   "source": [
    "od_main_JT01.to_csv('../../data/LODES/mo_od_main_JT01.csv', index = False)"
   ]
  },
  {
   "cell_type": "markdown",
   "metadata": {},
   "source": [
    "## WAC Files"
   ]
  },
  {
   "cell_type": "code",
   "execution_count": 6,
   "metadata": {
    "collapsed": true
   },
   "outputs": [],
   "source": [
    "wac_files = glob.glob('../../data/LODES/raw/mo_wac_S000_JT01_*.csv')"
   ]
  },
  {
   "cell_type": "code",
   "execution_count": 7,
   "metadata": {},
   "outputs": [],
   "source": [
    "i = 0\n",
    "for file in wac_files:\n",
    "    temp = pd.read_csv(file)\n",
    "    temp['year'] = file[38:42]\n",
    "    if i == 0:\n",
    "        wac_S000_JT01 = temp\n",
    "    else:\n",
    "        wac_S000_JT01 = pd.concat([wac_S000_JT01, temp])\n",
    "    i += 1\n",
    "wac_S000_JT01 = wac_S000_JT01.reset_index(drop = True)"
   ]
  },
  {
   "cell_type": "code",
   "execution_count": 8,
   "metadata": {
    "collapsed": true
   },
   "outputs": [],
   "source": [
    "wac_S000_JT01.to_csv('../../data/LODES/mo_wac_S000_JT01.csv', index = False)"
   ]
  },
  {
   "cell_type": "markdown",
   "metadata": {},
   "source": [
    "## RAC Files"
   ]
  },
  {
   "cell_type": "code",
   "execution_count": 9,
   "metadata": {
    "collapsed": true
   },
   "outputs": [],
   "source": [
    "rac_files = glob.glob('../../data/LODES/raw/mo_rac_S000_JT01_*.csv')"
   ]
  },
  {
   "cell_type": "code",
   "execution_count": 10,
   "metadata": {
    "collapsed": true
   },
   "outputs": [],
   "source": [
    "i = 0\n",
    "for file in rac_files:\n",
    "    temp = pd.read_csv(file)\n",
    "    temp['year'] = file[38:42]\n",
    "    if i == 0:\n",
    "        rac_S000_JT01 = temp\n",
    "    else:\n",
    "        rac_S000_JT01 = pd.concat([rac_S000_JT01, temp])\n",
    "    i += 1\n",
    "rac_S000_JT01 = rac_S000_JT01.reset_index(drop = True)"
   ]
  },
  {
   "cell_type": "code",
   "execution_count": 11,
   "metadata": {
    "collapsed": true
   },
   "outputs": [],
   "source": [
    "rac_S000_JT01.to_csv('../../data/LODES/mo_rac_S000_JT01.csv', index = False)"
   ]
  },
  {
   "cell_type": "code",
   "execution_count": null,
   "metadata": {
    "collapsed": true
   },
   "outputs": [],
   "source": []
  }
 ],
 "metadata": {
  "kernelspec": {
   "display_name": "Python 3",
   "language": "python",
   "name": "python3"
  },
  "language_info": {
   "codemirror_mode": {
    "name": "ipython",
    "version": 3
   },
   "file_extension": ".py",
   "mimetype": "text/x-python",
   "name": "python",
   "nbconvert_exporter": "python",
   "pygments_lexer": "ipython3",
   "version": "3.6.2"
  }
 },
 "nbformat": 4,
 "nbformat_minor": 2
}
