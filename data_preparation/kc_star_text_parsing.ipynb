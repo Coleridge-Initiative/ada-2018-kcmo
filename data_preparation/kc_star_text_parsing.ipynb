{
 "cells": [
  {
   "cell_type": "code",
   "execution_count": 1,
   "metadata": {},
   "outputs": [],
   "source": [
    "import pandas as pd\n",
    "import re\n",
    "import numpy as np"
   ]
  },
  {
   "cell_type": "code",
   "execution_count": 2,
   "metadata": {},
   "outputs": [],
   "source": [
    "new_article_pattern  = '^Copyright \\(c\\) \\d\\d\\d\\d The Kansas City Star\\n$'\n",
    "title_pattern = '\\| Kansas City Star, The \\(MO\\)\\n$'\n",
    "author_pattern = 'OpenURL Link\\n$'\n",
    "signature_pattern = ': \\d\\d\\d\\-\\d\\d\\d-\\d\\d\\d\\d(,)?(\\son\\sTwitter)?(\\s@\\w+)?$'"
   ]
  },
  {
   "cell_type": "code",
   "execution_count": 3,
   "metadata": {},
   "outputs": [],
   "source": [
    "# Make sure file gets closed after being iterated\n",
    "with open('../data/KC_STAR/kc_star.txt', 'r') as f:\n",
    "   # Read the file contents and generate a list with each line\n",
    "   lines = f.readlines()"
   ]
  },
  {
   "cell_type": "code",
   "execution_count": 4,
   "metadata": {},
   "outputs": [
    {
     "name": "stdout",
     "output_type": "stream",
     "text": [
      "1000\n"
     ]
    }
   ],
   "source": [
    "k = 0\n",
    "for line in lines:\n",
    "    k += (re.match(new_article_pattern, line)!=None)\n",
    "print(k)"
   ]
  },
  {
   "cell_type": "code",
   "execution_count": 5,
   "metadata": {
    "scrolled": true
   },
   "outputs": [],
   "source": [
    "articles = []\n",
    "j = 0\n",
    "for i in range(k):    \n",
    "    title = ''\n",
    "    date = ''\n",
    "    author = ''\n",
    "    text = ''\n",
    "    \n",
    "    while re.search(title_pattern, lines[j]) == None:\n",
    "        title += \" \" + lines[j].strip()\n",
    "        j += 1\n",
    "        \n",
    "    date = lines[j].strip()\n",
    "    date = re.sub(r' \\| Kansas City Star, The.*', '', date).strip()\n",
    "    j += 1\n",
    "    \n",
    "    while re.search(author_pattern, lines[j]) == None:\n",
    "        author += lines[j].strip()\n",
    "        j += 1\n",
    "    author += lines[j].strip()\n",
    "    author = re.sub('Author: ', '', author).strip()\n",
    "    author = re.sub(r'Section: ?8?1?6? ?n?o?r?t?h? ?business.*', '', author).strip()\n",
    "    j += 1\n",
    "    \n",
    "    while re.search(new_article_pattern, lines[j]) == None:\n",
    "        if re.search(signature_pattern, lines[j]) == None: \n",
    "            if re.search('^The Star\\n$', lines[j]) == None:\n",
    "                text += lines[j].strip() + \" \"\n",
    "        j = j+1        \n",
    "    j = j+1\n",
    "    article = [title.strip(), date.strip(), author.strip(), text.strip()]\n",
    "    articles.append(article)\n",
    "    i += 1"
   ]
  },
  {
   "cell_type": "code",
   "execution_count": 6,
   "metadata": {},
   "outputs": [],
   "source": [
    "df = pd.DataFrame(np.array(articles).reshape(k,4), columns = ['title', 'date', 'author', 'text'])"
   ]
  },
  {
   "cell_type": "code",
   "execution_count": 7,
   "metadata": {},
   "outputs": [
    {
     "data": {
      "text/plain": [
       "(1000, 4)"
      ]
     },
     "execution_count": 7,
     "metadata": {},
     "output_type": "execute_result"
    }
   ],
   "source": [
    "df.shape"
   ]
  },
  {
   "cell_type": "code",
   "execution_count": 8,
   "metadata": {
    "scrolled": false
   },
   "outputs": [],
   "source": [
    "df = df.drop_duplicates('text').reset_index()"
   ]
  },
  {
   "cell_type": "code",
   "execution_count": 9,
   "metadata": {},
   "outputs": [
    {
     "data": {
      "text/plain": [
       "(999, 5)"
      ]
     },
     "execution_count": 9,
     "metadata": {},
     "output_type": "execute_result"
    }
   ],
   "source": [
    "df.shape"
   ]
  },
  {
   "cell_type": "code",
   "execution_count": 10,
   "metadata": {},
   "outputs": [],
   "source": [
    "df['text'] = df['text'].str.replace('’', ' ')\n",
    "df['text'] = df['text'].str.replace('\\'', ' ')\n",
    "df['text'] = df['text'].str.replace('-', ' ')"
   ]
  },
  {
   "cell_type": "code",
   "execution_count": 11,
   "metadata": {},
   "outputs": [],
   "source": [
    "df.to_csv('../data/KC_STAR/kc_star.csv', index = False)"
   ]
  },
  {
   "cell_type": "code",
   "execution_count": null,
   "metadata": {},
   "outputs": [],
   "source": []
  }
 ],
 "metadata": {
  "kernelspec": {
   "display_name": "Python 3",
   "language": "python",
   "name": "python3"
  },
  "language_info": {
   "codemirror_mode": {
    "name": "ipython",
    "version": 3
   },
   "file_extension": ".py",
   "mimetype": "text/x-python",
   "name": "python",
   "nbconvert_exporter": "python",
   "pygments_lexer": "ipython3",
   "version": "3.6.2"
  },
  "toc": {
   "nav_menu": {},
   "number_sections": false,
   "sideBar": true,
   "skip_h1_title": false,
   "title_cell": "Table of Contents",
   "title_sidebar": "Contents",
   "toc_cell": false,
   "toc_position": {
    "height": "calc(100% - 180px)",
    "left": "10px",
    "top": "150px",
    "width": "166px"
   },
   "toc_section_display": true,
   "toc_window_display": true
  }
 },
 "nbformat": 4,
 "nbformat_minor": 2
}
