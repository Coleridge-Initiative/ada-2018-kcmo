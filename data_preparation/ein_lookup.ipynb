{
 "cells": [
  {
   "cell_type": "markdown",
   "metadata": {},
   "source": [
    "# EIN Lookup Table"
   ]
  },
  {
   "cell_type": "code",
   "execution_count": null,
   "metadata": {},
   "outputs": [],
   "source": [
    "import pandas as pd\n",
    "import psycopg2"
   ]
  },
  {
   "cell_type": "markdown",
   "metadata": {},
   "source": [
    "## Number of Branches"
   ]
  },
  {
   "cell_type": "code",
   "execution_count": null,
   "metadata": {},
   "outputs": [],
   "source": [
    "db_name = \"appliedda\"\n",
    "hostname = \"10.10.2.10\"\n",
    "conn = psycopg2.connect(database=db_name, host = hostname) #database connection"
   ]
  },
  {
   "cell_type": "code",
   "execution_count": null,
   "metadata": {},
   "outputs": [],
   "source": [
    "query = '''\n",
    "CREATE TABLE IF NOT EXISTS ada_kcmo.ein_nb_branch AS\n",
    "SELECT ein, max(nb_branches) as max_nb_branches\n",
    "FROM (\n",
    "    SELECT ein, year, qtr, count(*) as nb_branches\n",
    "    from kcmo_lehd.mo_qcew_employers\n",
    "    group by ein, year, qtr\n",
    ") as a\n",
    "group by ein;\n",
    "\n",
    "alter table ada_kcmo.ein_nb_branch owner to ada_kcmo_admin;\n",
    "\n",
    "commit;\n",
    "'''\n",
    "cursor = conn.cursor()\n",
    "cursor.execute(query)"
   ]
  },
  {
   "cell_type": "markdown",
   "metadata": {},
   "source": [
    "## Legal Name"
   ]
  },
  {
   "cell_type": "code",
   "execution_count": null,
   "metadata": {},
   "outputs": [],
   "source": [
    "db_name = \"appliedda\"\n",
    "hostname = \"10.10.2.10\"\n",
    "conn = psycopg2.connect(database=db_name, host = hostname) #database connection"
   ]
  },
  {
   "cell_type": "code",
   "execution_count": null,
   "metadata": {},
   "outputs": [],
   "source": [
    "query = '''\n",
    "CREATE TABLE IF NOT EXISTS ada_kcmo.ein_legal_name AS\n",
    "select distinct on (ein) ein, legal_name, count\n",
    "from (\n",
    "    SELECT ein, legal_name, count(*) as count\n",
    "    from kcmo_lehd.mo_qcew_employers\n",
    "    where legal_name is not null\n",
    "    group by ein, legal_name\n",
    "    order by ein, count desc\n",
    ") as a;\n",
    "\n",
    "alter table ada_kcmo.ein_legal_name owner to ada_kcmo_admin;\n",
    "\n",
    "commit;\n",
    "'''\n",
    "cursor = conn.cursor()\n",
    "cursor.execute(query)"
   ]
  },
  {
   "cell_type": "markdown",
   "metadata": {},
   "source": [
    "## NAICS"
   ]
  },
  {
   "cell_type": "code",
   "execution_count": null,
   "metadata": {},
   "outputs": [],
   "source": [
    "db_name = \"appliedda\"\n",
    "hostname = \"10.10.2.10\"\n",
    "conn = psycopg2.connect(database=db_name, host = hostname) #database connection"
   ]
  },
  {
   "cell_type": "code",
   "execution_count": null,
   "metadata": {},
   "outputs": [],
   "source": [
    "query = '''\n",
    "CREATE TABLE IF NOT EXISTS ada_kcmo.ein_naics AS\n",
    "select distinct on (ein) ein, naics, count\n",
    "from (\n",
    "    SELECT ein, naics, count(*) as count\n",
    "    from kcmo_lehd.mo_qcew_employers\n",
    "    where naics is not null\n",
    "    group by ein, naics\n",
    "    order by ein, count desc\n",
    ") as a;\n",
    "\n",
    "alter table ada_kcmo.ein_naics owner to ada_kcmo_admin;\n",
    "\n",
    "commit;\n",
    "'''\n",
    "cursor = conn.cursor()\n",
    "cursor.execute(query)"
   ]
  },
  {
   "cell_type": "markdown",
   "metadata": {},
   "source": [
    "## Zipcode"
   ]
  },
  {
   "cell_type": "code",
   "execution_count": null,
   "metadata": {},
   "outputs": [],
   "source": [
    "db_name = \"appliedda\"\n",
    "hostname = \"10.10.2.10\"\n",
    "conn = psycopg2.connect(database=db_name, host = hostname) #database connection"
   ]
  },
  {
   "cell_type": "code",
   "execution_count": null,
   "metadata": {},
   "outputs": [],
   "source": [
    "query = '''\n",
    "CREATE TABLE IF NOT EXISTS ada_kcmo.ein_pl_zip AS\n",
    "select distinct on (ein) ein, pl_zip, count\n",
    "from (\n",
    "    SELECT ein, pl_zip, count(*) as count\n",
    "    from kcmo_lehd.mo_qcew_employers\n",
    "    where pl_zip is not null\n",
    "    group by ein, pl_zip\n",
    "    order by ein, count desc\n",
    ") as a;\n",
    "\n",
    "alter table ada_kcmo.ein_pl_zip owner to ada_kcmo_admin;\n",
    "\n",
    "commit;\n",
    "'''\n",
    "cursor = conn.cursor()\n",
    "cursor.execute(query)"
   ]
  },
  {
   "cell_type": "markdown",
   "metadata": {},
   "source": [
    "## County"
   ]
  },
  {
   "cell_type": "code",
   "execution_count": null,
   "metadata": {},
   "outputs": [],
   "source": [
    "db_name = \"appliedda\"\n",
    "hostname = \"10.10.2.10\"\n",
    "conn = psycopg2.connect(database=db_name, host = hostname) #database connection"
   ]
  },
  {
   "cell_type": "code",
   "execution_count": null,
   "metadata": {},
   "outputs": [],
   "source": [
    "query = '''\n",
    "CREATE TABLE IF NOT EXISTS ada_kcmo.ein_cnty AS\n",
    "select distinct on (ein) ein, cnty, count\n",
    "from (\n",
    "    SELECT ein, cnty, count(*) as count\n",
    "    from kcmo_lehd.mo_qcew_employers\n",
    "    where cnty is not null\n",
    "    group by ein, cnty\n",
    "    order by ein, count desc\n",
    ") as a;\n",
    "\n",
    "alter table ada_kcmo.ein_cnty owner to ada_kcmo_admin;\n",
    "\n",
    "commit;\n",
    "'''\n",
    "cursor = conn.cursor()\n",
    "cursor.execute(query)"
   ]
  },
  {
   "cell_type": "markdown",
   "metadata": {},
   "source": [
    "## Combine all tables"
   ]
  },
  {
   "cell_type": "code",
   "execution_count": null,
   "metadata": {},
   "outputs": [],
   "source": [
    "query = '''\n",
    "CREATE TABLE IF NOT EXISTS ada_kcmo.ein_lookup AS\n",
    "select b.legal_name, a.*, \n",
    "    c.naics,\n",
    "    case when a.max_nb_branches = 1 then d.pl_zip else null end as pl_zip,\n",
    "    case when a.max_nb_branches = 1 then e.cnty else null end as cnty\n",
    "from ada_kcmo.ein_nb_branch as a\n",
    "left join ada_kcmo.ein_legal_name as b on a.ein = b.ein\n",
    "left join ada_kcmo.ein_naics as c on a.ein = c.ein\n",
    "left join ada_kcmo.ein_pl_zip as d on a.ein = d.ein \n",
    "left join ada_kcmo.ein_cnty as e on a.ein = e.ein ;\n",
    "\n",
    "alter table ada_kcmo.ein_lookup owner to ada_kcmo_admin;\n",
    "\n",
    "commit;\n",
    "'''\n",
    "cursor = conn.cursor()\n",
    "cursor.execute(query)"
   ]
  },
  {
   "cell_type": "code",
   "execution_count": null,
   "metadata": {},
   "outputs": [],
   "source": []
  }
 ],
 "metadata": {
  "kernelspec": {
   "display_name": "Python 2",
   "language": "python",
   "name": "python2"
  },
  "language_info": {
   "codemirror_mode": {
    "name": "ipython",
    "version": 2
   },
   "file_extension": ".py",
   "mimetype": "text/x-python",
   "name": "python",
   "nbconvert_exporter": "python",
   "pygments_lexer": "ipython2",
   "version": "2.7.12"
  },
  "toc": {
   "nav_menu": {},
   "number_sections": false,
   "sideBar": true,
   "skip_h1_title": false,
   "toc_cell": false,
   "toc_position": {},
   "toc_section_display": "block",
   "toc_window_display": false
  }
 },
 "nbformat": 4,
 "nbformat_minor": 2
}
