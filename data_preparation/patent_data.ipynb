{
 "cells": [
  {
   "cell_type": "code",
   "execution_count": 1,
   "metadata": {
    "collapsed": true
   },
   "outputs": [],
   "source": [
    "import pandas as pd"
   ]
  },
  {
   "cell_type": "code",
   "execution_count": 2,
   "metadata": {
    "scrolled": true
   },
   "outputs": [
    {
     "name": "stderr",
     "output_type": "stream",
     "text": [
      "/Users/nj995/anaconda3/lib/python3.6/site-packages/IPython/core/interactiveshell.py:2698: DtypeWarning: Columns (0,1,2,3,7,8) have mixed types. Specify dtype option on import or set low_memory=False.\n",
      "  interactivity=interactivity, compiler=compiler, result=result)\n"
     ]
    }
   ],
   "source": [
    "application = pd.read_csv('../../data/USPTO/application.tsv', sep = '\\t')\n",
    "assignee = pd.read_csv('../../data/USPTO/assignee.tsv', sep = '\\t')\n",
    "# location= pd.read_csv('../../data/USPTO/location.tsv', sep = '\\t')\n",
    "# location_assignee = pd.read_csv('../../data/USPTO/location_assignee.tsv', sep = '\\t')\n",
    "# location_inventor= pd.read_csv('../../data/USPTO/location_inventor.tsv', sep = '\\t')\n",
    "patent_assignee = pd.read_csv('../../data/USPTO/patent_assignee.tsv', sep = ',')\n",
    "# raw_assignee = pd.read_csv('../../data/USPTO/rawassignee.tsv', sep = ',')"
   ]
  },
  {
   "cell_type": "code",
   "execution_count": 3,
   "metadata": {
    "collapsed": true
   },
   "outputs": [],
   "source": [
    "del application['id_transformed']\n",
    "del application['number_transformed']\n",
    "del application['series_code_transformed_from_type']\n",
    "application['patent_number'] = application['patent_id']\n",
    "del application['patent_id']\n",
    "patent_assignee['patent_number'] = patent_assignee['patent_id']\n",
    "del patent_assignee['patent_id']\n",
    "assignee['assignee_id'] = assignee['id']\n",
    "del assignee['id']\n",
    "del assignee['type']"
   ]
  },
  {
   "cell_type": "code",
   "execution_count": 8,
   "metadata": {
    "collapsed": true
   },
   "outputs": [],
   "source": [
    "df = application.copy()"
   ]
  },
  {
   "cell_type": "code",
   "execution_count": 9,
   "metadata": {
    "collapsed": true
   },
   "outputs": [],
   "source": [
    "df = pd.merge(df, patent_assignee, how = 'left', on = 'patent_number')\n",
    "df = pd.merge(df, assignee, how = 'left', on = 'assignee_id')"
   ]
  },
  {
   "cell_type": "code",
   "execution_count": 10,
   "metadata": {},
   "outputs": [
    {
     "data": {
      "text/html": [
       "<div>\n",
       "<style>\n",
       "    .dataframe thead tr:only-child th {\n",
       "        text-align: right;\n",
       "    }\n",
       "\n",
       "    .dataframe thead th {\n",
       "        text-align: left;\n",
       "    }\n",
       "\n",
       "    .dataframe tbody tr th {\n",
       "        vertical-align: top;\n",
       "    }\n",
       "</style>\n",
       "<table border=\"1\" class=\"dataframe\">\n",
       "  <thead>\n",
       "    <tr style=\"text-align: right;\">\n",
       "      <th></th>\n",
       "      <th>id</th>\n",
       "      <th>type</th>\n",
       "      <th>number</th>\n",
       "      <th>country</th>\n",
       "      <th>date</th>\n",
       "      <th>patent_number</th>\n",
       "      <th>assignee_id</th>\n",
       "      <th>name_first</th>\n",
       "      <th>name_last</th>\n",
       "      <th>organization</th>\n",
       "    </tr>\n",
       "  </thead>\n",
       "  <tbody>\n",
       "    <tr>\n",
       "      <th>0</th>\n",
       "      <td>02/002761</td>\n",
       "      <td>2</td>\n",
       "      <td>2002761</td>\n",
       "      <td>US</td>\n",
       "      <td>1992-12-21</td>\n",
       "      <td>D345393</td>\n",
       "      <td>b6329498939970968a9366a03e957115</td>\n",
       "      <td>NaN</td>\n",
       "      <td>NaN</td>\n",
       "      <td>Far Great Plastics Industrial Co., Ltd.</td>\n",
       "    </tr>\n",
       "    <tr>\n",
       "      <th>1</th>\n",
       "      <td>02/007691</td>\n",
       "      <td>2</td>\n",
       "      <td>2007691</td>\n",
       "      <td>US</td>\n",
       "      <td>1990-04-10</td>\n",
       "      <td>5164715</td>\n",
       "      <td>27c275396a1220e677472f96fe035340</td>\n",
       "      <td>NaN</td>\n",
       "      <td>NaN</td>\n",
       "      <td>Stanley Electric Co., Ltd.</td>\n",
       "    </tr>\n",
       "    <tr>\n",
       "      <th>2</th>\n",
       "      <td>02/010248</td>\n",
       "      <td>2</td>\n",
       "      <td>2010248</td>\n",
       "      <td>US</td>\n",
       "      <td>1988-06-23</td>\n",
       "      <td>5177974</td>\n",
       "      <td>4637697c74b334d29644fe57cb4f7493</td>\n",
       "      <td>NaN</td>\n",
       "      <td>NaN</td>\n",
       "      <td>Pub-Gas International Pty. Ltd.</td>\n",
       "    </tr>\n",
       "    <tr>\n",
       "      <th>3</th>\n",
       "      <td>02/020141</td>\n",
       "      <td>2</td>\n",
       "      <td>2020141</td>\n",
       "      <td>US</td>\n",
       "      <td>1994-02-16</td>\n",
       "      <td>5379515</td>\n",
       "      <td>6c00cb129070696ef109f6264da00318</td>\n",
       "      <td>NaN</td>\n",
       "      <td>NaN</td>\n",
       "      <td>Canon Kabushiki Kaisha</td>\n",
       "    </tr>\n",
       "    <tr>\n",
       "      <th>4</th>\n",
       "      <td>02/020141</td>\n",
       "      <td>2</td>\n",
       "      <td>2020141</td>\n",
       "      <td>US</td>\n",
       "      <td>1994-02-16</td>\n",
       "      <td>5379515</td>\n",
       "      <td>4df0c42b474fe1b51374fb4f54c1d7a0</td>\n",
       "      <td>NaN</td>\n",
       "      <td>NaN</td>\n",
       "      <td>Sumitomo Metal Industries, Ltd.</td>\n",
       "    </tr>\n",
       "  </tbody>\n",
       "</table>\n",
       "</div>"
      ],
      "text/plain": [
       "          id type   number country        date patent_number  \\\n",
       "0  02/002761    2  2002761      US  1992-12-21       D345393   \n",
       "1  02/007691    2  2007691      US  1990-04-10       5164715   \n",
       "2  02/010248    2  2010248      US  1988-06-23       5177974   \n",
       "3  02/020141    2  2020141      US  1994-02-16       5379515   \n",
       "4  02/020141    2  2020141      US  1994-02-16       5379515   \n",
       "\n",
       "                        assignee_id name_first name_last  \\\n",
       "0  b6329498939970968a9366a03e957115        NaN       NaN   \n",
       "1  27c275396a1220e677472f96fe035340        NaN       NaN   \n",
       "2  4637697c74b334d29644fe57cb4f7493        NaN       NaN   \n",
       "3  6c00cb129070696ef109f6264da00318        NaN       NaN   \n",
       "4  4df0c42b474fe1b51374fb4f54c1d7a0        NaN       NaN   \n",
       "\n",
       "                              organization  \n",
       "0  Far Great Plastics Industrial Co., Ltd.  \n",
       "1               Stanley Electric Co., Ltd.  \n",
       "2          Pub-Gas International Pty. Ltd.  \n",
       "3                   Canon Kabushiki Kaisha  \n",
       "4          Sumitomo Metal Industries, Ltd.  "
      ]
     },
     "execution_count": 10,
     "metadata": {},
     "output_type": "execute_result"
    }
   ],
   "source": [
    "df.head()"
   ]
  },
  {
   "cell_type": "code",
   "execution_count": 11,
   "metadata": {},
   "outputs": [],
   "source": [
    "del df['id']\n",
    "del df['number']\n",
    "df = df.rename(index=str, columns={'type': 'patent_type'\n",
    "                                   , 'country': 'patent_country'\n",
    "                                   , 'date': 'patent_date'\n",
    "                                  })"
   ]
  },
  {
   "cell_type": "markdown",
   "metadata": {
    "collapsed": true
   },
   "source": [
    "___ Caution: Merging on assignee information duplicates lines because some patents are assigned to several assignees. ___\n",
    "\n",
    "___Do we want to assign every patent to a single assignee? ___"
   ]
  },
  {
   "cell_type": "code",
   "execution_count": 13,
   "metadata": {
    "collapsed": true,
    "scrolled": false
   },
   "outputs": [],
   "source": [
    "df.to_csv('../../data/USPTO/patent_data.csv', index = False)"
   ]
  },
  {
   "cell_type": "code",
   "execution_count": null,
   "metadata": {
    "collapsed": true
   },
   "outputs": [],
   "source": []
  }
 ],
 "metadata": {
  "kernelspec": {
   "display_name": "Python 3",
   "language": "python",
   "name": "python3"
  },
  "language_info": {
   "codemirror_mode": {
    "name": "ipython",
    "version": 3
   },
   "file_extension": ".py",
   "mimetype": "text/x-python",
   "name": "python",
   "nbconvert_exporter": "python",
   "pygments_lexer": "ipython3",
   "version": "3.6.2"
  },
  "toc": {
   "nav_menu": {},
   "number_sections": false,
   "sideBar": true,
   "skip_h1_title": false,
   "title_cell": "Table of Contents",
   "title_sidebar": "Contents",
   "toc_cell": false,
   "toc_position": {},
   "toc_section_display": true,
   "toc_window_display": true
  }
 },
 "nbformat": 4,
 "nbformat_minor": 2
}
