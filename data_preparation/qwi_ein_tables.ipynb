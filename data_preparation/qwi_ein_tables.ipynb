{
 "cells": [
  {
   "cell_type": "markdown",
   "metadata": {},
   "source": [
    "# Generate QWI Statistics"
   ]
  },
  {
   "cell_type": "markdown",
   "metadata": {},
   "source": [
    "## Python Setup"
   ]
  },
  {
   "cell_type": "code",
   "execution_count": null,
   "metadata": {},
   "outputs": [],
   "source": [
    "%pylab inline\n",
    "# from __future__ import division \n",
    "import pandas as pd\n",
    "import psycopg2\n",
    "# import seaborn as sns\n",
    "# sns.set_style(\"white\")\n",
    "# sns.set_context(\"poster\", font_scale=1.25, rc={\"lines.linewidth\":1.25, \"lines.markersize\":8})"
   ]
  },
  {
   "cell_type": "markdown",
   "metadata": {},
   "source": [
    "## Connection to Database"
   ]
  },
  {
   "cell_type": "code",
   "execution_count": null,
   "metadata": {},
   "outputs": [],
   "source": [
    "db_name = \"appliedda\"\n",
    "hostname = \"10.10.2.10\"\n",
    "conn = psycopg2.connect(database=db_name, host = hostname) #database connection"
   ]
  },
  {
   "cell_type": "code",
   "execution_count": null,
   "metadata": {},
   "outputs": [],
   "source": [
    "cursor = conn.cursor()"
   ]
  },
  {
   "cell_type": "markdown",
   "metadata": {},
   "source": [
    "## QWI Functions"
   ]
  },
  {
   "cell_type": "code",
   "execution_count": null,
   "metadata": {},
   "outputs": [],
   "source": [
    "def generate_table(year):\n",
    "    sql_script = '''\n",
    "    DROP TABLE IF EXISTS ada_kcmo.qwi_ein_{year}_1;\n",
    "    CREATE TABLE ada_kcmo.qwi_ein_{year}_1 AS\n",
    "    select ein\n",
    "        , count(*) as nb_jobs_current_qtr\n",
    "        , avg(qwmt) as emp_current_qtr\n",
    "        , avg(qwmtm4) as emp_4qtrs_ago\n",
    "        , avg(qwmtm3) as emp_3qtrs_ago\n",
    "        , avg(qwmtm2) as emp_2qtrs_ago\n",
    "        , avg(qwmtm1) as emp_prev_qtr\n",
    "        , avg(qwmtp1) as emp_next_qtr\n",
    "        , avg(qwbt) as emp_begin_qtr\n",
    "        , avg(qwet) as emp_end_qtr\n",
    "        , avg(qwft) as emp_full_qtr\n",
    "        , avg(qwat) as accessions_current\n",
    "        , avg(qwa2t) as accessions_consecutive_qtr\n",
    "        , avg(qwa3t) as accessions_full_qtr\n",
    "        , avg(qwst) as separations\n",
    "        , avg(qwht) as new_hires\n",
    "        , avg(qwrt) as recalls\n",
    "    from(\n",
    "        select *\n",
    "            , case when (qwmtm1 = 1 and qwmt = 1) then 1 else 0 end as qwbt\n",
    "            , case when (qwmt = 1 and qwmtp1 = 1) then 1 else 0 end as qwet\n",
    "            , case when (qwmtm1 = 1 and qwmt = 1 and qwmtp1 = 1) then 1 else 0 end as qwft\n",
    "            , case when (qwmtm1 = 0 and qwmt = 1) then 1 else 0 end as qwat\n",
    "            , case when (qwmtm1 = 0 and qwmt = 1 and qwmtp1 = 1) then 1 else 0 end as qwa2t\n",
    "            , case when (qwmtm2 = 0 and qwmtm1 = 1 and qwmt = 1 and qwmtp1 = 1) then 1 else 0 end as qwa3t\n",
    "            , case when (qwmt = 1 and qwmtp1 = 0) then 1 else 0 end as qwst\n",
    "            , case when (qwmtm4 = 0 and qwmtm3 = 0 and qwmtm2 = 0 and qwmtm1 = 0) then 1 else 0 end as qwht\n",
    "            , case when (qwmtm1 = 0 and qwmt = 1 and (qwmtm4=1 or qwmtm3=1 or qwmtm2=1)) then 1 else 0 end as qwrt\n",
    "        from (\n",
    "            select *\n",
    "                , case when wage > 0 then 1 else 0 end as qwmt\n",
    "                , case when wage_m4 > 0 then 1 else 0 end as qwmtm4\n",
    "                , case when wage_m3 > 0 then 1 else 0 end as qwmtm3\n",
    "                , case when wage_m2 > 0 then 1 else 0 end as qwmtm2\n",
    "                , case when wage_m1 > 0 then 1 else 0 end as qwmtm1\n",
    "                , case when wage_p1 > 0 then 1 else 0 end as qwmtp1\n",
    "            from(\n",
    "                select ein, ssn\n",
    "                    , count(case when (year = {year} and quarter = 1) then 1 else NULL end) as wage\n",
    "                    , count(case when (year = {year}-1 and quarter = 1) then 1 else NULL end) as wage_m4\n",
    "                    , count(case when (year = {year}-1 and quarter = 2) then 1 else NULL end) as wage_m3\n",
    "                    , count(case when (year = {year}-1 and quarter = 3) then 1 else NULL end) as wage_m2\n",
    "                    , count(case when (year = {year}-1 and quarter = 4) then 1 else NULL end) as wage_m1\n",
    "                    , count(case when (year = {year} and quarter = 2) then 1 else NULL end) as wage_p1\n",
    "                from (\n",
    "                    select *\n",
    "                    from kcmo_lehd.mo_wage\n",
    "                    where year in ({year}-1, {year})\n",
    "                ) as a\n",
    "                group by ein, ssn\n",
    "            ) as b\n",
    "            where wage > 0\n",
    "        ) as c\n",
    "    ) as d\n",
    "    group by ein\n",
    "    order by ein;\n",
    "    \n",
    "    alter table ada_kcmo.qwi_ein_{year}_1 owner to ada_kcmo_admin;\n",
    "\n",
    "    commit;\n",
    "    \n",
    "    '''.format(year=year)\n",
    "    \n",
    "    cursor.execute(sql_script)"
   ]
  },
  {
   "cell_type": "markdown",
   "metadata": {},
   "source": [
    "## Run Function for Different Years"
   ]
  },
  {
   "cell_type": "code",
   "execution_count": null,
   "metadata": {},
   "outputs": [],
   "source": [
    "generate_table(2014)"
   ]
  },
  {
   "cell_type": "code",
   "execution_count": null,
   "metadata": {},
   "outputs": [],
   "source": [
    "generate_table(2013)"
   ]
  },
  {
   "cell_type": "code",
   "execution_count": null,
   "metadata": {},
   "outputs": [],
   "source": [
    "generate_table(2012)"
   ]
  },
  {
   "cell_type": "code",
   "execution_count": null,
   "metadata": {},
   "outputs": [],
   "source": [
    "generate_table(2011)"
   ]
  },
  {
   "cell_type": "code",
   "execution_count": null,
   "metadata": {},
   "outputs": [],
   "source": [
    "generate_table(2010)"
   ]
  },
  {
   "cell_type": "code",
   "execution_count": null,
   "metadata": {},
   "outputs": [],
   "source": [
    "generate_table(2015)"
   ]
  }
 ],
 "metadata": {
  "kernelspec": {
   "display_name": "Python 2",
   "language": "python",
   "name": "python2"
  },
  "language_info": {
   "codemirror_mode": {
    "name": "ipython",
    "version": 2
   },
   "file_extension": ".py",
   "mimetype": "text/x-python",
   "name": "python",
   "nbconvert_exporter": "python",
   "pygments_lexer": "ipython2",
   "version": "2.7.12"
  },
  "toc": {
   "nav_menu": {},
   "number_sections": false,
   "sideBar": true,
   "skip_h1_title": false,
   "toc_cell": false,
   "toc_position": {},
   "toc_section_display": "block",
   "toc_window_display": false
  }
 },
 "nbformat": 4,
 "nbformat_minor": 2
}
