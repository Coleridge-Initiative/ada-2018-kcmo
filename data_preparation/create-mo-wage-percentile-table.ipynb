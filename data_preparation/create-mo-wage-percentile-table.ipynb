{
 "cells": [
  {
   "cell_type": "markdown",
   "metadata": {},
   "source": [
    "# Creating Wage Percentile Table"
   ]
  },
  {
   "cell_type": "code",
   "execution_count": null,
   "metadata": {},
   "outputs": [],
   "source": [
    "import pandas as pd"
   ]
  },
  {
   "cell_type": "markdown",
   "metadata": {},
   "source": [
    "Use SQL to create table\n",
    "    \n",
    "    CREATE TABLE kcmo_lehd.mo_wage_percentile\n",
    "    (\n",
    "      year bigint,\n",
    "      quarter bigint,\n",
    "      pctile integer,\n",
    "      job_qtile double precision,\n",
    "      avg_wage_qtile double precision,\n",
    "      sum_wage_qtile double precision\n",
    "    )"
   ]
  },
  {
   "cell_type": "code",
   "execution_count": null,
   "metadata": {},
   "outputs": [],
   "source": [
    "# define year range\n",
    "years = range(2006,2017,1)\n",
    "print(years)\n",
    "# define percentile break points\n",
    "quantiles = pd.np.arange(0.01,1.01,0.01) "
   ]
  },
  {
   "cell_type": "code",
   "execution_count": null,
   "metadata": {},
   "outputs": [],
   "source": [
    "# iteratively add additional years to percentile update query:\n",
    "with open('update_mo_wage_percentiles.sql', 'w') as qry_out:\n",
    "    for y in years:\n",
    "        # create query for this year\n",
    "        qry = \"\"\"INSERT INTO kcmo_lehd.mo_wage_percentile\n",
    "        SELECT year, quarter, unnest(array[{1:}]) pctile,\n",
    "        unnest(percentile_cont(array[{0:}]) WITHIN GROUP (ORDER BY job_count)) job_qtile,\n",
    "        unnest(percentile_cont(array[{0:}]) WITHIN GROUP (ORDER BY avg_wage)) avg_wage_qtile,\n",
    "        unnest(percentile_cont(array[{0:}]) WITHIN GROUP (ORDER BY sum_wage)) sum_wage_qtile\n",
    "        FROM ( --subquery to aggregate individuals' jobs to single row per quarter\n",
    "            SELECT ssn, name_first, name_middle, name_last, count(*) job_count, \n",
    "                avg(wage) avg_wage, sum(wage) sum_wage, year, quarter\n",
    "            FROM kcmo_lehd.mo_wage \n",
    "            WHERE year = {2:}\n",
    "            GROUP BY ssn, name_first, name_middle, name_last, year, quarter\n",
    "        ) q\n",
    "        GROUP BY year, quarter\n",
    "        ORDER BY year, quarter;\n",
    "        \"\"\".format(','.join([str(q) for q in quantiles]), \n",
    "                   ','.join([str(int(q*100)) for q in quantiles]), y)\n",
    "        qry_out.write(qry)\n",
    "        qry_out.write('\\n')\n",
    "        qry_out.write('\\echo \"completed year {}\"'.format(y))\n",
    "        qry_out.write('\\n')"
   ]
  },
  {
   "cell_type": "markdown",
   "metadata": {},
   "source": [
    "Then run the .sql file using psql (from the terminal):\n",
    "\n",
    "    psql -h stuffed -d appliedda -f update_mo_wage_percentiles.sql &\n",
    "    \n",
    "> for some reason (because tried to run in background maybe?) that died at 2010, but 2006-2010 data looks correct so made a separate .sql file for remaining years\n",
    "    \n",
    "    psql -h stuffed -d appliedda -f update_mo_wage_percentiles_2011-16.sql\n",
    "    \n",
    "Lastly, alter the table to the schema owner so collaborators can edit table if needed, and VACUUM:\n",
    "\n",
    "    ALTER TABLE kcmo_lehd.mo_wage_percentile OWNER TO kcmo_lehd_admin;\n",
    "    \n",
    "    VACUUM ANALYZE kcmo_lehd.mo_wage_percentile;"
   ]
  }
 ],
 "metadata": {
  "kernelspec": {
   "display_name": "Python 2",
   "language": "python",
   "name": "python2"
  },
  "language_info": {
   "codemirror_mode": {
    "name": "ipython",
    "version": 2
   },
   "file_extension": ".py",
   "mimetype": "text/x-python",
   "name": "python",
   "nbconvert_exporter": "python",
   "pygments_lexer": "ipython2",
   "version": "2.7.12"
  },
  "toc": {
   "nav_menu": {
    "height": "591px",
    "width": "562px"
   },
   "number_sections": true,
   "sideBar": true,
   "skip_h1_title": false,
   "toc_cell": false,
   "toc_position": {},
   "toc_section_display": "block",
   "toc_window_display": false
  }
 },
 "nbformat": 4,
 "nbformat_minor": 2
}
