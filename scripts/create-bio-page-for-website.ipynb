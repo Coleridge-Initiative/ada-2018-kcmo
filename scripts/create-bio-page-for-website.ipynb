{
 "cells": [
  {
   "cell_type": "markdown",
   "metadata": {},
   "source": [
    "## Prepare markdown file of participant bios\n",
    "\n",
    "Order of tasks:\n",
    "1. Iterate through each sub-folder of given input folder\n",
    "2. Create new entry based on sub folder name (assume `<Last>_<First>` folder naming convention)\n",
    "3. Format picture and save to new `/s/..` folder location for easier upload to Squarespace page\n",
    "4. Append entry to markdown"
   ]
  },
  {
   "cell_type": "code",
   "execution_count": null,
   "metadata": {
    "collapsed": true
   },
   "outputs": [],
   "source": [
    "# import os package to walk directories and find files\n",
    "import os"
   ]
  },
  {
   "cell_type": "code",
   "execution_count": null,
   "metadata": {
    "collapsed": false
   },
   "outputs": [],
   "source": [
    "base_path = '/Users/nj995/Google Drive/Applied Data Analytics course/KCMO_2018/Bios'\n",
    "\n",
    "print([f for f in os.listdir(base_path) if os.path.isdir(os.path.join(base_path, f))])"
   ]
  },
  {
   "cell_type": "code",
   "execution_count": null,
   "metadata": {
    "collapsed": true
   },
   "outputs": [],
   "source": [
    "# list of folders in input location, in alphabetical order by last name\n",
    "bio_folders =sorted([f for f in os.listdir(base_path) if os.path.isdir(os.path.join(base_path, f))])"
   ]
  },
  {
   "cell_type": "code",
   "execution_count": null,
   "metadata": {
    "collapsed": true
   },
   "outputs": [],
   "source": [
    "# create header of markdown\n",
    "md_out = \"# Participants\\n\"\n",
    "md_out += \"-----------------------------------------------------\\n\""
   ]
  },
  {
   "cell_type": "code",
   "execution_count": null,
   "metadata": {
    "collapsed": true
   },
   "outputs": [],
   "source": [
    "output_folder = '/Users/nj995/Google Drive/Applied Data Analytics course/KCMO_2018/website/'"
   ]
  },
  {
   "cell_type": "code",
   "execution_count": null,
   "metadata": {
    "collapsed": false
   },
   "outputs": [],
   "source": [
    "# iterate through folders, test it out\n",
    "for f in bio_folders:\n",
    "    my_path = os.path.join(base_path, f)\n",
    "    pic_ls = [p for p in os.listdir(my_path) if p.split('.')[-1] in ['jpg', 'png', 'jpeg']]\n",
    "    pic_name = pic_ls[0] if len(pic_ls)>0 else None\n",
    "    txt_ls = [t for t in os.listdir(my_path) if t.split('.')[-1]=='txt']\n",
    "    txt_name = txt_ls[0] if len(txt_ls)>0 else None\n",
    "    print('pic-file={} | bio-file={}'.format(pic_name, txt_name))"
   ]
  },
  {
   "cell_type": "code",
   "execution_count": null,
   "metadata": {
    "collapsed": false
   },
   "outputs": [],
   "source": [
    "import shutil\n",
    "# create header of markdown\n",
    "md_out = \"# Participants\\n\"\n",
    "md_out += \"*****\\n\"\n",
    "\n",
    "# test adding to markdown file\n",
    "for f in bio_folders:\n",
    "    # add name as heading 3, assume <Last>_<First> format\n",
    "    Lname = f.split('_')[0]\n",
    "    Fname = f.split('_')[1]\n",
    "    md_out += '### {} {}\\n'.format(Fname, Lname)\n",
    "    # get full path to folder\n",
    "    my_path = os.path.join(base_path, f)\n",
    "    # get picture(s)\n",
    "    pic_ls = [p for p in os.listdir(my_path) if p.split('.')[-1] in ['jpg', 'png', 'jpeg']]\n",
    "    # if there's (a) picture(s)\n",
    "    if len(pic_ls)>0:\n",
    "        # grab first picture\n",
    "        pic_name = pic_ls[0]\n",
    "        new_pic_name = f +'.'+ pic_name.split('.')[-1]\n",
    "        # copy picture to output folder\n",
    "#         shutil.copy(os.path.join(my_path, pic_name), os.path.join(output_folder, 's', new_pic_name))\n",
    "        print('copied ', new_pic_name)\n",
    "        # add photo to markdown\n",
    "        md_out += '<img src=\"/s/{new_pic}\" width=100>'.format(photo_name=f, new_pic=new_pic_name)\n",
    "    # handle text\n",
    "    txt_ls = [t for t in os.listdir(my_path) if t.split('.')[-1]=='txt']\n",
    "    txt_name = txt_ls[0] if len(txt_ls)>0 else None\n",
    "    if txt_name:\n",
    "        with open(os.path.join(my_path, txt_name)) as txt:\n",
    "            for line in txt.readlines():\n",
    "                md_out += \"\\n \\n\"\n",
    "                md_out += line\n",
    "    # add split line between names\n",
    "    md_out += '\\n\\n-------------------------------------------------------\\n\\n'"
   ]
  },
  {
   "cell_type": "code",
   "execution_count": null,
   "metadata": {
    "collapsed": false,
    "scrolled": false
   },
   "outputs": [],
   "source": [
    "print(md_out)"
   ]
  },
  {
   "cell_type": "code",
   "execution_count": null,
   "metadata": {
    "collapsed": true
   },
   "outputs": [],
   "source": []
  },
  {
   "cell_type": "code",
   "execution_count": null,
   "metadata": {
    "collapsed": true
   },
   "outputs": [],
   "source": []
  }
 ],
 "metadata": {
  "kernelspec": {
   "display_name": "Python 3",
   "language": "python",
   "name": "python3"
  },
  "language_info": {
   "codemirror_mode": {
    "name": "ipython",
    "version": 3
   },
   "file_extension": ".py",
   "mimetype": "text/x-python",
   "name": "python",
   "nbconvert_exporter": "python",
   "pygments_lexer": "ipython3",
   "version": "3.6.0"
  },
  "toc": {
   "nav_menu": {},
   "number_sections": false,
   "sideBar": true,
   "skip_h1_title": false,
   "title_cell": "Table of Contents",
   "title_sidebar": "Contents",
   "toc_cell": false,
   "toc_position": {},
   "toc_section_display": true,
   "toc_window_display": true
  }
 },
 "nbformat": 4,
 "nbformat_minor": 2
}
