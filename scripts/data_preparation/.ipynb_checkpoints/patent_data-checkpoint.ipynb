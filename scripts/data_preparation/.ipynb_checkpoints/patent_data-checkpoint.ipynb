{
 "cells": [
  {
   "cell_type": "code",
   "execution_count": 1,
   "metadata": {
    "collapsed": true
   },
   "outputs": [],
   "source": [
    "import pandas as pd"
   ]
  },
  {
   "cell_type": "code",
   "execution_count": 2,
   "metadata": {
    "scrolled": true
   },
   "outputs": [
    {
     "name": "stderr",
     "output_type": "stream",
     "text": [
      "/Users/nj995/anaconda3/lib/python3.6/site-packages/IPython/core/interactiveshell.py:2698: DtypeWarning: Columns (0,1,2,3,7,8) have mixed types. Specify dtype option on import or set low_memory=False.\n",
      "  interactivity=interactivity, compiler=compiler, result=result)\n"
     ]
    }
   ],
   "source": [
    "application = pd.read_csv('../../data/USPTO/application.tsv', sep = '\\t')\n",
    "assignee = pd.read_csv('../../data/USPTO/assignee.tsv', sep = '\\t')\n",
    "# location= pd.read_csv('../../data/USPTO/location.tsv', sep = '\\t')\n",
    "# location_assignee = pd.read_csv('../../data/USPTO/location_assignee.tsv', sep = '\\t')\n",
    "# location_inventor= pd.read_csv('../../data/USPTO/location_inventor.tsv', sep = '\\t')\n",
    "patent_assignee = pd.read_csv('../../data/USPTO/patent_assignee.tsv', sep = ',')\n",
    "# raw_assignee = pd.read_csv('../../data/USPTO/rawassignee.tsv', sep = ',')"
   ]
  },
  {
   "cell_type": "code",
   "execution_count": 3,
   "metadata": {
    "collapsed": true
   },
   "outputs": [],
   "source": [
    "del application['id_transformed']\n",
    "del application['number_transformed']\n",
    "del application['series_code_transformed_from_type']\n",
    "application['patent_number'] = application['patent_id']\n",
    "del application['patent_id']\n",
    "patent_assignee['patent_number'] = patent_assignee['patent_id']\n",
    "del patent_assignee['patent_id']\n",
    "assignee['assignee_id'] = assignee['id']\n",
    "del assignee['id']\n",
    "del assignee['type']"
   ]
  },
  {
   "cell_type": "code",
   "execution_count": 4,
   "metadata": {
    "collapsed": true
   },
   "outputs": [],
   "source": [
    "df = application.copy()"
   ]
  },
  {
   "cell_type": "code",
   "execution_count": 5,
   "metadata": {
    "collapsed": true
   },
   "outputs": [],
   "source": [
    "df = pd.merge(df, patent_assignee, how = 'left', on = 'patent_number')\n",
    "df = pd.merge(df, assignee, how = 'left', on = 'assignee_id')"
   ]
  },
  {
   "cell_type": "markdown",
   "metadata": {
    "collapsed": true
   },
   "source": [
    "___ Caution: Merging on assignee information duplicates lines because some patents are assigned to several assignees. ___\n",
    "\n",
    "___Do we want to assign every patent to a single assignee? ___"
   ]
  },
  {
   "cell_type": "code",
   "execution_count": 8,
   "metadata": {
    "collapsed": true,
    "scrolled": false
   },
   "outputs": [],
   "source": [
    "df.to_csv('../../data/USPTO/patent_data.csv', index = False)"
   ]
  },
  {
   "cell_type": "code",
   "execution_count": null,
   "metadata": {
    "collapsed": true
   },
   "outputs": [],
   "source": []
  }
 ],
 "metadata": {
  "kernelspec": {
   "display_name": "Python 3",
   "language": "python",
   "name": "python3"
  },
  "language_info": {
   "codemirror_mode": {
    "name": "ipython",
    "version": 3
   },
   "file_extension": ".py",
   "mimetype": "text/x-python",
   "name": "python",
   "nbconvert_exporter": "python",
   "pygments_lexer": "ipython3",
   "version": "3.6.2"
  }
 },
 "nbformat": 4,
 "nbformat_minor": 2
}
