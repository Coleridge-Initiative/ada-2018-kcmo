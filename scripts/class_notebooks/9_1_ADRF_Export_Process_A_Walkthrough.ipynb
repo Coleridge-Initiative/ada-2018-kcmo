{
 "cells": [
  {
   "cell_type": "markdown",
   "metadata": {},
   "source": [
    "**_ How to Export Files: The ADRF Export Process _**"
   ]
  },
  {
   "cell_type": "markdown",
   "metadata": {
    "toc": true
   },
   "source": [
    "<h1>Table of Contents<span class=\"tocSkip\"></span></h1>\n",
    "<div class=\"toc\" style=\"margin-top: 1em;\"><ul class=\"toc-item\"><li><span><a href=\"#Export-Guidelines\" data-toc-modified-id=\"Export-Guidelines-1\"><span class=\"toc-item-num\">1&nbsp;&nbsp;</span>Export Guidelines</a></span></li><li><span><a href=\"#Initiate-Export-Process\" data-toc-modified-id=\"Initiate-Export-Process-2\"><span class=\"toc-item-num\">2&nbsp;&nbsp;</span>Initiate Export Process</a></span></li><li><span><a href=\"#Prepare-Export\" data-toc-modified-id=\"Prepare-Export-3\"><span class=\"toc-item-num\">3&nbsp;&nbsp;</span>Prepare Export</a></span></li><li><span><a href=\"#Submit-Export\" data-toc-modified-id=\"Submit-Export-4\"><span class=\"toc-item-num\">4&nbsp;&nbsp;</span>Submit Export</a></span></li><li><span><a href=\"#Merge-Request\" data-toc-modified-id=\"Merge-Request-5\"><span class=\"toc-item-num\">5&nbsp;&nbsp;</span>Merge Request</a></span><ul class=\"toc-item\"><li><span><a href=\"#Create-a-New-Merge-Request\" data-toc-modified-id=\"Create-a-New-Merge-Request-5.1\"><span class=\"toc-item-num\">5.1&nbsp;&nbsp;</span>Create a New Merge Request</a></span></li><li><span><a href=\"#Select-the-Correct-Branches\" data-toc-modified-id=\"Select-the-Correct-Branches-5.2\"><span class=\"toc-item-num\">5.2&nbsp;&nbsp;</span>Select the Correct Branches</a></span></li><li><span><a href=\"#Fill-out-the-Form-and-Submit-the-Request\" data-toc-modified-id=\"Fill-out-the-Form-and-Submit-the-Request-5.3\"><span class=\"toc-item-num\">5.3&nbsp;&nbsp;</span>Fill out the Form and Submit the Request</a></span></li></ul></li><li><span><a href=\"#Approval-of-Export-Request\" data-toc-modified-id=\"Approval-of-Export-Request-6\"><span class=\"toc-item-num\">6&nbsp;&nbsp;</span>Approval of Export Request</a></span></li><li><span><a href=\"#Amendment-of-Export-Request\" data-toc-modified-id=\"Amendment-of-Export-Request-7\"><span class=\"toc-item-num\">7&nbsp;&nbsp;</span>Amendment of Export Request</a></span></li></ul></div>"
   ]
  },
  {
   "cell_type": "markdown",
   "metadata": {},
   "source": [
    "This notebook shows you how to export files from the ADRF. All your exports have to follow this procedure.The ADRF team is working as fast as possible to send you back your results as quickly as possible. Please keep in mind that the export will go more smoothly the more documentation you provide us, and if you prepare your exports according the export guidelines (see Data Privacy and Confidentiality notebook). Depending on how many files you wnat to export the time for export review varies. Thus, we ask you to only export output that you need for you presentation/project report. You can ask all questions related to export on the slack #export-request channel. "
   ]
  },
  {
   "cell_type": "markdown",
   "metadata": {},
   "source": [
    "# Export Guidelines\n",
    "Please read the export guidelines carefully and make sure your code and the material (files, tables, graphs, etc.) which you want to export is in compliance with it. You can find the [export guidelines here](https://applieddataanalyticsprogram.org/export-requests). The most important facts to keep in mind:\n",
    "- All resultes that want to be exported must have an underliying population of 10 indiviuals\n",
    "- For all results being exported you are responsible to show that the statistic is based on 10 or more people\n",
    "- If you export graphs you need to provide the underlying data for the graph. You need to show that every data point you plot is based on 10 ore more observations\n",
    "- Regressions/machine learning: please provide the number of total observations going into the regressions. If your features are dummies please provide frequency counts for each dummy after the regression so we can see how many observations go on each value"
   ]
  },
  {
   "cell_type": "markdown",
   "metadata": {},
   "source": [
    "# Initiate Export Process\n",
    "Once the material you want to export is ready you can initiate an export request. There are three steps, detailed below, which you will need to complete to submit an export request: (1) prepare your export request, (2) submit your export request, and (3) create a merge request on GitLab for your export request. You will find two icons on your desktop \"PrepareExport\" and \"SubmitExport\".\n",
    "\n",
    "![Alt text](./s/icons.png)"
   ]
  },
  {
   "cell_type": "markdown",
   "metadata": {},
   "source": [
    "# Prepare Export\n",
    "Start your export by clicking on the  \"PrepareExport\" icon on your desktop. This will open following terminal window:\n",
    "\n",
    "![Alt text](./s/prepare.png)\n",
    "\n",
    "The window will display all the projects you are a member of. Please select the project you want to export files for. You can see all your projects listed with a number. Please type in the number associated with the project you want to export files for and press enter. The script will clone your export repository (if necessary) and generate a new branch for the export which has the name \"export-username-date\". The export folder is located in your home directory. You will have one folder for each project. You will find two subfolders \"input\" and \"output\" in the export folder.\n",
    "\n",
    "![Alt text](./s/Folders.png)\n",
    "\n",
    "Now you can drag and drop the files you want to export in the corresponding folders ([see export guidelines](https://applieddataanalyticsprogram.org/export-requests):\n",
    "- Input folder: please save all files you used to create the files you are asking to export. This includes all code files and any other documentation you want to provide with your results.\n",
    "- Export folder: all files that you want to export go in this folder. Any format is allowed. Please remember that if you request graphs we need a csv or txt file showing the numbers behind the graph. If you want to export a juypter notebook please clear any data in the notebook before exporting.\n",
    "\n",
    "When you are done with copying the files needed for the export you can close the windows and submit the export by running \"SubmitExport\"."
   ]
  },
  {
   "cell_type": "markdown",
   "metadata": {},
   "source": [
    "# Submit Export\n",
    "After preparing the export you need to click on the icon \"SubmitExport\" which will open following terminal window for you:\n",
    "\n",
    "![Alt text](./s/submit.png)\n",
    "\n",
    "As in the export preparation you will have to make a decision for which project you want to submit the request. Enter the number associated with the project you want to submit. Then you will be asked to enter your user name and password for GitLab.\n",
    "\n",
    "After entering your GitLab account info your export request will be pushed to the respective project export folder and GitLab will open so you can complete the export. The export request is labeled with \"export-username-date\"."
   ]
  },
  {
   "cell_type": "markdown",
   "metadata": {},
   "source": [
    "# Merge Request\n",
    "In order to complete your export request and notify ADRF you need to submit a merge request through GitLab. The following screenshots will walk you through the submission of a merge request.\n",
    "\n",
    "## Create a New Merge Request\n",
    "GitLab will open directly on the merge request tab. Please always click \"New Merge Request\", not the blue box which says Create Merge Request.\n",
    "\n",
    "![Alt text](./s/gitlab2.png)\n",
    "\n",
    "## Select the Correct Branches\n",
    "Now you have to select the source and target branch.\n",
    "\n",
    "![Alt text](./s/gitlab3.png)\n",
    "\n",
    "- The source branch field on the left shows the name of your export project repository. The right field shows the export you submitted. If you click on it it will open a drop down menu. Please select the most recent submission you want to export (\"export-username-date\").\n",
    "- The target branch field on the left should display the same project repository as in the source branch field. Master should be selected on the right field.\n",
    "\n",
    "Please make sure that you selected the correct branches before you click \"Compare branches and Continue\".\n",
    "\n",
    "## Fill out the Form and Submit the Request\n",
    "Now you can complete the export form and click \"Submit Merge Request\":\n",
    "- Title: Please fill in the title with \"export-username-date\"\n",
    "- Description: Please provide us with a description of what you are exporting. The more details you provide the easier it is to understand what you did in your analyses. Think about the information someone who is not familiar with your project needs to know to understand your research.\n",
    "- Assignee/Milestones/Labels: You can leave these fields as they are\n",
    "- Source branch: Should be the branch that you submitted for export (\"export-username-date\")\n",
    "- Target branch: Please make sure that master is selected.\n",
    "\n",
    "![Alt text](./s/gitlab4.png)"
   ]
  },
  {
   "cell_type": "markdown",
   "metadata": {},
   "source": [
    "# Approval of Export Request\n",
    "Now the export was submitted. The ARDF will be in touch with you and send you a download link if your export is approved. The export request will be protected and you can not make any changes to this export request. If you need more output you need to submit a new export request following the outlined procedure."
   ]
  },
  {
   "cell_type": "markdown",
   "metadata": {},
   "source": [
    "# Amendment of Export Request\n",
    "In case your export is not approved the ADRF staff will contact you and ask you to make the appropriate changes and submit an amendment to your existing export request. You can make the requested changes and drag and drop the changed file in the export folder associated with the export. Then click the \"SubmitExport\" icon and submit a new merge request as outlined. You do not have to run \"PrepareExport\" for resubmissions.\n",
    "\n",
    "We will try to make export turnaround as fast as possible, but in order to do that, it will be necessary to keep the number of the export requests at a minimum."
   ]
  },
  {
   "cell_type": "code",
   "execution_count": null,
   "metadata": {
    "collapsed": true
   },
   "outputs": [],
   "source": []
  }
 ],
 "metadata": {
  "kernelspec": {
   "display_name": "Python 2",
   "language": "python",
   "name": "python2"
  },
  "language_info": {
   "codemirror_mode": {
    "name": "ipython",
    "version": 2
   },
   "file_extension": ".py",
   "mimetype": "text/x-python",
   "name": "python",
   "nbconvert_exporter": "python",
   "pygments_lexer": "ipython2",
   "version": "2.7.12"
  },
  "toc": {
   "nav_menu": {},
   "number_sections": true,
   "sideBar": true,
   "skip_h1_title": false,
   "toc_cell": true,
   "toc_position": {},
   "toc_section_display": "block",
   "toc_window_display": true
  }
 },
 "nbformat": 4,
 "nbformat_minor": 2
}
