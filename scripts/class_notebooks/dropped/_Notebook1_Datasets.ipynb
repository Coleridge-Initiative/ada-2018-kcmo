{
 "cells": [
  {
   "cell_type": "markdown",
   "metadata": {},
   "source": [
    "## Introduction to datasets\n",
    "1. IL Department of Corrections\n",
    "  * admissions\n",
    "  * exits\n",
    "2. IL parole data\n",
    "3. Wage record data\n",
    "4. HUD data"
   ]
  },
  {
   "cell_type": "markdown",
   "metadata": {},
   "source": [
    "### IL Department of Corrections\n",
    "**Admissions** data - has a record for when each person was incarcerated and many other data points (~200 columns, described in excel book `PRSN_COLUMN_MAP.xlsx` on tab `admit`), admission dates range from 1946 to 2015"
   ]
  },
  {
   "cell_type": "markdown",
   "metadata": {},
   "source": [
    "**Exits** data - has a record for when each person exited a prison, detailed description also in excel book `PRSN_COLUMN_MAP.xlsx` on tab `exit`"
   ]
  },
  {
   "cell_type": "code",
   "execution_count": null,
   "metadata": {
    "collapsed": true
   },
   "outputs": [],
   "source": []
  }
 ],
 "metadata": {
  "kernelspec": {
   "display_name": "Python 3",
   "language": "python",
   "name": "python3"
  },
  "language_info": {
   "codemirror_mode": {
    "name": "ipython",
    "version": 3
   },
   "file_extension": ".py",
   "mimetype": "text/x-python",
   "name": "python",
   "nbconvert_exporter": "python",
   "pygments_lexer": "ipython3",
   "version": "3.4.3"
  }
 },
 "nbformat": 4,
 "nbformat_minor": 0
}
