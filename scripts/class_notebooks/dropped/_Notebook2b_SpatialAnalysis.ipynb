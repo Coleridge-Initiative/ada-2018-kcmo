{
 "cells": [
  {
   "cell_type": "markdown",
   "metadata": {
    "collapsed": true
   },
   "source": [
    "## Introduction to Spatial Analysis\n",
    "\n",
    "Learning objective 1: acquire a basic understaning of\n",
    "1. Spatial data - eg, what constitutes spatial data? What are examples and types?\n",
    "2. Spatial data projections / coordinate reference systems\n",
    "2. Using spatial data - simple approaches to seeing what your data includes (tie back into overall day’s goals of [a] understanding our data and [b] getting more comfortable with Python)\n",
    "3. Spatial computation  \n",
    "  * Spatial join (point in polygon)\n",
    "  * Spatial aggregation (polygon -> polygon, + regionalization? maybe a note, revisit on Privacy day?)\n",
    "3. Spatial analysis  \n",
    "  * Spatial Autocorrelation\n",
    "  * ..."
   ]
  },
  {
   "cell_type": "markdown",
   "metadata": {},
   "source": [
    "## 10 min framing of spatial thinking\n",
    "- posing a question\n",
    "- working through analyses, re-visting spatial analyses throughout\n",
    "- ESDA + spatial modeling\n",
    "\n",
    "\n",
    "* from Geographic Information Systems (GIS) to GIScience"
   ]
  },
  {
   "cell_type": "markdown",
   "metadata": {},
   "source": [
    "## Table of Contents\n",
    "1. Overview of [spatial data types](#Spatial-data-types)\n",
    "2. [Datasets]() in this Notebook\n",
    "2. [Choropleth maps](#Choropleths)\n",
    "2. [Coordinate Reference Systems (aka projections)](#Coordinate-Reference-Systems)\n",
    "2. [Exploratory Spatial Data Analysis](#Exploratory-spatial-data-analysis)"
   ]
  },
  {
   "cell_type": "markdown",
   "metadata": {},
   "source": [
    "### Spatial data types\n",
    "\n",
    "- Back to [Table of Contents](#Table-of-Contents)\n",
    "\n",
    "There are two generic spatial data types:\n",
    "1. **Vector** - discrete data (usually), represented by points, lines, and polygons\n",
    "2. **Raster** - continuous data (usually), generally represented as square pixels where each pixel (or \"grid cell\") has some value. Examples of raster data - link to \"big data\"\n",
    "  * Imagery data (satellite, Google SteetView, traffic cameras, Placemeter)\n",
    "  * Surface data (collected at monitoring stations then interpolated to a 'surface' - eg Array of Things, weather data)\n",
    "  \n",
    "However, raster data is commonly used in few social science contexts, so the below image (courtesy of [Data Science for Social Good](https://github.com/geebioso/postgis-workshop/blob/master/tutorial.org)) is probably sufficiet discussion about rasters for now:\n",
    "![raster](../../data/sample_data/raster_example.png)\n",
    "\n",
    "> Notice the pesky _\"usually\"_ next to both vector and raster datatypes? Technically any data **_could_** be represented as either vector or raster, but it would be computationally inefficient to create a raster layer of rivers or roads across Illinois because \n",
    "1. All the non-road and non-river locations would still have some value and \n",
    "2. You would have to pick a cell size which may not well represent the actual course of a given river (as opposed to a vector - line - that follows a path and could have some value for width of the river or road)\n",
    "\n",
    "\n",
    "\n"
   ]
  },
  {
   "cell_type": "markdown",
   "metadata": {},
   "source": [
    "### Datasets\n",
    "\n",
    "- Back to [Table of Contents](#Table-of-Contents)\n",
    "\n",
    "Datasets used in this Notebook\n",
    "1. [Illinois State Prisons](https://www.google.com/maps/d/u/0/viewer?mid=12vPv_cWo8H-exJs_zD5E4HCnyEA&hl=en_US&ll=39.65011658688028%2C-89.16519449999998&z=7) - point dataset of state prisons\n",
    "2. [US Counties](https://www.census.gov/geo/maps-data/data/tiger-line.html) - polygons of counties from US Census's TIGER\\Lines product\n",
    "\n",
    "+ Data collection - at what spatial scale were data collected\n",
    "+ Data have already been aggregated, considerations\n",
    "  * aggregating to different spatial units could give different results"
   ]
  },
  {
   "cell_type": "code",
   "execution_count": null,
   "metadata": {},
   "outputs": [],
   "source": [
    "# location of data\n",
    "data_dir_1 = '../../data/sample_data/'"
   ]
  },
  {
   "cell_type": "code",
   "execution_count": null,
   "metadata": {},
   "outputs": [],
   "source": [
    "# list files (with details) in data_dir_1:\n",
    "!ls -lh {data_dir_1}"
   ]
  },
  {
   "cell_type": "markdown",
   "metadata": {},
   "source": [
    "quick description of shapefile\n",
    "1. required files\n",
    "2. additional / optional files\n",
    "\n",
    "Other common format types:\n",
    "1. GeoJSON\n",
    "2. KML\n",
    "3. "
   ]
  },
  {
   "cell_type": "code",
   "execution_count": null,
   "metadata": {
    "collapsed": true
   },
   "outputs": [],
   "source": [
    "## data manipulation libraries ##\n",
    "# Pandas for generic manipulation\n",
    "import pandas as pd\n",
    "# GeoPandas for spatial data manipulation\n",
    "import geopandas as gpd\n",
    "# PySAL for spatial statistics\n",
    "import pysal as ps\n",
    "# shapely for specific spatial data tasks (GeoPandas uses Shapely objects)\n",
    "from shapely.geometry import Point, LineString, Polygon\n",
    "\n",
    "# SQLAlchemy to get some data from the database\n",
    "from sqlalchemy import create_engine\n",
    "\n",
    "# improve control of visualizations\n",
    "import matplotlib.pyplot as plt\n",
    "%matplotlib inline"
   ]
  },
  {
   "cell_type": "code",
   "execution_count": null,
   "metadata": {
    "collapsed": true
   },
   "outputs": [],
   "source": [
    "# read in IL prison locations\n",
    "il_prisons = gpd.read_file('{}IL_prisons.shp'.format(data_dir_1))"
   ]
  },
  {
   "cell_type": "code",
   "execution_count": null,
   "metadata": {},
   "outputs": [],
   "source": [
    "# what info is contained in this file?\n",
    "il_prisons.info()"
   ]
  },
  {
   "cell_type": "code",
   "execution_count": null,
   "metadata": {},
   "outputs": [],
   "source": [
    "il_prisons.head()"
   ]
  },
  {
   "cell_type": "code",
   "execution_count": null,
   "metadata": {},
   "outputs": [],
   "source": [
    "# what does a simple map of those locations look like? \n",
    "# Note that you can pass matplotlib keywords to (geo)pandas, like figsize\n",
    "il_prisons.plot(figsize=(6,8));"
   ]
  },
  {
   "cell_type": "markdown",
   "metadata": {},
   "source": [
    "> There's some dots. Not super useful, but we can see by the longitude (x axis) and latitude (y axis) they're where we'd expect for Illinois. Let's add IL counites too to give some context"
   ]
  },
  {
   "cell_type": "code",
   "execution_count": null,
   "metadata": {},
   "outputs": [],
   "source": [
    "# we'll revisit the code below in depth when we talk about databases so don't worry about it for now\n",
    "\n",
    "# create DB connection\n",
    "engine = create_engine(\"postgresql:///df_spatial\")\n",
    "# create SQL query - limit to just IL by using the state FIPS code of 17\n",
    "sql = \"SELECT * FROM tl_2016_us_county WHERE statefp = '17';\"\n",
    "# get data from DB\n",
    "il_counties = gpd.read_postgis(sql, engine, geom_col='geom', index_col='gid')\n",
    "\n",
    "# see info of new geodataframe\n",
    "il_counties.info()"
   ]
  },
  {
   "cell_type": "code",
   "execution_count": null,
   "metadata": {},
   "outputs": [],
   "source": [
    "# plot counties - all defaults, adds colors essentially randomly based on order of shapes in the dataframe\n",
    "il_counties.plot()"
   ]
  },
  {
   "cell_type": "code",
   "execution_count": null,
   "metadata": {},
   "outputs": [],
   "source": [
    "# now let's try putting the prison locations on top of counties, and let's make counties grey\n",
    "# note we assign counties to the object \"ax\" so we can overlay the prisons on the same \"matplotlib axis\"\n",
    "\n",
    "# create a map of IL counties colored grey\n",
    "ax = il_counties.plot(color='grey', figsize=(6,8))\n",
    "\n",
    "# use the same \"ax\" object to plot the prisons on top of the county map, \n",
    "# plus resize the markers and remove their outlines\n",
    "il_prisons.plot(ax=ax, markersize=10, markeredgewidth=0); \n",
    "# pro tip: adding this semi-colon at the end stops Jupyter from printing out the \"<matplotlib.axes....>\" line"
   ]
  },
  {
   "cell_type": "markdown",
   "metadata": {},
   "source": [
    "### Choropleths\n",
    "\n",
    "- Back to [Table of Contents](#Table-of-Contents)\n",
    "\n",
    "Choropleths are super useful because they can quickly convey how values compare across the study area. Let's start wtih a simple example of the land area of each county. (Note much of the code below comes from Sergio and Dani's [Geovisualization](http://darribas.org/gds_scipy16/ipynb_md/02_geovisualization.html) notebook)\n",
    "\n",
    "+ update the below to map #ex-offenders by zipcode, by % of population"
   ]
  },
  {
   "cell_type": "code",
   "execution_count": null,
   "metadata": {},
   "outputs": [],
   "source": [
    "# we'll create our matplotlib figure and axis first so we have more control over it later\n",
    "f, ax = plt.subplots(figsize=(6,8))\n",
    "\n",
    "# we'll pass geopandas the column, scheme (calculation method), number of groups to calculate (k)\n",
    "# colormap to use, linewidge (to make the edges less noticeable), and the axis object created above\n",
    "il_counties.plot(column='aland', scheme='QUANTILES', k=10, cmap='OrRd', linewidth=0.1, ax=ax)\n",
    "\n",
    "# and this time we'll turn off the\n",
    "ax.set_axis_off();"
   ]
  },
  {
   "cell_type": "markdown",
   "metadata": {},
   "source": [
    "> as you can see, Geopandas only allows using the \"quantiles\" (or any other [scheme supported by PySAL](http://pysal.readthedocs.io/en/latest/library/esda/mapclassify.html)) to use between 2 and 9 and if you try soemthing different, it resets to 5\n",
    "\n",
    "So here is how you can use more categories for your choropleths: create a new column with the appropriate PySAL function and map that, as follows."
   ]
  },
  {
   "cell_type": "code",
   "execution_count": null,
   "metadata": {},
   "outputs": [],
   "source": [
    "# let's try the 'Fisher_Jenks' scheme:\n",
    "fj10 = ps.Fisher_Jenks(il_counties.aland,k=10)\n",
    "\n",
    "# the ps.<scheme> function returns two things, the bins used for the cutoffs:\n",
    "print('bins:')\n",
    "print(fj10.bins)\n",
    "# and the assigned bin number to use:\n",
    "print('\\nbin number:')\n",
    "print(fj10.yb)"
   ]
  },
  {
   "cell_type": "code",
   "execution_count": null,
   "metadata": {},
   "outputs": [],
   "source": [
    "# now we can use the new categories to color the choropleth of land area into 10 buckets\n",
    "# notice the couple new keywords we include\n",
    "\n",
    "# again we'll create the matplotlib figure and axis objects first\n",
    "f, ax = plt.subplots(figsize=(6, 8))\n",
    "\n",
    "# then create our choropleth, the \"assign\" function adds our Fisher Jenks buckets as a new column to map\n",
    "# the 'categorical'\n",
    "il_counties.assign(cl=fj10.yb).plot(column='cl', categorical=True, \\\n",
    "        k=10, cmap='OrRd', linewidth=0.1, ax=ax, \\\n",
    "        edgecolor='white', legend=True)\n",
    "# turn off the latitude/longitude axes\n",
    "ax.set_axis_off();"
   ]
  },
  {
   "cell_type": "code",
   "execution_count": null,
   "metadata": {
    "collapsed": true
   },
   "outputs": [],
   "source": []
  },
  {
   "cell_type": "markdown",
   "metadata": {},
   "source": [
    "**Placeholder for choropleths** of ex-offenders. Choropleths will be\n",
    "1. Total ex-offenders by zipcode for a certain year -> would require aggregating by zipcode\n",
    "2. Rate of ex-offenders as compared to the population \n",
    "  * and compared to _working_ population -> question: \"normalize rates with small denominators\"?\n",
    "3. Change in ex-offenders by county from one year to the next (or 5 year chunk?)"
   ]
  },
  {
   "cell_type": "code",
   "execution_count": null,
   "metadata": {
    "collapsed": true
   },
   "outputs": [],
   "source": []
  },
  {
   "cell_type": "markdown",
   "metadata": {},
   "source": [
    "### Coordinate Reference Systems\n",
    "\n",
    "- Back to [Table of Contents](#Table-of-Contents)\n",
    "\n",
    "Coordinate Reference Systems (aka projections) are basically math that (1) describes how information in a given dataset relates to the rest of the world and (2) usually creates a 'flat' surface on which data can be analyzed using more common algorithms (eg Euclidean geometry). \n",
    "\n",
    ">Why do we care?\n",
    "1. Distance / area measurements\n",
    "2. Spatial join - won't work with different CRS\n",
    "\n",
    "\n",
    "As an example of point 2, consider the distance between two points: Euclidean distance (aka pythagorean theorem) provides an easy way to calculate distance so long as we know the difference in **_x_** (longitude) and **_y_** (latitude) between two points:\n",
    "$$Distance   = \\sqrt(({x}_1-{x}_2)^2 + ({y}_1-{y}_2)^2)$$\n",
    "\n",
    "This works fine on **_correctly projected_** data, but **_does not work_** on unprojected data. For one thing the result would be in degrees and degrees are a different distance apart (in terms of meters or miles) at different points on the Earth's surface.\n",
    "\n",
    "All this is to say: if you do a calculation with geographic data and the numbers don't make sense, check the projection. Let's do an example with the IL county areas."
   ]
  },
  {
   "cell_type": "code",
   "execution_count": null,
   "metadata": {},
   "outputs": [],
   "source": [
    "# print out the CRS of IL counties:\n",
    "print(il_counties.crs)"
   ]
  },
  {
   "cell_type": "markdown",
   "metadata": {},
   "source": [
    "so first, it needs to be set (I'd guess GeoPandas will appropriately set from a database in the future). If we look it up in the database we'll see that it's WGS84 (World Geodesic Survey 1984), which has the [EPSG](www.epsg.org) (European Petroleum Survey Group) code of 4326."
   ]
  },
  {
   "cell_type": "code",
   "execution_count": null,
   "metadata": {},
   "outputs": [],
   "source": [
    "# set the counties crs to 4326\n",
    "il_counties.crs = {'init': u'epsg:4326'}\n",
    "\n",
    "# print it out\n",
    "print(il_counties.crs)"
   ]
  },
  {
   "cell_type": "code",
   "execution_count": null,
   "metadata": {
    "collapsed": true
   },
   "outputs": [],
   "source": [
    "# let's check out the area calculated using Pandas with WGS84\n",
    "il_counties['area_wgs84'] = il_counties.geom.area"
   ]
  },
  {
   "cell_type": "code",
   "execution_count": null,
   "metadata": {},
   "outputs": [],
   "source": [
    "# view the first 5 records' aland and calculated area with WGS84:\n",
    "il_counties.loc[:,('aland', 'area_wgs84')].head()"
   ]
  },
  {
   "cell_type": "markdown",
   "metadata": {},
   "source": [
    "Clearly not the same. We can look for other projections at a number of websites, but a good one is [epsg.io](www.epsg.io). let's use the US National Atlas Equal Area projection (epsg=2163), which is a meters based equal area projection."
   ]
  },
  {
   "cell_type": "code",
   "execution_count": null,
   "metadata": {},
   "outputs": [],
   "source": [
    "# transform aka re-project the data (use the \"inplace=True\" flag to perform the operation on this Geodataframe)\n",
    "il_counties.to_crs(epsg=2163, inplace=True)\n",
    "\n",
    "# print out the CRS to see it worked\n",
    "print(il_counties.crs)"
   ]
  },
  {
   "cell_type": "code",
   "execution_count": null,
   "metadata": {},
   "outputs": [],
   "source": [
    "# and let's calculate the area with the new CRS\n",
    "il_counties['area_2163'] = il_counties.geom.area\n",
    "\n",
    "# and again check the head() of the data, with all 3 area columns:\n",
    "il_counties.loc[:,('aland', 'area_wgs84', 'area_2163')].head()"
   ]
  },
  {
   "cell_type": "code",
   "execution_count": null,
   "metadata": {},
   "outputs": [],
   "source": [
    "# let's check if those small differences are just because we're only looking at land area, not full county area:\n",
    "il_counties['total_area'] = il_counties.aland + il_counties.awater\n",
    "\n",
    "# and recheck areas against total:\n",
    "il_counties.loc[:,('total_area', 'area_wgs84', 'area_2163')].head()"
   ]
  },
  {
   "cell_type": "markdown",
   "metadata": {},
   "source": [
    "> There are still some differences between our newly calculated area ('area_2163') and the total area that came in the data ('aland' + 'awater'), however we can see it's much closer than the wgs84 version. These small differences most likely mean that the area from Census was calculated using a different Coordinate Reference System."
   ]
  },
  {
   "cell_type": "markdown",
   "metadata": {},
   "source": [
    "### Exploratory spatial data analysis\n",
    "\n",
    "- Back to [Table of Contents](#Table-of-Contents)\n",
    "\n",
    "The below code is sourced mostly from Segio and Dani's notebook on [Spatial Exploratory Data Analysis](http://darribas.org/gds_scipy16/ipynb_md/04_esda.html)\n",
    "\n",
    "We will consider both the global and local spatial autocorrelation of where ex-offenders locate when leaving IL prisons\n",
    "\n",
    "First some explanations.\n",
    "\n",
    "** Global spatial autocorrelation ** (maybe skip this b/c limited time)\n",
    "\n",
    "\n",
    "** Local spatial autocorrelation **\n",
    "- getis-ord G* -> include difference between visualizing rate and cluster results, hotspots\n",
    "\n",
    "Is there correlation of variables across space - ex-offenders, housing, wages "
   ]
  },
  {
   "cell_type": "code",
   "execution_count": null,
   "metadata": {
    "collapsed": true
   },
   "outputs": [],
   "source": []
  }
 ],
 "metadata": {
  "kernelspec": {
   "display_name": "Python 2",
   "language": "python",
   "name": "python2"
  },
  "language_info": {
   "codemirror_mode": {
    "name": "ipython",
    "version": 2
   },
   "file_extension": ".py",
   "mimetype": "text/x-python",
   "name": "python",
   "nbconvert_exporter": "python",
   "pygments_lexer": "ipython2",
   "version": "2.7.12"
  }
 },
 "nbformat": 4,
 "nbformat_minor": 1
}
