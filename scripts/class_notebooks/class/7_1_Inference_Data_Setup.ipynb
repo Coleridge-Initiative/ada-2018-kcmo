{
 "cells": [
  {
   "cell_type": "code",
   "execution_count": null,
   "metadata": {
    "collapsed": true
   },
   "outputs": [],
   "source": [
    "%pylab inline\n",
    "import pandas as pd\n",
    "import psycopg2\n",
    "import psycopg2.extras\n",
    "import sklearn\n",
    "import seaborn as sns\n",
    "from sklearn.cross_validation import train_test_split\n",
    "from sklearn.ensemble import (RandomForestClassifier, ExtraTreesClassifier,\n",
    "                              GradientBoostingClassifier,\n",
    "                              AdaBoostClassifier)\n",
    "from sklearn.linear_model import LogisticRegression, SGDClassifier\n",
    "from sklearn.metrics import precision_recall_curve, auc\n",
    "from sklearn.metrics import accuracy_score, precision_score, recall_score\n",
    "from sklearn.naive_bayes import GaussianNB\n",
    "from sklearn.tree import DecisionTreeClassifier\n",
    "import sqlalchemy\n",
    "sns.set_style(\"white\")"
   ]
  },
  {
   "cell_type": "code",
   "execution_count": null,
   "metadata": {
    "collapsed": true
   },
   "outputs": [],
   "source": [
    "# schema name\n",
    "schema = \"class2\"\n",
    "\n",
    "# ==> database table names - just like file names above, store reused database information in variables here.\n",
    "\n",
    "# work table name\n",
    "table = \"for_inference_example\"\n",
    "\n",
    "print( \"Database variables initialized at \" + str( datetime.datetime.now() ) )"
   ]
  },
  {
   "cell_type": "code",
   "execution_count": null,
   "metadata": {
    "collapsed": true
   },
   "outputs": [],
   "source": [
    "db_name = \"appliedda\"\n",
    "hostname = \"10.10.2.10\"\n",
    "conn = psycopg2.connect(database=db_name, host = hostname) #database connection\n",
    "cursor = conn.cursor()"
   ]
  },
  {
   "cell_type": "markdown",
   "metadata": {},
   "source": [
    "First, select Head of Household information, including geocodes and member info. Then, add on spells."
   ]
  },
  {
   "cell_type": "code",
   "execution_count": null,
   "metadata": {
    "collapsed": true
   },
   "outputs": [],
   "source": [
    "##DO NOT RERUN UNLESS CHANGING VARIABLES/PARAMETERS BELOW\n",
    "conn.rollback()\n",
    "sql_hhspells = \"\"\"CREATE TEMP TABLE hhspells AS \n",
    "                SELECT a.*, b.start_date, b.end_date, b.benefit_type, b.ch_dpa_caseid\n",
    "                FROM idhs.hh_member a LEFT JOIN idhs.hh_indcase_spells b ON a.recptno = b.recptno \n",
    "                WHERE end_date BETWEEN '2013-01-01' AND '2013-12-31';\"\"\"\n",
    "sql_hhselect1 = \"\"\"CREATE TEMP TABLE hhinfo AS \n",
    "                SELECT a.*, b.edlevel, b.health, b.martlst, b.workexp\n",
    "                FROM hhspells a LEFT JOIN idhs.member_info b \n",
    "                ON a.ch_dpa_caseid=b.ch_dpa_caseid AND a.recptno=b.recptno;\"\"\"\n",
    "sql_hhselect2 = \"\"\"CREATE TEMP TABLE hhinfo2 AS \n",
    "                SELECT a.*, b.lng_x, b.lat_y, b.geom, b.geom_2163, b.county_fips_10_nbr, \n",
    "                b.tract_fips_10_nbr, b.place_10_nm\n",
    "                FROM hhinfo a LEFT JOIN idhs.case_geocode b \n",
    "                ON a.ch_dpa_caseid=b.ch_dpa_caseid;\"\"\"\n",
    "sql_hhselect3 = \"\"\"CREATE TEMP TABLE hhinfo3 AS \n",
    "                SELECT a.*, b.district, b.case_group, b.homeless\n",
    "                FROM hhinfo2 a LEFT JOIN idhs.assistance_case b \n",
    "                 ON a.ch_dpa_caseid=b.ch_dpa_caseid;\"\"\"\n",
    "\n",
    "cursor.execute(sql_hhspells)\n",
    "cursor.execute(sql_hhselect1)\n",
    "cursor.execute(sql_hhselect2)\n",
    "cursor.execute(sql_hhselect3)\n",
    "\n",
    "conn.commit()\n"
   ]
  },
  {
   "cell_type": "code",
   "execution_count": null,
   "metadata": {
    "collapsed": true
   },
   "outputs": [],
   "source": [
    "#DO NOT RERUN UNLESS RERUNNING THE ABOVE - IF SO, DROP TABLE FIRST!\n",
    "sql_createtable = \"\"\"CREATE TABLE class2.for_inference_example AS \n",
    "                SELECT * FROM hhinfo3;\n",
    "                \n",
    "                ALTER TABLE class2.for_inference_example\n",
    "                ADD COLUMN new_spell_win1yr INTEGER,\n",
    "                ADD COLUMN new_spell_win1yr_benefit INTEGER,\n",
    "                ADD COLUMN has_job_q1 INTEGER,\n",
    "                ADD COLUMN has_job_q2 INTEGER,\n",
    "                ADD COLUMN has_job_q3 INTEGER,\n",
    "                ADD COLUMN has_job_q4 INTEGER,\n",
    "                ADD COLUMN has_job_win1yr INTEGER,\n",
    "                ADD COLUMN lose_job_win1yr INTEGER,\n",
    "                ADD COLUMN wage_q1 REAL,\n",
    "                ADD COLUMN wage_q2 REAL,\n",
    "                ADD COLUMN wage_q3 REAL,\n",
    "                ADD COLUMN wage_q4 REAL,\n",
    "                ADD COLUMN total_wage_1yr REAL,\n",
    "                ADD COLUMN new_id SERIAL PRIMARY KEY;\n",
    "                \n",
    "                ALTER TABLE class2.for_inference_example\n",
    "                OWNER TO class2_admin;\n",
    "                GRANT ALL PRIVILEGES ON TABLE class2.for_inference_example TO class2_admin;\n",
    "                GRANT SELECT ON TABLE class2.for_inference_example TO class2_select;\n",
    "                \"\"\"\n",
    "cursor.execute(sql_createtable)\n",
    "conn.commit()"
   ]
  },
  {
   "cell_type": "code",
   "execution_count": null,
   "metadata": {
    "collapsed": true
   },
   "outputs": [],
   "source": [
    "conn.rollback()"
   ]
  },
  {
   "cell_type": "markdown",
   "metadata": {},
   "source": [
    "Now loop through all rows and update table with job variables"
   ]
  },
  {
   "cell_type": "code",
   "execution_count": null,
   "metadata": {
    "collapsed": true
   },
   "outputs": [],
   "source": [
    "select_statement = \"SELECT * FROM class2.for_inference_example WHERE total_wage_1yr IS NULL;\"\n",
    "row_cur = conn.cursor(cursor_factory=psycopg2.extras.DictCursor)\n",
    "qtr_cur = conn.cursor(cursor_factory=psycopg2.extras.DictCursor)\n",
    "update_cur = conn.cursor()\n",
    "\n",
    "row_cur.execute(select_statement)\n",
    "for row in row_cur:  #loop through each row (spell) of participation\n",
    "    \n",
    "    #initialize variables\n",
    "    new_spell_win1yr = 0\n",
    "    new_spell_win1yr_benefit = 0\n",
    "    has_job_win1yr = 0\n",
    "    lose_job_win1yr = 0\n",
    "    total_wage_1yr = 0\n",
    "\n",
    "    end_year = row['end_date'].year\n",
    "    # determine quarter from month of end_spell date\n",
    "    if row['end_date'].month < 4:\n",
    "        end_qtr = 1\n",
    "    elif row['end_date'].month < 7:\n",
    "        end_qtr = 2\n",
    "    elif row['end_date'].month < 10:\n",
    "        end_qtr = 3\n",
    "    else:\n",
    "        end_qtr = 4\n",
    "\n",
    "    #create a list (length 4) of dictionaries where each dict contains quarter info for 4 quarters after\n",
    "    # end_date so as to pull data from il_wage - different dates for each row/spell\n",
    "    oneyear = []\n",
    "    for i in range(0,4):\n",
    "        qtr_info={}\n",
    "        qtr_info['count'] = i+1\n",
    "        qtr_info['quarter'] = end_qtr + i\n",
    "        if qtr_info['quarter'] >= 5:\n",
    "            qtr_info['quarter'] = qtr_info['quarter'] - 4\n",
    "            qtr_info['year'] = end_year + 1\n",
    "        else:\n",
    "            qtr_info['year'] = end_year\n",
    "        oneyear.append(qtr_info)\n",
    "    ## END FOR LOOP - FOR I IN RANGE (0,4)\n",
    "\n",
    "    for qtr in oneyear:  #loop through the four quarters determined above\n",
    "        #initialize variables\n",
    "        has_job = 0;\n",
    "        wage = 0;\n",
    "        #select any wage data for this SSN, this quarter\n",
    "        qtr_emp_select = \"SELECT empr_no, wage FROM ides.il_wage_\" + str(qtr['year']) + \"q\" + str(qtr['quarter'])\n",
    "        qtr_emp_select += \" WHERE ssn LIKE '\" + str(row['ssn_hash']) + \"' \" \n",
    "        qtr_emp_select += \";\"\n",
    "        qtr_cur.execute(qtr_emp_select)\n",
    "        qtr_result = qtr_cur.fetchall()\n",
    "\n",
    "        if qtr_result: #if results are obtained\n",
    "            has_job = 1\n",
    "            has_job_win1yr = 1 #this global variable is set if any instance of has_job\n",
    "            for entry in qtr_result:\n",
    "                wage += entry['wage']\n",
    "        elif has_job_win1yr == 1:\n",
    "            lose_job_win1yr = 1 #set lose job if respondent previously had job indicator positive\n",
    "\n",
    "        #update quarter specific wage info\n",
    "        update_stmt = \"UPDATE \" + schema + \".\" + table\n",
    "        update_stmt += \" SET has_job_q\" + str(qtr['count']) + \" = \" + str(has_job) + \",\"\n",
    "        update_stmt += \" wage_q\" + str(qtr['count']) + \" = \" + str(wage) \n",
    "        update_stmt += \" WHERE new_id = \" + str(row['new_id']) + \";\"\n",
    "        update_cur.execute(update_stmt)\n",
    "\n",
    "        total_wage_1yr += wage\n",
    "    ## END FOR LOOP - FOR QTR IN YEAR\n",
    "\n",
    "    conn.commit() #commit the 4qtr updates\n",
    "\n",
    "    #update row specific wage info\n",
    "    tot_up_stmt = \"UPDATE \" + schema + \".\" + table\n",
    "    tot_up_stmt += \" SET has_job_win1yr = \" + str(has_job_win1yr) + \", \"\n",
    "    tot_up_stmt += \"lose_job_win1yr = \" + str(lose_job_win1yr) + \", \"\n",
    "    tot_up_stmt += \"total_wage_1yr = \" + str(total_wage_1yr)\n",
    "    tot_up_stmt += \" WHERE new_id = \" + str(row['new_id']) + \";\"\n",
    "\n",
    "    update_cur.execute(tot_up_stmt)\n",
    "    conn.commit() #commit row updates\n",
    "\n",
    "##END FOR LOOP - FOR ROW IN RESULT\n",
    "    "
   ]
  },
  {
   "cell_type": "code",
   "execution_count": null,
   "metadata": {
    "collapsed": true
   },
   "outputs": [],
   "source": [
    "select_statement = \"SELECT * FROM class2.for_inference_example WHERE total_wage_1yr IS NULL;\"\n",
    "row_cur = conn.cursor(cursor_factory=psycopg2.extras.DictCursor)\n",
    "bene_cur = conn.cursor(cursor_factory=psycopg2.extras.DictCursor)\n",
    "update_cur = conn.cursor()\n",
    "\n",
    "row_cur.execute(select_statement)\n",
    "for row in row_cur:  #loop through each row (spell) of participation\n",
    "    #initialize variables\n",
    "    new_spell_win1yr = 0\n",
    "    new_spell_win1yr_benefit = 0\n",
    "    \n",
    "    #get the date 1 year from end_date of spell\n",
    "    date_1yr = row['end_date'] + datetime.timedelta(days=365)\n",
    "    \n",
    "    #build the select statement to get start of next spell for this individual (by recptno and ch_dpa_caseid)\n",
    "    #start dates between last end and 1 year later\n",
    "    #order by start_date to get the first start date after end using fetchone\n",
    "    bene_select = \"SELECT start_date, benefit_type FROM idhs.hh_indcase_spells\"\n",
    "    bene_select += \" WHERE recptno = \" + str(row['recptno']) + \" AND \" \n",
    "    bene_select += \" ch_dpa_caseid = \" + str(row['ch_dpa_caseid']) + \" AND \"\n",
    "    bene_select += \" (start_date BETWEEN '\" + str(row['end_date']) + \"' AND '\" + str(date_1yr) + \"')\"\n",
    "    bene_select += \" ORDER BY start_date;\"\n",
    "    \n",
    "    bene_cur.execute(bene_select)\n",
    "    bene_result = bene_cur.fetchall()\n",
    "    \n",
    "    if bene_result: #if a spell is obtained within 1 year of end_date of the spell\n",
    "        new_spell_win1yr = 1\n",
    "        \n",
    "        #check to see if its the same type of benefit - need to check all spells, not just first\n",
    "        for spell in bene_result:\n",
    "            if spell['benefit_type'] == row['benefit_type']:\n",
    "                new_spell_win1yr_benefit = 1\n",
    "            # END IF BENEFIT TYPES MATCH\n",
    "        #END FOR LOOP - SPELL IN BENE_RESULT\n",
    "    #END IF NEW SPELL EXISTS - IMPLIED ELSE IS THE ZEROS THAT THE VARIABLES WERE INITIALIZED TO\n",
    "    \n",
    "    #update record with results\n",
    "    update_stmt = \"UPDATE \" + schema + \".\" + table\n",
    "    update_stmt += \" SET new_spell_win1yr = \" + str(new_spell_win1yr) + \",\"\n",
    "    update_stmt += \" new_spell_win1yr_benefit = \" + str(new_spell_win1yr_benefit) \n",
    "    update_stmt += \" WHERE new_id = \" + str(row['new_id']) + \";\"\n",
    "    update_cur.execute(update_stmt)\n",
    "    conn.commit()\n",
    "    \n",
    "##END FOR LOOP - FOR ROW IN RESULT"
   ]
  },
  {
   "cell_type": "code",
   "execution_count": null,
   "metadata": {
    "collapsed": true
   },
   "outputs": [],
   "source": [
    "conn.rollback()"
   ]
  },
  {
   "cell_type": "code",
   "execution_count": null,
   "metadata": {
    "collapsed": true
   },
   "outputs": [],
   "source": []
  }
 ],
 "metadata": {
  "kernelspec": {
   "display_name": "Python 3",
   "language": "python",
   "name": "python3"
  },
  "language_info": {
   "codemirror_mode": {
    "name": "ipython",
    "version": 3
   },
   "file_extension": ".py",
   "mimetype": "text/x-python",
   "name": "python",
   "nbconvert_exporter": "python",
   "pygments_lexer": "ipython3",
   "version": "3.6.2"
  }
 },
 "nbformat": 4,
 "nbformat_minor": 2
}
