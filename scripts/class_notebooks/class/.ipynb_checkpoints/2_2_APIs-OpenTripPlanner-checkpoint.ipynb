{
 "cells": [
  {
   "cell_type": "markdown",
   "metadata": {},
   "source": [
    "# Module 3 - Web APIs"
   ]
  },
  {
   "cell_type": "markdown",
   "metadata": {},
   "source": [
    "# Table of Contents\n",
    "- [Introduction](#Introduction)\n",
    "\n",
    "    - [Learning Objectives](#Learning-Objectives)\n",
    "    - [Topics](#Topics)\n",
    "\n",
    "- [Setup - Load Python packages](#Setup---Load-Python-packages)\n",
    "- [Using APIs](#Using-APIs)\n",
    "    * [RESTful APIs](#RESTful-APIs)\n",
    "    * [OTP description](#OpenTripPlanner)\n",
    "    * [Index API](#Index-API)\n",
    "    * [JSON](#JSON)\n",
    "    * [API Documentation](#API-Documentation)\n",
    "    * [Python Dictionary](#Python-Dictionary)\n",
    "    * [Routing API](#Routing-API)\n",
    "        * [Scraping Useful Chicago Data](#Scraping-Useful-Chicago-Data)\n",
    "        * [Geocoding](#Geocoding)\n",
    "        * [Planner Resource Syntax](#Planner-Resource-Syntax)\n",
    "        * [Incorporating Databases](#Incorporating-Databases)\n",
    "    * [Isochrone API](#Isochrone-API)"
   ]
  },
  {
   "cell_type": "markdown",
   "metadata": {},
   "source": [
    "# Introduction\n",
    "\n",
    "- Back to [Table of Contents](#Table-of-Contents)\n",
    "\n",
    "In this module, we introduce two general ways that one can retrieve data from data sources on the Internet: APIs and web scraping. We've already covered web scraping, and given the messiness of that subject you may find yourself really appreciating the relative simplicity of using APIs - once you grasp the concepts.\n",
    "\n",
    "API stands for \"Application Programming Interface\". An API is an agreed upon way for one computer program to interact with another computer program.  There are many different kinds of APIs.  Some facilitate interaction between computers over the Internet, some do not. In fact, the Python module SQL Alchemy that we used yesterday is a type of API for talking to databases - you'll see more on APIs for databases with SQL Alchemy later in this course.\n",
    "\n",
    "For this session, we focus on web APIs over HTTP that let a user query and retrieve data over the Internet.  This type of API documents an agreed-upon structure and content of requests and responses a program can use to interact with a system.  As long as your code adheres to a system's API, it should be able to reliabily request and receive data from the system.\n",
    "\n",
    "Below, we show how to make network API requests using HTTP(S)."
   ]
  },
  {
   "cell_type": "markdown",
   "metadata": {},
   "source": [
    "## Learning Objectives\n",
    "\n",
    "- Back to [Table of Contents](#Table-of-Contents)\n",
    "\n",
    "** Learning objectives:**\n",
    "\n",
    "- **Become familiar with different types of APIs.** Includes GET- and POST- based HTTP APIs, different formats of request bodies for POST-based APIs (form inputs, arbitrary JSON and XML, and then formalized dialects of each like SOAP), and how to learn a given API.\n",
    "- **Learn the tools used to interact with network-based APIs.** Understand the tools for talking directly with APIs over HTTP connection, introduce libraries that abstract the details of the API and present a simplified programmatic interface, and then understand how to choose a tool."
   ]
  },
  {
   "cell_type": "markdown",
   "metadata": {},
   "source": [
    "## Topics\n",
    "\n",
    "- Back to [Table of Contents](#Table-of-Contents)\n",
    "\n",
    "Outline of topics covered in this notebook:\n",
    "\n",
    "- Making raw HTTP API requests\n",
    "- Using pre-packaged API client libraries\n",
    "- Practical considerations - Knowing API rules and coding to follow them, and performance\n",
    "- Example: OpenTripPlanner"
   ]
  },
  {
   "cell_type": "markdown",
   "metadata": {},
   "source": [
    "# Setup - Load Python packages\n",
    "\n",
    "- back to [Table of Contents](#Table-of-Contents)"
   ]
  },
  {
   "cell_type": "code",
   "execution_count": null,
   "metadata": {
    "collapsed": true
   },
   "outputs": [],
   "source": [
    "## import Python packages ##\n",
    "import time # to convert time as needed and report how long some functions take\n",
    "\n",
    "# interacting with websites and web-APIs\n",
    "import requests # easy way to interact with web sites and services\n",
    "import json # read/write JavaScript Object Notation (JSON)\n",
    "from bs4 import BeautifulSoup\n",
    "\n",
    "# data manipulation\n",
    "import pandas as pd # easy data manipulation\n",
    "# import geopandas as gpd # geographic data manipulation\n",
    "# from geopandas.tools import sjoin, overlay # spatial join and overlay functions\n",
    "# from shapely.geometry import Point, LineString # to create lines from a list of points\n",
    "\n",
    "# visualization\n",
    "import matplotlib as mplib\n",
    "import matplotlib.pyplot as plt # visualization package\n",
    "\n",
    "# so images get plotted in the notebook\n",
    "%matplotlib inline"
   ]
  },
  {
   "cell_type": "code",
   "execution_count": null,
   "metadata": {
    "collapsed": true
   },
   "outputs": [],
   "source": [
    "print(\"Package versions\")\n",
    "print(\"requests: {}\".format(requests.__version__))\n",
    "print(\"json: {}\".format(json.__version__))\n",
    "print(\"pandas: {}\".format(pd.__version__))\n",
    "# print(\"geopandas: {}\".format(gpd.__version__)) # check that correct version of geopandas is installed, should be v0.2+\n",
    "print(\"matplotlib: {}\".format(mplib.__version__))"
   ]
  },
  {
   "cell_type": "markdown",
   "metadata": {},
   "source": [
    "# Using APIs\n",
    "\n",
    "- Back to the [Table of Contents](#Table-of-Contents)\n",
    "\n",
    "API overview\n",
    "+ In general: APIs ([Application Programming Interfaces](https://en.wikipedia.org/wiki/Application_programming_interface)) are \"set[s] of subroutine definitions, protocols, and tools for building software and applications. A good API makes it easier to develop a program by providing all the building blocks, which are then put together by the programmer.\"\n",
    "+ Here we're looking at a **web-API**, a specific type of API which makes it easier to interact with some aspect of a website. In this course, we'll be using APIs to gether data in an automated way - like grabbing a bunch of prior tweets from Twitter. More generally, APIs can also be used to interact with websites in any way the API is designed to. For instance, you can post and delete tweets with Twitter's API, too.\n",
    "\n",
    "We're going to start getting our hands dirty with the various APIs of the OpenTrip Planner (OTP) software. \n",
    "\n",
    "#### OpenTripPlanner\n",
    "[OpenTripPlanner (OTP)](http://docs.opentripplanner.org/en/latest/) is an open source routing software that provides a number of services, here we'll explore:\n",
    "1. [Index API](#Index-API) - provides information about the data loaded into OTP, for instance what transportation agencies' data are included;\n",
    "2. [Routing API](#Routing-API) - creates a plan for how to get from one location to another, with a number of additional options such as:\n",
    "  * Departure time (and date) - if you're curious about a specific departure time or date;\n",
    "  * transit modes - default is to consider any public transportation option in the system, but it can also be set to \"AUTO\" to do vehicle routing or \"WALK\" for walking only directions.\n",
    "  \n",
    "3. [Isochrone API](#Isochrone-API) - generates a polygon representing the area a traveler can reach if they start from a given location and travel for a specified amount of time (isochrone means 'equal time')."
   ]
  },
  {
   "cell_type": "markdown",
   "metadata": {},
   "source": [
    "## RESTful APIs\n",
    "\n",
    "- Back to the [Table of Contents](#Table-of-Contents)\n",
    "\n",
    "The OTP APIs are what is called \"[RESTful](https://en.wikipedia.org/wiki/Representational_state_transfer)\" web services. REST stands for REpresentational State Transfer, but don't worry about the acronym so much as the idea. RESTful services adhere to a [series of requirements](https://www.restapitutorial/whatisrest.html) that enable them to be consistent, scalable, reliable, and relatively simple. RESTful APIs allow you to access a pre-defined set of operations through HTTP(S) requests. REST is fantastic because, in part, if you can generate the right URL, you'll always get the right response (this was not always the case with SOAP - the predecessor to REST).\n",
    "\n",
    "To use a RESTful API, we'll need to understand (1) how to properly format the request and (2) how to manage and make use of the response from the API. Below we will walk through these concepts while using some of OTP's web services."
   ]
  },
  {
   "cell_type": "code",
   "execution_count": null,
   "metadata": {
    "collapsed": true,
    "scrolled": true
   },
   "outputs": [],
   "source": [
    "## check what routers are installed on system \n",
    "# the below steps will be revisited and discussed further below\n",
    "\n",
    "# base URL where OTP is installed - ennd point \"routers/\" simply lists information about the router\n",
    "base_url = \"https://tripplanner.adrf.info/otp/routers\"\n",
    "\n",
    "# get query response from API\n",
    "response = requests.get(base_url)\n",
    "\n",
    "# Convert response to text\n",
    "response = json.loads(response.text)\n",
    "\n",
    "# print routerId for each router returned\n",
    "for router in response[u'routerInfo']:\n",
    "    print(router['routerId'])"
   ]
  },
  {
   "cell_type": "code",
   "execution_count": null,
   "metadata": {
    "collapsed": true
   },
   "outputs": [],
   "source": [
    "### First, we need to set a few parameters. ###\n",
    "\n",
    "# Router ID \n",
    "# - OTP can have many different routers available for different cities or subsets of transportation agencies.\n",
    "router_chicago = 'chicago_20161028' # Chicago  metro area transit router\n",
    "\n",
    "router_nyc  = '' # NYC router\n",
    "\n",
    "# update base URL to add the routerID for the city you want to explore - \n",
    "# note the below code is based on the \"chicago_20161028\" router, if you select a different router other inputs\n",
    "# would need to change\n",
    "base_url = base_url+\"/{}/\".format(router_chicago)\n",
    "print(base_url)"
   ]
  },
  {
   "cell_type": "markdown",
   "metadata": {},
   "source": [
    "### Index API\n",
    "\n",
    "- Back to the [Table of Contents](#Table-of-Contents)\n",
    "\n",
    "The Index API provides access to general information about the data loaded into a given OTP router (as specified by the 'routerID' variable set above). Full list of [options are here](http://dev.opentripplanner.org/apidoc/1.0.0/resource_IndexAPI.html).\n",
    "\n",
    "Below, we can make a request simply by taking our base URL and adding the `feeds` endpoint. Here, we use the term endpoint to refer to the completed URL that links to the most granular aspect of an API. The combination of the router id, index API, and feeds request make up our endpoint. This will provide a list of data feeds available for the router we've selected."
   ]
  },
  {
   "cell_type": "code",
   "execution_count": null,
   "metadata": {
    "collapsed": true
   },
   "outputs": [],
   "source": [
    "# Set up query URL\n",
    "qry_url = '{}index/feeds'.format(base_url)\n",
    "\n",
    "# Again, since we are still using HTTP, we can use the requests package's get \n",
    "response = requests.get(qry_url)\n",
    "\n",
    "# Convert response to text\n",
    "response = response.text\n",
    "\n",
    "# Our response is a JSON array:\n",
    "print(response)"
   ]
  },
  {
   "cell_type": "code",
   "execution_count": null,
   "metadata": {
    "collapsed": true
   },
   "outputs": [],
   "source": [
    "print(qry_url)"
   ]
  },
  {
   "cell_type": "markdown",
   "metadata": {},
   "source": [
    "## JSON\n",
    "\n",
    "- Back to the [Table of Contents](#Table-of-Contents)\n",
    "\n",
    "[JSON](www.json.org) is a common non-tabular data format often used by services and software on the internet. We'll introduce JSON slowly, but it's helpful to know that it is oriented around the idea of `key-value` pairs. The `keys` refer to information about the data while the `values` is the data itself. For instance, if you were to translate a tabular dataset into JSON, the column names (and possibly row names/numbers) would become `keys`, while the data in the cells would become `values`. Our first JSON response is a simple array, the equivalent of a Python list."
   ]
  },
  {
   "cell_type": "code",
   "execution_count": null,
   "metadata": {
    "collapsed": true
   },
   "outputs": [],
   "source": [
    "# Convert text to a Python object using the 'json' package\n",
    "feeds = json.loads(response)\n",
    "\n",
    "# And now we have a Python list:\n",
    "print(type(feeds))\n",
    "print(feeds)"
   ]
  },
  {
   "cell_type": "markdown",
   "metadata": {},
   "source": [
    "This is just a list of feed IDs created by OTP - so there are three agencies providing data feeds to our version of the OTP. This is not particularly informative, but we did get a response from the web API. Let's check the 'agencies' endpoint to see what more it provides."
   ]
  },
  {
   "cell_type": "code",
   "execution_count": null,
   "metadata": {
    "collapsed": true
   },
   "outputs": [],
   "source": [
    "## We can use the /agences resource of the Index API to get more information.\n",
    "## Below, we combine the previous steps into one line and ask for the agency associated with the first feed:\n",
    "print('{}index/agencies/{}'.format(base_url, '1')) \n",
    "print(json.loads(requests.get('{}index/agencies/{}'.format(base_url, '1')).text))"
   ]
  },
  {
   "cell_type": "markdown",
   "metadata": {},
   "source": [
    "This is more helpful - we now know the agency associated with the feed id, as well as its website and other information. Let's use a loop to repeat this for the other feeds."
   ]
  },
  {
   "cell_type": "code",
   "execution_count": null,
   "metadata": {
    "collapsed": true
   },
   "outputs": [],
   "source": [
    "## Let's do the same for each feed:\n",
    "for feed in feeds:\n",
    "\n",
    "    # print out which feed we're looking at on this pass of the loop\n",
    "    print(\"feed {}\".format(feed))\n",
    "    \n",
    "    # get agency information for this feed just as we did above, but using the feed from our list of feeds\n",
    "    agency = json.loads(requests.get('{}index/agencies/{}'.format(base_url, feed)).text)\n",
    "    \n",
    "    print(agency)\n",
    "        \n",
    "    # add a blank line after each feed for legibility\n",
    "    print('')\n"
   ]
  },
  {
   "cell_type": "markdown",
   "metadata": {},
   "source": [
    "### API Documentation\n",
    "\n",
    "- Back to the [Table of Contents](#Table-of-Contents)\n",
    "\n",
    "If you want more information about what routes are included in a given feed, you can query the 'routes' resources as below. At this point, you may be wondering how you would know what resources and endpoints are available for a given API. This is where API documentation comes in. The [OpenTripPlanner Index API documentation](dev.opentripplanner.org/apidoc/0.20.0/resource_indexAPI.html) includes a list of valid HTTP methods (mostly get and a few post) for the resources and specific endpoints within the Index API.\n",
    "\n",
    "For instance, there is a valid HTTP get request for the URL `/routers/{routerid}/index/agencies/{feedId}` where routerid and feedId are changeable parameters. This is how you would have known that the above requests would be successful.\n",
    "\n",
    "Below, we can examine all the routes of one agency in the format: `/routers/{router_id}/index/agencies/{feedID}/{agencyID}/routes`"
   ]
  },
  {
   "cell_type": "code",
   "execution_count": null,
   "metadata": {
    "collapsed": true
   },
   "outputs": [],
   "source": [
    "# Using agency 'METRA' from first feed\n",
    "routes = json.loads(requests.get('{0}index/agencies/{1}/{2}/routes'.format(base_url, '1', 'METRA')).text)\n",
    "print(routes)"
   ]
  },
  {
   "cell_type": "code",
   "execution_count": null,
   "metadata": {
    "collapsed": true
   },
   "outputs": [],
   "source": [
    "# Routes is a list - a data structure we are familiar with:\n",
    "print(type(routes))\n",
    "\n",
    "# However, the objects that makes up this list may be new to you, the python dictionary:\n",
    "print(type(routes[0]))\n",
    "print(type(routes[1]))\n",
    "print(type(routes[2]))"
   ]
  },
  {
   "cell_type": "markdown",
   "metadata": {},
   "source": [
    "## Python Dictionary\n",
    "\n",
    "- Back to the [Table of Contents](#Table-of-Contents)\n",
    "\n",
    "The [dictionary](https://docs.python.org/3/tutorial/datastructures.html#dictionaries), or dict for short, is a common type of python object used to store sets of key-value pairs. Sound familiar? It should! Dictionaries are python's internal counterpart to JSON data.\n",
    "\n",
    "Here, we'll learn to grab data from within a dict by using the key name, following this syntax: `dict['key']`"
   ]
  },
  {
   "cell_type": "code",
   "execution_count": null,
   "metadata": {
    "collapsed": true
   },
   "outputs": [],
   "source": [
    "test_route = routes[3]\n",
    "print(test_route)\n",
    "print('------')\n",
    "print(test_route['agencyName'])\n",
    "print('------')\n",
    "print(test_route['color'])"
   ]
  },
  {
   "cell_type": "code",
   "execution_count": null,
   "metadata": {
    "collapsed": true
   },
   "outputs": [],
   "source": [
    "## Simple enough - let's use a loop and our new understanding of dicts to print out the mode and route name:\n",
    "for route in routes:\n",
    "    print('mode: {} | id: {} | route name: {}'.format(route['mode'], route['id'], route['longName']))"
   ]
  },
  {
   "cell_type": "code",
   "execution_count": null,
   "metadata": {
    "collapsed": true
   },
   "outputs": [],
   "source": [
    "## You can use the Index API to query all the stops along a route in the format:\n",
    "## /otp/routers/{routerID}/index/routes/{routeID}/stops\n",
    "\n",
    "## Remember the base url:\n",
    "print(base_url)\n",
    "\n",
    "## Can you query the stops along one of the Chicago METRA routes?\n",
    "\n"
   ]
  },
  {
   "cell_type": "markdown",
   "metadata": {},
   "source": [
    "## Routing API\n",
    "\n",
    "- Back to the [Table of Contents](#Table-of-Contents)\n",
    "\n",
    "Now that we've tested we can access OTP from Jupyter, let's do something a bit more interesting: get a route plan between some locations. This will allow us to answer \"How long will it take to get from *here* to *there*?\"\n",
    "\n",
    "Similar to the Index API, the [Routing API documentation](http://dev.opentripplanner.org/apidoc/1.0.0/resource_PlannerResource.html) tells us what features are available and how to access those feastures."
   ]
  },
  {
   "cell_type": "markdown",
   "metadata": {},
   "source": [
    "### Scraping Useful Chicago Data\n",
    "\n",
    "- Back to the [Table of Contents](#Table-of-Contents)\n",
    "\n",
    "To give us some valuable data to use with this API, I used the tools we used in our first lesson to build a quick scraper to get a lost of Chicago's workforce centers. You'll note that although the pattern of HTML differs, the structure of the scraper is very similar, and only requires a little bit of code."
   ]
  },
  {
   "cell_type": "code",
   "execution_count": null,
   "metadata": {
    "collapsed": true
   },
   "outputs": [],
   "source": [
    "# Use requests to grab the HTML page for Chicago Workforce Centers\n",
    "url = \"http://deepdish.adrf.info/contrib/chicagojobs.html\"\n",
    "response = requests.get(url)\n",
    "\n",
    "# Create BeautifulSoup object and pull out the table rows:\n",
    "soup = BeautifulSoup(response.text)\n",
    "table = soup.find(\"table\")\n",
    "rows = table.find_all(\"tr\")\n",
    "\n",
    "# Create lists to hold our scraped data\n",
    "centers = []\n",
    "addresses = []\n",
    "phone_numbers = []\n",
    "\n",
    "rows = rows[1:] #Skip the header row\n",
    "for row in rows:\n",
    "    \n",
    "    name_td = row.find_all(\"td\")[1]\n",
    "    if name_td.find(\"a\"):\n",
    "        center_name = name_td.find(\"a\").text\n",
    "    else:        \n",
    "        center_name = name_td.text\n",
    "\n",
    "    centers.append(center_name)\n",
    "    addresses.append(row.find_all(\"td\")[2].text)\n",
    "    phone_numbers.append(row.find_all(\"td\")[3].text)\n",
    "    \n",
    "## Create pandas dataframe:\n",
    "centers_df = pd.DataFrame({\"center_name\" : pd.Series(centers),\n",
    "    \"address\" : pd.Series(addresses),\n",
    "    \"phone_number\" : pd.Series(phone_numbers)})\n",
    "\n",
    "## A little cleanup to remove extraneous tags:\n",
    "centers_df[\"center_name\"] = centers_df[\"center_name\"].str.replace(\"<td>\", \"\")\n",
    "centers_df[\"center_name\"] = centers_df[\"center_name\"].str.replace(\"<br/>\", \"\")\n",
    "\n",
    "centers_df[:]"
   ]
  },
  {
   "cell_type": "markdown",
   "metadata": {},
   "source": [
    "## Geocoding\n",
    "\n",
    "- Back to the [Table of Contents](#Table-of-Contents)\n",
    "\n",
    "We have scraped addresses, but OTP works best with latitude and longitude coordinates. We can use the [geocoder module](https://pypi.python.org/pypi/geocoder) to get latitude and longitude exactly just from the organization addresses. Note this is a combination of great tools - a simple Python module (`geocoder`) interacting with Google's wonderful geocoding API. The code below would work out in the wild, but since we are working in a restricted environment, we can't get to the Google API.\n",
    "\n",
    "The geocoder module can speak to a wide range of external services, including ArcGIS, Bing, MapBox, OpenStreetMaps, and many others, in addition to Google. The API lets you geocode (addresses to latitue and longitude), reverse geocode (latitude and longitude to addresses), as well as get timezones and elevations on locations."
   ]
  },
  {
   "cell_type": "code",
   "execution_count": null,
   "metadata": {
    "collapsed": true
   },
   "outputs": [],
   "source": [
    "# import geocoder\n",
    "# \n",
    "# lat = []\n",
    "# lon = []\n",
    "#\n",
    "# for add in centers_df[\"address\"]:\n",
    "#    g = geocoder.google(add)\n",
    "    \n",
    "#    lon.append(g.latlng[0])\n",
    "#    lat.append(g.latlng[1])\n",
    "\n",
    "# centers_df[\"latitude\"] = pd.Series(lat)\n",
    "# centers_df[\"longitude\"] = pd.Series(lon)"
   ]
  },
  {
   "cell_type": "code",
   "execution_count": null,
   "metadata": {
    "collapsed": true
   },
   "outputs": [],
   "source": [
    "lat = [41.733737,\n",
    "            41.9087846,\n",
    "            41.9647695,\n",
    "            41.9631174,\n",
    "            42.0457523,\n",
    "            41.9697109,\n",
    "            41.9252578,\n",
    "            41.4824241,\n",
    "            41.5081785,\n",
    "            41.8322347,\n",
    "            41.6944193,\n",
    "            41.8444394,\n",
    "            41.8849173,\n",
    "            41.5255653,\n",
    "            41.8543913,\n",
    "            41.8511856,\n",
    "            41.8931701,\n",
    "            41.8804296,\n",
    "            41.8905965,\n",
    "            42.0076194,\n",
    "            41.9647485,\n",
    "            41.8457521,\n",
    "            41.8409604,\n",
    "            41.9589605]\n",
    "\n",
    "lon = [-87.770246,\n",
    "             -87.7931388,\n",
    "             -87.6786497,\n",
    "             -87.6748518,\n",
    "             -87.9922059,\n",
    "             -87.6598793,\n",
    "             -87.7008122,\n",
    "             -87.6782855,\n",
    "             -87.6234975,\n",
    "             -87.5990999,\n",
    "             -87.5990999,\n",
    "             -87.7236882,\n",
    "             -87.6231249,\n",
    "             -87.6386009,\n",
    "             -87.6355797,\n",
    "             -87.7775432,\n",
    "             -87.6614166,\n",
    "             -87.7066519,\n",
    "             -87.702801,\n",
    "             -87.6689743,\n",
    "             -87.6570292,\n",
    "             -87.6858569,\n",
    "             -87.6862319,\n",
    "             -87.6747326]"
   ]
  },
  {
   "cell_type": "code",
   "execution_count": null,
   "metadata": {
    "collapsed": true,
    "scrolled": true
   },
   "outputs": [],
   "source": [
    "centers_lim = centers_df[0:24]\n",
    "centers_lim[\"latitude\"] = pd.Series(lat)\n",
    "centers_lim[\"longitude\"] = pd.Series(lon)\n",
    "centers_lim[:]"
   ]
  },
  {
   "cell_type": "markdown",
   "metadata": {},
   "source": [
    "### Planner Resource Syntax\n",
    "\n",
    "- Back to the [Table of Contents](#Table-of-Contents)\n",
    "\n",
    "The Planner Resource API does trip planning based on a large number of customizable parameters. To give you a sense of all the options available, OTP's planner resource allows users to set the additional time it will take baord a vehicle (like a bus) with a bike, as opposed to boarding on foot. There are a lot of available options. This is great for us, since once we understand the simple syntax of this API, we can avail ourselves of this granular customization if we want to. \n",
    "\n",
    "This resource is located at `/OTP/routers/{routerID}/plan` and when setting options within a URL, they follow a single question mark. So first, let's plan a trip with just the required options, `fromPlace`, `toPlace`, and `datae` (which takes an option in the form YYY-MM-DD) which you can see we set after `/plan?` and separated by ampersands `&`:"
   ]
  },
  {
   "cell_type": "code",
   "execution_count": null,
   "metadata": {
    "collapsed": true,
    "scrolled": true
   },
   "outputs": [],
   "source": [
    "origin_lat = centers_lim[\"latitude\"][2]\n",
    "origin_lon = centers_lim[\"longitude\"][2]\n",
    "\n",
    "destination_lat = centers_lim[\"latitude\"][10]\n",
    "destination_lon = centers_lim[\"longitude\"][10]\n",
    "\n",
    "qry_url = '{}plan?fromPlace={},{}&toPlace={},{}&date=2016-02-11'.format(base_url, origin_lat, origin_lon, destination_lat, destination_lon)   \n",
    "print(qry_url)\n",
    "\n",
    "response = requests.get(qry_url)\n",
    "response = response.text\n",
    "plan = json.loads(response)\n",
    "\n",
    "# Examine the response, which is a routing plan:\n",
    "print(plan)"
   ]
  },
  {
   "cell_type": "code",
   "execution_count": null,
   "metadata": {
    "collapsed": true
   },
   "outputs": [],
   "source": [
    "# So again our JSON object was transformed into a Python dict.\n",
    "print(type(plan))"
   ]
  },
  {
   "cell_type": "code",
   "execution_count": null,
   "metadata": {
    "collapsed": true
   },
   "outputs": [],
   "source": [
    "# We can look at the available keys:\n",
    "print(plan.keys())"
   ]
  },
  {
   "cell_type": "code",
   "execution_count": null,
   "metadata": {
    "collapsed": true
   },
   "outputs": [],
   "source": [
    "# And use those keys to see the dict'svalues.\n",
    "# For instance, let's print out the requestParameters:\n",
    "print(plan['requestParameters'])"
   ]
  },
  {
   "cell_type": "code",
   "execution_count": null,
   "metadata": {
    "collapsed": true
   },
   "outputs": [],
   "source": [
    "# Dicts can contain other dicts, like in the case of the plan:\n",
    "print(type(plan[\"plan\"]))\n",
    "print(plan['plan'].keys())"
   ]
  },
  {
   "cell_type": "code",
   "execution_count": null,
   "metadata": {
    "collapsed": true
   },
   "outputs": [],
   "source": [
    "## We can use a similar syntax torfer to the keys of a dict within a dict:\n",
    "print(plan[\"plan\"][\"to\"])"
   ]
  },
  {
   "cell_type": "code",
   "execution_count": null,
   "metadata": {
    "collapsed": true
   },
   "outputs": [],
   "source": [
    "# Time is stored in a raw computer format\n",
    "print('raw time value: {}'.format(plan['plan']['date']))\n",
    "\n",
    "# But we can convert it to a datetime object so it's comprehensible.\n",
    "# note OTP returns raw time value with three extra zeros, divide by 1000 to get rid of them\n",
    "print('datetime formatted: {}'.format(time.strftime('%Y-%m-%d %H:%M:%S', time.localtime(plan['plan']['date']/1000))))"
   ]
  },
  {
   "cell_type": "code",
   "execution_count": null,
   "metadata": {
    "collapsed": true
   },
   "outputs": [],
   "source": [
    "# 'itineraries' holds a lot more information, let's start with how many itineraries were returned\n",
    "print(len(plan['plan']['itineraries']))\n",
    "\n",
    "# and list what keys exit for the first itinerary\n",
    "print(plan['plan']['itineraries'][0].keys())"
   ]
  },
  {
   "cell_type": "code",
   "execution_count": null,
   "metadata": {
    "collapsed": true
   },
   "outputs": [],
   "source": [
    "# compare the three itineraries across some pieces\n",
    "for i in plan['plan']['itineraries']:\n",
    "    print('duration (minutes) = {0:.2f} | transfers = {1:} | walkDist = {2:.2f} | \\\n",
    "legs = {4:} | startTime = {5:} | endTime = {6:}'\\\n",
    ".format(i['duration']/60., i['transfers'], i['walkDistance'], i['walkTime'], len(i['legs']), \n",
    "        time.strftime('%H:%M:%S', time.localtime(i['startTime']/1000)), \n",
    "        time.strftime('%H:%M:%S', time.localtime(i['endTime']/1000))))"
   ]
  },
  {
   "cell_type": "code",
   "execution_count": null,
   "metadata": {
    "collapsed": true
   },
   "outputs": [],
   "source": [
    "# note we just counted the length of the \"legs\" output, it contains the details of the actual route\n",
    "# here is what is included in a \"leg\"\n",
    "print(plan['plan']['itineraries'][0]['legs'][0].keys())"
   ]
  },
  {
   "cell_type": "code",
   "execution_count": null,
   "metadata": {
    "collapsed": true
   },
   "outputs": [],
   "source": [
    "# let's compare the three legs of the first itinerary, similarly as we compared the itineraries\n",
    "for leg in plan['plan']['itineraries'][0]['legs']:\n",
    "    print('distance = {:,.2f} | duration = {:.0f} | mode = {} | route = {} | steps = {}'.\\\n",
    "format(leg['distance'], leg['duration'], leg['mode'], leg['route'], len(leg['steps'])))"
   ]
  },
  {
   "cell_type": "markdown",
   "metadata": {},
   "source": [
    "So, if mode is 'WALK' then route is blank and steps is a list. what is included in one of those 'steps'?"
   ]
  },
  {
   "cell_type": "code",
   "execution_count": null,
   "metadata": {
    "collapsed": true
   },
   "outputs": [],
   "source": [
    "print(plan['plan']['itineraries'][0]['legs'][0]['steps'][0].keys())"
   ]
  },
  {
   "cell_type": "code",
   "execution_count": null,
   "metadata": {
    "collapsed": true
   },
   "outputs": [],
   "source": [
    "# so, what streets does this first route call for a person to walk on?\n",
    "for leg in plan['plan']['itineraries'][0]['legs']:\n",
    "    print('leg sends person on following streets:')\n",
    "    if leg['mode']=='WALK':\n",
    "        for step in leg['steps']:\n",
    "            print(step['streetName'])\n",
    "    else:\n",
    "        print('N/A - not a walking leg.')"
   ]
  },
  {
   "cell_type": "markdown",
   "metadata": {
    "collapsed": true
   },
   "source": [
    "## Adding Further Options:\n",
    "\n",
    "The arriveBy parameter takes a time hh:mm:ss - can you add this option to our query?\n",
    "\n",
    "What happens if you increase the bikeSpeed option (takes an integer in MPH - defaults to 11 MPH)?"
   ]
  },
  {
   "cell_type": "code",
   "execution_count": null,
   "metadata": {
    "collapsed": true
   },
   "outputs": [],
   "source": [
    "your_qry_url = '{}plan?fromPlace={},{}&toPlace={},{}&date=2016-06-05'.format(base_url, origin_lat, origin_lon, destination_lat, destination_lon)   \n",
    "print(your_qry_url)\n",
    "\n",
    "response = requests.get(your_qry_url)\n",
    "response = response.text\n",
    "plan = json.loads(response)\n",
    "\n",
    "print(plan)"
   ]
  },
  {
   "cell_type": "markdown",
   "metadata": {},
   "source": [
    "## Incorporating Databases\n",
    "\n",
    "- Back to the [Table of Contents](#Table-of-Contents)\n",
    "\n",
    "We can use SQL Alchemy to grab some data from our databases."
   ]
  },
  {
   "cell_type": "code",
   "execution_count": null,
   "metadata": {
    "collapsed": true
   },
   "outputs": [],
   "source": [
    "# Database connection\n",
    "from sqlalchemy import create_engine\n",
    "engine = create_engine(\"postgresql://10.10.2.10:5432/appliedda\")"
   ]
  },
  {
   "cell_type": "code",
   "execution_count": null,
   "metadata": {
    "collapsed": true
   },
   "outputs": [],
   "source": [
    "pd.read_sql(\"SELECT table_name FROM information_schema.tables;\", engine)"
   ]
  },
  {
   "cell_type": "code",
   "execution_count": null,
   "metadata": {
    "collapsed": true,
    "scrolled": true
   },
   "outputs": [],
   "source": [
    "# The tl_2016_16980_tabblock10 table contains census blocks for Chicago:\n",
    "blocks_df = pd.read_sql(\"SELECT * FROM tl_2016_16980_tabblock10;\", engine)\n",
    "blocks_df[:5]"
   ]
  },
  {
   "cell_type": "code",
   "execution_count": null,
   "metadata": {
    "collapsed": true,
    "scrolled": true
   },
   "outputs": [],
   "source": [
    "# Block on East Side of Douglas Park\n",
    "## Used City of Chicago Data Portal to find the geoid10:\n",
    "block = blocks_df[blocks_df[\"geoid10\"] == \"170318433001046\"]\n",
    "block[:]"
   ]
  },
  {
   "cell_type": "code",
   "execution_count": null,
   "metadata": {
    "collapsed": true
   },
   "outputs": [],
   "source": [
    "centers_lim[:5]"
   ]
  },
  {
   "cell_type": "code",
   "execution_count": null,
   "metadata": {
    "collapsed": true
   },
   "outputs": [],
   "source": [
    "block_lat = 41.8599228\n",
    "block_lon = -87.6944049\n",
    "\n",
    "for i in range(0,len(centers_lim.index)):\n",
    "    \n",
    "    center = centers_lim.center_name[i]\n",
    "    center_lat = centers_lim.latitude[i]\n",
    "    center_lon = centers_lim.longitude[i]\n",
    "    \n",
    "    print(center)\n",
    "    \n",
    "    qry_url = '{}plan?fromPlace={},{}&toPlace={},{}&date=2016-06-10%mode=WALK,TRANSIT'.format(\n",
    "        base_url, block_lat, block_lon, center_lat, center_lon)   \n",
    "    \n",
    "    try:\n",
    "        response = requests.get(qry_url).text\n",
    "        plan = json.loads(response)\n",
    "        print(plan)\n",
    "                \n",
    "    except requests.exceptions.RequestException:\n",
    "        pass\n",
    "    "
   ]
  },
  {
   "cell_type": "code",
   "execution_count": null,
   "metadata": {
    "collapsed": true
   },
   "outputs": [],
   "source": [
    "centers_lim.count()"
   ]
  },
  {
   "cell_type": "code",
   "execution_count": null,
   "metadata": {
    "collapsed": true
   },
   "outputs": [],
   "source": [
    "origin_lat = centers_lim[\"latitude\"][2]\n",
    "origin_lon = centers_lim[\"longitude\"][2]\n",
    "\n",
    "destination_lat = centers_lim[\"latitude\"][10]\n",
    "destination_lon = centers_lim[\"longitude\"][10]\n",
    "\n",
    "qry_url = '{}plan?fromPlace={},{}&toPlace={},{}&date=2016-02-11'.format(base_url, origin_lat, origin_lon, destination_lat, destination_lon)   \n",
    "print(qry_url)\n",
    "\n",
    "response = requests.get(qry_url)\n",
    "response = response.text\n",
    "plan = json.loads(response)\n",
    "\n",
    "# Examine the response, which is a routing plan:\n",
    "print(plan)"
   ]
  },
  {
   "cell_type": "markdown",
   "metadata": {},
   "source": [
    "## Isochrone API\n",
    "\n",
    "- Back to the [Table of Contents](#Table-of-Contents)\n",
    "\n",
    "The Isochrone (meaning same-time) tool gives the area (as a polygon) a traveler can reach from a specified point within a travel time. Like the other APIs, the Isochrone API has many other query parameters the user can set if so desired, [description here](http://dev.opentripplanner.org/apidoc/1.0.0/resource_LIsochrone.html). It requires that we define a starting location, a mode of transportation, a date, and an amount of travel time.\n",
    "\n",
    "Below, we start in downtown Chicago, allowing use of foot and public transit, on a certain date, and with 30 minutes of travel time allowed."
   ]
  },
  {
   "cell_type": "code",
   "execution_count": null,
   "metadata": {
    "collapsed": true
   },
   "outputs": [],
   "source": [
    "# set start location\n",
    "start_point = [41.846698, -87.621385] # Mercy Hospital & Medical Center\n",
    "\n",
    "travel_time = 60 * 30 # time in seconds, so this is 30 minutes\n",
    "mode = \"WALK,TRANSIT\"\n",
    "\n",
    "url = (\"{}isochrone?fromPlace={},{}&mode={}&date=2016-06-01&cutoffSec={}\").format(\n",
    "    base_url,start_point[0],start_point[1],mode,travel_time)\n",
    "print(url)\n",
    "\n",
    "iso_response = requests.get(url)\n",
    "print(iso_response.text)"
   ]
  },
  {
   "cell_type": "markdown",
   "metadata": {},
   "source": [
    "> NOTE: as of Nov 1 underlying packages for spatial Python functions need to be updated on ADRF so the below will not work"
   ]
  },
  {
   "cell_type": "code",
   "execution_count": null,
   "metadata": {
    "collapsed": true
   },
   "outputs": [],
   "source": [
    "iso_json = json.loads(iso_response.text)\n",
    "\n",
    "## load isochrone into a geopandas dataframe\n",
    "iso_gdf = gpd.GeoDataFrame.from_features(iso_json['features'])\n",
    "iso_gdf[:]"
   ]
  },
  {
   "cell_type": "code",
   "execution_count": null,
   "metadata": {
    "collapsed": true
   },
   "outputs": [],
   "source": [
    "# view the resulting isochrone shape (can you guess why there are separated geographies?)\n",
    "iso_gdf.plot();"
   ]
  },
  {
   "cell_type": "markdown",
   "metadata": {},
   "source": [
    "One potential use case for this functionality: can people at two locations reach some common location within a specified travel time?"
   ]
  },
  {
   "cell_type": "code",
   "execution_count": null,
   "metadata": {
    "collapsed": true
   },
   "outputs": [],
   "source": [
    "# 2nd location\n",
    "start_point_2 = [41.884260, -87.630344] # Traffic Court in Richard J. Daley center\n",
    "\n",
    "url_2 = (\"{}isochrone?fromPlace={},{}&mode={}&date=2016-06-01&cutoffSec={}\").format(\n",
    "    base_url,start_point_2[0],start_point[1],mode,travel_time)\n",
    "\n",
    "# get json request\n",
    "iso_json_2 = json.loads(requests.get(url_2).text)\n",
    "\n",
    "## load isochrone into a geopandas dataframe\n",
    "iso_gdf_2 = gpd.GeoDataFrame.from_features(iso_json_2['features'])"
   ]
  },
  {
   "cell_type": "code",
   "execution_count": null,
   "metadata": {
    "collapsed": true
   },
   "outputs": [],
   "source": [
    "# view the second isochrone\n",
    "iso_gdf_2.plot();"
   ]
  },
  {
   "cell_type": "code",
   "execution_count": null,
   "metadata": {
    "collapsed": true
   },
   "outputs": [],
   "source": [
    "# do the two isochrones intersect?\n",
    "iso_gdf.intersects(iso_gdf_2)"
   ]
  },
  {
   "cell_type": "code",
   "execution_count": null,
   "metadata": {
    "collapsed": true
   },
   "outputs": [],
   "source": [
    "# they do intersect, so create an overlay with a 'union'\n",
    "iso_join = overlay(iso_gdf, iso_gdf_2, how='union')"
   ]
  },
  {
   "cell_type": "code",
   "execution_count": null,
   "metadata": {
    "collapsed": true
   },
   "outputs": [],
   "source": [
    "# what does the dataframe look like now?\n",
    "iso_join.head()"
   ]
  },
  {
   "cell_type": "code",
   "execution_count": null,
   "metadata": {
    "collapsed": true
   },
   "outputs": [],
   "source": [
    "# and visually?\n",
    "iso_join.plot();"
   ]
  },
  {
   "cell_type": "markdown",
   "metadata": {},
   "source": [
    "- Back to the [Table of Contents](#Table-of-Contents)\n",
    "\n",
    "> A bit annoyingly this is difficult to tell where the two overlap. To fix this we can group based on the \"time\" and \"time_2\" columns to end with just 3 combinations: \n",
    "1. accessible from our first location only, \n",
    "2. accessible our second location only, and \n",
    "3. accessible from either location\n",
    "\n",
    "We'll do this by using the [\"dissolve\" function](http://geopandas.org/aggregation_with_dissolve.html) from geopandas. However first we need to replace the \"NaN\" so those rows are not ignored"
   ]
  },
  {
   "cell_type": "code",
   "execution_count": null,
   "metadata": {
    "collapsed": true
   },
   "outputs": [],
   "source": [
    "# replace NaN with placeholder value, let's say 99999\n",
    "iso_join.fillna(99999, inplace=True)"
   ]
  },
  {
   "cell_type": "code",
   "execution_count": null,
   "metadata": {
    "collapsed": true
   },
   "outputs": [],
   "source": [
    "iso_join = iso_join.dissolve(by=['time', 'time_2']).reset_index()\n",
    "\n",
    "# Note: used reset_index() here so it's easier to use the 'time' and 'time_2' columns if needed"
   ]
  },
  {
   "cell_type": "code",
   "execution_count": null,
   "metadata": {
    "collapsed": true
   },
   "outputs": [],
   "source": [
    "# now what does it look like?\n",
    "iso_join"
   ]
  },
  {
   "cell_type": "code",
   "execution_count": null,
   "metadata": {
    "collapsed": true
   },
   "outputs": [],
   "source": [
    "# and visually?\n",
    "iso_join.plot();"
   ]
  },
  {
   "cell_type": "code",
   "execution_count": null,
   "metadata": {
    "collapsed": true
   },
   "outputs": [],
   "source": [
    "# add a label column to use so we can include a legend\n",
    "iso_join['label'] = ''\n",
    "\n",
    "# use index slicing function '.loc' of dataframes to update each value of label appropriately\n",
    "iso_join.loc[0,'label'] = 'Both'\n",
    "iso_join.loc[1,'label'] = 'point 1 only'\n",
    "iso_join.loc[2,'label'] = 'point 2 only'"
   ]
  },
  {
   "cell_type": "code",
   "execution_count": null,
   "metadata": {
    "collapsed": true,
    "scrolled": true
   },
   "outputs": [],
   "source": [
    "# set up a nicer visualization with labels\n",
    "f,ax = plt.subplots(figsize=(8,8))\n",
    "\n",
    "# use geopandas to specify label column and adding a legend to the matplotlib object 'ax'\n",
    "iso_join.plot(column='label', ax=ax, legend=True);\n",
    "\n",
    "# also plot start and stop points on the same map, note matplotlib takes [x,y] coordinates\n",
    "ax.plot(start_point[1], start_point[0], 's', color='orange', markersize=10, label='point 1')\n",
    "ax.plot(start_point_2[1], start_point_2[0], 's', color='grey', markersize=10, label='point 2')\n",
    "\n",
    "# add some other labels\n",
    "ax.set_xlabel('Longitude')\n",
    "ax.set_ylabel('Latitude')\n",
    "\n",
    "# title\n",
    "ax.set_title('Area accessible within {} minutes travel using public transit'.format(travel_time/60));"
   ]
  }
 ],
 "metadata": {
  "anaconda-cloud": {},
  "kernelspec": {
   "display_name": "Python 3",
   "language": "python",
   "name": "python3"
  },
  "language_info": {
   "codemirror_mode": {
    "name": "ipython",
    "version": 3
   },
   "file_extension": ".py",
   "mimetype": "text/x-python",
   "name": "python",
   "nbconvert_exporter": "python",
   "pygments_lexer": "ipython3",
   "version": "3.6.2"
  }
 },
 "nbformat": 4,
 "nbformat_minor": 1
}
