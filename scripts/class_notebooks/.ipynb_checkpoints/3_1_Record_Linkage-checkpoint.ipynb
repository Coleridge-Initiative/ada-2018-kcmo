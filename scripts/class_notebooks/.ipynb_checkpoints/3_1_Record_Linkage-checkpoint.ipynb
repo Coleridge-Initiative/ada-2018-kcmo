{
 "cells": [
  {
   "cell_type": "markdown",
   "metadata": {},
   "source": [
    "# Record Linkage: Introduction and Exercises\n",
    "\n",
    "----\n",
    "\n",
    "## Introduction\n",
    "\n",
    "This notebook will provide you with an instruction into Record Linkage using Python. Upon completion of this notebook you will be able to apply record linkage techniques using the *recordlinkage* package to combine data from different sources in Python. \n",
    "It will lead you through all the steps necessary for a sucessful record linkage starting with data preparation  including pre-processing, cleaning and standardization of data.\n",
    "The notebook follows the underlying lecture and provides examples on how to implement record linkage techniques. \n",
    "## Learning Objectives\n",
    "\n",
    "The goal of this notebook is for you to understand the recod linkage techniques. You will be responsible with linking the different datasets in the ADRF, and the subsequent dataset will be used in your later projects."
   ]
  },
  {
   "cell_type": "markdown",
   "metadata": {},
   "source": [
    "## Table of Contents\n",
    "- [The Principles of Record Linkage](#The-Principles-of-Record-Linkage)\n",
    "- [Setting Up the Case Study](#Setting-Up-the-Case-Study)\n",
    "- [Data Description](#Data-Description)\n",
    "- [Import of Packages](#Import-of-Packages)\n",
    "- [Connecting to the Database](#Connecting-to-the-Database)\n",
    "- [Data Exploration](#Data-Exploration)\n",
    "- [The Importance of Pre-Processing](#The-Importance-of-Pre-Processing)\n",
    "- [Pre-processing of Identifiers](#Pre-processing-of-Identifiers)\n",
    "- [Record Linkage](#Record-Linkage)\n",
    "- [Results](#Results)\n",
    "- [References and Further Readings](#References-and-Further-Readings)"
   ]
  },
  {
   "cell_type": "markdown",
   "metadata": {},
   "source": [
    "## Methods\n",
    "- Back to [Table of Contents](#Table-of-Contents)\n",
    "\n",
    "For this notebook exercise we are interested in data on the businesses of Kansas City, MO. Business names appear in different datasets: Business Licenses from KCMO Department of Revenue, Water Services data, and Patent Data. Here, we will combine the three.\n",
    "\n",
    "- **Analytical Exercise**: Merge Patents Data and Water Services Data onto the Kansas City Business Licenses. \n",
    "\n",
    "- **Data Availability**: We have variables that refer to the Business Name and Business Address in all datasets. Kansas City Business Licenses have 4 years of data, Water Services <span style=\"background-color: #FFFF00\">has 5</span>, and Patent Data goes back to 1976.\n",
    "\n",
    "- **Approach**: We will look at the data available to us, and clean & pre-process it to enable better linkage. Since the only identifiers we have for this case study are the names of the firms and addresses, we will have to use string matching techniques, part of Python's record linkage package. \n",
    "\n"
   ]
  },
  {
   "cell_type": "markdown",
   "metadata": {},
   "source": [
    "## The Principles of Record Linkage\n",
    "- Back to [Table of Contents](#Table-of-Contents)\n",
    "\n",
    "The goal of record linkage is to determine if pairs of records describe the same identity. For instance, this is important for removing duplicates from a data source or joining two separate data sources together. Record linkage also goes by the terms data matching, merge/purge, duplication detection, de-duping, reference matching, entity resolution, disambiguation, co-reference/anaphora in various fields.\n",
    "\n",
    "There are several approaches to record linkage that include \n",
    "    - exact matching \n",
    "    - rule-based linking \n",
    "    - probabilistic linking \n",
    "- An example of **exact matching** is joining records based on social security number, exact name, or geographic code information. This is what you already have done in SQL by joining tables on an unique identifier. \n",
    "- **Rule-based matching** involves applying a cascading set of rules that reflect the domain knowledge of the records being linked. \n",
    "- In **probabilistic record linkages**, linkage weights are estimated to calculate the probability of a certain match.\n",
    "\n",
    "In practical applications you will need record linkage techiques to combine information addressing the same entity that is stored in different data sources. Record linkage will also help you to address the quality of different data sources. For example, if one of your databases has missing values you might be able to fill those by finding an identical pair in a different data source. Overall, the main applications of record linkage are\n",
    "    1. Merging two or more data files \n",
    "    2. Identifying the intersection of the two data sets \n",
    "    3. Updating data files (with the data row of the other data files) and imputing missing data\n",
    "    4. Entity disambiguation and de-duplication"
   ]
  },
  {
   "cell_type": "markdown",
   "metadata": {},
   "source": [
    "## Data Description\n",
    "- Back to [Table of Contents](#Table-of-Contents)\n",
    "\n",
    "The datasets used in this exercise come from the Kansas City, MO, Department of Revenue (<span style=\"background-color: #FFFF00\">`business_licenses`</span>), from the Water Services (<span style=\"background-color: #FFFF00\">`water`</span>), and from the United States Patent and Trademark Office (<span style=\"background-color: #FFFF00\">`patent_data`</span>).\n",
    "\n",
    "**Variables Used for Linking:**\n",
    "\n",
    "The datasets all have a variable for Business Name:\n",
    "- In dataset <span style=\"background-color: #FFFF00\">`business_licenses`</span>: `legal_name`\n",
    "- In dataset <span style=\"background-color: #FFFF00\">`water`</span>: <span style=\"background-color: #FFFF00\">`business_name`</span>\n",
    "- In dataset <span style=\"background-color: #FFFF00\">`patent_data`</span>: `organization`\n",
    "\n",
    "There is also address information in both the Business Licenses data and in the Water Services data:\n",
    "- In dataset <span style=\"background-color: #FFFF00\">`business_licenses`</span>: `address`\n",
    "- In dataset <span style=\"background-color: #FFFF00\">`water`</span>: <span style=\"background-color: #FFFF00\">`address`</span>\n",
    "\n",
    "<span style=\"background-color: #FFFF00\"> \n",
    "**Filter Applied**: for the purposes of this exercise, we also removed certain records with the following criterion: \n",
    "All records which have a unique combination of ein & name_legal... This means any record for which one ein is linked to only one name_legal is not a part of this dataset.\n",
    "All records which have a null value for address or setup_date\n",
    "For 2005 data in particular, for some records, we have character values (A-Z) in the variable holding #employees. We have removed such records. \n",
    "</span>"
   ]
  },
  {
   "cell_type": "markdown",
   "metadata": {},
   "source": [
    "## Import of Packages\n",
    "- Back to [Table of Contents](#Table-of-Contents)\n",
    "\n",
    "Python provides us with some tools we can use for record linkages so we don't have to start from scratch and code our own linkage algorithms. So before we start we need to load the package recordlinkage. To fully function this packages uses other packages which also need to be imported. Thus we are adding more packages to the ones you are already familiar with."
   ]
  },
  {
   "cell_type": "code",
   "execution_count": 33,
   "metadata": {},
   "outputs": [
    {
     "name": "stdout",
     "output_type": "stream",
     "text": [
      "Populating the interactive namespace from numpy and matplotlib\n",
      "Imports loaded at 2018-01-31 17:23:53.061443\n"
     ]
    }
   ],
   "source": [
    "# general use imports\n",
    "%pylab inline\n",
    "import datetime\n",
    "import glob\n",
    "import inspect\n",
    "import numpy as np\n",
    "import os\n",
    "import six\n",
    "import warnings\n",
    "import matplotlib.pyplot as plt\n",
    "import jellyfish\n",
    "import re\n",
    "\n",
    "# pandas-related imports\n",
    "from __future__ import print_function\n",
    "import pandas as pd\n",
    "import scipy\n",
    "import sklearn\n",
    "\n",
    "# record linkage package\n",
    "import recordlinkage as rl\n",
    "from recordlinkage.preprocessing import clean\n",
    "\n",
    "# CSV file reading-related imports\n",
    "import csv\n",
    "\n",
    "# database interaction imports\n",
    "import psycopg2\n",
    "import psycopg2.extras\n",
    "\n",
    "\n",
    "print( \"Imports loaded at \" + str( datetime.datetime.now() ) )"
   ]
  },
  {
   "cell_type": "markdown",
   "metadata": {},
   "source": [
    "## Load the Data\n",
    "- Back to [Table of Contents](#Table-of-Contents)\n",
    "\n",
    "As you've done in previous notebooks, let's set up our database scheme, connect to the Database using Psycopg2, and query the three datasets we would like to use."
   ]
  },
  {
   "cell_type": "code",
   "execution_count": null,
   "metadata": {
    "collapsed": true
   },
   "outputs": [],
   "source": [
    "# Database connection properties\n",
    "# db_name = \"appliedda\"\n",
    "# db_host = \"10.10.2.10\"\n",
    "# conn = psycopg2.connect(database=db_name, host=db_host) #database connectionschema = \"ada_class3\""
   ]
  },
  {
   "cell_type": "code",
   "execution_count": null,
   "metadata": {
    "collapsed": true
   },
   "outputs": [],
   "source": [
    "# Read SQL \n",
    "# business_licenses_query = '''\n",
    "# SELECT *\n",
    "# FROM business_licenses\n",
    "# WHERE\n",
    "# '''\n",
    "\n",
    "# water_services_query = '''\n",
    "# SELECT *\n",
    "# FROM water_services\n",
    "# WHERE\n",
    "# '''\n",
    "\n",
    "# patent_data_query = '''\n",
    "# SELECT *\n",
    "# FROM patent_data\n",
    "# WHERE\n",
    "# '''\n",
    "\n",
    "# Save table in dataframe\n",
    "# business = pd.read_sql(business_licenses_query, conn)\n",
    "# water = pd.read_sql(water_services_query, conn)\n",
    "# patent = pd.read_sql(patent_data_query, conn)"
   ]
  },
  {
   "cell_type": "code",
   "execution_count": 8,
   "metadata": {},
   "outputs": [
    {
     "name": "stderr",
     "output_type": "stream",
     "text": [
      "/Users/nj995/anaconda3/lib/python3.6/site-packages/IPython/core/interactiveshell.py:2698: DtypeWarning: Columns (0,1,2,3,6,7,8,9) have mixed types. Specify dtype option on import or set low_memory=False.\n",
      "  interactivity=interactivity, compiler=compiler, result=result)\n"
     ]
    }
   ],
   "source": [
    "#TEMP\n",
    "business = pd.read_csv('../../data/KCMO/BusinessLicense2013_2018NYU_01222018.csv')\n",
    "# water_services = pd.read_csv('../../data/Water/????.csv')\n",
    "patent = pd.read_csv('../../data/USPTO/patent_data.csv')"
   ]
  },
  {
   "cell_type": "code",
   "execution_count": 9,
   "metadata": {
    "collapsed": true
   },
   "outputs": [],
   "source": [
    "# Renaming Columns\n",
    "business.columns = ['business_activity', 'address', 'legal_name', 'dba_name', 'filing_period']\n",
    "patent.columns = ['id', 'patent_id', 'type', 'number', 'country', 'date'\n",
    "                       , 'assignee_id', 'name_first', 'name_last', 'organization'\n",
    "                      ]"
   ]
  },
  {
   "cell_type": "markdown",
   "metadata": {
    "collapsed": true
   },
   "source": [
    "## Data Exploration\n",
    "- Back to [Table of Contents](#Table-of-Contents)\n",
    "\n",
    "Next, we want to get to know the data a bit so we need to know what kind of pre-processing we have to apply. What you want to check for example are formats, missing values, and the quality of your data in general. "
   ]
  },
  {
   "cell_type": "markdown",
   "metadata": {},
   "source": [
    "#### Visualizing the top rows of the different datasets"
   ]
  },
  {
   "cell_type": "code",
   "execution_count": 11,
   "metadata": {},
   "outputs": [
    {
     "data": {
      "text/html": [
       "<div>\n",
       "<style>\n",
       "    .dataframe thead tr:only-child th {\n",
       "        text-align: right;\n",
       "    }\n",
       "\n",
       "    .dataframe thead th {\n",
       "        text-align: left;\n",
       "    }\n",
       "\n",
       "    .dataframe tbody tr th {\n",
       "        vertical-align: top;\n",
       "    }\n",
       "</style>\n",
       "<table border=\"1\" class=\"dataframe\">\n",
       "  <thead>\n",
       "    <tr style=\"text-align: right;\">\n",
       "      <th></th>\n",
       "      <th>business_activity</th>\n",
       "      <th>address</th>\n",
       "      <th>legal_name</th>\n",
       "      <th>dba_name</th>\n",
       "      <th>filing_period</th>\n",
       "    </tr>\n",
       "  </thead>\n",
       "  <tbody>\n",
       "    <tr>\n",
       "      <th>0</th>\n",
       "      <td>Consumer Lending</td>\n",
       "      <td>6005 NW 104TH TER KANSAS CITY MO 64154-1792</td>\n",
       "      <td>STATHOPOULOS INC</td>\n",
       "      <td>NaN</td>\n",
       "      <td>12/31/13</td>\n",
       "    </tr>\n",
       "    <tr>\n",
       "      <th>1</th>\n",
       "      <td>Consumer Lending</td>\n",
       "      <td>6005 NW 104TH TER KANSAS CITY MO 64154-1792</td>\n",
       "      <td>STATHOPOULOS INC</td>\n",
       "      <td>NaN</td>\n",
       "      <td>12/31/14</td>\n",
       "    </tr>\n",
       "    <tr>\n",
       "      <th>2</th>\n",
       "      <td>Temporary Help Services</td>\n",
       "      <td>6700 ANTIOCH RD STE 460 MERRIAM KS 66204-1200</td>\n",
       "      <td>COMPALLIANCE LLC</td>\n",
       "      <td>NaN</td>\n",
       "      <td>12/31/16</td>\n",
       "    </tr>\n",
       "    <tr>\n",
       "      <th>3</th>\n",
       "      <td>Temporary Help Services</td>\n",
       "      <td>6700 ANTIOCH RD STE 460 MERRIAM KS 66204-1200</td>\n",
       "      <td>COMPALLIANCE LLC</td>\n",
       "      <td>NaN</td>\n",
       "      <td>12/31/17</td>\n",
       "    </tr>\n",
       "    <tr>\n",
       "      <th>4</th>\n",
       "      <td>Temporary Help Services</td>\n",
       "      <td>6700 ANTIOCH RD STE 460 MERRIAM KS 66204-1200</td>\n",
       "      <td>COMPALLIANCE LLC</td>\n",
       "      <td>NaN</td>\n",
       "      <td>12/31/13</td>\n",
       "    </tr>\n",
       "  </tbody>\n",
       "</table>\n",
       "</div>"
      ],
      "text/plain": [
       "         business_activity                                        address  \\\n",
       "0        Consumer Lending     6005 NW 104TH TER KANSAS CITY MO 64154-1792   \n",
       "1        Consumer Lending     6005 NW 104TH TER KANSAS CITY MO 64154-1792   \n",
       "2  Temporary Help Services  6700 ANTIOCH RD STE 460 MERRIAM KS 66204-1200   \n",
       "3  Temporary Help Services  6700 ANTIOCH RD STE 460 MERRIAM KS 66204-1200   \n",
       "4  Temporary Help Services  6700 ANTIOCH RD STE 460 MERRIAM KS 66204-1200   \n",
       "\n",
       "         legal_name dba_name filing_period  \n",
       "0  STATHOPOULOS INC      NaN      12/31/13  \n",
       "1  STATHOPOULOS INC      NaN      12/31/14  \n",
       "2  COMPALLIANCE LLC      NaN      12/31/16  \n",
       "3  COMPALLIANCE LLC      NaN      12/31/17  \n",
       "4  COMPALLIANCE LLC      NaN      12/31/13  "
      ]
     },
     "execution_count": 11,
     "metadata": {},
     "output_type": "execute_result"
    }
   ],
   "source": [
    "business.head()"
   ]
  },
  {
   "cell_type": "code",
   "execution_count": 12,
   "metadata": {},
   "outputs": [
    {
     "data": {
      "text/html": [
       "<div>\n",
       "<style>\n",
       "    .dataframe thead tr:only-child th {\n",
       "        text-align: right;\n",
       "    }\n",
       "\n",
       "    .dataframe thead th {\n",
       "        text-align: left;\n",
       "    }\n",
       "\n",
       "    .dataframe tbody tr th {\n",
       "        vertical-align: top;\n",
       "    }\n",
       "</style>\n",
       "<table border=\"1\" class=\"dataframe\">\n",
       "  <thead>\n",
       "    <tr style=\"text-align: right;\">\n",
       "      <th></th>\n",
       "      <th>id</th>\n",
       "      <th>patent_id</th>\n",
       "      <th>type</th>\n",
       "      <th>number</th>\n",
       "      <th>country</th>\n",
       "      <th>date</th>\n",
       "      <th>assignee_id</th>\n",
       "      <th>name_first</th>\n",
       "      <th>name_last</th>\n",
       "      <th>organization</th>\n",
       "    </tr>\n",
       "  </thead>\n",
       "  <tbody>\n",
       "    <tr>\n",
       "      <th>0</th>\n",
       "      <td>02/002761</td>\n",
       "      <td>D345393</td>\n",
       "      <td>2</td>\n",
       "      <td>2002761</td>\n",
       "      <td>US</td>\n",
       "      <td>1992-12-21</td>\n",
       "      <td>b6329498939970968a9366a03e957115</td>\n",
       "      <td>NaN</td>\n",
       "      <td>NaN</td>\n",
       "      <td>Far Great Plastics Industrial Co., Ltd.</td>\n",
       "    </tr>\n",
       "    <tr>\n",
       "      <th>1</th>\n",
       "      <td>02/007691</td>\n",
       "      <td>5164715</td>\n",
       "      <td>2</td>\n",
       "      <td>2007691</td>\n",
       "      <td>US</td>\n",
       "      <td>1990-04-10</td>\n",
       "      <td>27c275396a1220e677472f96fe035340</td>\n",
       "      <td>NaN</td>\n",
       "      <td>NaN</td>\n",
       "      <td>Stanley Electric Co., Ltd.</td>\n",
       "    </tr>\n",
       "    <tr>\n",
       "      <th>2</th>\n",
       "      <td>02/010248</td>\n",
       "      <td>5177974</td>\n",
       "      <td>2</td>\n",
       "      <td>2010248</td>\n",
       "      <td>US</td>\n",
       "      <td>1988-06-23</td>\n",
       "      <td>4637697c74b334d29644fe57cb4f7493</td>\n",
       "      <td>NaN</td>\n",
       "      <td>NaN</td>\n",
       "      <td>Pub-Gas International Pty. Ltd.</td>\n",
       "    </tr>\n",
       "    <tr>\n",
       "      <th>3</th>\n",
       "      <td>02/020141</td>\n",
       "      <td>5379515</td>\n",
       "      <td>2</td>\n",
       "      <td>2020141</td>\n",
       "      <td>US</td>\n",
       "      <td>1994-02-16</td>\n",
       "      <td>6c00cb129070696ef109f6264da00318</td>\n",
       "      <td>NaN</td>\n",
       "      <td>NaN</td>\n",
       "      <td>Canon Kabushiki Kaisha</td>\n",
       "    </tr>\n",
       "    <tr>\n",
       "      <th>4</th>\n",
       "      <td>02/020141</td>\n",
       "      <td>5379515</td>\n",
       "      <td>2</td>\n",
       "      <td>2020141</td>\n",
       "      <td>US</td>\n",
       "      <td>1994-02-16</td>\n",
       "      <td>4df0c42b474fe1b51374fb4f54c1d7a0</td>\n",
       "      <td>NaN</td>\n",
       "      <td>NaN</td>\n",
       "      <td>Sumitomo Metal Industries, Ltd.</td>\n",
       "    </tr>\n",
       "  </tbody>\n",
       "</table>\n",
       "</div>"
      ],
      "text/plain": [
       "          id patent_id type   number country        date  \\\n",
       "0  02/002761   D345393    2  2002761      US  1992-12-21   \n",
       "1  02/007691   5164715    2  2007691      US  1990-04-10   \n",
       "2  02/010248   5177974    2  2010248      US  1988-06-23   \n",
       "3  02/020141   5379515    2  2020141      US  1994-02-16   \n",
       "4  02/020141   5379515    2  2020141      US  1994-02-16   \n",
       "\n",
       "                        assignee_id name_first name_last  \\\n",
       "0  b6329498939970968a9366a03e957115        NaN       NaN   \n",
       "1  27c275396a1220e677472f96fe035340        NaN       NaN   \n",
       "2  4637697c74b334d29644fe57cb4f7493        NaN       NaN   \n",
       "3  6c00cb129070696ef109f6264da00318        NaN       NaN   \n",
       "4  4df0c42b474fe1b51374fb4f54c1d7a0        NaN       NaN   \n",
       "\n",
       "                              organization  \n",
       "0  Far Great Plastics Industrial Co., Ltd.  \n",
       "1               Stanley Electric Co., Ltd.  \n",
       "2          Pub-Gas International Pty. Ltd.  \n",
       "3                   Canon Kabushiki Kaisha  \n",
       "4          Sumitomo Metal Industries, Ltd.  "
      ]
     },
     "execution_count": 12,
     "metadata": {},
     "output_type": "execute_result"
    }
   ],
   "source": [
    "patent.head()"
   ]
  },
  {
   "cell_type": "code",
   "execution_count": 13,
   "metadata": {
    "collapsed": true
   },
   "outputs": [],
   "source": [
    "#water.head()"
   ]
  },
  {
   "cell_type": "markdown",
   "metadata": {},
   "source": [
    "#### Shape and Properties"
   ]
  },
  {
   "cell_type": "code",
   "execution_count": 16,
   "metadata": {},
   "outputs": [
    {
     "name": "stdout",
     "output_type": "stream",
     "text": [
      "(104362, 5)\n",
      "(6599785, 10)\n"
     ]
    }
   ],
   "source": [
    "# Shape of the data frame\n",
    "print(business.shape)\n",
    "print(patent.shape)\n",
    "#print(water.shape)"
   ]
  },
  {
   "cell_type": "code",
   "execution_count": 19,
   "metadata": {},
   "outputs": [
    {
     "data": {
      "text/html": [
       "<div>\n",
       "<style>\n",
       "    .dataframe thead tr:only-child th {\n",
       "        text-align: right;\n",
       "    }\n",
       "\n",
       "    .dataframe thead th {\n",
       "        text-align: left;\n",
       "    }\n",
       "\n",
       "    .dataframe tbody tr th {\n",
       "        vertical-align: top;\n",
       "    }\n",
       "</style>\n",
       "<table border=\"1\" class=\"dataframe\">\n",
       "  <thead>\n",
       "    <tr style=\"text-align: right;\">\n",
       "      <th></th>\n",
       "      <th>business_activity</th>\n",
       "      <th>address</th>\n",
       "      <th>legal_name</th>\n",
       "      <th>dba_name</th>\n",
       "      <th>filing_period</th>\n",
       "    </tr>\n",
       "  </thead>\n",
       "  <tbody>\n",
       "    <tr>\n",
       "      <th>count</th>\n",
       "      <td>104362</td>\n",
       "      <td>104362</td>\n",
       "      <td>104362</td>\n",
       "      <td>36163</td>\n",
       "      <td>104362</td>\n",
       "    </tr>\n",
       "    <tr>\n",
       "      <th>unique</th>\n",
       "      <td>626</td>\n",
       "      <td>30654</td>\n",
       "      <td>33593</td>\n",
       "      <td>10351</td>\n",
       "      <td>6</td>\n",
       "    </tr>\n",
       "    <tr>\n",
       "      <th>top</th>\n",
       "      <td>Commercial and Institutional Building Construc...</td>\n",
       "      <td>2405 GRAND BLVD STE 1020 KANSAS CITY MO 64108-...</td>\n",
       "      <td>REDBOX AUTOMATED RETAIL LLC</td>\n",
       "      <td>AMERICAN TOWERS ASSET SUB II LLC</td>\n",
       "      <td>12/31/17</td>\n",
       "    </tr>\n",
       "    <tr>\n",
       "      <th>freq</th>\n",
       "      <td>20164</td>\n",
       "      <td>178</td>\n",
       "      <td>332</td>\n",
       "      <td>93</td>\n",
       "      <td>24961</td>\n",
       "    </tr>\n",
       "  </tbody>\n",
       "</table>\n",
       "</div>"
      ],
      "text/plain": [
       "                                        business_activity  \\\n",
       "count                                              104362   \n",
       "unique                                                626   \n",
       "top     Commercial and Institutional Building Construc...   \n",
       "freq                                                20164   \n",
       "\n",
       "                                                  address  \\\n",
       "count                                              104362   \n",
       "unique                                              30654   \n",
       "top     2405 GRAND BLVD STE 1020 KANSAS CITY MO 64108-...   \n",
       "freq                                                  178   \n",
       "\n",
       "                         legal_name                          dba_name  \\\n",
       "count                        104362                             36163   \n",
       "unique                        33593                             10351   \n",
       "top     REDBOX AUTOMATED RETAIL LLC  AMERICAN TOWERS ASSET SUB II LLC   \n",
       "freq                            332                                93   \n",
       "\n",
       "       filing_period  \n",
       "count         104362  \n",
       "unique             6  \n",
       "top         12/31/17  \n",
       "freq           24961  "
      ]
     },
     "execution_count": 19,
     "metadata": {},
     "output_type": "execute_result"
    }
   ],
   "source": [
    "business.describe()"
   ]
  },
  {
   "cell_type": "code",
   "execution_count": 17,
   "metadata": {},
   "outputs": [
    {
     "data": {
      "text/html": [
       "<div>\n",
       "<style>\n",
       "    .dataframe thead tr:only-child th {\n",
       "        text-align: right;\n",
       "    }\n",
       "\n",
       "    .dataframe thead th {\n",
       "        text-align: left;\n",
       "    }\n",
       "\n",
       "    .dataframe tbody tr th {\n",
       "        vertical-align: top;\n",
       "    }\n",
       "</style>\n",
       "<table border=\"1\" class=\"dataframe\">\n",
       "  <thead>\n",
       "    <tr style=\"text-align: right;\">\n",
       "      <th></th>\n",
       "      <th>id</th>\n",
       "      <th>patent_id</th>\n",
       "      <th>type</th>\n",
       "      <th>number</th>\n",
       "      <th>country</th>\n",
       "      <th>date</th>\n",
       "      <th>assignee_id</th>\n",
       "      <th>name_first</th>\n",
       "      <th>name_last</th>\n",
       "      <th>organization</th>\n",
       "    </tr>\n",
       "  </thead>\n",
       "  <tbody>\n",
       "    <tr>\n",
       "      <th>count</th>\n",
       "      <td>6599785</td>\n",
       "      <td>6599785</td>\n",
       "      <td>6599785</td>\n",
       "      <td>6599785</td>\n",
       "      <td>6599785</td>\n",
       "      <td>6599785</td>\n",
       "      <td>5574600</td>\n",
       "      <td>62127</td>\n",
       "      <td>62128</td>\n",
       "      <td>5466526</td>\n",
       "    </tr>\n",
       "    <tr>\n",
       "      <th>unique</th>\n",
       "      <td>6204979</td>\n",
       "      <td>6422962</td>\n",
       "      <td>28</td>\n",
       "      <td>6204890</td>\n",
       "      <td>1</td>\n",
       "      <td>16720</td>\n",
       "      <td>374807</td>\n",
       "      <td>19936</td>\n",
       "      <td>22516</td>\n",
       "      <td>332498</td>\n",
       "    </tr>\n",
       "    <tr>\n",
       "      <th>top</th>\n",
       "      <td>8</td>\n",
       "      <td>4185912</td>\n",
       "      <td>9</td>\n",
       "      <td>8</td>\n",
       "      <td>US</td>\n",
       "      <td>1995-06-07</td>\n",
       "      <td>29a03fd21a4c9b1420a55ecba2105eae</td>\n",
       "      <td>Michael</td>\n",
       "      <td>Lee</td>\n",
       "      <td>International Business Machines Corporation</td>\n",
       "    </tr>\n",
       "    <tr>\n",
       "      <th>freq</th>\n",
       "      <td>131072</td>\n",
       "      <td>35</td>\n",
       "      <td>733624</td>\n",
       "      <td>151684</td>\n",
       "      <td>6599785</td>\n",
       "      <td>10537</td>\n",
       "      <td>110452</td>\n",
       "      <td>433</td>\n",
       "      <td>559</td>\n",
       "      <td>110452</td>\n",
       "    </tr>\n",
       "  </tbody>\n",
       "</table>\n",
       "</div>"
      ],
      "text/plain": [
       "             id patent_id     type   number  country        date  \\\n",
       "count   6599785   6599785  6599785  6599785  6599785     6599785   \n",
       "unique  6204979   6422962       28  6204890        1       16720   \n",
       "top           8   4185912        9        8       US  1995-06-07   \n",
       "freq     131072        35   733624   151684  6599785       10537   \n",
       "\n",
       "                             assignee_id name_first name_last  \\\n",
       "count                            5574600      62127     62128   \n",
       "unique                            374807      19936     22516   \n",
       "top     29a03fd21a4c9b1420a55ecba2105eae    Michael       Lee   \n",
       "freq                              110452        433       559   \n",
       "\n",
       "                                       organization  \n",
       "count                                       5466526  \n",
       "unique                                       332498  \n",
       "top     International Business Machines Corporation  \n",
       "freq                                         110452  "
      ]
     },
     "execution_count": 17,
     "metadata": {},
     "output_type": "execute_result"
    }
   ],
   "source": [
    "patent.describe()"
   ]
  },
  {
   "cell_type": "code",
   "execution_count": null,
   "metadata": {
    "collapsed": true
   },
   "outputs": [],
   "source": [
    "# water.describe()"
   ]
  },
  {
   "cell_type": "markdown",
   "metadata": {},
   "source": [
    "#### Exploring the Business Name variable\n",
    "Let's look at the the most recurring business names in the different datasets."
   ]
  },
  {
   "cell_type": "code",
   "execution_count": 25,
   "metadata": {
    "scrolled": true
   },
   "outputs": [
    {
     "data": {
      "text/plain": [
       "REDBOX AUTOMATED RETAIL LLC        332\n",
       "SP PLUS CORPORATION                200\n",
       "MISSOURI CVS PHARMACY LLC          134\n",
       "COMMERCE BANK                      117\n",
       "BANK OF AMERICA N A                110\n",
       "QUIKTRIP CORPORATION               109\n",
       "AMERICAN TOWER ASSET SUB II LLC     93\n",
       "FAMILY DOLLAR STORES OF MO INC      92\n",
       "HRB TAX GROUP                       92\n",
       "UMB BANK NA                         91\n",
       "Name: legal_name, dtype: int64"
      ]
     },
     "execution_count": 25,
     "metadata": {},
     "output_type": "execute_result"
    }
   ],
   "source": [
    "business['legal_name'].value_counts().head(10)"
   ]
  },
  {
   "cell_type": "code",
   "execution_count": 26,
   "metadata": {
    "collapsed": true
   },
   "outputs": [],
   "source": [
    "# water['business_name'].value_counts().head(10)"
   ]
  },
  {
   "cell_type": "code",
   "execution_count": 23,
   "metadata": {},
   "outputs": [
    {
     "data": {
      "text/plain": [
       "International Business Machines Corporation    110452\n",
       "Samsung Electronics Co., Ltd.                   71621\n",
       "Canon Kabushiki Kaisha                          64973\n",
       "Sony Corporation                                46780\n",
       "Kabushikikaisha Toshiba                         45828\n",
       "GENERAL ELECTRIC COMPANY                        41385\n",
       "Hitachi, Ltd.                                   38041\n",
       "Fujitsu Limited                                 33349\n",
       "Intel Corporation                               33287\n",
       "Microsoft Corporation                           29533\n",
       "Name: organization, dtype: int64"
      ]
     },
     "execution_count": 23,
     "metadata": {},
     "output_type": "execute_result"
    }
   ],
   "source": [
    "patent['organization'].value_counts().head(10)"
   ]
  },
  {
   "cell_type": "markdown",
   "metadata": {},
   "source": [
    "***Right away, we notice that the record linkage between the different datasets will not be straightforward. The variable is messy and non-standardized, similar names can be written differently (in upper-case or lower-case characters, with or without suffixes, etc.) The essential next step is to process the variables in order to make the linkage the most effective and relevant possible.***\n"
   ]
  },
  {
   "cell_type": "markdown",
   "metadata": {},
   "source": [
    "## The Importance of Pre-Processing\n",
    "- Back to the [Table of Contents](#Table-of-Contents)\n",
    "\n",
    "Data pre-processing is an important step in a data anlysis project in general, in record linkage applications in particular. The goal of pre-processing is to transform messy data into a dataset that can be used in a project workflow.\n",
    "\n",
    "Linking records from different data sources comes with different challenges that need to be addressed by the analyst. The analyst must determine whether or not two entities (individuals, businesses, geographical units) on two different files are the same. This determination is not always easy. In most of the cases there is no common uniquely identifing characteristic for a entity. For example, is Bob Miller from New Yor the same person as Bob Miller from Chicago in a given dataset? This detemination has to be executed carefully because consequences of wrong linkages may be substantial (is person X the same person as the person X on the list of identified terrorists). Pre-processing can help to make better informed decisions.\n",
    "\n",
    "Pre-processing can be difficult because there are a lot of things to keep in mind. For example, data input errors, such as typos, misspellings, truncation, abbreviations, and missing values need to be corrected. Literature shows that preprocessing can improve matches. In some situations, 90% of the improvement in matching efficiency may be due to preprocessing. The most common reason why matching projects fail is lack of time and resources for data cleaning. \n",
    "\n",
    "In the following cells we will walk you through some pre-processing steps. These include but are not limited to removing spaces, parsing fields, and standardizing strings."
   ]
  },
  {
   "cell_type": "markdown",
   "metadata": {
    "collapsed": true
   },
   "source": [
    "### Cleaning String Variables\n",
    "\n",
    "In order to clean the Business Name variables, we will use various string transformations and cleaning. The record linkage package comes with a build in cleaning function we can also use. Finaly, RegEx commands can be used for further cleaning (`replace`) and to extract information from strings (`match`)."
   ]
  },
  {
   "cell_type": "code",
   "execution_count": 99,
   "metadata": {},
   "outputs": [],
   "source": [
    "# Create new business name varibles on which we will do the cleaning\n",
    "business['legal_name_clean'] = business['legal_name']\n",
    "#water['business_name_clean'] = water['business_name']\n",
    "patent['organization_clean'] = patent['organization']"
   ]
  },
  {
   "cell_type": "code",
   "execution_count": 100,
   "metadata": {
    "collapsed": true,
    "scrolled": true
   },
   "outputs": [],
   "source": [
    "# Upcasing names\n",
    "business['legal_name_clean'] = business['legal_name_clean'].str.upper()\n",
    "#water['business_name_clean'] = water['business_name_clean'].str.upper()\n",
    "patent['organization_clean'] = patent['organization_clean'].str.upper()"
   ]
  },
  {
   "cell_type": "markdown",
   "metadata": {},
   "source": [
    "<span style=\"background-color: #FFFF00\"> Do we really want to use below package? Kind of useless in my opinion, I prefer teaching them in depth RegEx. </span>"
   ]
  },
  {
   "cell_type": "code",
   "execution_count": 101,
   "metadata": {},
   "outputs": [],
   "source": [
    "# Cleaning names (using the record linkage package tool, see imports)\n",
    "# Clean removes any characters such as '-', '.', '/', '\\', ':', brackets of all types. \n",
    "# business['legal_name_clean']=clean(business['legal_name_clean']\n",
    "#                                    , lowercase=False, strip_accents='ascii', remove_brackets=False)"
   ]
  },
  {
   "cell_type": "code",
   "execution_count": 102,
   "metadata": {
    "collapsed": true
   },
   "outputs": [],
   "source": [
    "# Replace dash character with spaces:\n",
    "patent['organization_clean'] = patent['organization_clean'].str.replace('-', ' ')\n",
    "#water['business_name_clean'] = water['business_name_clean'].str.replace('-', ' ')\n",
    "business['legal_name_clean'] = business['legal_name_clean'].str.replace('-', ' ')"
   ]
  },
  {
   "cell_type": "markdown",
   "metadata": {
    "collapsed": true
   },
   "source": [
    "### Regular Expressions - regex\n",
    "Regular expressions (regex) are a way of searching for a character pattern. They can be used for matching or replacing operations in strings.\n",
    "\n",
    "When defining a regular expression search pattern, it is a good idea to start out by writing down, explicitly, in plain English, what you are trying to search for and exactly how you identify when you've found a match.\n",
    "For example, if we look at an author field formatted as \"<last_name> , <first_name> <middle_name>\", in plain English, this is how I would explain where to find the last name: \"starting from the beginning of the line, take all the characters until you see a comma.\"\n",
    "\n",
    "\n",
    "In a regular expression, there are special reserved characters and character classes. For example:\n",
    "- \"`^`\" matches the beginning of the line or cell\n",
    "- \"`.`\" matches any character\n",
    "- \"`+`\" means one or more repetitions of the preceding expressions\n",
    "\n",
    "Anything that is not a special charater or class is just looked for explicitly. A comma, for example, is not a special character in regular expressions, so inserting \"`,`\" in a regular expression will simply match that character in the string.\n",
    "\n",
    "In our example, in order to extract the last name, the resulting regular expression would be:\n",
    "\"`^.+,`\". We start at the beginning of the line ( \"`^`\" ), matching any characters ( \"`.+`\" ) until we come to the literal character of a comma ( \"`,`\" ).\n",
    "\n",
    "\n",
    "_Note: if you want to actually look for one of these reserved characters, it must be escaped, so that, for example, the expression looks for a literal period, rather than the special regular expression meaning of a period. To escape a reserved character in a regular expression, precede it with a back slash ( \"`\\`\" ). For example, \"`\\.`\" will match a \"`.`\" character in a string._\n",
    "\n",
    "\n",
    "#### REGEX CHEATSHEET\n",
    "\n",
    "\n",
    "    - abc...     Letters\n",
    "    - 123...     Digits\n",
    "    - \\d         Any Digit\n",
    "    - \\D         Any non-Digit Character\n",
    "    - .          Any Character\n",
    "    - \\.         Period\n",
    "    - [a,b,c]    Only a, b or c\n",
    "    - [^a,b,c]   Not a,b, or c\n",
    "    - [a-z]      Characters a to z\n",
    "    - [0-9]      Numbers 0 to 9\n",
    "    - \\w any     Alphanumeric chracter\n",
    "    - \\W         any non-Alphanumeric character\n",
    "    - {m}        m Repetitions\n",
    "    - {m,n}      m to n repetitions\n",
    "    - *          Zero or more repetitions\n",
    "    - +          One or more repetitions\n",
    "    - ?          Optional Character\n",
    "    - \\s         any Whitespace\n",
    "    - \\S         any non-Whitespace character\n",
    "    - ^...$      Starts & Ends\n",
    "    - (...)      Capture Group\n",
    "    - (a(bc))    Capture sub-Group\n",
    "    - (.*)       Capture All\n",
    "    - (abc|def)  Capture abc or def\n",
    "\n",
    "#### Examples:\n",
    "    - `(\\d\\d|\\D)`      will match 22X, 23G, 56H, etc...\n",
    "    - `(\\w)`           will match any characters between 0-9 or a-z\n",
    "    - `(\\w{1-3})`      will match any alphanumeric character of a length of 1 to 3. \n",
    "    - `(spell|spells)` will match spell or spells\n",
    "    - `(corpo?)        will match corp or corpo\n",
    "    - `(feb 2.)`       will match feb 20, feb 21, feb 2a, etc.\n",
    "\n",
    "\n",
    "#### Using REGEX to match characters\n",
    "\n",
    "In python, to use a regular expression like this to search for matches in a given string, we use the built-in \"`re`\" package ( https://docs.python.org/2/library/re.html ), specifically the \"`re.search()`\" method. To use \"`re.search()`\", pass it first the regular expression you want to use to search, enclosed in quotation marks, and then the string you want to search within. \n",
    "\n",
    "\n",
    "\n",
    "#### Using REGEX for replacing characters\n",
    "\n",
    "The `re` package also has an \"`re.sub()`\" method used to replace regular expressions by other strings. The method can be applied to an entire pandas column (replacing expression1 with expression2) with the following syntax: `df['variable'].str.replace(r'expression1', 'expression2')`. Note the `r` before the first expression to signal we are using regular expressions."
   ]
  },
  {
   "cell_type": "code",
   "execution_count": 103,
   "metadata": {
    "collapsed": true
   },
   "outputs": [],
   "source": [
    "# Remove all content in parentheses:\n",
    "# Parentheses are already regex reserved characters so we use the backslash to match them.\n",
    "patent['organization_clean'] = patent['organization_clean'].str.replace(r'\\(.+\\)', '')\n",
    "# water['business_name_clean'] = water['business_name_clean'].str.replace(r'\\(.+\\)', '')\n",
    "business['legal_name_clean'] = business['legal_name_clean'].str.replace(r'\\(.+\\)', '')"
   ]
  },
  {
   "cell_type": "code",
   "execution_count": 104,
   "metadata": {
    "collapsed": true
   },
   "outputs": [],
   "source": [
    "# Keep only alphanumeric characters, spaces, and '&' characters:\n",
    "patent['organization_clean'] = patent['organization_clean'].str.replace(r'[^(A-Z\\s0-9\\&)]', '')\n",
    "# water['business_name_clean'] = water['business_name_clean'].str.replace(r'[^A-Z,\\s,0-9,\\&]', '')\n",
    "business['legal_name_clean'] = business['legal_name_clean'].str.replace(r'[^A-Z,\\s,0-9,\\&]', '')"
   ]
  },
  {
   "cell_type": "markdown",
   "metadata": {},
   "source": [
    "##### Dealing with the '&' character"
   ]
  },
  {
   "cell_type": "code",
   "execution_count": 105,
   "metadata": {},
   "outputs": [
    {
     "data": {
      "text/html": [
       "<div>\n",
       "<style>\n",
       "    .dataframe thead tr:only-child th {\n",
       "        text-align: right;\n",
       "    }\n",
       "\n",
       "    .dataframe thead th {\n",
       "        text-align: left;\n",
       "    }\n",
       "\n",
       "    .dataframe tbody tr th {\n",
       "        vertical-align: top;\n",
       "    }\n",
       "</style>\n",
       "<table border=\"1\" class=\"dataframe\">\n",
       "  <thead>\n",
       "    <tr style=\"text-align: right;\">\n",
       "      <th></th>\n",
       "      <th>id</th>\n",
       "      <th>patent_id</th>\n",
       "      <th>type</th>\n",
       "      <th>number</th>\n",
       "      <th>country</th>\n",
       "      <th>date</th>\n",
       "      <th>assignee_id</th>\n",
       "      <th>name_first</th>\n",
       "      <th>name_last</th>\n",
       "      <th>organization</th>\n",
       "      <th>organization_clean</th>\n",
       "    </tr>\n",
       "  </thead>\n",
       "  <tbody>\n",
       "    <tr>\n",
       "      <th>718</th>\n",
       "      <td>04/221366</td>\n",
       "      <td>4418169</td>\n",
       "      <td>4</td>\n",
       "      <td>4221366</td>\n",
       "      <td>US</td>\n",
       "      <td>1962-09-04</td>\n",
       "      <td>43492b06a5c68c0ed2a01fbdbc746fbb</td>\n",
       "      <td>NaN</td>\n",
       "      <td>NaN</td>\n",
       "      <td>M &amp; T Chemicals Inc.</td>\n",
       "      <td>M &amp; T CHEMICALS INC</td>\n",
       "    </tr>\n",
       "  </tbody>\n",
       "</table>\n",
       "</div>"
      ],
      "text/plain": [
       "            id patent_id type   number country        date  \\\n",
       "718  04/221366   4418169    4  4221366      US  1962-09-04   \n",
       "\n",
       "                          assignee_id name_first name_last  \\\n",
       "718  43492b06a5c68c0ed2a01fbdbc746fbb        NaN       NaN   \n",
       "\n",
       "             organization   organization_clean  \n",
       "718  M & T Chemicals Inc.  M & T CHEMICALS INC  "
      ]
     },
     "execution_count": 105,
     "metadata": {},
     "output_type": "execute_result"
    }
   ],
   "source": [
    "business[business['legal_name_clean'].str.contains('R&R PACKAGING')]"
   ]
  },
  {
   "cell_type": "code",
   "execution_count": 178,
   "metadata": {},
   "outputs": [
    {
     "data": {
      "text/html": [
       "<div>\n",
       "<style>\n",
       "    .dataframe thead tr:only-child th {\n",
       "        text-align: right;\n",
       "    }\n",
       "\n",
       "    .dataframe thead th {\n",
       "        text-align: left;\n",
       "    }\n",
       "\n",
       "    .dataframe tbody tr th {\n",
       "        vertical-align: top;\n",
       "    }\n",
       "</style>\n",
       "<table border=\"1\" class=\"dataframe\">\n",
       "  <thead>\n",
       "    <tr style=\"text-align: right;\">\n",
       "      <th></th>\n",
       "      <th>id</th>\n",
       "      <th>patent_id</th>\n",
       "      <th>type</th>\n",
       "      <th>number</th>\n",
       "      <th>country</th>\n",
       "      <th>date</th>\n",
       "      <th>assignee_id</th>\n",
       "      <th>name_first</th>\n",
       "      <th>name_last</th>\n",
       "      <th>organization</th>\n",
       "      <th>organization_clean</th>\n",
       "    </tr>\n",
       "  </thead>\n",
       "  <tbody>\n",
       "    <tr>\n",
       "      <th>4422188</th>\n",
       "      <td>2008/12315944</td>\n",
       "      <td>8416059</td>\n",
       "      <td>12</td>\n",
       "      <td>12315944</td>\n",
       "      <td>US</td>\n",
       "      <td>2008-12-08</td>\n",
       "      <td>2f5cb927ba4e8aa74e2b352a1ff00036</td>\n",
       "      <td>NaN</td>\n",
       "      <td>NaN</td>\n",
       "      <td>R&amp;R Packaging, Inc.</td>\n",
       "      <td>R &amp; R PACKAGING INC</td>\n",
       "    </tr>\n",
       "    <tr>\n",
       "      <th>4745997</th>\n",
       "      <td>2010/12661886</td>\n",
       "      <td>8215552</td>\n",
       "      <td>12</td>\n",
       "      <td>12661886</td>\n",
       "      <td>US</td>\n",
       "      <td>2010-03-25</td>\n",
       "      <td>8357d285ee114a21177d7fe46e3fde0b</td>\n",
       "      <td>NaN</td>\n",
       "      <td>NaN</td>\n",
       "      <td>R &amp; R Packaging, Inc.</td>\n",
       "      <td>R &amp; R PACKAGING INC</td>\n",
       "    </tr>\n",
       "  </tbody>\n",
       "</table>\n",
       "</div>"
      ],
      "text/plain": [
       "                    id patent_id type    number country        date  \\\n",
       "4422188  2008/12315944   8416059   12  12315944      US  2008-12-08   \n",
       "4745997  2010/12661886   8215552   12  12661886      US  2010-03-25   \n",
       "\n",
       "                              assignee_id name_first name_last  \\\n",
       "4422188  2f5cb927ba4e8aa74e2b352a1ff00036        NaN       NaN   \n",
       "4745997  8357d285ee114a21177d7fe46e3fde0b        NaN       NaN   \n",
       "\n",
       "                  organization   organization_clean  \n",
       "4422188    R&R Packaging, Inc.  R & R PACKAGING INC  \n",
       "4745997  R & R Packaging, Inc.  R & R PACKAGING INC  "
      ]
     },
     "execution_count": 178,
     "metadata": {},
     "output_type": "execute_result"
    }
   ],
   "source": [
    "patent[patent['organization_clean'].str.contains('R & R PACKAGING')]"
   ]
  },
  {
   "cell_type": "markdown",
   "metadata": {},
   "source": [
    "In some cases, the & character is preceded and followed by spaces. In others, this is not the case.\n",
    "\n",
    "Let's standardize this by replacing all '&' characters by ' & '"
   ]
  },
  {
   "cell_type": "code",
   "execution_count": 107,
   "metadata": {
    "collapsed": true
   },
   "outputs": [],
   "source": [
    "patent['organization_clean'] = patent['organization_clean'].str.replace(r'\\s?&\\s?', ' & ')\n",
    "# water['business_name_clean'] = water['business_name_clean'].str.replace(r'\\s?&\\s?', ' & ')\n",
    "business['legal_name_clean'] = business['legal_name_clean'].str.replace(r'\\s?&\\s?', ' & ')"
   ]
  },
  {
   "cell_type": "markdown",
   "metadata": {},
   "source": [
    "___Dealin with business suffixes:___"
   ]
  },
  {
   "cell_type": "code",
   "execution_count": 151,
   "metadata": {},
   "outputs": [
    {
     "data": {
      "text/html": [
       "<div>\n",
       "<style>\n",
       "    .dataframe thead tr:only-child th {\n",
       "        text-align: right;\n",
       "    }\n",
       "\n",
       "    .dataframe thead th {\n",
       "        text-align: left;\n",
       "    }\n",
       "\n",
       "    .dataframe tbody tr th {\n",
       "        vertical-align: top;\n",
       "    }\n",
       "</style>\n",
       "<table border=\"1\" class=\"dataframe\">\n",
       "  <thead>\n",
       "    <tr style=\"text-align: right;\">\n",
       "      <th></th>\n",
       "      <th>business_activity</th>\n",
       "      <th>address</th>\n",
       "      <th>legal_name</th>\n",
       "      <th>dba_name</th>\n",
       "      <th>filing_period</th>\n",
       "      <th>legal_name_clean</th>\n",
       "    </tr>\n",
       "  </thead>\n",
       "  <tbody>\n",
       "    <tr>\n",
       "      <th>59700</th>\n",
       "      <td>Commercial and Institutional Building Construc...</td>\n",
       "      <td>38 DYER ST EXT NORTH BERWICK ME 03906-6763</td>\n",
       "      <td>HUSSEY SEATING CO</td>\n",
       "      <td>NaN</td>\n",
       "      <td>12/31/17</td>\n",
       "      <td>HUSSEY SEATING CO</td>\n",
       "    </tr>\n",
       "  </tbody>\n",
       "</table>\n",
       "</div>"
      ],
      "text/plain": [
       "                                       business_activity  \\\n",
       "59700  Commercial and Institutional Building Construc...   \n",
       "\n",
       "                                          address         legal_name dba_name  \\\n",
       "59700  38 DYER ST EXT NORTH BERWICK ME 03906-6763  HUSSEY SEATING CO      NaN   \n",
       "\n",
       "      filing_period   legal_name_clean  \n",
       "59700      12/31/17  HUSSEY SEATING CO  "
      ]
     },
     "execution_count": 151,
     "metadata": {},
     "output_type": "execute_result"
    }
   ],
   "source": [
    "business[business['legal_name_clean'].str.contains('HUSSEY SEATING')]"
   ]
  },
  {
   "cell_type": "code",
   "execution_count": 153,
   "metadata": {},
   "outputs": [
    {
     "data": {
      "text/html": [
       "<div>\n",
       "<style>\n",
       "    .dataframe thead tr:only-child th {\n",
       "        text-align: right;\n",
       "    }\n",
       "\n",
       "    .dataframe thead th {\n",
       "        text-align: left;\n",
       "    }\n",
       "\n",
       "    .dataframe tbody tr th {\n",
       "        vertical-align: top;\n",
       "    }\n",
       "</style>\n",
       "<table border=\"1\" class=\"dataframe\">\n",
       "  <thead>\n",
       "    <tr style=\"text-align: right;\">\n",
       "      <th></th>\n",
       "      <th>id</th>\n",
       "      <th>patent_id</th>\n",
       "      <th>type</th>\n",
       "      <th>number</th>\n",
       "      <th>country</th>\n",
       "      <th>date</th>\n",
       "      <th>assignee_id</th>\n",
       "      <th>name_first</th>\n",
       "      <th>name_last</th>\n",
       "      <th>organization</th>\n",
       "      <th>organization_clean</th>\n",
       "    </tr>\n",
       "  </thead>\n",
       "  <tbody>\n",
       "    <tr>\n",
       "      <th>1413547</th>\n",
       "      <td>07/753746</td>\n",
       "      <td>5277001</td>\n",
       "      <td>7</td>\n",
       "      <td>7753746</td>\n",
       "      <td>US</td>\n",
       "      <td>1991-09-03</td>\n",
       "      <td>ac87d80dce24c30004bd6cb822925438</td>\n",
       "      <td>NaN</td>\n",
       "      <td>NaN</td>\n",
       "      <td>Hussey Seating Company</td>\n",
       "      <td>HUSSEY SEATING COMPANY</td>\n",
       "    </tr>\n",
       "    <tr>\n",
       "      <th>1487812</th>\n",
       "      <td>07/873474</td>\n",
       "      <td>5288128</td>\n",
       "      <td>7</td>\n",
       "      <td>7873474</td>\n",
       "      <td>US</td>\n",
       "      <td>1992-04-24</td>\n",
       "      <td>ac87d80dce24c30004bd6cb822925438</td>\n",
       "      <td>NaN</td>\n",
       "      <td>NaN</td>\n",
       "      <td>Hussey Seating Company</td>\n",
       "      <td>HUSSEY SEATING COMPANY</td>\n",
       "    </tr>\n",
       "  </tbody>\n",
       "</table>\n",
       "</div>"
      ],
      "text/plain": [
       "                id patent_id type   number country        date  \\\n",
       "1413547  07/753746   5277001    7  7753746      US  1991-09-03   \n",
       "1487812  07/873474   5288128    7  7873474      US  1992-04-24   \n",
       "\n",
       "                              assignee_id name_first name_last  \\\n",
       "1413547  ac87d80dce24c30004bd6cb822925438        NaN       NaN   \n",
       "1487812  ac87d80dce24c30004bd6cb822925438        NaN       NaN   \n",
       "\n",
       "                   organization      organization_clean  \n",
       "1413547  Hussey Seating Company  HUSSEY SEATING COMPANY  \n",
       "1487812  Hussey Seating Company  HUSSEY SEATING COMPANY  "
      ]
     },
     "execution_count": 153,
     "metadata": {},
     "output_type": "execute_result"
    }
   ],
   "source": [
    "patent[patent['organization_clean'].str.contains('HUSSEY SEATING')].head(2)"
   ]
  },
  {
   "cell_type": "markdown",
   "metadata": {},
   "source": [
    "\"Hussey Seating\" has an office in Kansas City, MO, and has several patents in it's name. In the Business Licenses Records, the legal name has the suffix \"CO\", while in the patent database, it is written with the entire word \"COMPANY\". It is therefore essential to standardize company suffixes."
   ]
  },
  {
   "cell_type": "code",
   "execution_count": 154,
   "metadata": {
    "collapsed": true
   },
   "outputs": [],
   "source": [
    "# replace Company by CO\n",
    "patent['organization_clean'] = patent['organization_clean'].str.replace('COMPANY', 'CO')\n",
    "# water['business_name_clean'] = water['business_name_clean'].str.replace('COMPANY', 'CO')\n",
    "business['legal_name_clean'] = business['legal_name_clean'].str.replace('COMPANY', 'CO')\n",
    "\n",
    "# replace National Association by NA\n",
    "patent['organization_clean'] = patent['organization_clean'].str.replace('NATIONAL ASSOCIATION', 'NA')\n",
    "# water['business_name_clean'] = water['business_name_clean'].str.replace('NATIONAL ASSOCIATION', 'NA')\n",
    "business['legal_name_clean'] = business['legal_name_clean'].str.replace('NATIONAL ASSOCIATION', 'NA')\n",
    "\n",
    "# replace CORPORATION by CORP\n",
    "patent['organization_clean'] = patent['organization_clean'].str.replace(r'CORPORATION', 'CORP')\n",
    "# water['business_name_clean'] = water['business_name_clean'].str.replace(r'CORPORATION', 'CORP')\n",
    "business['legal_name_clean'] = business['legal_name_clean'].str.replace(r'CORPORATION', 'CORP')\n",
    "\n",
    "# replace N A by NA\n",
    "patent['organization_clean'] = patent['organization_clean'].str.replace(r'\\bN\\sA\\b', 'NA')\n",
    "# water['business_name_clean'] = water['business_name_clean'].str.replace(r'\\bN\\sA\\b', 'NA')\n",
    "business['legal_name_clean'] = business['legal_name_clean'].str.replace(r'\\bN\\sA\\b', 'NA')\n",
    "\n",
    "# replace L L C by LLC\n",
    "patent['organization_clean'] = patent['organization_clean'].str.replace(r'\\bL\\sL\\sC\\b', 'LLC')\n",
    "# water['business_name_clean'] = water['business_name_clean'].str.replace(r'\\bL\\sL\\sC\\b', 'LLC')\n",
    "business['legal_name_clean'] = business['legal_name_clean'].str.replace(r'\\bL\\sL\\sC\\b', 'LLC')"
   ]
  },
  {
   "cell_type": "markdown",
   "metadata": {},
   "source": [
    "___Dealing with the word \"THE\":___"
   ]
  },
  {
   "cell_type": "code",
   "execution_count": 174,
   "metadata": {},
   "outputs": [
    {
     "data": {
      "text/html": [
       "<div>\n",
       "<style>\n",
       "    .dataframe thead tr:only-child th {\n",
       "        text-align: right;\n",
       "    }\n",
       "\n",
       "    .dataframe thead th {\n",
       "        text-align: left;\n",
       "    }\n",
       "\n",
       "    .dataframe tbody tr th {\n",
       "        vertical-align: top;\n",
       "    }\n",
       "</style>\n",
       "<table border=\"1\" class=\"dataframe\">\n",
       "  <thead>\n",
       "    <tr style=\"text-align: right;\">\n",
       "      <th></th>\n",
       "      <th>business_activity</th>\n",
       "      <th>address</th>\n",
       "      <th>legal_name</th>\n",
       "      <th>dba_name</th>\n",
       "      <th>filing_period</th>\n",
       "      <th>legal_name_clean</th>\n",
       "    </tr>\n",
       "  </thead>\n",
       "  <tbody>\n",
       "    <tr>\n",
       "      <th>2211</th>\n",
       "      <td>Paint and Wallpaper Stores</td>\n",
       "      <td>10117 STATE LINE RD KANSAS CITY MO 64114-4262</td>\n",
       "      <td>SHERWIN WILLIAMS CO THE</td>\n",
       "      <td>SHERWIN WILLIAMS STORE #7206</td>\n",
       "      <td>12/31/16</td>\n",
       "      <td>SHERWIN WILLIAMS CO THE</td>\n",
       "    </tr>\n",
       "    <tr>\n",
       "      <th>2212</th>\n",
       "      <td>Paint and Wallpaper Stores</td>\n",
       "      <td>10117 STATE LINE RD KANSAS CITY MO 64114-4262</td>\n",
       "      <td>SHERWIN WILLIAMS CO THE</td>\n",
       "      <td>SHERWIN WILLIAMS STORE #7206</td>\n",
       "      <td>12/31/17</td>\n",
       "      <td>SHERWIN WILLIAMS CO THE</td>\n",
       "    </tr>\n",
       "  </tbody>\n",
       "</table>\n",
       "</div>"
      ],
      "text/plain": [
       "                business_activity  \\\n",
       "2211  Paint and Wallpaper Stores    \n",
       "2212  Paint and Wallpaper Stores    \n",
       "\n",
       "                                            address               legal_name  \\\n",
       "2211  10117 STATE LINE RD KANSAS CITY MO 64114-4262  SHERWIN WILLIAMS CO THE   \n",
       "2212  10117 STATE LINE RD KANSAS CITY MO 64114-4262  SHERWIN WILLIAMS CO THE   \n",
       "\n",
       "                          dba_name filing_period         legal_name_clean  \n",
       "2211  SHERWIN WILLIAMS STORE #7206      12/31/16  SHERWIN WILLIAMS CO THE  \n",
       "2212  SHERWIN WILLIAMS STORE #7206      12/31/17  SHERWIN WILLIAMS CO THE  "
      ]
     },
     "execution_count": 174,
     "metadata": {},
     "output_type": "execute_result"
    }
   ],
   "source": [
    "business[business['legal_name_clean'].str.contains('SHERWIN WILLIAMS')].head(2)"
   ]
  },
  {
   "cell_type": "code",
   "execution_count": 175,
   "metadata": {},
   "outputs": [
    {
     "data": {
      "text/html": [
       "<div>\n",
       "<style>\n",
       "    .dataframe thead tr:only-child th {\n",
       "        text-align: right;\n",
       "    }\n",
       "\n",
       "    .dataframe thead th {\n",
       "        text-align: left;\n",
       "    }\n",
       "\n",
       "    .dataframe tbody tr th {\n",
       "        vertical-align: top;\n",
       "    }\n",
       "</style>\n",
       "<table border=\"1\" class=\"dataframe\">\n",
       "  <thead>\n",
       "    <tr style=\"text-align: right;\">\n",
       "      <th></th>\n",
       "      <th>id</th>\n",
       "      <th>patent_id</th>\n",
       "      <th>type</th>\n",
       "      <th>number</th>\n",
       "      <th>country</th>\n",
       "      <th>date</th>\n",
       "      <th>assignee_id</th>\n",
       "      <th>name_first</th>\n",
       "      <th>name_last</th>\n",
       "      <th>organization</th>\n",
       "      <th>organization_clean</th>\n",
       "    </tr>\n",
       "  </thead>\n",
       "  <tbody>\n",
       "    <tr>\n",
       "      <th>3908</th>\n",
       "      <td>05/232319</td>\n",
       "      <td>3980488</td>\n",
       "      <td>5</td>\n",
       "      <td>5232319</td>\n",
       "      <td>US</td>\n",
       "      <td>1972-03-07</td>\n",
       "      <td>930c051692288ba87d18f8bb85a04009</td>\n",
       "      <td>NaN</td>\n",
       "      <td>NaN</td>\n",
       "      <td>The Sherwin-Williams Company</td>\n",
       "      <td>THE SHERWIN WILLIAMS CO</td>\n",
       "    </tr>\n",
       "    <tr>\n",
       "      <th>7763</th>\n",
       "      <td>05/362746</td>\n",
       "      <td>3940385</td>\n",
       "      <td>5</td>\n",
       "      <td>5362746</td>\n",
       "      <td>US</td>\n",
       "      <td>1973-05-22</td>\n",
       "      <td>930c051692288ba87d18f8bb85a04009</td>\n",
       "      <td>NaN</td>\n",
       "      <td>NaN</td>\n",
       "      <td>The Sherwin-Williams Company</td>\n",
       "      <td>THE SHERWIN WILLIAMS CO</td>\n",
       "    </tr>\n",
       "  </tbody>\n",
       "</table>\n",
       "</div>"
      ],
      "text/plain": [
       "             id patent_id type   number country        date  \\\n",
       "3908  05/232319   3980488    5  5232319      US  1972-03-07   \n",
       "7763  05/362746   3940385    5  5362746      US  1973-05-22   \n",
       "\n",
       "                           assignee_id name_first name_last  \\\n",
       "3908  930c051692288ba87d18f8bb85a04009        NaN       NaN   \n",
       "7763  930c051692288ba87d18f8bb85a04009        NaN       NaN   \n",
       "\n",
       "                      organization       organization_clean  \n",
       "3908  The Sherwin-Williams Company  THE SHERWIN WILLIAMS CO  \n",
       "7763  The Sherwin-Williams Company  THE SHERWIN WILLIAMS CO  "
      ]
     },
     "execution_count": 175,
     "metadata": {},
     "output_type": "execute_result"
    }
   ],
   "source": [
    "patent[patent['organization_clean'].str.contains('SHERWIN WILLIAMS')].head(2)"
   ]
  },
  {
   "cell_type": "markdown",
   "metadata": {},
   "source": [
    "In the KCMO Business Licenses data, the word \"THE\" at the beginning of a company name was moved to the end.\n",
    "\n",
    "Instead of moving it back to the front of the name, let's just remove \"THE\" when it is the first or last word of the Business Name."
   ]
  },
  {
   "cell_type": "code",
   "execution_count": 176,
   "metadata": {
    "collapsed": true
   },
   "outputs": [],
   "source": [
    "# First Word:\n",
    "patent['organization_clean'] = patent['organization_clean'].str.replace(r'^THE\\b', '')\n",
    "# water['business_name_clean'] = water['business_name_clean'].str.replace(r'^THE\\b', '')\n",
    "business['legal_name_clean'] = business['legal_name_clean'].str.replace(r'^THE\\b', '')\n",
    "\n",
    "# Last Word:\n",
    "patent['organization_clean'] = patent['organization_clean'].str.replace(r'\\bTHE$', '')\n",
    "# water['business_name_clean'] = water['business_name_clean'].str.replace(r'\\bTHE$', '')\n",
    "business['legal_name_clean'] = business['legal_name_clean'].str.replace(r'\\bTHE$', '')"
   ]
  },
  {
   "cell_type": "markdown",
   "metadata": {},
   "source": [
    "___Additional Replacements:___"
   ]
  },
  {
   "cell_type": "code",
   "execution_count": null,
   "metadata": {
    "collapsed": true
   },
   "outputs": [],
   "source": [
    "# replace U S A by USA\n",
    "patent['organization_clean'] = patent['organization_clean'].str.replace(r'\\bU\\sS\\sA\\b', 'USA')\n",
    "# water['business_name_clean'] = water['business_name_clean'].str.replace(r'\\bU\\sS\\sA\\b', 'USA')\n",
    "business['legal_name_clean'] = business['legal_name_clean'].str.replace(r'\\bU\\sS\\sA\\b', 'USA')\n",
    "\n",
    "# replace U S by US\n",
    "patent['organization_clean'] = patent['organization_clean'].str.replace(r'\\bU\\sS\\b', 'US')\n",
    "# water['business_name_clean'] = water['business_name_clean'].str.replace(r'\\bU\\sS\\b', 'US')\n",
    "business['legal_name_clean'] = business['legal_name_clean'].str.replace(r'\\bU\\sS\\b', 'US')"
   ]
  },
  {
   "cell_type": "markdown",
   "metadata": {},
   "source": [
    "___ Additional Changes: ___\n",
    "\n",
    "Do you see any other possible standardizations? Insert them below!"
   ]
  },
  {
   "cell_type": "code",
   "execution_count": 179,
   "metadata": {
    "collapsed": true
   },
   "outputs": [],
   "source": [
    "# conditions= [\n",
    "#     (d_2015['legal_name']=='INC'), \n",
    "#     (d_2015['legal_name']=='LTD'), \n",
    "#     (d_2015['legal_name']=='LIMITED'), \n",
    "#     (d_2015['legal_name']=='INCORPORATED'), \n",
    "#     (d_2015['legal_name']=='INCORPORATION'), \n",
    "#     (d_2015['legal_name']=='ASSOCIATION'), \n",
    "#     (d_2015['legal_name']=='CORP'), \n",
    "#     (d_2015['legal_name']=='CORPORATION'),\n",
    "#     (d_2015['legal_name']=='CO'),\n",
    "#     (d_2015['legal_name']=='LLC'), \n",
    "#     (d_2015['legal_name']=='ASSOC'), \n",
    "#     (d_2015['legal_name']=='ASSOCIATES'), \n",
    "#     (d_2015['legal_name']=='PTNRSHP') ,\n",
    "#     (d_2015['legal_name']=='COMPANY')\n",
    "# ]\n",
    "\n",
    "# choices=['INC', 'LTD', 'LTD', 'INC', 'INC', 'ASSOCIATION', 'CORP', 'CORP', \\\n",
    "#          'CO', 'LLC', 'ASSOCIATION', 'ASSOCIATES', 'PARTNERSHIP', 'COMPANY']\n",
    "\n",
    "# d_2015['legal_name_clean']=np.select(conditions, choices, default=None)\n",
    "\n",
    "# # This is how our prepared data looks\n",
    "# d_2015[['est_name', 'legal_name_clean', 'address', 'setup_date']].head()"
   ]
  },
  {
   "cell_type": "code",
   "execution_count": null,
   "metadata": {
    "collapsed": true
   },
   "outputs": [],
   "source": []
  },
  {
   "cell_type": "markdown",
   "metadata": {},
   "source": [
    "Now that we have the business name cleaned and standardized across datasets, we can use the different name pairs for string matching. However, before doing that we also would like to look at other variables of interest which might help us in better linkage in terms of increasing probability of a correct match (and reducing errors). The variable which seem immediately important is the address of a given establishment. We can pre-process this attribute by using regex functions."
   ]
  },
  {
   "cell_type": "markdown",
   "metadata": {},
   "source": [
    "## Address Parsing:"
   ]
  },
  {
   "cell_type": "code",
   "execution_count": null,
   "metadata": {
    "collapsed": true
   },
   "outputs": [],
   "source": [
    "# Parsing out the address\n",
    "\n",
    "\n",
    "# Extracting ZIPCODE\n",
    "# Since a US Zipcode typically follows a set pattern of 5 digits or 5digits followed by a hypen and then 4 digits\n",
    "# We can use this information to extract zipcodes. \n",
    "\n",
    "# Pattern1\n",
    "d_2015['zipcode']=d_2015['address'].str.extract('(\\d{5})')\n",
    "\n",
    "# Breaking the code: \n",
    "# \\d ---- tells that we need a digit\n",
    "# \\d{5} ---- tells that we need 5 digits consecutively\n",
    "# () enclosing brackets tell that we need to extract this information in the new variable\n",
    "d_2015[['zipcode', 'address','setup_date']].head()\n",
    "\n",
    "# Pattern 2\n",
    "# What if we want the full zipcode: '5 digits <hyphen> 4 digits'\n",
    "d_2015['zipcode_full']=d_2015['address'].str.extract('(\\d{5}-\\d{4})')\n",
    "\n",
    "# Breaking the code: \n",
    "# \\d ---- tells that we need a digit\n",
    "# \\d{5} ---- tells that we need 5 digits consecutively\n",
    "# '-' this is just passing the string exactly as we need it\n",
    "# \\d{4} tells us 4 more digits\n",
    "# () enclosing brackets tell that we need to extract this information in the new variable\n",
    "\n",
    "# Pattern 3\n",
    "# We can also pass both the expressions in our query as an OR.\n",
    "d_2015['zipcode_either']=d_2015['address'].str.extract('(\\d{5}-\\d{4}|\\d{5})')\n",
    "\n",
    "# Breaking the code: \n",
    "# \\d ---- tells that we need a digit\n",
    "# \\d{5} ---- tells that we need 5 digits consecutively\n",
    "# '-' this is just passing the string exactly as we need it\n",
    "# \\d{4} tells us 4 more digits\n",
    "# () enclosing brackets tell that we need to extract this information in the new variable\n",
    "\n",
    "\n",
    "\n",
    "d_2005['zipcode']=d_2005['address'].str.extract('(\\d{5})')\n",
    "d_2005['day']=d_2005['setup_date'].str.extract('(\\A\\d{1,2})', expand=True)\n",
    "d_2005['month']=d_2005['setup_date'].str.extract('\\d{1,2}.(\\d{1,2})', expand=True)\n",
    "d_2005['year']=d_2005['setup_date'].str.extract('\\w+.(\\d{4})', expand=True)"
   ]
  },
  {
   "cell_type": "code",
   "execution_count": null,
   "metadata": {
    "collapsed": true
   },
   "outputs": [],
   "source": []
  },
  {
   "cell_type": "code",
   "execution_count": null,
   "metadata": {
    "collapsed": true
   },
   "outputs": [],
   "source": []
  },
  {
   "cell_type": "code",
   "execution_count": null,
   "metadata": {
    "collapsed": true
   },
   "outputs": [],
   "source": []
  },
  {
   "cell_type": "code",
   "execution_count": null,
   "metadata": {
    "collapsed": true
   },
   "outputs": [],
   "source": []
  },
  {
   "cell_type": "markdown",
   "metadata": {},
   "source": [
    "## Record Linkage\n",
    "The record linkage package is a quite powerful tool for you to use when you want to link records within a dataset or across multiple datasets. It comes with different bulid in distances metrics and comparison functions, however, it also allows you to create your own. In general record linkage is divided in several steps. "
   ]
  },
  {
   "cell_type": "code",
   "execution_count": null,
   "metadata": {
    "collapsed": true
   },
   "outputs": [],
   "source": [
    "# For the match later so we have different names for years\n",
    "d_2015.rename(columns={'est_name':'est_name_2015'}, inplace=True)\n",
    "d_2005.rename(columns={'est_name':'est_name_2005'}, inplace=True)"
   ]
  },
  {
   "cell_type": "code",
   "execution_count": null,
   "metadata": {
    "collapsed": true
   },
   "outputs": [],
   "source": [
    "# Only keep variables relevant for linkage\n",
    "d_2015 = d_2015[['est_name_2015', 'zipcode', 'year', 'legal_name_clean']]\n",
    "d_2005 = d_2005[['est_name_2005', 'zipcode', 'year', 'legal_name_clean']]"
   ]
  },
  {
   "cell_type": "code",
   "execution_count": null,
   "metadata": {
    "collapsed": true,
    "scrolled": true
   },
   "outputs": [],
   "source": [
    "d_2015.head()"
   ]
  },
  {
   "cell_type": "code",
   "execution_count": null,
   "metadata": {
    "collapsed": true
   },
   "outputs": [],
   "source": [
    "d_2005.head()"
   ]
  },
  {
   "cell_type": "markdown",
   "metadata": {},
   "source": [
    "We've already done the pre-processing, so the next step is indexing the data we would like to link. Indexing allows you to create candidate links, which basically means identifying pairs of data rows which might refer to the same real world entity. This is also called the comparison space (matrix). There are different ways to index data. The easiest is to create a full index and consider every pair a match. This is also the least efficient method, because we will be comparing every row of one dataset with every row of the other dataset. "
   ]
  },
  {
   "cell_type": "code",
   "execution_count": null,
   "metadata": {
    "collapsed": true
   },
   "outputs": [],
   "source": [
    "# Let's generate a full index first (comparison table of all possible linkage combinations)\n",
    "indexer = rl.FullIndex()\n",
    "pairs = indexer.index(d_2015, d_2005)\n",
    "# Returns a pandas MultiIndex object\n",
    "print(len(pairs))"
   ]
  },
  {
   "cell_type": "markdown",
   "metadata": {},
   "source": [
    "We can do better if we actually include our knowledge about the data to eliminate bad link from the start. This can be done through blocking. The recordlinkage packages gives you multiple options for this. For example, you can block by using variables, which menas only links exactly equal on specified values will be kept. You can also use a neighbourhood index in which the rows in your dataframe are ranked by some value and python will only link between the rows that are closeby."
   ]
  },
  {
   "cell_type": "code",
   "execution_count": null,
   "metadata": {
    "collapsed": true
   },
   "outputs": [],
   "source": [
    "indexerBL = rl.BlockIndex(on='zipcode')\n",
    "pairs2 = indexerBL.index(d_2015, d_2005)\n",
    "# Returns a pandas MultiIndex object\n",
    "print(len(pairs2))"
   ]
  },
  {
   "cell_type": "code",
   "execution_count": null,
   "metadata": {
    "collapsed": true
   },
   "outputs": [],
   "source": [
    "# Initiate compare object (we are using the blocked ones here)\n",
    "# You want to give python the name of the MultiIndex and the names of the datasets\n",
    "compare = rl.Compare(pairs2, d_2015,d_2005)"
   ]
  },
  {
   "cell_type": "markdown",
   "metadata": {},
   "source": [
    "Now we have set up our comparison space. We can start to compareour files and see if we find matches. We will demonstrate an exact match and rule based approches using distance measures. "
   ]
  },
  {
   "cell_type": "code",
   "execution_count": null,
   "metadata": {
    "collapsed": true
   },
   "outputs": [],
   "source": [
    "# Exact comparison\n",
    "# This compares all the pairs of strings for exact matches \n",
    "# It is similar to a JOIN-- \n",
    "exact = compare.exact('est_name_2015','est_name_2005',name='exact')"
   ]
  },
  {
   "cell_type": "code",
   "execution_count": null,
   "metadata": {
    "collapsed": true
   },
   "outputs": [],
   "source": [
    "# This command gives us the probability of match between two strings basis the levenshtein distance\n",
    "# The measure is 0 if there are no similarities in thee string, 1 if it's identical  \n",
    "levenshtein = compare.string('est_name_2015','est_name_2005', name='levenshtein')"
   ]
  },
  {
   "cell_type": "code",
   "execution_count": null,
   "metadata": {
    "collapsed": true
   },
   "outputs": [],
   "source": [
    "# This command gives us the probability of match between two strings basis the jarowinkler distance\n",
    "# The measure is 0 if there are no similarities in thee string, 1 if it's identical \n",
    "jarowinkler_name = compare.string('est_name_2015','est_name_2005', method='jarowinkler', name='jarowinkler')"
   ]
  },
  {
   "cell_type": "code",
   "execution_count": null,
   "metadata": {
    "collapsed": true
   },
   "outputs": [],
   "source": [
    "# Finally- we can compare the different metrics for an aggregate comparison of their performance \n",
    "print(compare.vectors.describe())"
   ]
  },
  {
   "cell_type": "code",
   "execution_count": null,
   "metadata": {
    "collapsed": true
   },
   "outputs": [],
   "source": []
  },
  {
   "cell_type": "code",
   "execution_count": null,
   "metadata": {
    "collapsed": true
   },
   "outputs": [],
   "source": []
  },
  {
   "cell_type": "code",
   "execution_count": null,
   "metadata": {
    "collapsed": true
   },
   "outputs": [],
   "source": []
  },
  {
   "cell_type": "markdown",
   "metadata": {},
   "source": [
    "## Results\n",
    "Once we have our comparison measures we need to classify the measure in matches and non matches. A rule based approach would be to say if the similarity of our indicators is 0.70 or higher we consider this a match, everything else we won't match. This decision need to be made by the analyst."
   ]
  },
  {
   "cell_type": "code",
   "execution_count": null,
   "metadata": {
    "collapsed": true
   },
   "outputs": [],
   "source": [
    "# Classify matches \n",
    "matches = compare.vectors[compare.vectors.max(axis=1) > 0.80]\n",
    "matches = matches.sort_values(\"jarowinkler\")\n",
    "matches.head()"
   ]
  },
  {
   "cell_type": "markdown",
   "metadata": {
    "collapsed": true
   },
   "source": [
    "Now that we have the list of matches we can fuse our dataset, becasue at the end we want to have a combined dataset. We are using a function for this task."
   ]
  },
  {
   "cell_type": "code",
   "execution_count": null,
   "metadata": {
    "collapsed": true
   },
   "outputs": [],
   "source": [
    "def fuse(dfA, dfB, dfmatches):\n",
    "    newDF = dfA.copy()\n",
    "    columns = dfB.columns.values\n",
    "    \n",
    "    for col in columns:\n",
    "        newDF[col] = newDF.apply(lambda _: '', axis=1)\n",
    "        \n",
    "    for row in dfmatches.iterrows():\n",
    "        indexA = row[0][0]\n",
    "        indexB = row[0][1]\n",
    "        \n",
    "        for col in columns:\n",
    "            newDF.loc[indexA][col] = dfB.loc[indexB][col]\n",
    "    return newDF"
   ]
  },
  {
   "cell_type": "code",
   "execution_count": null,
   "metadata": {
    "collapsed": true,
    "scrolled": true
   },
   "outputs": [],
   "source": [
    "result = fuse(d_2015, d_2005, matches)\n",
    "result.head(10)"
   ]
  },
  {
   "cell_type": "markdown",
   "metadata": {},
   "source": [
    "Another way of classiying records is the Fellegi Sunter Method. If Fellegi Sunter is used to classify record pairs you would follow all the step we have done so far. However now, we would estimate probabilities to construct weights. These weights will then be applied during the classification to give certain characteristics more importance. For example we are more certain that very unique names are a match than Bob Millers."
   ]
  },
  {
   "cell_type": "markdown",
   "metadata": {},
   "source": [
    "#### Fellegi Sunter"
   ]
  },
  {
   "cell_type": "code",
   "execution_count": null,
   "metadata": {
    "collapsed": true
   },
   "outputs": [],
   "source": [
    "name = compare.string('est_name_2015','est_name_2005', method='jarowinkler', name='name')\n",
    "legal = compare.string('legal_name_clean','legal_name_clean', method='jarowinkler', name='legal')\n",
    "matches = compare.vectors[compare.vectors.max(axis=1) > 0.80]"
   ]
  },
  {
   "cell_type": "code",
   "execution_count": null,
   "metadata": {
    "collapsed": true
   },
   "outputs": [],
   "source": [
    "# Running the Classifier\n",
    "fs = rl.ECMClassifier()\n",
    "model =fs.learn(matches)\n",
    "pred = fs.predict(matches)\n",
    "prob = fs.prob(matches)"
   ]
  },
  {
   "cell_type": "code",
   "execution_count": null,
   "metadata": {
    "collapsed": true
   },
   "outputs": [],
   "source": [
    "prob"
   ]
  },
  {
   "cell_type": "markdown",
   "metadata": {
    "collapsed": true
   },
   "source": [
    "## References and Further Readings\n",
    "\n",
    "- Back to the [Table of Contents](#Table-of-Contents)\n",
    "\n",
    "### Parsing\n",
    "\n",
    "* Python online documentation: https://docs.python.org/2/library/string.html#deprecated-string-functions\n",
    "* Python 2.7 Tutorial(Splitting and Joining Strings): http://www.pitt.edu/~naraehan/python2/split_join.html\n",
    "\n",
    "### Regular Expression\n",
    "\n",
    "* Python documentation: https://docs.python.org/2/library/re.html#regular-expression-syntax\n",
    "* Online regular expression tester (good for learning): http://regex101.com/\n",
    "\n",
    "### String Comparators\n",
    "\n",
    "* GitHub page of jellyfish: https://github.com/jamesturk/jellyfish\n",
    "* Different distances that measure the differences between strings:\n",
    "    - Levenshtein distance: https://en.wikipedia.org/wiki/Levenshtein_distance\n",
    "    - Damerau–Levenshtein distance: https://en.wikipedia.org/wiki/Damerau%E2%80%93Levenshtein_distance\n",
    "    - Jaro–Winkler distance: https://en.wikipedia.org/wiki/Jaro%E2%80%93Winkler_distance\n",
    "    - Hamming distance: https://en.wikipedia.org/wiki/Hamming_distance\n",
    "    - Match rating approach: https://en.wikipedia.org/wiki/Match_rating_approach\n",
    "\n",
    "### Fellegi-Sunter Record Linkage \n",
    "\n",
    "* Introduction to Probabilistic Record Linkage: http://www.bristol.ac.uk/media-library/sites/cmm/migrated/documents/problinkage.pdf\n",
    "* Paper Review: https://www.cs.umd.edu/class/spring2012/cmsc828L/Papers/HerzogEtWires10.pdf\n",
    "\n"
   ]
  }
 ],
 "metadata": {
  "kernelspec": {
   "display_name": "Python 3",
   "language": "python",
   "name": "python3"
  },
  "language_info": {
   "codemirror_mode": {
    "name": "ipython",
    "version": 3
   },
   "file_extension": ".py",
   "mimetype": "text/x-python",
   "name": "python",
   "nbconvert_exporter": "python",
   "pygments_lexer": "ipython3",
   "version": "3.6.2"
  }
 },
 "nbformat": 4,
 "nbformat_minor": 2
}
