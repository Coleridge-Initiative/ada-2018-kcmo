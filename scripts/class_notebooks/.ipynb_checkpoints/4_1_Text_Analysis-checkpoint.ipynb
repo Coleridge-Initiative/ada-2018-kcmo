{
 "cells": [
  {
   "cell_type": "markdown",
   "metadata": {},
   "source": [
    "# Text Analysis\n",
    "---"
   ]
  },
  {
   "cell_type": "markdown",
   "metadata": {},
   "source": [
    "# Table of Contents\n",
    "\n",
    "- [Introduction](#Introduction)\n",
    "\n",
    "    - [Learning Outcomes](#Learning-Outcomes)\n",
    "    - [Glossary of Terms](#Glossary-of-Terms)\n",
    "\n",
    "- [Setup](#Setup)\n",
    "- [Data Orientation](#Data-Orientation)\n",
    "\n",
    "    - [Load the Data](#Load-the-Data)\n",
    "    - [Explore the Data](#Explore-the-Data)\n",
    "    - [How many facilities and types of facilities are in this dataset?](#How-many-facilities-and-types-of-facilities-are-in-this-dataset?)\n",
    "\n",
    "- [Topic Modeling](#Topic-Modeling)\n",
    "\n",
    "    - [Preparing Text Data for NLP](#Preparing-Text-Data-for-NLP) \n",
    "    \n",
    "        - [Creating a matrix of features from text - Bag of N-gram Example](#Creating-a-matrix-of-features-from-text---Bag-of-N-gram-Example)\n",
    "        \n",
    "            - **_[Exercise 1 - convert corpus to matrix](#Exercise-1---convert-corpus-to-matrix)_**\n",
    "        \n",
    "        - [Calculating Word Counts](#Calculating-Word-Counts)\n",
    "            \n",
    "            - **_[Exercise 2 - getting word counts](#Exercise-2---getting-word-counts)_**\n",
    "    \n",
    "        - [Creating Text Corpus - choosing text to analyze](#Creating-Text-Corpus---choosing-text-to-analyze)\n",
    "        - [Text Cleaning and Normalization](#Text-Cleaning-and-Normalization)\n",
    "        \n",
    "            - [First Description, Before Cleaning](#First-Description,-Before-Cleaning)\n",
    "            - [First Description, After Cleaning](#First-Description,-After-Cleaning)\n",
    "            \n",
    "        - [Tokenizing text - breaking it into pieces](#Tokenizing-text---breaking-it-into-pieces)\n",
    "        - [Removing meaningless text - Stopwords](#Removing-meaningless-text---Stopwords)\n",
    "    \n",
    "            - **_[Exercise 3 - practicing slicing](#Exercise-3---practicing-slicing)_**\n",
    "\n",
    "    - [Topic Modeling on Cleaned Data](#Topic-Modeling-on-Cleaned-Data)\n",
    "    \n",
    "        - [Stemming and Lemmatization - Distilling text data](#Stemming-and-Lemmatization---Distilling-text-data)\n",
    "        - [N-grams - Adding context by creating N-grams](#N-grams---Adding-context-by-creating-N-grams)\n",
    "        - [TF-IDF - Weighting terms based on frequency](#TF-IDF---Weighting-terms-based-on-frequency)\n",
    "        - **_[Exercise 4 - Refining a topic model](#Exercise-4---Refining-a-topic-model)_**\n",
    "        - **_[Exercise 5 - Interpreting a model's \"topics\"](#Exercise-5---Interpreting-a-model's-\"topics\")_**\n",
    "    \n",
    "- [Supervised Learning: Document Classification](#Supervised-Learning:-Document-Classification)\n",
    "\n",
    "    - [Supervised Learning - Prepare the Data](#Supervised-Learning---Prepare-the-Data)\n",
    "    - [Prepare Data for Document Classification](#Prepare-Data-for-Document-Classification)\n",
    "    - [Model Training - Train Document Classification Model](#Model-Training---Train-Document-Classification-Model)\n",
    "    - [Model Evaluation - Precision and Recall](#Model-Evaluation---Precision-and-Recall)\n",
    "    - [Model Evaluation - Feature Importances](#Model-Evaluation---Feature-Importances)\n",
    "    \n",
    "        - **_[Exercise 6 - interpreting feature importances](#Exercise-6---interpreting-feature-importances)_**\n",
    "    \n",
    "    - [Model Evaluation - Cross-validation](#Model-Evaluation---Cross-validation)\n",
    "    \n",
    "        - **_[Exercise 7 - Try a 5-fold cross-validation](#Exercise-7---Try-a-5-fold-cross-validation)_**\n",
    "    \n",
    "    - [Model Output - Examples of Document Classification](#Model-Output---Examples-of-Document-Classification)\n",
    "    \n",
    "- [Further Resources](#Further-Resources)\n",
    "- Back to [Table of Contents](#Table-of-Contents)"
   ]
  },
  {
   "cell_type": "markdown",
   "metadata": {},
   "source": [
    "## Introduction\n",
    "\n",
    "- Back to [Table of Contents](#Table-of-Contents)\n",
    "\n",
    "**Text analysis** is used to extract useful information from or summarize a large amount of unstructured text stored in documents. This opens up the opportunity of using text data alongside more conventional data sources (e.g. surveys and administrative data). The goal of text analysis is to take a large corpus of complex and unstructured text data and extract important and meaningful messages in a comprehensible way. \n",
    "\n",
    "Text analysis can help with the following tasks:\n",
    "\n",
    "* **Information Retrieval**: Find relevant information in a large database, such as a systematic literature review, that would be very time-consuming for humans to do manually. \n",
    "\n",
    "* **Clustering and Text Categorization**: Summarize a large corpus of text by finding the most important phrases, using methods like topic modeling. \n",
    "\n",
    "* **Text Summarization**: Create category-sensitive text summaries of a large corpus of text. \n",
    "\n",
    "* **Machine Translation**: Translate documents from one language to another. \n",
    "\n",
    "In this tutorial, we are going to analyze patent descriptions using topic modeling. We will examine he content of the different patents and develop a way of clustering patents by key words.\n",
    "\n",
    "## Learning Outcomes\n",
    "\n",
    "- Back to [Table of Contents](#Table-of-Contents)\n",
    "\n",
    "In this tutorial, you will...\n",
    "* Learn how to transform a corpus of text into a structured matrix format so that we can apply natural language processing (NLP) methods\n",
    "* Learn the basics and applications of topic modeling\n",
    "* Learn how to do document tagging and evaluate the results\n",
    "\n",
    " \n",
    "## Glossary of Terms\n",
    "\n",
    "- Back to [Table of Contents](#Table-of-Contents)\n",
    "\n",
    "Glossary of Terms:\n",
    "\n",
    "* **Corpus**: A corpus is the set of all text documents used in your analysis; for example, your corpus of text may include hundreds of research articles.\n",
    "\n",
    "* **Tokenize**: Tokenization is the process by which text is separated into meaningful terms or phrases. In English this is easy to do for individual words, as they are separated by whitespace; however, it can get more complicated to  automate determining which groups of words constitute meaningful phrases. \n",
    "\n",
    "* **Stemming**: Stemming is normalizing text by reducing all forms or conjugations of a word to the word's most basic form. In English, this can mean making a rule of removing the suffixes \"ed\" or \"ing\" from the end of all words, but it gets more complex. For example, \"to go\" is irregular, so you need to tell the algorithm that \"went\" and \"goes\" stem from a common lemma, and should be considered alternate forms of the word \"go.\"\n",
    "\n",
    "* **TF-IDF**: TF-IDF (term frequency-inverse document frequency) is an example of feature engineering where the most important words are extracted by taking account their frequency in documents and the entire corpus of documents as a whole.\n",
    "\n",
    "* **Topic Modeling**: Topic modeling is an unsupervised learning method where groups of words that often appear together are clustered into topics. Typically, the words in one topic should be related and make sense (e.g. boat, ship, captain). Individual documents can fall under one topic or multiple topics. \n",
    "\n",
    "* **LDA**: LDA (Latent Dirichlet Allocation) is a type of probabilistic model commonly used for topic modeling. \n",
    "\n",
    "* **Stop Words**: Stop words are words that have little semantic meaning but occur very frequently, like prepositions, articles and common nouns. For example, every document (in English) will probably contain the words \"and\" and \"the\" many times. You will often remove them as part of preprocessing using a list of stop words.\n"
   ]
  },
  {
   "cell_type": "markdown",
   "metadata": {},
   "source": [
    "# Setup\n",
    "\n",
    "- Back to [Table of Contents](#Table-of-Contents)"
   ]
  },
  {
   "cell_type": "code",
   "execution_count": 66,
   "metadata": {},
   "outputs": [
    {
     "name": "stdout",
     "output_type": "stream",
     "text": [
      "Populating the interactive namespace from numpy and matplotlib\n"
     ]
    }
   ],
   "source": [
    "%pylab inline \n",
    "import nltk\n",
    "import ujson\n",
    "import re\n",
    "import time\n",
    "import progressbar\n",
    "\n",
    "import pandas as pd\n",
    "from __future__ import print_function\n",
    "from six.moves import zip, range \n",
    "from sklearn.model_selection import train_test_split\n",
    "\n",
    "from sklearn.feature_extraction.text import CountVectorizer, TfidfTransformer\n",
    "from sklearn.decomposition import LatentDirichletAllocation\n",
    "from sklearn.linear_model import LogisticRegression\n",
    "from sklearn.metrics import precision_recall_curve, roc_auc_score, auc\n",
    "from sklearn import preprocessing\n",
    "from collections import Counter, OrderedDict\n",
    "from nltk.corpus import stopwords\n",
    "from nltk import SnowballStemmer"
   ]
  },
  {
   "cell_type": "code",
   "execution_count": 2,
   "metadata": {},
   "outputs": [
    {
     "name": "stdout",
     "output_type": "stream",
     "text": [
      "[nltk_data] Downloading package stopwords to /Users/nj995/nltk_data...\n",
      "[nltk_data]   Package stopwords is already up-to-date!\n"
     ]
    },
    {
     "data": {
      "text/plain": [
       "True"
      ]
     },
     "execution_count": 2,
     "metadata": {},
     "output_type": "execute_result"
    }
   ],
   "source": [
    "nltk.download('stopwords') #download the latest stopwords"
   ]
  },
  {
   "cell_type": "markdown",
   "metadata": {},
   "source": [
    "# Data Orientation\n",
    "\n",
    "- Back to [Table of Contents](#Table-of-Contents)\n",
    "\n",
    "Our dataset for this tutorial will be the patent description field that we downloaded during the class noteboook on APIs. The subset of patents we are considering are those assigned to companies that have offices in Kansas City, MO."
   ]
  },
  {
   "cell_type": "markdown",
   "metadata": {},
   "source": [
    "## Load the Data\n",
    "\n",
    "- Back to [Table of Contents](#Table-of-Contents)\n",
    "\n",
    "To start, we'll load the data into a pandas DataFrame from a CSV file."
   ]
  },
  {
   "cell_type": "code",
   "execution_count": 3,
   "metadata": {
    "collapsed": true
   },
   "outputs": [],
   "source": [
    "df_patent_desc = pd.read_csv('../../output/patent_desc.csv')"
   ]
  },
  {
   "cell_type": "markdown",
   "metadata": {},
   "source": [
    "## Explore the Data\n",
    "\n",
    "- Back to [Table of Contents](#Table-of-Contents)\n",
    "\n",
    "Our Patent Description data table has 4 fields:\n",
    "\n",
    "- `business_name` - business name that we cleaned/standardized in the Record Linkage notebook.\n",
    "- `patent_number` - unique ID for each patent.\n",
    "- `patent_title` - title of the patent.\n",
    "- `patent_abstract` - A brief description of the patent content.\n",
    "\n",
    "Let's take a look at examples of the values:"
   ]
  },
  {
   "cell_type": "code",
   "execution_count": 4,
   "metadata": {},
   "outputs": [
    {
     "data": {
      "text/html": [
       "<div>\n",
       "<style>\n",
       "    .dataframe thead tr:only-child th {\n",
       "        text-align: right;\n",
       "    }\n",
       "\n",
       "    .dataframe thead th {\n",
       "        text-align: left;\n",
       "    }\n",
       "\n",
       "    .dataframe tbody tr th {\n",
       "        vertical-align: top;\n",
       "    }\n",
       "</style>\n",
       "<table border=\"1\" class=\"dataframe\">\n",
       "  <thead>\n",
       "    <tr style=\"text-align: right;\">\n",
       "      <th></th>\n",
       "      <th>business_name</th>\n",
       "      <th>patent_number</th>\n",
       "      <th>patent_title</th>\n",
       "      <th>patent_abstract</th>\n",
       "    </tr>\n",
       "  </thead>\n",
       "  <tbody>\n",
       "    <tr>\n",
       "      <th>0</th>\n",
       "      <td>RS SERVICES INC</td>\n",
       "      <td>6772598</td>\n",
       "      <td>Refrigerant leak detection system</td>\n",
       "      <td>A leak detection system for the detection and ...</td>\n",
       "    </tr>\n",
       "    <tr>\n",
       "      <th>1</th>\n",
       "      <td>REDBOX AUTOMATED RETAIL LLC</td>\n",
       "      <td>7234609</td>\n",
       "      <td>Article dispensing system and method for same</td>\n",
       "      <td>An article dispensing machine and article tran...</td>\n",
       "    </tr>\n",
       "    <tr>\n",
       "      <th>2</th>\n",
       "      <td>REDBOX AUTOMATED RETAIL LLC</td>\n",
       "      <td>9224137</td>\n",
       "      <td>System for an automated dispensing and retriev...</td>\n",
       "      <td>A system for an automated dispensing and retri...</td>\n",
       "    </tr>\n",
       "    <tr>\n",
       "      <th>3</th>\n",
       "      <td>REDBOX AUTOMATED RETAIL LLC</td>\n",
       "      <td>7447605</td>\n",
       "      <td>System and method for calibrating a vending ap...</td>\n",
       "      <td>A system and method for calibrating a vending ...</td>\n",
       "    </tr>\n",
       "    <tr>\n",
       "      <th>4</th>\n",
       "      <td>REDBOX AUTOMATED RETAIL LLC</td>\n",
       "      <td>7499768</td>\n",
       "      <td>System and method for offline vending of a med...</td>\n",
       "      <td>A system and method for offline vending of dig...</td>\n",
       "    </tr>\n",
       "  </tbody>\n",
       "</table>\n",
       "</div>"
      ],
      "text/plain": [
       "                 business_name patent_number  \\\n",
       "0              RS SERVICES INC       6772598   \n",
       "1  REDBOX AUTOMATED RETAIL LLC       7234609   \n",
       "2  REDBOX AUTOMATED RETAIL LLC       9224137   \n",
       "3  REDBOX AUTOMATED RETAIL LLC       7447605   \n",
       "4  REDBOX AUTOMATED RETAIL LLC       7499768   \n",
       "\n",
       "                                        patent_title  \\\n",
       "0                  Refrigerant leak detection system   \n",
       "1      Article dispensing system and method for same   \n",
       "2  System for an automated dispensing and retriev...   \n",
       "3  System and method for calibrating a vending ap...   \n",
       "4  System and method for offline vending of a med...   \n",
       "\n",
       "                                     patent_abstract  \n",
       "0  A leak detection system for the detection and ...  \n",
       "1  An article dispensing machine and article tran...  \n",
       "2  A system for an automated dispensing and retri...  \n",
       "3  A system and method for calibrating a vending ...  \n",
       "4  A system and method for offline vending of dig...  "
      ]
     },
     "execution_count": 4,
     "metadata": {},
     "output_type": "execute_result"
    }
   ],
   "source": [
    "df_patent_desc.head()"
   ]
  },
  {
   "cell_type": "code",
   "execution_count": 24,
   "metadata": {},
   "outputs": [
    {
     "name": "stdout",
     "output_type": "stream",
     "text": [
      "A leak detection system for the detection and monitoring of pressurized refrigerant systems, primarily walk-in refrigeration units in stores or storage facilities, manages, monitors and controls the refrigeration system which store and preserve perishables. The system includes a gas refrigerant detector and a monitor and relay system to alert the store personnel and remote monitoring stations that a problem exists by detecting the presence of gas outside the system within the refrigeration units, assessing the magnitude of the problem, and providing an emergency shutoff means to close and contain the refrigeration system contents in the event a substantial refrigeration leak is detected, closing the system until system repairs are made and the system is reset.\n"
     ]
    }
   ],
   "source": [
    "print(df_patent_desc['patent_abstract'][0])"
   ]
  },
  {
   "cell_type": "code",
   "execution_count": 71,
   "metadata": {},
   "outputs": [
    {
     "data": {
      "text/html": [
       "<div>\n",
       "<style>\n",
       "    .dataframe thead tr:only-child th {\n",
       "        text-align: right;\n",
       "    }\n",
       "\n",
       "    .dataframe thead th {\n",
       "        text-align: left;\n",
       "    }\n",
       "\n",
       "    .dataframe tbody tr th {\n",
       "        vertical-align: top;\n",
       "    }\n",
       "</style>\n",
       "<table border=\"1\" class=\"dataframe\">\n",
       "  <thead>\n",
       "    <tr style=\"text-align: right;\">\n",
       "      <th></th>\n",
       "      <th>business_name</th>\n",
       "      <th>patent_number</th>\n",
       "      <th>patent_title</th>\n",
       "      <th>patent_abstract</th>\n",
       "    </tr>\n",
       "  </thead>\n",
       "  <tbody>\n",
       "    <tr>\n",
       "      <th>count</th>\n",
       "      <td>190276</td>\n",
       "      <td>190276</td>\n",
       "      <td>190276</td>\n",
       "      <td>190276</td>\n",
       "    </tr>\n",
       "    <tr>\n",
       "      <th>unique</th>\n",
       "      <td>498</td>\n",
       "      <td>190268</td>\n",
       "      <td>165588</td>\n",
       "      <td>172876</td>\n",
       "    </tr>\n",
       "    <tr>\n",
       "      <th>top</th>\n",
       "      <td>GENERAL ELECTRIC CO</td>\n",
       "      <td>7426867</td>\n",
       "      <td>Ink jet printing method</td>\n",
       "      <td>The present invention relates generally to sys...</td>\n",
       "    </tr>\n",
       "    <tr>\n",
       "      <th>freq</th>\n",
       "      <td>40840</td>\n",
       "      <td>2</td>\n",
       "      <td>71</td>\n",
       "      <td>63</td>\n",
       "    </tr>\n",
       "  </tbody>\n",
       "</table>\n",
       "</div>"
      ],
      "text/plain": [
       "              business_name patent_number             patent_title  \\\n",
       "count                190276        190276                   190276   \n",
       "unique                  498        190268                   165588   \n",
       "top     GENERAL ELECTRIC CO       7426867  Ink jet printing method   \n",
       "freq                  40840             2                       71   \n",
       "\n",
       "                                          patent_abstract  \n",
       "count                                              190276  \n",
       "unique                                             172876  \n",
       "top     The present invention relates generally to sys...  \n",
       "freq                                                   63  "
      ]
     },
     "execution_count": 71,
     "metadata": {},
     "output_type": "execute_result"
    }
   ],
   "source": [
    "df_patent_desc.describe()"
   ]
  },
  {
   "cell_type": "markdown",
   "metadata": {},
   "source": [
    "Looking at the `count` line, we note that some patents have no patent abstract. Let's restrict to patents where `patent_abstract` is not `NaN`."
   ]
  },
  {
   "cell_type": "code",
   "execution_count": 70,
   "metadata": {
    "collapsed": true
   },
   "outputs": [],
   "source": [
    "df_patent_desc = df_patent_desc[df_patent_desc['patent_abstract'].isnull() == False]"
   ]
  },
  {
   "cell_type": "markdown",
   "metadata": {},
   "source": [
    "# Topic Modeling\n",
    "\n",
    "- Back to [Table of Contents](#Table-of-Contents)\n",
    "\n",
    "We are going to apply topic modeling, an unsupervised learning method, to our corpus to find the high-level topics in our corpus as a \"first go\" for exploring our data. Through this process, we'll discuss how to clean and preprocess our data to get the best results.\n",
    "\n",
    "Topic modeling is a broad subfield of machine learning and natural language processing. We are going to focus on a common modeling approach called Latent Dirichlet Allocation (LDA). \n",
    "\n",
    "To use topic modeling, we first have to assume that topics exist in our corpus, and that some small number of these topics can \"explain\" the corpus. Topics in this context refer to words from the corpus, in a list that is ranked by probability. A single document can be explained by multiple topics. For instance, a patent on a new medical robot would fall under the topic \"robotics\" as well as the topic \"medicine\". The set of topics used by a document is known as the document's allocation, hence, the name Latent Dirchlet Allocation, each document has an allocation of latent topics allocated by Dirchlet distribution. "
   ]
  },
  {
   "cell_type": "markdown",
   "metadata": {},
   "source": [
    "## Preparing Text Data for NLP\n",
    "\n",
    "- Back to [Table of Contents](#Table-of-Contents)\n",
    "\n",
    "The first important step in working with text data is cleaning and processing the data, which includes (but is not limited to):\n",
    "\n",
    "- forming a corpus of text\n",
    "- tokenization\n",
    "- removing stop-words\n",
    "- finding words co-located together (N-grams)\n",
    "- stemming and lemmatization\n",
    "\n",
    "Each of these steps will be discussed below. \n",
    "\n",
    "The ultimate goal is to transform our text data into a form an algorithm can work with, because a document or a corpus of text cannot be fed directly into an algorithm. Algorithms expect numerical feature vectors with certain fixed sizes, and can't handle documents, which are basically sequences of symbols with variable length. We will be transforming our text corpus into a *bag of n-grams* to be further analyzed. In this form our text data is represented as a matrix where each row refers to a specific job description (document) and each column is the occurence of a word (feature)."
   ]
  },
  {
   "cell_type": "markdown",
   "metadata": {},
   "source": [
    "### Creating a matrix of features from text - Bag of N-gram Example\n",
    "\n",
    "- Back to [Table of Contents](#Table-of-Contents)\n",
    "\n",
    "Ultimately, we want to take our collection of documents, corpus, and convert it into a matrix. Fortunately, `sklearn` has a pre-built object, `CountVectorizer`, that can tokenize, eliminate stopwords, identify n-grams, and stem our corpus, and output a matrix in one step. Before we apply the vectorizer to our corpus of data, let's apply it to a toy example so that we see what the output looks like and how a bag of words is represented. "
   ]
  },
  {
   "cell_type": "code",
   "execution_count": 83,
   "metadata": {
    "collapsed": true
   },
   "outputs": [],
   "source": [
    "def create_bag_of_words(corpus, \n",
    "                        NGRAM_RANGE = (0, 1), \n",
    "                        stop_words = None, \n",
    "                        stem = False, \n",
    "                        MIN_DF = 0.05, \n",
    "                        MAX_DF = 0.95, \n",
    "                        USE_IDF = False):\n",
    "\n",
    "    \"\"\"\n",
    "    Turn a corpus of text into a bag-of-words.\n",
    "    \n",
    "    Parameters\n",
    "    -----------\n",
    "    corpus: ls\n",
    "        test of documents in corpus    \n",
    "    NGRAM_RANGE: tuple\n",
    "        range of N-gram. Default (0,1)\n",
    "    stop_words: ls\n",
    "        list of commonly occuring words that have little semantic\n",
    "        value\n",
    "    stem: bool\n",
    "        use a stemmer to stem words\n",
    "    MIN_DF: float\n",
    "       exclude words that have a frequency less than the threshold\n",
    "    MAX_DF: float\n",
    "        exclude words that have a frequency greater than the threshold\n",
    "    USE_IDF: bool\n",
    "        Re-weigh words according to the Term Frequency-Inverse Document Frequency \n",
    "        (emphasize words unique to a document, suppress words common throughout the corpus)\n",
    "    \n",
    "    Returns\n",
    "    -------\n",
    "    bag_of_words: scipy sparse matrix\n",
    "        scipy sparse matrix of text\n",
    "    features:\n",
    "        list of words\n",
    "    \"\"\"\n",
    "    #parameters for vectorizer \n",
    "    ANALYZER = \"word\" #unit of features are single words rather then phrases of words \n",
    "    STRIP_ACCENTS = 'unicode'\n",
    "    \n",
    "    if stem:\n",
    "        stemmer = nltk.SnowballStemmer(\"english\")\n",
    "        tokenize = lambda x: [stemmer.stem(i) for i in x.split()]\n",
    "    else:\n",
    "        tokenize = None\n",
    "    vectorizer = CountVectorizer(analyzer=ANALYZER,\n",
    "                                 tokenizer=tokenize, \n",
    "                                 ngram_range=NGRAM_RANGE,\n",
    "                                 stop_words = stop_words,\n",
    "                                 strip_accents=STRIP_ACCENTS,\n",
    "                                 min_df = MIN_DF,\n",
    "                                 max_df = MAX_DF)\n",
    "    \n",
    "    bag_of_words = vectorizer.fit_transform( corpus ) #transform our corpus is a bag of words \n",
    "    features = vectorizer.get_feature_names()\n",
    "\n",
    "    if USE_IDF:\n",
    "        NORM = None #turn on normalization flag\n",
    "        SMOOTH_IDF = True #prvents division by zero errors\n",
    "        SUBLINEAR_IDF = True #replace TF with 1 + log(TF)\n",
    "        transformer = TfidfTransformer(norm = NORM,smooth_idf = SMOOTH_IDF,sublinear_tf = True)\n",
    "        #get the bag-of-words from the vectorizer and\n",
    "        #then use TFIDF to limit the tokens found throughout the text \n",
    "        tfidf = transformer.fit_transform(bag_of_words)\n",
    "        \n",
    "        return tfidf, features\n",
    "    else:\n",
    "        return bag_of_words, features"
   ]
  },
  {
   "cell_type": "code",
   "execution_count": 47,
   "metadata": {
    "collapsed": true
   },
   "outputs": [],
   "source": [
    "# create example corpus.\n",
    "toy_corpus = ['this is document one', 'this is document two', 'text analysis on documents is fun']"
   ]
  },
  {
   "cell_type": "code",
   "execution_count": 48,
   "metadata": {
    "collapsed": true
   },
   "outputs": [],
   "source": [
    "# convert to bag of words\n",
    "toy_bag_of_words, toy_features = create_bag_of_words( toy_corpus )"
   ]
  },
  {
   "cell_type": "code",
   "execution_count": 49,
   "metadata": {},
   "outputs": [
    {
     "data": {
      "text/plain": [
       "['this is document one',\n",
       " 'this is document two',\n",
       " 'text analysis on documents is fun']"
      ]
     },
     "execution_count": 49,
     "metadata": {},
     "output_type": "execute_result"
    }
   ],
   "source": [
    "# review - our corpus:\n",
    "toy_corpus"
   ]
  },
  {
   "cell_type": "code",
   "execution_count": 50,
   "metadata": {},
   "outputs": [
    {
     "data": {
      "text/plain": [
       "['analysis',\n",
       " 'document',\n",
       " 'documents',\n",
       " 'fun',\n",
       " 'on',\n",
       " 'one',\n",
       " 'text',\n",
       " 'this',\n",
       " 'two']"
      ]
     },
     "execution_count": 50,
     "metadata": {},
     "output_type": "execute_result"
    }
   ],
   "source": [
    "# features derived from the corpus\n",
    "toy_features"
   ]
  },
  {
   "cell_type": "code",
   "execution_count": 51,
   "metadata": {},
   "outputs": [
    {
     "data": {
      "text/plain": [
       "array([[0, 1, 0, 0, 0, 1, 0, 1, 0],\n",
       "       [0, 1, 0, 0, 0, 0, 0, 1, 1],\n",
       "       [1, 0, 1, 1, 1, 0, 1, 0, 0]], dtype=int64)"
      ]
     },
     "execution_count": 51,
     "metadata": {},
     "output_type": "execute_result"
    }
   ],
   "source": [
    "# bag of words that results:\n",
    "np_bag_of_words = toy_bag_of_words.toarray()\n",
    "np_bag_of_words"
   ]
  },
  {
   "cell_type": "markdown",
   "metadata": {},
   "source": [
    "Our data has been transformed from a document into a 3 x 9 matrix, where each row in the matrix corresponds to a document, and each column corresponds to a feature (in the order they appear in `toy_features`). A 1 indicates the existence of the feature or word in the document, and a 0 indicates the word is not present.\n",
    "\n",
    "It is very common that this representation will be a \"sparse\" matrix, or a matrix that has a lot of 0s. With sparse matrices, it is often more efficient to keep track of which values *aren't* 0 and where those non-zero entries are located, rather than to save the entire matrix. To save space, the `scipy` library has special ways of storing sparse matrices in an efficient way. \n",
    "\n",
    "Our toy corpus is now ready to be analyzed. We used this toy example to illustrate how a document is turned into a matrix to be used in text analysis. When you're applying this to real text data, the matrix will be much larger and harder to interpret, but it's important that you know the process. "
   ]
  },
  {
   "cell_type": "markdown",
   "metadata": {},
   "source": [
    "#### Exercise 1 - convert corpus to matrix\n",
    "\n",
    "- Back to [Table of Contents](#Table-of-Contents)\n",
    "\n",
    "To check your knowledge, make your own toy corpus and turn it into a matrix."
   ]
  },
  {
   "cell_type": "code",
   "execution_count": 52,
   "metadata": {
    "collapsed": true
   },
   "outputs": [],
   "source": [
    "#solution\n",
    "exercise_corpus = ['Batman is friends with Superman', \n",
    "                   'Superman is enemies with Lex Luthor',\n",
    "                   'Batman is enemies with Lex Luthor' ] \n",
    "exercise_bag_of_words, exercise_features = create_bag_of_words(exercise_corpus)"
   ]
  },
  {
   "cell_type": "code",
   "execution_count": 53,
   "metadata": {
    "collapsed": true
   },
   "outputs": [],
   "source": [
    "# convert bag of words to array\n",
    "np_bag_of_words = exercise_bag_of_words.toarray()"
   ]
  },
  {
   "cell_type": "code",
   "execution_count": 54,
   "metadata": {},
   "outputs": [
    {
     "data": {
      "text/plain": [
       "['batman', 'enemies', 'friends', 'lex', 'luthor', 'superman']"
      ]
     },
     "execution_count": 54,
     "metadata": {},
     "output_type": "execute_result"
    }
   ],
   "source": [
    "# show features:\n",
    "exercise_features"
   ]
  },
  {
   "cell_type": "code",
   "execution_count": 55,
   "metadata": {},
   "outputs": [
    {
     "data": {
      "text/plain": [
       "array([[1, 0, 1, 0, 0, 1],\n",
       "       [0, 1, 0, 1, 1, 1],\n",
       "       [1, 1, 0, 1, 1, 0]], dtype=int64)"
      ]
     },
     "execution_count": 55,
     "metadata": {},
     "output_type": "execute_result"
    }
   ],
   "source": [
    "# output derived bag of words:\n",
    "np_bag_of_words"
   ]
  },
  {
   "cell_type": "markdown",
   "metadata": {},
   "source": [
    "### Calculating Word Counts\n",
    "\n",
    "- Back to [Table of Contents](#Table-of-Contents)\n",
    "\n",
    "As an initial look into the data, we can examine the most frequently occuring words in our corpus. We can sum the columns of the bag_of_words and then convert to a numpy array. From here we can zip the features and word_count into a dictionary, and display the results."
   ]
  },
  {
   "cell_type": "code",
   "execution_count": 56,
   "metadata": {
    "collapsed": true
   },
   "outputs": [],
   "source": [
    "def get_word_counts(bag_of_words, feature_names):\n",
    "\n",
    "    \"\"\"\n",
    "    Get the ordered word counts from a bag_of_words\n",
    "    \n",
    "    Parameters\n",
    "    ----------\n",
    "    bag_of_words: obj\n",
    "        scipy sparse matrix from CounterVectorizer\n",
    "    feature_names: ls\n",
    "        list of words\n",
    "        \n",
    "    Returns\n",
    "    -------\n",
    "    word_counts: dict\n",
    "        Dictionary of word counts\n",
    "    \"\"\"\n",
    "\n",
    "    # convert bag of words to array\n",
    "    np_bag_of_words = bag_of_words.toarray()\n",
    "    \n",
    "    # calculate word count.\n",
    "    word_count = np.sum(np_bag_of_words,axis=0)\n",
    "    \n",
    "    # convert to flattened array.\n",
    "    np_word_count = np.asarray(word_count).ravel()\n",
    "    \n",
    "    # create dict of words mapped to count of occurrences of each word.\n",
    "    dict_word_counts = dict( zip(feature_names, np_word_count) )\n",
    "    \n",
    "    # Create ordered dictionary\n",
    "    orddict_word_counts = OrderedDict( sorted(dict_word_counts.items(), key=lambda x: x[1], reverse=True), )\n",
    "    \n",
    "    return orddict_word_counts"
   ]
  },
  {
   "cell_type": "code",
   "execution_count": 57,
   "metadata": {},
   "outputs": [
    {
     "data": {
      "text/plain": [
       "OrderedDict([('document', 2),\n",
       "             ('this', 2),\n",
       "             ('analysis', 1),\n",
       "             ('documents', 1),\n",
       "             ('fun', 1),\n",
       "             ('on', 1),\n",
       "             ('one', 1),\n",
       "             ('text', 1),\n",
       "             ('two', 1)])"
      ]
     },
     "execution_count": 57,
     "metadata": {},
     "output_type": "execute_result"
    }
   ],
   "source": [
    "# get ordered word counts for our example corpus.\n",
    "get_word_counts(toy_bag_of_words, toy_features)"
   ]
  },
  {
   "cell_type": "markdown",
   "metadata": {},
   "source": [
    "Note that the words \"document\" and \"documents\" both appear separately in the list. Should they be treated as the same words, since one is just the plural of the other, or should they be considered distinct words? These are the types of decisions you will have to make in your preprocessing steps."
   ]
  },
  {
   "cell_type": "markdown",
   "metadata": {},
   "source": [
    "#### Exercise 2 - getting word counts\n",
    "\n",
    "- Back to [Table of Contents](#Table-of-Contents)\n",
    "\n",
    "Get the word counts of your exercise corpus.\n"
   ]
  },
  {
   "cell_type": "code",
   "execution_count": 58,
   "metadata": {},
   "outputs": [
    {
     "data": {
      "text/plain": [
       "OrderedDict([('batman', 2),\n",
       "             ('enemies', 2),\n",
       "             ('lex', 2),\n",
       "             ('luthor', 2),\n",
       "             ('superman', 2),\n",
       "             ('friends', 1)])"
      ]
     },
     "execution_count": 58,
     "metadata": {},
     "output_type": "execute_result"
    }
   ],
   "source": [
    "get_word_counts(exercise_bag_of_words, exercise_features)"
   ]
  },
  {
   "cell_type": "markdown",
   "metadata": {},
   "source": [
    "### Creating Text Corpus - choosing text to analyze\n",
    "\n",
    "- Back to [Table of Contents](#Table-of-Contents)\n",
    "\n",
    "First we need to form our corpus, or the set of all patent abstracts. We can pull out the array of descriptions from the data frame using the data frame's `.values` attribute. "
   ]
  },
  {
   "cell_type": "code",
   "execution_count": 158,
   "metadata": {
    "scrolled": true
   },
   "outputs": [],
   "source": [
    "corpus = df_patent_desc['patent_abstract'].values #pull all the descriptions and put them in a numpy array \n",
    "corpus = corpus[:1000]"
   ]
  },
  {
   "cell_type": "markdown",
   "metadata": {},
   "source": [
    "### Model topics with LDA\n",
    "\n",
    "- Back to [Table of Contents](#Table-of-Contents)\n",
    "\n",
    "As a start to modeling topics, we define below a function \"create_topics\" that uses Latent Dirichlet Allocation (LDA) to find topics."
   ]
  },
  {
   "cell_type": "code",
   "execution_count": 143,
   "metadata": {
    "collapsed": true
   },
   "outputs": [],
   "source": [
    "def create_topics(tfidf, features, N_TOPICS=3, N_TOP_WORDS=5):\n",
    "    \"\"\"\n",
    "    Given a matrix of features of text data generate topics\n",
    "    \n",
    "    Parameters\n",
    "    -----------\n",
    "    tfidf: scipy sparse matrix\n",
    "        sparse matrix of text features\n",
    "    N_TOPICS: int\n",
    "        number of topics (default 10)\n",
    "    N_TOP_WORDS: int\n",
    "        number of top words to display in each topic (default 10)\n",
    "        \n",
    "    Returns\n",
    "    -------\n",
    "    ls_keywords: ls\n",
    "        list of keywords for each topics\n",
    "    doctopic: array\n",
    "        numpy array with percentages of topic that fit each category\n",
    "    N_TOPICS: int\n",
    "        number of assumed topics\n",
    "    N_TOP_WORDS: int\n",
    "        Number of top words in a given topic. \n",
    "    \"\"\"\n",
    "    \n",
    "    i=0\n",
    "    lda = LatentDirichletAllocation(n_components= N_TOPICS,\n",
    "                                    learning_method='online') #create an object that will create 5 topics\n",
    "    i+=1\n",
    "    doctopic = lda.fit_transform( tfidf )\n",
    "    i+=1\n",
    "\n",
    "    ls_keywords = []\n",
    "    for i,topic in enumerate(lda.components_):\n",
    "        word_idx = np.argsort(topic)[::-1][:N_TOP_WORDS]\n",
    "        keywords = ', '.join( features[i] for i in word_idx)\n",
    "        ls_keywords.append(keywords)\n",
    "        print(i, keywords)\n",
    "        i+=1\n",
    "            \n",
    "    return ls_keywords, doctopic"
   ]
  },
  {
   "cell_type": "markdown",
   "metadata": {},
   "source": [
    "Create a bag of words and set of features from our social services corpus:"
   ]
  },
  {
   "cell_type": "code",
   "execution_count": 125,
   "metadata": {},
   "outputs": [],
   "source": [
    "corpus_bag_of_words, corpus_features = create_bag_of_words(corpus)"
   ]
  },
  {
   "cell_type": "markdown",
   "metadata": {},
   "source": [
    "Let's examine our features. "
   ]
  },
  {
   "cell_type": "code",
   "execution_count": 126,
   "metadata": {},
   "outputs": [
    {
     "data": {
      "text/plain": [
       "['300',\n",
       " '40',\n",
       " '85',\n",
       " 'about',\n",
       " 'access',\n",
       " 'acid',\n",
       " 'against',\n",
       " 'along',\n",
       " 'also',\n",
       " 'an',\n",
       " 'another',\n",
       " 'apparatus',\n",
       " 'apparent',\n",
       " 'applications',\n",
       " 'are',\n",
       " 'area',\n",
       " 'arresting',\n",
       " 'article',\n",
       " 'articles',\n",
       " 'as',\n",
       " 'associated',\n",
       " 'at',\n",
       " 'attachment',\n",
       " 'automated',\n",
       " 'available',\n",
       " 'average',\n",
       " 'axis',\n",
       " 'based',\n",
       " 'basis',\n",
       " 'basket',\n",
       " 'be',\n",
       " 'being',\n",
       " 'between',\n",
       " 'bottom',\n",
       " 'by',\n",
       " 'can',\n",
       " 'capable',\n",
       " 'cart',\n",
       " 'casters',\n",
       " 'center',\n",
       " 'central',\n",
       " 'change',\n",
       " 'communicating',\n",
       " 'communication',\n",
       " 'communications',\n",
       " 'compartment',\n",
       " 'comprised',\n",
       " 'comprises',\n",
       " 'computer',\n",
       " 'configured',\n",
       " 'connected',\n",
       " 'container',\n",
       " 'containing',\n",
       " 'content',\n",
       " 'control',\n",
       " 'corresponding',\n",
       " 'corresponds',\n",
       " 'criteria',\n",
       " 'customer',\n",
       " 'data',\n",
       " 'database',\n",
       " 'defined',\n",
       " 'described',\n",
       " 'detected',\n",
       " 'determination',\n",
       " 'determine',\n",
       " 'determined',\n",
       " 'determining',\n",
       " 'device',\n",
       " 'digital',\n",
       " 'disc',\n",
       " 'disclosed',\n",
       " 'discs',\n",
       " 'dispensing',\n",
       " 'displacement',\n",
       " 'display',\n",
       " 'disposed',\n",
       " 'dry',\n",
       " 'each',\n",
       " 'edge',\n",
       " 'electronic',\n",
       " 'element',\n",
       " 'elevated',\n",
       " 'end',\n",
       " 'ester',\n",
       " 'extending',\n",
       " 'fatty',\n",
       " 'fermentation',\n",
       " 'first',\n",
       " 'food',\n",
       " 'for',\n",
       " 'form',\n",
       " 'formed',\n",
       " 'frame',\n",
       " 'from',\n",
       " 'front',\n",
       " 'further',\n",
       " 'gate',\n",
       " 'generating',\n",
       " 'greater',\n",
       " 'handle',\n",
       " 'has',\n",
       " 'having',\n",
       " 'high',\n",
       " 'hinged',\n",
       " 'identification',\n",
       " 'identifier',\n",
       " 'identifying',\n",
       " 'if',\n",
       " 'image',\n",
       " 'improvement',\n",
       " 'in',\n",
       " 'include',\n",
       " 'includes',\n",
       " 'including',\n",
       " 'information',\n",
       " 'interconnected',\n",
       " 'interface',\n",
       " 'intermediate',\n",
       " 'internet',\n",
       " 'into',\n",
       " 'invention',\n",
       " 'inventory',\n",
       " 'is',\n",
       " 'it',\n",
       " 'its',\n",
       " 'kiosk',\n",
       " 'kiosks',\n",
       " 'least',\n",
       " 'leg',\n",
       " 'list',\n",
       " 'location',\n",
       " 'lower',\n",
       " 'machine',\n",
       " 'machines',\n",
       " 'material',\n",
       " 'may',\n",
       " 'means',\n",
       " 'media',\n",
       " 'member',\n",
       " 'members',\n",
       " 'memory',\n",
       " 'method',\n",
       " 'methods',\n",
       " 'modified',\n",
       " 'molecular',\n",
       " 'monitor',\n",
       " 'more',\n",
       " 'mounted',\n",
       " 'move',\n",
       " 'nested',\n",
       " 'network',\n",
       " 'not',\n",
       " 'notification',\n",
       " 'obtained',\n",
       " 'of',\n",
       " 'oil',\n",
       " 'oilseed',\n",
       " 'on',\n",
       " 'one',\n",
       " 'open',\n",
       " 'opposed',\n",
       " 'or',\n",
       " 'other',\n",
       " 'over',\n",
       " 'pair',\n",
       " 'part',\n",
       " 'period',\n",
       " 'permit',\n",
       " 'plurality',\n",
       " 'portion',\n",
       " 'position',\n",
       " 'predetermined',\n",
       " 'process',\n",
       " 'processing',\n",
       " 'processor',\n",
       " 'product',\n",
       " 'production',\n",
       " 'products',\n",
       " 'profile',\n",
       " 'protein',\n",
       " 'provide',\n",
       " 'provided',\n",
       " 'provider',\n",
       " 'rear',\n",
       " 'rearwardly',\n",
       " 'received',\n",
       " 'receives',\n",
       " 'receiving',\n",
       " 'recorded',\n",
       " 'remote',\n",
       " 'rental',\n",
       " 'replacement',\n",
       " 'request',\n",
       " 'requested',\n",
       " 'respective',\n",
       " 'response',\n",
       " 'retention',\n",
       " 'returned',\n",
       " 'rod',\n",
       " 'seat',\n",
       " 'second',\n",
       " 'secure',\n",
       " 'secured',\n",
       " 'selected',\n",
       " 'server',\n",
       " 'service',\n",
       " 'shopping',\n",
       " 'side',\n",
       " 'signal',\n",
       " 'solids',\n",
       " 'spaced',\n",
       " 'steps',\n",
       " 'stock',\n",
       " 'storage',\n",
       " 'stored',\n",
       " 'stores',\n",
       " 'storing',\n",
       " 'subset',\n",
       " 'substantially',\n",
       " 'such',\n",
       " 'support',\n",
       " 'supported',\n",
       " 'surface',\n",
       " 'system',\n",
       " 'than',\n",
       " 'that',\n",
       " 'their',\n",
       " 'therein',\n",
       " 'thereof',\n",
       " 'through',\n",
       " 'time',\n",
       " 'to',\n",
       " 'top',\n",
       " 'transaction',\n",
       " 'transmission',\n",
       " 'transmitted',\n",
       " 'triacylglycerol',\n",
       " 'typically',\n",
       " 'unit',\n",
       " 'upon',\n",
       " 'use',\n",
       " 'used',\n",
       " 'user',\n",
       " 'using',\n",
       " 'utilized',\n",
       " 'vehicle',\n",
       " 'vendible',\n",
       " 'vending',\n",
       " 'vertical',\n",
       " 'via',\n",
       " 'video',\n",
       " 'wall',\n",
       " 'walls',\n",
       " 'weight',\n",
       " 'when',\n",
       " 'whereby',\n",
       " 'wherein',\n",
       " 'whether',\n",
       " 'which',\n",
       " 'wire',\n",
       " 'with',\n",
       " 'within',\n",
       " 'wt']"
      ]
     },
     "execution_count": 126,
     "metadata": {},
     "output_type": "execute_result"
    }
   ],
   "source": [
    "corpus_features"
   ]
  },
  {
   "cell_type": "markdown",
   "metadata": {},
   "source": [
    "The first aspect to notice about the feature list is that the first few entries are numbers that have no real semantic meaning. The feature lists also includes numerous other useless words, such as prepositions and articles, that will just add noise to our analysis. \n",
    "\n",
    "We can also notice the words *comprises* and *comprising*, or the words *form* and *formed*, are close enough to each other that it might not make sense to treat them as entirely separate words. Part of your cleaning and preprocessing duties will be manually inspecting your lists of features, seeing where these issues arise, and making decisions to either remove them from your analysis or address them separately. \n",
    "\n",
    "Let's get the count of the number of times that each of the words appears in our corpus."
   ]
  },
  {
   "cell_type": "code",
   "execution_count": 127,
   "metadata": {},
   "outputs": [
    {
     "data": {
      "text/plain": [
       "OrderedDict([('of', 501),\n",
       "             ('to', 306),\n",
       "             ('is', 221),\n",
       "             ('for', 200),\n",
       "             ('in', 194),\n",
       "             ('an', 167),\n",
       "             ('from', 116),\n",
       "             ('vending', 106),\n",
       "             ('article', 104),\n",
       "             ('media', 86),\n",
       "             ('at', 84),\n",
       "             ('provided', 65),\n",
       "             ('method', 62),\n",
       "             ('system', 62),\n",
       "             ('or', 60),\n",
       "             ('wall', 60),\n",
       "             ('with', 60),\n",
       "             ('has', 58),\n",
       "             ('digital', 57),\n",
       "             ('on', 57),\n",
       "             ('machine', 55),\n",
       "             ('content', 54),\n",
       "             ('includes', 53),\n",
       "             ('be', 52),\n",
       "             ('information', 49),\n",
       "             ('are', 47),\n",
       "             ('may', 47),\n",
       "             ('rear', 46),\n",
       "             ('plurality', 45),\n",
       "             ('video', 45),\n",
       "             ('based', 42),\n",
       "             ('data', 42),\n",
       "             ('least', 42),\n",
       "             ('by', 41),\n",
       "             ('customer', 41),\n",
       "             ('frame', 41),\n",
       "             ('side', 41),\n",
       "             ('one', 40),\n",
       "             ('end', 39),\n",
       "             ('material', 39),\n",
       "             ('about', 38),\n",
       "             ('acid', 37),\n",
       "             ('position', 37),\n",
       "             ('articles', 35),\n",
       "             ('comprises', 34),\n",
       "             ('having', 34),\n",
       "             ('transaction', 34),\n",
       "             ('user', 34),\n",
       "             ('vertical', 34),\n",
       "             ('also', 33),\n",
       "             ('dispensing', 33),\n",
       "             ('first', 32),\n",
       "             ('inventory', 32),\n",
       "             ('wherein', 32),\n",
       "             ('control', 31),\n",
       "             ('interface', 30),\n",
       "             ('member', 29),\n",
       "             ('cart', 28),\n",
       "             ('which', 28),\n",
       "             ('apparatus', 27),\n",
       "             ('as', 27),\n",
       "             ('seat', 27),\n",
       "             ('shopping', 27),\n",
       "             ('support', 27),\n",
       "             ('basket', 26),\n",
       "             ('gate', 26),\n",
       "             ('kiosk', 26),\n",
       "             ('portion', 26),\n",
       "             ('product', 26),\n",
       "             ('signal', 26),\n",
       "             ('bottom', 25),\n",
       "             ('oil', 25),\n",
       "             ('products', 25),\n",
       "             ('central', 24),\n",
       "             ('each', 24),\n",
       "             ('secured', 24),\n",
       "             ('wt', 24),\n",
       "             ('container', 23),\n",
       "             ('disc', 23),\n",
       "             ('oilseed', 23),\n",
       "             ('within', 23),\n",
       "             ('discs', 22),\n",
       "             ('front', 22),\n",
       "             ('network', 22),\n",
       "             ('such', 22),\n",
       "             ('that', 22),\n",
       "             ('device', 21),\n",
       "             ('location', 21),\n",
       "             ('protein', 21),\n",
       "             ('recorded', 21),\n",
       "             ('server', 21),\n",
       "             ('top', 21),\n",
       "             ('received', 20),\n",
       "             ('request', 20),\n",
       "             ('storage', 20),\n",
       "             ('subset', 20),\n",
       "             ('can', 19),\n",
       "             ('edge', 19),\n",
       "             ('modified', 19),\n",
       "             ('second', 19),\n",
       "             ('triacylglycerol', 19),\n",
       "             ('when', 19),\n",
       "             ('include', 18),\n",
       "             ('predetermined', 18),\n",
       "             ('retention', 18),\n",
       "             ('selected', 18),\n",
       "             ('wire', 18),\n",
       "             ('between', 17),\n",
       "             ('provider', 17),\n",
       "             ('receiving', 17),\n",
       "             ('thereof', 17),\n",
       "             ('vehicle', 17),\n",
       "             ('area', 16),\n",
       "             ('fatty', 16),\n",
       "             ('high', 16),\n",
       "             ('members', 16),\n",
       "             ('more', 16),\n",
       "             ('process', 16),\n",
       "             ('remote', 16),\n",
       "             ('stored', 16),\n",
       "             ('than', 16),\n",
       "             ('center', 15),\n",
       "             ('compartment', 15),\n",
       "             ('including', 15),\n",
       "             ('over', 15),\n",
       "             ('rod', 15),\n",
       "             ('database', 14),\n",
       "             ('display', 14),\n",
       "             ('electronic', 14),\n",
       "             ('formed', 14),\n",
       "             ('handle', 14),\n",
       "             ('hinged', 14),\n",
       "             ('opposed', 14),\n",
       "             ('profile', 14),\n",
       "             ('through', 14),\n",
       "             ('associated', 13),\n",
       "             ('being', 13),\n",
       "             ('communication', 13),\n",
       "             ('computer', 13),\n",
       "             ('food', 13),\n",
       "             ('form', 13),\n",
       "             ('image', 13),\n",
       "             ('methods', 13),\n",
       "             ('walls', 13),\n",
       "             ('against', 12),\n",
       "             ('further', 12),\n",
       "             ('other', 12),\n",
       "             ('receives', 12),\n",
       "             ('rental', 12),\n",
       "             ('typically', 12),\n",
       "             ('vendible', 12),\n",
       "             ('weight', 12),\n",
       "             ('along', 11),\n",
       "             ('determine', 11),\n",
       "             ('determining', 11),\n",
       "             ('disposed', 11),\n",
       "             ('element', 11),\n",
       "             ('ester', 11),\n",
       "             ('leg', 11),\n",
       "             ('provide', 11),\n",
       "             ('returned', 11),\n",
       "             ('whether', 11),\n",
       "             ('access', 10),\n",
       "             ('arresting', 10),\n",
       "             ('attachment', 10),\n",
       "             ('identifier', 10),\n",
       "             ('invention', 10),\n",
       "             ('machines', 10),\n",
       "             ('means', 10),\n",
       "             ('molecular', 10),\n",
       "             ('pair', 10),\n",
       "             ('part', 10),\n",
       "             ('permit', 10),\n",
       "             ('processor', 10),\n",
       "             ('spaced', 10),\n",
       "             ('used', 10),\n",
       "             ('using', 10),\n",
       "             ('casters', 9),\n",
       "             ('communications', 9),\n",
       "             ('containing', 9),\n",
       "             ('corresponds', 9),\n",
       "             ('disclosed', 9),\n",
       "             ('identifying', 9),\n",
       "             ('list', 9),\n",
       "             ('open', 9),\n",
       "             ('replacement', 9),\n",
       "             ('requested', 9),\n",
       "             ('respective', 9),\n",
       "             ('surface', 9),\n",
       "             ('transmitted', 9),\n",
       "             ('unit', 9),\n",
       "             ('upon', 9),\n",
       "             ('basis', 8),\n",
       "             ('capable', 8),\n",
       "             ('communicating', 8),\n",
       "             ('configured', 8),\n",
       "             ('criteria', 8),\n",
       "             ('displacement', 8),\n",
       "             ('dry', 8),\n",
       "             ('fermentation', 8),\n",
       "             ('greater', 8),\n",
       "             ('identification', 8),\n",
       "             ('interconnected', 8),\n",
       "             ('into', 8),\n",
       "             ('lower', 8),\n",
       "             ('memory', 8),\n",
       "             ('processing', 8),\n",
       "             ('response', 8),\n",
       "             ('stock', 8),\n",
       "             ('substantially', 8),\n",
       "             ('therein', 8),\n",
       "             ('time', 8),\n",
       "             ('use', 8),\n",
       "             ('40', 7),\n",
       "             ('85', 7),\n",
       "             ('another', 7),\n",
       "             ('available', 7),\n",
       "             ('change', 7),\n",
       "             ('comprised', 7),\n",
       "             ('described', 7),\n",
       "             ('determined', 7),\n",
       "             ('internet', 7),\n",
       "             ('it', 7),\n",
       "             ('its', 7),\n",
       "             ('monitor', 7),\n",
       "             ('notification', 7),\n",
       "             ('supported', 7),\n",
       "             ('their', 7),\n",
       "             ('300', 6),\n",
       "             ('apparent', 6),\n",
       "             ('applications', 6),\n",
       "             ('average', 6),\n",
       "             ('axis', 6),\n",
       "             ('connected', 6),\n",
       "             ('corresponding', 6),\n",
       "             ('defined', 6),\n",
       "             ('extending', 6),\n",
       "             ('if', 6),\n",
       "             ('improvement', 6),\n",
       "             ('mounted', 6),\n",
       "             ('move', 6),\n",
       "             ('not', 6),\n",
       "             ('obtained', 6),\n",
       "             ('production', 6),\n",
       "             ('rearwardly', 6),\n",
       "             ('solids', 6),\n",
       "             ('storing', 6),\n",
       "             ('utilized', 6),\n",
       "             ('via', 6),\n",
       "             ('whereby', 6),\n",
       "             ('automated', 5),\n",
       "             ('detected', 5),\n",
       "             ('determination', 5),\n",
       "             ('elevated', 5),\n",
       "             ('generating', 5),\n",
       "             ('intermediate', 5),\n",
       "             ('kiosks', 5),\n",
       "             ('nested', 5),\n",
       "             ('period', 5),\n",
       "             ('secure', 5),\n",
       "             ('service', 5),\n",
       "             ('steps', 5),\n",
       "             ('stores', 5),\n",
       "             ('transmission', 5)])"
      ]
     },
     "execution_count": 127,
     "metadata": {},
     "output_type": "execute_result"
    }
   ],
   "source": [
    "get_word_counts(corpus_bag_of_words, corpus_features)"
   ]
  },
  {
   "cell_type": "markdown",
   "metadata": {},
   "source": [
    "Our top words are articles, prepositions and conjunctions that are not informative whatsoever, so we're probably not going to come up with anything interesting (\"garbage in, garbage out\"). \n",
    "\n",
    "Nevertheless, let's forge blindly ahead and try to create topics, and see the quality of the results that we get."
   ]
  },
  {
   "cell_type": "code",
   "execution_count": 144,
   "metadata": {},
   "outputs": [
    {
     "name": "stdout",
     "output_type": "stream",
     "text": [
      "0 of, to, is, in, wall\n",
      "1 of, to, for, an, in\n",
      "2 of, is, to, vending, for\n"
     ]
    }
   ],
   "source": [
    "ls_corpus_keywords, corpus_doctopic = create_topics(corpus_bag_of_words, corpus_features)"
   ]
  },
  {
   "cell_type": "markdown",
   "metadata": {},
   "source": [
    "These topics don't give us any real insight to what the data contains - one of the topics is \"and, the, to, of, in\"! Accroding to the patents in your dataset, some might hint to subjects (\"article\", \"wall\", \"vending\", etc.) but the signal is being swamped by the noise. \n",
    "\n",
    "We'll have to clean and process our data to get any meaningful information out of this text. "
   ]
  },
  {
   "cell_type": "markdown",
   "metadata": {},
   "source": [
    "### Text Cleaning and Normalization\n",
    "\n",
    "- Back to [Table of Contents](#Table-of-Contents)\n",
    "\n",
    "To clean and normalize text, we'll remove all special characters, numbers, and punctuation, so we're left with only the words themselves. Then we will make all the text lowercase; this uniformity will ensure that the algorithm doesn't treat \"the\" and \"The\" as different words, for example. \n",
    "\n",
    "To remove the special characters, numbers and punctuation we will use regular expressions. \n",
    "\n",
    "\n",
    "**Regular Expressions**, or \"regexes\" for short, let you find all the words or phrases in a document or text file that match a certain pattern. These rules are useful for pulling out useful information from a large amount of text. For example, if you want to find all email addresses in a document, you might look for everything that looks like *some combination of letters, _, .* followed by *@*, followed by more letters, and ending in *.com* or *.edu*. If you want to find all the credit card numbers in a document, you might look for everywhere you see the pattern \"four numbers, space, four numbers, space, four numbers, space, four numbers.\" Regexes are also helpful if you are scraping information from websites, because you can use them to separate the content from the HTML code used for formatting the website.\n",
    "\n",
    "A full tutorial on regular expressions would be outside the scope of this tutorial, but many good tutorials that can be found on-line. [regex101.com](regex101.com) is also a great interactive tool for developing and checking regular expressions.\n",
    "\n",
    ">\"Some people, when confronted with a problem, think \n",
    ">'I know, I'll use regular expressions.'   Now they have two problems.\"\n",
    "> -- Jaime Zawinski\n",
    "\n",
    "*A word of warning:* Regexes can work much more quickly than plain text sorting; however, if your regular expressions are becoming overly complicated, it's a good idea to find a simpler way to do what you want to do. Any developer should keep in mind there is a trade-off between optimization and understandability. The general philosophy of programming in Python is that your code is meant to be as understandable by *people* as much as possible, because human time is more valuable than computer time. You should therefore lean toward understandability rather than overly optimizing your code to make it run as quickly as possible. Your future-self, code-reviewers, people who inherit your code, and anyone else who has to make sense of your code in the future will appreciate it. \n",
    "\n",
    "For our purposes, we are going to use a regular expression to match all characters that are not letters -- punctuation, quotes, special characters and numbers -- and replace them with spaces. Then we'll make all of the remaining characters lowercase.  \n",
    "\n",
    "We will be using the `re` library in python for regular expression matching."
   ]
  },
  {
   "cell_type": "code",
   "execution_count": 159,
   "metadata": {
    "collapsed": true
   },
   "outputs": [],
   "source": [
    "#get rid of the punctuations and set all characters to lowercase\n",
    "RE_PREPROCESS = re.compile( r'\\W+|\\d+' ) #the regular expressions that matches all non-characters\n",
    "\n",
    "#get rid of punctuation and make everything lowercase\n",
    "#the code below works by looping through the array of text (\"corpus\")\n",
    "#for a given piece of text ( \"description\" ) we invoke the `re.sub` command \n",
    "#the `re.sub` command takes 3 arguments: (1) the regular expression to match, \n",
    "#(2) what we want to substitute in place of that matching string (' ', a space)\n",
    "#and (3) the text we want to apply this to. \n",
    "#we then invoke the `lower()` method on the output of the `re.sub` command\n",
    "#to make all the remaining characters lowercase.\n",
    "#the result is a list, where each entry in the list is a cleaned version of the\n",
    "#corresponding entry in the original corpus.\n",
    "#we then make the list into a numpy array to use it in analysis\n",
    "\n",
    "processed_corpus = np.array( [ re.sub( RE_PREPROCESS, ' ', description ).lower() for description in corpus ] )"
   ]
  },
  {
   "cell_type": "markdown",
   "metadata": {},
   "source": [
    "Next, let's look at an example of the results of this cleanup."
   ]
  },
  {
   "cell_type": "markdown",
   "metadata": {},
   "source": [
    "#### First Description, Before Cleaning\n",
    "\n",
    "- Back to [Table of Contents](#Table-of-Contents)\n",
    "\n",
    "First, we'll look at the first description in our corpus, before it was cleaned:"
   ]
  },
  {
   "cell_type": "code",
   "execution_count": 160,
   "metadata": {},
   "outputs": [
    {
     "data": {
      "text/plain": [
       "'A leak detection system for the detection and monitoring of pressurized refrigerant systems, primarily walk-in refrigeration units in stores or storage facilities, manages, monitors and controls the refrigeration system which store and preserve perishables. The system includes a gas refrigerant detector and a monitor and relay system to alert the store personnel and remote monitoring stations that a problem exists by detecting the presence of gas outside the system within the refrigeration units, assessing the magnitude of the problem, and providing an emergency shutoff means to close and contain the refrigeration system contents in the event a substantial refrigeration leak is detected, closing the system until system repairs are made and the system is reset.'"
      ]
     },
     "execution_count": 160,
     "metadata": {},
     "output_type": "execute_result"
    }
   ],
   "source": [
    "corpus[0]"
   ]
  },
  {
   "cell_type": "markdown",
   "metadata": {},
   "source": [
    "This text includes a lot of useful information, but also includes some things we don't want or need. There are some weird special characters (...). There are also some numbers, which are informative and interesting to a human reading the text (phone numbers, addresses, ...), but when we break down the documents into individual words, the numbers will become meaningless. We'll also want to remove all punctuation, so that we can say any two things separated by a space are individual words."
   ]
  },
  {
   "cell_type": "markdown",
   "metadata": {},
   "source": [
    "#### First Description, After Cleaning\n",
    "\n",
    "- Back to [Table of Contents](#Table-of-Contents)\n",
    "\n",
    "Now, let's look at this text after cleaning:"
   ]
  },
  {
   "cell_type": "code",
   "execution_count": 161,
   "metadata": {},
   "outputs": [
    {
     "data": {
      "text/plain": [
       "'a leak detection system for the detection and monitoring of pressurized refrigerant systems primarily walk in refrigeration units in stores or storage facilities manages monitors and controls the refrigeration system which store and preserve perishables the system includes a gas refrigerant detector and a monitor and relay system to alert the store personnel and remote monitoring stations that a problem exists by detecting the presence of gas outside the system within the refrigeration units assessing the magnitude of the problem and providing an emergency shutoff means to close and contain the refrigeration system contents in the event a substantial refrigeration leak is detected closing the system until system repairs are made and the system is reset '"
      ]
     },
     "execution_count": 161,
     "metadata": {},
     "output_type": "execute_result"
    }
   ],
   "source": [
    "processed_corpus[0]"
   ]
  },
  {
   "cell_type": "markdown",
   "metadata": {},
   "source": [
    "All lowercase, all numbers and special characters have been removed. Out text is now normalized."
   ]
  },
  {
   "cell_type": "markdown",
   "metadata": {},
   "source": [
    "### Tokenizing text - breaking it into pieces\n",
    "\n",
    "- Back to [Table of Contents](#Table-of-Contents)\n",
    "\n",
    "Now that we've cleaned our text, we can *tokenize* it by deciding which words or phrases are the most meaningful. Normally the `CountVectorizer` handles this for us, but in this case, we'll split our text into individual words manually to show how it is done.\n",
    "\n",
    "To go from a whole document to a list of individual words, we can use the `.split()` command. By default, this command splits based on spaces in between words, so we don't need to specify that explicitly.  "
   ]
  },
  {
   "cell_type": "code",
   "execution_count": 162,
   "metadata": {
    "collapsed": true
   },
   "outputs": [],
   "source": [
    "tokens = processed_corpus[0].split()"
   ]
  },
  {
   "cell_type": "code",
   "execution_count": 163,
   "metadata": {},
   "outputs": [
    {
     "data": {
      "text/plain": [
       "['a',\n",
       " 'leak',\n",
       " 'detection',\n",
       " 'system',\n",
       " 'for',\n",
       " 'the',\n",
       " 'detection',\n",
       " 'and',\n",
       " 'monitoring',\n",
       " 'of',\n",
       " 'pressurized',\n",
       " 'refrigerant',\n",
       " 'systems',\n",
       " 'primarily',\n",
       " 'walk',\n",
       " 'in',\n",
       " 'refrigeration',\n",
       " 'units',\n",
       " 'in',\n",
       " 'stores',\n",
       " 'or',\n",
       " 'storage',\n",
       " 'facilities',\n",
       " 'manages',\n",
       " 'monitors',\n",
       " 'and',\n",
       " 'controls',\n",
       " 'the',\n",
       " 'refrigeration',\n",
       " 'system',\n",
       " 'which',\n",
       " 'store',\n",
       " 'and',\n",
       " 'preserve',\n",
       " 'perishables',\n",
       " 'the',\n",
       " 'system',\n",
       " 'includes',\n",
       " 'a',\n",
       " 'gas',\n",
       " 'refrigerant',\n",
       " 'detector',\n",
       " 'and',\n",
       " 'a',\n",
       " 'monitor',\n",
       " 'and',\n",
       " 'relay',\n",
       " 'system',\n",
       " 'to',\n",
       " 'alert',\n",
       " 'the',\n",
       " 'store',\n",
       " 'personnel',\n",
       " 'and',\n",
       " 'remote',\n",
       " 'monitoring',\n",
       " 'stations',\n",
       " 'that',\n",
       " 'a',\n",
       " 'problem',\n",
       " 'exists',\n",
       " 'by',\n",
       " 'detecting',\n",
       " 'the',\n",
       " 'presence',\n",
       " 'of',\n",
       " 'gas',\n",
       " 'outside',\n",
       " 'the',\n",
       " 'system',\n",
       " 'within',\n",
       " 'the',\n",
       " 'refrigeration',\n",
       " 'units',\n",
       " 'assessing',\n",
       " 'the',\n",
       " 'magnitude',\n",
       " 'of',\n",
       " 'the',\n",
       " 'problem',\n",
       " 'and',\n",
       " 'providing',\n",
       " 'an',\n",
       " 'emergency',\n",
       " 'shutoff',\n",
       " 'means',\n",
       " 'to',\n",
       " 'close',\n",
       " 'and',\n",
       " 'contain',\n",
       " 'the',\n",
       " 'refrigeration',\n",
       " 'system',\n",
       " 'contents',\n",
       " 'in',\n",
       " 'the',\n",
       " 'event',\n",
       " 'a',\n",
       " 'substantial',\n",
       " 'refrigeration',\n",
       " 'leak',\n",
       " 'is',\n",
       " 'detected',\n",
       " 'closing',\n",
       " 'the',\n",
       " 'system',\n",
       " 'until',\n",
       " 'system',\n",
       " 'repairs',\n",
       " 'are',\n",
       " 'made',\n",
       " 'and',\n",
       " 'the',\n",
       " 'system',\n",
       " 'is',\n",
       " 'reset']"
      ]
     },
     "execution_count": 163,
     "metadata": {},
     "output_type": "execute_result"
    }
   ],
   "source": [
    "tokens"
   ]
  },
  {
   "cell_type": "markdown",
   "metadata": {},
   "source": [
    "### Removing meaningless text - Stopwords\n",
    "\n",
    "- Back to [Table of Contents](#Table-of-Contents)\n",
    "\n",
    "Stopwords are words that are found commonly throughout a text and carry little semantic meaning. Examples of common stopwords are prepositions (\"to\", \"on\", \"in\"), articles (\"the\", \"an\", \"a\"), conjunctions (\"and\", \"or\", \"but\") and common nouns. For example, the words *the* and *of* are totally ubiquitous, so they won't serve as meaningful features, whether to distinguish documents from each other or to tell what a given document is about. You may also run into words that you want to remove based on where you obtained your corpus of text or what it's about. There are many lists of common stopwords available for you to use, both for general documents and for specific contexts, so you don't have to start from scratch.   \n",
    "\n",
    "We can eliminate stopwords by checking all the words in our corpus against a list of commonly occuring stopwords that comes with NLTK."
   ]
  },
  {
   "cell_type": "code",
   "execution_count": 164,
   "metadata": {
    "collapsed": true
   },
   "outputs": [],
   "source": [
    "eng_stopwords = stopwords.words('english')"
   ]
  },
  {
   "cell_type": "code",
   "execution_count": 165,
   "metadata": {},
   "outputs": [
    {
     "data": {
      "text/plain": [
       "['i',\n",
       " 'me',\n",
       " 'my',\n",
       " 'myself',\n",
       " 'we',\n",
       " 'our',\n",
       " 'ours',\n",
       " 'ourselves',\n",
       " 'you',\n",
       " \"you're\",\n",
       " \"you've\",\n",
       " \"you'll\",\n",
       " \"you'd\",\n",
       " 'your',\n",
       " 'yours',\n",
       " 'yourself',\n",
       " 'yourselves',\n",
       " 'he',\n",
       " 'him',\n",
       " 'his',\n",
       " 'himself',\n",
       " 'she',\n",
       " \"she's\",\n",
       " 'her',\n",
       " 'hers',\n",
       " 'herself',\n",
       " 'it',\n",
       " \"it's\",\n",
       " 'its',\n",
       " 'itself',\n",
       " 'they',\n",
       " 'them',\n",
       " 'their',\n",
       " 'theirs',\n",
       " 'themselves',\n",
       " 'what',\n",
       " 'which',\n",
       " 'who',\n",
       " 'whom',\n",
       " 'this',\n",
       " 'that',\n",
       " \"that'll\",\n",
       " 'these',\n",
       " 'those',\n",
       " 'am',\n",
       " 'is',\n",
       " 'are',\n",
       " 'was',\n",
       " 'were',\n",
       " 'be',\n",
       " 'been',\n",
       " 'being',\n",
       " 'have',\n",
       " 'has',\n",
       " 'had',\n",
       " 'having',\n",
       " 'do',\n",
       " 'does',\n",
       " 'did',\n",
       " 'doing',\n",
       " 'a',\n",
       " 'an',\n",
       " 'the',\n",
       " 'and',\n",
       " 'but',\n",
       " 'if',\n",
       " 'or',\n",
       " 'because',\n",
       " 'as',\n",
       " 'until',\n",
       " 'while',\n",
       " 'of',\n",
       " 'at',\n",
       " 'by',\n",
       " 'for',\n",
       " 'with',\n",
       " 'about',\n",
       " 'against',\n",
       " 'between',\n",
       " 'into',\n",
       " 'through',\n",
       " 'during',\n",
       " 'before',\n",
       " 'after',\n",
       " 'above',\n",
       " 'below',\n",
       " 'to',\n",
       " 'from',\n",
       " 'up',\n",
       " 'down',\n",
       " 'in',\n",
       " 'out',\n",
       " 'on',\n",
       " 'off',\n",
       " 'over',\n",
       " 'under',\n",
       " 'again',\n",
       " 'further',\n",
       " 'then',\n",
       " 'once',\n",
       " 'here',\n",
       " 'there',\n",
       " 'when',\n",
       " 'where',\n",
       " 'why',\n",
       " 'how',\n",
       " 'all',\n",
       " 'any',\n",
       " 'both',\n",
       " 'each',\n",
       " 'few',\n",
       " 'more',\n",
       " 'most',\n",
       " 'other',\n",
       " 'some',\n",
       " 'such',\n",
       " 'no',\n",
       " 'nor',\n",
       " 'not',\n",
       " 'only',\n",
       " 'own',\n",
       " 'same',\n",
       " 'so',\n",
       " 'than',\n",
       " 'too',\n",
       " 'very',\n",
       " 's',\n",
       " 't',\n",
       " 'can',\n",
       " 'will',\n",
       " 'just',\n",
       " 'don',\n",
       " \"don't\",\n",
       " 'should',\n",
       " \"should've\",\n",
       " 'now',\n",
       " 'd',\n",
       " 'll',\n",
       " 'm',\n",
       " 'o',\n",
       " 're',\n",
       " 've',\n",
       " 'y',\n",
       " 'ain',\n",
       " 'aren',\n",
       " \"aren't\",\n",
       " 'couldn',\n",
       " \"couldn't\",\n",
       " 'didn',\n",
       " \"didn't\",\n",
       " 'doesn',\n",
       " \"doesn't\",\n",
       " 'hadn',\n",
       " \"hadn't\",\n",
       " 'hasn',\n",
       " \"hasn't\",\n",
       " 'haven',\n",
       " \"haven't\",\n",
       " 'isn',\n",
       " \"isn't\",\n",
       " 'ma',\n",
       " 'mightn',\n",
       " \"mightn't\",\n",
       " 'mustn',\n",
       " \"mustn't\",\n",
       " 'needn',\n",
       " \"needn't\",\n",
       " 'shan',\n",
       " \"shan't\",\n",
       " 'shouldn',\n",
       " \"shouldn't\",\n",
       " 'wasn',\n",
       " \"wasn't\",\n",
       " 'weren',\n",
       " \"weren't\",\n",
       " 'won',\n",
       " \"won't\",\n",
       " 'wouldn',\n",
       " \"wouldn't\"]"
      ]
     },
     "execution_count": 165,
     "metadata": {},
     "output_type": "execute_result"
    }
   ],
   "source": [
    "eng_stopwords"
   ]
  },
  {
   "cell_type": "code",
   "execution_count": 166,
   "metadata": {},
   "outputs": [
    {
     "data": {
      "text/plain": [
       "['i',\n",
       " \"you've\",\n",
       " 'himself',\n",
       " 'they',\n",
       " 'that',\n",
       " 'been',\n",
       " 'a',\n",
       " 'while',\n",
       " 'through',\n",
       " 'in',\n",
       " 'here',\n",
       " 'few',\n",
       " 'own',\n",
       " 'just',\n",
       " 're',\n",
       " 'doesn',\n",
       " 'ma',\n",
       " \"shouldn't\"]"
      ]
     },
     "execution_count": 166,
     "metadata": {},
     "output_type": "execute_result"
    }
   ],
   "source": [
    "#sample of stopwords\n",
    "#this is an example of slicing where we implicitly start at the beginning and move to the end\n",
    "#we select every 10th entry in the array\n",
    "eng_stopwords[::10]"
   ]
  },
  {
   "cell_type": "markdown",
   "metadata": {},
   "source": [
    "Notice that this list includes \"weren\" and \"hasn\" as well as single letters (\"t\"). Why do you think these are contained in the list of stopwords?"
   ]
  },
  {
   "cell_type": "markdown",
   "metadata": {},
   "source": [
    "#### Exercise 3 - practicing slicing\n",
    "\n",
    "- Back to [Table of Contents](#Table-of-Contents)\n",
    "\n",
    "Try slicing to retrieve every 5th word."
   ]
  },
  {
   "cell_type": "code",
   "execution_count": 167,
   "metadata": {},
   "outputs": [
    {
     "data": {
      "text/plain": [
       "['i',\n",
       " 'our',\n",
       " \"you've\",\n",
       " 'yourself',\n",
       " 'himself',\n",
       " 'herself',\n",
       " 'they',\n",
       " 'what',\n",
       " 'that',\n",
       " 'is',\n",
       " 'been',\n",
       " 'having',\n",
       " 'a',\n",
       " 'if',\n",
       " 'while',\n",
       " 'with',\n",
       " 'through',\n",
       " 'below',\n",
       " 'in',\n",
       " 'under',\n",
       " 'here',\n",
       " 'how',\n",
       " 'few',\n",
       " 'such',\n",
       " 'own',\n",
       " 'very',\n",
       " 'just',\n",
       " 'now',\n",
       " 're',\n",
       " \"aren't\",\n",
       " 'doesn',\n",
       " \"hasn't\",\n",
       " 'ma',\n",
       " 'needn',\n",
       " \"shouldn't\",\n",
       " 'won']"
      ]
     },
     "execution_count": 167,
     "metadata": {},
     "output_type": "execute_result"
    }
   ],
   "source": [
    "eng_stopwords[::5]"
   ]
  },
  {
   "cell_type": "markdown",
   "metadata": {},
   "source": [
    "##  Topic Modeling on Cleaned Data\n",
    "\n",
    "- Back to [Table of Contents](#Table-of-Contents)\n",
    "\n",
    "Now that we've cleaned up our data a little bit, let's see what our bag of words looks like."
   ]
  },
  {
   "cell_type": "code",
   "execution_count": 168,
   "metadata": {
    "scrolled": true
   },
   "outputs": [
    {
     "data": {
      "text/plain": [
       "OrderedDict([('system', 537),\n",
       "             ('one', 458),\n",
       "             ('means', 362),\n",
       "             ('provided', 331),\n",
       "             ('includes', 321),\n",
       "             ('first', 301),\n",
       "             ('method', 301),\n",
       "             ('data', 298),\n",
       "             ('signal', 283),\n",
       "             ('material', 261),\n",
       "             ('may', 249),\n",
       "             ('least', 248),\n",
       "             ('second', 247),\n",
       "             ('plurality', 243),\n",
       "             ('comprising', 222),\n",
       "             ('circuit', 216),\n",
       "             ('also', 212),\n",
       "             ('portion', 206),\n",
       "             ('device', 188),\n",
       "             ('invention', 186),\n",
       "             ('control', 184),\n",
       "             ('current', 184),\n",
       "             ('apparatus', 175),\n",
       "             ('surface', 171),\n",
       "             ('voltage', 168),\n",
       "             ('said', 167),\n",
       "             ('storage', 167),\n",
       "             ('acid', 166),\n",
       "             ('information', 164),\n",
       "             ('end', 163),\n",
       "             ('comprises', 157),\n",
       "             ('two', 156),\n",
       "             ('disclosed', 151),\n",
       "             ('high', 148),\n",
       "             ('used', 146),\n",
       "             ('including', 145),\n",
       "             ('member', 143),\n",
       "             ('metal', 143),\n",
       "             ('machine', 142),\n",
       "             ('liquid', 136),\n",
       "             ('provides', 136),\n",
       "             ('form', 135),\n",
       "             ('process', 134),\n",
       "             ('within', 134),\n",
       "             ('position', 130),\n",
       "             ('power', 127),\n",
       "             ('network', 125),\n",
       "             ('provide', 124),\n",
       "             ('present', 122),\n",
       "             ('based', 120),\n",
       "             ('output', 120),\n",
       "             ('selected', 119),\n",
       "             ('thereof', 119),\n",
       "             ('predetermined', 118),\n",
       "             ('substantially', 118),\n",
       "             ('temperature', 117),\n",
       "             ('time', 117),\n",
       "             ('type', 113),\n",
       "             ('use', 112),\n",
       "             ('electrical', 110),\n",
       "             ('formed', 110),\n",
       "             ('connected', 106),\n",
       "             ('wherein', 104),\n",
       "             ('containing', 103),\n",
       "             ('composition', 93),\n",
       "             ('product', 91),\n",
       "             ('heat', 90),\n",
       "             ('improved', 90),\n",
       "             ('using', 88),\n",
       "             ('embodiment', 85),\n",
       "             ('methods', 83),\n",
       "             ('different', 82),\n",
       "             ('compositions', 79),\n",
       "             ('flow', 78),\n",
       "             ('upon', 78),\n",
       "             ('associated', 77),\n",
       "             ('providing', 70),\n",
       "             ('receiving', 68),\n",
       "             ('therein', 68),\n",
       "             ('operation', 66),\n",
       "             ('response', 66),\n",
       "             ('disposed', 65),\n",
       "             ('include', 64),\n",
       "             ('useful', 64),\n",
       "             ('another', 60),\n",
       "             ('described', 58),\n",
       "             ('either', 54)])"
      ]
     },
     "execution_count": 168,
     "metadata": {},
     "output_type": "execute_result"
    }
   ],
   "source": [
    "# create bag of words from processed_corpus\n",
    "processed_bag_of_words, processed_features = create_bag_of_words( processed_corpus, stop_words = eng_stopwords )\n",
    "dict_processed_word_counts = get_word_counts( processed_bag_of_words, processed_features )\n",
    "dict_processed_word_counts"
   ]
  },
  {
   "cell_type": "markdown",
   "metadata": {},
   "source": [
    "Much better! Now this is starting to look like a reasonable representation of our corpus of text. \n",
    "\n",
    "We mentioned that, in addition to stopwords that are common across all types of text analysis problems, there wil also be specific stopwords based on the context of your domain. Notice how the top words include words like \"...\"? It makes sense that these words are so common - so they won't be very helpful in analysis. \n",
    "\n",
    "One quick way to remove some of these domain-specific stopwords is by dropping some of your most frequent words. We'll start out by dropping the top 20. You'll want to change this number, playing with making it bigger and smaller, to see how it affects your resulting topics."
   ]
  },
  {
   "cell_type": "code",
   "execution_count": 176,
   "metadata": {
    "collapsed": true
   },
   "outputs": [],
   "source": [
    "# get top 20 stopwords (slice from start through 20 items in list)\n",
    "top_20_words = list(dict_processed_word_counts.keys())[:20]\n",
    "\n",
    "# create new stopword list by combining default stopwords with our top 20.\n",
    "domain_specific_stopwords = eng_stopwords + top_20_words\n",
    "\n",
    "# make a new bag of words excluding custom stopwords.\n",
    "processed_bag_of_words, processed_features = create_bag_of_words(processed_corpus,\n",
    "                                                                 stop_words=domain_specific_stopwords)\n"
   ]
  },
  {
   "cell_type": "code",
   "execution_count": 177,
   "metadata": {
    "scrolled": true
   },
   "outputs": [
    {
     "data": {
      "text/plain": [
       "OrderedDict([('control', 184),\n",
       "             ('current', 184),\n",
       "             ('apparatus', 175),\n",
       "             ('surface', 171),\n",
       "             ('voltage', 168),\n",
       "             ('said', 167),\n",
       "             ('storage', 167),\n",
       "             ('acid', 166),\n",
       "             ('information', 164),\n",
       "             ('end', 163),\n",
       "             ('comprises', 157),\n",
       "             ('two', 156),\n",
       "             ('disclosed', 151),\n",
       "             ('high', 148),\n",
       "             ('used', 146),\n",
       "             ('including', 145),\n",
       "             ('member', 143),\n",
       "             ('metal', 143),\n",
       "             ('machine', 142),\n",
       "             ('liquid', 136),\n",
       "             ('provides', 136),\n",
       "             ('form', 135),\n",
       "             ('process', 134),\n",
       "             ('within', 134),\n",
       "             ('position', 130),\n",
       "             ('power', 127),\n",
       "             ('network', 125),\n",
       "             ('provide', 124),\n",
       "             ('present', 122),\n",
       "             ('based', 120),\n",
       "             ('output', 120),\n",
       "             ('selected', 119),\n",
       "             ('thereof', 119),\n",
       "             ('predetermined', 118),\n",
       "             ('substantially', 118),\n",
       "             ('temperature', 117),\n",
       "             ('time', 117),\n",
       "             ('type', 113),\n",
       "             ('use', 112),\n",
       "             ('electrical', 110),\n",
       "             ('formed', 110),\n",
       "             ('connected', 106),\n",
       "             ('wherein', 104),\n",
       "             ('containing', 103),\n",
       "             ('composition', 93),\n",
       "             ('product', 91),\n",
       "             ('heat', 90),\n",
       "             ('improved', 90),\n",
       "             ('using', 88),\n",
       "             ('embodiment', 85),\n",
       "             ('methods', 83),\n",
       "             ('different', 82),\n",
       "             ('compositions', 79),\n",
       "             ('flow', 78),\n",
       "             ('upon', 78),\n",
       "             ('associated', 77),\n",
       "             ('providing', 70),\n",
       "             ('receiving', 68),\n",
       "             ('therein', 68),\n",
       "             ('operation', 66),\n",
       "             ('response', 66),\n",
       "             ('disposed', 65),\n",
       "             ('include', 64),\n",
       "             ('useful', 64),\n",
       "             ('another', 60),\n",
       "             ('described', 58),\n",
       "             ('either', 54)])"
      ]
     },
     "execution_count": 177,
     "metadata": {},
     "output_type": "execute_result"
    }
   ],
   "source": [
    "# what do we have now?\n",
    "dict_processed_word_counts = get_word_counts(processed_bag_of_words, processed_features)\n",
    "dict_processed_word_counts"
   ]
  },
  {
   "cell_type": "markdown",
   "metadata": {},
   "source": [
    "This is a bit better - although we still see some words that are probably very common (\"...\"), words like \"...\" will probably help us come up with more specific categories within the broader realm of social services. Let's see what topics we produce."
   ]
  },
  {
   "cell_type": "code",
   "execution_count": 178,
   "metadata": {},
   "outputs": [
    {
     "name": "stdout",
     "output_type": "stream",
     "text": [
      "0 end, said, metal, surface, voltage\n",
      "1 control, current, apparatus, storage, liquid\n",
      "2 acid, process, high, provides, type\n"
     ]
    }
   ],
   "source": [
    "processed_keywords, processed_doctopic = create_topics(processed_bag_of_words, \n",
    "                                                       processed_features)"
   ]
  },
  {
   "cell_type": "markdown",
   "metadata": {},
   "source": [
    "Now we are starting to get somewhere! We can manipulate the number of topics we want to find and the number of words to use for each topic to see if we can understand more from our corpus. "
   ]
  },
  {
   "cell_type": "code",
   "execution_count": 179,
   "metadata": {},
   "outputs": [
    {
     "name": "stdout",
     "output_type": "stream",
     "text": [
      "0 apparatus, liquid, composition, provides, present, predetermined, comprises, including, wherein, used\n",
      "1 current, voltage, power, output, electrical, connected, control, time, operation, providing\n",
      "2 acid, selected, product, compositions, process, containing, include, thereof, methods, disclosed\n",
      "3 end, said, surface, metal, member, two, form, high, formed, heat\n",
      "4 storage, information, machine, network, based, used, position, control, described, associated\n"
     ]
    }
   ],
   "source": [
    "# look for 5 topics, include 10 words in each.\n",
    "processed_keywords, processed_doctopic = create_topics(processed_bag_of_words, \n",
    "                                                       processed_features, \n",
    "                                                       N_TOPICS = 5,\n",
    "                                                       N_TOP_WORDS= 10)"
   ]
  },
  {
   "cell_type": "markdown",
   "metadata": {},
   "source": [
    "Some structure is starting to reveal itself - .... Adding more topics has revealed to larger subtopics. Let's see if increasing the number of topics gives us more information.\n",
    "\n",
    "However, we can see that .... are still present -  This is an iterative process - after seeing the results of some analysis, you will need to go back to the preprocessing step and add more words to your list of stopwords or change how you cleaned the data.\n",
    "\n",
    "Now let's try 10 topics with 15 words each:"
   ]
  },
  {
   "cell_type": "code",
   "execution_count": 180,
   "metadata": {},
   "outputs": [
    {
     "name": "stdout",
     "output_type": "stream",
     "text": [
      "0 current, voltage, power, output, control, time, connected, electrical, operation, predetermined, provide, response, within, substantially, disclosed\n",
      "1 liquid, electrical, temperature, high, useful, containing, described, disclosed, used, including, within, either, type, upon, apparatus\n",
      "2 apparatus, provides, type, present, control, methods, response, receiving, using, upon, use, comprises, disclosed, include, wherein\n",
      "3 said, surface, predetermined, formed, machine, including, time, therein, within, receiving, containing, improved, another, thereof, different\n",
      "4 storage, information, used, machine, based, selected, provide, embodiment, including, within, different, include, using, providing, described\n",
      "5 end, position, heat, disposed, therein, thereof, apparatus, within, wherein, disclosed, another, connected, upon, receiving, form\n",
      "6 acid, composition, process, compositions, flow, thereof, high, comprises, disclosed, product, present, include, based, including, methods\n",
      "7 two, network, associated, comprises, wherein, embodiment, disclosed, providing, improved, using, provide, use, another, based, receiving\n",
      "8 member, formed, selected, different, operation, form, thereof, within, high, two, substantially, including, connected, provide, comprises\n",
      "9 metal, substantially, form, use, product, improved, including, surface, containing, process, temperature, comprises, high, heat, disclosed\n"
     ]
    }
   ],
   "source": [
    "# 10 topics, 15 words each\n",
    "processed_keywords, processed_doctopic = create_topics(processed_bag_of_words, \n",
    "                                                       processed_features, \n",
    "                                                       N_TOPICS = 10,\n",
    "                                                       N_TOP_WORDS= 15)"
   ]
  },
  {
   "cell_type": "markdown",
   "metadata": {},
   "source": [
    "This looks like a good amount of topics for now. Some of the top words are quite similar, like <span style=\"background-color: #FFFF00\"> \"....\" </span> Let's move to stemming and lemmatization."
   ]
  },
  {
   "cell_type": "markdown",
   "metadata": {},
   "source": [
    "### Stemming and Lemmatization - Distilling text data\n",
    "\n",
    "- Back to [Table of Contents](#Table-of-Contents)\n",
    "\n",
    "We can further process our text through *stemming and lemmatization*, or replacing words with their root or simplest form. For example \"systems,\" \"systematic,\" and \"system\" are all different words, but we can replace all these words with \"system\" without sacrificing much meaning. \n",
    "\n",
    "- A **lemma** is the original dictionary form of a word (e.g. the lemma for \"lies,\" \"lied,\" and \"lying\" is \"lie\").\n",
    "- The process of turning a word into its simplest form is **stemming**. There are several well known stemming algorithms -- Porter, Snowball, Lancaster -- that all have their respective strengths and weaknesses.\n",
    "\n",
    "For this tutorial, we'll use the Snowball Stemmer:"
   ]
  },
  {
   "cell_type": "code",
   "execution_count": 181,
   "metadata": {},
   "outputs": [
    {
     "name": "stdout",
     "output_type": "stream",
     "text": [
      "lie\n",
      "lie\n",
      "systemat\n",
      "run\n"
     ]
    }
   ],
   "source": [
    "# Examples of how a Stemmer works:\n",
    "stemmer = SnowballStemmer(\"english\")\n",
    "print(stemmer.stem('lies'))\n",
    "print(stemmer.stem(\"lying\"))\n",
    "print(stemmer.stem('systematic'))\n",
    "print(stemmer.stem(\"running\"))"
   ]
  },
  {
   "cell_type": "markdown",
   "metadata": {},
   "source": [
    "Let's try creating a bag of stemmed words."
   ]
  },
  {
   "cell_type": "code",
   "execution_count": 182,
   "metadata": {
    "collapsed": true
   },
   "outputs": [],
   "source": [
    "# include stemming when creating our bag of words.\n",
    "processed_bag_of_words, processed_features = create_bag_of_words(processed_corpus,\n",
    "                                                                 stop_words=domain_specific_stopwords,\n",
    "                                                                 stem=True)"
   ]
  },
  {
   "cell_type": "code",
   "execution_count": 183,
   "metadata": {},
   "outputs": [
    {
     "name": "stdout",
     "output_type": "stream",
     "text": [
      "0 said, posit, heat, base, generat, compris, plural, within, electr, surfac, remov, wherein, includ, devic, produc\n",
      "1 mean, end, control, provid, output, power, support, plural, posit, apparatus, oper, time, connect, mount, current\n",
      "2 member, element, two, form, termin, line, provid, relat, connect, surfac, transfer, improv, separ, substanti, includ\n",
      "3 includ, devic, provid, inform, control, receiv, network, use, comput, determin, store, base, embodi, select, plural\n",
      "4 storag, resin, switch, contain, predetermin, dure, machin, use, contact, oper, improv, embodi, electr, control, structur\n",
      "5 composit, coat, liquid, compris, provid, select, use, temperatur, mixtur, contain, acid, includ, addit, process, thereof\n",
      "6 process, type, differ, reduc, level, use, describ, particular, disclos, effect, correspond, flow, time, combin, desir\n",
      "7 invent, product, present, acid, use, provid, particular, addit, form, compris, sequenc, improv, includ, prefer, thereof\n",
      "8 compris, vector, cell, provid, sequenc, acid, produc, invent, wherein, direct, oper, present, transfer, contact, correspond\n",
      "9 materi, metal, high, voltag, current, form, conduct, prepar, substanti, includ, surfac, solid, temperatur, produc, provid\n"
     ]
    }
   ],
   "source": [
    "# create topics with stemmed words.\n",
    "processed_keywords, processed_doctopic = create_topics(processed_bag_of_words, \n",
    "                                                       processed_features, \n",
    "                                                       N_TOPICS = 10,\n",
    "                                                       N_TOP_WORDS= 15)"
   ]
  },
  {
   "cell_type": "markdown",
   "metadata": {},
   "source": [
    "What do we think of these topics?"
   ]
  },
  {
   "cell_type": "markdown",
   "metadata": {},
   "source": [
    "### N-grams - Adding context by creating N-grams\n",
    "\n",
    "- Back to [Table of Contents](#Table-of-Contents)\n",
    "\n",
    "Obviously, reducing a document to a bag of words means losing much of its meaning - we put words in certain orders, and group words together in phrases and sentences, precisely to give them more meaning. If you follow the processing steps we've gone through so far, splitting your document into individual words and then removing stopwords, you'll completely lose all phrases like \"kick the bucket,\" \"commander in chief,\" or \"sleeps with the fishes.\" \n",
    "\n",
    "One way to address this is to break down each document similarly, but rather than treating each word as an individual unit, treat each group of 2 words, or 3 words, or *n* words, as a unit. We call this a \"bag of *n*-grams,\" where *n* is the number of words in each chunk. Then you can analyze which groups of words commonly occur together (in a fixed order). \n",
    "\n",
    "Let's transform our corpus into a bag of n-grams with *n*=2: a bag of 2-grams, AKA a bag of bi-grams."
   ]
  },
  {
   "cell_type": "code",
   "execution_count": 184,
   "metadata": {},
   "outputs": [
    {
     "name": "stdout",
     "output_type": "stream",
     "text": [
      "0 vector, invent, compris, cell, storag, provid, present, invent provid, present invent, sequenc, acid, use, embodi, produc, wherein\n",
      "1 includ, base, provid, network, use, comput, inform, devic, determin, receiv, plural, configur, store, associ, embodi\n",
      "2 member, direct, space, support, end, structur, side, maintain, compris, appli, form, extend, receiv, substanti, particular\n",
      "3 composit, compris, acid, product, resin, select, provid, contain, addit, mixtur, use, includ, thereof, combin, produc\n",
      "4 control, current, voltag, power, output, oper, time, apparatus, devic, receiv, respons, provid, line, switch, generat\n",
      "5 metal, form, heat, said, two, contact, temperatur, conduct, materi, element, improv, structur, substanti, electr, plural\n",
      "6 mean, posit, connect, end, electr, provid, mount, plural, element, includ, dispos, within, flow, support, suppli\n",
      "7 liquid, coat, machin, contain, temperatur, predetermin, dure, surfac, oper, provid, use, appli, remov, within, apparatus\n",
      "8 materi, surfac, high, form, provid, use, relat, compris, includ, substanti, improv, type, desir, solid, contain\n",
      "9 process, use, transfer, reduc, termin, disclos, prepar, describ, embodi, util, base, inform, differ, product, produc\n"
     ]
    }
   ],
   "source": [
    "# create bag of words with stemmed words and 2-grams (NGRAM_RANGE = (0, 2)).\n",
    "processed_bag_of_words, processed_features = create_bag_of_words(processed_corpus,\n",
    "                                                                 stop_words=domain_specific_stopwords,\n",
    "                                                                 stem=True,\n",
    "                                                                 NGRAM_RANGE=(0,2))\n",
    "\n",
    "# Create topics.\n",
    "processed_keywords, processed_doctopic = create_topics(processed_bag_of_words, \n",
    "                                                       processed_features, \n",
    "                                                       N_TOPICS = 10,\n",
    "                                                       N_TOP_WORDS= 15)"
   ]
  },
  {
   "cell_type": "markdown",
   "metadata": {},
   "source": [
    "We can see that this lets us uncover patterns that we couldn't when we just used a bag of words: \"north shore\" and \"domest violenc\" come up as words. Note that this still includes the individual words, as well as the bi-grams."
   ]
  },
  {
   "cell_type": "markdown",
   "metadata": {},
   "source": [
    "### TF-IDF - Weighting terms based on frequency\n",
    "\n",
    "- Back to [Table of Contents](#Table-of-Contents)\n",
    "\n",
    "A final step in cleaning and processing our text data is **Term Frequency-Inverse Document Frequency (TF-IDF)**. TF-IDF is based on the idea that the words (or terms) that are most related to a certain topic will occur frequently in documents on that topic, and infrequently in unrelated documents.  TF-IDF re-weights words so that we emphasize words that are unique to a document and suppress words that are common throughout the corpus by inversely weighting terms based on their frequency within the document and across the corpus.\n",
    "\n",
    "Let's look at how using TF-IDF affects our bag of words:"
   ]
  },
  {
   "cell_type": "code",
   "execution_count": 185,
   "metadata": {
    "collapsed": true
   },
   "outputs": [],
   "source": [
    "# create bag of words including TF-IDF weighting.\n",
    "processed_bag_of_words, processed_features = create_bag_of_words( processed_corpus,\n",
    "                                                                  stop_words = domain_specific_stopwords,\n",
    "                                                                  stem = True,\n",
    "                                                                  NGRAM_RANGE = ( 0, 2 ),\n",
    "                                                                  USE_IDF = True )"
   ]
  },
  {
   "cell_type": "code",
   "execution_count": 186,
   "metadata": {},
   "outputs": [
    {
     "data": {
      "text/plain": [
       "OrderedDict([('provid', 1061.0709506757498),\n",
       "             ('includ', 962.04225551672516),\n",
       "             ('use', 825.13433847377325),\n",
       "             ('compris', 809.34419710003203),\n",
       "             ('mean', 690.71185222221152),\n",
       "             ('control', 688.96635778452196),\n",
       "             ('form', 686.52702123214488),\n",
       "             ('materi', 624.51548171275954),\n",
       "             ('plural', 600.46635261279221),\n",
       "             ('receiv', 577.37953012600656),\n",
       "             ('oper', 569.52078429555593),\n",
       "             ('process', 552.10256738532257),\n",
       "             ('devic', 551.23492466330401),\n",
       "             ('posit', 549.80368311802624),\n",
       "             ('base', 535.95877649751662),\n",
       "             ('select', 526.37647066568434),\n",
       "             ('composit', 524.79134909228026),\n",
       "             ('contain', 523.69691421778475),\n",
       "             ('invent', 509.54438577915579),\n",
       "             ('surfac', 499.54757893181147),\n",
       "             ('acid', 482.22380009371972),\n",
       "             ('connect', 475.53854047334397),\n",
       "             ('metal', 473.68073216767107),\n",
       "             ('end', 462.90251371816237),\n",
       "             ('apparatus', 459.53199987184763),\n",
       "             ('electr', 454.93398559799232),\n",
       "             ('high', 447.23878505449483),\n",
       "             ('member', 444.18504073622137),\n",
       "             ('disclos', 442.4247160169765),\n",
       "             ('product', 441.65001748912374),\n",
       "             ('inform', 438.52916471760307),\n",
       "             ('relat', 436.95884667697896),\n",
       "             ('voltag', 435.20229180304921),\n",
       "             ('embodi', 432.73866146058356),\n",
       "             ('two', 429.59799900049768),\n",
       "             ('heat', 425.08759733435249),\n",
       "             ('vector', 421.84067796833125),\n",
       "             ('current', 417.69682564471481),\n",
       "             ('produc', 415.86901527114526),\n",
       "             ('direct', 407.09952244606973),\n",
       "             ('within', 402.25863147755337),\n",
       "             ('time', 401.80025830557349),\n",
       "             ('substanti', 396.38286542795498),\n",
       "             ('temperatur', 392.8718479459551),\n",
       "             ('present', 391.77957390734434),\n",
       "             ('machin', 389.27059213767592),\n",
       "             ('improv', 388.47521043309325),\n",
       "             ('generat', 387.00302776552098),\n",
       "             ('cell', 377.84974935716843),\n",
       "             ('determin', 372.24948433607995),\n",
       "             ('thereof', 369.79851876862625),\n",
       "             ('type', 368.04059212797944),\n",
       "             ('said', 366.97752197549323),\n",
       "             ('storag', 364.47478325942996),\n",
       "             ('coat', 363.79944208160668),\n",
       "             ('network', 361.84728460448179),\n",
       "             ('liquid', 360.22749136545332),\n",
       "             ('comput', 359.75105886674163),\n",
       "             ('store', 359.69774802600023),\n",
       "             ('output', 357.97171982940813),\n",
       "             ('addit', 354.19287642488354),\n",
       "             ('switch', 349.75402092270008),\n",
       "             ('element', 349.72530602172714),\n",
       "             ('power', 346.13657992711933),\n",
       "             ('predetermin', 340.66770089322563),\n",
       "             ('support', 339.10968795732356),\n",
       "             ('space', 330.74566158105188),\n",
       "             ('respons', 327.26599686974441),\n",
       "             ('wherein', 325.54859515731664),\n",
       "             ('mount', 325.49242490193529),\n",
       "             ('particular', 324.87734875867682),\n",
       "             ('resin', 323.37398300437667),\n",
       "             ('differ', 321.7867841453986),\n",
       "             ('termin', 313.84451162449147),\n",
       "             ('level', 311.86113492685513),\n",
       "             ('structur', 311.38897430841757),\n",
       "             ('coupl', 304.61911444019773),\n",
       "             ('contact', 303.68439214345079),\n",
       "             ('side', 303.49943221772543),\n",
       "             ('present invent', 301.57493239480158),\n",
       "             ('remov', 301.27971754368946),\n",
       "             ('associ', 297.56930970175898),\n",
       "             ('invent provid', 296.90715823934505),\n",
       "             ('flow', 295.14066112672384),\n",
       "             ('line', 290.90011489946778),\n",
       "             ('sequenc', 290.35795906566563),\n",
       "             ('appli', 290.18829011972633),\n",
       "             ('conduct', 287.69109952024633),\n",
       "             ('dure', 284.910772754768),\n",
       "             ('locat', 283.94794513532918),\n",
       "             ('prefer', 282.35577019076442),\n",
       "             ('transfer', 281.73505820839108),\n",
       "             ('suppli', 281.69400043019078),\n",
       "             ('configur', 278.98629990538791),\n",
       "             ('effect', 275.39179527670564),\n",
       "             ('allow', 275.27762546824425),\n",
       "             ('upon', 274.45641218912806),\n",
       "             ('result', 271.69013580153103),\n",
       "             ('communic', 271.39505094297238),\n",
       "             ('mixtur', 270.19491840897024),\n",
       "             ('combin', 259.910066232958),\n",
       "             ('respect', 257.52204465750742),\n",
       "             ('extend', 251.76823030567266),\n",
       "             ('dispos', 250.20082241347609),\n",
       "             ('therein', 247.84019624338592),\n",
       "             ('util', 244.92114503911932),\n",
       "             ('separ', 244.65789351373448),\n",
       "             ('describ', 243.90895897224468),\n",
       "             ('prepar', 238.26994124588006),\n",
       "             ('desir', 237.95998100297192),\n",
       "             ('solid', 236.42625703390854),\n",
       "             ('reduc', 232.88695818914388),\n",
       "             ('prevent', 229.48367309058187),\n",
       "             ('anoth', 227.19740260237143),\n",
       "             ('correspond', 225.97040342148321),\n",
       "             ('maintain', 222.77658487818991),\n",
       "             ('either', 210.25993788196837)])"
      ]
     },
     "execution_count": 186,
     "metadata": {},
     "output_type": "execute_result"
    }
   ],
   "source": [
    "# let's see what we have:\n",
    "dict_word_counts = get_word_counts( processed_bag_of_words, processed_features )\n",
    "dict_word_counts"
   ]
  },
  {
   "cell_type": "markdown",
   "metadata": {},
   "source": [
    "The words counts have been reweighted to emphasize the more meaningful words of the corpus, while de-emphasizing the words that are found commonly throughout the corpus.\n",
    "\n",
    "How does this affect our topics?"
   ]
  },
  {
   "cell_type": "code",
   "execution_count": 188,
   "metadata": {},
   "outputs": [
    {
     "name": "stdout",
     "output_type": "stream",
     "text": [
      "0 surfac, compris, temperatur, vector, resin, cell, contact, coat, substanti, materi\n",
      "1 composit, process, heat, product, metal, use, mixtur, materi, includ, transfer\n",
      "2 control, voltag, current, oper, output, power, switch, electr, connect, mount\n",
      "3 mean, end, posit, machin, apparatus, liquid, predetermin, plural, space, member\n",
      "4 type, includ, embodi, comput, use, invent, network, present, storag, present invent\n"
     ]
    }
   ],
   "source": [
    "processed_keywords, processed_doctopic = create_topics(processed_bag_of_words, \n",
    "                                                       processed_features, \n",
    "                                                       N_TOPICS = 5,\n",
    "                                                       N_TOP_WORDS= 10)"
   ]
  },
  {
   "cell_type": "markdown",
   "metadata": {},
   "source": [
    "---\n",
    "\n",
    "### Exercise 4 - Refining a topic model\n",
    "\n",
    "- Back to [Table of Contents](#Table-of-Contents)\n",
    "\n",
    "You can only develop an intuition for the right number of topics and topic words suitable for a given problem by iterating until you find a good match. \n",
    "\n",
    "Change the number of topics and topic words until you get an intution of how many words and topics are enough."
   ]
  },
  {
   "cell_type": "code",
   "execution_count": 189,
   "metadata": {},
   "outputs": [
    {
     "name": "stdout",
     "output_type": "stream",
     "text": [
      "0 time, current, generat, control, termin, store, respons, embodi, predetermin, flow, inform, storag, comput, devic, receiv, plural, level, includ, communic, provid, use, apparatus, differ, locat, particular\n",
      "1 voltag, surfac, end, electr, connect, member, mean, posit, switch, power, element, resin, mount, support, appli, side, output, compris, extend, thereof, contact, provid, form, dispos, respect\n",
      "2 machin, includ, control, suppli, dure, base, transfer, receiv, network, oper, within, determin, util, maintain, coupl, select, provid, configur, posit, devic, line, remov, inform, use, relat\n",
      "3 materi, metal, form, heat, said, high, liquid, process, composit, temperatur, contain, product, prepar, use, mean, solid, includ, substanti, mixtur, addit, conduct, produc, disclos, two, result\n",
      "4 invent, acid, vector, compris, present, cell, present invent, sequenc, invent provid, provid, reduc, produc, use, composit, product, thereof, select, particular, coat, either, line, direct, addit, type, contain\n"
     ]
    }
   ],
   "source": [
    "exercise_keywords, exercise_doctopic = create_topics( processed_bag_of_words, \n",
    "                                                      processed_features, \n",
    "                                                      N_TOPICS = 5,\n",
    "                                                      N_TOP_WORDS= 25 )"
   ]
  },
  {
   "cell_type": "code",
   "execution_count": 190,
   "metadata": {},
   "outputs": [
    {
     "name": "stdout",
     "output_type": "stream",
     "text": [
      "0 line, particular, differ, describ, improv, use, sequenc, relat, thereof, structur, inform, surfac, disclos, provid, compris, product, output, direct, associ, process, desir, effect, reduc, contain, oper\n",
      "1 said, mean, liquid, predetermin, communic, correspond, apparatus, plural, time, store, respons, wherein, locat, receiv, control, within, contain, upon, generat, result, posit, determin, compris, provid, includ\n",
      "2 member, disclos, mount, mean, machin, posit, respect, surfac, within, end, desir, element, oper, dispos, therein, thereof, form, side, receiv, apparatus, support, liquid, flow, provid, plural\n",
      "3 invent, acid, present, vector, cell, present invent, compris, invent provid, provid, produc, sequenc, mixtur, composit, product, use, addit, thereof, process, direct, coat, either, type, contact, select, prefer\n",
      "4 metal, two, materi, side, prefer, surfac, improv, base, direct, substanti, form, embodi, use, provid, extend, includ, solid, process, wherein, member, contain, apparatus, produc, compris, level\n",
      "5 space, end, conduct, structur, support, connect, prevent, remov, posit, plural, form, anoth, allow, type, dure, termin, provid, mean, extend, apparatus, relat, dispos, therein, upon, separ\n",
      "6 select, base, includ, coupl, receiv, devic, level, reduc, transfer, determin, network, inform, process, provid, control, associ, use, generat, output, util, relat, direct, plural, produc, store\n",
      "7 embodi, storag, comput, configur, devic, includ, store, oper, network, inform, use, provid, machin, cell, allow, associ, communic, within, transfer, base, locat, connect, contain, vector, electr\n",
      "8 composit, materi, high, resin, coat, substanti, compris, prepar, product, form, contain, appli, process, addit, temperatur, result, surfac, solid, use, mixtur, includ, contact, remov, effect, said\n",
      "9 voltag, current, heat, power, switch, electr, control, oper, suppli, combin, temperatur, connect, time, output, flow, contact, separ, either, dure, generat, provid, termin, element, respons, maintain\n"
     ]
    }
   ],
   "source": [
    "exercise_keywords, exercise_doctopic = create_topics( processed_bag_of_words, \n",
    "                                                      processed_features, \n",
    "                                                      N_TOPICS = 10,\n",
    "                                                      N_TOP_WORDS= 25 )"
   ]
  },
  {
   "cell_type": "code",
   "execution_count": 192,
   "metadata": {},
   "outputs": [
    {
     "ename": "ValueError",
     "evalue": "Length of values does not match length of index",
     "output_type": "error",
     "traceback": [
      "\u001b[0;31m---------------------------------------------------------------------------\u001b[0m",
      "\u001b[0;31mValueError\u001b[0m                                Traceback (most recent call last)",
      "\u001b[0;32m<ipython-input-192-dd0b9ea89172>\u001b[0m in \u001b[0;36m<module>\u001b[0;34m()\u001b[0m\n\u001b[1;32m      1\u001b[0m \u001b[0;31m#grab the topic_id of the majority topic for each document and store it in a list\u001b[0m\u001b[0;34m\u001b[0m\u001b[0;34m\u001b[0m\u001b[0m\n\u001b[1;32m      2\u001b[0m \u001b[0mls_topic_id\u001b[0m \u001b[0;34m=\u001b[0m \u001b[0;34m[\u001b[0m\u001b[0mnp\u001b[0m\u001b[0;34m.\u001b[0m\u001b[0margsort\u001b[0m\u001b[0;34m(\u001b[0m\u001b[0mprocessed_doctopic\u001b[0m\u001b[0;34m[\u001b[0m\u001b[0mcomment_id\u001b[0m\u001b[0;34m]\u001b[0m\u001b[0;34m)\u001b[0m\u001b[0;34m[\u001b[0m\u001b[0;34m:\u001b[0m\u001b[0;34m:\u001b[0m\u001b[0;34m-\u001b[0m\u001b[0;36m1\u001b[0m\u001b[0;34m]\u001b[0m\u001b[0;34m[\u001b[0m\u001b[0;36m0\u001b[0m\u001b[0;34m]\u001b[0m \u001b[0;32mfor\u001b[0m \u001b[0mcomment_id\u001b[0m \u001b[0;32min\u001b[0m \u001b[0mrange\u001b[0m\u001b[0;34m(\u001b[0m\u001b[0mlen\u001b[0m\u001b[0;34m(\u001b[0m\u001b[0mcorpus\u001b[0m\u001b[0;34m)\u001b[0m\u001b[0;34m)\u001b[0m\u001b[0;34m]\u001b[0m\u001b[0;34m\u001b[0m\u001b[0m\n\u001b[0;32m----> 3\u001b[0;31m \u001b[0mdf_patent_desc\u001b[0m\u001b[0;34m[\u001b[0m\u001b[0;34m'topic_id'\u001b[0m\u001b[0;34m]\u001b[0m \u001b[0;34m=\u001b[0m \u001b[0mls_topic_id\u001b[0m \u001b[0;31m#add to the dataframe so we can compare with the job titles\u001b[0m\u001b[0;34m\u001b[0m\u001b[0m\n\u001b[0m",
      "\u001b[0;32m~/anaconda3/lib/python3.6/site-packages/pandas/core/frame.py\u001b[0m in \u001b[0;36m__setitem__\u001b[0;34m(self, key, value)\u001b[0m\n\u001b[1;32m   2329\u001b[0m         \u001b[0;32melse\u001b[0m\u001b[0;34m:\u001b[0m\u001b[0;34m\u001b[0m\u001b[0m\n\u001b[1;32m   2330\u001b[0m             \u001b[0;31m# set column\u001b[0m\u001b[0;34m\u001b[0m\u001b[0;34m\u001b[0m\u001b[0m\n\u001b[0;32m-> 2331\u001b[0;31m             \u001b[0mself\u001b[0m\u001b[0;34m.\u001b[0m\u001b[0m_set_item\u001b[0m\u001b[0;34m(\u001b[0m\u001b[0mkey\u001b[0m\u001b[0;34m,\u001b[0m \u001b[0mvalue\u001b[0m\u001b[0;34m)\u001b[0m\u001b[0;34m\u001b[0m\u001b[0m\n\u001b[0m\u001b[1;32m   2332\u001b[0m \u001b[0;34m\u001b[0m\u001b[0m\n\u001b[1;32m   2333\u001b[0m     \u001b[0;32mdef\u001b[0m \u001b[0m_setitem_slice\u001b[0m\u001b[0;34m(\u001b[0m\u001b[0mself\u001b[0m\u001b[0;34m,\u001b[0m \u001b[0mkey\u001b[0m\u001b[0;34m,\u001b[0m \u001b[0mvalue\u001b[0m\u001b[0;34m)\u001b[0m\u001b[0;34m:\u001b[0m\u001b[0;34m\u001b[0m\u001b[0m\n",
      "\u001b[0;32m~/anaconda3/lib/python3.6/site-packages/pandas/core/frame.py\u001b[0m in \u001b[0;36m_set_item\u001b[0;34m(self, key, value)\u001b[0m\n\u001b[1;32m   2395\u001b[0m \u001b[0;34m\u001b[0m\u001b[0m\n\u001b[1;32m   2396\u001b[0m         \u001b[0mself\u001b[0m\u001b[0;34m.\u001b[0m\u001b[0m_ensure_valid_index\u001b[0m\u001b[0;34m(\u001b[0m\u001b[0mvalue\u001b[0m\u001b[0;34m)\u001b[0m\u001b[0;34m\u001b[0m\u001b[0m\n\u001b[0;32m-> 2397\u001b[0;31m         \u001b[0mvalue\u001b[0m \u001b[0;34m=\u001b[0m \u001b[0mself\u001b[0m\u001b[0;34m.\u001b[0m\u001b[0m_sanitize_column\u001b[0m\u001b[0;34m(\u001b[0m\u001b[0mkey\u001b[0m\u001b[0;34m,\u001b[0m \u001b[0mvalue\u001b[0m\u001b[0;34m)\u001b[0m\u001b[0;34m\u001b[0m\u001b[0m\n\u001b[0m\u001b[1;32m   2398\u001b[0m         \u001b[0mNDFrame\u001b[0m\u001b[0;34m.\u001b[0m\u001b[0m_set_item\u001b[0m\u001b[0;34m(\u001b[0m\u001b[0mself\u001b[0m\u001b[0;34m,\u001b[0m \u001b[0mkey\u001b[0m\u001b[0;34m,\u001b[0m \u001b[0mvalue\u001b[0m\u001b[0;34m)\u001b[0m\u001b[0;34m\u001b[0m\u001b[0m\n\u001b[1;32m   2399\u001b[0m \u001b[0;34m\u001b[0m\u001b[0m\n",
      "\u001b[0;32m~/anaconda3/lib/python3.6/site-packages/pandas/core/frame.py\u001b[0m in \u001b[0;36m_sanitize_column\u001b[0;34m(self, key, value, broadcast)\u001b[0m\n\u001b[1;32m   2566\u001b[0m \u001b[0;34m\u001b[0m\u001b[0m\n\u001b[1;32m   2567\u001b[0m             \u001b[0;31m# turn me into an ndarray\u001b[0m\u001b[0;34m\u001b[0m\u001b[0;34m\u001b[0m\u001b[0m\n\u001b[0;32m-> 2568\u001b[0;31m             \u001b[0mvalue\u001b[0m \u001b[0;34m=\u001b[0m \u001b[0m_sanitize_index\u001b[0m\u001b[0;34m(\u001b[0m\u001b[0mvalue\u001b[0m\u001b[0;34m,\u001b[0m \u001b[0mself\u001b[0m\u001b[0;34m.\u001b[0m\u001b[0mindex\u001b[0m\u001b[0;34m,\u001b[0m \u001b[0mcopy\u001b[0m\u001b[0;34m=\u001b[0m\u001b[0;32mFalse\u001b[0m\u001b[0;34m)\u001b[0m\u001b[0;34m\u001b[0m\u001b[0m\n\u001b[0m\u001b[1;32m   2569\u001b[0m             \u001b[0;32mif\u001b[0m \u001b[0;32mnot\u001b[0m \u001b[0misinstance\u001b[0m\u001b[0;34m(\u001b[0m\u001b[0mvalue\u001b[0m\u001b[0;34m,\u001b[0m \u001b[0;34m(\u001b[0m\u001b[0mnp\u001b[0m\u001b[0;34m.\u001b[0m\u001b[0mndarray\u001b[0m\u001b[0;34m,\u001b[0m \u001b[0mIndex\u001b[0m\u001b[0;34m)\u001b[0m\u001b[0;34m)\u001b[0m\u001b[0;34m:\u001b[0m\u001b[0;34m\u001b[0m\u001b[0m\n\u001b[1;32m   2570\u001b[0m                 \u001b[0;32mif\u001b[0m \u001b[0misinstance\u001b[0m\u001b[0;34m(\u001b[0m\u001b[0mvalue\u001b[0m\u001b[0;34m,\u001b[0m \u001b[0mlist\u001b[0m\u001b[0;34m)\u001b[0m \u001b[0;32mand\u001b[0m \u001b[0mlen\u001b[0m\u001b[0;34m(\u001b[0m\u001b[0mvalue\u001b[0m\u001b[0;34m)\u001b[0m \u001b[0;34m>\u001b[0m \u001b[0;36m0\u001b[0m\u001b[0;34m:\u001b[0m\u001b[0;34m\u001b[0m\u001b[0m\n",
      "\u001b[0;32m~/anaconda3/lib/python3.6/site-packages/pandas/core/series.py\u001b[0m in \u001b[0;36m_sanitize_index\u001b[0;34m(data, index, copy)\u001b[0m\n\u001b[1;32m   2877\u001b[0m \u001b[0;34m\u001b[0m\u001b[0m\n\u001b[1;32m   2878\u001b[0m     \u001b[0;32mif\u001b[0m \u001b[0mlen\u001b[0m\u001b[0;34m(\u001b[0m\u001b[0mdata\u001b[0m\u001b[0;34m)\u001b[0m \u001b[0;34m!=\u001b[0m \u001b[0mlen\u001b[0m\u001b[0;34m(\u001b[0m\u001b[0mindex\u001b[0m\u001b[0;34m)\u001b[0m\u001b[0;34m:\u001b[0m\u001b[0;34m\u001b[0m\u001b[0m\n\u001b[0;32m-> 2879\u001b[0;31m         \u001b[0;32mraise\u001b[0m \u001b[0mValueError\u001b[0m\u001b[0;34m(\u001b[0m\u001b[0;34m'Length of values does not match length of '\u001b[0m \u001b[0;34m'index'\u001b[0m\u001b[0;34m)\u001b[0m\u001b[0;34m\u001b[0m\u001b[0m\n\u001b[0m\u001b[1;32m   2880\u001b[0m \u001b[0;34m\u001b[0m\u001b[0m\n\u001b[1;32m   2881\u001b[0m     \u001b[0;32mif\u001b[0m \u001b[0misinstance\u001b[0m\u001b[0;34m(\u001b[0m\u001b[0mdata\u001b[0m\u001b[0;34m,\u001b[0m \u001b[0mPeriodIndex\u001b[0m\u001b[0;34m)\u001b[0m\u001b[0;34m:\u001b[0m\u001b[0;34m\u001b[0m\u001b[0m\n",
      "\u001b[0;31mValueError\u001b[0m: Length of values does not match length of index"
     ]
    }
   ],
   "source": [
    "#grab the topic_id of the majority topic for each document and store it in a list\n",
    "ls_topic_id = [np.argsort(processed_doctopic[comment_id])[::-1][0] for comment_id in range(len(corpus))]\n",
    "df_patent_desc['topic_id'] = ls_topic_id #add to the dataframe so we can compare with the job titles"
   ]
  },
  {
   "cell_type": "markdown",
   "metadata": {},
   "source": [
    "Now that each row is tagged with a topic ID. Let's see how well the topics explain the social services by looking at the first topic, and seeing how similar the social services within that topic are to each other."
   ]
  },
  {
   "cell_type": "code",
   "execution_count": null,
   "metadata": {
    "collapsed": true
   },
   "outputs": [],
   "source": [
    "topic_num = 0\n",
    "print(processed_keywords[topic_num])\n",
    "df_patent_desc[df_patent_desc.topic_id == topic_num].head(10)"
   ]
  },
  {
   "cell_type": "markdown",
   "metadata": {},
   "source": [
    "---\n",
    "\n",
    "### Exercise 5 - Interpreting a model's \"topics\"\n",
    "\n",
    "- Back to [Table of Contents](#Table-of-Contents)\n",
    "\n",
    "Examine the other topic IDs, and see if the \"topics\" we identified make sense as groupings of social service agencies."
   ]
  },
  {
   "cell_type": "code",
   "execution_count": null,
   "metadata": {
    "collapsed": true
   },
   "outputs": [],
   "source": [
    "topic_num = 3\n",
    "print(processed_keywords[topic_num])\n",
    "df_patent_desc[df_patent_desc.topic_id == topic_num].head(10)"
   ]
  },
  {
   "cell_type": "code",
   "execution_count": null,
   "metadata": {
    "collapsed": true
   },
   "outputs": [],
   "source": []
  },
  {
   "cell_type": "code",
   "execution_count": null,
   "metadata": {
    "collapsed": true
   },
   "outputs": [],
   "source": []
  },
  {
   "cell_type": "code",
   "execution_count": null,
   "metadata": {
    "collapsed": true
   },
   "outputs": [],
   "source": []
  },
  {
   "cell_type": "code",
   "execution_count": null,
   "metadata": {
    "collapsed": true
   },
   "outputs": [],
   "source": []
  },
  {
   "cell_type": "code",
   "execution_count": null,
   "metadata": {
    "collapsed": true
   },
   "outputs": [],
   "source": []
  },
  {
   "cell_type": "markdown",
   "metadata": {
    "collapsed": true
   },
   "source": [
    "# Further Resources\n",
    "\n",
    "- Back to [Table of Contents](#Table-of-Contents)"
   ]
  },
  {
   "cell_type": "markdown",
   "metadata": {},
   "source": [
    "A great resource for NLP in Python is \n",
    "[Natural Language Processing with Python](https://www.amazon.com/Natural-Language-Processing-Python-Analyzing/dp/0596516495)."
   ]
  },
  {
   "cell_type": "code",
   "execution_count": null,
   "metadata": {
    "collapsed": true
   },
   "outputs": [],
   "source": []
  },
  {
   "cell_type": "code",
   "execution_count": null,
   "metadata": {
    "collapsed": true
   },
   "outputs": [],
   "source": []
  },
  {
   "cell_type": "code",
   "execution_count": null,
   "metadata": {
    "collapsed": true
   },
   "outputs": [],
   "source": []
  },
  {
   "cell_type": "code",
   "execution_count": null,
   "metadata": {
    "collapsed": true
   },
   "outputs": [],
   "source": []
  },
  {
   "cell_type": "code",
   "execution_count": null,
   "metadata": {
    "collapsed": true
   },
   "outputs": [],
   "source": []
  },
  {
   "cell_type": "code",
   "execution_count": null,
   "metadata": {
    "collapsed": true
   },
   "outputs": [],
   "source": []
  },
  {
   "cell_type": "code",
   "execution_count": null,
   "metadata": {
    "collapsed": true
   },
   "outputs": [],
   "source": []
  },
  {
   "cell_type": "code",
   "execution_count": null,
   "metadata": {
    "collapsed": true
   },
   "outputs": [],
   "source": []
  },
  {
   "cell_type": "code",
   "execution_count": null,
   "metadata": {
    "collapsed": true
   },
   "outputs": [],
   "source": []
  },
  {
   "cell_type": "code",
   "execution_count": null,
   "metadata": {
    "collapsed": true
   },
   "outputs": [],
   "source": []
  },
  {
   "cell_type": "code",
   "execution_count": null,
   "metadata": {
    "collapsed": true
   },
   "outputs": [],
   "source": []
  },
  {
   "cell_type": "code",
   "execution_count": null,
   "metadata": {
    "collapsed": true
   },
   "outputs": [],
   "source": []
  },
  {
   "cell_type": "code",
   "execution_count": null,
   "metadata": {
    "collapsed": true
   },
   "outputs": [],
   "source": []
  },
  {
   "cell_type": "code",
   "execution_count": null,
   "metadata": {
    "collapsed": true
   },
   "outputs": [],
   "source": []
  },
  {
   "cell_type": "markdown",
   "metadata": {},
   "source": [
    "# Supervised Learning: Document Classification\n",
    "\n",
    "- Back to [Table of Contents](#Table-of-Contents)\n",
    "\n",
    "Previously, we used topic modeling to infer relationships between social service facilities within the data. That is an example of unsupervised learning: we were looking to uncover structure in the form of topics, or groups of agencies, but we did not necessarily know the ground truth of how many groups we should find or which agencies belonged in which group.  \n",
    "\n",
    "Now we turn our attention to supervised learning. In supervised learning, we have a *known* outcome or label (*Y*) that we want to produce given some data (*X*), and in general, we want to be able to produce this *Y* when we *don't* know it, or when we *only* have *X*. \n",
    "\n",
    "In order to produce labels we need to first have examples our algorithm can learn from, a \"training set.\" In the context of text analysis, developing a training set can be very expensive, as it can require a large amount of human labor or linguistic expertise. **Document classification** is an example of supervised learning in which want to characterize our documents based on their contents (*X*). A common example of document classification is spam e-mail detection. Another example of supervised learning in text analysis is *sentiment analysis*, where *X* is our documents and *Y* is the state of the author. This \"state\" is dependent on the question you're trying to answer, and can range from the author being happy or unhappy with a product to the author being politically conservative or liberal. Another example is *part-of-speech tagging* where *X* are individual words and *Y* is the part-of-speech. \n",
    "\n",
    "In this section, we'll train a classifier to classify social service agencies. Let's see if we can label a new website as belonging to facility type \"income\" or \"health.\""
   ]
  },
  {
   "cell_type": "markdown",
   "metadata": {},
   "source": [
    "## Supervised Learning - Prepare the Data\n",
    "\n",
    "- Back to [Table of Contents](#Table-of-Contents)"
   ]
  },
  {
   "cell_type": "code",
   "execution_count": 193,
   "metadata": {},
   "outputs": [
    {
     "ename": "AttributeError",
     "evalue": "'DataFrame' object has no attribute 'factype'",
     "output_type": "error",
     "traceback": [
      "\u001b[0;31m---------------------------------------------------------------------------\u001b[0m",
      "\u001b[0;31mAttributeError\u001b[0m                            Traceback (most recent call last)",
      "\u001b[0;32m<ipython-input-193-6528918bdfa7>\u001b[0m in \u001b[0;36m<module>\u001b[0;34m()\u001b[0m\n\u001b[1;32m      1\u001b[0m \u001b[0;31m# look at counts\u001b[0m\u001b[0;34m\u001b[0m\u001b[0;34m\u001b[0m\u001b[0m\n\u001b[0;32m----> 2\u001b[0;31m \u001b[0mdf_patent_desc\u001b[0m\u001b[0;34m.\u001b[0m\u001b[0mfactype\u001b[0m\u001b[0;34m.\u001b[0m\u001b[0mvalue_counts\u001b[0m\u001b[0;34m(\u001b[0m\u001b[0;34m)\u001b[0m\u001b[0;34m\u001b[0m\u001b[0m\n\u001b[0m",
      "\u001b[0;32m~/anaconda3/lib/python3.6/site-packages/pandas/core/generic.py\u001b[0m in \u001b[0;36m__getattr__\u001b[0;34m(self, name)\u001b[0m\n\u001b[1;32m   3079\u001b[0m             \u001b[0;32mif\u001b[0m \u001b[0mname\u001b[0m \u001b[0;32min\u001b[0m \u001b[0mself\u001b[0m\u001b[0;34m.\u001b[0m\u001b[0m_info_axis\u001b[0m\u001b[0;34m:\u001b[0m\u001b[0;34m\u001b[0m\u001b[0m\n\u001b[1;32m   3080\u001b[0m                 \u001b[0;32mreturn\u001b[0m \u001b[0mself\u001b[0m\u001b[0;34m[\u001b[0m\u001b[0mname\u001b[0m\u001b[0;34m]\u001b[0m\u001b[0;34m\u001b[0m\u001b[0m\n\u001b[0;32m-> 3081\u001b[0;31m             \u001b[0;32mreturn\u001b[0m \u001b[0mobject\u001b[0m\u001b[0;34m.\u001b[0m\u001b[0m__getattribute__\u001b[0m\u001b[0;34m(\u001b[0m\u001b[0mself\u001b[0m\u001b[0;34m,\u001b[0m \u001b[0mname\u001b[0m\u001b[0;34m)\u001b[0m\u001b[0;34m\u001b[0m\u001b[0m\n\u001b[0m\u001b[1;32m   3082\u001b[0m \u001b[0;34m\u001b[0m\u001b[0m\n\u001b[1;32m   3083\u001b[0m     \u001b[0;32mdef\u001b[0m \u001b[0m__setattr__\u001b[0m\u001b[0;34m(\u001b[0m\u001b[0mself\u001b[0m\u001b[0;34m,\u001b[0m \u001b[0mname\u001b[0m\u001b[0;34m,\u001b[0m \u001b[0mvalue\u001b[0m\u001b[0;34m)\u001b[0m\u001b[0;34m:\u001b[0m\u001b[0;34m\u001b[0m\u001b[0m\n",
      "\u001b[0;31mAttributeError\u001b[0m: 'DataFrame' object has no attribute 'factype'"
     ]
    }
   ],
   "source": [
    "# look at counts\n",
    "df_patent_desc.factype.value_counts()"
   ]
  },
  {
   "cell_type": "code",
   "execution_count": null,
   "metadata": {
    "collapsed": true
   },
   "outputs": [],
   "source": [
    "# make a mask column we can use to flag rows with facility type in our types of interest.\n",
    "mask = df_patent_desc.factype.isin(['income','health'])"
   ]
  },
  {
   "cell_type": "code",
   "execution_count": null,
   "metadata": {
    "collapsed": true
   },
   "outputs": [],
   "source": [
    "# use mask to subset our data.\n",
    "df_income_health = df_patent_desc[mask]"
   ]
  },
  {
   "cell_type": "markdown",
   "metadata": {},
   "source": [
    "Split into training and testing sets (20% held back for training):"
   ]
  },
  {
   "cell_type": "code",
   "execution_count": null,
   "metadata": {
    "collapsed": true
   },
   "outputs": [],
   "source": [
    "# split into train and test sets.\n",
    "df_train, df_test = train_test_split(df_income_health, test_size=0.20, random_state=17)"
   ]
  },
  {
   "cell_type": "markdown",
   "metadata": {},
   "source": [
    "Look at our training set:"
   ]
  },
  {
   "cell_type": "code",
   "execution_count": null,
   "metadata": {
    "collapsed": true
   },
   "outputs": [],
   "source": [
    "# look at our training set.\n",
    "df_train.head()"
   ]
  },
  {
   "cell_type": "code",
   "execution_count": null,
   "metadata": {
    "collapsed": true
   },
   "outputs": [],
   "source": [
    "# make sure we only have the facility types we expect.\n",
    "df_train['factype'].unique()"
   ]
  },
  {
   "cell_type": "code",
   "execution_count": null,
   "metadata": {
    "collapsed": true
   },
   "outputs": [],
   "source": [
    "# look at the counts for each value.\n",
    "Counter(df_train['factype'].values)"
   ]
  },
  {
   "cell_type": "markdown",
   "metadata": {},
   "source": [
    "Look at our testing set:"
   ]
  },
  {
   "cell_type": "code",
   "execution_count": null,
   "metadata": {
    "collapsed": true
   },
   "outputs": [],
   "source": [
    "# look at our testing set.\n",
    "df_test.head()"
   ]
  },
  {
   "cell_type": "code",
   "execution_count": null,
   "metadata": {
    "collapsed": true
   },
   "outputs": [],
   "source": [
    "# make sure we only have the facility types we expect.\n",
    "df_test['factype'].unique()"
   ]
  },
  {
   "cell_type": "code",
   "execution_count": null,
   "metadata": {
    "collapsed": true
   },
   "outputs": [],
   "source": [
    "# look at the counts for each value.\n",
    "Counter(df_test['factype'].values)"
   ]
  },
  {
   "cell_type": "markdown",
   "metadata": {},
   "source": [
    "## Prepare Data for Document Classification\n",
    "\n",
    "- Back to [Table of Contents](#Table-of-Contents)\n",
    "\n",
    "In order to feed out data into a classifier, we need to pull out the labels (*Y*) and a clean corpus of documents (*X*) for our training and testing sets. "
   ]
  },
  {
   "cell_type": "code",
   "execution_count": null,
   "metadata": {
    "collapsed": true
   },
   "outputs": [],
   "source": [
    "# prepare training data - get labels we'll train on.\n",
    "train_labels = df_train.factype.values\n",
    "\n",
    "# prepare training data - clean text.\n",
    "train_corpus = np.array( [re.sub(RE_PREPROCESS, ' ', text).lower() for text in df_train.textfromurl.values])\n",
    "\n",
    "# prepare testing data - get labels we'll train on.\n",
    "test_labels = df_test.factype.values\n",
    "\n",
    "# prepare testing data - clean text.\n",
    "test_corpus = np.array( [re.sub(RE_PREPROCESS, ' ', text).lower() for text in df_test.textfromurl.values])\n",
    "\n",
    "# make list of all labels across train and test (should just be 'income' and 'health')\n",
    "labels = np.append(train_labels, test_labels)"
   ]
  },
  {
   "cell_type": "markdown",
   "metadata": {},
   "source": [
    "Just as we had done in the unsupervised learning context, we have to transform our data. This time we have to transform our testing and training set into two different bags of words. The classifier will learn from the training set, and we will evaluate the classifier's performance on the testing set.\n",
    "\n",
    "First, we create a CountVectorizer that we'll use to convert our text documents to matrices of features based on words contained within our corpus."
   ]
  },
  {
   "cell_type": "code",
   "execution_count": null,
   "metadata": {
    "collapsed": true
   },
   "outputs": [],
   "source": [
    "#parameters for vectorizer \n",
    "ANALYZER = \"word\" #unit of features are single words rather then phrases of words \n",
    "STRIP_ACCENTS = 'unicode'\n",
    "TOKENIZER = None\n",
    "NGRAM_RANGE = (0,2) #Range for pharases of words\n",
    "MIN_DF = 0.01 # Exclude words that have a frequency less than the threshold\n",
    "MAX_DF = 0.8  # Exclude words that have a frequency greater then the threshold \n",
    "\n",
    "vectorizer = CountVectorizer( analyzer = ANALYZER,\n",
    "                              tokenizer = None, # alternatively tokenize_and_stem but it will be slower \n",
    "                              ngram_range = NGRAM_RANGE,\n",
    "                              stop_words = stopwords.words( 'english' ),\n",
    "                              strip_accents = STRIP_ACCENTS,\n",
    "                              min_df = MIN_DF,\n",
    "                              max_df = MAX_DF )"
   ]
  },
  {
   "cell_type": "markdown",
   "metadata": {},
   "source": [
    "Next, we create a TF-IDF transformer, and create our bags of words, then weight them using TF-IDF."
   ]
  },
  {
   "cell_type": "code",
   "execution_count": null,
   "metadata": {
    "collapsed": true
   },
   "outputs": [],
   "source": [
    "NORM = None          # turn on normalization flag\n",
    "SMOOTH_IDF = True    # prevents division by zero errors\n",
    "SUBLINEAR_IDF = True # replace TF with 1 + log(TF)\n",
    "USE_IDF = True       # flag to control whether to use TFIDF\n",
    "\n",
    "transformer = TfidfTransformer( norm = NORM,\n",
    "                                smooth_idf = SMOOTH_IDF,\n",
    "                                sublinear_tf = True )\n",
    "\n",
    "# timing code - start!\n",
    "start_time = time.time()\n",
    "\n",
    "# get the bag-of-words for train and test from the vectorizer and\n",
    "# then use TFIDF to limit the tokens found throughout the text \n",
    "train_bag_of_words = vectorizer.fit_transform( train_corpus ) #using all the data on for generating features!! Bad!\n",
    "test_bag_of_words = vectorizer.transform( test_corpus )\n",
    "\n",
    "# if we use IDF, compute it here.\n",
    "if USE_IDF:\n",
    "    train_tfidf = transformer.fit_transform(train_bag_of_words)\n",
    "    test_tfidf = transformer.transform(test_bag_of_words)\n",
    "\n",
    "# Get list of the feature names, for passing to our model.\n",
    "features = vectorizer.get_feature_names()\n",
    "\n",
    "# timing code - done!\n",
    "print('Time Elapsed: {0:.2f}s'.format( time.time() - start_time ) )"
   ]
  },
  {
   "cell_type": "markdown",
   "metadata": {},
   "source": [
    "We cannot pass the labels \"income\" or \"health\" directly to the classifier. Instead, we to encode them as 0s and 1s using the `labelencoder` part of `sklearn`. "
   ]
  },
  {
   "cell_type": "code",
   "execution_count": null,
   "metadata": {
    "collapsed": true
   },
   "outputs": [],
   "source": [
    "#relabel our labels as a 0 or 1\n",
    "le = preprocessing.LabelEncoder() \n",
    "le.fit(labels)\n",
    "labels_binary = le.transform(labels)"
   ]
  },
  {
   "cell_type": "code",
   "execution_count": null,
   "metadata": {
    "collapsed": true
   },
   "outputs": [],
   "source": [
    "list(zip(labels,labels_binary))"
   ]
  },
  {
   "cell_type": "markdown",
   "metadata": {},
   "source": [
    "We also need to create arrays of indices so we can access the training and testing sets accordingly."
   ]
  },
  {
   "cell_type": "code",
   "execution_count": null,
   "metadata": {
    "collapsed": true
   },
   "outputs": [],
   "source": [
    "train_size = df_train.shape[ 0 ]\n",
    "train_set_idx = np.arange( 0, train_size )\n",
    "test_set_idx = np.arange( train_size, len( labels ) )\n",
    "train_labels_binary = labels_binary[ train_set_idx ]\n",
    "test_labels_binary = labels_binary[ test_set_idx ]"
   ]
  },
  {
   "cell_type": "markdown",
   "metadata": {},
   "source": [
    "## Model Training - Train Document Classification Model\n",
    "\n",
    "- Back to [Table of Contents](#Table-of-Contents)"
   ]
  },
  {
   "cell_type": "markdown",
   "metadata": {},
   "source": [
    "The classifier we are using in the example is LogisticRegression. As we saw in the Machine Learning tutorial, first we decide on a classifier, then we fit the classifier to the data to create a model. We can then test our model on the test set by passing the features (*X*) from our test set to get predicted labels. The model will output the probability of each document being classified as income or health. "
   ]
  },
  {
   "cell_type": "code",
   "execution_count": null,
   "metadata": {
    "collapsed": true
   },
   "outputs": [],
   "source": [
    "# create our LogisticRegression classifier.\n",
    "clf = LogisticRegression(penalty='l1')\n",
    "\n",
    "# train the classifer to create our model.\n",
    "mdl = clf.fit( train_tfidf, labels_binary[ train_set_idx ] )\n",
    "\n",
    "# create scores for each of the documents predicting whether each refers to \n",
    "#     an income or health agency\n",
    "y_score = mdl.predict_proba( test_tfidf )"
   ]
  },
  {
   "cell_type": "markdown",
   "metadata": {},
   "source": [
    "## Model Evaluation - Precision and Recall\n",
    "\n",
    "- Back to [Table of Contents](#Table-of-Contents)\n",
    "\n",
    "Now that we have calculated a score for each of our facility types of interest, we look at how well our model performed by outputting precision and recall curves at different cutoffs.\n",
    "\n",
    "First, we define the function that will do this work:"
   ]
  },
  {
   "cell_type": "code",
   "execution_count": null,
   "metadata": {
    "collapsed": true
   },
   "outputs": [],
   "source": [
    "def plot_precision_recall_n( y_true, y_prob, model_name ):\n",
    "\n",
    "    \"\"\"\n",
    "    y_true: ls\n",
    "        ls of ground truth labels\n",
    "    y_prob: ls\n",
    "        ls of predic proba from model\n",
    "    model_name: str\n",
    "        str of model name (e.g, LR_123)\n",
    "    \"\"\"\n",
    "    \n",
    "    from sklearn.metrics import precision_recall_curve\n",
    "    \n",
    "    y_score = y_prob\n",
    "    precision_curve, recall_curve, pr_thresholds = precision_recall_curve(y_true, y_score)\n",
    "    precision_curve = precision_curve[:-1]\n",
    "    recall_curve = recall_curve[:-1]\n",
    "    pct_above_per_thresh = []\n",
    "    number_scored = len(y_score)\n",
    "    for value in pr_thresholds:\n",
    "        num_above_thresh = len(y_score[y_score>=value])\n",
    "        pct_above_thresh = num_above_thresh / float(number_scored)\n",
    "        pct_above_per_thresh.append(pct_above_thresh)\n",
    "    pct_above_per_thresh = np.array(pct_above_per_thresh)\n",
    "    plt.clf()\n",
    "    fig, ax1 = plt.subplots()\n",
    "    ax1.plot(pct_above_per_thresh, precision_curve, 'b')\n",
    "    ax1.set_xlabel('percent of population')\n",
    "    ax1.set_ylabel('precision', color='b')\n",
    "    ax1.set_ylim(0,1.05)\n",
    "    ax2 = ax1.twinx()\n",
    "    ax2.plot(pct_above_per_thresh, recall_curve, 'r')\n",
    "    ax2.set_ylabel('recall', color='r')\n",
    "    ax2.set_ylim(0,1.05)\n",
    "    \n",
    "    name = model_name\n",
    "    plt.title(name)\n",
    "    plt.show()"
   ]
  },
  {
   "cell_type": "markdown",
   "metadata": {},
   "source": [
    "Then we output the graphs for our model:"
   ]
  },
  {
   "cell_type": "code",
   "execution_count": null,
   "metadata": {
    "collapsed": true,
    "scrolled": false
   },
   "outputs": [],
   "source": [
    " plot_precision_recall_n( labels_binary[ test_set_idx ], y_score[:,1], 'LR' )"
   ]
  },
  {
   "cell_type": "markdown",
   "metadata": {},
   "source": [
    "If we examine our precision-recall curve we can see that our precision is 1 up to 25 percent of the population. We can use a \"precision at *k*\" curve to see what percent of the corpus can be tagged by the classifier, and which should undergo a manual clerical review. Based on this curve, we might say that we can use our classifier to tag the 25% of the documents that have the highest scores as 1, and manually review the rest. \n",
    "\n",
    "Alternatively, we can try to maximize the entire precision-recall space. In this case we need a different metric - \"Area Under Curve\" (AUC). "
   ]
  },
  {
   "cell_type": "code",
   "execution_count": null,
   "metadata": {
    "collapsed": true
   },
   "outputs": [],
   "source": [
    "def plot_precision_recall(y_true,y_score):\n",
    "    \"\"\"\n",
    "    Plot a precision recall curve\n",
    "    \n",
    "    Parameters\n",
    "    ----------\n",
    "    y_true: ls\n",
    "        ground truth labels\n",
    "    y_score: ls\n",
    "        score output from model\n",
    "    \"\"\"\n",
    "    precision_curve, recall_curve, pr_thresholds = precision_recall_curve(y_true,y_score[:,1])\n",
    "    plt.plot(recall_curve, precision_curve)\n",
    "    plt.xlabel('Recall')\n",
    "    plt.ylabel('Precision')\n",
    "    auc_val = auc(recall_curve,precision_curve)\n",
    "    print('AUC-PR: {0:1f}'.format(auc_val))\n",
    "    plt.show()\n",
    "    plt.clf()"
   ]
  },
  {
   "cell_type": "code",
   "execution_count": null,
   "metadata": {
    "collapsed": true
   },
   "outputs": [],
   "source": [
    "plot_precision_recall(labels_binary[test_set_idx],y_score)"
   ]
  },
  {
   "cell_type": "markdown",
   "metadata": {},
   "source": [
    " The AUC shows how accurate our scores are under different cutoff thresholds. The model will output a score between 0 and 1. We specify a  range of cutoff values and label all of the examples as 0 or 1 based on whether they are above or below each cutoff value. The closer our scores are to the true values, the more resilient they are to different cutoffs. For instance, if our scores were perfect, our AUC would be 1. "
   ]
  },
  {
   "cell_type": "markdown",
   "metadata": {},
   "source": [
    "## Model Evaluation - Feature Importances\n",
    "\n",
    "- Back to [Table of Contents](#Table-of-Contents)\n",
    "\n",
    "Next, we look at the importance of different features (words) in our model.\n",
    "\n",
    "The function that will calculate these:"
   ]
  },
  {
   "cell_type": "code",
   "execution_count": null,
   "metadata": {
    "collapsed": true
   },
   "outputs": [],
   "source": [
    "def display_feature_importances( coef, features, labels, num_features = 10 ):\n",
    "\n",
    "    \"\"\"\n",
    "    output feature importances\n",
    "    \n",
    "    Parameters\n",
    "    ----------\n",
    "    coef: numpy\n",
    "        feature importances\n",
    "    features: ls \n",
    "        feature names\n",
    "    labels: ls\n",
    "        labels for the classifier\n",
    "    num_features: int\n",
    "        number of features to output (default 10)\n",
    "    \n",
    "    Example\n",
    "    --------\n",
    "    \n",
    "    \n",
    "    \"\"\"\n",
    "    coef = mdl.coef_.ravel()\n",
    "\n",
    "    dict_feature_importances = dict( zip(features, coef) )\n",
    "    orddict_feature_importances = OrderedDict( \n",
    "                                    sorted(dict_feature_importances.items(), key=lambda x: x[1]) )\n",
    "\n",
    "    ls_sorted_features  = list(orddict_feature_importances.keys())\n",
    "\n",
    "    label0_features = ls_sorted_features[:num_features] \n",
    "    label1_features = ls_sorted_features[-num_features:] \n",
    "\n",
    "    print(labels[0],label0_features)\n",
    "    print(labels[1], label1_features)"
   ]
  },
  {
   "cell_type": "code",
   "execution_count": null,
   "metadata": {
    "collapsed": true
   },
   "outputs": [],
   "source": [
    "display_feature_importances(mdl.coef_.ravel(), features, ['health','income'])"
   ]
  },
  {
   "cell_type": "markdown",
   "metadata": {},
   "source": [
    "The feature importances give us the words which are the most relevant for distinguishing the type of social service agency (between income and health). Some of these make sense (\"city church\" seems more likely to be health than income), but some don't make as much sense, or seem to be artifacts from the website that we should remove (\"housing humancarelogo\"). "
   ]
  },
  {
   "cell_type": "markdown",
   "metadata": {},
   "source": [
    "--- \n",
    "\n",
    "### Exercise 6 - interpreting feature importances\n",
    "\n",
    "- Back to [Table of Contents](#Table-of-Contents)\n",
    "\n",
    "Display the top 25 feature importances to get an intution of which words are the most and least important. "
   ]
  },
  {
   "cell_type": "markdown",
   "metadata": {},
   "source": [
    "We need to know how to pass into the function we want the top 25 feature importances. We can do this by consulting the docstring of the function. "
   ]
  },
  {
   "cell_type": "markdown",
   "metadata": {},
   "source": [
    "From this docstring we can see that `num_features` is a keyword argument that is set to 10 by default. We can pass `num_features=25` into the keyword argument instead to get the top 25 feature importances. "
   ]
  },
  {
   "cell_type": "code",
   "execution_count": null,
   "metadata": {
    "collapsed": true
   },
   "outputs": [],
   "source": [
    "display_feature_importances(mdl.coef_.ravel(), \n",
    "                            features,\n",
    "                            ['health','income'],\n",
    "                            num_features=25)"
   ]
  },
  {
   "cell_type": "markdown",
   "metadata": {},
   "source": [
    "---"
   ]
  },
  {
   "cell_type": "markdown",
   "metadata": {},
   "source": [
    "## Model Evaluation - Cross-validation\n",
    "\n",
    "- Back to [Table of Contents](#Table-of-Contents)\n",
    "\n",
    "Recall from the machine learning tutorial that we are seeking the find the most general pattern in the data in order to have to most general model that will be successful at classifying new unseen data. Our previous strategy above was the *Out-of-sample and holdout set*. With this strategy we try to find a general pattern by randomly dividing our data into a test and training set based on some percentage split (e.g., 50-50 or 80-20). We train on the test set and evaluate on the test set, where we pretend that we don't have the labels for the test set. A significant drawback with this approach is that we may be lucky or unlucky with our random split, and so our estimate of how we'd perform on truly new data is overly optimistic or overly pessimistic. A possible solution is to create many random splits into training and testing sets and evaluate each split to estimate the performance of a given model. \n",
    "\n",
    "A more sophisticated holdout training and testing procedure is *cross-validation*. In cross-validation we split our data into *k* folds or partitions, where *k* is usually 5 or 10. We then iterate k times. In each iteration, one of the folds is used as a test set, and the rest of the folds are combined to form the training set. We can then evaluate the performance at each iteration to estimate the performance of a given method. An advantage of using cross-validation is all examples of data are used in the training set at least once. \n",
    "\n",
    "Define function to create test and train bags of words:"
   ]
  },
  {
   "cell_type": "code",
   "execution_count": null,
   "metadata": {
    "collapsed": true
   },
   "outputs": [],
   "source": [
    "def create_test_train_bag_of_words(train_corpus, test_corpus):\n",
    "\n",
    "    \"\"\"\n",
    "    Create test and training set bag of words\n",
    "    \n",
    "    \n",
    "    Parameters\n",
    "    ----------\n",
    "    train_corpus: ls\n",
    "        ls of raw text for text corpus.\n",
    "    test_corpus: ls\n",
    "        ls of raw text for train corpus. \n",
    "        \n",
    "    Returns\n",
    "    -------\n",
    "    (train_bag_of_words,test_bag_of_words): scipy sparse matrix\n",
    "        bag-of-words representation of train and test corpus\n",
    "    features: ls\n",
    "        ls of words used as features. \n",
    "    \"\"\"\n",
    "\n",
    "    #parameters for vectorizer \n",
    "    ANALYZER = \"word\" #unit of features are single words rather then phrases of words \n",
    "    STRIP_ACCENTS = 'unicode'\n",
    "    TOKENIZER = None\n",
    "    NGRAM_RANGE = (0,2) #Range for pharases of words\n",
    "    MIN_DF = 0.01 # Exclude words that have a frequency less than the threshold\n",
    "    MAX_DF = 0.8  # Exclude words that have a frequency greater then the threshold \n",
    "\n",
    "    vectorizer = CountVectorizer(analyzer=ANALYZER,\n",
    "                                tokenizer=None, # alternatively tokenize_and_stem but it will be slower \n",
    "                                ngram_range=NGRAM_RANGE,\n",
    "                                stop_words = stopwords.words('english'),\n",
    "                                strip_accents=STRIP_ACCENTS,\n",
    "                                min_df = MIN_DF,\n",
    "                                max_df = MAX_DF)\n",
    "    \n",
    "    NORM = None #turn on normalization flag\n",
    "    SMOOTH_IDF = True #prevents division by zero errors\n",
    "    SUBLINEAR_IDF = True #replace TF with 1 + log(TF)\n",
    "    USE_IDF = True #flag to control whether to use TFIDF\n",
    "\n",
    "    transformer = TfidfTransformer(norm = NORM,smooth_idf = SMOOTH_IDF,sublinear_tf = True)\n",
    "\n",
    "    #get the bag-of-words from the vectorizer and\n",
    "    #then use TFIDF to limit the tokens found throughout the text \n",
    "    train_bag_of_words = vectorizer.fit_transform( train_corpus ) \n",
    "    test_bag_of_words = vectorizer.transform( test_corpus )\n",
    "    if USE_IDF:\n",
    "        train_tfidf = transformer.fit_transform(train_bag_of_words)\n",
    "        test_tfidf = transformer.transform(test_bag_of_words)\n",
    "    features = vectorizer.get_feature_names()\n",
    "\n",
    "    \n",
    "    return train_tfidf, test_tfidf, features"
   ]
  },
  {
   "cell_type": "markdown",
   "metadata": {},
   "source": [
    "And now, use scikit-learn's StratifiedKFold object to generate our folds (we'll do 3 here as an example), and then train and validate across all combinations."
   ]
  },
  {
   "cell_type": "code",
   "execution_count": null,
   "metadata": {
    "collapsed": true
   },
   "outputs": [],
   "source": [
    "from sklearn.cross_validation import StratifiedKFold\n",
    "\n",
    "# create folds\n",
    "cv = StratifiedKFold( train_labels_binary, n_folds = 3 )\n",
    "\n",
    "# get our labels\n",
    "train_labels_binary = le.transform(train_labels)\n",
    "\n",
    "# for each fold, get rows specified as train and test, then\n",
    "#     train and test our model with it.\n",
    "for i, ( train, test ) in enumerate(cv):\n",
    "    \n",
    "    # break out train and test data.\n",
    "    cv_train = train_corpus[train]\n",
    "    cv_test = train_corpus[test]\n",
    "    \n",
    "    # create bags of words and get feature names\n",
    "    bag_of_words_train, bag_of_words_test, feature_names = create_test_train_bag_of_words(cv_train, \n",
    "                                                                                          cv_test)\n",
    "    # fit our model and then use it to predict values in test set.\n",
    "    probas_ = clf.fit(bag_of_words_train, \n",
    "                      train_labels_binary[train]).predict_proba(bag_of_words_test)\n",
    "    cv_test_labels = train_labels_binary[test]\n",
    "    \n",
    "    # draw precision and recall curve\n",
    "    precision_curve, recall_curve, pr_thresholds = precision_recall_curve(cv_test_labels, probas_[:,1] )\n",
    "\n",
    "    # calculate and plot AUC\n",
    "    auc_val = auc( recall_curve,precision_curve )\n",
    "    plt.plot( recall_curve, precision_curve, label = 'AUC-PR {0} {1:.2f}'.format( i, auc_val ) )\n",
    "\n",
    "#-- END loop over folds --#\n",
    "                                                                          \n",
    "# and, plot the collected graphs.\n",
    "plt.ylim( 0, 1.05 )    \n",
    "plt.xlabel( 'Recall' )\n",
    "plt.ylabel( 'Precision' )\n",
    "plt.legend( loc = \"lower left\", fontsize = 'x-small' )"
   ]
  },
  {
   "cell_type": "markdown",
   "metadata": {},
   "source": [
    "In this case we did 3-fold cross-validation and plotted precision-recall curves for each iteration. You can see that there is a marked difference between the iterations. We can then average the AUC-PR of each iteration to estimate the performance of our method. "
   ]
  },
  {
   "cell_type": "markdown",
   "metadata": {},
   "source": [
    "---\n",
    "### Exercise 7 - Try a 5-fold cross-validation\n",
    "\n",
    "- Back to [Table of Contents](#Table-of-Contents)\n",
    "\n",
    "Try 5-fold cross-validation. "
   ]
  },
  {
   "cell_type": "code",
   "execution_count": null,
   "metadata": {
    "collapsed": true
   },
   "outputs": [],
   "source": [
    "from sklearn.cross_validation import StratifiedKFold\n",
    "cv = StratifiedKFold(train_labels_binary, n_folds=5)\n",
    "train_labels_binary = le.transform(train_labels)\n",
    "for i, (train,test) in enumerate(cv):\n",
    "    cv_train = train_corpus[train]\n",
    "    cv_test = train_corpus[test]\n",
    "    bag_of_words_train, bag_of_words_test, feature_names = create_test_train_bag_of_words(cv_train, \n",
    "                                                                                          cv_test)\n",
    "    \n",
    "    probas_ = clf.fit(bag_of_words_train, \n",
    "                      train_labels_binary[train]).predict_proba(bag_of_words_test)\n",
    "    cv_test_labels = train_labels_binary[test]\n",
    "    \n",
    "    precision_curve, recall_curve, pr_thresholds = precision_recall_curve(cv_test_labels,\n",
    "                                                                          probas_[:,1])\n",
    "    auc_val = auc(recall_curve,precision_curve)\n",
    "    plt.plot(recall_curve, precision_curve, label='AUC-PR {0} {1:.2f}'.format(i,auc_val))\n",
    "    \n",
    "plt.ylim(0,1.05)    \n",
    "plt.xlabel('Recall')\n",
    "plt.ylabel('Precision')\n",
    "plt.legend(loc=\"lower left\", fontsize='x-small')"
   ]
  },
  {
   "cell_type": "markdown",
   "metadata": {},
   "source": [
    "---"
   ]
  },
  {
   "cell_type": "markdown",
   "metadata": {
    "collapsed": true
   },
   "source": [
    "## Model Output - Examples of Document Classification\n",
    "\n",
    "- Back to [Table of Contents](#Table-of-Contents)\n",
    "\n",
    "Look at our data:"
   ]
  },
  {
   "cell_type": "code",
   "execution_count": null,
   "metadata": {
    "collapsed": true
   },
   "outputs": [],
   "source": [
    "df_test"
   ]
  },
  {
   "cell_type": "markdown",
   "metadata": {},
   "source": [
    "And, look at the text the model is most certain of being categorized as each facility type:"
   ]
  },
  {
   "cell_type": "code",
   "execution_count": null,
   "metadata": {
    "collapsed": true,
    "scrolled": false
   },
   "outputs": [],
   "source": [
    "num_comments = 2\n",
    "label0_comment_idx = y_score[:,1].argsort()[:num_comments] \n",
    "label1_comment_idx = y_score[:,1].argsort()[-num_comments:]\n",
    "test_set_labels = labels[test_set_idx]\n",
    "#convert back to the indices of the original dataset\n",
    "top_comments_testing_set_idx = np.concatenate([label0_comment_idx, \n",
    "                                               label1_comment_idx])\n",
    "\n",
    "\n",
    "#these are the 5 comments the model is most sure of \n",
    "for i in top_comments_testing_set_idx:\n",
    "    print(\n",
    "        u\"\"\"{}:{}\\n---\\n{}\\n===\"\"\".format(test_set_labels[i],\n",
    "                                          y_score[i,1],\n",
    "                                          test_corpus[i]))"
   ]
  },
  {
   "cell_type": "markdown",
   "metadata": {},
   "source": [
    "These are the top 2 examples that the model is the most sure of for each label. We can see our important feature words in the descriptions, which gives a hint of how the model made these classifications. "
   ]
  }
 ],
 "metadata": {
  "kernelspec": {
   "display_name": "Python 3",
   "language": "python",
   "name": "python3"
  },
  "language_info": {
   "codemirror_mode": {
    "name": "ipython",
    "version": 3
   },
   "file_extension": ".py",
   "mimetype": "text/x-python",
   "name": "python",
   "nbconvert_exporter": "python",
   "pygments_lexer": "ipython3",
   "version": "3.6.2"
  }
 },
 "nbformat": 4,
 "nbformat_minor": 1
}
