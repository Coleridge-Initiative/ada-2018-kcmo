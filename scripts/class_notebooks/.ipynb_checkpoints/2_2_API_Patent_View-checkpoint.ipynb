{
 "cells": [
  {
   "cell_type": "markdown",
   "metadata": {},
   "source": [
    "# Module 3 - Web APIs\n",
    "---"
   ]
  },
  {
   "cell_type": "markdown",
   "metadata": {},
   "source": [
    "## Introduction\n",
    "\n",
    "- Back to [Table of Contents](#Table-of-Contents)\n",
    "\n",
    "In this module, we introduce two general ways that one can retrieve data from data sources on the Internet: APIs and web scraping. We've already covered web scraping, and given the messiness of that subject you may find yourself really appreciating the relative simplicity of using APIs - once you grasp the concepts.\n",
    "\n",
    "API stands for \"Application Programming Interface\". An API is an agreed upon way for one computer program to interact with another computer program.  There are many different kinds of APIs.  Some facilitate interaction between computers over the Internet, some do not. In fact, the Python module SQL Alchemy that we used yesterday is a type of API for talking to databases - you'll see more on APIs for databases with SQL Alchemy later in this course.\n",
    "\n",
    "For this session, we focus on web APIs over HTTP that let a user query and retrieve data over the Internet.  This type of API documents an agreed-upon structure and content of requests and responses a program can use to interact with a system.  As long as your code adheres to a system's API, it should be able to reliabily request and receive data from the system.\n",
    "\n",
    "Below, we show how to make network API requests using HTTP(S)."
   ]
  },
  {
   "cell_type": "markdown",
   "metadata": {},
   "source": [
    "## Learning Objectives\n",
    "\n",
    "- Back to [Table of Contents](#Table-of-Contents)\n",
    "\n",
    "** Learning objectives:**\n",
    "\n",
    "- **Become familiar with different types of APIs.** Includes GET- and POST- based HTTP APIs, different formats of request bodies for POST-based APIs (form inputs, arbitrary JSON and XML, and then formalized dialects of each like SOAP), and how to learn a given API.\n",
    "- **Learn the tools used to interact with network-based APIs.** Understand the tools for talking directly with APIs over HTTP connection, introduce libraries that abstract the details of the API and present a simplified programmatic interface, and then understand how to choose a tool."
   ]
  },
  {
   "cell_type": "markdown",
   "metadata": {},
   "source": [
    "# Table of Contents\n",
    "- [Introduction](#Introduction)\n",
    "\n",
    "    - [Learning Objectives](#Learning-Objectives)\n",
    "    - [Topics](#Topics)\n",
    "\n",
    "- [Setup - Load Python packages](#Setup---Load-Python-packages)\n",
    "- [Using APIs](#Using-APIs)\n",
    "    * [RESTful APIs](#RESTful-APIs)\n",
    "    * [OTP description](#OpenTripPlanner)\n",
    "    * [Index API](#Index-API)\n",
    "    * [JSON](#JSON)\n",
    "    * [API Documentation](#API-Documentation)\n",
    "    * [Python Dictionary](#Python-Dictionary)\n",
    "    * [Routing API](#Routing-API)\n",
    "        * [Scraping Useful Chicago Data](#Scraping-Useful-Chicago-Data)\n",
    "        * [Geocoding](#Geocoding)\n",
    "        * [Planner Resource Syntax](#Planner-Resource-Syntax)\n",
    "        * [Incorporating Databases](#Incorporating-Databases)\n",
    "    * [Isochrone API](#Isochrone-API)"
   ]
  },
  {
   "cell_type": "markdown",
   "metadata": {},
   "source": [
    "## Topics\n",
    "\n",
    "- Back to [Table of Contents](#Table-of-Contents)\n",
    "\n",
    "Outline of topics covered in this notebook:\n",
    "\n",
    "- Making raw HTTP API requests\n",
    "- Using pre-packaged API client libraries\n",
    "- Practical considerations - Knowing API rules and coding to follow them, and performance\n",
    "- Example: OpenTripPlanner"
   ]
  },
  {
   "cell_type": "markdown",
   "metadata": {},
   "source": [
    "# Setup - Load Python packages\n",
    "\n",
    "- back to [Table of Contents](#Table-of-Contents)"
   ]
  },
  {
   "cell_type": "code",
   "execution_count": 160,
   "metadata": {
    "collapsed": true
   },
   "outputs": [],
   "source": [
    "## import Python packages ##\n",
    "import time # to convert time as needed and report how long some functions take\n",
    "\n",
    "# interacting with websites and web-APIs\n",
    "import requests # easy way to interact with web sites and services\n",
    "import json # read/write JavaScript Object Notation (JSON)\n",
    "from bs4 import BeautifulSoup\n",
    "\n",
    "# data manipulation\n",
    "import pandas as pd # easy data manipulation\n",
    "from pandas import DataFrame\n",
    "import numpy as np\n",
    "import math\n",
    "# import geopandas as gpd # geographic data manipulation\n",
    "# from geopandas.tools import sjoin, overlay # spatial join and overlay functions\n",
    "# from shapely.geometry import Point, LineString # to create lines from a list of points\n",
    "\n",
    "# visualization\n",
    "import matplotlib as mplib\n",
    "import matplotlib.pyplot as plt # visualization package\n",
    "\n",
    "# so images get plotted in the notebook\n",
    "%matplotlib inline"
   ]
  },
  {
   "cell_type": "code",
   "execution_count": 3,
   "metadata": {},
   "outputs": [
    {
     "name": "stdout",
     "output_type": "stream",
     "text": [
      "Package versions\n",
      "requests: 2.18.4\n",
      "json: 2.0.9\n",
      "pandas: 0.20.3\n",
      "matplotlib: 2.0.2\n"
     ]
    }
   ],
   "source": [
    "print(\"Package versions\")\n",
    "print(\"requests: {}\".format(requests.__version__))\n",
    "print(\"json: {}\".format(json.__version__))\n",
    "print(\"pandas: {}\".format(pd.__version__))\n",
    "print(\"matplotlib: {}\".format(mplib.__version__))"
   ]
  },
  {
   "cell_type": "markdown",
   "metadata": {},
   "source": [
    "# Using APIs\n",
    "\n",
    "- Back to the [Table of Contents](#Table-of-Contents)\n",
    "\n",
    "## API overview\n",
    "+ In general: APIs ([Application Programming Interfaces](https://en.wikipedia.org/wiki/Application_programming_interface)) are \"set[s] of subroutine definitions, protocols, and tools for building software and applications. A good API makes it easier to develop a program by providing all the building blocks, which are then put together by the programmer.\"\n",
    "+ Here we're looking at a **web-API**, a specific type of API which makes it easier to interact with some aspect of a website. In this course, we'll be using APIs to gether data in an automated way - like grabbing a bunch of prior tweets from Twitter. More generally, APIs can also be used to interact with websites in any way the API is designed to. For instance, you can post and delete tweets with Twitter's API, too.\n",
    "\n",
    "We're going to start getting our hands dirty with the various APIs of the OpenTrip Planner (OTP) software.\n",
    "\n",
    "## RESTful APIs\n",
    "\n",
    "The OTP APIs are what is called \"[RESTful](https://en.wikipedia.org/wiki/Representational_state_transfer)\" web services. REST stands for REpresentational State Transfer, but don't worry about the acronym so much as the idea. RESTful services adhere to a [series of requirements](https://www.restapitutorial/whatisrest.html) that enable them to be consistent, scalable, reliable, and relatively simple. RESTful APIs allow you to access a pre-defined set of operations through HTTP(S) requests. REST is fantastic because, in part, if you can generate the right URL, you'll always get the right response (this was not always the case with SOAP - the predecessor to REST).\n",
    "\n",
    "To use a RESTful API, we'll need to understand (1) how to properly format the request and (2) how to manage and make use of the response from the API. Below we will walk through these concepts while using some of OTP's web services.\n",
    "\n",
    "## PatentsView\n",
    "[PatentsView](http://http://www.patentsview.org/api/doc.html) is an a USPTO documnetation service that offers logitudinal data and metadata on patents, inventors, companies, and geographic locations. The API is organized around 7 endpoints. Here we'll explore:\n",
    "1. [Patents Endpoint](#Patents-Endpoint) - provides information about the different patents including application date, inventor, assignee;\n",
    "1. [Inventor Endpoint](#Inventors-Endpoint) - provides information about the different inventor including number of patents, location(s), co-authors;\n",
    "1. [Assignee Endpoint](#Assignee-Endpoint) - provides information about the different assignees including number of patents, location(s)."
   ]
  },
  {
   "cell_type": "code",
   "execution_count": 96,
   "metadata": {},
   "outputs": [
    {
     "name": "stdout",
     "output_type": "stream",
     "text": [
      "200\n"
     ]
    }
   ],
   "source": [
    "# base URL where OTP is installed - ennd point \"routers/\" simply lists information about the router\n",
    "base_url = \"http://www.patentsview.org/api/\"\n",
    "\n",
    "# Check connection (should be 200):\n",
    "response = requests.get(base_url)\n",
    "print(response.status_code)"
   ]
  },
  {
   "cell_type": "markdown",
   "metadata": {},
   "source": [
    "### Patents Endpoint\n",
    "\n",
    "- Back to the [Table of Contents](#Table-of-Contents)\n",
    "\n",
    "The Patents Endpoint of the PatentsView API provides access to general information about the different patents in the database. A full list of the fields and options is provided [here](http://www.patentsview.org/api/patent.html).\n",
    "\n",
    "Below, we add the `patents` endpoint to our base URL in order to explore the Patents API. We can then search for patents matching a query (`q`), return given fields (`f`), sorted by a sort-field (`s`), and using provided options (`o`).\n",
    "\n",
    "The combination of the endpoint, query, fields, sort, and options will return the requested patent information."
   ]
  },
  {
   "cell_type": "code",
   "execution_count": 102,
   "metadata": {
    "collapsed": true
   },
   "outputs": [],
   "source": [
    "# Define the Endpoint as Patents:\n",
    "endpoint = 'patents/'"
   ]
  },
  {
   "cell_type": "code",
   "execution_count": 106,
   "metadata": {},
   "outputs": [
    {
     "name": "stdout",
     "output_type": "stream",
     "text": [
      "{\"patents\":[{\"patent_title\":\"Nose cover\",\"inventors\":[{\"inventor_first_name\":\"Robert Gregory\",\"inventor_last_name\":\"Beliveau\",\"inventor_key_id\":\"8781157\"}]},{\"patent_title\":\"Video image display device and video image display method\",\"inventors\":[{\"inventor_first_name\":\"Tatsuhiko\",\"inventor_last_name\":\"Nobori\",\"inventor_key_id\":\"9057939\"}]}],\"count\":2,\"total_patent_count\":2}\n"
     ]
    }
   ],
   "source": [
    "# Let's search for patents 7861317 and 7965342 return inventor name:\n",
    "# Query:\n",
    "query = 'query?q={\"_or\":[{\"patent_number\":\"7861317\"},{\"patent_number\":\"7965342\"}]}'\n",
    "# Fields:\n",
    "fields = '&f=[\"inventor_first_name\",\"inventor_last_name\", \"patent_title\"]'\n",
    "# Sort:\n",
    "sort = ''\n",
    "# Options:\n",
    "options = ''\n",
    "\n",
    "url = base_url + endpoint + query + fields + sort + options\n",
    "\n",
    "# get query response from API\n",
    "response = requests.get(url)\n",
    "print(response.text)"
   ]
  },
  {
   "cell_type": "markdown",
   "metadata": {},
   "source": [
    "## JSON\n",
    "\n",
    "- Back to the [Table of Contents](#Table-of-Contents)\n",
    "\n",
    "[JSON](www.json.org) is a common non-tabular data format often used by services and software on the internet. We'll introduce JSON slowly, but it's helpful to know that it is oriented around the idea of `key-value` pairs. The `keys` refer to information about the data while the `values` is the data itself. For instance, if you were to translate a tabular dataset into JSON, the column names (and possibly row names/numbers) would become `keys`, while the data in the cells would become `values`. Our JSON response is a `dict` (dictionary), a Python object that we will describe below."
   ]
  },
  {
   "cell_type": "code",
   "execution_count": 107,
   "metadata": {},
   "outputs": [
    {
     "name": "stdout",
     "output_type": "stream",
     "text": [
      "<class 'dict'>\n"
     ]
    },
    {
     "data": {
      "text/plain": [
       "{'count': 2,\n",
       " 'patents': [{'inventors': [{'inventor_first_name': 'Robert Gregory',\n",
       "     'inventor_key_id': '8781157',\n",
       "     'inventor_last_name': 'Beliveau'}],\n",
       "   'patent_title': 'Nose cover'},\n",
       "  {'inventors': [{'inventor_first_name': 'Tatsuhiko',\n",
       "     'inventor_key_id': '9057939',\n",
       "     'inventor_last_name': 'Nobori'}],\n",
       "   'patent_title': 'Video image display device and video image display method'}],\n",
       " 'total_patent_count': 2}"
      ]
     },
     "execution_count": 107,
     "metadata": {},
     "output_type": "execute_result"
    }
   ],
   "source": [
    "# Convert text to a Python object using the 'json' package\n",
    "response = json.loads(response.text)\n",
    "\n",
    "# And now we have a Python list:\n",
    "print(type(response))\n",
    "response"
   ]
  },
  {
   "cell_type": "markdown",
   "metadata": {},
   "source": [
    "## Python Dictionary\n",
    "\n",
    "- Back to the [Table of Contents](#Table-of-Contents)\n",
    "\n",
    "The [dictionary](https://docs.python.org/3/tutorial/datastructures.html#dictionaries), or dict for short, is a common type of python object used to store sets of key-value pairs. Sound familiar? It should! Dictionaries are python's internal counterpart to JSON data.\n",
    "\n",
    "Here, we'll learn to grab data from within a dict by using the key name, following this syntax: `dict['key']`"
   ]
  },
  {
   "cell_type": "code",
   "execution_count": 114,
   "metadata": {},
   "outputs": [
    {
     "data": {
      "text/plain": [
       "[{'inventors': [{'inventor_first_name': 'Robert Gregory',\n",
       "    'inventor_key_id': '8781157',\n",
       "    'inventor_last_name': 'Beliveau'}],\n",
       "  'patent_title': 'Nose cover'},\n",
       " {'inventors': [{'inventor_first_name': 'Tatsuhiko',\n",
       "    'inventor_key_id': '9057939',\n",
       "    'inventor_last_name': 'Nobori'}],\n",
       "  'patent_title': 'Video image display device and video image display method'}]"
      ]
     },
     "execution_count": 114,
     "metadata": {},
     "output_type": "execute_result"
    }
   ],
   "source": [
    "patents = response['patents']\n",
    "patents"
   ]
  },
  {
   "cell_type": "code",
   "execution_count": 115,
   "metadata": {},
   "outputs": [
    {
     "name": "stdout",
     "output_type": "stream",
     "text": [
      "Nose cover\n"
     ]
    }
   ],
   "source": [
    "print(patents[0]['patent_title'])"
   ]
  },
  {
   "cell_type": "markdown",
   "metadata": {},
   "source": [
    "### Another Example: Querying all patents by Steve Jobs"
   ]
  },
  {
   "cell_type": "code",
   "execution_count": 116,
   "metadata": {
    "scrolled": false
   },
   "outputs": [
    {
     "name": "stdout",
     "output_type": "stream",
     "text": [
      "Dynamically changing appearances for user interface elements during drag-and-drop operations\n",
      "User interface for providing consolidation and access\n",
      "Electronic device\n",
      "Modal change based on orientation of a portable multifunction device\n",
      "Electronic device\n",
      "Electronic device\n",
      "Audio file interface\n",
      "Computer\n",
      "Mouse\n",
      "Remote motion control using a wireless mobile device\n",
      "Persistent group of media items for a media device\n",
      "Electronic device\n",
      "Portable display device with graphical user interface\n",
      "Portable computer\n",
      "Portable display device\n",
      "Portable multifunction device, method, and graphical user interface supporting user navigations of graphical objects on a touch screen display\n",
      "Touch screen device, method, and graphical user interface for customizing display of content category icons\n",
      "Electronic device\n",
      "Graphical user interface and methods of use thereof in a multimedia player\n",
      "Portable display device with graphical user interface\n",
      "Electronic device with graphical user interface\n",
      "Portable display device\n",
      "Power adapter\n",
      "Electronic device\n",
      "Portable display device with graphical user interface\n"
     ]
    }
   ],
   "source": [
    "# Let's search for all patent by Steve Jobs:\n",
    "# Query:\n",
    "query = 'query?q={\"_and\":[{\"inventor_last_name\":\"Jobs\"},{\"inventor_first_name\":\"Steve P.\"}]}'\n",
    "# Fields:\n",
    "fields = '&f=[\"inventor_first_name\",\"inventor_last_name\", \"patent_title\"]'\n",
    "# Sort:\n",
    "sort = '&s=[{\"patent_date\":\"desc\"}]'\n",
    "# Options:\n",
    "options = ''\n",
    "\n",
    "url = base_url + endpoint + query + fields + sort + options\n",
    "\n",
    "# get query response from API\n",
    "response = requests.get(url)\n",
    "# Convert response to text\n",
    "response = json.loads(response.text)\n",
    "\n",
    "# Grab Patent Title\n",
    "for i in range(0, len(response['patents'])):\n",
    "    print(response['patents'][i]['patent_title'])"
   ]
  },
  {
   "cell_type": "markdown",
   "metadata": {},
   "source": [
    "### Assignee Endpoint\n",
    "\n",
    "- Back to the [Table of Contents](#Table-of-Contents)\n",
    "\n",
    "The Assignee Endpoint of the PatentsView API provides access to general information about a given inventor in the database. A full list of the fields and options is provided [here](http://www.patentsview.org/api/assignee.html).\n",
    "\n",
    "Below, we add the `assignee` endpoint to our base URL in order to explore the Patents API. We can then search for patents matching a query (`q`), return given fields (`f`), sorted by a sort-field (`s`), and using provided options (`o`).\n",
    "\n",
    "The combination of the endpoint, query, fields, sort, and options will return the requested patent information."
   ]
  },
  {
   "cell_type": "code",
   "execution_count": 74,
   "metadata": {
    "collapsed": true
   },
   "outputs": [],
   "source": [
    "# Define the Endpoint as Patents:\n",
    "endpoint = 'assignees/'"
   ]
  },
  {
   "cell_type": "code",
   "execution_count": 77,
   "metadata": {},
   "outputs": [
    {
     "data": {
      "text/plain": [
       "{'assignees': [{'assignee_organization': 'Apple Inc.',\n",
       "   'assignee_total_num_patents': '14444'}],\n",
       " 'count': 1,\n",
       " 'total_assignee_count': 1}"
      ]
     },
     "execution_count": 77,
     "metadata": {},
     "output_type": "execute_result"
    }
   ],
   "source": [
    "# Let's search for assignee Apple, return inventor name:\n",
    "# Query:\n",
    "query = 'query?q={\"assignee_organization\":\"Apple Inc.\"}'\n",
    "# Fields:\n",
    "fields = '&f=[\"assignee_organization\",\"assignee_total_num_patents\"]'\n",
    "# Sort:\n",
    "sort = ''\n",
    "# Options:\n",
    "options = ''\n",
    "\n",
    "url = base_url + endpoint + query + fields + sort + options\n",
    "\n",
    "# get query response from API\n",
    "response = requests.get(url)\n",
    "# Convert response to text\n",
    "response = json.loads(response.text)\n",
    "\n",
    "response"
   ]
  },
  {
   "cell_type": "markdown",
   "metadata": {},
   "source": [
    "### Inventor Endpoint\n",
    "\n",
    "- Back to the [Table of Contents](#Table-of-Contents)\n",
    "\n",
    "The Inventor Endpoint of the PatentsView API provides access to general information about a given inventor in the database. A full list of the fields and options is provided [here](http://www.patentsview.org/api/assignee.html).\n",
    "\n",
    "Below, we add the `assignee` endpoint to our base URL in order to explore the Patents API. We can then search for patents matching a query (`q`), return given fields (`f`), sorted by a sort-field (`s`), and using provided options (`o`).\n",
    "\n",
    "The combination of the endpoint, query, fields, sort, and options will return the requested patent information."
   ]
  },
  {
   "cell_type": "code",
   "execution_count": 74,
   "metadata": {
    "collapsed": true
   },
   "outputs": [],
   "source": [
    "# Define the Endpoint as Patents:\n",
    "endpoint = 'inventors/'"
   ]
  },
  {
   "cell_type": "code",
   "execution_count": 136,
   "metadata": {},
   "outputs": [
    {
     "name": "stdout",
     "output_type": "stream",
     "text": [
      "['Jean-Marie Hullot', 'Christopher Matthew Franklin', 'Daniel N. Crow', 'Cary Dean', 'Elizabeth Ann Dykstra-Erickson', 'J. Peter Hoddie', 'Timothy E. Wasko', 'Donald Lindsay', 'Tim Wasko', 'Robert B. Brownell, Jr.', 'Sung Gwan Kim', 'Anwyl M. McDonald', 'Russell C. Mead, Jr.', 'Arturo Meuniot', 'Jesus Beltran', 'Bartley K. Andre', 'Christopher J. Stringer', 'Daniel J. Riccio, Jr.', 'Jonathan P. Ive', 'Michael D. Hillman', 'Frank Chee-Da Tsai', 'Michael D. McBroom', 'Daniel L. McBroom', 'Brian Sudderth', 'Arthur S. Brigham', 'Joel F. Jensen', 'Scott Nelson', 'Karl Backus', 'Rosa Sheng', 'Ben McDonald', 'Michael Waltner', 'Colleen Caulliez', \"James O'Callaghan\", 'Graham Coult', 'Damian Rogan', 'Jeffrey L. Robbin', 'Gregory N. Christie', 'Imran A. Chaudhri', 'Philip W. Schiller', 'Bas Ording', 'Patrick Coffman', 'Kenneth L. Kocienda', 'Nitin K. Ganatra', 'Freddy Allen Anzures', 'Jeremy A. Wyld', 'Jeffrey Alan Bush', 'Michael Matas', 'Paul D. Marcos', 'Charles J. Pisula', 'Scott Forstall', 'Virgil Scott King', 'Chris Blumenberg', 'Francisco Ryan Tolmasky', 'Richard John Williamson', 'Andre J. Boule', 'Henri C. Lamiraux', 'Stephen O. Lemay', 'Scott M. Herz', 'Marcel Mwa van Os', 'Gregory B. Novick', 'Wayne Carl Westerman', 'Steve Sprang', 'Roger Rock Rosner', 'Mike Matas', 'Anthony Fadell', 'Rainer Brodersen', 'Rachel Clare Goldeen', 'Jeffrey K. Ma', 'Mihnea Calin Pacurariu', 'Thomas Madden', 'Eric Seymour', 'Jessica L. Kahn', 'Sarah Anne Wilkin', 'David Hyatt', 'Jens Peter Alfke', 'Wayne Loofbourrow', 'David Alan Pound', 'Peter N. Russell-Clarke', 'Douglas B. Satzger', 'Calvin Q. Seid', 'Eugene Antony Whang', 'Rico Luitpold Zorkendorfer', 'Daniel J. Coster', 'Daniele G. De Iuliis', 'Richard P. Howarth', 'Duncan Robert Kerr', 'Shin Nishibori', 'Matthew Dean Rohrbach', 'Christopher R. Wysocki', 'David Heller', 'Jeff Miller', 'Elizabeth Caroline Furches', 'Donald Dale Melton', 'Andrew Platzer', 'Tammy Tova Abraham', 'Alexandrea Anderson', 'Robert H. Kondrk', 'Oliver Krevet', 'Mike Wiese', 'Richard Blanchard, Jr.', 'Himanshu Gupta', 'Howard A. Miller', 'Michael B. Shebanek', 'Brian R. Smiley', 'Ralph E. Zazula', 'Eddy Cue', 'Dallas De Atley', 'Patrice Gautier', 'Gordon J. Freedman', 'Robert P. Madonna', 'Michael C. Silva', 'Cameron Pulsford', 'Nicholas J. Cipollo', 'Sean Kelly', 'Kevin John Tiene', 'Jerrold C. Manock', 'Dean A. Hovey', 'David M. Kelley', 'Marc J. van de Loo', 'Daniele De Iuliis', 'Eugene Anthony Wang', 'Rico L. Zi?1/2rkendi?1/2rfer', 'Stephen Zadesky', 'Stephen Brian Lynch', 'Daniele De luliis', 'Evans M. Hankey', 'Douglas B. Salzger', 'Doglas B. Satzger', 'Greg Dudey', 'Daniele De Iullis', 'Jody R. Akana', 'Jeremy D. Bataillou', 'Peter Bohlin', 'George Bradley', 'Robert Bridger', 'Benjamin L. Fay', 'Ronald Bruce Johnson', 'David Andreini', 'Stephen R. McClure', 'John P. Ternus', 'Joshua D. Banko', 'Phillip M. Hobson', 'Scott A. Myers', 'David A. Pakula', 'Tang Yew Tan', 'Richard Dinh', 'Louis D. Mantia, Jr.', 'William Bachman', 'Nicholas George Merz', 'Trent Weber', 'Michael Wittenberg', 'Ming Chiang Yu', 'Pinida Jan Moonlsintong', 'M. Evans Hankey', 'Raymond S. Sepulveda', 'Ollie Wagner', 'Elizabeth Caroline Cranfill', 'Mikio Inose', 'Adam Mittleman', 'Erik L. Wang', 'Kenneth A. Jenks', 'Daniel W. Jarvis', 'Rico Zi?1/2rkendorfer', 'Rico ZÃ¶rkendÃ¶rfer']\n"
     ]
    }
   ],
   "source": [
    "# Let's search for Steve Jobs patents, return all co-author names:\n",
    "# Query:\n",
    "query = 'query?q={\"_and\":[{\"inventor_last_name\":\"Jobs\"},{\"inventor_first_name\":\"Steve P.\"}]}'\n",
    "# Fields:\n",
    "fields = '&f=[\"inventor_last_name\",\"inventor_first_name\",\"inventor_total_num_patents\"]'\n",
    "# Sort:\n",
    "sort = ''\n",
    "# Options:\n",
    "options = '&o={\"per_page\":1000}'\n",
    "\n",
    "url = base_url + endpoint + query + fields + sort + options\n",
    "\n",
    "# get query response from API\n",
    "response = requests.get(url)\n",
    "# Convert response to text\n",
    "response = json.loads(response.text)\n",
    "patents = response['patents']\n",
    "\n",
    "co_autors = []\n",
    "for i in range(0, len(patents)):\n",
    "    inventors = patents[i]['inventors']\n",
    "    for j in range(0, len(inventors)):\n",
    "        inventor = inventors[j]['inventor_first_name']+\" \"+inventors[j]['inventor_last_name']\n",
    "        if (inventor!=\"Steve P. Jobs\")&(inventor not in co_autors):\n",
    "            co_autors.append(inventor)\n",
    "print(co_autors)"
   ]
  },
  {
   "cell_type": "code",
   "execution_count": null,
   "metadata": {
    "collapsed": true
   },
   "outputs": [],
   "source": []
  },
  {
   "cell_type": "code",
   "execution_count": null,
   "metadata": {
    "collapsed": true
   },
   "outputs": [],
   "source": []
  },
  {
   "cell_type": "code",
   "execution_count": null,
   "metadata": {
    "collapsed": true
   },
   "outputs": [],
   "source": []
  },
  {
   "cell_type": "code",
   "execution_count": null,
   "metadata": {
    "collapsed": true
   },
   "outputs": [],
   "source": []
  },
  {
   "cell_type": "code",
   "execution_count": null,
   "metadata": {
    "collapsed": true
   },
   "outputs": [],
   "source": []
  },
  {
   "cell_type": "markdown",
   "metadata": {
    "collapsed": true
   },
   "source": [
    "## Exercise\n",
    "\n",
    "Using the PatentsView API, let's get all patent descriptions for the patents that we found assigned to KCMO businesses."
   ]
  },
  {
   "cell_type": "code",
   "execution_count": 186,
   "metadata": {},
   "outputs": [
    {
     "name": "stderr",
     "output_type": "stream",
     "text": [
      "/Users/nj995/anaconda3/lib/python3.6/site-packages/IPython/core/interactiveshell.py:2698: DtypeWarning: Columns (1) have mixed types. Specify dtype option on import or set low_memory=False.\n",
      "  interactivity=interactivity, compiler=compiler, result=result)\n"
     ]
    }
   ],
   "source": [
    "business_patents = pd.read_csv('../../output/business_patents.csv')"
   ]
  },
  {
   "cell_type": "code",
   "execution_count": 187,
   "metadata": {
    "collapsed": true
   },
   "outputs": [],
   "source": [
    "patents = business_patents[pd.isnull(business_patents['patent_number'])==False]['patent_number']\n",
    "patents = patents.drop_duplicates().tolist()"
   ]
  },
  {
   "cell_type": "markdown",
   "metadata": {},
   "source": [
    "___ Query PatentsView API (200 patents at a time)___\n",
    "\n",
    "This step can take up to 10 minutes."
   ]
  },
  {
   "cell_type": "code",
   "execution_count": 161,
   "metadata": {},
   "outputs": [
    {
     "name": "stdout",
     "output_type": "stream",
     "text": [
      "--- 415.7428662776947 seconds ---\n"
     ]
    }
   ],
   "source": [
    "df = pd.DataFrame(\"\", index=np.arange(0), columns=['patent_abstract', 'patent_number', 'patent_title'])\n",
    "start_time = time.time()\n",
    "for i in range(0, int(math.modf(len(patents)/200)[1]+1)):\n",
    "    sub_patents = patents[200*i:min(200*(i+1), len(patents))]\n",
    "    base_url = 'http://www.patentsview.org/api/patents/query?'\n",
    "    query = 'q={\"_or\":[{\"patent_number\":\"'+ sub_patents[0] + '\"}'\n",
    "    for j in range(1, len(sub_patents)):\n",
    "        query = query + ',{\"patent_number\":\"'+sub_patents[j]+'\"}'\n",
    "    query = query + ']}'\n",
    "    fields='&f=[\"patent_number\", \"patent_title\", \"patent_abstract\"]'\n",
    "    sort= '' #&s=\n",
    "    options= '&o={\"page\":1,\"per_page\": 500}'\n",
    "    url = '{}{}{}{}{}'.format(base_url, query, fields, sort, options)\n",
    "    \n",
    "    response = requests.get(url)\n",
    "    response = json.loads(response.text)\n",
    "    temp = DataFrame.from_dict(response['patents'])\n",
    "    df = pd.concat([df, temp])\n",
    "\n",
    "df = df[['patent_number', 'patent_title', 'patent_abstract']].sort_values('patent_number')\n",
    "df = df.reset_index(drop = True)\n",
    "print(\"--- %s seconds ---\" % (time.time() - start_time))"
   ]
  },
  {
   "cell_type": "markdown",
   "metadata": {},
   "source": [
    "___ Merge back onto Business Names ___"
   ]
  },
  {
   "cell_type": "code",
   "execution_count": 195,
   "metadata": {
    "collapsed": true
   },
   "outputs": [],
   "source": [
    "patent_desc = pd.merge(business_patents[['business_name', 'patent_number']], df\n",
    "                         , how = 'left', on = 'patent_number')\n",
    "patent_desc = patent_desc[patent_desc['patent_number'].isnull()==False].drop_duplicates()"
   ]
  },
  {
   "cell_type": "markdown",
   "metadata": {},
   "source": [
    "___ Export to CSV:___"
   ]
  },
  {
   "cell_type": "code",
   "execution_count": 196,
   "metadata": {
    "collapsed": true
   },
   "outputs": [],
   "source": [
    "patent_desc.to_csv('../../output/patent_desc.csv', index = False)"
   ]
  },
  {
   "cell_type": "code",
   "execution_count": null,
   "metadata": {
    "collapsed": true
   },
   "outputs": [],
   "source": []
  },
  {
   "cell_type": "code",
   "execution_count": null,
   "metadata": {
    "collapsed": true
   },
   "outputs": [],
   "source": []
  },
  {
   "cell_type": "code",
   "execution_count": null,
   "metadata": {
    "collapsed": true
   },
   "outputs": [],
   "source": []
  },
  {
   "cell_type": "code",
   "execution_count": null,
   "metadata": {
    "collapsed": true
   },
   "outputs": [],
   "source": []
  },
  {
   "cell_type": "code",
   "execution_count": null,
   "metadata": {
    "collapsed": true
   },
   "outputs": [],
   "source": []
  },
  {
   "cell_type": "code",
   "execution_count": null,
   "metadata": {
    "collapsed": true
   },
   "outputs": [],
   "source": []
  },
  {
   "cell_type": "markdown",
   "metadata": {},
   "source": [
    "## Routing API\n",
    "\n",
    "- Back to the [Table of Contents](#Table-of-Contents)\n",
    "\n",
    "Now that we've tested we can access OTP from Jupyter, let's do something a bit more interesting: get a route plan between some locations. This will allow us to answer \"How long will it take to get from *here* to *there*?\"\n",
    "\n",
    "Similar to the Index API, the [Routing API documentation](http://dev.opentripplanner.org/apidoc/1.0.0/resource_PlannerResource.html) tells us what features are available and how to access those feastures."
   ]
  },
  {
   "cell_type": "markdown",
   "metadata": {},
   "source": [
    "### Scraping Useful Chicago Data\n",
    "\n",
    "- Back to the [Table of Contents](#Table-of-Contents)\n",
    "\n",
    "To give us some valuable data to use with this API, I used the tools we used in our first lesson to build a quick scraper to get a lost of Chicago's workforce centers. You'll note that although the pattern of HTML differs, the structure of the scraper is very similar, and only requires a little bit of code."
   ]
  },
  {
   "cell_type": "code",
   "execution_count": null,
   "metadata": {
    "collapsed": true
   },
   "outputs": [],
   "source": [
    "# Use requests to grab the HTML page for Chicago Workforce Centers\n",
    "url = \"http://deepdish.adrf.info/contrib/chicagojobs.html\"\n",
    "response = requests.get(url)\n",
    "\n",
    "# Create BeautifulSoup object and pull out the table rows:\n",
    "soup = BeautifulSoup(response.text)\n",
    "table = soup.find(\"table\")\n",
    "rows = table.find_all(\"tr\")\n",
    "\n",
    "# Create lists to hold our scraped data\n",
    "centers = []\n",
    "addresses = []\n",
    "phone_numbers = []\n",
    "\n",
    "rows = rows[1:] #Skip the header row\n",
    "for row in rows:\n",
    "    \n",
    "    name_td = row.find_all(\"td\")[1]\n",
    "    if name_td.find(\"a\"):\n",
    "        center_name = name_td.find(\"a\").text\n",
    "    else:        \n",
    "        center_name = name_td.text\n",
    "\n",
    "    centers.append(center_name)\n",
    "    addresses.append(row.find_all(\"td\")[2].text)\n",
    "    phone_numbers.append(row.find_all(\"td\")[3].text)\n",
    "    \n",
    "## Create pandas dataframe:\n",
    "centers_df = pd.DataFrame({\"center_name\" : pd.Series(centers),\n",
    "    \"address\" : pd.Series(addresses),\n",
    "    \"phone_number\" : pd.Series(phone_numbers)})\n",
    "\n",
    "## A little cleanup to remove extraneous tags:\n",
    "centers_df[\"center_name\"] = centers_df[\"center_name\"].str.replace(\"<td>\", \"\")\n",
    "centers_df[\"center_name\"] = centers_df[\"center_name\"].str.replace(\"<br/>\", \"\")\n",
    "\n",
    "centers_df[:]"
   ]
  },
  {
   "cell_type": "markdown",
   "metadata": {},
   "source": [
    "## Geocoding\n",
    "\n",
    "- Back to the [Table of Contents](#Table-of-Contents)\n",
    "\n",
    "We have scraped addresses, but OTP works best with latitude and longitude coordinates. We can use the [geocoder module](https://pypi.python.org/pypi/geocoder) to get latitude and longitude exactly just from the organization addresses. Note this is a combination of great tools - a simple Python module (`geocoder`) interacting with Google's wonderful geocoding API. The code below would work out in the wild, but since we are working in a restricted environment, we can't get to the Google API.\n",
    "\n",
    "The geocoder module can speak to a wide range of external services, including ArcGIS, Bing, MapBox, OpenStreetMaps, and many others, in addition to Google. The API lets you geocode (addresses to latitue and longitude), reverse geocode (latitude and longitude to addresses), as well as get timezones and elevations on locations."
   ]
  },
  {
   "cell_type": "code",
   "execution_count": null,
   "metadata": {
    "collapsed": true
   },
   "outputs": [],
   "source": [
    "# import geocoder\n",
    "# \n",
    "# lat = []\n",
    "# lon = []\n",
    "#\n",
    "# for add in centers_df[\"address\"]:\n",
    "#    g = geocoder.google(add)\n",
    "    \n",
    "#    lon.append(g.latlng[0])\n",
    "#    lat.append(g.latlng[1])\n",
    "\n",
    "# centers_df[\"latitude\"] = pd.Series(lat)\n",
    "# centers_df[\"longitude\"] = pd.Series(lon)"
   ]
  },
  {
   "cell_type": "code",
   "execution_count": null,
   "metadata": {
    "collapsed": true
   },
   "outputs": [],
   "source": [
    "lat = [41.733737,\n",
    "            41.9087846,\n",
    "            41.9647695,\n",
    "            41.9631174,\n",
    "            42.0457523,\n",
    "            41.9697109,\n",
    "            41.9252578,\n",
    "            41.4824241,\n",
    "            41.5081785,\n",
    "            41.8322347,\n",
    "            41.6944193,\n",
    "            41.8444394,\n",
    "            41.8849173,\n",
    "            41.5255653,\n",
    "            41.8543913,\n",
    "            41.8511856,\n",
    "            41.8931701,\n",
    "            41.8804296,\n",
    "            41.8905965,\n",
    "            42.0076194,\n",
    "            41.9647485,\n",
    "            41.8457521,\n",
    "            41.8409604,\n",
    "            41.9589605]\n",
    "\n",
    "lon = [-87.770246,\n",
    "             -87.7931388,\n",
    "             -87.6786497,\n",
    "             -87.6748518,\n",
    "             -87.9922059,\n",
    "             -87.6598793,\n",
    "             -87.7008122,\n",
    "             -87.6782855,\n",
    "             -87.6234975,\n",
    "             -87.5990999,\n",
    "             -87.5990999,\n",
    "             -87.7236882,\n",
    "             -87.6231249,\n",
    "             -87.6386009,\n",
    "             -87.6355797,\n",
    "             -87.7775432,\n",
    "             -87.6614166,\n",
    "             -87.7066519,\n",
    "             -87.702801,\n",
    "             -87.6689743,\n",
    "             -87.6570292,\n",
    "             -87.6858569,\n",
    "             -87.6862319,\n",
    "             -87.6747326]"
   ]
  },
  {
   "cell_type": "code",
   "execution_count": null,
   "metadata": {
    "collapsed": true,
    "scrolled": true
   },
   "outputs": [],
   "source": [
    "centers_lim = centers_df[0:24]\n",
    "centers_lim[\"latitude\"] = pd.Series(lat)\n",
    "centers_lim[\"longitude\"] = pd.Series(lon)\n",
    "centers_lim[:]"
   ]
  },
  {
   "cell_type": "markdown",
   "metadata": {},
   "source": [
    "### Planner Resource Syntax\n",
    "\n",
    "- Back to the [Table of Contents](#Table-of-Contents)\n",
    "\n",
    "The Planner Resource API does trip planning based on a large number of customizable parameters. To give you a sense of all the options available, OTP's planner resource allows users to set the additional time it will take baord a vehicle (like a bus) with a bike, as opposed to boarding on foot. There are a lot of available options. This is great for us, since once we understand the simple syntax of this API, we can avail ourselves of this granular customization if we want to. \n",
    "\n",
    "This resource is located at `/OTP/routers/{routerID}/plan` and when setting options within a URL, they follow a single question mark. So first, let's plan a trip with just the required options, `fromPlace`, `toPlace`, and `datae` (which takes an option in the form YYY-MM-DD) which you can see we set after `/plan?` and separated by ampersands `&`:"
   ]
  },
  {
   "cell_type": "code",
   "execution_count": null,
   "metadata": {
    "collapsed": true,
    "scrolled": true
   },
   "outputs": [],
   "source": [
    "origin_lat = centers_lim[\"latitude\"][2]\n",
    "origin_lon = centers_lim[\"longitude\"][2]\n",
    "\n",
    "destination_lat = centers_lim[\"latitude\"][10]\n",
    "destination_lon = centers_lim[\"longitude\"][10]\n",
    "\n",
    "qry_url = '{}plan?fromPlace={},{}&toPlace={},{}&date=2016-02-11'.format(base_url, origin_lat, origin_lon, destination_lat, destination_lon)   \n",
    "print(qry_url)\n",
    "\n",
    "response = requests.get(qry_url)\n",
    "response = response.text\n",
    "plan = json.loads(response)\n",
    "\n",
    "# Examine the response, which is a routing plan:\n",
    "print(plan)"
   ]
  },
  {
   "cell_type": "code",
   "execution_count": null,
   "metadata": {
    "collapsed": true
   },
   "outputs": [],
   "source": [
    "# So again our JSON object was transformed into a Python dict.\n",
    "print(type(plan))"
   ]
  },
  {
   "cell_type": "code",
   "execution_count": null,
   "metadata": {
    "collapsed": true
   },
   "outputs": [],
   "source": [
    "# We can look at the available keys:\n",
    "print(plan.keys())"
   ]
  },
  {
   "cell_type": "code",
   "execution_count": null,
   "metadata": {
    "collapsed": true
   },
   "outputs": [],
   "source": [
    "# And use those keys to see the dict'svalues.\n",
    "# For instance, let's print out the requestParameters:\n",
    "print(plan['requestParameters'])"
   ]
  },
  {
   "cell_type": "code",
   "execution_count": null,
   "metadata": {
    "collapsed": true
   },
   "outputs": [],
   "source": [
    "# Dicts can contain other dicts, like in the case of the plan:\n",
    "print(type(plan[\"plan\"]))\n",
    "print(plan['plan'].keys())"
   ]
  },
  {
   "cell_type": "code",
   "execution_count": null,
   "metadata": {
    "collapsed": true
   },
   "outputs": [],
   "source": [
    "## We can use a similar syntax torfer to the keys of a dict within a dict:\n",
    "print(plan[\"plan\"][\"to\"])"
   ]
  },
  {
   "cell_type": "code",
   "execution_count": null,
   "metadata": {
    "collapsed": true
   },
   "outputs": [],
   "source": [
    "# Time is stored in a raw computer format\n",
    "print('raw time value: {}'.format(plan['plan']['date']))\n",
    "\n",
    "# But we can convert it to a datetime object so it's comprehensible.\n",
    "# note OTP returns raw time value with three extra zeros, divide by 1000 to get rid of them\n",
    "print('datetime formatted: {}'.format(time.strftime('%Y-%m-%d %H:%M:%S', time.localtime(plan['plan']['date']/1000))))"
   ]
  },
  {
   "cell_type": "code",
   "execution_count": null,
   "metadata": {
    "collapsed": true
   },
   "outputs": [],
   "source": [
    "# 'itineraries' holds a lot more information, let's start with how many itineraries were returned\n",
    "print(len(plan['plan']['itineraries']))\n",
    "\n",
    "# and list what keys exit for the first itinerary\n",
    "print(plan['plan']['itineraries'][0].keys())"
   ]
  },
  {
   "cell_type": "code",
   "execution_count": null,
   "metadata": {
    "collapsed": true
   },
   "outputs": [],
   "source": [
    "# compare the three itineraries across some pieces\n",
    "for i in plan['plan']['itineraries']:\n",
    "    print('duration (minutes) = {0:.2f} | transfers = {1:} | walkDist = {2:.2f} | \\\n",
    "legs = {4:} | startTime = {5:} | endTime = {6:}'\\\n",
    ".format(i['duration']/60., i['transfers'], i['walkDistance'], i['walkTime'], len(i['legs']), \n",
    "        time.strftime('%H:%M:%S', time.localtime(i['startTime']/1000)), \n",
    "        time.strftime('%H:%M:%S', time.localtime(i['endTime']/1000))))"
   ]
  },
  {
   "cell_type": "code",
   "execution_count": null,
   "metadata": {
    "collapsed": true
   },
   "outputs": [],
   "source": [
    "# note we just counted the length of the \"legs\" output, it contains the details of the actual route\n",
    "# here is what is included in a \"leg\"\n",
    "print(plan['plan']['itineraries'][0]['legs'][0].keys())"
   ]
  },
  {
   "cell_type": "code",
   "execution_count": null,
   "metadata": {
    "collapsed": true
   },
   "outputs": [],
   "source": [
    "# let's compare the three legs of the first itinerary, similarly as we compared the itineraries\n",
    "for leg in plan['plan']['itineraries'][0]['legs']:\n",
    "    print('distance = {:,.2f} | duration = {:.0f} | mode = {} | route = {} | steps = {}'.\\\n",
    "format(leg['distance'], leg['duration'], leg['mode'], leg['route'], len(leg['steps'])))"
   ]
  },
  {
   "cell_type": "markdown",
   "metadata": {},
   "source": [
    "So, if mode is 'WALK' then route is blank and steps is a list. what is included in one of those 'steps'?"
   ]
  },
  {
   "cell_type": "code",
   "execution_count": null,
   "metadata": {
    "collapsed": true
   },
   "outputs": [],
   "source": [
    "print(plan['plan']['itineraries'][0]['legs'][0]['steps'][0].keys())"
   ]
  },
  {
   "cell_type": "code",
   "execution_count": null,
   "metadata": {
    "collapsed": true
   },
   "outputs": [],
   "source": [
    "# so, what streets does this first route call for a person to walk on?\n",
    "for leg in plan['plan']['itineraries'][0]['legs']:\n",
    "    print('leg sends person on following streets:')\n",
    "    if leg['mode']=='WALK':\n",
    "        for step in leg['steps']:\n",
    "            print(step['streetName'])\n",
    "    else:\n",
    "        print('N/A - not a walking leg.')"
   ]
  },
  {
   "cell_type": "markdown",
   "metadata": {
    "collapsed": true
   },
   "source": [
    "## Adding Further Options:\n",
    "\n",
    "The arriveBy parameter takes a time hh:mm:ss - can you add this option to our query?\n",
    "\n",
    "What happens if you increase the bikeSpeed option (takes an integer in MPH - defaults to 11 MPH)?"
   ]
  },
  {
   "cell_type": "code",
   "execution_count": null,
   "metadata": {
    "collapsed": true
   },
   "outputs": [],
   "source": [
    "your_qry_url = '{}plan?fromPlace={},{}&toPlace={},{}&date=2016-06-05'.format(base_url, origin_lat, origin_lon, destination_lat, destination_lon)   \n",
    "print(your_qry_url)\n",
    "\n",
    "response = requests.get(your_qry_url)\n",
    "response = response.text\n",
    "plan = json.loads(response)\n",
    "\n",
    "print(plan)"
   ]
  },
  {
   "cell_type": "markdown",
   "metadata": {},
   "source": [
    "## Incorporating Databases\n",
    "\n",
    "- Back to the [Table of Contents](#Table-of-Contents)\n",
    "\n",
    "We can use SQL Alchemy to grab some data from our databases."
   ]
  },
  {
   "cell_type": "code",
   "execution_count": null,
   "metadata": {
    "collapsed": true
   },
   "outputs": [],
   "source": [
    "# Database connection\n",
    "from sqlalchemy import create_engine\n",
    "engine = create_engine(\"postgresql://10.10.2.10:5432/appliedda\")"
   ]
  },
  {
   "cell_type": "code",
   "execution_count": null,
   "metadata": {
    "collapsed": true
   },
   "outputs": [],
   "source": [
    "pd.read_sql(\"SELECT table_name FROM information_schema.tables;\", engine)"
   ]
  },
  {
   "cell_type": "code",
   "execution_count": null,
   "metadata": {
    "collapsed": true,
    "scrolled": true
   },
   "outputs": [],
   "source": [
    "# The tl_2016_16980_tabblock10 table contains census blocks for Chicago:\n",
    "blocks_df = pd.read_sql(\"SELECT * FROM tl_2016_16980_tabblock10;\", engine)\n",
    "blocks_df[:5]"
   ]
  },
  {
   "cell_type": "code",
   "execution_count": null,
   "metadata": {
    "collapsed": true,
    "scrolled": true
   },
   "outputs": [],
   "source": [
    "# Block on East Side of Douglas Park\n",
    "## Used City of Chicago Data Portal to find the geoid10:\n",
    "block = blocks_df[blocks_df[\"geoid10\"] == \"170318433001046\"]\n",
    "block[:]"
   ]
  },
  {
   "cell_type": "code",
   "execution_count": null,
   "metadata": {
    "collapsed": true
   },
   "outputs": [],
   "source": [
    "centers_lim[:5]"
   ]
  },
  {
   "cell_type": "code",
   "execution_count": null,
   "metadata": {
    "collapsed": true
   },
   "outputs": [],
   "source": [
    "block_lat = 41.8599228\n",
    "block_lon = -87.6944049\n",
    "\n",
    "for i in range(0,len(centers_lim.index)):\n",
    "    \n",
    "    center = centers_lim.center_name[i]\n",
    "    center_lat = centers_lim.latitude[i]\n",
    "    center_lon = centers_lim.longitude[i]\n",
    "    \n",
    "    print(center)\n",
    "    \n",
    "    qry_url = '{}plan?fromPlace={},{}&toPlace={},{}&date=2016-06-10%mode=WALK,TRANSIT'.format(\n",
    "        base_url, block_lat, block_lon, center_lat, center_lon)   \n",
    "    \n",
    "    try:\n",
    "        response = requests.get(qry_url).text\n",
    "        plan = json.loads(response)\n",
    "        print(plan)\n",
    "                \n",
    "    except requests.exceptions.RequestException:\n",
    "        pass\n",
    "    "
   ]
  },
  {
   "cell_type": "code",
   "execution_count": null,
   "metadata": {
    "collapsed": true
   },
   "outputs": [],
   "source": [
    "centers_lim.count()"
   ]
  },
  {
   "cell_type": "code",
   "execution_count": null,
   "metadata": {
    "collapsed": true
   },
   "outputs": [],
   "source": [
    "origin_lat = centers_lim[\"latitude\"][2]\n",
    "origin_lon = centers_lim[\"longitude\"][2]\n",
    "\n",
    "destination_lat = centers_lim[\"latitude\"][10]\n",
    "destination_lon = centers_lim[\"longitude\"][10]\n",
    "\n",
    "qry_url = '{}plan?fromPlace={},{}&toPlace={},{}&date=2016-02-11'.format(base_url, origin_lat, origin_lon, destination_lat, destination_lon)   \n",
    "print(qry_url)\n",
    "\n",
    "response = requests.get(qry_url)\n",
    "response = response.text\n",
    "plan = json.loads(response)\n",
    "\n",
    "# Examine the response, which is a routing plan:\n",
    "print(plan)"
   ]
  },
  {
   "cell_type": "markdown",
   "metadata": {},
   "source": [
    "## Isochrone API\n",
    "\n",
    "- Back to the [Table of Contents](#Table-of-Contents)\n",
    "\n",
    "The Isochrone (meaning same-time) tool gives the area (as a polygon) a traveler can reach from a specified point within a travel time. Like the other APIs, the Isochrone API has many other query parameters the user can set if so desired, [description here](http://dev.opentripplanner.org/apidoc/1.0.0/resource_LIsochrone.html). It requires that we define a starting location, a mode of transportation, a date, and an amount of travel time.\n",
    "\n",
    "Below, we start in downtown Chicago, allowing use of foot and public transit, on a certain date, and with 30 minutes of travel time allowed."
   ]
  },
  {
   "cell_type": "code",
   "execution_count": null,
   "metadata": {
    "collapsed": true
   },
   "outputs": [],
   "source": [
    "# set start location\n",
    "start_point = [41.846698, -87.621385] # Mercy Hospital & Medical Center\n",
    "\n",
    "travel_time = 60 * 30 # time in seconds, so this is 30 minutes\n",
    "mode = \"WALK,TRANSIT\"\n",
    "\n",
    "url = (\"{}isochrone?fromPlace={},{}&mode={}&date=2016-06-01&cutoffSec={}\").format(\n",
    "    base_url,start_point[0],start_point[1],mode,travel_time)\n",
    "print(url)\n",
    "\n",
    "iso_response = requests.get(url)\n",
    "print(iso_response.text)"
   ]
  },
  {
   "cell_type": "markdown",
   "metadata": {},
   "source": [
    "> NOTE: as of Nov 1 underlying packages for spatial Python functions need to be updated on ADRF so the below will not work"
   ]
  },
  {
   "cell_type": "code",
   "execution_count": null,
   "metadata": {
    "collapsed": true
   },
   "outputs": [],
   "source": [
    "iso_json = json.loads(iso_response.text)\n",
    "\n",
    "## load isochrone into a geopandas dataframe\n",
    "iso_gdf = gpd.GeoDataFrame.from_features(iso_json['features'])\n",
    "iso_gdf[:]"
   ]
  },
  {
   "cell_type": "code",
   "execution_count": null,
   "metadata": {
    "collapsed": true
   },
   "outputs": [],
   "source": [
    "# view the resulting isochrone shape (can you guess why there are separated geographies?)\n",
    "iso_gdf.plot();"
   ]
  },
  {
   "cell_type": "markdown",
   "metadata": {},
   "source": [
    "One potential use case for this functionality: can people at two locations reach some common location within a specified travel time?"
   ]
  },
  {
   "cell_type": "code",
   "execution_count": null,
   "metadata": {
    "collapsed": true
   },
   "outputs": [],
   "source": [
    "# 2nd location\n",
    "start_point_2 = [41.884260, -87.630344] # Traffic Court in Richard J. Daley center\n",
    "\n",
    "url_2 = (\"{}isochrone?fromPlace={},{}&mode={}&date=2016-06-01&cutoffSec={}\").format(\n",
    "    base_url,start_point_2[0],start_point[1],mode,travel_time)\n",
    "\n",
    "# get json request\n",
    "iso_json_2 = json.loads(requests.get(url_2).text)\n",
    "\n",
    "## load isochrone into a geopandas dataframe\n",
    "iso_gdf_2 = gpd.GeoDataFrame.from_features(iso_json_2['features'])"
   ]
  },
  {
   "cell_type": "code",
   "execution_count": null,
   "metadata": {
    "collapsed": true
   },
   "outputs": [],
   "source": [
    "# view the second isochrone\n",
    "iso_gdf_2.plot();"
   ]
  },
  {
   "cell_type": "code",
   "execution_count": null,
   "metadata": {
    "collapsed": true
   },
   "outputs": [],
   "source": [
    "# do the two isochrones intersect?\n",
    "iso_gdf.intersects(iso_gdf_2)"
   ]
  },
  {
   "cell_type": "code",
   "execution_count": null,
   "metadata": {
    "collapsed": true
   },
   "outputs": [],
   "source": [
    "# they do intersect, so create an overlay with a 'union'\n",
    "iso_join = overlay(iso_gdf, iso_gdf_2, how='union')"
   ]
  },
  {
   "cell_type": "code",
   "execution_count": null,
   "metadata": {
    "collapsed": true
   },
   "outputs": [],
   "source": [
    "# what does the dataframe look like now?\n",
    "iso_join.head()"
   ]
  },
  {
   "cell_type": "code",
   "execution_count": null,
   "metadata": {
    "collapsed": true
   },
   "outputs": [],
   "source": [
    "# and visually?\n",
    "iso_join.plot();"
   ]
  },
  {
   "cell_type": "markdown",
   "metadata": {},
   "source": [
    "- Back to the [Table of Contents](#Table-of-Contents)\n",
    "\n",
    "> A bit annoyingly this is difficult to tell where the two overlap. To fix this we can group based on the \"time\" and \"time_2\" columns to end with just 3 combinations: \n",
    "1. accessible from our first location only, \n",
    "2. accessible our second location only, and \n",
    "3. accessible from either location\n",
    "\n",
    "We'll do this by using the [\"dissolve\" function](http://geopandas.org/aggregation_with_dissolve.html) from geopandas. However first we need to replace the \"NaN\" so those rows are not ignored"
   ]
  },
  {
   "cell_type": "code",
   "execution_count": null,
   "metadata": {
    "collapsed": true
   },
   "outputs": [],
   "source": [
    "# replace NaN with placeholder value, let's say 99999\n",
    "iso_join.fillna(99999, inplace=True)"
   ]
  },
  {
   "cell_type": "code",
   "execution_count": null,
   "metadata": {
    "collapsed": true
   },
   "outputs": [],
   "source": [
    "iso_join = iso_join.dissolve(by=['time', 'time_2']).reset_index()\n",
    "\n",
    "# Note: used reset_index() here so it's easier to use the 'time' and 'time_2' columns if needed"
   ]
  },
  {
   "cell_type": "code",
   "execution_count": null,
   "metadata": {
    "collapsed": true
   },
   "outputs": [],
   "source": [
    "# now what does it look like?\n",
    "iso_join"
   ]
  },
  {
   "cell_type": "code",
   "execution_count": null,
   "metadata": {
    "collapsed": true
   },
   "outputs": [],
   "source": [
    "# and visually?\n",
    "iso_join.plot();"
   ]
  },
  {
   "cell_type": "code",
   "execution_count": null,
   "metadata": {
    "collapsed": true
   },
   "outputs": [],
   "source": [
    "# add a label column to use so we can include a legend\n",
    "iso_join['label'] = ''\n",
    "\n",
    "# use index slicing function '.loc' of dataframes to update each value of label appropriately\n",
    "iso_join.loc[0,'label'] = 'Both'\n",
    "iso_join.loc[1,'label'] = 'point 1 only'\n",
    "iso_join.loc[2,'label'] = 'point 2 only'"
   ]
  },
  {
   "cell_type": "code",
   "execution_count": null,
   "metadata": {
    "collapsed": true,
    "scrolled": true
   },
   "outputs": [],
   "source": [
    "# set up a nicer visualization with labels\n",
    "f,ax = plt.subplots(figsize=(8,8))\n",
    "\n",
    "# use geopandas to specify label column and adding a legend to the matplotlib object 'ax'\n",
    "iso_join.plot(column='label', ax=ax, legend=True);\n",
    "\n",
    "# also plot start and stop points on the same map, note matplotlib takes [x,y] coordinates\n",
    "ax.plot(start_point[1], start_point[0], 's', color='orange', markersize=10, label='point 1')\n",
    "ax.plot(start_point_2[1], start_point_2[0], 's', color='grey', markersize=10, label='point 2')\n",
    "\n",
    "# add some other labels\n",
    "ax.set_xlabel('Longitude')\n",
    "ax.set_ylabel('Latitude')\n",
    "\n",
    "# title\n",
    "ax.set_title('Area accessible within {} minutes travel using public transit'.format(travel_time/60));"
   ]
  }
 ],
 "metadata": {
  "anaconda-cloud": {},
  "kernelspec": {
   "display_name": "Python 3",
   "language": "python",
   "name": "python3"
  },
  "language_info": {
   "codemirror_mode": {
    "name": "ipython",
    "version": 3
   },
   "file_extension": ".py",
   "mimetype": "text/x-python",
   "name": "python",
   "nbconvert_exporter": "python",
   "pygments_lexer": "ipython3",
   "version": "3.6.2"
  }
 },
 "nbformat": 4,
 "nbformat_minor": 1
}
