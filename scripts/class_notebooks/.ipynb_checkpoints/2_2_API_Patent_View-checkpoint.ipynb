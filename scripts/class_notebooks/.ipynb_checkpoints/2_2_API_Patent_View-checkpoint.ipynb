{
 "cells": [
  {
   "cell_type": "markdown",
   "metadata": {},
   "source": [
    "# Module 3 - Web APIs\n",
    "---"
   ]
  },
  {
   "cell_type": "markdown",
   "metadata": {},
   "source": [
    "## Introduction\n",
    "\n",
    "- Back to [Table of Contents](#Table-of-Contents)\n",
    "\n",
    "In this module, we introduce two general ways that one can retrieve data from data sources on the Internet: APIs and web scraping. We've already covered web scraping, and given the messiness of that subject you may find yourself really appreciating the relative simplicity of using APIs - once you grasp the concepts.\n",
    "\n",
    "API stands for \"Application Programming Interface\". An API is an agreed upon way for one computer program to interact with another computer program.  There are many different kinds of APIs.  Some facilitate interaction between computers over the Internet, some do not. In fact, the Python module SQL Alchemy that we used yesterday is a type of API for talking to databases - you'll see more on APIs for databases with SQL Alchemy later in this course.\n",
    "\n",
    "For this session, we focus on web APIs over HTTP that let a user query and retrieve data over the Internet.  This type of API documents an agreed-upon structure and content of requests and responses a program can use to interact with a system.  As long as your code adheres to a system's API, it should be able to reliabily request and receive data from the system.\n",
    "\n",
    "Below, we show how to make network API requests using HTTP(S)."
   ]
  },
  {
   "cell_type": "markdown",
   "metadata": {},
   "source": [
    "## Learning Objectives\n",
    "\n",
    "- Back to [Table of Contents](#Table-of-Contents)\n",
    "\n",
    "** Learning objectives:**\n",
    "\n",
    "- **Become familiar with different types of APIs.** Includes GET- and POST- based HTTP APIs, different formats of request bodies for POST-based APIs (form inputs, arbitrary JSON and XML, and then formalized dialects of each like SOAP), and how to learn a given API.\n",
    "- **Learn the tools used to interact with network-based APIs.** Understand the tools for talking directly with APIs over HTTP connection, introduce libraries that abstract the details of the API and present a simplified programmatic interface, and then understand how to choose a tool."
   ]
  },
  {
   "cell_type": "markdown",
   "metadata": {},
   "source": [
    "# Table of Contents\n",
    "- [Introduction](#Introduction)\n",
    "\n",
    "    - [Learning Objectives](#Learning-Objectives)\n",
    "    - [Topics](#Topics)\n",
    "\n",
    "- [Setup - Load Python packages](#Setup---Load-Python-packages)\n",
    "- [Using APIs](#Using-APIs)\n",
    "    * [RESTful APIs](#RESTful-APIs)\n",
    "    * [OTP description](#OpenTripPlanner)\n",
    "    * [Index API](#Index-API)\n",
    "    * [JSON](#JSON)\n",
    "    * [API Documentation](#API-Documentation)\n",
    "    * [Python Dictionary](#Python-Dictionary)\n",
    "    * [Routing API](#Routing-API)\n",
    "        * [Scraping Useful Chicago Data](#Scraping-Useful-Chicago-Data)\n",
    "        * [Geocoding](#Geocoding)\n",
    "        * [Planner Resource Syntax](#Planner-Resource-Syntax)\n",
    "        * [Incorporating Databases](#Incorporating-Databases)\n",
    "    * [Isochrone API](#Isochrone-API)"
   ]
  },
  {
   "cell_type": "markdown",
   "metadata": {},
   "source": [
    "## Topics\n",
    "\n",
    "- Back to [Table of Contents](#Table-of-Contents)\n",
    "\n",
    "Outline of topics covered in this notebook:\n",
    "\n",
    "- Making raw HTTP API requests\n",
    "- Using pre-packaged API client libraries\n",
    "- Practical considerations - Knowing API rules and coding to follow them, and performance\n",
    "- Example: OpenTripPlanner"
   ]
  },
  {
   "cell_type": "markdown",
   "metadata": {},
   "source": [
    "# Setup - Load Python packages\n",
    "\n",
    "- back to [Table of Contents](#Table-of-Contents)"
   ]
  },
  {
   "cell_type": "code",
   "execution_count": 1,
   "metadata": {
    "collapsed": true
   },
   "outputs": [],
   "source": [
    "## import Python packages ##\n",
    "import time # to convert time as needed and report how long some functions take\n",
    "\n",
    "# interacting with websites and web-APIs\n",
    "import requests # easy way to interact with web sites and services\n",
    "import json # read/write JavaScript Object Notation (JSON)\n",
    "from bs4 import BeautifulSoup\n",
    "\n",
    "# data manipulation\n",
    "import pandas as pd # easy data manipulation\n",
    "from pandas import DataFrame\n",
    "import numpy as np\n",
    "import math\n",
    "# import geopandas as gpd # geographic data manipulation\n",
    "# from geopandas.tools import sjoin, overlay # spatial join and overlay functions\n",
    "# from shapely.geometry import Point, LineString # to create lines from a list of points\n",
    "\n",
    "# visualization\n",
    "import matplotlib as mplib\n",
    "import matplotlib.pyplot as plt # visualization package\n",
    "\n",
    "# so images get plotted in the notebook\n",
    "%matplotlib inline"
   ]
  },
  {
   "cell_type": "code",
   "execution_count": 2,
   "metadata": {},
   "outputs": [
    {
     "name": "stdout",
     "output_type": "stream",
     "text": [
      "Package versions\n",
      "requests: 2.18.4\n",
      "json: 2.0.9\n",
      "pandas: 0.20.3\n",
      "matplotlib: 2.0.2\n"
     ]
    }
   ],
   "source": [
    "print(\"Package versions\")\n",
    "print(\"requests: {}\".format(requests.__version__))\n",
    "print(\"json: {}\".format(json.__version__))\n",
    "print(\"pandas: {}\".format(pd.__version__))\n",
    "print(\"matplotlib: {}\".format(mplib.__version__))"
   ]
  },
  {
   "cell_type": "markdown",
   "metadata": {},
   "source": [
    "# Using APIs\n",
    "\n",
    "- Back to the [Table of Contents](#Table-of-Contents)\n",
    "\n",
    "## API overview\n",
    "+ In general: APIs ([Application Programming Interfaces](https://en.wikipedia.org/wiki/Application_programming_interface)) are \"set[s] of subroutine definitions, protocols, and tools for building software and applications. A good API makes it easier to develop a program by providing all the building blocks, which are then put together by the programmer.\"\n",
    "+ Here we're looking at a **web-API**, a specific type of API which makes it easier to interact with some aspect of a website. In this course, we'll be using APIs to gether data in an automated way - like grabbing a bunch of prior tweets from Twitter. More generally, APIs can also be used to interact with websites in any way the API is designed to. For instance, you can post and delete tweets with Twitter's API, too.\n",
    "\n",
    "We're going to start getting our hands dirty with the various APIs of the OpenTrip Planner (OTP) software.\n",
    "\n",
    "## RESTful APIs\n",
    "\n",
    "The OTP APIs are what is called \"[RESTful](https://en.wikipedia.org/wiki/Representational_state_transfer)\" web services. REST stands for REpresentational State Transfer, but don't worry about the acronym so much as the idea. RESTful services adhere to a [series of requirements](https://www.restapitutorial/whatisrest.html) that enable them to be consistent, scalable, reliable, and relatively simple. RESTful APIs allow you to access a pre-defined set of operations through HTTP(S) requests. REST is fantastic because, in part, if you can generate the right URL, you'll always get the right response (this was not always the case with SOAP - the predecessor to REST).\n",
    "\n",
    "To use a RESTful API, we'll need to understand (1) how to properly format the request and (2) how to manage and make use of the response from the API. Below we will walk through these concepts while using some of OTP's web services.\n",
    "\n",
    "## PatentsView\n",
    "[PatentsView](http://http://www.patentsview.org/api/doc.html) is an a USPTO documnetation service that offers logitudinal data and metadata on patents, inventors, companies, and geographic locations. The API is organized around 7 endpoints. Here we'll explore:\n",
    "1. [Patents Endpoint](#Patents-Endpoint) - provides information about the different patents including application date, inventor, assignee;\n",
    "1. [Inventor Endpoint](#Inventors-Endpoint) - provides information about the different inventor including number of patents, location(s), co-authors;\n",
    "1. [Assignee Endpoint](#Assignee-Endpoint) - provides information about the different assignees including number of patents, location(s)."
   ]
  },
  {
   "cell_type": "code",
   "execution_count": 3,
   "metadata": {},
   "outputs": [
    {
     "name": "stdout",
     "output_type": "stream",
     "text": [
      "200\n"
     ]
    }
   ],
   "source": [
    "# base URL where OTP is installed - ennd point \"routers/\" simply lists information about the router\n",
    "base_url = \"http://www.patentsview.org/api/\"\n",
    "\n",
    "# Check connection (should be 200):\n",
    "response = requests.get(base_url)\n",
    "print(response.status_code)"
   ]
  },
  {
   "cell_type": "markdown",
   "metadata": {},
   "source": [
    "### Patents Endpoint\n",
    "\n",
    "- Back to the [Table of Contents](#Table-of-Contents)\n",
    "\n",
    "The Patents Endpoint of the PatentsView API provides access to general information about the different patents in the database. A full list of the fields and options is provided [here](http://www.patentsview.org/api/patent.html).\n",
    "\n",
    "Below, we add the `patents` endpoint to our base URL in order to explore the Patents API. We can then search for patents matching a query (`q`), return given fields (`f`), sorted by a sort-field (`s`), and using provided options (`o`).\n",
    "\n",
    "The combination of the endpoint, query, fields, sort, and options will return the requested patent information."
   ]
  },
  {
   "cell_type": "code",
   "execution_count": 4,
   "metadata": {
    "collapsed": true
   },
   "outputs": [],
   "source": [
    "# Define the Endpoint as Patents:\n",
    "endpoint = 'patents/'"
   ]
  },
  {
   "cell_type": "code",
   "execution_count": 5,
   "metadata": {},
   "outputs": [
    {
     "name": "stdout",
     "output_type": "stream",
     "text": [
      "{\"patents\":[{\"patent_title\":\"Nose cover\",\"inventors\":[{\"inventor_first_name\":\"Robert Gregory\",\"inventor_last_name\":\"Beliveau\",\"inventor_key_id\":\"2440583\"}]},{\"patent_title\":\"Video image display device and video image display method\",\"inventors\":[{\"inventor_first_name\":\"Tatsuhiko\",\"inventor_last_name\":\"Nobori\",\"inventor_key_id\":\"2322578\"}]}],\"count\":2,\"total_patent_count\":2}\n"
     ]
    }
   ],
   "source": [
    "# Let's search for patents 7861317 and 7965342 return inventor name:\n",
    "# Query:\n",
    "query = 'query?q={\"_or\":[{\"patent_number\":\"7861317\"},{\"patent_number\":\"7965342\"}]}'\n",
    "# Fields:\n",
    "fields = '&f=[\"inventor_first_name\",\"inventor_last_name\", \"patent_title\"]'\n",
    "# Sort:\n",
    "sort = ''\n",
    "# Options:\n",
    "options = ''\n",
    "\n",
    "url = base_url + endpoint + query + fields + sort + options\n",
    "\n",
    "# get query response from API\n",
    "response = requests.get(url)\n",
    "print(response.text)"
   ]
  },
  {
   "cell_type": "markdown",
   "metadata": {},
   "source": [
    "## JSON\n",
    "\n",
    "- Back to the [Table of Contents](#Table-of-Contents)\n",
    "\n",
    "[JSON](www.json.org) is a common non-tabular data format often used by services and software on the internet. We'll introduce JSON slowly, but it's helpful to know that it is oriented around the idea of `key-value` pairs. The `keys` refer to information about the data while the `values` is the data itself. For instance, if you were to translate a tabular dataset into JSON, the column names (and possibly row names/numbers) would become `keys`, while the data in the cells would become `values`. Our JSON response is a `dict` (dictionary), a Python object that we will describe below."
   ]
  },
  {
   "cell_type": "code",
   "execution_count": 6,
   "metadata": {},
   "outputs": [
    {
     "name": "stdout",
     "output_type": "stream",
     "text": [
      "<class 'dict'>\n"
     ]
    },
    {
     "data": {
      "text/plain": [
       "{'count': 2,\n",
       " 'patents': [{'inventors': [{'inventor_first_name': 'Robert Gregory',\n",
       "     'inventor_key_id': '2440583',\n",
       "     'inventor_last_name': 'Beliveau'}],\n",
       "   'patent_title': 'Nose cover'},\n",
       "  {'inventors': [{'inventor_first_name': 'Tatsuhiko',\n",
       "     'inventor_key_id': '2322578',\n",
       "     'inventor_last_name': 'Nobori'}],\n",
       "   'patent_title': 'Video image display device and video image display method'}],\n",
       " 'total_patent_count': 2}"
      ]
     },
     "execution_count": 6,
     "metadata": {},
     "output_type": "execute_result"
    }
   ],
   "source": [
    "# Convert text to a Python object using the 'json' package\n",
    "response = json.loads(response.text)\n",
    "\n",
    "# And now we have a Python list:\n",
    "print(type(response))\n",
    "response"
   ]
  },
  {
   "cell_type": "markdown",
   "metadata": {},
   "source": [
    "## Python Dictionary\n",
    "\n",
    "- Back to the [Table of Contents](#Table-of-Contents)\n",
    "\n",
    "The [dictionary](https://docs.python.org/3/tutorial/datastructures.html#dictionaries), or dict for short, is a common type of python object used to store sets of key-value pairs. Sound familiar? It should! Dictionaries are python's internal counterpart to JSON data.\n",
    "\n",
    "Here, we'll learn to grab data from within a dict by using the key name, following this syntax: `dict['key']`"
   ]
  },
  {
   "cell_type": "code",
   "execution_count": 7,
   "metadata": {},
   "outputs": [
    {
     "data": {
      "text/plain": [
       "[{'inventors': [{'inventor_first_name': 'Robert Gregory',\n",
       "    'inventor_key_id': '2440583',\n",
       "    'inventor_last_name': 'Beliveau'}],\n",
       "  'patent_title': 'Nose cover'},\n",
       " {'inventors': [{'inventor_first_name': 'Tatsuhiko',\n",
       "    'inventor_key_id': '2322578',\n",
       "    'inventor_last_name': 'Nobori'}],\n",
       "  'patent_title': 'Video image display device and video image display method'}]"
      ]
     },
     "execution_count": 7,
     "metadata": {},
     "output_type": "execute_result"
    }
   ],
   "source": [
    "patents = response['patents']\n",
    "patents"
   ]
  },
  {
   "cell_type": "code",
   "execution_count": 8,
   "metadata": {},
   "outputs": [
    {
     "name": "stdout",
     "output_type": "stream",
     "text": [
      "Nose cover\n"
     ]
    }
   ],
   "source": [
    "print(patents[0]['patent_title'])"
   ]
  },
  {
   "cell_type": "markdown",
   "metadata": {},
   "source": [
    "### Another Example: Querying all patents by Steve Jobs"
   ]
  },
  {
   "cell_type": "code",
   "execution_count": 9,
   "metadata": {
    "scrolled": false
   },
   "outputs": [
    {
     "name": "stdout",
     "output_type": "stream",
     "text": [
      "Dynamically changing appearances for user interface elements during drag-and-drop operations\n",
      "User interface for providing consolidation and access\n",
      "Electronic device\n",
      "Modal change based on orientation of a portable multifunction device\n",
      "Electronic device\n",
      "Electronic device\n",
      "Audio file interface\n",
      "Computer\n",
      "Mouse\n",
      "Remote motion control using a wireless mobile device\n",
      "Persistent group of media items for a media device\n",
      "Electronic device\n",
      "Portable display device with graphical user interface\n",
      "Portable computer\n",
      "Portable display device\n",
      "Portable multifunction device, method, and graphical user interface supporting user navigations of graphical objects on a touch screen display\n",
      "Touch screen device, method, and graphical user interface for customizing display of content category icons\n",
      "Electronic device\n",
      "Graphical user interface and methods of use thereof in a multimedia player\n",
      "Portable display device with graphical user interface\n",
      "Electronic device with graphical user interface\n",
      "Portable display device\n",
      "Power adapter\n",
      "Electronic device\n",
      "Portable display device with graphical user interface\n"
     ]
    }
   ],
   "source": [
    "# Let's search for all patent by Steve Jobs:\n",
    "# Query:\n",
    "query = 'query?q={\"_and\":[{\"inventor_last_name\":\"Jobs\"},{\"inventor_first_name\":\"Steve P.\"}]}'\n",
    "# Fields:\n",
    "fields = '&f=[\"inventor_first_name\",\"inventor_last_name\", \"patent_title\"]'\n",
    "# Sort:\n",
    "sort = '&s=[{\"patent_date\":\"desc\"}]'\n",
    "# Options:\n",
    "options = ''\n",
    "\n",
    "url = base_url + endpoint + query + fields + sort + options\n",
    "\n",
    "# get query response from API\n",
    "response = requests.get(url)\n",
    "# Convert response to text\n",
    "response = json.loads(response.text)\n",
    "\n",
    "# Grab Patent Title\n",
    "for i in range(len(response['patents'])):\n",
    "    print(response['patents'][i]['patent_title'])"
   ]
  },
  {
   "cell_type": "markdown",
   "metadata": {},
   "source": [
    "### Assignee Endpoint\n",
    "\n",
    "- Back to the [Table of Contents](#Table-of-Contents)\n",
    "\n",
    "The Assignee Endpoint of the PatentsView API provides access to general information about a given inventor in the database. A full list of the fields and options is provided [here](http://www.patentsview.org/api/assignee.html).\n",
    "\n",
    "Below, we add the `assignee` endpoint to our base URL in order to explore the Patents API. We can then search for patents matching a query (`q`), return given fields (`f`), sorted by a sort-field (`s`), and using provided options (`o`).\n",
    "\n",
    "The combination of the endpoint, query, fields, sort, and options will return the requested patent information."
   ]
  },
  {
   "cell_type": "code",
   "execution_count": 10,
   "metadata": {
    "collapsed": true
   },
   "outputs": [],
   "source": [
    "# Define the Endpoint as Patents:\n",
    "endpoint = 'assignees/'"
   ]
  },
  {
   "cell_type": "code",
   "execution_count": 11,
   "metadata": {},
   "outputs": [
    {
     "data": {
      "text/plain": [
       "{'assignees': [{'assignee_organization': 'Apple Inc.',\n",
       "   'assignee_total_num_patents': '14444'}],\n",
       " 'count': 1,\n",
       " 'total_assignee_count': 1}"
      ]
     },
     "execution_count": 11,
     "metadata": {},
     "output_type": "execute_result"
    }
   ],
   "source": [
    "# Let's search for assignee Apple, return inventor name:\n",
    "# Query:\n",
    "query = 'query?q={\"assignee_organization\":\"Apple Inc.\"}'\n",
    "# Fields:\n",
    "fields = '&f=[\"assignee_organization\",\"assignee_total_num_patents\"]'\n",
    "# Sort:\n",
    "sort = ''\n",
    "# Options:\n",
    "options = ''\n",
    "\n",
    "url = base_url + endpoint + query + fields + sort + options\n",
    "\n",
    "# get query response from API\n",
    "response = requests.get(url)\n",
    "# Convert response to text\n",
    "response = json.loads(response.text)\n",
    "\n",
    "response"
   ]
  },
  {
   "cell_type": "markdown",
   "metadata": {},
   "source": [
    "### Inventor Endpoint\n",
    "\n",
    "- Back to the [Table of Contents](#Table-of-Contents)\n",
    "\n",
    "The Inventor Endpoint of the PatentsView API provides access to general information about a given inventor in the database. A full list of the fields and options is provided [here](http://www.patentsview.org/api/assignee.html).\n",
    "\n",
    "Below, we add the `assignee` endpoint to our base URL in order to explore the Patents API. We can then search for patents matching a query (`q`), return given fields (`f`), sorted by a sort-field (`s`), and using provided options (`o`).\n",
    "\n",
    "The combination of the endpoint, query, fields, sort, and options will return the requested patent information."
   ]
  },
  {
   "cell_type": "code",
   "execution_count": 12,
   "metadata": {
    "collapsed": true
   },
   "outputs": [],
   "source": [
    "# Define the Endpoint as Patents:\n",
    "endpoint = 'inventors/'"
   ]
  },
  {
   "cell_type": "code",
   "execution_count": 40,
   "metadata": {},
   "outputs": [
    {
     "data": {
      "text/html": [
       "<div>\n",
       "<style>\n",
       "    .dataframe thead tr:only-child th {\n",
       "        text-align: right;\n",
       "    }\n",
       "\n",
       "    .dataframe thead th {\n",
       "        text-align: left;\n",
       "    }\n",
       "\n",
       "    .dataframe tbody tr th {\n",
       "        vertical-align: top;\n",
       "    }\n",
       "</style>\n",
       "<table border=\"1\" class=\"dataframe\">\n",
       "  <thead>\n",
       "    <tr style=\"text-align: right;\">\n",
       "      <th></th>\n",
       "      <th>coinventor_first_name</th>\n",
       "      <th>coinventor_last_name</th>\n",
       "      <th>coinventor_num_patents_for_inventor</th>\n",
       "    </tr>\n",
       "  </thead>\n",
       "  <tbody>\n",
       "    <tr>\n",
       "      <th>0</th>\n",
       "      <td>Jonathan P.</td>\n",
       "      <td>Ive</td>\n",
       "      <td>392</td>\n",
       "    </tr>\n",
       "    <tr>\n",
       "      <th>1</th>\n",
       "      <td>Christopher J.</td>\n",
       "      <td>Stringer</td>\n",
       "      <td>388</td>\n",
       "    </tr>\n",
       "    <tr>\n",
       "      <th>2</th>\n",
       "      <td>Bartley K.</td>\n",
       "      <td>Andre</td>\n",
       "      <td>384</td>\n",
       "    </tr>\n",
       "    <tr>\n",
       "      <th>3</th>\n",
       "      <td>Richard P.</td>\n",
       "      <td>Howarth</td>\n",
       "      <td>376</td>\n",
       "    </tr>\n",
       "    <tr>\n",
       "      <th>4</th>\n",
       "      <td>Daniel J.</td>\n",
       "      <td>Coster</td>\n",
       "      <td>376</td>\n",
       "    </tr>\n",
       "    <tr>\n",
       "      <th>5</th>\n",
       "      <td>Matthew Dean</td>\n",
       "      <td>Rohrbach</td>\n",
       "      <td>371</td>\n",
       "    </tr>\n",
       "    <tr>\n",
       "      <th>6</th>\n",
       "      <td>Daniele G.</td>\n",
       "      <td>De Iuliis</td>\n",
       "      <td>370</td>\n",
       "    </tr>\n",
       "    <tr>\n",
       "      <th>7</th>\n",
       "      <td>Duncan Robert</td>\n",
       "      <td>Kerr</td>\n",
       "      <td>369</td>\n",
       "    </tr>\n",
       "    <tr>\n",
       "      <th>8</th>\n",
       "      <td>Eugene Antony</td>\n",
       "      <td>Whang</td>\n",
       "      <td>368</td>\n",
       "    </tr>\n",
       "    <tr>\n",
       "      <th>9</th>\n",
       "      <td>Shin</td>\n",
       "      <td>Nishibori</td>\n",
       "      <td>342</td>\n",
       "    </tr>\n",
       "  </tbody>\n",
       "</table>\n",
       "</div>"
      ],
      "text/plain": [
       "  coinventor_first_name coinventor_last_name  \\\n",
       "0           Jonathan P.                  Ive   \n",
       "1        Christopher J.             Stringer   \n",
       "2            Bartley K.                Andre   \n",
       "3            Richard P.              Howarth   \n",
       "4             Daniel J.               Coster   \n",
       "5          Matthew Dean             Rohrbach   \n",
       "6            Daniele G.            De Iuliis   \n",
       "7         Duncan Robert                 Kerr   \n",
       "8         Eugene Antony                Whang   \n",
       "9                  Shin            Nishibori   \n",
       "\n",
       "   coinventor_num_patents_for_inventor  \n",
       "0                                  392  \n",
       "1                                  388  \n",
       "2                                  384  \n",
       "3                                  376  \n",
       "4                                  376  \n",
       "5                                  371  \n",
       "6                                  370  \n",
       "7                                  369  \n",
       "8                                  368  \n",
       "9                                  342  "
      ]
     },
     "execution_count": 40,
     "metadata": {},
     "output_type": "execute_result"
    }
   ],
   "source": [
    "# Let's search for Steve Jobs patents, return the most frequent co-author names:\n",
    "# Query:\n",
    "query = 'query?q={\"_and\":[{\"inventor_last_name\":\"Jobs\"},{\"inventor_first_name\":\"Steve P.\"}]}'\n",
    "# Fields:\n",
    "fields = '&f=[\"coinventor_last_name\",\"coinventor_first_name\",\"coinventor_num_patents_for_inventor\"]'\n",
    "# Sort:\n",
    "sort = ''\n",
    "# Options:\n",
    "options = '&o={\"per_page\":1000}'\n",
    "\n",
    "url = base_url + endpoint + query + fields + sort + options\n",
    "\n",
    "# get query response from API\n",
    "response = requests.get(url)\n",
    "# Convert response to text\n",
    "response = json.loads(response.text)\n",
    "# Convert to dataframe and sort\n",
    "co_inventor = pd.DataFrame(response['inventors'][0]['coinventors'])\n",
    "del co_inventor['coinventor_key_id']\n",
    "co_inventor['coinventor_num_patents_for_inventor'] = pd.to_numeric(co_inventor['coinventor_num_patents_for_inventor'])\n",
    "co_inventor.sort_values('coinventor_num_patents_for_inventor', ascending = False).reset_index(drop = True).head(10)"
   ]
  },
  {
   "cell_type": "code",
   "execution_count": null,
   "metadata": {
    "collapsed": true
   },
   "outputs": [],
   "source": []
  },
  {
   "cell_type": "code",
   "execution_count": null,
   "metadata": {
    "collapsed": true
   },
   "outputs": [],
   "source": []
  },
  {
   "cell_type": "code",
   "execution_count": null,
   "metadata": {
    "collapsed": true
   },
   "outputs": [],
   "source": []
  },
  {
   "cell_type": "markdown",
   "metadata": {
    "collapsed": true
   },
   "source": [
    "## Exercise\n",
    "\n",
    "Using the PatentsView API, let's get all patent descriptions for the patents that we found assigned to KCMO businesses."
   ]
  },
  {
   "cell_type": "code",
   "execution_count": 41,
   "metadata": {},
   "outputs": [
    {
     "name": "stderr",
     "output_type": "stream",
     "text": [
      "/Users/nj995/anaconda3/lib/python3.6/site-packages/IPython/core/interactiveshell.py:2698: DtypeWarning: Columns (1) have mixed types. Specify dtype option on import or set low_memory=False.\n",
      "  interactivity=interactivity, compiler=compiler, result=result)\n"
     ]
    }
   ],
   "source": [
    "business_patents = pd.read_csv('../../output/business_patents.csv')"
   ]
  },
  {
   "cell_type": "code",
   "execution_count": 42,
   "metadata": {},
   "outputs": [
    {
     "data": {
      "text/html": [
       "<div>\n",
       "<style>\n",
       "    .dataframe thead tr:only-child th {\n",
       "        text-align: right;\n",
       "    }\n",
       "\n",
       "    .dataframe thead th {\n",
       "        text-align: left;\n",
       "    }\n",
       "\n",
       "    .dataframe tbody tr th {\n",
       "        vertical-align: top;\n",
       "    }\n",
       "</style>\n",
       "<table border=\"1\" class=\"dataframe\">\n",
       "  <thead>\n",
       "    <tr style=\"text-align: right;\">\n",
       "      <th></th>\n",
       "      <th>business_name</th>\n",
       "      <th>dba_name</th>\n",
       "      <th>business_activity</th>\n",
       "      <th>address</th>\n",
       "      <th>filing_period</th>\n",
       "      <th>zipcode</th>\n",
       "      <th>patent_number</th>\n",
       "      <th>date</th>\n",
       "    </tr>\n",
       "  </thead>\n",
       "  <tbody>\n",
       "    <tr>\n",
       "      <th>0</th>\n",
       "      <td>STATHOPOULOS INC</td>\n",
       "      <td>NaN</td>\n",
       "      <td>Consumer Lending</td>\n",
       "      <td>6005 NW 104TH TER KANSAS CITY MO 64154-1792</td>\n",
       "      <td>12/31/13</td>\n",
       "      <td>64154.0</td>\n",
       "      <td>NaN</td>\n",
       "      <td>NaN</td>\n",
       "    </tr>\n",
       "    <tr>\n",
       "      <th>1</th>\n",
       "      <td>STATHOPOULOS INC</td>\n",
       "      <td>NaN</td>\n",
       "      <td>Consumer Lending</td>\n",
       "      <td>6005 NW 104TH TER KANSAS CITY MO 64154-1792</td>\n",
       "      <td>12/31/14</td>\n",
       "      <td>64154.0</td>\n",
       "      <td>NaN</td>\n",
       "      <td>NaN</td>\n",
       "    </tr>\n",
       "    <tr>\n",
       "      <th>2</th>\n",
       "      <td>COMPALLIANCE LLC</td>\n",
       "      <td>NaN</td>\n",
       "      <td>Temporary Help Services</td>\n",
       "      <td>6700 ANTIOCH RD STE 460 MERRIAM KS 66204-1200</td>\n",
       "      <td>12/31/16</td>\n",
       "      <td>66204.0</td>\n",
       "      <td>NaN</td>\n",
       "      <td>NaN</td>\n",
       "    </tr>\n",
       "    <tr>\n",
       "      <th>3</th>\n",
       "      <td>COMPALLIANCE LLC</td>\n",
       "      <td>NaN</td>\n",
       "      <td>Temporary Help Services</td>\n",
       "      <td>6700 ANTIOCH RD STE 460 MERRIAM KS 66204-1200</td>\n",
       "      <td>12/31/17</td>\n",
       "      <td>66204.0</td>\n",
       "      <td>NaN</td>\n",
       "      <td>NaN</td>\n",
       "    </tr>\n",
       "    <tr>\n",
       "      <th>4</th>\n",
       "      <td>COMPALLIANCE LLC</td>\n",
       "      <td>NaN</td>\n",
       "      <td>Temporary Help Services</td>\n",
       "      <td>6700 ANTIOCH RD STE 460 MERRIAM KS 66204-1200</td>\n",
       "      <td>12/31/13</td>\n",
       "      <td>66204.0</td>\n",
       "      <td>NaN</td>\n",
       "      <td>NaN</td>\n",
       "    </tr>\n",
       "    <tr>\n",
       "      <th>5</th>\n",
       "      <td>COMPALLIANCE LLC</td>\n",
       "      <td>NaN</td>\n",
       "      <td>Temporary Help Services</td>\n",
       "      <td>6700 ANTIOCH RD STE 460 MERRIAM KS 66204-1200</td>\n",
       "      <td>12/31/14</td>\n",
       "      <td>66204.0</td>\n",
       "      <td>NaN</td>\n",
       "      <td>NaN</td>\n",
       "    </tr>\n",
       "    <tr>\n",
       "      <th>6</th>\n",
       "      <td>COMPALLIANCE LLC</td>\n",
       "      <td>NaN</td>\n",
       "      <td>Temporary Help Services</td>\n",
       "      <td>6700 ANTIOCH RD STE 460 MERRIAM KS 66204-1200</td>\n",
       "      <td>12/31/15</td>\n",
       "      <td>66204.0</td>\n",
       "      <td>NaN</td>\n",
       "      <td>NaN</td>\n",
       "    </tr>\n",
       "    <tr>\n",
       "      <th>7</th>\n",
       "      <td>JERRY F ROXAS</td>\n",
       "      <td>NaN</td>\n",
       "      <td>Limousine Service</td>\n",
       "      <td>3852 N BENNINGTON AVE KANSAS CITY MO 64117-7800</td>\n",
       "      <td>12/31/16</td>\n",
       "      <td>64117.0</td>\n",
       "      <td>NaN</td>\n",
       "      <td>NaN</td>\n",
       "    </tr>\n",
       "    <tr>\n",
       "      <th>8</th>\n",
       "      <td>JERRY F ROXAS</td>\n",
       "      <td>NaN</td>\n",
       "      <td>Limousine Service</td>\n",
       "      <td>3852 N BENNINGTON AVE KANSAS CITY MO 64117-7800</td>\n",
       "      <td>12/31/17</td>\n",
       "      <td>64117.0</td>\n",
       "      <td>NaN</td>\n",
       "      <td>NaN</td>\n",
       "    </tr>\n",
       "    <tr>\n",
       "      <th>9</th>\n",
       "      <td>BEACON HILL STUDENT HOUSING DEVELOPMENT</td>\n",
       "      <td>NaN</td>\n",
       "      <td>Administration of Housing Programs</td>\n",
       "      <td>PO BOX 411299 KANSAS CITY MO 64141-1299</td>\n",
       "      <td>12/31/14</td>\n",
       "      <td>41129.0</td>\n",
       "      <td>NaN</td>\n",
       "      <td>NaN</td>\n",
       "    </tr>\n",
       "    <tr>\n",
       "      <th>10</th>\n",
       "      <td>BEACON HILL STUDENT HOUSING DEVELOPMENT</td>\n",
       "      <td>NaN</td>\n",
       "      <td>Administration of Housing Programs</td>\n",
       "      <td>PO BOX 411299 KANSAS CITY MO 64141-1299</td>\n",
       "      <td>12/31/15</td>\n",
       "      <td>41129.0</td>\n",
       "      <td>NaN</td>\n",
       "      <td>NaN</td>\n",
       "    </tr>\n",
       "    <tr>\n",
       "      <th>11</th>\n",
       "      <td>JERRY HUMPERT</td>\n",
       "      <td>BEST WAY HEATING &amp; COOLING</td>\n",
       "      <td>Commercial and Institutional Building Construc...</td>\n",
       "      <td>2630 N 64TH TER KANSAS CITY KS 66104-2613</td>\n",
       "      <td>12/31/15</td>\n",
       "      <td>66104.0</td>\n",
       "      <td>NaN</td>\n",
       "      <td>NaN</td>\n",
       "    </tr>\n",
       "    <tr>\n",
       "      <th>12</th>\n",
       "      <td>JERRY HUMPERT</td>\n",
       "      <td>BEST WAY HEATING &amp; COOLING</td>\n",
       "      <td>Commercial and Institutional Building Construc...</td>\n",
       "      <td>2630 N 64TH TER KANSAS CITY KS 66104-2613</td>\n",
       "      <td>12/31/16</td>\n",
       "      <td>66104.0</td>\n",
       "      <td>NaN</td>\n",
       "      <td>NaN</td>\n",
       "    </tr>\n",
       "    <tr>\n",
       "      <th>13</th>\n",
       "      <td>JERRY HUMPERT</td>\n",
       "      <td>BEST WAY HEATING &amp; COOLING</td>\n",
       "      <td>Commercial and Institutional Building Construc...</td>\n",
       "      <td>2630 N 64TH TER KANSAS CITY KS 66104-2613</td>\n",
       "      <td>12/31/17</td>\n",
       "      <td>66104.0</td>\n",
       "      <td>NaN</td>\n",
       "      <td>NaN</td>\n",
       "    </tr>\n",
       "    <tr>\n",
       "      <th>14</th>\n",
       "      <td>JERRY HUMPERT</td>\n",
       "      <td>BEST WAY HEATING &amp; COOLING</td>\n",
       "      <td>Commercial and Institutional Building Construc...</td>\n",
       "      <td>2630 N 64TH TER KANSAS CITY KS 66104-2613</td>\n",
       "      <td>12/31/13</td>\n",
       "      <td>66104.0</td>\n",
       "      <td>NaN</td>\n",
       "      <td>NaN</td>\n",
       "    </tr>\n",
       "    <tr>\n",
       "      <th>15</th>\n",
       "      <td>JERRY HUMPERT</td>\n",
       "      <td>BEST WAY HEATING &amp; COOLING</td>\n",
       "      <td>Commercial and Institutional Building Construc...</td>\n",
       "      <td>2630 N 64TH TER KANSAS CITY KS 66104-2613</td>\n",
       "      <td>12/31/14</td>\n",
       "      <td>66104.0</td>\n",
       "      <td>NaN</td>\n",
       "      <td>NaN</td>\n",
       "    </tr>\n",
       "    <tr>\n",
       "      <th>16</th>\n",
       "      <td>ANSIRA PARTNERS INC</td>\n",
       "      <td>NaN</td>\n",
       "      <td>Marketing Consulting Services</td>\n",
       "      <td>2300 LOCUST ST SAINT LOUIS MO 63103-1512</td>\n",
       "      <td>12/31/16</td>\n",
       "      <td>63103.0</td>\n",
       "      <td>NaN</td>\n",
       "      <td>NaN</td>\n",
       "    </tr>\n",
       "    <tr>\n",
       "      <th>17</th>\n",
       "      <td>ANSIRA PARTNERS INC</td>\n",
       "      <td>NaN</td>\n",
       "      <td>Marketing Consulting Services</td>\n",
       "      <td>2300 LOCUST ST SAINT LOUIS MO 63103-1512</td>\n",
       "      <td>12/31/17</td>\n",
       "      <td>63103.0</td>\n",
       "      <td>NaN</td>\n",
       "      <td>NaN</td>\n",
       "    </tr>\n",
       "    <tr>\n",
       "      <th>18</th>\n",
       "      <td>ANSIRA PARTNERS INC</td>\n",
       "      <td>NaN</td>\n",
       "      <td>Marketing Consulting Services</td>\n",
       "      <td>2300 LOCUST ST SAINT LOUIS MO 63103-1512</td>\n",
       "      <td>12/31/18</td>\n",
       "      <td>63103.0</td>\n",
       "      <td>NaN</td>\n",
       "      <td>NaN</td>\n",
       "    </tr>\n",
       "    <tr>\n",
       "      <th>19</th>\n",
       "      <td>CARLOS AVILA</td>\n",
       "      <td>NaN</td>\n",
       "      <td>Limousine Service</td>\n",
       "      <td>4721 BOND ST SHAWNEE KS 66203-1033</td>\n",
       "      <td>12/31/16</td>\n",
       "      <td>66203.0</td>\n",
       "      <td>NaN</td>\n",
       "      <td>NaN</td>\n",
       "    </tr>\n",
       "    <tr>\n",
       "      <th>20</th>\n",
       "      <td>TAMPA BAY RAYS</td>\n",
       "      <td>TAMPA BAY RAYS</td>\n",
       "      <td>Sports Teams and Clubs</td>\n",
       "      <td>1 TROPICANA DR SAINT PETERSBURG FL 33705-1703</td>\n",
       "      <td>12/31/13</td>\n",
       "      <td>33705.0</td>\n",
       "      <td>NaN</td>\n",
       "      <td>NaN</td>\n",
       "    </tr>\n",
       "    <tr>\n",
       "      <th>21</th>\n",
       "      <td>TAMPA BAY RAYS</td>\n",
       "      <td>TAMPA BAY RAYS</td>\n",
       "      <td>Sports Teams and Clubs</td>\n",
       "      <td>1 TROPICANA DR SAINT PETERSBURG FL 33705-1703</td>\n",
       "      <td>12/31/14</td>\n",
       "      <td>33705.0</td>\n",
       "      <td>NaN</td>\n",
       "      <td>NaN</td>\n",
       "    </tr>\n",
       "    <tr>\n",
       "      <th>22</th>\n",
       "      <td>TAMPA BAY RAYS</td>\n",
       "      <td>TAMPA BAY RAYS</td>\n",
       "      <td>Sports Teams and Clubs</td>\n",
       "      <td>1 TROPICANA DR SAINT PETERSBURG FL 33705-1703</td>\n",
       "      <td>12/31/15</td>\n",
       "      <td>33705.0</td>\n",
       "      <td>NaN</td>\n",
       "      <td>NaN</td>\n",
       "    </tr>\n",
       "    <tr>\n",
       "      <th>23</th>\n",
       "      <td>TAMPA BAY RAYS</td>\n",
       "      <td>TAMPA BAY RAYS</td>\n",
       "      <td>Sports Teams and Clubs</td>\n",
       "      <td>1 TROPICANA DR SAINT PETERSBURG FL 33705-1703</td>\n",
       "      <td>12/31/16</td>\n",
       "      <td>33705.0</td>\n",
       "      <td>NaN</td>\n",
       "      <td>NaN</td>\n",
       "    </tr>\n",
       "    <tr>\n",
       "      <th>24</th>\n",
       "      <td>TAMPA BAY RAYS</td>\n",
       "      <td>TAMPA BAY RAYS</td>\n",
       "      <td>Sports Teams and Clubs</td>\n",
       "      <td>1 TROPICANA DR SAINT PETERSBURG FL 33705-1703</td>\n",
       "      <td>12/31/17</td>\n",
       "      <td>33705.0</td>\n",
       "      <td>NaN</td>\n",
       "      <td>NaN</td>\n",
       "    </tr>\n",
       "    <tr>\n",
       "      <th>25</th>\n",
       "      <td>WRIGHT  GLORIA J</td>\n",
       "      <td>URBANESS SALON</td>\n",
       "      <td>Beauty Salons</td>\n",
       "      <td>5150 ARARAT DR KANSAS CITY MO 64129-1917</td>\n",
       "      <td>12/31/13</td>\n",
       "      <td>64129.0</td>\n",
       "      <td>NaN</td>\n",
       "      <td>NaN</td>\n",
       "    </tr>\n",
       "    <tr>\n",
       "      <th>26</th>\n",
       "      <td>MOTHER EARTH COFFEE CO TWO LLC</td>\n",
       "      <td>MOTHER EARTH CAFE</td>\n",
       "      <td>All Other Miscellaneous Store Retailers (excep...</td>\n",
       "      <td>3504 GILHAM RD KANSAS CITY MO 64111-1245</td>\n",
       "      <td>12/31/17</td>\n",
       "      <td>64111.0</td>\n",
       "      <td>NaN</td>\n",
       "      <td>NaN</td>\n",
       "    </tr>\n",
       "    <tr>\n",
       "      <th>27</th>\n",
       "      <td>TALAL ALHYASAT</td>\n",
       "      <td>T AUTO SALE AND SERVICE LLC</td>\n",
       "      <td>Used Car Dealers</td>\n",
       "      <td>11410 HICKMAN MILLS DR KANSAS CITY MO 64134-4207</td>\n",
       "      <td>12/31/16</td>\n",
       "      <td>11410.0</td>\n",
       "      <td>NaN</td>\n",
       "      <td>NaN</td>\n",
       "    </tr>\n",
       "    <tr>\n",
       "      <th>28</th>\n",
       "      <td>TALAL ALHYASAT</td>\n",
       "      <td>T AUTO SALE AND SERVICE LLC</td>\n",
       "      <td>Used Car Dealers</td>\n",
       "      <td>11410 HICKMAN MILLS DR KANSAS CITY MO 64134-4207</td>\n",
       "      <td>12/31/17</td>\n",
       "      <td>11410.0</td>\n",
       "      <td>NaN</td>\n",
       "      <td>NaN</td>\n",
       "    </tr>\n",
       "    <tr>\n",
       "      <th>29</th>\n",
       "      <td>J1S PROPERTIES LLC</td>\n",
       "      <td>NaN</td>\n",
       "      <td>Lessors of Other Real Estate Property</td>\n",
       "      <td>1423 CROSS CREEK DR RAYMORE MO 64083-9671</td>\n",
       "      <td>12/31/14</td>\n",
       "      <td>64083.0</td>\n",
       "      <td>NaN</td>\n",
       "      <td>NaN</td>\n",
       "    </tr>\n",
       "    <tr>\n",
       "      <th>...</th>\n",
       "      <td>...</td>\n",
       "      <td>...</td>\n",
       "      <td>...</td>\n",
       "      <td>...</td>\n",
       "      <td>...</td>\n",
       "      <td>...</td>\n",
       "      <td>...</td>\n",
       "      <td>...</td>\n",
       "    </tr>\n",
       "    <tr>\n",
       "      <th>1347416</th>\n",
       "      <td>MIDLAND CONSTRUCTION LLC</td>\n",
       "      <td>NaN</td>\n",
       "      <td>Commercial and Institutional Building Construc...</td>\n",
       "      <td>PO BOX 517 LIBERTY MO 64069-0517</td>\n",
       "      <td>12/31/14</td>\n",
       "      <td>64069.0</td>\n",
       "      <td>NaN</td>\n",
       "      <td>NaN</td>\n",
       "    </tr>\n",
       "    <tr>\n",
       "      <th>1347417</th>\n",
       "      <td>MIDLAND CONSTRUCTION LLC</td>\n",
       "      <td>NaN</td>\n",
       "      <td>Commercial and Institutional Building Construc...</td>\n",
       "      <td>PO BOX 517 LIBERTY MO 64069-0517</td>\n",
       "      <td>12/31/15</td>\n",
       "      <td>64069.0</td>\n",
       "      <td>NaN</td>\n",
       "      <td>NaN</td>\n",
       "    </tr>\n",
       "    <tr>\n",
       "      <th>1347418</th>\n",
       "      <td>MIDLAND CONSTRUCTION LLC</td>\n",
       "      <td>NaN</td>\n",
       "      <td>Commercial and Institutional Building Construc...</td>\n",
       "      <td>PO BOX 517 LIBERTY MO 64069-0517</td>\n",
       "      <td>12/31/16</td>\n",
       "      <td>64069.0</td>\n",
       "      <td>NaN</td>\n",
       "      <td>NaN</td>\n",
       "    </tr>\n",
       "    <tr>\n",
       "      <th>1347419</th>\n",
       "      <td>MIDLAND CONSTRUCTION LLC</td>\n",
       "      <td>NaN</td>\n",
       "      <td>Commercial and Institutional Building Construc...</td>\n",
       "      <td>PO BOX 517 LIBERTY MO 64069-0517</td>\n",
       "      <td>12/31/17</td>\n",
       "      <td>64069.0</td>\n",
       "      <td>NaN</td>\n",
       "      <td>NaN</td>\n",
       "    </tr>\n",
       "    <tr>\n",
       "      <th>1347420</th>\n",
       "      <td>MIDLAND CONSTRUCTION LLC</td>\n",
       "      <td>NaN</td>\n",
       "      <td>Commercial and Institutional Building Construc...</td>\n",
       "      <td>PO BOX 517 LIBERTY MO 64069-0517</td>\n",
       "      <td>12/31/13</td>\n",
       "      <td>64069.0</td>\n",
       "      <td>NaN</td>\n",
       "      <td>NaN</td>\n",
       "    </tr>\n",
       "    <tr>\n",
       "      <th>1347421</th>\n",
       "      <td>MHAMDI  SAID</td>\n",
       "      <td>NaN</td>\n",
       "      <td>Limousine Service</td>\n",
       "      <td>3151 W 46TH AVE KANSAS CITY KS 66103-2715</td>\n",
       "      <td>12/31/17</td>\n",
       "      <td>66103.0</td>\n",
       "      <td>NaN</td>\n",
       "      <td>NaN</td>\n",
       "    </tr>\n",
       "    <tr>\n",
       "      <th>1347422</th>\n",
       "      <td>MHAMDI  SAID</td>\n",
       "      <td>NaN</td>\n",
       "      <td>Limousine Service</td>\n",
       "      <td>3151 W 46TH AVE KANSAS CITY KS 66103-2715</td>\n",
       "      <td>12/31/15</td>\n",
       "      <td>66103.0</td>\n",
       "      <td>NaN</td>\n",
       "      <td>NaN</td>\n",
       "    </tr>\n",
       "    <tr>\n",
       "      <th>1347423</th>\n",
       "      <td>MHAMDI  SAID</td>\n",
       "      <td>NaN</td>\n",
       "      <td>Limousine Service</td>\n",
       "      <td>3151 W 46TH AVE KANSAS CITY KS 66103-2715</td>\n",
       "      <td>12/31/15</td>\n",
       "      <td>66103.0</td>\n",
       "      <td>NaN</td>\n",
       "      <td>NaN</td>\n",
       "    </tr>\n",
       "    <tr>\n",
       "      <th>1347424</th>\n",
       "      <td>MHAMDI  SAID</td>\n",
       "      <td>NaN</td>\n",
       "      <td>Limousine Service</td>\n",
       "      <td>3151 W 46TH AVE KANSAS CITY KS 66103-2715</td>\n",
       "      <td>12/31/16</td>\n",
       "      <td>66103.0</td>\n",
       "      <td>NaN</td>\n",
       "      <td>NaN</td>\n",
       "    </tr>\n",
       "    <tr>\n",
       "      <th>1347425</th>\n",
       "      <td>PEPPERIDGE FARM INC</td>\n",
       "      <td>PEPPERIDGE FARM INCORPORATED</td>\n",
       "      <td>General Line Grocery Merchant Wholesalers</td>\n",
       "      <td>6301 WINCHESTER AVE STE 30 KANSAS CITY MO 6413...</td>\n",
       "      <td>12/31/13</td>\n",
       "      <td>64133.0</td>\n",
       "      <td>NaN</td>\n",
       "      <td>NaN</td>\n",
       "    </tr>\n",
       "    <tr>\n",
       "      <th>1347426</th>\n",
       "      <td>PEPPERIDGE FARM INC</td>\n",
       "      <td>PEPPERIDGE FARM INCORPORATED</td>\n",
       "      <td>General Line Grocery Merchant Wholesalers</td>\n",
       "      <td>6301 WINCHESTER AVE STE 30 KANSAS CITY MO 6413...</td>\n",
       "      <td>12/31/14</td>\n",
       "      <td>64133.0</td>\n",
       "      <td>NaN</td>\n",
       "      <td>NaN</td>\n",
       "    </tr>\n",
       "    <tr>\n",
       "      <th>1347427</th>\n",
       "      <td>PEPPERIDGE FARM INC</td>\n",
       "      <td>PEPPERIDGE FARM INCORPORATED</td>\n",
       "      <td>General Line Grocery Merchant Wholesalers</td>\n",
       "      <td>6301 WINCHESTER AVE STE 30 KANSAS CITY MO 6413...</td>\n",
       "      <td>12/31/15</td>\n",
       "      <td>64133.0</td>\n",
       "      <td>NaN</td>\n",
       "      <td>NaN</td>\n",
       "    </tr>\n",
       "    <tr>\n",
       "      <th>1347428</th>\n",
       "      <td>PEPPERIDGE FARM INC</td>\n",
       "      <td>PEPPERIDGE FARM INCORPORATED</td>\n",
       "      <td>General Line Grocery Merchant Wholesalers</td>\n",
       "      <td>6301 WINCHESTER AVE STE 30 KANSAS CITY MO 6413...</td>\n",
       "      <td>12/31/16</td>\n",
       "      <td>64133.0</td>\n",
       "      <td>NaN</td>\n",
       "      <td>NaN</td>\n",
       "    </tr>\n",
       "    <tr>\n",
       "      <th>1347429</th>\n",
       "      <td>PEPPERIDGE FARM INC</td>\n",
       "      <td>PEPPERIDGE FARM INCORPORATED</td>\n",
       "      <td>General Line Grocery Merchant Wholesalers</td>\n",
       "      <td>6301 WINCHESTER AVE STE 30 KANSAS CITY MO 6413...</td>\n",
       "      <td>12/31/17</td>\n",
       "      <td>64133.0</td>\n",
       "      <td>NaN</td>\n",
       "      <td>NaN</td>\n",
       "    </tr>\n",
       "    <tr>\n",
       "      <th>1347430</th>\n",
       "      <td>ALHAKEEM GUERRERO</td>\n",
       "      <td>NaN</td>\n",
       "      <td>Supermarkets and Other Grocery (except Conveni...</td>\n",
       "      <td>4440 SAINT JOHN AVE KANSAS CITY MO 64123-1738</td>\n",
       "      <td>12/31/16</td>\n",
       "      <td>64123.0</td>\n",
       "      <td>NaN</td>\n",
       "      <td>NaN</td>\n",
       "    </tr>\n",
       "    <tr>\n",
       "      <th>1347431</th>\n",
       "      <td>ALHAKEEM GUERRERO</td>\n",
       "      <td>NaN</td>\n",
       "      <td>Supermarkets and Other Grocery (except Conveni...</td>\n",
       "      <td>4440 SAINT JOHN AVE KANSAS CITY MO 64123-1738</td>\n",
       "      <td>12/31/17</td>\n",
       "      <td>64123.0</td>\n",
       "      <td>NaN</td>\n",
       "      <td>NaN</td>\n",
       "    </tr>\n",
       "    <tr>\n",
       "      <th>1347432</th>\n",
       "      <td>ALHAKEEM GUERRERO</td>\n",
       "      <td>NaN</td>\n",
       "      <td>Supermarkets and Other Grocery (except Conveni...</td>\n",
       "      <td>4440 SAINT JOHN AVE KANSAS CITY MO 64123-1738</td>\n",
       "      <td>12/31/14</td>\n",
       "      <td>64123.0</td>\n",
       "      <td>NaN</td>\n",
       "      <td>NaN</td>\n",
       "    </tr>\n",
       "    <tr>\n",
       "      <th>1347433</th>\n",
       "      <td>ALHAKEEM GUERRERO</td>\n",
       "      <td>NaN</td>\n",
       "      <td>Supermarkets and Other Grocery (except Conveni...</td>\n",
       "      <td>4440 SAINT JOHN AVE KANSAS CITY MO 64123-1738</td>\n",
       "      <td>12/31/15</td>\n",
       "      <td>64123.0</td>\n",
       "      <td>NaN</td>\n",
       "      <td>NaN</td>\n",
       "    </tr>\n",
       "    <tr>\n",
       "      <th>1347434</th>\n",
       "      <td>LORENZO BOLES</td>\n",
       "      <td>HOG LIFE ACCESSORIES &amp; WHEELS LLC</td>\n",
       "      <td>All Other Miscellaneous Store Retailers (excep...</td>\n",
       "      <td>2515 SWOPE PKWY KANSAS CITY MO 64130-2642</td>\n",
       "      <td>12/31/14</td>\n",
       "      <td>64130.0</td>\n",
       "      <td>NaN</td>\n",
       "      <td>NaN</td>\n",
       "    </tr>\n",
       "    <tr>\n",
       "      <th>1347435</th>\n",
       "      <td>LORENZO BOLES</td>\n",
       "      <td>HOG LIFE ACCESSORIES &amp; WHEELS LLC</td>\n",
       "      <td>All Other Miscellaneous Store Retailers (excep...</td>\n",
       "      <td>2515 SWOPE PKWY KANSAS CITY MO 64130-2642</td>\n",
       "      <td>12/31/15</td>\n",
       "      <td>64130.0</td>\n",
       "      <td>NaN</td>\n",
       "      <td>NaN</td>\n",
       "    </tr>\n",
       "    <tr>\n",
       "      <th>1347436</th>\n",
       "      <td>LORENZO BOLES</td>\n",
       "      <td>HOG LIFE ACCESSORIES &amp; WHEELS LLC</td>\n",
       "      <td>All Other Miscellaneous Store Retailers (excep...</td>\n",
       "      <td>2515 SWOPE PKWY KANSAS CITY MO 64130-2642</td>\n",
       "      <td>12/31/16</td>\n",
       "      <td>64130.0</td>\n",
       "      <td>NaN</td>\n",
       "      <td>NaN</td>\n",
       "    </tr>\n",
       "    <tr>\n",
       "      <th>1347437</th>\n",
       "      <td>LORENZO BOLES</td>\n",
       "      <td>HOG LIFE ACCESSORIES &amp; WHEELS LLC</td>\n",
       "      <td>All Other Miscellaneous Store Retailers (excep...</td>\n",
       "      <td>2515 SWOPE PKWY KANSAS CITY MO 64130-2642</td>\n",
       "      <td>12/31/17</td>\n",
       "      <td>64130.0</td>\n",
       "      <td>NaN</td>\n",
       "      <td>NaN</td>\n",
       "    </tr>\n",
       "    <tr>\n",
       "      <th>1347438</th>\n",
       "      <td>MOWERY BACKHOE &amp; TRENCHER SERVICE</td>\n",
       "      <td>NaN</td>\n",
       "      <td>Commercial and Institutional Building Construc...</td>\n",
       "      <td>25374 TONGANOXIE DR LEAVENWORTH KS 66048-7314</td>\n",
       "      <td>12/31/13</td>\n",
       "      <td>25374.0</td>\n",
       "      <td>NaN</td>\n",
       "      <td>NaN</td>\n",
       "    </tr>\n",
       "    <tr>\n",
       "      <th>1347439</th>\n",
       "      <td>MOWERY BACKHOE &amp; TRENCHER SERVICE</td>\n",
       "      <td>NaN</td>\n",
       "      <td>Commercial and Institutional Building Construc...</td>\n",
       "      <td>25374 TONGANOXIE DR LEAVENWORTH KS 66048-7314</td>\n",
       "      <td>12/31/14</td>\n",
       "      <td>25374.0</td>\n",
       "      <td>NaN</td>\n",
       "      <td>NaN</td>\n",
       "    </tr>\n",
       "    <tr>\n",
       "      <th>1347440</th>\n",
       "      <td>FREDERICK  RYONELL</td>\n",
       "      <td>BARBER SHOP RECORDS</td>\n",
       "      <td>All Other Business Support Services</td>\n",
       "      <td>4211 PROSPECT AVE KANSAS CITY MO 64130-1326</td>\n",
       "      <td>12/31/15</td>\n",
       "      <td>64130.0</td>\n",
       "      <td>NaN</td>\n",
       "      <td>NaN</td>\n",
       "    </tr>\n",
       "    <tr>\n",
       "      <th>1347441</th>\n",
       "      <td>FREDERICK  RYONELL</td>\n",
       "      <td>BARBER SHOP RECORDS</td>\n",
       "      <td>All Other Business Support Services</td>\n",
       "      <td>4211 PROSPECT AVE KANSAS CITY MO 64130-1326</td>\n",
       "      <td>12/31/15</td>\n",
       "      <td>64130.0</td>\n",
       "      <td>NaN</td>\n",
       "      <td>NaN</td>\n",
       "    </tr>\n",
       "    <tr>\n",
       "      <th>1347442</th>\n",
       "      <td>FREDERICK  RYONELL</td>\n",
       "      <td>BARBER SHOP RECORDS</td>\n",
       "      <td>All Other Business Support Services</td>\n",
       "      <td>4211 PROSPECT AVE KANSAS CITY MO 64130-1326</td>\n",
       "      <td>12/31/13</td>\n",
       "      <td>64130.0</td>\n",
       "      <td>NaN</td>\n",
       "      <td>NaN</td>\n",
       "    </tr>\n",
       "    <tr>\n",
       "      <th>1347443</th>\n",
       "      <td>SECRET PLACE BED &amp; BREAKFAST LLC</td>\n",
       "      <td>NaN</td>\n",
       "      <td>Lessors of Residential Buildings and Dwellings</td>\n",
       "      <td>1205 MICHIGAN AVE KANSAS CITY MO 64127-1928</td>\n",
       "      <td>12/31/16</td>\n",
       "      <td>64127.0</td>\n",
       "      <td>NaN</td>\n",
       "      <td>NaN</td>\n",
       "    </tr>\n",
       "    <tr>\n",
       "      <th>1347444</th>\n",
       "      <td>SECRET PLACE BED &amp; BREAKFAST LLC</td>\n",
       "      <td>NaN</td>\n",
       "      <td>Lessors of Residential Buildings and Dwellings</td>\n",
       "      <td>1205 MICHIGAN AVE KANSAS CITY MO 64127-1928</td>\n",
       "      <td>12/31/17</td>\n",
       "      <td>64127.0</td>\n",
       "      <td>NaN</td>\n",
       "      <td>NaN</td>\n",
       "    </tr>\n",
       "    <tr>\n",
       "      <th>1347445</th>\n",
       "      <td>SECRET PLACE BED &amp; BREAKFAST LLC</td>\n",
       "      <td>NaN</td>\n",
       "      <td>Lessors of Residential Buildings and Dwellings</td>\n",
       "      <td>1205 MICHIGAN AVE KANSAS CITY MO 64127-1928</td>\n",
       "      <td>12/31/18</td>\n",
       "      <td>64127.0</td>\n",
       "      <td>NaN</td>\n",
       "      <td>NaN</td>\n",
       "    </tr>\n",
       "  </tbody>\n",
       "</table>\n",
       "<p>1347446 rows × 8 columns</p>\n",
       "</div>"
      ],
      "text/plain": [
       "                                   business_name  \\\n",
       "0                               STATHOPOULOS INC   \n",
       "1                               STATHOPOULOS INC   \n",
       "2                               COMPALLIANCE LLC   \n",
       "3                               COMPALLIANCE LLC   \n",
       "4                               COMPALLIANCE LLC   \n",
       "5                               COMPALLIANCE LLC   \n",
       "6                               COMPALLIANCE LLC   \n",
       "7                                  JERRY F ROXAS   \n",
       "8                                  JERRY F ROXAS   \n",
       "9        BEACON HILL STUDENT HOUSING DEVELOPMENT   \n",
       "10       BEACON HILL STUDENT HOUSING DEVELOPMENT   \n",
       "11                                 JERRY HUMPERT   \n",
       "12                                 JERRY HUMPERT   \n",
       "13                                 JERRY HUMPERT   \n",
       "14                                 JERRY HUMPERT   \n",
       "15                                 JERRY HUMPERT   \n",
       "16                           ANSIRA PARTNERS INC   \n",
       "17                           ANSIRA PARTNERS INC   \n",
       "18                           ANSIRA PARTNERS INC   \n",
       "19                                  CARLOS AVILA   \n",
       "20                                TAMPA BAY RAYS   \n",
       "21                                TAMPA BAY RAYS   \n",
       "22                                TAMPA BAY RAYS   \n",
       "23                                TAMPA BAY RAYS   \n",
       "24                                TAMPA BAY RAYS   \n",
       "25                              WRIGHT  GLORIA J   \n",
       "26                MOTHER EARTH COFFEE CO TWO LLC   \n",
       "27                                TALAL ALHYASAT   \n",
       "28                                TALAL ALHYASAT   \n",
       "29                            J1S PROPERTIES LLC   \n",
       "...                                          ...   \n",
       "1347416                 MIDLAND CONSTRUCTION LLC   \n",
       "1347417                 MIDLAND CONSTRUCTION LLC   \n",
       "1347418                 MIDLAND CONSTRUCTION LLC   \n",
       "1347419                 MIDLAND CONSTRUCTION LLC   \n",
       "1347420                 MIDLAND CONSTRUCTION LLC   \n",
       "1347421                             MHAMDI  SAID   \n",
       "1347422                             MHAMDI  SAID   \n",
       "1347423                             MHAMDI  SAID   \n",
       "1347424                             MHAMDI  SAID   \n",
       "1347425                      PEPPERIDGE FARM INC   \n",
       "1347426                      PEPPERIDGE FARM INC   \n",
       "1347427                      PEPPERIDGE FARM INC   \n",
       "1347428                      PEPPERIDGE FARM INC   \n",
       "1347429                      PEPPERIDGE FARM INC   \n",
       "1347430                        ALHAKEEM GUERRERO   \n",
       "1347431                        ALHAKEEM GUERRERO   \n",
       "1347432                        ALHAKEEM GUERRERO   \n",
       "1347433                        ALHAKEEM GUERRERO   \n",
       "1347434                            LORENZO BOLES   \n",
       "1347435                            LORENZO BOLES   \n",
       "1347436                            LORENZO BOLES   \n",
       "1347437                            LORENZO BOLES   \n",
       "1347438        MOWERY BACKHOE & TRENCHER SERVICE   \n",
       "1347439        MOWERY BACKHOE & TRENCHER SERVICE   \n",
       "1347440                       FREDERICK  RYONELL   \n",
       "1347441                       FREDERICK  RYONELL   \n",
       "1347442                       FREDERICK  RYONELL   \n",
       "1347443         SECRET PLACE BED & BREAKFAST LLC   \n",
       "1347444         SECRET PLACE BED & BREAKFAST LLC   \n",
       "1347445         SECRET PLACE BED & BREAKFAST LLC   \n",
       "\n",
       "                                  dba_name  \\\n",
       "0                                      NaN   \n",
       "1                                      NaN   \n",
       "2                                      NaN   \n",
       "3                                      NaN   \n",
       "4                                      NaN   \n",
       "5                                      NaN   \n",
       "6                                      NaN   \n",
       "7                                      NaN   \n",
       "8                                      NaN   \n",
       "9                                      NaN   \n",
       "10                                     NaN   \n",
       "11              BEST WAY HEATING & COOLING   \n",
       "12              BEST WAY HEATING & COOLING   \n",
       "13              BEST WAY HEATING & COOLING   \n",
       "14              BEST WAY HEATING & COOLING   \n",
       "15              BEST WAY HEATING & COOLING   \n",
       "16                                     NaN   \n",
       "17                                     NaN   \n",
       "18                                     NaN   \n",
       "19                                     NaN   \n",
       "20                          TAMPA BAY RAYS   \n",
       "21                          TAMPA BAY RAYS   \n",
       "22                          TAMPA BAY RAYS   \n",
       "23                          TAMPA BAY RAYS   \n",
       "24                          TAMPA BAY RAYS   \n",
       "25                          URBANESS SALON   \n",
       "26                       MOTHER EARTH CAFE   \n",
       "27             T AUTO SALE AND SERVICE LLC   \n",
       "28             T AUTO SALE AND SERVICE LLC   \n",
       "29                                     NaN   \n",
       "...                                    ...   \n",
       "1347416                                NaN   \n",
       "1347417                                NaN   \n",
       "1347418                                NaN   \n",
       "1347419                                NaN   \n",
       "1347420                                NaN   \n",
       "1347421                                NaN   \n",
       "1347422                                NaN   \n",
       "1347423                                NaN   \n",
       "1347424                                NaN   \n",
       "1347425       PEPPERIDGE FARM INCORPORATED   \n",
       "1347426       PEPPERIDGE FARM INCORPORATED   \n",
       "1347427       PEPPERIDGE FARM INCORPORATED   \n",
       "1347428       PEPPERIDGE FARM INCORPORATED   \n",
       "1347429       PEPPERIDGE FARM INCORPORATED   \n",
       "1347430                                NaN   \n",
       "1347431                                NaN   \n",
       "1347432                                NaN   \n",
       "1347433                                NaN   \n",
       "1347434  HOG LIFE ACCESSORIES & WHEELS LLC   \n",
       "1347435  HOG LIFE ACCESSORIES & WHEELS LLC   \n",
       "1347436  HOG LIFE ACCESSORIES & WHEELS LLC   \n",
       "1347437  HOG LIFE ACCESSORIES & WHEELS LLC   \n",
       "1347438                                NaN   \n",
       "1347439                                NaN   \n",
       "1347440                BARBER SHOP RECORDS   \n",
       "1347441                BARBER SHOP RECORDS   \n",
       "1347442                BARBER SHOP RECORDS   \n",
       "1347443                                NaN   \n",
       "1347444                                NaN   \n",
       "1347445                                NaN   \n",
       "\n",
       "                                         business_activity  \\\n",
       "0                                        Consumer Lending    \n",
       "1                                        Consumer Lending    \n",
       "2                                  Temporary Help Services   \n",
       "3                                  Temporary Help Services   \n",
       "4                                  Temporary Help Services   \n",
       "5                                  Temporary Help Services   \n",
       "6                                  Temporary Help Services   \n",
       "7                                        Limousine Service   \n",
       "8                                        Limousine Service   \n",
       "9                      Administration of Housing Programs    \n",
       "10                     Administration of Housing Programs    \n",
       "11       Commercial and Institutional Building Construc...   \n",
       "12       Commercial and Institutional Building Construc...   \n",
       "13       Commercial and Institutional Building Construc...   \n",
       "14       Commercial and Institutional Building Construc...   \n",
       "15       Commercial and Institutional Building Construc...   \n",
       "16                          Marketing Consulting Services    \n",
       "17                          Marketing Consulting Services    \n",
       "18                          Marketing Consulting Services    \n",
       "19                                       Limousine Service   \n",
       "20                                 Sports Teams and Clubs    \n",
       "21                                 Sports Teams and Clubs    \n",
       "22                                 Sports Teams and Clubs    \n",
       "23                                 Sports Teams and Clubs    \n",
       "24                                 Sports Teams and Clubs    \n",
       "25                                          Beauty Salons    \n",
       "26       All Other Miscellaneous Store Retailers (excep...   \n",
       "27                                       Used Car Dealers    \n",
       "28                                       Used Car Dealers    \n",
       "29                  Lessors of Other Real Estate Property    \n",
       "...                                                    ...   \n",
       "1347416  Commercial and Institutional Building Construc...   \n",
       "1347417  Commercial and Institutional Building Construc...   \n",
       "1347418  Commercial and Institutional Building Construc...   \n",
       "1347419  Commercial and Institutional Building Construc...   \n",
       "1347420  Commercial and Institutional Building Construc...   \n",
       "1347421                                  Limousine Service   \n",
       "1347422                                  Limousine Service   \n",
       "1347423                                  Limousine Service   \n",
       "1347424                                  Limousine Service   \n",
       "1347425         General Line Grocery Merchant Wholesalers    \n",
       "1347426         General Line Grocery Merchant Wholesalers    \n",
       "1347427         General Line Grocery Merchant Wholesalers    \n",
       "1347428         General Line Grocery Merchant Wholesalers    \n",
       "1347429         General Line Grocery Merchant Wholesalers    \n",
       "1347430  Supermarkets and Other Grocery (except Conveni...   \n",
       "1347431  Supermarkets and Other Grocery (except Conveni...   \n",
       "1347432  Supermarkets and Other Grocery (except Conveni...   \n",
       "1347433  Supermarkets and Other Grocery (except Conveni...   \n",
       "1347434  All Other Miscellaneous Store Retailers (excep...   \n",
       "1347435  All Other Miscellaneous Store Retailers (excep...   \n",
       "1347436  All Other Miscellaneous Store Retailers (excep...   \n",
       "1347437  All Other Miscellaneous Store Retailers (excep...   \n",
       "1347438  Commercial and Institutional Building Construc...   \n",
       "1347439  Commercial and Institutional Building Construc...   \n",
       "1347440               All Other Business Support Services    \n",
       "1347441               All Other Business Support Services    \n",
       "1347442               All Other Business Support Services    \n",
       "1347443    Lessors of Residential Buildings and Dwellings    \n",
       "1347444    Lessors of Residential Buildings and Dwellings    \n",
       "1347445    Lessors of Residential Buildings and Dwellings    \n",
       "\n",
       "                                                   address filing_period  \\\n",
       "0              6005 NW 104TH TER KANSAS CITY MO 64154-1792      12/31/13   \n",
       "1              6005 NW 104TH TER KANSAS CITY MO 64154-1792      12/31/14   \n",
       "2            6700 ANTIOCH RD STE 460 MERRIAM KS 66204-1200      12/31/16   \n",
       "3            6700 ANTIOCH RD STE 460 MERRIAM KS 66204-1200      12/31/17   \n",
       "4            6700 ANTIOCH RD STE 460 MERRIAM KS 66204-1200      12/31/13   \n",
       "5            6700 ANTIOCH RD STE 460 MERRIAM KS 66204-1200      12/31/14   \n",
       "6            6700 ANTIOCH RD STE 460 MERRIAM KS 66204-1200      12/31/15   \n",
       "7          3852 N BENNINGTON AVE KANSAS CITY MO 64117-7800      12/31/16   \n",
       "8          3852 N BENNINGTON AVE KANSAS CITY MO 64117-7800      12/31/17   \n",
       "9                  PO BOX 411299 KANSAS CITY MO 64141-1299      12/31/14   \n",
       "10                 PO BOX 411299 KANSAS CITY MO 64141-1299      12/31/15   \n",
       "11               2630 N 64TH TER KANSAS CITY KS 66104-2613      12/31/15   \n",
       "12               2630 N 64TH TER KANSAS CITY KS 66104-2613      12/31/16   \n",
       "13               2630 N 64TH TER KANSAS CITY KS 66104-2613      12/31/17   \n",
       "14               2630 N 64TH TER KANSAS CITY KS 66104-2613      12/31/13   \n",
       "15               2630 N 64TH TER KANSAS CITY KS 66104-2613      12/31/14   \n",
       "16                2300 LOCUST ST SAINT LOUIS MO 63103-1512      12/31/16   \n",
       "17                2300 LOCUST ST SAINT LOUIS MO 63103-1512      12/31/17   \n",
       "18                2300 LOCUST ST SAINT LOUIS MO 63103-1512      12/31/18   \n",
       "19                      4721 BOND ST SHAWNEE KS 66203-1033      12/31/16   \n",
       "20           1 TROPICANA DR SAINT PETERSBURG FL 33705-1703      12/31/13   \n",
       "21           1 TROPICANA DR SAINT PETERSBURG FL 33705-1703      12/31/14   \n",
       "22           1 TROPICANA DR SAINT PETERSBURG FL 33705-1703      12/31/15   \n",
       "23           1 TROPICANA DR SAINT PETERSBURG FL 33705-1703      12/31/16   \n",
       "24           1 TROPICANA DR SAINT PETERSBURG FL 33705-1703      12/31/17   \n",
       "25                5150 ARARAT DR KANSAS CITY MO 64129-1917      12/31/13   \n",
       "26                3504 GILHAM RD KANSAS CITY MO 64111-1245      12/31/17   \n",
       "27        11410 HICKMAN MILLS DR KANSAS CITY MO 64134-4207      12/31/16   \n",
       "28        11410 HICKMAN MILLS DR KANSAS CITY MO 64134-4207      12/31/17   \n",
       "29               1423 CROSS CREEK DR RAYMORE MO 64083-9671      12/31/14   \n",
       "...                                                    ...           ...   \n",
       "1347416                   PO BOX 517 LIBERTY MO 64069-0517      12/31/14   \n",
       "1347417                   PO BOX 517 LIBERTY MO 64069-0517      12/31/15   \n",
       "1347418                   PO BOX 517 LIBERTY MO 64069-0517      12/31/16   \n",
       "1347419                   PO BOX 517 LIBERTY MO 64069-0517      12/31/17   \n",
       "1347420                   PO BOX 517 LIBERTY MO 64069-0517      12/31/13   \n",
       "1347421          3151 W 46TH AVE KANSAS CITY KS 66103-2715      12/31/17   \n",
       "1347422          3151 W 46TH AVE KANSAS CITY KS 66103-2715      12/31/15   \n",
       "1347423          3151 W 46TH AVE KANSAS CITY KS 66103-2715      12/31/15   \n",
       "1347424          3151 W 46TH AVE KANSAS CITY KS 66103-2715      12/31/16   \n",
       "1347425  6301 WINCHESTER AVE STE 30 KANSAS CITY MO 6413...      12/31/13   \n",
       "1347426  6301 WINCHESTER AVE STE 30 KANSAS CITY MO 6413...      12/31/14   \n",
       "1347427  6301 WINCHESTER AVE STE 30 KANSAS CITY MO 6413...      12/31/15   \n",
       "1347428  6301 WINCHESTER AVE STE 30 KANSAS CITY MO 6413...      12/31/16   \n",
       "1347429  6301 WINCHESTER AVE STE 30 KANSAS CITY MO 6413...      12/31/17   \n",
       "1347430      4440 SAINT JOHN AVE KANSAS CITY MO 64123-1738      12/31/16   \n",
       "1347431      4440 SAINT JOHN AVE KANSAS CITY MO 64123-1738      12/31/17   \n",
       "1347432      4440 SAINT JOHN AVE KANSAS CITY MO 64123-1738      12/31/14   \n",
       "1347433      4440 SAINT JOHN AVE KANSAS CITY MO 64123-1738      12/31/15   \n",
       "1347434          2515 SWOPE PKWY KANSAS CITY MO 64130-2642      12/31/14   \n",
       "1347435          2515 SWOPE PKWY KANSAS CITY MO 64130-2642      12/31/15   \n",
       "1347436          2515 SWOPE PKWY KANSAS CITY MO 64130-2642      12/31/16   \n",
       "1347437          2515 SWOPE PKWY KANSAS CITY MO 64130-2642      12/31/17   \n",
       "1347438      25374 TONGANOXIE DR LEAVENWORTH KS 66048-7314      12/31/13   \n",
       "1347439      25374 TONGANOXIE DR LEAVENWORTH KS 66048-7314      12/31/14   \n",
       "1347440        4211 PROSPECT AVE KANSAS CITY MO 64130-1326      12/31/15   \n",
       "1347441        4211 PROSPECT AVE KANSAS CITY MO 64130-1326      12/31/15   \n",
       "1347442        4211 PROSPECT AVE KANSAS CITY MO 64130-1326      12/31/13   \n",
       "1347443        1205 MICHIGAN AVE KANSAS CITY MO 64127-1928      12/31/16   \n",
       "1347444        1205 MICHIGAN AVE KANSAS CITY MO 64127-1928      12/31/17   \n",
       "1347445        1205 MICHIGAN AVE KANSAS CITY MO 64127-1928      12/31/18   \n",
       "\n",
       "         zipcode patent_number date  \n",
       "0        64154.0           NaN  NaN  \n",
       "1        64154.0           NaN  NaN  \n",
       "2        66204.0           NaN  NaN  \n",
       "3        66204.0           NaN  NaN  \n",
       "4        66204.0           NaN  NaN  \n",
       "5        66204.0           NaN  NaN  \n",
       "6        66204.0           NaN  NaN  \n",
       "7        64117.0           NaN  NaN  \n",
       "8        64117.0           NaN  NaN  \n",
       "9        41129.0           NaN  NaN  \n",
       "10       41129.0           NaN  NaN  \n",
       "11       66104.0           NaN  NaN  \n",
       "12       66104.0           NaN  NaN  \n",
       "13       66104.0           NaN  NaN  \n",
       "14       66104.0           NaN  NaN  \n",
       "15       66104.0           NaN  NaN  \n",
       "16       63103.0           NaN  NaN  \n",
       "17       63103.0           NaN  NaN  \n",
       "18       63103.0           NaN  NaN  \n",
       "19       66203.0           NaN  NaN  \n",
       "20       33705.0           NaN  NaN  \n",
       "21       33705.0           NaN  NaN  \n",
       "22       33705.0           NaN  NaN  \n",
       "23       33705.0           NaN  NaN  \n",
       "24       33705.0           NaN  NaN  \n",
       "25       64129.0           NaN  NaN  \n",
       "26       64111.0           NaN  NaN  \n",
       "27       11410.0           NaN  NaN  \n",
       "28       11410.0           NaN  NaN  \n",
       "29       64083.0           NaN  NaN  \n",
       "...          ...           ...  ...  \n",
       "1347416  64069.0           NaN  NaN  \n",
       "1347417  64069.0           NaN  NaN  \n",
       "1347418  64069.0           NaN  NaN  \n",
       "1347419  64069.0           NaN  NaN  \n",
       "1347420  64069.0           NaN  NaN  \n",
       "1347421  66103.0           NaN  NaN  \n",
       "1347422  66103.0           NaN  NaN  \n",
       "1347423  66103.0           NaN  NaN  \n",
       "1347424  66103.0           NaN  NaN  \n",
       "1347425  64133.0           NaN  NaN  \n",
       "1347426  64133.0           NaN  NaN  \n",
       "1347427  64133.0           NaN  NaN  \n",
       "1347428  64133.0           NaN  NaN  \n",
       "1347429  64133.0           NaN  NaN  \n",
       "1347430  64123.0           NaN  NaN  \n",
       "1347431  64123.0           NaN  NaN  \n",
       "1347432  64123.0           NaN  NaN  \n",
       "1347433  64123.0           NaN  NaN  \n",
       "1347434  64130.0           NaN  NaN  \n",
       "1347435  64130.0           NaN  NaN  \n",
       "1347436  64130.0           NaN  NaN  \n",
       "1347437  64130.0           NaN  NaN  \n",
       "1347438  25374.0           NaN  NaN  \n",
       "1347439  25374.0           NaN  NaN  \n",
       "1347440  64130.0           NaN  NaN  \n",
       "1347441  64130.0           NaN  NaN  \n",
       "1347442  64130.0           NaN  NaN  \n",
       "1347443  64127.0           NaN  NaN  \n",
       "1347444  64127.0           NaN  NaN  \n",
       "1347445  64127.0           NaN  NaN  \n",
       "\n",
       "[1347446 rows x 8 columns]"
      ]
     },
     "execution_count": 42,
     "metadata": {},
     "output_type": "execute_result"
    }
   ],
   "source": [
    "business_patents"
   ]
  },
  {
   "cell_type": "code",
   "execution_count": 43,
   "metadata": {},
   "outputs": [
    {
     "ename": "AttributeError",
     "evalue": "'DataFrame' object has no attribute 'tolist'",
     "output_type": "error",
     "traceback": [
      "\u001b[0;31m---------------------------------------------------------------------------\u001b[0m",
      "\u001b[0;31mAttributeError\u001b[0m                            Traceback (most recent call last)",
      "\u001b[0;32m<ipython-input-43-0fcf92de669f>\u001b[0m in \u001b[0;36m<module>\u001b[0;34m()\u001b[0m\n\u001b[1;32m      1\u001b[0m \u001b[0mpatents\u001b[0m \u001b[0;34m=\u001b[0m \u001b[0mbusiness_patents\u001b[0m\u001b[0;34m[\u001b[0m\u001b[0mpd\u001b[0m\u001b[0;34m.\u001b[0m\u001b[0misnull\u001b[0m\u001b[0;34m(\u001b[0m\u001b[0mbusiness_patents\u001b[0m\u001b[0;34m[\u001b[0m\u001b[0;34m'patent_number'\u001b[0m\u001b[0;34m]\u001b[0m\u001b[0;34m)\u001b[0m\u001b[0;34m==\u001b[0m\u001b[0;32mFalse\u001b[0m\u001b[0;34m]\u001b[0m\u001b[0;34m[\u001b[0m\u001b[0;34m[\u001b[0m\u001b[0;34m'patent_number'\u001b[0m\u001b[0;34m,\u001b[0m \u001b[0;34m'date'\u001b[0m\u001b[0;34m,\u001b[0m \u001b[0;34m'business_name'\u001b[0m\u001b[0;34m]\u001b[0m\u001b[0;34m]\u001b[0m\u001b[0;34m\u001b[0m\u001b[0m\n\u001b[0;32m----> 2\u001b[0;31m \u001b[0mpatents\u001b[0m \u001b[0;34m=\u001b[0m \u001b[0mpatents\u001b[0m\u001b[0;34m.\u001b[0m\u001b[0mdrop_duplicates\u001b[0m\u001b[0;34m(\u001b[0m\u001b[0;34m)\u001b[0m\u001b[0;34m.\u001b[0m\u001b[0mtolist\u001b[0m\u001b[0;34m(\u001b[0m\u001b[0;34m)\u001b[0m\u001b[0;34m\u001b[0m\u001b[0m\n\u001b[0m",
      "\u001b[0;32m~/anaconda3/lib/python3.6/site-packages/pandas/core/generic.py\u001b[0m in \u001b[0;36m__getattr__\u001b[0;34m(self, name)\u001b[0m\n\u001b[1;32m   3079\u001b[0m             \u001b[0;32mif\u001b[0m \u001b[0mname\u001b[0m \u001b[0;32min\u001b[0m \u001b[0mself\u001b[0m\u001b[0;34m.\u001b[0m\u001b[0m_info_axis\u001b[0m\u001b[0;34m:\u001b[0m\u001b[0;34m\u001b[0m\u001b[0m\n\u001b[1;32m   3080\u001b[0m                 \u001b[0;32mreturn\u001b[0m \u001b[0mself\u001b[0m\u001b[0;34m[\u001b[0m\u001b[0mname\u001b[0m\u001b[0;34m]\u001b[0m\u001b[0;34m\u001b[0m\u001b[0m\n\u001b[0;32m-> 3081\u001b[0;31m             \u001b[0;32mreturn\u001b[0m \u001b[0mobject\u001b[0m\u001b[0;34m.\u001b[0m\u001b[0m__getattribute__\u001b[0m\u001b[0;34m(\u001b[0m\u001b[0mself\u001b[0m\u001b[0;34m,\u001b[0m \u001b[0mname\u001b[0m\u001b[0;34m)\u001b[0m\u001b[0;34m\u001b[0m\u001b[0m\n\u001b[0m\u001b[1;32m   3082\u001b[0m \u001b[0;34m\u001b[0m\u001b[0m\n\u001b[1;32m   3083\u001b[0m     \u001b[0;32mdef\u001b[0m \u001b[0m__setattr__\u001b[0m\u001b[0;34m(\u001b[0m\u001b[0mself\u001b[0m\u001b[0;34m,\u001b[0m \u001b[0mname\u001b[0m\u001b[0;34m,\u001b[0m \u001b[0mvalue\u001b[0m\u001b[0;34m)\u001b[0m\u001b[0;34m:\u001b[0m\u001b[0;34m\u001b[0m\u001b[0m\n",
      "\u001b[0;31mAttributeError\u001b[0m: 'DataFrame' object has no attribute 'tolist'"
     ]
    }
   ],
   "source": [
    "patents = business_patents[pd.isnull(business_patents['patent_number'])==False][['patent_number', 'date', 'business_name']]\n",
    "patents = patents.drop_duplicates().tolist()"
   ]
  },
  {
   "cell_type": "markdown",
   "metadata": {},
   "source": [
    "__ Query PatentsView API (200 patents at a time)__\n",
    "\n",
    "This step can take up to 10 minutes."
   ]
  },
  {
   "cell_type": "code",
   "execution_count": 161,
   "metadata": {},
   "outputs": [
    {
     "name": "stdout",
     "output_type": "stream",
     "text": [
      "--- 415.7428662776947 seconds ---\n"
     ]
    }
   ],
   "source": [
    "df = pd.DataFrame(\"\", index=np.arange(0), columns=['patent_abstract', 'patent_number', 'patent_title'])\n",
    "start_time = time.time()\n",
    "for i in range(0, int(math.modf(len(patents)/200)[1]+1)):\n",
    "    sub_patents = patents[200*i:min(200*(i+1), len(patents))]\n",
    "    base_url = 'http://www.patentsview.org/api/patents/query?'\n",
    "    query = 'q={\"_or\":[{\"patent_number\":\"'+ sub_patents[0] + '\"}'\n",
    "    for j in range(1, len(sub_patents)):\n",
    "        query = query + ',{\"patent_number\":\"'+sub_patents[j]+'\"}'\n",
    "    query = query + ']}'\n",
    "    fields='&f=[\"patent_number\", \"patent_title\", \"patent_abstract\"]'\n",
    "    sort= '' #&s=\n",
    "    options= '&o={\"page\":1,\"per_page\": 500}'\n",
    "    url = '{}{}{}{}{}'.format(base_url, query, fields, sort, options)\n",
    "    \n",
    "    response = requests.get(url)\n",
    "    response = json.loads(response.text)\n",
    "    temp = DataFrame.from_dict(response['patents'])\n",
    "    df = pd.concat([df, temp])\n",
    "\n",
    "df = df[['patent_number', 'patent_title', 'patent_abstract']].sort_values('patent_number')\n",
    "df = df.reset_index(drop = True)\n",
    "print(\"--- %s seconds ---\" % (time.time() - start_time))"
   ]
  },
  {
   "cell_type": "markdown",
   "metadata": {},
   "source": [
    "__ Merge back onto Business Names __"
   ]
  },
  {
   "cell_type": "code",
   "execution_count": 195,
   "metadata": {
    "collapsed": true
   },
   "outputs": [],
   "source": [
    "patent_desc = pd.merge(business_patents[['business_name', 'patent_number', 'date']], df\n",
    "                         , how = 'left', on = 'patent_number')\n",
    "patent_desc = patent_desc[patent_desc['patent_number'].isnull()==False].drop_duplicates()"
   ]
  },
  {
   "cell_type": "markdown",
   "metadata": {},
   "source": [
    "__ Export to CSV:__"
   ]
  },
  {
   "cell_type": "code",
   "execution_count": 196,
   "metadata": {
    "collapsed": true
   },
   "outputs": [],
   "source": [
    "patent_desc.to_csv('../../output/patent_desc.csv', index = False)"
   ]
  },
  {
   "cell_type": "code",
   "execution_count": null,
   "metadata": {
    "collapsed": true
   },
   "outputs": [],
   "source": []
  },
  {
   "cell_type": "code",
   "execution_count": null,
   "metadata": {
    "collapsed": true
   },
   "outputs": [],
   "source": []
  },
  {
   "cell_type": "code",
   "execution_count": null,
   "metadata": {
    "collapsed": true
   },
   "outputs": [],
   "source": []
  },
  {
   "cell_type": "code",
   "execution_count": null,
   "metadata": {
    "collapsed": true
   },
   "outputs": [],
   "source": []
  },
  {
   "cell_type": "code",
   "execution_count": null,
   "metadata": {
    "collapsed": true
   },
   "outputs": [],
   "source": []
  },
  {
   "cell_type": "code",
   "execution_count": null,
   "metadata": {
    "collapsed": true
   },
   "outputs": [],
   "source": []
  },
  {
   "cell_type": "markdown",
   "metadata": {},
   "source": [
    "## Routing API\n",
    "\n",
    "- Back to the [Table of Contents](#Table-of-Contents)\n",
    "\n",
    "Now that we've tested we can access OTP from Jupyter, let's do something a bit more interesting: get a route plan between some locations. This will allow us to answer \"How long will it take to get from *here* to *there*?\"\n",
    "\n",
    "Similar to the Index API, the [Routing API documentation](http://dev.opentripplanner.org/apidoc/1.0.0/resource_PlannerResource.html) tells us what features are available and how to access those feastures."
   ]
  },
  {
   "cell_type": "markdown",
   "metadata": {},
   "source": [
    "### Scraping Useful Chicago Data\n",
    "\n",
    "- Back to the [Table of Contents](#Table-of-Contents)\n",
    "\n",
    "To give us some valuable data to use with this API, I used the tools we used in our first lesson to build a quick scraper to get a lost of Chicago's workforce centers. You'll note that although the pattern of HTML differs, the structure of the scraper is very similar, and only requires a little bit of code."
   ]
  },
  {
   "cell_type": "code",
   "execution_count": null,
   "metadata": {
    "collapsed": true
   },
   "outputs": [],
   "source": [
    "# Use requests to grab the HTML page for Chicago Workforce Centers\n",
    "url = \"http://deepdish.adrf.info/contrib/chicagojobs.html\"\n",
    "response = requests.get(url)\n",
    "\n",
    "# Create BeautifulSoup object and pull out the table rows:\n",
    "soup = BeautifulSoup(response.text)\n",
    "table = soup.find(\"table\")\n",
    "rows = table.find_all(\"tr\")\n",
    "\n",
    "# Create lists to hold our scraped data\n",
    "centers = []\n",
    "addresses = []\n",
    "phone_numbers = []\n",
    "\n",
    "rows = rows[1:] #Skip the header row\n",
    "for row in rows:\n",
    "    \n",
    "    name_td = row.find_all(\"td\")[1]\n",
    "    if name_td.find(\"a\"):\n",
    "        center_name = name_td.find(\"a\").text\n",
    "    else:        \n",
    "        center_name = name_td.text\n",
    "\n",
    "    centers.append(center_name)\n",
    "    addresses.append(row.find_all(\"td\")[2].text)\n",
    "    phone_numbers.append(row.find_all(\"td\")[3].text)\n",
    "    \n",
    "## Create pandas dataframe:\n",
    "centers_df = pd.DataFrame({\"center_name\" : pd.Series(centers),\n",
    "    \"address\" : pd.Series(addresses),\n",
    "    \"phone_number\" : pd.Series(phone_numbers)})\n",
    "\n",
    "## A little cleanup to remove extraneous tags:\n",
    "centers_df[\"center_name\"] = centers_df[\"center_name\"].str.replace(\"<td>\", \"\")\n",
    "centers_df[\"center_name\"] = centers_df[\"center_name\"].str.replace(\"<br/>\", \"\")\n",
    "\n",
    "centers_df[:]"
   ]
  },
  {
   "cell_type": "markdown",
   "metadata": {},
   "source": [
    "## Geocoding\n",
    "\n",
    "- Back to the [Table of Contents](#Table-of-Contents)\n",
    "\n",
    "We have scraped addresses, but OTP works best with latitude and longitude coordinates. We can use the [geocoder module](https://pypi.python.org/pypi/geocoder) to get latitude and longitude exactly just from the organization addresses. Note this is a combination of great tools - a simple Python module (`geocoder`) interacting with Google's wonderful geocoding API. The code below would work out in the wild, but since we are working in a restricted environment, we can't get to the Google API.\n",
    "\n",
    "The geocoder module can speak to a wide range of external services, including ArcGIS, Bing, MapBox, OpenStreetMaps, and many others, in addition to Google. The API lets you geocode (addresses to latitue and longitude), reverse geocode (latitude and longitude to addresses), as well as get timezones and elevations on locations."
   ]
  },
  {
   "cell_type": "code",
   "execution_count": null,
   "metadata": {
    "collapsed": true
   },
   "outputs": [],
   "source": [
    "# import geocoder\n",
    "# \n",
    "# lat = []\n",
    "# lon = []\n",
    "#\n",
    "# for add in centers_df[\"address\"]:\n",
    "#    g = geocoder.google(add)\n",
    "    \n",
    "#    lon.append(g.latlng[0])\n",
    "#    lat.append(g.latlng[1])\n",
    "\n",
    "# centers_df[\"latitude\"] = pd.Series(lat)\n",
    "# centers_df[\"longitude\"] = pd.Series(lon)"
   ]
  },
  {
   "cell_type": "code",
   "execution_count": null,
   "metadata": {
    "collapsed": true
   },
   "outputs": [],
   "source": [
    "lat = [41.733737,\n",
    "            41.9087846,\n",
    "            41.9647695,\n",
    "            41.9631174,\n",
    "            42.0457523,\n",
    "            41.9697109,\n",
    "            41.9252578,\n",
    "            41.4824241,\n",
    "            41.5081785,\n",
    "            41.8322347,\n",
    "            41.6944193,\n",
    "            41.8444394,\n",
    "            41.8849173,\n",
    "            41.5255653,\n",
    "            41.8543913,\n",
    "            41.8511856,\n",
    "            41.8931701,\n",
    "            41.8804296,\n",
    "            41.8905965,\n",
    "            42.0076194,\n",
    "            41.9647485,\n",
    "            41.8457521,\n",
    "            41.8409604,\n",
    "            41.9589605]\n",
    "\n",
    "lon = [-87.770246,\n",
    "             -87.7931388,\n",
    "             -87.6786497,\n",
    "             -87.6748518,\n",
    "             -87.9922059,\n",
    "             -87.6598793,\n",
    "             -87.7008122,\n",
    "             -87.6782855,\n",
    "             -87.6234975,\n",
    "             -87.5990999,\n",
    "             -87.5990999,\n",
    "             -87.7236882,\n",
    "             -87.6231249,\n",
    "             -87.6386009,\n",
    "             -87.6355797,\n",
    "             -87.7775432,\n",
    "             -87.6614166,\n",
    "             -87.7066519,\n",
    "             -87.702801,\n",
    "             -87.6689743,\n",
    "             -87.6570292,\n",
    "             -87.6858569,\n",
    "             -87.6862319,\n",
    "             -87.6747326]"
   ]
  },
  {
   "cell_type": "code",
   "execution_count": null,
   "metadata": {
    "collapsed": true,
    "scrolled": true
   },
   "outputs": [],
   "source": [
    "centers_lim = centers_df[0:24]\n",
    "centers_lim[\"latitude\"] = pd.Series(lat)\n",
    "centers_lim[\"longitude\"] = pd.Series(lon)\n",
    "centers_lim[:]"
   ]
  },
  {
   "cell_type": "markdown",
   "metadata": {},
   "source": [
    "### Planner Resource Syntax\n",
    "\n",
    "- Back to the [Table of Contents](#Table-of-Contents)\n",
    "\n",
    "The Planner Resource API does trip planning based on a large number of customizable parameters. To give you a sense of all the options available, OTP's planner resource allows users to set the additional time it will take baord a vehicle (like a bus) with a bike, as opposed to boarding on foot. There are a lot of available options. This is great for us, since once we understand the simple syntax of this API, we can avail ourselves of this granular customization if we want to. \n",
    "\n",
    "This resource is located at `/OTP/routers/{routerID}/plan` and when setting options within a URL, they follow a single question mark. So first, let's plan a trip with just the required options, `fromPlace`, `toPlace`, and `datae` (which takes an option in the form YYY-MM-DD) which you can see we set after `/plan?` and separated by ampersands `&`:"
   ]
  },
  {
   "cell_type": "code",
   "execution_count": null,
   "metadata": {
    "collapsed": true,
    "scrolled": true
   },
   "outputs": [],
   "source": [
    "origin_lat = centers_lim[\"latitude\"][2]\n",
    "origin_lon = centers_lim[\"longitude\"][2]\n",
    "\n",
    "destination_lat = centers_lim[\"latitude\"][10]\n",
    "destination_lon = centers_lim[\"longitude\"][10]\n",
    "\n",
    "qry_url = '{}plan?fromPlace={},{}&toPlace={},{}&date=2016-02-11'.format(base_url, origin_lat, origin_lon, destination_lat, destination_lon)   \n",
    "print(qry_url)\n",
    "\n",
    "response = requests.get(qry_url)\n",
    "response = response.text\n",
    "plan = json.loads(response)\n",
    "\n",
    "# Examine the response, which is a routing plan:\n",
    "print(plan)"
   ]
  },
  {
   "cell_type": "code",
   "execution_count": null,
   "metadata": {
    "collapsed": true
   },
   "outputs": [],
   "source": [
    "# So again our JSON object was transformed into a Python dict.\n",
    "print(type(plan))"
   ]
  },
  {
   "cell_type": "code",
   "execution_count": null,
   "metadata": {
    "collapsed": true
   },
   "outputs": [],
   "source": [
    "# We can look at the available keys:\n",
    "print(plan.keys())"
   ]
  },
  {
   "cell_type": "code",
   "execution_count": null,
   "metadata": {
    "collapsed": true
   },
   "outputs": [],
   "source": [
    "# And use those keys to see the dict'svalues.\n",
    "# For instance, let's print out the requestParameters:\n",
    "print(plan['requestParameters'])"
   ]
  },
  {
   "cell_type": "code",
   "execution_count": null,
   "metadata": {
    "collapsed": true
   },
   "outputs": [],
   "source": [
    "# Dicts can contain other dicts, like in the case of the plan:\n",
    "print(type(plan[\"plan\"]))\n",
    "print(plan['plan'].keys())"
   ]
  },
  {
   "cell_type": "code",
   "execution_count": null,
   "metadata": {
    "collapsed": true
   },
   "outputs": [],
   "source": [
    "## We can use a similar syntax torfer to the keys of a dict within a dict:\n",
    "print(plan[\"plan\"][\"to\"])"
   ]
  },
  {
   "cell_type": "code",
   "execution_count": null,
   "metadata": {
    "collapsed": true
   },
   "outputs": [],
   "source": [
    "# Time is stored in a raw computer format\n",
    "print('raw time value: {}'.format(plan['plan']['date']))\n",
    "\n",
    "# But we can convert it to a datetime object so it's comprehensible.\n",
    "# note OTP returns raw time value with three extra zeros, divide by 1000 to get rid of them\n",
    "print('datetime formatted: {}'.format(time.strftime('%Y-%m-%d %H:%M:%S', time.localtime(plan['plan']['date']/1000))))"
   ]
  },
  {
   "cell_type": "code",
   "execution_count": null,
   "metadata": {
    "collapsed": true
   },
   "outputs": [],
   "source": [
    "# 'itineraries' holds a lot more information, let's start with how many itineraries were returned\n",
    "print(len(plan['plan']['itineraries']))\n",
    "\n",
    "# and list what keys exit for the first itinerary\n",
    "print(plan['plan']['itineraries'][0].keys())"
   ]
  },
  {
   "cell_type": "code",
   "execution_count": null,
   "metadata": {
    "collapsed": true
   },
   "outputs": [],
   "source": [
    "# compare the three itineraries across some pieces\n",
    "for i in plan['plan']['itineraries']:\n",
    "    print('duration (minutes) = {0:.2f} | transfers = {1:} | walkDist = {2:.2f} | \\\n",
    "legs = {4:} | startTime = {5:} | endTime = {6:}'\\\n",
    ".format(i['duration']/60., i['transfers'], i['walkDistance'], i['walkTime'], len(i['legs']), \n",
    "        time.strftime('%H:%M:%S', time.localtime(i['startTime']/1000)), \n",
    "        time.strftime('%H:%M:%S', time.localtime(i['endTime']/1000))))"
   ]
  },
  {
   "cell_type": "code",
   "execution_count": null,
   "metadata": {
    "collapsed": true
   },
   "outputs": [],
   "source": [
    "# note we just counted the length of the \"legs\" output, it contains the details of the actual route\n",
    "# here is what is included in a \"leg\"\n",
    "print(plan['plan']['itineraries'][0]['legs'][0].keys())"
   ]
  },
  {
   "cell_type": "code",
   "execution_count": null,
   "metadata": {
    "collapsed": true
   },
   "outputs": [],
   "source": [
    "# let's compare the three legs of the first itinerary, similarly as we compared the itineraries\n",
    "for leg in plan['plan']['itineraries'][0]['legs']:\n",
    "    print('distance = {:,.2f} | duration = {:.0f} | mode = {} | route = {} | steps = {}'.\\\n",
    "format(leg['distance'], leg['duration'], leg['mode'], leg['route'], len(leg['steps'])))"
   ]
  },
  {
   "cell_type": "markdown",
   "metadata": {},
   "source": [
    "So, if mode is 'WALK' then route is blank and steps is a list. what is included in one of those 'steps'?"
   ]
  },
  {
   "cell_type": "code",
   "execution_count": null,
   "metadata": {
    "collapsed": true
   },
   "outputs": [],
   "source": [
    "print(plan['plan']['itineraries'][0]['legs'][0]['steps'][0].keys())"
   ]
  },
  {
   "cell_type": "code",
   "execution_count": null,
   "metadata": {
    "collapsed": true
   },
   "outputs": [],
   "source": [
    "# so, what streets does this first route call for a person to walk on?\n",
    "for leg in plan['plan']['itineraries'][0]['legs']:\n",
    "    print('leg sends person on following streets:')\n",
    "    if leg['mode']=='WALK':\n",
    "        for step in leg['steps']:\n",
    "            print(step['streetName'])\n",
    "    else:\n",
    "        print('N/A - not a walking leg.')"
   ]
  },
  {
   "cell_type": "markdown",
   "metadata": {
    "collapsed": true
   },
   "source": [
    "## Adding Further Options:\n",
    "\n",
    "The arriveBy parameter takes a time hh:mm:ss - can you add this option to our query?\n",
    "\n",
    "What happens if you increase the bikeSpeed option (takes an integer in MPH - defaults to 11 MPH)?"
   ]
  },
  {
   "cell_type": "code",
   "execution_count": null,
   "metadata": {
    "collapsed": true
   },
   "outputs": [],
   "source": [
    "your_qry_url = '{}plan?fromPlace={},{}&toPlace={},{}&date=2016-06-05'.format(base_url, origin_lat, origin_lon, destination_lat, destination_lon)   \n",
    "print(your_qry_url)\n",
    "\n",
    "response = requests.get(your_qry_url)\n",
    "response = response.text\n",
    "plan = json.loads(response)\n",
    "\n",
    "print(plan)"
   ]
  },
  {
   "cell_type": "markdown",
   "metadata": {},
   "source": [
    "## Incorporating Databases\n",
    "\n",
    "- Back to the [Table of Contents](#Table-of-Contents)\n",
    "\n",
    "We can use SQL Alchemy to grab some data from our databases."
   ]
  },
  {
   "cell_type": "code",
   "execution_count": null,
   "metadata": {
    "collapsed": true
   },
   "outputs": [],
   "source": [
    "# Database connection\n",
    "from sqlalchemy import create_engine\n",
    "engine = create_engine(\"postgresql://10.10.2.10:5432/appliedda\")"
   ]
  },
  {
   "cell_type": "code",
   "execution_count": null,
   "metadata": {
    "collapsed": true
   },
   "outputs": [],
   "source": [
    "pd.read_sql(\"SELECT table_name FROM information_schema.tables;\", engine)"
   ]
  },
  {
   "cell_type": "code",
   "execution_count": null,
   "metadata": {
    "collapsed": true,
    "scrolled": true
   },
   "outputs": [],
   "source": [
    "# The tl_2016_16980_tabblock10 table contains census blocks for Chicago:\n",
    "blocks_df = pd.read_sql(\"SELECT * FROM tl_2016_16980_tabblock10;\", engine)\n",
    "blocks_df[:5]"
   ]
  },
  {
   "cell_type": "code",
   "execution_count": null,
   "metadata": {
    "collapsed": true,
    "scrolled": true
   },
   "outputs": [],
   "source": [
    "# Block on East Side of Douglas Park\n",
    "## Used City of Chicago Data Portal to find the geoid10:\n",
    "block = blocks_df[blocks_df[\"geoid10\"] == \"170318433001046\"]\n",
    "block[:]"
   ]
  },
  {
   "cell_type": "code",
   "execution_count": null,
   "metadata": {
    "collapsed": true
   },
   "outputs": [],
   "source": [
    "centers_lim[:5]"
   ]
  },
  {
   "cell_type": "code",
   "execution_count": null,
   "metadata": {
    "collapsed": true
   },
   "outputs": [],
   "source": [
    "block_lat = 41.8599228\n",
    "block_lon = -87.6944049\n",
    "\n",
    "for i in range(0,len(centers_lim.index)):\n",
    "    \n",
    "    center = centers_lim.center_name[i]\n",
    "    center_lat = centers_lim.latitude[i]\n",
    "    center_lon = centers_lim.longitude[i]\n",
    "    \n",
    "    print(center)\n",
    "    \n",
    "    qry_url = '{}plan?fromPlace={},{}&toPlace={},{}&date=2016-06-10%mode=WALK,TRANSIT'.format(\n",
    "        base_url, block_lat, block_lon, center_lat, center_lon)   \n",
    "    \n",
    "    try:\n",
    "        response = requests.get(qry_url).text\n",
    "        plan = json.loads(response)\n",
    "        print(plan)\n",
    "                \n",
    "    except requests.exceptions.RequestException:\n",
    "        pass\n",
    "    "
   ]
  },
  {
   "cell_type": "code",
   "execution_count": null,
   "metadata": {
    "collapsed": true
   },
   "outputs": [],
   "source": [
    "centers_lim.count()"
   ]
  },
  {
   "cell_type": "code",
   "execution_count": null,
   "metadata": {
    "collapsed": true
   },
   "outputs": [],
   "source": [
    "origin_lat = centers_lim[\"latitude\"][2]\n",
    "origin_lon = centers_lim[\"longitude\"][2]\n",
    "\n",
    "destination_lat = centers_lim[\"latitude\"][10]\n",
    "destination_lon = centers_lim[\"longitude\"][10]\n",
    "\n",
    "qry_url = '{}plan?fromPlace={},{}&toPlace={},{}&date=2016-02-11'.format(base_url, origin_lat, origin_lon, destination_lat, destination_lon)   \n",
    "print(qry_url)\n",
    "\n",
    "response = requests.get(qry_url)\n",
    "response = response.text\n",
    "plan = json.loads(response)\n",
    "\n",
    "# Examine the response, which is a routing plan:\n",
    "print(plan)"
   ]
  },
  {
   "cell_type": "markdown",
   "metadata": {},
   "source": [
    "## Isochrone API\n",
    "\n",
    "- Back to the [Table of Contents](#Table-of-Contents)\n",
    "\n",
    "The Isochrone (meaning same-time) tool gives the area (as a polygon) a traveler can reach from a specified point within a travel time. Like the other APIs, the Isochrone API has many other query parameters the user can set if so desired, [description here](http://dev.opentripplanner.org/apidoc/1.0.0/resource_LIsochrone.html). It requires that we define a starting location, a mode of transportation, a date, and an amount of travel time.\n",
    "\n",
    "Below, we start in downtown Chicago, allowing use of foot and public transit, on a certain date, and with 30 minutes of travel time allowed."
   ]
  },
  {
   "cell_type": "code",
   "execution_count": null,
   "metadata": {
    "collapsed": true
   },
   "outputs": [],
   "source": [
    "# set start location\n",
    "start_point = [41.846698, -87.621385] # Mercy Hospital & Medical Center\n",
    "\n",
    "travel_time = 60 * 30 # time in seconds, so this is 30 minutes\n",
    "mode = \"WALK,TRANSIT\"\n",
    "\n",
    "url = (\"{}isochrone?fromPlace={},{}&mode={}&date=2016-06-01&cutoffSec={}\").format(\n",
    "    base_url,start_point[0],start_point[1],mode,travel_time)\n",
    "print(url)\n",
    "\n",
    "iso_response = requests.get(url)\n",
    "print(iso_response.text)"
   ]
  },
  {
   "cell_type": "markdown",
   "metadata": {},
   "source": [
    "> NOTE: as of Nov 1 underlying packages for spatial Python functions need to be updated on ADRF so the below will not work"
   ]
  },
  {
   "cell_type": "code",
   "execution_count": null,
   "metadata": {
    "collapsed": true
   },
   "outputs": [],
   "source": [
    "iso_json = json.loads(iso_response.text)\n",
    "\n",
    "## load isochrone into a geopandas dataframe\n",
    "iso_gdf = gpd.GeoDataFrame.from_features(iso_json['features'])\n",
    "iso_gdf[:]"
   ]
  },
  {
   "cell_type": "code",
   "execution_count": null,
   "metadata": {
    "collapsed": true
   },
   "outputs": [],
   "source": [
    "# view the resulting isochrone shape (can you guess why there are separated geographies?)\n",
    "iso_gdf.plot();"
   ]
  },
  {
   "cell_type": "markdown",
   "metadata": {},
   "source": [
    "One potential use case for this functionality: can people at two locations reach some common location within a specified travel time?"
   ]
  },
  {
   "cell_type": "code",
   "execution_count": null,
   "metadata": {
    "collapsed": true
   },
   "outputs": [],
   "source": [
    "# 2nd location\n",
    "start_point_2 = [41.884260, -87.630344] # Traffic Court in Richard J. Daley center\n",
    "\n",
    "url_2 = (\"{}isochrone?fromPlace={},{}&mode={}&date=2016-06-01&cutoffSec={}\").format(\n",
    "    base_url,start_point_2[0],start_point[1],mode,travel_time)\n",
    "\n",
    "# get json request\n",
    "iso_json_2 = json.loads(requests.get(url_2).text)\n",
    "\n",
    "## load isochrone into a geopandas dataframe\n",
    "iso_gdf_2 = gpd.GeoDataFrame.from_features(iso_json_2['features'])"
   ]
  },
  {
   "cell_type": "code",
   "execution_count": null,
   "metadata": {
    "collapsed": true
   },
   "outputs": [],
   "source": [
    "# view the second isochrone\n",
    "iso_gdf_2.plot();"
   ]
  },
  {
   "cell_type": "code",
   "execution_count": null,
   "metadata": {
    "collapsed": true
   },
   "outputs": [],
   "source": [
    "# do the two isochrones intersect?\n",
    "iso_gdf.intersects(iso_gdf_2)"
   ]
  },
  {
   "cell_type": "code",
   "execution_count": null,
   "metadata": {
    "collapsed": true
   },
   "outputs": [],
   "source": [
    "# they do intersect, so create an overlay with a 'union'\n",
    "iso_join = overlay(iso_gdf, iso_gdf_2, how='union')"
   ]
  },
  {
   "cell_type": "code",
   "execution_count": null,
   "metadata": {
    "collapsed": true
   },
   "outputs": [],
   "source": [
    "# what does the dataframe look like now?\n",
    "iso_join.head()"
   ]
  },
  {
   "cell_type": "code",
   "execution_count": null,
   "metadata": {
    "collapsed": true
   },
   "outputs": [],
   "source": [
    "# and visually?\n",
    "iso_join.plot();"
   ]
  },
  {
   "cell_type": "markdown",
   "metadata": {},
   "source": [
    "- Back to the [Table of Contents](#Table-of-Contents)\n",
    "\n",
    "> A bit annoyingly this is difficult to tell where the two overlap. To fix this we can group based on the \"time\" and \"time_2\" columns to end with just 3 combinations: \n",
    "1. accessible from our first location only, \n",
    "2. accessible our second location only, and \n",
    "3. accessible from either location\n",
    "\n",
    "We'll do this by using the [\"dissolve\" function](http://geopandas.org/aggregation_with_dissolve.html) from geopandas. However first we need to replace the \"NaN\" so those rows are not ignored"
   ]
  },
  {
   "cell_type": "code",
   "execution_count": null,
   "metadata": {
    "collapsed": true
   },
   "outputs": [],
   "source": [
    "# replace NaN with placeholder value, let's say 99999\n",
    "iso_join.fillna(99999, inplace=True)"
   ]
  },
  {
   "cell_type": "code",
   "execution_count": null,
   "metadata": {
    "collapsed": true
   },
   "outputs": [],
   "source": [
    "iso_join = iso_join.dissolve(by=['time', 'time_2']).reset_index()\n",
    "\n",
    "# Note: used reset_index() here so it's easier to use the 'time' and 'time_2' columns if needed"
   ]
  },
  {
   "cell_type": "code",
   "execution_count": null,
   "metadata": {
    "collapsed": true
   },
   "outputs": [],
   "source": [
    "# now what does it look like?\n",
    "iso_join"
   ]
  },
  {
   "cell_type": "code",
   "execution_count": null,
   "metadata": {
    "collapsed": true
   },
   "outputs": [],
   "source": [
    "# and visually?\n",
    "iso_join.plot();"
   ]
  },
  {
   "cell_type": "code",
   "execution_count": null,
   "metadata": {
    "collapsed": true
   },
   "outputs": [],
   "source": [
    "# add a label column to use so we can include a legend\n",
    "iso_join['label'] = ''\n",
    "\n",
    "# use index slicing function '.loc' of dataframes to update each value of label appropriately\n",
    "iso_join.loc[0,'label'] = 'Both'\n",
    "iso_join.loc[1,'label'] = 'point 1 only'\n",
    "iso_join.loc[2,'label'] = 'point 2 only'"
   ]
  },
  {
   "cell_type": "code",
   "execution_count": null,
   "metadata": {
    "collapsed": true,
    "scrolled": true
   },
   "outputs": [],
   "source": [
    "# set up a nicer visualization with labels\n",
    "f,ax = plt.subplots(figsize=(8,8))\n",
    "\n",
    "# use geopandas to specify label column and adding a legend to the matplotlib object 'ax'\n",
    "iso_join.plot(column='label', ax=ax, legend=True);\n",
    "\n",
    "# also plot start and stop points on the same map, note matplotlib takes [x,y] coordinates\n",
    "ax.plot(start_point[1], start_point[0], 's', color='orange', markersize=10, label='point 1')\n",
    "ax.plot(start_point_2[1], start_point_2[0], 's', color='grey', markersize=10, label='point 2')\n",
    "\n",
    "# add some other labels\n",
    "ax.set_xlabel('Longitude')\n",
    "ax.set_ylabel('Latitude')\n",
    "\n",
    "# title\n",
    "ax.set_title('Area accessible within {} minutes travel using public transit'.format(travel_time/60));"
   ]
  }
 ],
 "metadata": {
  "anaconda-cloud": {},
  "kernelspec": {
   "display_name": "Python 3",
   "language": "python",
   "name": "python3"
  },
  "language_info": {
   "codemirror_mode": {
    "name": "ipython",
    "version": 3
   },
   "file_extension": ".py",
   "mimetype": "text/x-python",
   "name": "python",
   "nbconvert_exporter": "python",
   "pygments_lexer": "ipython3",
   "version": "3.6.2"
  },
  "toc": {
   "nav_menu": {},
   "number_sections": false,
   "sideBar": true,
   "skip_h1_title": false,
   "title_cell": "Table of Contents",
   "title_sidebar": "Contents",
   "toc_cell": false,
   "toc_position": {
    "height": "calc(100% - 180px)",
    "left": "10px",
    "top": "150px",
    "width": "210.181818px"
   },
   "toc_section_display": true,
   "toc_window_display": true
  }
 },
 "nbformat": 4,
 "nbformat_minor": 1
}
