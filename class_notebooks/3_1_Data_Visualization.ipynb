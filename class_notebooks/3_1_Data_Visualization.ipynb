{
 "cells": [
  {
   "cell_type": "markdown",
   "metadata": {},
   "source": [
    "<img style=\"float: center;\" src=\"images/CI_horizontal.png\" width=\"600\">\n",
    "<center>\n",
    "    <span style=\"font-size: 1.5em;\">\n",
    "        <a href='https://www.coleridgeinitiative.org'>Website</a>\n",
    "    </span>\n",
    "</center>\n",
    "\n",
    "Ghani, Rayid, Frauke Kreuter, Julia Lane, Adrianne Bradford, Alex Engler, Nicolas Guetta Jeanrenaud, Graham Henke, Daniela Hochfellner, Clayton Hunter, Brian Kim, Avishek Kumar, Jonathan Morgan, and Ridhima Sodhi. \"ADA-KCMO-2018.\" Coleridge Initiative GitHub Repositories. 2018. https://github.com/Coleridge-Initiative/ada-kcmo-2018. [![DOI](https://zenodo.org/badge/119078858.svg)](https://zenodo.org/badge/latestdoi/119078858)"
   ]
  },
  {
   "cell_type": "markdown",
   "metadata": {},
   "source": [
    "# Data Visualization in Python\n",
    "---"
   ]
  },
  {
   "cell_type": "markdown",
   "metadata": {},
   "source": [
    "## Table of Contents\n",
    "- [Introduction](#Introduction)\n",
    "    - [Learning Objectives](#Learning-Objectives)\n",
    "- [Python Setup](#Python-Setup)\n",
    "- [Load the Data](#Load-the-Data)\n",
    "- [Our First Chart in `matplotlib`](#Our-First-Chart-in-matplotlib)\n",
    "    - [A Note on Data Sourcing](#A-Note-on-Data-Sourcing)\n",
    "    - [Layering in `matplotlib`](#Layering-in-matplotlib)\n",
    "- [Our First Chart in `seaborn`](#Our-First-Chart-in-seaborn)\n",
    "- [Choosing a Data Visualization package](#Choosing-a-Data-Visualization-Package)\n",
    "    - [Combining `seaborn` and `matplotlib`](#Combining-seaborn-and-matplotlib)\n",
    "- [Visual Encodings](#Visual-Encodings)\n",
    "    - [Using Hex Codes for Color](#Using-Hex-Codes-for-Color)\n",
    "    - [Saving Charts as a Variable](#Saving-Charts-as-a-Variable)\n",
    "    - [An Important Note on Graph Titles](#An-Important-Note-on-Graph-Titles)\n",
    "- [Exporting Completed Graphs](#Exporting-Completed-Graphs)\n",
    "- [Exercises & Practice](#Exercises-&-Practice)\n",
    "- [Additional Resources](#Additional-Resources)"
   ]
  },
  {
   "cell_type": "markdown",
   "metadata": {},
   "source": [
    "## Introduction\n",
    "- Back to [Table of Contents](#Table-of-Contents)\n",
    "\n",
    "In this module, you will learn to quickly and flexibly make a wide series of visualizations for exploratory data analysis and communicating to your audience. This module contains a practical introduction to data visualization in Python and covers important rules that any data visualizer should follow.\n",
    "\n",
    "### Learning Objectives\n",
    "\n",
    "* Learn critical rules about data visualization (using the correct graph types, correctly labeling all visual encodings, properly sourcing data).\n",
    "\n",
    "* Become familiar with a core base of data visualization tools in Python - specifically matplotlib and seaborn.\n",
    "\n",
    "* Start to develop the ability to conceptualize what visualizations are going to best reveal various types of patterns in your data.\n",
    "\n",
    "* Learn more about class data with exploratory analyses."
   ]
  },
  {
   "cell_type": "markdown",
   "metadata": {},
   "source": [
    "## Python Setup\n",
    "- Back to [Table of Contents](#Table-of-Contents)"
   ]
  },
  {
   "cell_type": "code",
   "execution_count": null,
   "metadata": {},
   "outputs": [],
   "source": [
    "import pandas as pd\n",
    "\n",
    "import matplotlib as mplib\n",
    "import matplotlib.pyplot as plt # visualization package\n",
    "import seaborn as sns\n",
    "\n",
    "# database connections\n",
    "from sqlalchemy import create_engine # to get data from database\n",
    "from sqlalchemy import __version__ as sql_version\n",
    "from sqlalchemy import inspect\n",
    "\n",
    "# so images get plotted in the notebook\n",
    "%matplotlib inline"
   ]
  },
  {
   "cell_type": "markdown",
   "metadata": {},
   "source": [
    "## Load the Data\n",
    "- Back to [Table of Contents](#Table-of-Contents)"
   ]
  },
  {
   "cell_type": "code",
   "execution_count": null,
   "metadata": {},
   "outputs": [],
   "source": [
    "# set up sqlalchemy engine\n",
    "engine = create_engine('postgresql://10.10.2.10/appliedda')"
   ]
  },
  {
   "cell_type": "markdown",
   "metadata": {},
   "source": [
    "Let's focus on the employer data. The employer EIN is a unique identification number for every organization. Grouping by EIN, let's take a look at the total number of employees and the total wages by company during three distinct quarters: the first quarter of 2006, the first quarter of 2010, and the first quarter of 2016."
   ]
  },
  {
   "cell_type": "code",
   "execution_count": null,
   "metadata": {
    "scrolled": true
   },
   "outputs": [],
   "source": [
    "# We can look at column names within the employers table:\n",
    "query = '''\n",
    "SELECT * \n",
    "FROM information_schema.columns \n",
    "WHERE table_schema = 'kcmo_lehd' AND table_name = 'mo_qcew_employers'\n",
    "'''\n",
    "pd.read_sql(query, engine)"
   ]
  },
  {
   "cell_type": "code",
   "execution_count": null,
   "metadata": {},
   "outputs": [],
   "source": [
    "# For 3 distinct quarters, let's look at total number of employees and total wages per EIN\n",
    "\n",
    "select_string = '''\n",
    "SELECT ein\n",
    "        , year\n",
    "        , qtr\n",
    "        , SUM(mon1_empl) AS total_empl1\n",
    "        , SUM(mon2_empl) AS total_empl2\n",
    "        , SUM(mon3_empl) AS total_empl3\n",
    "        , SUM(total_wage) AS total_wage\n",
    "FROM kcmo_lehd.mo_qcew_employers\n",
    "WHERE year in (2006, 2010, 2016)\n",
    "        AND ein != '' \n",
    "        AND qtr = 1\n",
    "        AND total_wage > 0 \n",
    "        AND mon1_empl > 0\n",
    "        AND mon2_empl > 0\n",
    "        AND mon3_empl > 0\n",
    "GROUP BY ein, year, qtr;\n",
    "'''\n",
    "ein_empl = pd.read_sql(select_string, engine)\n",
    "\n",
    "print(\"Number of rows returned: \" + str(len(ein_empl)))"
   ]
  },
  {
   "cell_type": "code",
   "execution_count": null,
   "metadata": {},
   "outputs": [],
   "source": [
    "pd.crosstab(index = ein_empl['year'], columns = 'count')"
   ]
  },
  {
   "cell_type": "markdown",
   "metadata": {},
   "source": [
    "Let's define the average employer monthly wage as the total wages over the quarter divided by the sum of the number of employees in every month of the quarter."
   ]
  },
  {
   "cell_type": "code",
   "execution_count": null,
   "metadata": {},
   "outputs": [],
   "source": [
    "ein_empl['total_empl'] = ein_empl['total_empl1']+ein_empl['total_empl2']+ein_empl['total_empl3']\n",
    "ein_empl['avg_wage'] = ein_empl['total_wage']/ein_empl['total_empl']"
   ]
  },
  {
   "cell_type": "code",
   "execution_count": null,
   "metadata": {
    "scrolled": false
   },
   "outputs": [],
   "source": [
    "ein_empl.head()"
   ]
  },
  {
   "cell_type": "markdown",
   "metadata": {},
   "source": [
    "## Our First Chart in `matplotlib`\n",
    "- Back to [Table of Contents](#Table-of-Contents)\n",
    "\n",
    "Below, we make our first chart in matplotlib. We'll come back to the choice of this particular library in a second, but for now just appreciate that the visualization is creating sensible scales, tick marks, and gridlines on its own."
   ]
  },
  {
   "cell_type": "code",
   "execution_count": null,
   "metadata": {},
   "outputs": [],
   "source": [
    "# Make a simple histogram:\n",
    "plt.hist(ein_empl['avg_wage'])\n",
    "plt.show()"
   ]
  },
  {
   "cell_type": "markdown",
   "metadata": {},
   "source": [
    "The chart only shows us one bar. What is the distribution of our data? "
   ]
  },
  {
   "cell_type": "code",
   "execution_count": null,
   "metadata": {},
   "outputs": [],
   "source": [
    "ein_empl['avg_wage'].describe(percentiles = [.01, .1, .25, .5, .75, .9, .99])"
   ]
  },
  {
   "cell_type": "markdown",
   "metadata": {},
   "source": [
    "Since the distribution of average wages is very skewed to the right, let's limit our data to average wages under $8,000 a month."
   ]
  },
  {
   "cell_type": "code",
   "execution_count": null,
   "metadata": {},
   "outputs": [],
   "source": [
    "## Average wages per company often have a very strong right skew:\n",
    "max_empl = ein_empl['avg_wage'].max()\n",
    "print(\"Maximum average company wage = \" + str(max_empl))\n",
    "\n",
    "## But most companies have an average wage of under $8000 per month:\n",
    "(ein_empl['avg_wage'] < 8000).value_counts()"
   ]
  },
  {
   "cell_type": "code",
   "execution_count": null,
   "metadata": {},
   "outputs": [],
   "source": [
    "## So let's just look at companies with average wages under $8000 per month\n",
    "ein_empl_lim = ein_empl[(ein_empl['avg_wage'] <= 8000)]\n",
    "\n",
    "# Make a simple histogram:\n",
    "plt.hist(ein_empl_lim['avg_wage'])\n",
    "plt.show()"
   ]
  },
  {
   "cell_type": "code",
   "execution_count": null,
   "metadata": {},
   "outputs": [],
   "source": [
    "## We can change options within the hist function (e.g. number of bins, color, transparency:\n",
    "plt.hist(ein_empl_lim['avg_wage'], bins=20, facecolor=\"purple\", alpha=0.5)\n",
    "\n",
    "## And we can affect the plot options too:\n",
    "plt.xlabel('Average Monthly Wage')\n",
    "plt.ylabel('Number of Employers')\n",
    "plt.title('Most Employers Pay Under $5,000 per Month')\n",
    "\n",
    "## And add Data sourcing:\n",
    "### xy are measured in percent of axes length, from bottom left of graph:\n",
    "plt.annotate('Source: MO Department of Labor', xy=(0.7,-0.2), xycoords=\"axes fraction\")\n",
    "\n",
    "## We use plt.show() to display the graph once we are done setting options:\n",
    "plt.show()"
   ]
  },
  {
   "cell_type": "markdown",
   "metadata": {},
   "source": [
    "### A Note on Data Sourcing\n",
    "- Back to [Table of Contents](#Table-of-Contents)\n",
    "\n",
    "Data sourcing is a critical aspect of any data visualization. Although here we are simply referencing the agencies that created the data, it is ideal to provide as direct of a path as possible for the viewer to find the data the graph is based on. When this is not possible (e.g. the data is sequestered), directing the viewer to documentation or methodology for the data is a good alternative. Regardless, providing clear sourcing for the underlying data is an **absolutely requirement** of any respectable visualization, and further builds trusts and enables reproducibility."
   ]
  },
  {
   "cell_type": "markdown",
   "metadata": {},
   "source": [
    "### Layering in `matplotlib`\n",
    "- Back to [Table of Contents](#Table-of-Contents)\n",
    "\n",
    "This functionality - where we can make consecutive changes to the same plot - also allows us to layer on multiple plots. By default, the first graph you create will be at the bottom, with ensuing graphs on top.\n",
    "\n",
    "Below, we see the 2006 histogram, in blue, is beneath the 2016 histogram, in orange. You might also notice that since 2006, the number of employers paying high average wages has increased, but the number of companies paying an average monthly wage of around $2,000 has decreased."
   ]
  },
  {
   "cell_type": "code",
   "execution_count": null,
   "metadata": {
    "scrolled": true
   },
   "outputs": [],
   "source": [
    "plt.hist(ein_empl_lim[ein_empl_lim['year'] == 2016].avg_wage, facecolor=\"blue\", alpha=0.5)\n",
    "plt.hist(ein_empl_lim[ein_empl_lim['year'] == 2006].avg_wage, facecolor=\"orange\", alpha=0.5)\n",
    "plt.annotate('Source: MO Department of Labor', xy=(0.7,-0.2), xycoords=\"axes fraction\")\n",
    "plt.show()"
   ]
  },
  {
   "cell_type": "markdown",
   "metadata": {},
   "source": [
    "## Our First Chart in `seaborn`\n",
    "- Back to [Table of Contents](#Table-of-Contents)\n",
    "\n",
    "Below, we quickly use pandas to create an aggregation of our job data - the total number of jobs by year. Then we pass the data to the barplot function in the `seaborn` function, which recall we imported as `sns` for short."
   ]
  },
  {
   "cell_type": "code",
   "execution_count": null,
   "metadata": {},
   "outputs": [],
   "source": [
    "## Calculate average wages by year:\n",
    "overall_avg_wage = ein_empl.groupby('year')[['total_empl', 'total_wage']].sum().reset_index()\n",
    "overall_avg_wage['average_wages'] = overall_avg_wage['total_wage']/overall_avg_wage['total_empl']\n",
    "overall_avg_wage.columns = ['year', 'total_empl', 'total_wage', 'average_wages']\n",
    "\n",
    "print(type(overall_avg_wage))\n",
    "print(\"***********\")\n",
    "print(overall_avg_wage)"
   ]
  },
  {
   "cell_type": "code",
   "execution_count": null,
   "metadata": {
    "scrolled": true
   },
   "outputs": [],
   "source": [
    "## Barplot function\n",
    "# Note we can reference column names (in quotes) in the specified data:\n",
    "sns.barplot(x='year', y='average_wages', data=overall_avg_wage)\n",
    "plt.show()"
   ]
  },
  {
   "cell_type": "markdown",
   "metadata": {},
   "source": [
    "You might notice that if you don't include plt.show(), Jupyter will still produce a chart. However this is not the case in other environments. So we will continue using plt.show() to more formally ask for Python to display the chart we have constructed, after adding all layers and setting all options."
   ]
  },
  {
   "cell_type": "code",
   "execution_count": null,
   "metadata": {
    "scrolled": true
   },
   "outputs": [],
   "source": [
    "## Seaborn has a great series of charts for showing distributions across a categorical variable:\n",
    "sns.factorplot(x='year', y='avg_wage', hue='year', data=ein_empl_lim, kind='box')\n",
    "plt.show()\n",
    "\n",
    "## Other options for the 'kind' argument include 'bar' and 'violin'"
   ]
  },
  {
   "cell_type": "markdown",
   "metadata": {},
   "source": [
    "Already you might notice some differences between matplotlib and seaborn - at the very least seaborn allows us to more easily reference column names within a pandas dataframe, whereas matplotlib clearly has a plethora of options."
   ]
  },
  {
   "cell_type": "markdown",
   "metadata": {},
   "source": [
    "## Choosing a Data Visualization Package\n",
    "\n",
    "- Back to [Table of Contents](#Table-of-Contents)\n",
    "\n",
    "There are many excellent data visualiation modules available in Python, but for the tutorial we will stick to the tried and true combination of `matplotlib` and `seaborn`. You can read more about different options for data visualization in Python in the [More Resources](#More-Resources) section at the bottom of this notebook. \n",
    "\n",
    "`matplotlib` is very expressive, meaning it has functionality that can easily account for fine-tuned graph creation and adjustment. However, this also means that `matplotlib` is somewhat more complex to code.\n",
    "\n",
    "`seaborn` is a higher-level visualization module, which means it is much less expressive and flexible than matplotlib, but far more concise and easier to code.\n",
    "\n",
    "It may seem like we need to choose between these two approaches, but this is not the case! Since `seaborn` is itself written in `matplotlib` (you will sometimes see `seaborn` be called a `matplotlib` 'wrapper'), we can use `seaborn` for making graphs quickly and then `matplotlib` for specific adjustments. When you see `plt` referenced in the code below, we are using `matplotlib`'s pyplot submodule.\n",
    "\n",
    "\n",
    "`seaborn` also improves on `matplotlib` in important ways, such as the ability to more easily visualize regression model results, creating small multiples, enabling better color palettes, and improve default aesthetics. From [`seaborn`'s documentation](https://seaborn.pydata.org/introduction.html):\n",
    "\n",
    "> If matplotlib 'tries to make easy things easy and hard things possible', seaborn tries to make a well-defined set of hard things easy too. "
   ]
  },
  {
   "cell_type": "code",
   "execution_count": null,
   "metadata": {
    "scrolled": false
   },
   "outputs": [],
   "source": [
    "## Seaborn offers a powerful tool called FacetGrid for making small multiples of matplotlib graphs:\n",
    "\n",
    "### Create an empty set of grids:\n",
    "facet_histograms = sns.FacetGrid(ein_empl_lim, col='year', hue='year')\n",
    "\n",
    "## \"map' a histogram to each grid:\n",
    "facet_histograms = facet_histograms.map(plt.hist, 'avg_wage')\n",
    "\n",
    "## Data Sourcing:\n",
    "plt.annotate('Source: MO Department of Labor', xy=(0.6,-0.35), xycoords=\"axes fraction\")\n",
    "plt.show()"
   ]
  },
  {
   "cell_type": "code",
   "execution_count": null,
   "metadata": {},
   "outputs": [],
   "source": [
    "## Alternatively, you can create and save several charts:\n",
    "for i in set(ein_empl_lim[\"year\"]):\n",
    "    tmp = ein_empl_lim[ein_empl_lim[\"year\"] == i]\n",
    "    plt.hist(tmp[\"avg_wage\"])\n",
    "\n",
    "    plt.xlabel('Average Monthly Wage')\n",
    "    plt.ylabel('Number of Employers')\n",
    "    plt.title(str(i))\n",
    "    \n",
    "    plt.annotate('Source: MO Department of Labor', xy=(0.7,-0.2), xycoords=\"axes fraction\")\n",
    "\n",
    "    filename = \"output/graph_\" + str(i) + \".pdf\"\n",
    "    plt.savefig(filename)\n",
    "    plt.show()"
   ]
  },
  {
   "cell_type": "markdown",
   "metadata": {},
   "source": [
    "### Combining `seaborn` and `matplotlib` \n",
    "- Back to [Table of Contents](#Table-of-Contents)\n",
    "\n",
    "Below, we use `seaborn` for setting an overall aesthetic style and then faceting (created small multiples). We then use `matplotlib` to set very specific adjustments - things like adding the title, adjusting the locations of the plots, and sizing th graph space. This is a pretty protoyptical use of the power of these two libraries together. \n",
    "\n",
    "More on [`seaborn`'s set_style function](https://seaborn.pydata.org/generated/seaborn.set_style.html).\n",
    "More on [`matplotlib`'s figure (fig) API](https://matplotlib.org/api/figure_api.html)."
   ]
  },
  {
   "cell_type": "code",
   "execution_count": null,
   "metadata": {},
   "outputs": [],
   "source": [
    "# Seaborn's set_style function allows us to set many aesthetic parameters.\n",
    "sns.set_style(\"whitegrid\")\n",
    "\n",
    "facet_histograms = sns.FacetGrid(ein_empl_lim, col='year', hue='year')\n",
    "facet_histograms.map(plt.hist, 'avg_wage')\n",
    "\n",
    "## We can still change options with matplotlib, using facet_histograms.fig\n",
    "facet_histograms.fig.subplots_adjust(top=0.85)\n",
    "facet_histograms.fig.suptitle(\"Employer Average Monthly Wages Improved since 2006\", fontsize=14)\n",
    "facet_histograms.fig.set_size_inches(10,5)\n",
    "\n",
    "## Add a legend for hue (color):\n",
    "facet_histograms = facet_histograms.add_legend()\n",
    "\n",
    "## Data Sourcing:\n",
    "plt.annotate('Source: MO LEHD', xy=(0.6,-0.35), xycoords=\"axes fraction\")\n",
    "plt.show()"
   ]
  },
  {
   "cell_type": "markdown",
   "metadata": {},
   "source": [
    "## Visual Encodings\n",
    "\n",
    "- Back to [Table of Contents](#Table-of-Contents)\n",
    "\n",
    "We often start with charts that use 2-dimensional position (like a scatterplot) or that use height (like histograms and bar charts). This is because these visual encodings - the visible mark that represents the data - are particularly perceptually strong. This means that when humans view these visual encodings, they are more accurate in estimating the underlying numbers than encodings like size (think circle size in a bubble chart) or angle (e.g. pie chart).\n",
    "\n",
    "For more information on visual encodings and data visualization theory, see:\n",
    "\n",
    "* [Designing Data Visualizations, Chapter 4](http://www.safaribooksonline.com/library/view/designing-data-visualizations/9781449314774/ch04.html) by Julie Steele and Noah Iliinsky\n",
    "\n",
    "* Now You See It - book by Stephen Few"
   ]
  },
  {
   "cell_type": "code",
   "execution_count": null,
   "metadata": {},
   "outputs": [],
   "source": [
    "select_string = \"SELECT year, SUM(mon1_empl + mon2_empl + mon3_empl) AS total_empl, SUM(total_wage) AS total_wages\"\n",
    "select_string += \" FROM kcmo_lehd.mo_qcew_employers\"\n",
    "select_string += \" GROUP BY year\"\n",
    "\n",
    "yearly_avg_wages = pd.read_sql(select_string, engine)"
   ]
  },
  {
   "cell_type": "code",
   "execution_count": null,
   "metadata": {},
   "outputs": [],
   "source": [
    "yearly_avg_wages['avg_wage'] = yearly_avg_wages['total_wages']/yearly_avg_wages['total_empl']\n",
    "yearly_avg_wages = yearly_avg_wages.sort_values('year')\n",
    "yearly_avg_wages"
   ]
  },
  {
   "cell_type": "code",
   "execution_count": null,
   "metadata": {
    "scrolled": true
   },
   "outputs": [],
   "source": [
    "## We can pass a single value to a the tsplot function to get a simple line chart:\n",
    "sns.tsplot(data=yearly_avg_wages['avg_wage'], color=\"#179809\")\n",
    "\n",
    "## Data Sourcing:\n",
    "plt.annotate('Source: MO Department of Labor', xy=(0.8,-0.20), xycoords=\"axes fraction\")\n",
    "plt.show()"
   ]
  },
  {
   "cell_type": "markdown",
   "metadata": {},
   "source": [
    "### Using Hex Codes for Color\n",
    "- Back to [Table of Contents](#Table-of-Contents)\n",
    "\n",
    "In the graph above, you can see I set the color of the graph with a pound sign `#` followed by a series of six numbers. This is a hexcode - which is short for hexadecimal code. A hexadecimal code lets you specify one of over 16 million colors using combinations of red, green, and blue. It first has two digits for red, then two digits for green, and lastly two digits for blue: `#RRGGBB`\n",
    "\n",
    "Further, these codes allow for you to specify sixteen integers (thus hexadecimal) for each digit, in this order:\n",
    "\n",
    "(0,1,2,3,4,5,6,7,8,9,A,B,C,D,E,F)\n",
    "\n",
    "Over time, it gets easier to read these codes. For instance, above, I used the hex code \"#179809\". Understanding how hex codes work, I can see that there is a relatively low number for red (17) and fairly high number for green (98) and another low number for blue (09). Thus it shouldn't be too surprising that a green color resulted in the graph.\n",
    "\n",
    "Tools like [Adobe Color](https://color.adobe.com) and this [Hex Calculator](https://www.w3schoosl.com/colors/colors_hexadecimal.asp) can help you get used to this system.\n",
    "\n",
    "Most modern browsers also support eight digit hex codes, in which the first two enable transparency, which is often called 'alpha' in data visualization: `#AARRGGBB`"
   ]
  },
  {
   "cell_type": "code",
   "execution_count": null,
   "metadata": {
    "scrolled": true
   },
   "outputs": [],
   "source": [
    "## We can add the time argument to set the x-axis correctly. And let's change the color, since we can:\n",
    "sns.tsplot(data=yearly_avg_wages['avg_wage'], time=yearly_avg_wages['year'], color=\"#B088CD\")\n",
    "\n",
    "# Color Note: B088CD\n",
    "## The highest values are red 'B0' and blue 'CD', so we can expect a mix of those\n",
    "## Further this is high in all three colors, so it'll be light, not dark\n",
    "\n",
    "## Data Sourcing:\n",
    "plt.annotate('Source: MO Department of Labor', xy=(0.8,-0.20), xycoords=\"axes fraction\")\n",
    "plt.show()"
   ]
  },
  {
   "cell_type": "markdown",
   "metadata": {},
   "source": [
    "### Saving Charts as a Variable\n",
    "- Back to [Table of Contents](#Table-of-Contents)\n",
    "\n",
    "Although as you can see above, we can immediately print our plots on a page, it is generally better to save them as variable. We can then alter the charts over several lines before finally displaying them with the `show()` function, which comes from the `matplotlib` `pyplot` module we loaded earlier."
   ]
  },
  {
   "cell_type": "code",
   "execution_count": null,
   "metadata": {
    "scrolled": false
   },
   "outputs": [],
   "source": [
    "## Save the line chart as 'graph'\n",
    "graph = sns.tsplot(data=yearly_avg_wages['avg_wage'], time=yearly_avg_wages['year'])\n",
    "\n",
    "## To add data labels, we loop over each row and use graph.text()\n",
    "for i, row, in yearly_avg_wages.iterrows():\n",
    "    graph.text(row[\"year\"] + 0.05, row[\"avg_wage\"] - 50, int(row[\"year\"]))\n",
    "    \n",
    "## Now change x-axis and y-axis labels:\n",
    "graph.set(xlabel=\"Year\", ylabel=\"Average Annual Wage\")\n",
    "graph.set(title=\"Rising Annual Wages since the 2009 Financial Crisis\")\n",
    "\n",
    "plt.annotate('Source: MO Department of Labor', xy=(0.8,-0.20), xycoords=\"axes fraction\")\n",
    "\n",
    "## Then display the plot:\n",
    "plt.show()"
   ]
  },
  {
   "cell_type": "markdown",
   "metadata": {},
   "source": [
    "### An Important Note on Graph Titles\n",
    "- Back to [Table of Contents](#Table-of-Contents)\n",
    "\n",
    "The title of a visualization occupies the most valuable real estate on the page. If nothing else, you can be reasonably sure a viewer will at least read the title and glance at your visualization. This is why you want to put thought into making a clear and effective title that acts as a **narrative** for your chart. Many novice visualizers default to an **explanatory** title, something like: \"Average Wages Over Time (2006-2016)\". This title is correct - it just isn't very useful. This is particularly true since any good graph will have explained what the visualization is through the axes and legends. Instead, use the title to reinforce and explain the core point of the visualization. It should answer the question \"Why is this graph important?\" and focus the viewer onto the most critical take-away."
   ]
  },
  {
   "cell_type": "markdown",
   "metadata": {},
   "source": [
    "## Exporting Completed Graphs\n",
    "- Back to [Table of Contents](#Table-of-Contents)\n",
    "\n",
    "When you are satisfied with your visualization, you may want to save a a copy outside of your notebook. You can do this with `matplotlib`'s savefig function. You simply need to run:\n",
    "\n",
    "plt.savefig(\"fileName.fileExtension\")\n",
    "\n",
    "The file extension is actually surprisingly important. Image formats like png and jpeg are actually **not ideal**. These file formats store your graph as a giant grid of pixels, which is space-efficient, but can't be edited later. Saving your visualizations instead as a PDF is strongly advised. PDFs are a type of vector image, which means all the component of the graph will be maintained.\n",
    "\n",
    "With PDFs, you can later open the image in a program like Adobe Illustrator and make changes like the size or typeface of your text, move your legends, or adjust the colors of your visual encodings. All of this would be impossible with a png or jpeg."
   ]
  },
  {
   "cell_type": "code",
   "execution_count": null,
   "metadata": {
    "scrolled": false
   },
   "outputs": [],
   "source": [
    "## Save the line chart as 'graph'\n",
    "graph = sns.tsplot(data=yearly_avg_wages['avg_wage'], time=yearly_avg_wages['year'])\n",
    "\n",
    "## To add data labels, we loop over each row and use graph.text()\n",
    "for i, row, in yearly_avg_wages.iterrows():\n",
    "    graph.text(row[\"year\"] + 0.05, row[\"avg_wage\"] - 50, int(row[\"year\"]))\n",
    "    \n",
    "## Now change x-axis and y-axis labels:\n",
    "graph.set(xlabel=\"Year\", ylabel=\"Average Annual Wage\")\n",
    "graph.set(title=\"Rising Annual Wages since the 2009 Financial Crisis\")\n",
    "\n",
    "plt.annotate('Source: MO Department of Labor', xy=(0.8,-0.20), xycoords=\"axes fraction\")\n",
    "\n",
    "plt.savefig('output/wageplot.png')\n",
    "plt.savefig('output/wageplot.pdf')"
   ]
  },
  {
   "cell_type": "markdown",
   "metadata": {},
   "source": [
    "## Exercises & Practice\n",
    "- Back to [Table of Contents](#Table-of-Contents)"
   ]
  },
  {
   "cell_type": "markdown",
   "metadata": {},
   "source": [
    "### Exercise 1: Directed Scatterplot\n",
    "- Back to [Table of Contents](#Table-of-Contents)\n",
    "\n",
    "A directed scatterplot still uses one point for each year, but then uses the x-axis and the y-axis for variabes. In order to maintain the ordinal relationship, a line is drawn between the years. To do this in seaborn, we actually use sns.FacetGrid, which allows us to overlay different plots together. Specifically, it lets us overlay a scatterplot (`plt.scatter` and a line chart `plt.plot`)."
   ]
  },
  {
   "cell_type": "code",
   "execution_count": null,
   "metadata": {},
   "outputs": [],
   "source": [
    "# We can also look at a scatterplot of the number of people and averages wages in each year:\n",
    "scatter = sns.lmplot(x='total_empl', y='avg_wage', data=yearly_avg_wages, fit_reg=False)\n",
    "scatter.set(xlabel=\"Number of Employees\", ylabel=\"Average Annual Wages\", title=\"Number and Wages of MO Employees\")\n",
    " \n",
    "## Sourcing:\n",
    "plt.annotate('Source: MO Department of Labor', xy=(0.8,-0.20), xycoords=\"axes fraction\")\n",
    "\n",
    "plt.show()"
   ]
  },
  {
   "cell_type": "code",
   "execution_count": null,
   "metadata": {},
   "outputs": [],
   "source": [
    "cncted_scatter = sns.FacetGrid(data=yearly_avg_wages, size=7)\n",
    "cncted_scatter.map(plt.scatter, 'total_empl', 'avg_wage', color=\"#A72313\")\n",
    "cncted_scatter.map(plt.plot, 'total_empl', 'avg_wage', color=\"#A72313\")\n",
    "cncted_scatter.set(title=\"Rising Wages of MO Employees\", xlabel=\"Number of Employees\", ylabel=\"Average Wages\")\n",
    "\n",
    "## Adding data labels:\n",
    "for i, row, in yearly_avg_wages.iterrows():\n",
    "    plt.text(row[\"total_empl\"], row[\"avg_wage\"], int(row[\"year\"]))\n",
    "    \n",
    "## Sourcing:\n",
    "plt.annotate('Source: MO Department of Labor', xy=(0.8,-0.10), xycoords=\"axes fraction\")\n",
    "\n",
    "plt.show()"
   ]
  },
  {
   "cell_type": "markdown",
   "metadata": {},
   "source": [
    "### Exercise 2: Heatmap\n",
    "- Back to [Table of Contents](#Table-of-Contents)\n",
    "\n",
    "Below, we reconsider the count of jobs by industry that we calculated in the \"Variables\" notebook. We query the database and collect the the sum of the jobs in every industry from the LODES data. We then format this data into a wide DataFrame using `pandas`. This grid is format that `seaborn`'s heatmap function is expecting.\n",
    "\n",
    "If you would like to reproduce this type of graph, query one of the tables again and create dataframe in the correct format, then pass that along to seaborn's heatmap function. Use the code you learned above to add a title, better axis labels, and data sourcing.\n",
    "\n",
    "Note that the color map used here `viridis` is a scientifically derived color palette meant to be perceptually linear. The color maps `inferno`, `plasma` and `magama` also all meet this criteria.\n",
    "\n",
    "__More information:__\n",
    "* [seaborn heatmap documentation](http://seaborn.pydata.org/generated/seaborn.heatmap.html)\n",
    "\n",
    "* [matplotlib color map documentation](http://matplotlib.org/users/colormap.html)"
   ]
  },
  {
   "cell_type": "code",
   "execution_count": null,
   "metadata": {},
   "outputs": [],
   "source": [
    "query = '''\n",
    "SELECT *\n",
    "FROM public.lodes_workplace_area_characteristics\n",
    "WHERE segment = 'S000' AND jobtype = 'JT01' AND state = 'mo'\n",
    "LIMIT 20;\n",
    "'''\n",
    "wac = pd.read_sql(query, engine)"
   ]
  },
  {
   "cell_type": "code",
   "execution_count": null,
   "metadata": {},
   "outputs": [],
   "source": [
    "filter_col = [col for col in wac if col.startswith('cn')]\n",
    "query = '''\n",
    "SELECT\n",
    "    year'''\n",
    "\n",
    "for col in filter_col:\n",
    "    query += '''\n",
    "    , sum({0:}) as {0:}'''.format(col)\n",
    "\n",
    "query += '''\n",
    "FROM public.lodes_workplace_area_characteristics\n",
    "WHERE segment = 'S000' AND jobtype = 'JT01' AND state = 'mo'\n",
    "GROUP BY year\n",
    "ORDER BY year\n",
    "'''\n",
    "wac_year_stats = pd.read_sql(query, engine, index_col='year')"
   ]
  },
  {
   "cell_type": "code",
   "execution_count": null,
   "metadata": {},
   "outputs": [],
   "source": [
    "wac_year_stats['total_jobs'] = wac_year_stats.sum(axis=1)\n",
    "for var in filter_col:\n",
    "    wac_year_stats[var] = (wac_year_stats[var]/wac_year_stats['total_jobs'])*100\n",
    "del wac_year_stats['total_jobs']"
   ]
  },
  {
   "cell_type": "code",
   "execution_count": null,
   "metadata": {},
   "outputs": [],
   "source": [
    "wac_year_stats = wac_year_stats.T"
   ]
  },
  {
   "cell_type": "code",
   "execution_count": null,
   "metadata": {
    "scrolled": false
   },
   "outputs": [],
   "source": [
    "## Create a heatmap, with annotations:\n",
    "pd.options.display.float_format = '{:.2f}%'.format\n",
    "fig, ax = plt.subplots(figsize = (20,12))\n",
    "sns.heatmap(wac_year_stats, annot=True, fmt='.2f', cmap=\"viridis\")\n",
    "plt.show()"
   ]
  },
  {
   "cell_type": "markdown",
   "metadata": {},
   "source": [
    "### Exercise 3: Joinplot\n",
    "- Back to [Table of Contents](#Table-of-Contents)\n",
    "\n",
    "Below, we pull two continuous variables from the Missouri Department of Labor, summed over each employer. See if you can pass this data to the sns.jointplot() function. Some of the arguments have been filled out for you, while others need completion."
   ]
  },
  {
   "cell_type": "code",
   "execution_count": null,
   "metadata": {},
   "outputs": [],
   "source": [
    "pd.read_sql(\"SELECT * FROM kcmo_lehd.mo_qcew_employers LIMIT 5;\",engine)"
   ]
  },
  {
   "cell_type": "code",
   "execution_count": null,
   "metadata": {},
   "outputs": [],
   "source": [
    "## Querying Total Wages and Jobs by Employer\n",
    "select_string = \"SELECT ein, sum(total_wage) as agg_wages, sum(mon1_empl + mon2_empl + mon3_empl) as agg_jobs\"\n",
    "select_string += \" FROM kcmo_lehd.mo_qcew_employers\"\n",
    "select_string += \" WHERE year = 2016\"\n",
    "select_string += \" GROUP BY ein\"\n",
    "\n",
    "print(select_string)\n",
    "\n",
    "## Run SQL query:\n",
    "employers = pd.read_sql(select_string, engine)\n",
    "print(len(employers))"
   ]
  },
  {
   "cell_type": "code",
   "execution_count": null,
   "metadata": {},
   "outputs": [],
   "source": [
    "## Fill in the arguments (x, y, data) below to get the visualiztion to run.\n",
    "\n",
    "# sns.jointplot(x=, y=, data=\n",
    "#               , color=\"#137B80\", marginal_kws={\"bins\":30})\n",
    "# plt.show()"
   ]
  },
  {
   "cell_type": "markdown",
   "metadata": {
    "collapsed": true
   },
   "source": [
    "### Exercise 4: FacetGrid\n",
    "- Back to [Table of Contents](#Table-of-Contents)\n",
    "\n",
    "Let's see if we can use seaborn's FacetGrid to create small multiple scatterplots. First you need to query a database and get at least one categorical variable and at least two continuous variables (floats).\n",
    "\n",
    "Then try passing this data to the FacetGrid function from `seaborn` and the scatter function from `matplotlib`. \n",
    "\n",
    "[FacetGrid Documentation](http://seaborn.pydata.org/examples/many_facets.html)"
   ]
  },
  {
   "cell_type": "code",
   "execution_count": null,
   "metadata": {},
   "outputs": [],
   "source": [
    "## Pseudo-code to get you started:\n",
    "\n",
    "# grid = sns.FacetGrid(dataframe, col = \"categorical_var\", hue=\"categorical_var\", col_wrap=2)\n",
    "# grid.map(plt.scatter(\"x_var\", \"y_var\"))\n",
    "\n"
   ]
  },
  {
   "cell_type": "code",
   "execution_count": null,
   "metadata": {},
   "outputs": [],
   "source": [
    "## Enter your code for excercise 3 here:\n",
    "\n"
   ]
  },
  {
   "cell_type": "code",
   "execution_count": null,
   "metadata": {
    "scrolled": false
   },
   "outputs": [],
   "source": [
    "## Submit results by saving to shared folder (use code below):\n",
    "\n",
    "# myname = !whoami\n",
    "# plt.savefig('/nfshome/{0}/Projects/ada_kcmo/shared/Class_Submits/Data_Visualization/{0}_1.png'.format(myname[0]))"
   ]
  },
  {
   "cell_type": "markdown",
   "metadata": {},
   "source": [
    "### Exercise 5: Geographic Visualization"
   ]
  },
  {
   "cell_type": "markdown",
   "metadata": {},
   "source": [
    "Another important feature in data visualization is mapping out a metric according to geography. In the following graphic, we color blocks in Kansas City according to the number of jobs on the LEHD data. We will use the Python packages `geopandas` and `matplotlib`."
   ]
  },
  {
   "cell_type": "code",
   "execution_count": null,
   "metadata": {},
   "outputs": [],
   "source": [
    "import geopandas as gpd"
   ]
  },
  {
   "cell_type": "code",
   "execution_count": null,
   "metadata": {
    "scrolled": false
   },
   "outputs": [],
   "source": [
    "query = \"\"\"\n",
    "SELECT geoid10, geom_wgs, sum(c000) tot_jobs\n",
    "FROM kcmo_blocks b\n",
    "JOIN lodes_workplace_area_characteristics w\n",
    "ON w.w_geocode = b.geoid10\n",
    "WHERE w.segment = 'S000' AND w.jobtype = 'JT01' AND w.year = 2010\n",
    "group by geoid10, geom_wgs\n",
    "\"\"\"\n",
    "\n",
    "gdf = gpd.read_postgis(query, engine, geom_col='geom_wgs', crs='+init=epsg:4326')"
   ]
  },
  {
   "cell_type": "code",
   "execution_count": null,
   "metadata": {
    "scrolled": false
   },
   "outputs": [],
   "source": [
    "fig, ax = plt.subplots(1, figsize = (10,15))\n",
    "gdf.plot('tot_jobs', cmap = 'plasma', scheme = 'quantiles', legend = True, edgecolor = 'grey', ax = ax)"
   ]
  },
  {
   "cell_type": "markdown",
   "metadata": {},
   "source": [
    "### Exercise 6: One more Visualization\n",
    "- Back to [Table of Contents](#Table-of-Contents)\n",
    "\n",
    "Test your mettle. Check out the seaborn [data visualization gallery](http://seaborn.pydata.org/examples) and see if you can implement an interesting visualization. Don't forget to submit your results by saving to the shared folder."
   ]
  },
  {
   "cell_type": "code",
   "execution_count": null,
   "metadata": {},
   "outputs": [],
   "source": [
    "## Your code here.\n",
    "\n",
    "\n",
    "# myname = !whoami\n",
    "# export_file.to_csv(\n",
    "#     '/nfshome/{0}/Projects/ada_kcmo/shared/Class_Submits/Data_Visualization/{0}.csv'.format(myname[0])\n",
    "#     , index = False)"
   ]
  },
  {
   "cell_type": "markdown",
   "metadata": {},
   "source": [
    "---"
   ]
  },
  {
   "cell_type": "markdown",
   "metadata": {},
   "source": [
    "## Additional Resources\n",
    "\n",
    "* [A Thorough Comparison of Python's DataViz Modules](https://dsaber.com/2016/10/02/a-dramatic-tour-through-pythons-data-visualization-landscape-including-ggplot-and-altair)\n",
    "\n",
    "* [Seaborn Documentation](http://seaborn.pydata.org)\n",
    "\n",
    "* [Matplotlib Documentation](https://matplotlib.org)\n",
    "\n",
    "* [Advanced Functionality in Seaborn](blog.insightdatalabs.com/advanced-functionality-in-seaborn)\n",
    "\n",
    "* Other Python Visualization Libraries:\n",
    "    * [`Bokeh`](http://bokeh.pydata.org)\n",
    "\n",
    "    * [`Altair`](https://altair-viz.github.io)\n",
    "\n",
    "    * [`ggplot`](http://ggplot.yhathq.com.com)\n",
    "\n",
    "    * [`Plotly`](https://plot.ly)"
   ]
  }
 ],
 "metadata": {
  "kernelspec": {
   "display_name": "Python 2",
   "language": "python",
   "name": "python2"
  },
  "language_info": {
   "codemirror_mode": {
    "name": "ipython",
    "version": 2
   },
   "file_extension": ".py",
   "mimetype": "text/x-python",
   "name": "python",
   "nbconvert_exporter": "python",
   "pygments_lexer": "ipython2",
   "version": "2.7.12"
  },
  "toc": {
   "nav_menu": {
    "height": "272px",
    "width": "241px"
   },
   "number_sections": false,
   "sideBar": true,
   "skip_h1_title": false,
   "toc_cell": false,
   "toc_position": {
    "height": "834px",
    "left": "0px",
    "right": "1548px",
    "top": "111px",
    "width": "301px"
   },
   "toc_section_display": true,
   "toc_window_display": true
  }
 },
 "nbformat": 4,
 "nbformat_minor": 2
}
