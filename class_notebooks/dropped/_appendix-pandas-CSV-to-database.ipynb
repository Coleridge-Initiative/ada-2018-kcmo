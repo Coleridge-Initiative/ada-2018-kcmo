{
 "cells": [
  {
   "cell_type": "code",
   "execution_count": null,
   "metadata": {
    "collapsed": true
   },
   "outputs": [],
   "source": [
    "# imports\n",
    "import pandas\n",
    "import sqlalchemy"
   ]
  },
  {
   "cell_type": "code",
   "execution_count": null,
   "metadata": {
    "collapsed": true
   },
   "outputs": [],
   "source": [
    "# declare variables\n",
    "csv_file_path = \"\"\n",
    "csv_file_df = None\n",
    "database_URL = \"postgresql://10.10.2.10/appliedda\"\n",
    "pgsql_engine = None\n",
    "db_table_name = \"\"\n",
    "db_schema_name = \"\"\n",
    "\n",
    "# read the CSV file into a pandas data frame.\n",
    "# - more details: http://pandas.pydata.org/pandas-docs/stable/io.html#io-read-csv-table\n",
    "csv_file_path = \"\"\n",
    "csv_file_df = pandas.read_csv( csv_file_path, dialect = \"excel-tab\", encoding = \"utf-8\" )\n",
    "\n",
    "print( \"CSV file \\\"\" + csv_file_path + \"\\\" opened.\" )\n",
    "\n",
    "# write it to the database.\n",
    "\n",
    "# first, initialize an sqlalchemy engine\n",
    "pgsql_engine = sqlalchemy.create_engine( database_URL )\n",
    "\n",
    "# write the data to table in the database.\n",
    "# - more details: http://pandas.pydata.org/pandas-docs/stable/io.html#sql-queries\n",
    "db_table_name = \"\"\n",
    "db_schema_name = \"\"\n",
    "csv_file_df.to_sql( db_table_name, pgsql_engine, schema = db_schema_name, index = False )\n",
    "\n",
    "print( \"Data output to table \\\"\" + db_table_name + \"\\\", database \\\"\" + database_URL + \"\\\".\" )\n"
   ]
  }
 ],
 "metadata": {
  "kernelspec": {
   "display_name": "Python 2",
   "language": "python",
   "name": "python2"
  },
  "language_info": {
   "codemirror_mode": {
    "name": "ipython",
    "version": 2
   },
   "file_extension": ".py",
   "mimetype": "text/x-python",
   "name": "python",
   "nbconvert_exporter": "python",
   "pygments_lexer": "ipython2",
   "version": "2.7.12"
  }
 },
 "nbformat": 4,
 "nbformat_minor": 2
}
