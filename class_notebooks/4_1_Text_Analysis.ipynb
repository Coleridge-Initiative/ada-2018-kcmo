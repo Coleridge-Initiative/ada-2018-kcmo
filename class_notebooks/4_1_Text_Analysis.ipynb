{
 "cells": [
  {
   "cell_type": "markdown",
   "metadata": {},
   "source": [
    "![Coleridge Initiative](../support/images/CI_horizontal.png)"
   ]
  },
  {
   "cell_type": "markdown",
   "metadata": {},
   "source": [
    "# Text Analysis\n",
    "---"
   ]
  },
  {
   "cell_type": "markdown",
   "metadata": {},
   "source": [
    "## Table of Contents\n",
    "\n",
    "- [Introduction](#Introduction)\n",
    "\n",
    "    - [Learning Outcomes](#Learning-Outcomes)\n",
    "    - [Glossary of Terms](#Glossary-of-Terms)\n",
    "\n",
    "- [Setup](#Setup)\n",
    "- [Data Orientation](#Data-Orientation)\n",
    "\n",
    "    - [Load the Data](#Load-the-Data)\n",
    "    - [Explore the Data](#Explore-the-Data)\n",
    "    - [How many facilities and types of facilities are in this dataset?](#How-many-facilities-and-types-of-facilities-are-in-this-dataset?)\n",
    "\n",
    "- [Topic Modeling](#Topic-Modeling)\n",
    "\n",
    "    - [Preparing Text Data for NLP](#Preparing-Text-Data-for-NLP) \n",
    "    \n",
    "        - [Creating a matrix of features from text - Bag of N-gram Example](#Creating-a-matrix-of-features-from-text---Bag-of-N-gram-Example)\n",
    "        \n",
    "            - **_[Exercise 1 - convert corpus to matrix](#Exercise-1---convert-corpus-to-matrix)_**\n",
    "        \n",
    "        - [Calculating Word Counts](#Calculating-Word-Counts)\n",
    "            \n",
    "            - **_[Exercise 2 - getting word counts](#Exercise-2---getting-word-counts)_**\n",
    "    \n",
    "        - [Creating Text Corpus - choosing text to analyze](#Creating-Text-Corpus---choosing-text-to-analyze)\n",
    "        - [Text Cleaning and Normalization](#Text-Cleaning-and-Normalization)\n",
    "        \n",
    "            - [First Description, Before Cleaning](#First-Description,-Before-Cleaning)\n",
    "            - [First Description, After Cleaning](#First-Description,-After-Cleaning)\n",
    "            \n",
    "        - [Tokenizing text - breaking it into pieces](#Tokenizing-text---breaking-it-into-pieces)\n",
    "        - [Removing meaningless text - Stopwords](#Removing-meaningless-text---Stopwords)\n",
    "    \n",
    "            - **_[Exercise 3 - practicing slicing](#Exercise-3---practicing-slicing)_**\n",
    "\n",
    "    - [Topic Modeling on Cleaned Data](#Topic-Modeling-on-Cleaned-Data)\n",
    "    \n",
    "        - [Stemming and Lemmatization - Distilling text data](#Stemming-and-Lemmatization---Distilling-text-data)\n",
    "        - [N-grams - Adding context by creating N-grams](#N-grams---Adding-context-by-creating-N-grams)\n",
    "        - [TF-IDF - Weighting terms based on frequency](#TF-IDF---Weighting-terms-based-on-frequency)\n",
    "        - **_[Exercise 4 - Refining a topic model](#Exercise-4---Refining-a-topic-model)_**\n",
    "        - **_[Exercise 5 - Interpreting a model's \"topics\"](#Exercise-5---Interpreting-a-model's-\"topics\")_**\n",
    "    \n",
    "- [Supervised Learning: Document Classification](#Supervised-Learning:-Document-Classification)\n",
    "\n",
    "    - [Supervised Learning - Prepare the Data](#Supervised-Learning---Prepare-the-Data)\n",
    "    - [Prepare Data for Document Classification](#Prepare-Data-for-Document-Classification)\n",
    "    - [Model Training - Train Document Classification Model](#Model-Training---Train-Document-Classification-Model)\n",
    "    - [Model Evaluation - Precision and Recall](#Model-Evaluation---Precision-and-Recall)\n",
    "    - [Model Evaluation - Feature Importances](#Model-Evaluation---Feature-Importances)\n",
    "    \n",
    "        - **_[Exercise 6 - interpreting feature importances](#Exercise-6---interpreting-feature-importances)_**\n",
    "    \n",
    "    - [Model Evaluation - Cross-validation](#Model-Evaluation---Cross-validation)\n",
    "    \n",
    "        - **_[Exercise 7 - Try a 5-fold cross-validation](#Exercise-7---Try-a-5-fold-cross-validation)_**\n",
    "    \n",
    "    - [Model Output - Examples of Document Classification](#Model-Output---Examples-of-Document-Classification)\n",
    "    \n",
    "- [Further Resources](#Further-Resources)\n",
    "- Back to [Table of Contents](#Table-of-Contents)"
   ]
  },
  {
   "cell_type": "markdown",
   "metadata": {},
   "source": [
    "## Introduction\n",
    "\n",
    "- Back to [Table of Contents](#Table-of-Contents)\n",
    "\n",
    "**Text analysis** is used to extract useful information from or summarize a large amount of unstructured text stored in documents. This opens up the opportunity of using text data alongside more conventional data sources (e.g. surveys and administrative data). The goal of text analysis is to take a large corpus of complex and unstructured text data and extract important and meaningful messages in a comprehensible way. \n",
    "\n",
    "Text analysis can help with the following tasks:\n",
    "\n",
    "* **Information Retrieval**: Find relevant information in a large database, such as a systematic literature review, that would be very time-consuming for humans to do manually. \n",
    "\n",
    "* **Clustering and Text Categorization**: Summarize a large corpus of text by finding the most important phrases, using methods like topic modeling. \n",
    "\n",
    "* **Text Summarization**: Create category-sensitive text summaries of a large corpus of text. \n",
    "\n",
    "* **Machine Translation**: Translate documents from one language to another. \n",
    "\n",
    "In this tutorial, we are going to analyze patent descriptions using topic modeling. We will examine he content of the different patents and develop a way of clustering patents by key words.\n",
    "\n",
    "### Learning Objectives\n",
    "\n",
    "In this tutorial, you will...\n",
    "* Learn how to transform a corpus of text into a structured matrix format so that we can apply natural language processing (NLP) methods\n",
    "* Learn the basics and applications of topic modeling\n",
    "* Learn how to do document tagging and evaluate the results\n",
    "\n",
    "### Methods\n",
    "\n",
    " \n",
    "### Glossary of Terms\n",
    "\n",
    "Glossary of Terms:\n",
    "\n",
    "* **Corpus**: A corpus is the set of all text documents used in your analysis; for example, your corpus of text may include hundreds of research articles.\n",
    "\n",
    "* **Tokenize**: Tokenization is the process by which text is separated into meaningful terms or phrases. In English this is easy to do for individual words, as they are separated by whitespace; however, it can get more complicated to  automate determining which groups of words constitute meaningful phrases. \n",
    "\n",
    "* **Stemming**: Stemming is normalizing text by reducing all forms or conjugations of a word to the word's most basic form. In English, this can mean making a rule of removing the suffixes \"ed\" or \"ing\" from the end of all words, but it gets more complex. For example, \"to go\" is irregular, so you need to tell the algorithm that \"went\" and \"goes\" stem from a common lemma, and should be considered alternate forms of the word \"go.\"\n",
    "\n",
    "* **TF-IDF**: TF-IDF (term frequency-inverse document frequency) is an example of feature engineering where the most important words are extracted by taking account their frequency in documents and the entire corpus of documents as a whole.\n",
    "\n",
    "* **Topic Modeling**: Topic modeling is an unsupervised learning method where groups of words that often appear together are clustered into topics. Typically, the words in one topic should be related and make sense (e.g. boat, ship, captain). Individual documents can fall under one topic or multiple topics. \n",
    "\n",
    "* **LDA**: LDA (Latent Dirichlet Allocation) is a type of probabilistic model commonly used for topic modeling. \n",
    "\n",
    "* **Stop Words**: Stop words are words that have little semantic meaning but occur very frequently, like prepositions, articles and common nouns. For example, every document (in English) will probably contain the words \"and\" and \"the\" many times. You will often remove them as part of preprocessing using a list of stop words.\n"
   ]
  },
  {
   "cell_type": "markdown",
   "metadata": {},
   "source": [
    "## Setup\n",
    "\n",
    "- Back to [Table of Contents](#Table-of-Contents)"
   ]
  },
  {
   "cell_type": "code",
   "execution_count": 1,
   "metadata": {},
   "outputs": [
    {
     "name": "stdout",
     "output_type": "stream",
     "text": [
      "Populating the interactive namespace from numpy and matplotlib\n"
     ]
    }
   ],
   "source": [
    "%pylab inline \n",
    "import nltk\n",
    "import ujson\n",
    "import re\n",
    "import time\n",
    "import progressbar\n",
    "\n",
    "import pandas as pd\n",
    "from __future__ import print_function\n",
    "from six.moves import zip, range \n",
    "from sklearn.model_selection import train_test_split\n",
    "\n",
    "from sklearn.feature_extraction.text import CountVectorizer, TfidfTransformer\n",
    "from sklearn.decomposition import LatentDirichletAllocation\n",
    "from sklearn.linear_model import LogisticRegression\n",
    "from sklearn.metrics import precision_recall_curve, roc_auc_score, auc\n",
    "from sklearn import preprocessing\n",
    "from collections import Counter, OrderedDict\n",
    "from nltk.corpus import stopwords\n",
    "from nltk import SnowballStemmer"
   ]
  },
  {
   "cell_type": "code",
   "execution_count": 2,
   "metadata": {},
   "outputs": [
    {
     "name": "stdout",
     "output_type": "stream",
     "text": [
      "[nltk_data] Downloading package stopwords to /Users/nj995/nltk_data...\n",
      "[nltk_data]   Package stopwords is already up-to-date!\n"
     ]
    },
    {
     "data": {
      "text/plain": [
       "True"
      ]
     },
     "execution_count": 2,
     "metadata": {},
     "output_type": "execute_result"
    }
   ],
   "source": [
    "nltk.download('stopwords') #download the latest stopwords"
   ]
  },
  {
   "cell_type": "markdown",
   "metadata": {},
   "source": [
    "## Data Orientation\n",
    "\n",
    "- Back to [Table of Contents](#Table-of-Contents)\n",
    "\n",
    "Our dataset for this tutorial will be the patent description field that we downloaded during the class noteboook on APIs. The subset of patents we are considering are those assigned to companies that have offices in Kansas City, MO."
   ]
  },
  {
   "cell_type": "markdown",
   "metadata": {},
   "source": [
    "### Load the Data\n",
    "\n",
    "- Back to [Table of Contents](#Table-of-Contents)\n",
    "\n",
    "To start, we'll load the data into a pandas DataFrame from a CSV file."
   ]
  },
  {
   "cell_type": "code",
   "execution_count": 3,
   "metadata": {},
   "outputs": [
    {
     "name": "stderr",
     "output_type": "stream",
     "text": [
      "/Users/nj995/anaconda3/lib/python3.6/site-packages/IPython/core/interactiveshell.py:2698: DtypeWarning: Columns (1) have mixed types. Specify dtype option on import or set low_memory=False.\n",
      "  interactivity=interactivity, compiler=compiler, result=result)\n"
     ]
    }
   ],
   "source": [
    "df_patent_desc = pd.read_csv('../../output/patent_desc.csv')"
   ]
  },
  {
   "cell_type": "code",
   "execution_count": 4,
   "metadata": {},
   "outputs": [],
   "source": [
    "df_patent_desc['year'] = pd.to_datetime(df_patent_desc['patent_date'], errors = 'coerce').dt.year\n",
    "df_patent_desc = df_patent_desc[df_patent_desc['year']>2010].reset_index(drop = True)\n",
    "del df_patent_desc['year']"
   ]
  },
  {
   "cell_type": "markdown",
   "metadata": {},
   "source": [
    "### Explore the Data\n",
    "\n",
    "- Back to [Table of Contents](#Table-of-Contents)\n",
    "\n",
    "Our Patent Description data table has 4 fields:\n",
    "\n",
    "- `business_name` - business name that we cleaned/standardized in the Record Linkage notebook.\n",
    "- `patent_number` - unique ID for each patent.\n",
    "- `patent_title` - title of the patent.\n",
    "- `patent_abstract` - A brief description of the patent content.\n",
    "\n",
    "Let's take a look at examples of the values:"
   ]
  },
  {
   "cell_type": "code",
   "execution_count": 5,
   "metadata": {},
   "outputs": [
    {
     "data": {
      "text/html": [
       "<div>\n",
       "<style>\n",
       "    .dataframe thead tr:only-child th {\n",
       "        text-align: right;\n",
       "    }\n",
       "\n",
       "    .dataframe thead th {\n",
       "        text-align: left;\n",
       "    }\n",
       "\n",
       "    .dataframe tbody tr th {\n",
       "        vertical-align: top;\n",
       "    }\n",
       "</style>\n",
       "<table border=\"1\" class=\"dataframe\">\n",
       "  <thead>\n",
       "    <tr style=\"text-align: right;\">\n",
       "      <th></th>\n",
       "      <th>business_name</th>\n",
       "      <th>patent_number</th>\n",
       "      <th>patent_date</th>\n",
       "      <th>patent_title</th>\n",
       "      <th>patent_abstract</th>\n",
       "    </tr>\n",
       "  </thead>\n",
       "  <tbody>\n",
       "    <tr>\n",
       "      <th>0</th>\n",
       "      <td>MICROSOFT CORP</td>\n",
       "      <td>7958069</td>\n",
       "      <td>2011-01-16</td>\n",
       "      <td>Time modulated generative probabilistic models...</td>\n",
       "      <td>Dependencies between different channels or dif...</td>\n",
       "    </tr>\n",
       "    <tr>\n",
       "      <th>1</th>\n",
       "      <td>MICROSOFT CORP</td>\n",
       "      <td>7978185</td>\n",
       "      <td>2011-02-18</td>\n",
       "      <td>Creating virtual replicas of physical objects</td>\n",
       "      <td>The present invention extends to methods, syst...</td>\n",
       "    </tr>\n",
       "    <tr>\n",
       "      <th>2</th>\n",
       "      <td>DIEBOLD INCORPORATED</td>\n",
       "      <td>7984847</td>\n",
       "      <td>2011-01-27</td>\n",
       "      <td>Banking system controlled by data bearing records</td>\n",
       "      <td>An automated banking machine operates responsi...</td>\n",
       "    </tr>\n",
       "    <tr>\n",
       "      <th>3</th>\n",
       "      <td>EASTMAN KODAK CO</td>\n",
       "      <td>7985684</td>\n",
       "      <td>2011-01-07</td>\n",
       "      <td>Actuating transistor including reduced channel...</td>\n",
       "      <td>A method of actuating a semiconductor device i...</td>\n",
       "    </tr>\n",
       "    <tr>\n",
       "      <th>4</th>\n",
       "      <td>TOYOTA MOTOR SALES USA INC</td>\n",
       "      <td>7986126</td>\n",
       "      <td>2011-02-18</td>\n",
       "      <td>Automated system for determining whether vehic...</td>\n",
       "      <td>A system may automatically identify whether a ...</td>\n",
       "    </tr>\n",
       "  </tbody>\n",
       "</table>\n",
       "</div>"
      ],
      "text/plain": [
       "                business_name patent_number patent_date  \\\n",
       "0              MICROSOFT CORP       7958069  2011-01-16   \n",
       "1              MICROSOFT CORP       7978185  2011-02-18   \n",
       "2        DIEBOLD INCORPORATED       7984847  2011-01-27   \n",
       "3            EASTMAN KODAK CO       7985684  2011-01-07   \n",
       "4  TOYOTA MOTOR SALES USA INC       7986126  2011-02-18   \n",
       "\n",
       "                                        patent_title  \\\n",
       "0  Time modulated generative probabilistic models...   \n",
       "1      Creating virtual replicas of physical objects   \n",
       "2  Banking system controlled by data bearing records   \n",
       "3  Actuating transistor including reduced channel...   \n",
       "4  Automated system for determining whether vehic...   \n",
       "\n",
       "                                     patent_abstract  \n",
       "0  Dependencies between different channels or dif...  \n",
       "1  The present invention extends to methods, syst...  \n",
       "2  An automated banking machine operates responsi...  \n",
       "3  A method of actuating a semiconductor device i...  \n",
       "4  A system may automatically identify whether a ...  "
      ]
     },
     "execution_count": 5,
     "metadata": {},
     "output_type": "execute_result"
    }
   ],
   "source": [
    "df_patent_desc.head()"
   ]
  },
  {
   "cell_type": "code",
   "execution_count": 6,
   "metadata": {
    "scrolled": false
   },
   "outputs": [
    {
     "name": "stdout",
     "output_type": "stream",
     "text": [
      "Dependencies between different channels or different services in a client or server may be determined from the observation of the times of the incoming and outgoing of the packets constituting those channels or services. A probabilistic model may be used to formally characterize these dependencies. The probabilistic model may be used to list the dependencies between input packets and output packets of various channels or services, and may be used to establish the expected strength of the causal relationship between the different events surrounding those channels or services. Parameters of the probabilistic model may be either based on prior knowledge, or may be fit using statistical techniques based on observations about the times of the events of interest. Expected times of occurrence between events may be observed, and dependencies may be determined in accordance with the probabilistic model.\n"
     ]
    }
   ],
   "source": [
    "print(df_patent_desc['patent_abstract'][0])"
   ]
  },
  {
   "cell_type": "code",
   "execution_count": 7,
   "metadata": {},
   "outputs": [
    {
     "data": {
      "text/html": [
       "<div>\n",
       "<style>\n",
       "    .dataframe thead tr:only-child th {\n",
       "        text-align: right;\n",
       "    }\n",
       "\n",
       "    .dataframe thead th {\n",
       "        text-align: left;\n",
       "    }\n",
       "\n",
       "    .dataframe tbody tr th {\n",
       "        vertical-align: top;\n",
       "    }\n",
       "</style>\n",
       "<table border=\"1\" class=\"dataframe\">\n",
       "  <thead>\n",
       "    <tr style=\"text-align: right;\">\n",
       "      <th></th>\n",
       "      <th>business_name</th>\n",
       "      <th>patent_number</th>\n",
       "      <th>patent_date</th>\n",
       "      <th>patent_title</th>\n",
       "      <th>patent_abstract</th>\n",
       "    </tr>\n",
       "  </thead>\n",
       "  <tbody>\n",
       "    <tr>\n",
       "      <th>count</th>\n",
       "      <td>32139</td>\n",
       "      <td>32139</td>\n",
       "      <td>32139</td>\n",
       "      <td>32139</td>\n",
       "      <td>27498</td>\n",
       "    </tr>\n",
       "    <tr>\n",
       "      <th>unique</th>\n",
       "      <td>320</td>\n",
       "      <td>32136</td>\n",
       "      <td>1650</td>\n",
       "      <td>25469</td>\n",
       "      <td>25094</td>\n",
       "    </tr>\n",
       "    <tr>\n",
       "      <th>top</th>\n",
       "      <td>GENERAL ELECTRIC CO</td>\n",
       "      <td>9177480</td>\n",
       "      <td>2013-03-15</td>\n",
       "      <td>Display screen with graphical user interface</td>\n",
       "      <td>An insulated icemaking compartment is provided...</td>\n",
       "    </tr>\n",
       "    <tr>\n",
       "      <th>freq</th>\n",
       "      <td>6050</td>\n",
       "      <td>2</td>\n",
       "      <td>324</td>\n",
       "      <td>752</td>\n",
       "      <td>15</td>\n",
       "    </tr>\n",
       "  </tbody>\n",
       "</table>\n",
       "</div>"
      ],
      "text/plain": [
       "              business_name patent_number patent_date  \\\n",
       "count                 32139         32139       32139   \n",
       "unique                  320         32136        1650   \n",
       "top     GENERAL ELECTRIC CO       9177480  2013-03-15   \n",
       "freq                   6050             2         324   \n",
       "\n",
       "                                        patent_title  \\\n",
       "count                                          32139   \n",
       "unique                                         25469   \n",
       "top     Display screen with graphical user interface   \n",
       "freq                                             752   \n",
       "\n",
       "                                          patent_abstract  \n",
       "count                                               27498  \n",
       "unique                                              25094  \n",
       "top     An insulated icemaking compartment is provided...  \n",
       "freq                                                   15  "
      ]
     },
     "execution_count": 7,
     "metadata": {},
     "output_type": "execute_result"
    }
   ],
   "source": [
    "df_patent_desc.describe()"
   ]
  },
  {
   "cell_type": "markdown",
   "metadata": {},
   "source": [
    "Looking at the `count` line, we note that some patents have no patent abstract. Let's restrict to patents where `patent_abstract` is not `NaN`."
   ]
  },
  {
   "cell_type": "code",
   "execution_count": 8,
   "metadata": {
    "collapsed": true
   },
   "outputs": [],
   "source": [
    "df_patent_desc = df_patent_desc[df_patent_desc['patent_abstract'].isnull() == False]"
   ]
  },
  {
   "cell_type": "markdown",
   "metadata": {},
   "source": [
    "## Topic Modeling\n",
    "\n",
    "- Back to [Table of Contents](#Table-of-Contents)\n",
    "\n",
    "We are going to apply topic modeling, an unsupervised learning method, to our corpus to find the high-level topics in our corpus as a \"first go\" for exploring our data. Through this process, we'll discuss how to clean and preprocess our data to get the best results.\n",
    "\n",
    "Topic modeling is a broad subfield of machine learning and natural language processing. We are going to focus on a common modeling approach called Latent Dirichlet Allocation (LDA). \n",
    "\n",
    "To use topic modeling, we first have to assume that topics exist in our corpus, and that some small number of these topics can \"explain\" the corpus. Topics in this context refer to words from the corpus, in a list that is ranked by probability. A single document can be explained by multiple topics. For instance, a patent on a new medical robot would fall under the topic \"robotics\" as well as the topic \"medicine\". The set of topics used by a document is known as the document's allocation, hence, the name Latent Dirchlet Allocation, each document has an allocation of latent topics allocated by Dirchlet distribution. "
   ]
  },
  {
   "cell_type": "markdown",
   "metadata": {},
   "source": [
    "## Preparing Text Data for NLP\n",
    "\n",
    "- Back to [Table of Contents](#Table-of-Contents)\n",
    "\n",
    "The first important step in working with text data is cleaning and processing the data, which includes (but is not limited to):\n",
    "\n",
    "- forming a corpus of text\n",
    "- tokenization\n",
    "- removing stop-words\n",
    "- finding words co-located together (N-grams)\n",
    "- stemming and lemmatization\n",
    "\n",
    "Each of these steps will be discussed below. \n",
    "\n",
    "The ultimate goal is to transform our text data into a form an algorithm can work with, because a document or a corpus of text cannot be fed directly into an algorithm. Algorithms expect numerical feature vectors with certain fixed sizes, and can't handle documents, which are basically sequences of symbols with variable length. We will be transforming our text corpus into a *bag of n-grams* to be further analyzed. In this form our text data is represented as a matrix where each row refers to a specific job description (document) and each column is the occurence of a word (feature)."
   ]
  },
  {
   "cell_type": "markdown",
   "metadata": {},
   "source": [
    "### Creating a matrix of features from text - Bag of N-gram Example\n",
    "\n",
    "- Back to [Table of Contents](#Table-of-Contents)\n",
    "\n",
    "Ultimately, we want to take our collection of documents, corpus, and convert it into a matrix. Fortunately, `sklearn` has a pre-built object, `CountVectorizer`, that can tokenize, eliminate stopwords, identify n-grams, and stem our corpus, and output a matrix in one step. Before we apply the vectorizer to our corpus of data, let's apply it to a toy example so that we see what the output looks like and how a bag of words is represented. "
   ]
  },
  {
   "cell_type": "code",
   "execution_count": 9,
   "metadata": {
    "collapsed": true
   },
   "outputs": [],
   "source": [
    "def create_bag_of_words(corpus, \n",
    "                        NGRAM_RANGE = (0, 1), \n",
    "                        stop_words = None, \n",
    "                        stem = False, \n",
    "                        MIN_DF = 0.05, \n",
    "                        MAX_DF = 0.95, \n",
    "                        USE_IDF = False):\n",
    "\n",
    "    \"\"\"\n",
    "    Turn a corpus of text into a bag-of-words.\n",
    "    \n",
    "    Parameters\n",
    "    -----------\n",
    "    corpus: ls\n",
    "        test of documents in corpus    \n",
    "    NGRAM_RANGE: tuple\n",
    "        range of N-gram. Default (0,1)\n",
    "    stop_words: ls\n",
    "        list of commonly occuring words that have little semantic\n",
    "        value\n",
    "    stem: bool\n",
    "        use a stemmer to stem words\n",
    "    MIN_DF: float\n",
    "       exclude words that have a frequency less than the threshold\n",
    "    MAX_DF: float\n",
    "        exclude words that have a frequency greater than the threshold\n",
    "    USE_IDF: bool\n",
    "        Re-weigh words according to the Term Frequency-Inverse Document Frequency \n",
    "        (emphasize words unique to a document, suppress words common throughout the corpus)\n",
    "    \n",
    "    Returns\n",
    "    -------\n",
    "    bag_of_words: scipy sparse matrix\n",
    "        scipy sparse matrix of text\n",
    "    features:\n",
    "        list of words\n",
    "    \"\"\"\n",
    "    #parameters for vectorizer \n",
    "    ANALYZER = \"word\" #unit of features are single words rather then phrases of words \n",
    "    STRIP_ACCENTS = 'unicode'\n",
    "    \n",
    "    if stem:\n",
    "        stemmer = nltk.SnowballStemmer(\"english\")\n",
    "        tokenize = lambda x: [stemmer.stem(i) for i in x.split()]\n",
    "    else:\n",
    "        tokenize = None\n",
    "    vectorizer = CountVectorizer(analyzer=ANALYZER,\n",
    "                                 tokenizer=tokenize, \n",
    "                                 ngram_range=NGRAM_RANGE,\n",
    "                                 stop_words = stop_words,\n",
    "                                 strip_accents=STRIP_ACCENTS,\n",
    "                                 min_df = MIN_DF,\n",
    "                                 max_df = MAX_DF)\n",
    "    \n",
    "    bag_of_words = vectorizer.fit_transform( corpus ) #transform our corpus is a bag of words \n",
    "    features = vectorizer.get_feature_names()\n",
    "\n",
    "    if USE_IDF:\n",
    "        NORM = None #turn on normalization flag\n",
    "        SMOOTH_IDF = True #prvents division by zero errors\n",
    "        SUBLINEAR_IDF = True #replace TF with 1 + log(TF)\n",
    "        transformer = TfidfTransformer(norm = NORM,smooth_idf = SMOOTH_IDF,sublinear_tf = True)\n",
    "        #get the bag-of-words from the vectorizer and\n",
    "        #then use TFIDF to limit the tokens found throughout the text \n",
    "        tfidf = transformer.fit_transform(bag_of_words)\n",
    "        \n",
    "        return tfidf, features\n",
    "    else:\n",
    "        return bag_of_words, features"
   ]
  },
  {
   "cell_type": "code",
   "execution_count": 10,
   "metadata": {
    "collapsed": true
   },
   "outputs": [],
   "source": [
    "# create example corpus.\n",
    "toy_corpus = ['this is document one', 'this is document two', 'text analysis on documents is fun']"
   ]
  },
  {
   "cell_type": "code",
   "execution_count": 11,
   "metadata": {
    "collapsed": true
   },
   "outputs": [],
   "source": [
    "# convert to bag of words\n",
    "toy_bag_of_words, toy_features = create_bag_of_words( toy_corpus )"
   ]
  },
  {
   "cell_type": "code",
   "execution_count": 12,
   "metadata": {},
   "outputs": [
    {
     "data": {
      "text/plain": [
       "['this is document one',\n",
       " 'this is document two',\n",
       " 'text analysis on documents is fun']"
      ]
     },
     "execution_count": 12,
     "metadata": {},
     "output_type": "execute_result"
    }
   ],
   "source": [
    "# review - our corpus:\n",
    "toy_corpus"
   ]
  },
  {
   "cell_type": "code",
   "execution_count": 13,
   "metadata": {},
   "outputs": [
    {
     "data": {
      "text/plain": [
       "['analysis',\n",
       " 'document',\n",
       " 'documents',\n",
       " 'fun',\n",
       " 'on',\n",
       " 'one',\n",
       " 'text',\n",
       " 'this',\n",
       " 'two']"
      ]
     },
     "execution_count": 13,
     "metadata": {},
     "output_type": "execute_result"
    }
   ],
   "source": [
    "# features derived from the corpus\n",
    "toy_features"
   ]
  },
  {
   "cell_type": "code",
   "execution_count": 14,
   "metadata": {},
   "outputs": [
    {
     "data": {
      "text/plain": [
       "array([[0, 1, 0, 0, 0, 1, 0, 1, 0],\n",
       "       [0, 1, 0, 0, 0, 0, 0, 1, 1],\n",
       "       [1, 0, 1, 1, 1, 0, 1, 0, 0]], dtype=int64)"
      ]
     },
     "execution_count": 14,
     "metadata": {},
     "output_type": "execute_result"
    }
   ],
   "source": [
    "# bag of words that results:\n",
    "np_bag_of_words = toy_bag_of_words.toarray()\n",
    "np_bag_of_words"
   ]
  },
  {
   "cell_type": "markdown",
   "metadata": {},
   "source": [
    "Our data has been transformed from a document into a 3 x 9 matrix, where each row in the matrix corresponds to a document, and each column corresponds to a feature (in the order they appear in `toy_features`). A 1 indicates the existence of the feature or word in the document, and a 0 indicates the word is not present.\n",
    "\n",
    "It is very common that this representation will be a \"sparse\" matrix, or a matrix that has a lot of 0s. With sparse matrices, it is often more efficient to keep track of which values *aren't* 0 and where those non-zero entries are located, rather than to save the entire matrix. To save space, the `scipy` library has special ways of storing sparse matrices in an efficient way. \n",
    "\n",
    "Our toy corpus is now ready to be analyzed. We used this toy example to illustrate how a document is turned into a matrix to be used in text analysis. When you're applying this to real text data, the matrix will be much larger and harder to interpret, but it's important that you know the process. "
   ]
  },
  {
   "cell_type": "markdown",
   "metadata": {},
   "source": [
    "__Exercise 1 - convert corpus to matrix__\n",
    "\n",
    "- Back to [Table of Contents](#Table-of-Contents)\n",
    "\n",
    "To check your knowledge, make your own toy corpus and turn it into a matrix."
   ]
  },
  {
   "cell_type": "code",
   "execution_count": 15,
   "metadata": {
    "collapsed": true
   },
   "outputs": [],
   "source": [
    "#solution\n",
    "exercise_corpus = ['Batman is friends with Superman', \n",
    "                   'Superman is enemies with Lex Luthor',\n",
    "                   'Batman is enemies with Lex Luthor' ] \n",
    "exercise_bag_of_words, exercise_features = create_bag_of_words(exercise_corpus)"
   ]
  },
  {
   "cell_type": "code",
   "execution_count": 16,
   "metadata": {
    "collapsed": true
   },
   "outputs": [],
   "source": [
    "# convert bag of words to array\n",
    "np_bag_of_words = exercise_bag_of_words.toarray()"
   ]
  },
  {
   "cell_type": "code",
   "execution_count": 17,
   "metadata": {},
   "outputs": [
    {
     "data": {
      "text/plain": [
       "['batman', 'enemies', 'friends', 'lex', 'luthor', 'superman']"
      ]
     },
     "execution_count": 17,
     "metadata": {},
     "output_type": "execute_result"
    }
   ],
   "source": [
    "# show features:\n",
    "exercise_features"
   ]
  },
  {
   "cell_type": "code",
   "execution_count": 18,
   "metadata": {},
   "outputs": [
    {
     "data": {
      "text/plain": [
       "array([[1, 0, 1, 0, 0, 1],\n",
       "       [0, 1, 0, 1, 1, 1],\n",
       "       [1, 1, 0, 1, 1, 0]], dtype=int64)"
      ]
     },
     "execution_count": 18,
     "metadata": {},
     "output_type": "execute_result"
    }
   ],
   "source": [
    "# output derived bag of words:\n",
    "np_bag_of_words"
   ]
  },
  {
   "cell_type": "markdown",
   "metadata": {},
   "source": [
    "### Calculating Word Counts\n",
    "\n",
    "- Back to [Table of Contents](#Table-of-Contents)\n",
    "\n",
    "As an initial look into the data, we can examine the most frequently occuring words in our corpus. We can sum the columns of the bag_of_words and then convert to a numpy array. From here we can zip the features and word_count into a dictionary, and display the results."
   ]
  },
  {
   "cell_type": "code",
   "execution_count": 19,
   "metadata": {
    "collapsed": true
   },
   "outputs": [],
   "source": [
    "def get_word_counts(bag_of_words, feature_names):\n",
    "\n",
    "    \"\"\"\n",
    "    Get the ordered word counts from a bag_of_words\n",
    "    \n",
    "    Parameters\n",
    "    ----------\n",
    "    bag_of_words: obj\n",
    "        scipy sparse matrix from CounterVectorizer\n",
    "    feature_names: ls\n",
    "        list of words\n",
    "        \n",
    "    Returns\n",
    "    -------\n",
    "    word_counts: dict\n",
    "        Dictionary of word counts\n",
    "    \"\"\"\n",
    "\n",
    "    # convert bag of words to array\n",
    "    np_bag_of_words = bag_of_words.toarray()\n",
    "    \n",
    "    # calculate word count.\n",
    "    word_count = np.sum(np_bag_of_words,axis=0)\n",
    "    \n",
    "    # convert to flattened array.\n",
    "    np_word_count = np.asarray(word_count).ravel()\n",
    "    \n",
    "    # create dict of words mapped to count of occurrences of each word.\n",
    "    dict_word_counts = dict( zip(feature_names, np_word_count) )\n",
    "    \n",
    "    # Create ordered dictionary\n",
    "    orddict_word_counts = OrderedDict( sorted(dict_word_counts.items(), key=lambda x: x[1], reverse=True), )\n",
    "    \n",
    "    return orddict_word_counts"
   ]
  },
  {
   "cell_type": "code",
   "execution_count": 20,
   "metadata": {},
   "outputs": [
    {
     "data": {
      "text/plain": [
       "OrderedDict([('document', 2),\n",
       "             ('this', 2),\n",
       "             ('analysis', 1),\n",
       "             ('documents', 1),\n",
       "             ('fun', 1),\n",
       "             ('on', 1),\n",
       "             ('one', 1),\n",
       "             ('text', 1),\n",
       "             ('two', 1)])"
      ]
     },
     "execution_count": 20,
     "metadata": {},
     "output_type": "execute_result"
    }
   ],
   "source": [
    "# get ordered word counts for our example corpus.\n",
    "get_word_counts(toy_bag_of_words, toy_features)"
   ]
  },
  {
   "cell_type": "markdown",
   "metadata": {},
   "source": [
    "Note that the words \"document\" and \"documents\" both appear separately in the list. Should they be treated as the same words, since one is just the plural of the other, or should they be considered distinct words? These are the types of decisions you will have to make in your preprocessing steps."
   ]
  },
  {
   "cell_type": "markdown",
   "metadata": {},
   "source": [
    "__Exercise 2 - getting word counts__\n",
    "\n",
    "- Back to [Table of Contents](#Table-of-Contents)\n",
    "\n",
    "Get the word counts of your exercise corpus.\n"
   ]
  },
  {
   "cell_type": "code",
   "execution_count": 21,
   "metadata": {},
   "outputs": [
    {
     "data": {
      "text/plain": [
       "OrderedDict([('batman', 2),\n",
       "             ('enemies', 2),\n",
       "             ('lex', 2),\n",
       "             ('luthor', 2),\n",
       "             ('superman', 2),\n",
       "             ('friends', 1)])"
      ]
     },
     "execution_count": 21,
     "metadata": {},
     "output_type": "execute_result"
    }
   ],
   "source": [
    "get_word_counts(exercise_bag_of_words, exercise_features)"
   ]
  },
  {
   "cell_type": "markdown",
   "metadata": {},
   "source": [
    "## Creating Text Corpus - choosing text to analyze\n",
    "\n",
    "- Back to [Table of Contents](#Table-of-Contents)\n",
    "\n",
    "First we need to form our corpus, or the set of all patent abstracts. We can pull out the array of descriptions from the data frame using the data frame's `.values` attribute. "
   ]
  },
  {
   "cell_type": "code",
   "execution_count": 22,
   "metadata": {
    "collapsed": true,
    "scrolled": true
   },
   "outputs": [],
   "source": [
    "corpus = df_patent_desc['patent_abstract'].values #pull all the descriptions and put them in a numpy array \n",
    "# corpus = corpus[:1000]"
   ]
  },
  {
   "cell_type": "code",
   "execution_count": 23,
   "metadata": {},
   "outputs": [
    {
     "data": {
      "text/plain": [
       "27498"
      ]
     },
     "execution_count": 23,
     "metadata": {},
     "output_type": "execute_result"
    }
   ],
   "source": [
    "len(corpus)"
   ]
  },
  {
   "cell_type": "markdown",
   "metadata": {},
   "source": [
    "## Model topics with LDA\n",
    "\n",
    "- Back to [Table of Contents](#Table-of-Contents)\n",
    "\n",
    "As a start to modeling topics, we define below a function \"create_topics\" that uses Latent Dirichlet Allocation (LDA) to find topics."
   ]
  },
  {
   "cell_type": "code",
   "execution_count": 24,
   "metadata": {
    "collapsed": true
   },
   "outputs": [],
   "source": [
    "def create_topics(tfidf, features, N_TOPICS=3, N_TOP_WORDS=5):\n",
    "    \"\"\"\n",
    "    Given a matrix of features of text data generate topics\n",
    "    \n",
    "    Parameters\n",
    "    -----------\n",
    "    tfidf: scipy sparse matrix\n",
    "        sparse matrix of text features\n",
    "    N_TOPICS: int\n",
    "        number of topics (default 10)\n",
    "    N_TOP_WORDS: int\n",
    "        number of top words to display in each topic (default 10)\n",
    "        \n",
    "    Returns\n",
    "    -------\n",
    "    ls_keywords: ls\n",
    "        list of keywords for each topics\n",
    "    doctopic: array\n",
    "        numpy array with percentages of topic that fit each category\n",
    "    N_TOPICS: int\n",
    "        number of assumed topics\n",
    "    N_TOP_WORDS: int\n",
    "        Number of top words in a given topic. \n",
    "    \"\"\"\n",
    "    \n",
    "    i=0\n",
    "    lda = LatentDirichletAllocation(n_components= N_TOPICS,\n",
    "                                    learning_method='online') #create an object that will create 5 topics\n",
    "    i+=1\n",
    "    doctopic = lda.fit_transform( tfidf )\n",
    "    i+=1\n",
    "\n",
    "    ls_keywords = []\n",
    "    for i,topic in enumerate(lda.components_):\n",
    "        word_idx = np.argsort(topic)[::-1][:N_TOP_WORDS]\n",
    "        keywords = ', '.join( features[i] for i in word_idx)\n",
    "        ls_keywords.append(keywords)\n",
    "        print(i, keywords)\n",
    "        i+=1\n",
    "            \n",
    "    return ls_keywords, doctopic"
   ]
  },
  {
   "cell_type": "markdown",
   "metadata": {},
   "source": [
    "Create a bag of words and set of features from our social services corpus:"
   ]
  },
  {
   "cell_type": "code",
   "execution_count": 25,
   "metadata": {
    "collapsed": true
   },
   "outputs": [],
   "source": [
    "corpus_bag_of_words, corpus_features = create_bag_of_words(corpus)"
   ]
  },
  {
   "cell_type": "markdown",
   "metadata": {},
   "source": [
    "Let's examine our features. "
   ]
  },
  {
   "cell_type": "code",
   "execution_count": 26,
   "metadata": {},
   "outputs": [
    {
     "data": {
      "text/plain": [
       "['access',\n",
       " 'along',\n",
       " 'also',\n",
       " 'an',\n",
       " 'and',\n",
       " 'apparatus',\n",
       " 'application',\n",
       " 'are',\n",
       " 'as',\n",
       " 'assembly',\n",
       " 'associated',\n",
       " 'at',\n",
       " 'based',\n",
       " 'be',\n",
       " 'being',\n",
       " 'between',\n",
       " 'by',\n",
       " 'can',\n",
       " 'communication',\n",
       " 'comprises',\n",
       " 'comprising',\n",
       " 'computer',\n",
       " 'configured',\n",
       " 'connected',\n",
       " 'control',\n",
       " 'corresponding',\n",
       " 'coupled',\n",
       " 'data',\n",
       " 'described',\n",
       " 'determine',\n",
       " 'determined',\n",
       " 'determining',\n",
       " 'device',\n",
       " 'devices',\n",
       " 'different',\n",
       " 'disclosed',\n",
       " 'disposed',\n",
       " 'during',\n",
       " 'each',\n",
       " 'embodiment',\n",
       " 'embodiments',\n",
       " 'end',\n",
       " 'example',\n",
       " 'first',\n",
       " 'flow',\n",
       " 'for',\n",
       " 'form',\n",
       " 'from',\n",
       " 'further',\n",
       " 'has',\n",
       " 'having',\n",
       " 'herein',\n",
       " 'if',\n",
       " 'image',\n",
       " 'in',\n",
       " 'include',\n",
       " 'includes',\n",
       " 'including',\n",
       " 'information',\n",
       " 'input',\n",
       " 'interface',\n",
       " 'into',\n",
       " 'invention',\n",
       " 'is',\n",
       " 'least',\n",
       " 'material',\n",
       " 'may',\n",
       " 'method',\n",
       " 'methods',\n",
       " 'more',\n",
       " 'multiple',\n",
       " 'network',\n",
       " 'non',\n",
       " 'not',\n",
       " 'of',\n",
       " 'on',\n",
       " 'one',\n",
       " 'or',\n",
       " 'other',\n",
       " 'output',\n",
       " 'over',\n",
       " 'plurality',\n",
       " 'portion',\n",
       " 'position',\n",
       " 'power',\n",
       " 'present',\n",
       " 'process',\n",
       " 'processing',\n",
       " 'provide',\n",
       " 'provided',\n",
       " 'provides',\n",
       " 'providing',\n",
       " 'receive',\n",
       " 'received',\n",
       " 'receiving',\n",
       " 'response',\n",
       " 'second',\n",
       " 'selected',\n",
       " 'sensor',\n",
       " 'set',\n",
       " 'signal',\n",
       " 'so',\n",
       " 'some',\n",
       " 'source',\n",
       " 'storage',\n",
       " 'such',\n",
       " 'surface',\n",
       " 'system',\n",
       " 'systems',\n",
       " 'than',\n",
       " 'that',\n",
       " 'then',\n",
       " 'this',\n",
       " 'through',\n",
       " 'time',\n",
       " 'to',\n",
       " 'two',\n",
       " 'use',\n",
       " 'used',\n",
       " 'user',\n",
       " 'using',\n",
       " 'via',\n",
       " 'when',\n",
       " 'where',\n",
       " 'wherein',\n",
       " 'which',\n",
       " 'with',\n",
       " 'within']"
      ]
     },
     "execution_count": 26,
     "metadata": {},
     "output_type": "execute_result"
    }
   ],
   "source": [
    "corpus_features"
   ]
  },
  {
   "cell_type": "markdown",
   "metadata": {},
   "source": [
    "The first aspect to notice about the feature list is that the first few entries are numbers that have no real semantic meaning. The feature lists also includes numerous other useless words, such as prepositions and articles, that will just add noise to our analysis. \n",
    "\n",
    "We can also notice the words *comprises* and *comprising*, or the words *form* and *formed*, are close enough to each other that it might not make sense to treat them as entirely separate words. Part of your cleaning and preprocessing duties will be manually inspecting your lists of features, seeing where these issues arise, and making decisions to either remove them from your analysis or address them separately. \n",
    "\n",
    "Let's get the count of the number of times that each of the words appears in our corpus."
   ]
  },
  {
   "cell_type": "code",
   "execution_count": 27,
   "metadata": {},
   "outputs": [
    {
     "data": {
      "text/plain": [
       "OrderedDict([('of', 105151),\n",
       "             ('to', 86662),\n",
       "             ('and', 85413),\n",
       "             ('is', 42789),\n",
       "             ('in', 41213),\n",
       "             ('an', 39636),\n",
       "             ('for', 34945),\n",
       "             ('first', 27154),\n",
       "             ('one', 24675),\n",
       "             ('or', 23866),\n",
       "             ('system', 22250),\n",
       "             ('at', 21835),\n",
       "             ('with', 21212),\n",
       "             ('includes', 20639),\n",
       "             ('that', 20534),\n",
       "             ('second', 20168),\n",
       "             ('from', 19331),\n",
       "             ('on', 18260),\n",
       "             ('are', 16936),\n",
       "             ('be', 16488),\n",
       "             ('device', 16247),\n",
       "             ('data', 15537),\n",
       "             ('may', 15085),\n",
       "             ('least', 14677),\n",
       "             ('method', 13304),\n",
       "             ('by', 13262),\n",
       "             ('plurality', 10976),\n",
       "             ('more', 10122),\n",
       "             ('configured', 9744),\n",
       "             ('based', 9640),\n",
       "             ('can', 9084),\n",
       "             ('each', 8897),\n",
       "             ('as', 8498),\n",
       "             ('image', 7968),\n",
       "             ('user', 7614),\n",
       "             ('having', 7338),\n",
       "             ('provided', 7023),\n",
       "             ('between', 6998),\n",
       "             ('portion', 6688),\n",
       "             ('which', 6359),\n",
       "             ('surface', 6178),\n",
       "             ('information', 5856),\n",
       "             ('associated', 5742),\n",
       "             ('include', 5692),\n",
       "             ('methods', 5660),\n",
       "             ('such', 5444),\n",
       "             ('network', 5272),\n",
       "             ('including', 5187),\n",
       "             ('also', 5185),\n",
       "             ('communication', 5140),\n",
       "             ('signal', 5095),\n",
       "             ('control', 5081),\n",
       "             ('power', 5030),\n",
       "             ('using', 4970),\n",
       "             ('within', 4915),\n",
       "             ('assembly', 4697),\n",
       "             ('systems', 4559),\n",
       "             ('storage', 4500),\n",
       "             ('coupled', 4443),\n",
       "             ('into', 4411),\n",
       "             ('set', 4392),\n",
       "             ('end', 4384),\n",
       "             ('disclosed', 4321),\n",
       "             ('when', 4296),\n",
       "             ('flow', 4224),\n",
       "             ('through', 4205),\n",
       "             ('has', 4172),\n",
       "             ('wherein', 4066),\n",
       "             ('time', 4032),\n",
       "             ('further', 3957),\n",
       "             ('sensor', 3890),\n",
       "             ('devices', 3787),\n",
       "             ('position', 3656),\n",
       "             ('embodiments', 3617),\n",
       "             ('other', 3599),\n",
       "             ('apparatus', 3546),\n",
       "             ('access', 3425),\n",
       "             ('computer', 3414),\n",
       "             ('provide', 3409),\n",
       "             ('material', 3375),\n",
       "             ('used', 3339),\n",
       "             ('application', 3315),\n",
       "             ('source', 3238),\n",
       "             ('comprises', 3219),\n",
       "             ('receiving', 3176),\n",
       "             ('input', 3137),\n",
       "             ('output', 3027),\n",
       "             ('determining', 2962),\n",
       "             ('comprising', 2922),\n",
       "             ('received', 2904),\n",
       "             ('response', 2901),\n",
       "             ('interface', 2828),\n",
       "             ('process', 2769),\n",
       "             ('disposed', 2731),\n",
       "             ('then', 2711),\n",
       "             ('different', 2682),\n",
       "             ('use', 2678),\n",
       "             ('embodiment', 2664),\n",
       "             ('two', 2661),\n",
       "             ('receive', 2645),\n",
       "             ('determined', 2631),\n",
       "             ('present', 2604),\n",
       "             ('processing', 2599),\n",
       "             ('than', 2534),\n",
       "             ('if', 2514),\n",
       "             ('providing', 2473),\n",
       "             ('determine', 2462),\n",
       "             ('non', 2453),\n",
       "             ('selected', 2433),\n",
       "             ('provides', 2391),\n",
       "             ('during', 2356),\n",
       "             ('described', 2298),\n",
       "             ('connected', 2275),\n",
       "             ('corresponding', 2275),\n",
       "             ('being', 2228),\n",
       "             ('multiple', 2215),\n",
       "             ('form', 2180),\n",
       "             ('not', 2178),\n",
       "             ('over', 2081),\n",
       "             ('example', 2024),\n",
       "             ('along', 1998),\n",
       "             ('some', 1940),\n",
       "             ('invention', 1932),\n",
       "             ('via', 1902),\n",
       "             ('where', 1836),\n",
       "             ('herein', 1694),\n",
       "             ('so', 1608),\n",
       "             ('this', 1592)])"
      ]
     },
     "execution_count": 27,
     "metadata": {},
     "output_type": "execute_result"
    }
   ],
   "source": [
    "get_word_counts(corpus_bag_of_words, corpus_features)"
   ]
  },
  {
   "cell_type": "markdown",
   "metadata": {},
   "source": [
    "Our top words are articles, prepositions and conjunctions that are not informative whatsoever, so we're probably not going to come up with anything interesting (\"garbage in, garbage out\"). \n",
    "\n",
    "Nevertheless, let's forge blindly ahead and try to create topics, and see the quality of the results that we get."
   ]
  },
  {
   "cell_type": "code",
   "execution_count": 28,
   "metadata": {},
   "outputs": [
    {
     "name": "stdout",
     "output_type": "stream",
     "text": [
      "0 of, and, one, to, at\n",
      "1 and, to, first, of, second\n",
      "2 to, and, of, in, be\n"
     ]
    }
   ],
   "source": [
    "ls_corpus_keywords, corpus_doctopic = create_topics(corpus_bag_of_words, corpus_features)"
   ]
  },
  {
   "cell_type": "markdown",
   "metadata": {},
   "source": [
    "These topics don't give us any real insight to what the data contains - one of the topics is \"and, the, to, of, in\"! Accroding to the patents in your dataset, some might hint to subjects (\"article\", \"wall\", \"vending\", etc.) but the signal is being swamped by the noise. \n",
    "\n",
    "We'll have to clean and process our data to get any meaningful information out of this text. "
   ]
  },
  {
   "cell_type": "markdown",
   "metadata": {},
   "source": [
    "### Text Cleaning and Normalization\n",
    "\n",
    "- Back to [Table of Contents](#Table-of-Contents)\n",
    "\n",
    "To clean and normalize text, we'll remove all special characters, numbers, and punctuation, so we're left with only the words themselves. Then we will make all the text lowercase; this uniformity will ensure that the algorithm doesn't treat \"the\" and \"The\" as different words, for example. \n",
    "\n",
    "To remove the special characters, numbers and punctuation we will use regular expressions. \n",
    "\n",
    "\n",
    "**Regular Expressions**, or \"regexes\" for short, let you find all the words or phrases in a document or text file that match a certain pattern. These rules are useful for pulling out useful information from a large amount of text. For example, if you want to find all email addresses in a document, you might look for everything that looks like *some combination of letters, _, .* followed by *@*, followed by more letters, and ending in *.com* or *.edu*. If you want to find all the credit card numbers in a document, you might look for everywhere you see the pattern \"four numbers, space, four numbers, space, four numbers, space, four numbers.\" Regexes are also helpful if you are scraping information from websites, because you can use them to separate the content from the HTML code used for formatting the website.\n",
    "\n",
    "A full tutorial on regular expressions would be outside the scope of this tutorial, but many good tutorials that can be found on-line. [regex101.com](regex101.com) is also a great interactive tool for developing and checking regular expressions.\n",
    "\n",
    ">\"Some people, when confronted with a problem, think \n",
    ">'I know, I'll use regular expressions.'   Now they have two problems.\"\n",
    "> -- Jaime Zawinski\n",
    "\n",
    "*A word of warning:* Regexes can work much more quickly than plain text sorting; however, if your regular expressions are becoming overly complicated, it's a good idea to find a simpler way to do what you want to do. Any developer should keep in mind there is a trade-off between optimization and understandability. The general philosophy of programming in Python is that your code is meant to be as understandable by *people* as much as possible, because human time is more valuable than computer time. You should therefore lean toward understandability rather than overly optimizing your code to make it run as quickly as possible. Your future-self, code-reviewers, people who inherit your code, and anyone else who has to make sense of your code in the future will appreciate it. \n",
    "\n",
    "For our purposes, we are going to use a regular expression to match all characters that are not letters -- punctuation, quotes, special characters and numbers -- and replace them with spaces. Then we'll make all of the remaining characters lowercase.  \n",
    "\n",
    "We will be using the `re` library in python for regular expression matching."
   ]
  },
  {
   "cell_type": "code",
   "execution_count": 29,
   "metadata": {
    "collapsed": true
   },
   "outputs": [],
   "source": [
    "#get rid of the punctuations and set all characters to lowercase\n",
    "RE_PREPROCESS = re.compile( r'\\W+|\\d+' ) #the regular expressions that matches all non-characters\n",
    "\n",
    "#get rid of punctuation and make everything lowercase\n",
    "#the code below works by looping through the array of text (\"corpus\")\n",
    "#for a given piece of text ( \"description\" ) we invoke the `re.sub` command \n",
    "#the `re.sub` command takes 3 arguments: (1) the regular expression to match, \n",
    "#(2) what we want to substitute in place of that matching string (' ', a space)\n",
    "#and (3) the text we want to apply this to. \n",
    "#we then invoke the `lower()` method on the output of the `re.sub` command\n",
    "#to make all the remaining characters lowercase.\n",
    "#the result is a list, where each entry in the list is a cleaned version of the\n",
    "#corresponding entry in the original corpus.\n",
    "#we then make the list into a numpy array to use it in analysis\n",
    "\n",
    "processed_corpus = np.array( [ re.sub( RE_PREPROCESS, ' ', description ).lower() for description in corpus ] )"
   ]
  },
  {
   "cell_type": "markdown",
   "metadata": {},
   "source": [
    "Next, let's look at an example of the results of this cleanup."
   ]
  },
  {
   "cell_type": "markdown",
   "metadata": {},
   "source": [
    "__First Description, Before Cleaning__\n",
    "\n",
    "- Back to [Table of Contents](#Table-of-Contents)\n",
    "\n",
    "First, we'll look at the first description in our corpus, before it was cleaned:"
   ]
  },
  {
   "cell_type": "code",
   "execution_count": 30,
   "metadata": {},
   "outputs": [
    {
     "data": {
      "text/plain": [
       "'Dependencies between different channels or different services in a client or server may be determined from the observation of the times of the incoming and outgoing of the packets constituting those channels or services. A probabilistic model may be used to formally characterize these dependencies. The probabilistic model may be used to list the dependencies between input packets and output packets of various channels or services, and may be used to establish the expected strength of the causal relationship between the different events surrounding those channels or services. Parameters of the probabilistic model may be either based on prior knowledge, or may be fit using statistical techniques based on observations about the times of the events of interest. Expected times of occurrence between events may be observed, and dependencies may be determined in accordance with the probabilistic model.'"
      ]
     },
     "execution_count": 30,
     "metadata": {},
     "output_type": "execute_result"
    }
   ],
   "source": [
    "corpus[0]"
   ]
  },
  {
   "cell_type": "markdown",
   "metadata": {},
   "source": [
    "This text includes a lot of useful information, but also includes some things we don't want or need. There are some weird special characters (...). There are also some numbers, which are informative and interesting to a human reading the text (phone numbers, addresses, ...), but when we break down the documents into individual words, the numbers will become meaningless. We'll also want to remove all punctuation, so that we can say any two things separated by a space are individual words."
   ]
  },
  {
   "cell_type": "markdown",
   "metadata": {},
   "source": [
    "__First Description, After Cleaning__\n",
    "\n",
    "- Back to [Table of Contents](#Table-of-Contents)\n",
    "\n",
    "Now, let's look at this text after cleaning:"
   ]
  },
  {
   "cell_type": "code",
   "execution_count": 31,
   "metadata": {},
   "outputs": [
    {
     "data": {
      "text/plain": [
       "'dependencies between different channels or different services in a client or server may be determined from the observation of the times of the incoming and outgoing of the packets constituting those channels or services a probabilistic model may be used to formally characterize these dependencies the probabilistic model may be used to list the dependencies between input packets and output packets of various channels or services and may be used to establish the expected strength of the causal relationship between the different events surrounding those channels or services parameters of the probabilistic model may be either based on prior knowledge or may be fit using statistical techniques based on observations about the times of the events of interest expected times of occurrence between events may be observed and dependencies may be determined in accordance with the probabilistic model '"
      ]
     },
     "execution_count": 31,
     "metadata": {},
     "output_type": "execute_result"
    }
   ],
   "source": [
    "processed_corpus[0]"
   ]
  },
  {
   "cell_type": "markdown",
   "metadata": {},
   "source": [
    "All lowercase, all numbers and special characters have been removed. Out text is now normalized."
   ]
  },
  {
   "cell_type": "markdown",
   "metadata": {},
   "source": [
    "### Tokenizing text - breaking it into pieces\n",
    "\n",
    "- Back to [Table of Contents](#Table-of-Contents)\n",
    "\n",
    "Now that we've cleaned our text, we can *tokenize* it by deciding which words or phrases are the most meaningful. Normally the `CountVectorizer` handles this for us, but in this case, we'll split our text into individual words manually to show how it is done.\n",
    "\n",
    "To go from a whole document to a list of individual words, we can use the `.split()` command. By default, this command splits based on spaces in between words, so we don't need to specify that explicitly.  "
   ]
  },
  {
   "cell_type": "code",
   "execution_count": 32,
   "metadata": {
    "collapsed": true
   },
   "outputs": [],
   "source": [
    "tokens = processed_corpus[0].split()"
   ]
  },
  {
   "cell_type": "code",
   "execution_count": 33,
   "metadata": {},
   "outputs": [
    {
     "data": {
      "text/plain": [
       "['dependencies',\n",
       " 'between',\n",
       " 'different',\n",
       " 'channels',\n",
       " 'or',\n",
       " 'different',\n",
       " 'services',\n",
       " 'in',\n",
       " 'a',\n",
       " 'client',\n",
       " 'or',\n",
       " 'server',\n",
       " 'may',\n",
       " 'be',\n",
       " 'determined',\n",
       " 'from',\n",
       " 'the',\n",
       " 'observation',\n",
       " 'of',\n",
       " 'the',\n",
       " 'times',\n",
       " 'of',\n",
       " 'the',\n",
       " 'incoming',\n",
       " 'and',\n",
       " 'outgoing',\n",
       " 'of',\n",
       " 'the',\n",
       " 'packets',\n",
       " 'constituting',\n",
       " 'those',\n",
       " 'channels',\n",
       " 'or',\n",
       " 'services',\n",
       " 'a',\n",
       " 'probabilistic',\n",
       " 'model',\n",
       " 'may',\n",
       " 'be',\n",
       " 'used',\n",
       " 'to',\n",
       " 'formally',\n",
       " 'characterize',\n",
       " 'these',\n",
       " 'dependencies',\n",
       " 'the',\n",
       " 'probabilistic',\n",
       " 'model',\n",
       " 'may',\n",
       " 'be',\n",
       " 'used',\n",
       " 'to',\n",
       " 'list',\n",
       " 'the',\n",
       " 'dependencies',\n",
       " 'between',\n",
       " 'input',\n",
       " 'packets',\n",
       " 'and',\n",
       " 'output',\n",
       " 'packets',\n",
       " 'of',\n",
       " 'various',\n",
       " 'channels',\n",
       " 'or',\n",
       " 'services',\n",
       " 'and',\n",
       " 'may',\n",
       " 'be',\n",
       " 'used',\n",
       " 'to',\n",
       " 'establish',\n",
       " 'the',\n",
       " 'expected',\n",
       " 'strength',\n",
       " 'of',\n",
       " 'the',\n",
       " 'causal',\n",
       " 'relationship',\n",
       " 'between',\n",
       " 'the',\n",
       " 'different',\n",
       " 'events',\n",
       " 'surrounding',\n",
       " 'those',\n",
       " 'channels',\n",
       " 'or',\n",
       " 'services',\n",
       " 'parameters',\n",
       " 'of',\n",
       " 'the',\n",
       " 'probabilistic',\n",
       " 'model',\n",
       " 'may',\n",
       " 'be',\n",
       " 'either',\n",
       " 'based',\n",
       " 'on',\n",
       " 'prior',\n",
       " 'knowledge',\n",
       " 'or',\n",
       " 'may',\n",
       " 'be',\n",
       " 'fit',\n",
       " 'using',\n",
       " 'statistical',\n",
       " 'techniques',\n",
       " 'based',\n",
       " 'on',\n",
       " 'observations',\n",
       " 'about',\n",
       " 'the',\n",
       " 'times',\n",
       " 'of',\n",
       " 'the',\n",
       " 'events',\n",
       " 'of',\n",
       " 'interest',\n",
       " 'expected',\n",
       " 'times',\n",
       " 'of',\n",
       " 'occurrence',\n",
       " 'between',\n",
       " 'events',\n",
       " 'may',\n",
       " 'be',\n",
       " 'observed',\n",
       " 'and',\n",
       " 'dependencies',\n",
       " 'may',\n",
       " 'be',\n",
       " 'determined',\n",
       " 'in',\n",
       " 'accordance',\n",
       " 'with',\n",
       " 'the',\n",
       " 'probabilistic',\n",
       " 'model']"
      ]
     },
     "execution_count": 33,
     "metadata": {},
     "output_type": "execute_result"
    }
   ],
   "source": [
    "tokens"
   ]
  },
  {
   "cell_type": "markdown",
   "metadata": {},
   "source": [
    "### Removing meaningless text - Stopwords\n",
    "\n",
    "- Back to [Table of Contents](#Table-of-Contents)\n",
    "\n",
    "Stopwords are words that are found commonly throughout a text and carry little semantic meaning. Examples of common stopwords are prepositions (\"to\", \"on\", \"in\"), articles (\"the\", \"an\", \"a\"), conjunctions (\"and\", \"or\", \"but\") and common nouns. For example, the words *the* and *of* are totally ubiquitous, so they won't serve as meaningful features, whether to distinguish documents from each other or to tell what a given document is about. You may also run into words that you want to remove based on where you obtained your corpus of text or what it's about. There are many lists of common stopwords available for you to use, both for general documents and for specific contexts, so you don't have to start from scratch.   \n",
    "\n",
    "We can eliminate stopwords by checking all the words in our corpus against a list of commonly occuring stopwords that comes with NLTK."
   ]
  },
  {
   "cell_type": "code",
   "execution_count": 34,
   "metadata": {
    "collapsed": true
   },
   "outputs": [],
   "source": [
    "eng_stopwords = stopwords.words('english')"
   ]
  },
  {
   "cell_type": "code",
   "execution_count": 35,
   "metadata": {},
   "outputs": [
    {
     "data": {
      "text/plain": [
       "['i',\n",
       " 'me',\n",
       " 'my',\n",
       " 'myself',\n",
       " 'we',\n",
       " 'our',\n",
       " 'ours',\n",
       " 'ourselves',\n",
       " 'you',\n",
       " \"you're\",\n",
       " \"you've\",\n",
       " \"you'll\",\n",
       " \"you'd\",\n",
       " 'your',\n",
       " 'yours',\n",
       " 'yourself',\n",
       " 'yourselves',\n",
       " 'he',\n",
       " 'him',\n",
       " 'his',\n",
       " 'himself',\n",
       " 'she',\n",
       " \"she's\",\n",
       " 'her',\n",
       " 'hers',\n",
       " 'herself',\n",
       " 'it',\n",
       " \"it's\",\n",
       " 'its',\n",
       " 'itself',\n",
       " 'they',\n",
       " 'them',\n",
       " 'their',\n",
       " 'theirs',\n",
       " 'themselves',\n",
       " 'what',\n",
       " 'which',\n",
       " 'who',\n",
       " 'whom',\n",
       " 'this',\n",
       " 'that',\n",
       " \"that'll\",\n",
       " 'these',\n",
       " 'those',\n",
       " 'am',\n",
       " 'is',\n",
       " 'are',\n",
       " 'was',\n",
       " 'were',\n",
       " 'be',\n",
       " 'been',\n",
       " 'being',\n",
       " 'have',\n",
       " 'has',\n",
       " 'had',\n",
       " 'having',\n",
       " 'do',\n",
       " 'does',\n",
       " 'did',\n",
       " 'doing',\n",
       " 'a',\n",
       " 'an',\n",
       " 'the',\n",
       " 'and',\n",
       " 'but',\n",
       " 'if',\n",
       " 'or',\n",
       " 'because',\n",
       " 'as',\n",
       " 'until',\n",
       " 'while',\n",
       " 'of',\n",
       " 'at',\n",
       " 'by',\n",
       " 'for',\n",
       " 'with',\n",
       " 'about',\n",
       " 'against',\n",
       " 'between',\n",
       " 'into',\n",
       " 'through',\n",
       " 'during',\n",
       " 'before',\n",
       " 'after',\n",
       " 'above',\n",
       " 'below',\n",
       " 'to',\n",
       " 'from',\n",
       " 'up',\n",
       " 'down',\n",
       " 'in',\n",
       " 'out',\n",
       " 'on',\n",
       " 'off',\n",
       " 'over',\n",
       " 'under',\n",
       " 'again',\n",
       " 'further',\n",
       " 'then',\n",
       " 'once',\n",
       " 'here',\n",
       " 'there',\n",
       " 'when',\n",
       " 'where',\n",
       " 'why',\n",
       " 'how',\n",
       " 'all',\n",
       " 'any',\n",
       " 'both',\n",
       " 'each',\n",
       " 'few',\n",
       " 'more',\n",
       " 'most',\n",
       " 'other',\n",
       " 'some',\n",
       " 'such',\n",
       " 'no',\n",
       " 'nor',\n",
       " 'not',\n",
       " 'only',\n",
       " 'own',\n",
       " 'same',\n",
       " 'so',\n",
       " 'than',\n",
       " 'too',\n",
       " 'very',\n",
       " 's',\n",
       " 't',\n",
       " 'can',\n",
       " 'will',\n",
       " 'just',\n",
       " 'don',\n",
       " \"don't\",\n",
       " 'should',\n",
       " \"should've\",\n",
       " 'now',\n",
       " 'd',\n",
       " 'll',\n",
       " 'm',\n",
       " 'o',\n",
       " 're',\n",
       " 've',\n",
       " 'y',\n",
       " 'ain',\n",
       " 'aren',\n",
       " \"aren't\",\n",
       " 'couldn',\n",
       " \"couldn't\",\n",
       " 'didn',\n",
       " \"didn't\",\n",
       " 'doesn',\n",
       " \"doesn't\",\n",
       " 'hadn',\n",
       " \"hadn't\",\n",
       " 'hasn',\n",
       " \"hasn't\",\n",
       " 'haven',\n",
       " \"haven't\",\n",
       " 'isn',\n",
       " \"isn't\",\n",
       " 'ma',\n",
       " 'mightn',\n",
       " \"mightn't\",\n",
       " 'mustn',\n",
       " \"mustn't\",\n",
       " 'needn',\n",
       " \"needn't\",\n",
       " 'shan',\n",
       " \"shan't\",\n",
       " 'shouldn',\n",
       " \"shouldn't\",\n",
       " 'wasn',\n",
       " \"wasn't\",\n",
       " 'weren',\n",
       " \"weren't\",\n",
       " 'won',\n",
       " \"won't\",\n",
       " 'wouldn',\n",
       " \"wouldn't\"]"
      ]
     },
     "execution_count": 35,
     "metadata": {},
     "output_type": "execute_result"
    }
   ],
   "source": [
    "eng_stopwords"
   ]
  },
  {
   "cell_type": "code",
   "execution_count": 36,
   "metadata": {},
   "outputs": [
    {
     "data": {
      "text/plain": [
       "['i',\n",
       " \"you've\",\n",
       " 'himself',\n",
       " 'they',\n",
       " 'that',\n",
       " 'been',\n",
       " 'a',\n",
       " 'while',\n",
       " 'through',\n",
       " 'in',\n",
       " 'here',\n",
       " 'few',\n",
       " 'own',\n",
       " 'just',\n",
       " 're',\n",
       " 'doesn',\n",
       " 'ma',\n",
       " \"shouldn't\"]"
      ]
     },
     "execution_count": 36,
     "metadata": {},
     "output_type": "execute_result"
    }
   ],
   "source": [
    "#sample of stopwords\n",
    "#this is an example of slicing where we implicitly start at the beginning and move to the end\n",
    "#we select every 10th entry in the array\n",
    "eng_stopwords[::10]"
   ]
  },
  {
   "cell_type": "markdown",
   "metadata": {},
   "source": [
    "Notice that this list includes \"weren\" and \"hasn\" as well as single letters (\"t\"). Why do you think these are contained in the list of stopwords?"
   ]
  },
  {
   "cell_type": "markdown",
   "metadata": {},
   "source": [
    "__Exercise 3 - practicing slicing__\n",
    "\n",
    "- Back to [Table of Contents](#Table-of-Contents)\n",
    "\n",
    "Try slicing to retrieve every 5th word."
   ]
  },
  {
   "cell_type": "code",
   "execution_count": 37,
   "metadata": {},
   "outputs": [
    {
     "data": {
      "text/plain": [
       "['i',\n",
       " 'our',\n",
       " \"you've\",\n",
       " 'yourself',\n",
       " 'himself',\n",
       " 'herself',\n",
       " 'they',\n",
       " 'what',\n",
       " 'that',\n",
       " 'is',\n",
       " 'been',\n",
       " 'having',\n",
       " 'a',\n",
       " 'if',\n",
       " 'while',\n",
       " 'with',\n",
       " 'through',\n",
       " 'below',\n",
       " 'in',\n",
       " 'under',\n",
       " 'here',\n",
       " 'how',\n",
       " 'few',\n",
       " 'such',\n",
       " 'own',\n",
       " 'very',\n",
       " 'just',\n",
       " 'now',\n",
       " 're',\n",
       " \"aren't\",\n",
       " 'doesn',\n",
       " \"hasn't\",\n",
       " 'ma',\n",
       " 'needn',\n",
       " \"shouldn't\",\n",
       " 'won']"
      ]
     },
     "execution_count": 37,
     "metadata": {},
     "output_type": "execute_result"
    }
   ],
   "source": [
    "eng_stopwords[::5]"
   ]
  },
  {
   "cell_type": "markdown",
   "metadata": {},
   "source": [
    "##  Topic Modeling on Cleaned Data\n",
    "\n",
    "- Back to [Table of Contents](#Table-of-Contents)\n",
    "\n",
    "Now that we've cleaned up our data a little bit, let's see what our bag of words looks like."
   ]
  },
  {
   "cell_type": "code",
   "execution_count": 38,
   "metadata": {
    "scrolled": true
   },
   "outputs": [
    {
     "data": {
      "text/plain": [
       "OrderedDict([('first', 27154),\n",
       "             ('one', 24675),\n",
       "             ('system', 22250),\n",
       "             ('includes', 20639),\n",
       "             ('second', 20168),\n",
       "             ('device', 16255),\n",
       "             ('data', 15537),\n",
       "             ('may', 15085),\n",
       "             ('least', 14677),\n",
       "             ('method', 13304),\n",
       "             ('plurality', 10976),\n",
       "             ('configured', 9744),\n",
       "             ('based', 9640),\n",
       "             ('image', 7968),\n",
       "             ('user', 7614),\n",
       "             ('provided', 7023),\n",
       "             ('portion', 6688),\n",
       "             ('surface', 6178),\n",
       "             ('information', 5856),\n",
       "             ('associated', 5742),\n",
       "             ('include', 5692),\n",
       "             ('methods', 5660),\n",
       "             ('network', 5272),\n",
       "             ('including', 5187),\n",
       "             ('also', 5185),\n",
       "             ('communication', 5140),\n",
       "             ('signal', 5095),\n",
       "             ('control', 5081),\n",
       "             ('power', 5030),\n",
       "             ('using', 4970),\n",
       "             ('within', 4915),\n",
       "             ('assembly', 4697),\n",
       "             ('systems', 4559),\n",
       "             ('storage', 4500),\n",
       "             ('coupled', 4443),\n",
       "             ('set', 4392),\n",
       "             ('end', 4384),\n",
       "             ('disclosed', 4321),\n",
       "             ('flow', 4224),\n",
       "             ('wherein', 4066),\n",
       "             ('time', 4032),\n",
       "             ('sensor', 3890),\n",
       "             ('devices', 3787),\n",
       "             ('position', 3656),\n",
       "             ('embodiments', 3617),\n",
       "             ('apparatus', 3546),\n",
       "             ('access', 3425),\n",
       "             ('computer', 3414),\n",
       "             ('provide', 3409),\n",
       "             ('material', 3375),\n",
       "             ('used', 3339),\n",
       "             ('application', 3315),\n",
       "             ('source', 3238),\n",
       "             ('comprises', 3219),\n",
       "             ('receiving', 3176),\n",
       "             ('input', 3137),\n",
       "             ('output', 3027),\n",
       "             ('determining', 2962),\n",
       "             ('comprising', 2922),\n",
       "             ('received', 2904),\n",
       "             ('response', 2901),\n",
       "             ('interface', 2828),\n",
       "             ('process', 2769),\n",
       "             ('disposed', 2731),\n",
       "             ('different', 2682),\n",
       "             ('use', 2678),\n",
       "             ('embodiment', 2664),\n",
       "             ('two', 2661),\n",
       "             ('receive', 2645),\n",
       "             ('determined', 2631),\n",
       "             ('present', 2604),\n",
       "             ('processing', 2599),\n",
       "             ('providing', 2473),\n",
       "             ('determine', 2462),\n",
       "             ('non', 2453),\n",
       "             ('selected', 2433),\n",
       "             ('provides', 2391),\n",
       "             ('described', 2298),\n",
       "             ('connected', 2275),\n",
       "             ('corresponding', 2275),\n",
       "             ('multiple', 2215),\n",
       "             ('form', 2180),\n",
       "             ('example', 2024),\n",
       "             ('along', 1998),\n",
       "             ('invention', 1932),\n",
       "             ('via', 1902),\n",
       "             ('herein', 1694)])"
      ]
     },
     "execution_count": 38,
     "metadata": {},
     "output_type": "execute_result"
    }
   ],
   "source": [
    "# create bag of words from processed_corpus\n",
    "processed_bag_of_words, processed_features = create_bag_of_words( processed_corpus, stop_words = eng_stopwords )\n",
    "dict_processed_word_counts = get_word_counts( processed_bag_of_words, processed_features )\n",
    "dict_processed_word_counts"
   ]
  },
  {
   "cell_type": "markdown",
   "metadata": {},
   "source": [
    "Much better! Now this is starting to look like a reasonable representation of our corpus of text. \n",
    "\n",
    "We mentioned that, in addition to stopwords that are common across all types of text analysis problems, there wil also be specific stopwords based on the context of your domain. Notice how the top words include words like \"...\"? It makes sense that these words are so common - so they won't be very helpful in analysis. \n",
    "\n",
    "One quick way to remove some of these domain-specific stopwords is by dropping some of your most frequent words. We'll start out by dropping the top 20. You'll want to change this number, playing with making it bigger and smaller, to see how it affects your resulting topics."
   ]
  },
  {
   "cell_type": "code",
   "execution_count": 39,
   "metadata": {
    "collapsed": true
   },
   "outputs": [],
   "source": [
    "# get top 20 stopwords (slice from start through 20 items in list)\n",
    "top_20_words = list(dict_processed_word_counts.keys())[:20]\n",
    "\n",
    "# create new stopword list by combining default stopwords with our top 20.\n",
    "domain_specific_stopwords = eng_stopwords + top_20_words\n",
    "\n",
    "# make a new bag of words excluding custom stopwords.\n",
    "processed_bag_of_words, processed_features = create_bag_of_words(processed_corpus,\n",
    "                                                                 stop_words=domain_specific_stopwords)\n"
   ]
  },
  {
   "cell_type": "code",
   "execution_count": 40,
   "metadata": {
    "scrolled": true
   },
   "outputs": [
    {
     "data": {
      "text/plain": [
       "OrderedDict([('include', 5692),\n",
       "             ('methods', 5660),\n",
       "             ('network', 5272),\n",
       "             ('including', 5187),\n",
       "             ('also', 5185),\n",
       "             ('communication', 5140),\n",
       "             ('signal', 5095),\n",
       "             ('control', 5081),\n",
       "             ('power', 5030),\n",
       "             ('using', 4970),\n",
       "             ('within', 4915),\n",
       "             ('assembly', 4697),\n",
       "             ('systems', 4559),\n",
       "             ('storage', 4500),\n",
       "             ('coupled', 4443),\n",
       "             ('set', 4392),\n",
       "             ('end', 4384),\n",
       "             ('disclosed', 4321),\n",
       "             ('flow', 4224),\n",
       "             ('wherein', 4066),\n",
       "             ('time', 4032),\n",
       "             ('sensor', 3890),\n",
       "             ('devices', 3787),\n",
       "             ('position', 3656),\n",
       "             ('embodiments', 3617),\n",
       "             ('apparatus', 3546),\n",
       "             ('access', 3425),\n",
       "             ('computer', 3414),\n",
       "             ('provide', 3409),\n",
       "             ('material', 3375),\n",
       "             ('used', 3339),\n",
       "             ('application', 3315),\n",
       "             ('source', 3238),\n",
       "             ('comprises', 3219),\n",
       "             ('receiving', 3176),\n",
       "             ('input', 3137),\n",
       "             ('output', 3027),\n",
       "             ('determining', 2962),\n",
       "             ('comprising', 2922),\n",
       "             ('received', 2904),\n",
       "             ('response', 2901),\n",
       "             ('interface', 2828),\n",
       "             ('process', 2769),\n",
       "             ('disposed', 2731),\n",
       "             ('different', 2682),\n",
       "             ('use', 2678),\n",
       "             ('embodiment', 2664),\n",
       "             ('two', 2661),\n",
       "             ('receive', 2645),\n",
       "             ('determined', 2631),\n",
       "             ('present', 2604),\n",
       "             ('processing', 2599),\n",
       "             ('providing', 2473),\n",
       "             ('determine', 2462),\n",
       "             ('non', 2453),\n",
       "             ('selected', 2433),\n",
       "             ('provides', 2391),\n",
       "             ('described', 2298),\n",
       "             ('connected', 2275),\n",
       "             ('corresponding', 2275),\n",
       "             ('multiple', 2215),\n",
       "             ('form', 2180),\n",
       "             ('example', 2024),\n",
       "             ('along', 1998),\n",
       "             ('invention', 1932),\n",
       "             ('via', 1902),\n",
       "             ('herein', 1694)])"
      ]
     },
     "execution_count": 40,
     "metadata": {},
     "output_type": "execute_result"
    }
   ],
   "source": [
    "# what do we have now?\n",
    "dict_processed_word_counts = get_word_counts(processed_bag_of_words, processed_features)\n",
    "dict_processed_word_counts"
   ]
  },
  {
   "cell_type": "markdown",
   "metadata": {},
   "source": [
    "This is a bit better - although we still see some words that are probably very common (\"...\"), words like \"...\" will probably help us come up with more specific categories within the broader realm of social services. Let's see what topics we produce."
   ]
  },
  {
   "cell_type": "code",
   "execution_count": 41,
   "metadata": {},
   "outputs": [
    {
     "name": "stdout",
     "output_type": "stream",
     "text": [
      "0 control, signal, power, sensor, position\n",
      "1 assembly, storage, coupled, end, flow\n",
      "2 methods, network, systems, communication, using\n"
     ]
    }
   ],
   "source": [
    "processed_keywords, processed_doctopic = create_topics(processed_bag_of_words, \n",
    "                                                       processed_features)"
   ]
  },
  {
   "cell_type": "markdown",
   "metadata": {},
   "source": [
    "Now we are starting to get somewhere! We can manipulate the number of topics we want to find and the number of words to use for each topic to see if we can understand more from our corpus. "
   ]
  },
  {
   "cell_type": "code",
   "execution_count": 42,
   "metadata": {},
   "outputs": [
    {
     "name": "stdout",
     "output_type": "stream",
     "text": [
      "0 methods, systems, set, sensor, time, using, include, embodiments, disclosed, used\n",
      "1 communication, control, network, power, access, application, interface, source, via, computer\n",
      "2 coupled, devices, output, input, response, disposed, receive, determine, multiple, also\n",
      "3 assembly, storage, end, flow, position, within, along, connected, including, apparatus\n",
      "4 signal, wherein, material, comprises, comprising, receiving, non, form, including, received\n"
     ]
    }
   ],
   "source": [
    "# look for 5 topics, include 10 words in each.\n",
    "processed_keywords, processed_doctopic = create_topics(processed_bag_of_words, \n",
    "                                                       processed_features, \n",
    "                                                       N_TOPICS = 5,\n",
    "                                                       N_TOP_WORDS= 10)"
   ]
  },
  {
   "cell_type": "markdown",
   "metadata": {},
   "source": [
    "Some structure is starting to reveal itself - .... Adding more topics has revealed to larger subtopics. Let's see if increasing the number of topics gives us more information.\n",
    "\n",
    "However, we can see that .... are still present -  This is an iterative process - after seeing the results of some analysis, you will need to go back to the preprocessing step and add more words to your list of stopwords or change how you cleaned the data.\n",
    "\n",
    "Now let's try 10 topics with 15 words each:"
   ]
  },
  {
   "cell_type": "code",
   "execution_count": 43,
   "metadata": {},
   "outputs": [
    {
     "name": "stdout",
     "output_type": "stream",
     "text": [
      "0 coupled, output, input, receive, determined, response, determine, also, received, provide, including, via, embodiment, described, disclosed\n",
      "1 sensor, position, within, apparatus, source, disposed, along, also, comprises, via, use, wherein, including, providing, corresponding\n",
      "2 assembly, wherein, comprises, comprising, two, including, form, also, disclosed, within, different, embodiment, using, coupled, providing\n",
      "3 communication, storage, control, access, selected, via, received, within, corresponding, providing, determine, provide, also, including, embodiment\n",
      "4 time, computer, receiving, determining, using, multiple, received, including, used, determine, also, processing, providing, via, use\n",
      "5 end, set, include, connected, also, including, corresponding, disclosed, disposed, provide, received, wherein, using, embodiment, used\n",
      "6 network, application, interface, process, processing, via, using, response, within, also, used, described, computer, receiving, provide\n",
      "7 methods, systems, disclosed, embodiments, include, non, different, described, example, using, herein, corresponding, providing, embodiment, also\n",
      "8 signal, power, flow, material, control, coupled, including, providing, also, provide, corresponding, disclosed, output, received, comprises\n",
      "9 devices, present, use, used, provides, invention, connected, provide, embodiments, including, embodiment, within, also, via, using\n"
     ]
    }
   ],
   "source": [
    "# 10 topics, 15 words each\n",
    "processed_keywords, processed_doctopic = create_topics(processed_bag_of_words, \n",
    "                                                       processed_features, \n",
    "                                                       N_TOPICS = 10,\n",
    "                                                       N_TOP_WORDS= 15)"
   ]
  },
  {
   "cell_type": "markdown",
   "metadata": {},
   "source": [
    "This looks like a good amount of topics for now. Some of the top words are quite similar, like <span style=\"background-color: #FFFF00\"> \"....\" </span> Let's move to stemming and lemmatization."
   ]
  },
  {
   "cell_type": "markdown",
   "metadata": {},
   "source": [
    "### Stemming and Lemmatization - Distilling text data\n",
    "\n",
    "- Back to [Table of Contents](#Table-of-Contents)\n",
    "\n",
    "We can further process our text through *stemming and lemmatization*, or replacing words with their root or simplest form. For example \"systems,\" \"systematic,\" and \"system\" are all different words, but we can replace all these words with \"system\" without sacrificing much meaning. \n",
    "\n",
    "- A **lemma** is the original dictionary form of a word (e.g. the lemma for \"lies,\" \"lied,\" and \"lying\" is \"lie\").\n",
    "- The process of turning a word into its simplest form is **stemming**. There are several well known stemming algorithms -- Porter, Snowball, Lancaster -- that all have their respective strengths and weaknesses.\n",
    "\n",
    "For this tutorial, we'll use the Snowball Stemmer:"
   ]
  },
  {
   "cell_type": "code",
   "execution_count": 44,
   "metadata": {},
   "outputs": [
    {
     "name": "stdout",
     "output_type": "stream",
     "text": [
      "lie\n",
      "lie\n",
      "systemat\n",
      "run\n"
     ]
    }
   ],
   "source": [
    "# Examples of how a Stemmer works:\n",
    "stemmer = SnowballStemmer(\"english\")\n",
    "print(stemmer.stem('lies'))\n",
    "print(stemmer.stem(\"lying\"))\n",
    "print(stemmer.stem('systematic'))\n",
    "print(stemmer.stem(\"running\"))"
   ]
  },
  {
   "cell_type": "markdown",
   "metadata": {},
   "source": [
    "Let's try creating a bag of stemmed words."
   ]
  },
  {
   "cell_type": "code",
   "execution_count": 45,
   "metadata": {
    "collapsed": true
   },
   "outputs": [],
   "source": [
    "# include stemming when creating our bag of words.\n",
    "processed_bag_of_words, processed_features = create_bag_of_words(processed_corpus,\n",
    "                                                                 stop_words=domain_specific_stopwords,\n",
    "                                                                 stem=True)"
   ]
  },
  {
   "cell_type": "code",
   "execution_count": 46,
   "metadata": {},
   "outputs": [
    {
     "name": "stdout",
     "output_type": "stream",
     "text": [
      "0 use, provid, embodi, applic, present, relat, particular, describ, disclos, invent, exampl, includ, multipl, contain, herein\n",
      "1 compon, layer, end, includ, member, form, materi, structur, compris, support, connect, plural, provid, wherein, contain\n",
      "2 process, sensor, time, detect, dure, oper, use, within, perform, provid, apparatus, includ, compris, indic, base\n",
      "3 includ, surfac, posit, assembl, flow, fluid, defin, extend, within, dispos, direct, plural, provid, along, form\n",
      "4 configur, includ, power, coupl, electr, sourc, oper, generat, receiv, provid, also, direct, output, wherein, compris\n",
      "5 control, signal, set, valu, modul, output, input, includ, receiv, generat, base, oper, determin, provid, respect\n",
      "6 imag, print, use, includ, receiv, non, identifi, generat, form, determin, correspond, locat, appli, base, compris\n",
      "7 devic, storag, element, interfac, oper, connect, store, communic, includ, provid, compris, via, use, embodi, apparatus\n",
      "8 plural, base, determin, includ, display, comput, select, associ, oper, generat, receiv, provid, identifi, perform, indic\n",
      "9 communic, network, inform, receiv, access, request, locat, identifi, determin, base, associ, includ, transmit, respons, comput\n"
     ]
    }
   ],
   "source": [
    "# create topics with stemmed words.\n",
    "processed_keywords, processed_doctopic = create_topics(processed_bag_of_words, \n",
    "                                                       processed_features, \n",
    "                                                       N_TOPICS = 10,\n",
    "                                                       N_TOP_WORDS= 15)"
   ]
  },
  {
   "cell_type": "markdown",
   "metadata": {},
   "source": [
    "What do we think of these topics?"
   ]
  },
  {
   "cell_type": "markdown",
   "metadata": {},
   "source": [
    "### N-grams - Adding context by creating N-grams\n",
    "\n",
    "- Back to [Table of Contents](#Table-of-Contents)\n",
    "\n",
    "Obviously, reducing a document to a bag of words means losing much of its meaning - we put words in certain orders, and group words together in phrases and sentences, precisely to give them more meaning. If you follow the processing steps we've gone through so far, splitting your document into individual words and then removing stopwords, you'll completely lose all phrases like \"kick the bucket,\" \"commander in chief,\" or \"sleeps with the fishes.\" \n",
    "\n",
    "One way to address this is to break down each document similarly, but rather than treating each word as an individual unit, treat each group of 2 words, or 3 words, or *n* words, as a unit. We call this a \"bag of *n*-grams,\" where *n* is the number of words in each chunk. Then you can analyze which groups of words commonly occur together (in a fixed order). \n",
    "\n",
    "Let's transform our corpus into a bag of n-grams with *n*=2: a bag of 2-grams, AKA a bag of bi-grams."
   ]
  },
  {
   "cell_type": "code",
   "execution_count": 47,
   "metadata": {},
   "outputs": [
    {
     "name": "stdout",
     "output_type": "stream",
     "text": [
      "0 signal, oper, print, receiv, detect, output, input, includ, respons, generat, determin, transmit, base, also, use\n",
      "1 plural, configur, flow, sensor, posit, includ, valu, modul, respect, provid, coupl, compris, direct, oper, receiv\n",
      "2 includ, surfac, assembl, compon, end, fluid, extend, dispos, defin, configur, within, connect, coupl, form, also\n",
      "3 base, determin, display, select, locat, element, includ, associ, plural, provid, differ, indic, exampl, relat, embodi\n",
      "4 control, power, layer, electr, sourc, includ, configur, coupl, oper, generat, connect, provid, dure, wherein, direct\n",
      "5 devic, communic, network, comput, access, receiv, interfac, request, includ, identifi, provid, use, configur, oper, associ\n",
      "6 member, structur, support, non, along, includ, form, connect, provid, extend, configur, defin, coupl, appli, within\n",
      "7 imag, set, identifi, generat, use, includ, comput, correspond, multipl, determin, within, receiv, defin, form, two\n",
      "8 process, storag, time, inform, applic, use, store, perform, provid, dure, base, request, associ, includ, generat\n",
      "9 compris, provid, use, materi, embodi, present, contain, form, includ, direct, relat, apparatus, disclos, invent, two\n"
     ]
    }
   ],
   "source": [
    "# create bag of words with stemmed words and 2-grams (NGRAM_RANGE = (0, 2)).\n",
    "processed_bag_of_words, processed_features = create_bag_of_words(processed_corpus,\n",
    "                                                                 stop_words=domain_specific_stopwords,\n",
    "                                                                 stem=True,\n",
    "                                                                 NGRAM_RANGE=(0,2))\n",
    "\n",
    "# Create topics.\n",
    "processed_keywords, processed_doctopic = create_topics(processed_bag_of_words, \n",
    "                                                       processed_features, \n",
    "                                                       N_TOPICS = 10,\n",
    "                                                       N_TOP_WORDS= 15)"
   ]
  },
  {
   "cell_type": "markdown",
   "metadata": {},
   "source": [
    "We can see that this lets us uncover patterns that we couldn't when we just used a bag of words: \"north shore\" and \"domest violenc\" come up as words. Note that this still includes the individual words, as well as the bi-grams."
   ]
  },
  {
   "cell_type": "markdown",
   "metadata": {},
   "source": [
    "### TF-IDF - Weighting terms based on frequency\n",
    "\n",
    "- Back to [Table of Contents](#Table-of-Contents)\n",
    "\n",
    "A final step in cleaning and processing our text data is **Term Frequency-Inverse Document Frequency (TF-IDF)**. TF-IDF is based on the idea that the words (or terms) that are most related to a certain topic will occur frequently in documents on that topic, and infrequently in unrelated documents.  TF-IDF re-weights words so that we emphasize words that are unique to a document and suppress words that are common throughout the corpus by inversely weighting terms based on their frequency within the document and across the corpus.\n",
    "\n",
    "Let's look at how using TF-IDF affects our bag of words:"
   ]
  },
  {
   "cell_type": "code",
   "execution_count": 48,
   "metadata": {
    "collapsed": true
   },
   "outputs": [],
   "source": [
    "# create bag of words including TF-IDF weighting.\n",
    "processed_bag_of_words, processed_features = create_bag_of_words( processed_corpus,\n",
    "                                                                  stop_words = domain_specific_stopwords,\n",
    "                                                                  stem = True,\n",
    "                                                                  NGRAM_RANGE = ( 0, 2 ),\n",
    "                                                                  USE_IDF = True )"
   ]
  },
  {
   "cell_type": "code",
   "execution_count": 49,
   "metadata": {
    "scrolled": true
   },
   "outputs": [
    {
     "data": {
      "text/plain": [
       "OrderedDict([('includ', 37362.806436766521),\n",
       "             ('devic', 29349.613251516152),\n",
       "             ('provid', 26467.771481305514),\n",
       "             ('base', 23070.333663862442),\n",
       "             ('use', 22968.451746546787),\n",
       "             ('configur', 22789.679819976503),\n",
       "             ('receiv', 21872.12126534888),\n",
       "             ('plural', 21607.507199707241),\n",
       "             ('determin', 20664.249517194799),\n",
       "             ('imag', 20053.247726168189),\n",
       "             ('control', 19790.954325824096),\n",
       "             ('oper', 18476.836573603494),\n",
       "             ('compris', 16664.660192233747),\n",
       "             ('generat', 16271.87362308214),\n",
       "             ('communic', 16032.436246516616),\n",
       "             ('embodi', 15728.981937480541),\n",
       "             ('associ', 15438.616421941037),\n",
       "             ('posit', 15425.058735836918),\n",
       "             ('surfac', 15110.502585307346),\n",
       "             ('process', 14954.537044628198),\n",
       "             ('comput', 14843.128752121338),\n",
       "             ('signal', 14804.816418977385),\n",
       "             ('form', 14256.308949134613),\n",
       "             ('select', 14144.846624038541),\n",
       "             ('inform', 14110.85269966803),\n",
       "             ('also', 13909.762613767332),\n",
       "             ('coupl', 13854.823814548732),\n",
       "             ('identifi', 13404.534019194418),\n",
       "             ('within', 13347.123300395502),\n",
       "             ('set', 13191.477881420624),\n",
       "             ('network', 12954.135310768475),\n",
       "             ('connect', 12909.688255088402),\n",
       "             ('assembl', 12815.823371796389),\n",
       "             ('locat', 12706.528624357927),\n",
       "             ('display', 12648.717518412468),\n",
       "             ('disclos', 12453.385405881099),\n",
       "             ('relat', 12276.886182258571),\n",
       "             ('compon', 12054.382944033265),\n",
       "             ('time', 11928.770568630922),\n",
       "             ('power', 11846.687117967409),\n",
       "             ('end', 11731.208298978479),\n",
       "             ('wherein', 11704.327261084309),\n",
       "             ('present', 11667.13958438573),\n",
       "             ('flow', 11533.135027433722),\n",
       "             ('detect', 11467.25859066372),\n",
       "             ('sensor', 11385.641077913135),\n",
       "             ('direct', 11171.291173645983),\n",
       "             ('respons', 11164.988714623163),\n",
       "             ('layer', 11130.625768071215),\n",
       "             ('apparatus', 10992.700584851789),\n",
       "             ('access', 10775.251893999792),\n",
       "             ('valu', 10774.504825601922),\n",
       "             ('applic', 10711.335553060879),\n",
       "             ('print', 10694.216337889029),\n",
       "             ('member', 10590.134587862123),\n",
       "             ('electr', 10513.081088470637),\n",
       "             ('defin', 10452.813483961896),\n",
       "             ('extend', 10447.654507456333),\n",
       "             ('sourc', 10254.813887726657),\n",
       "             ('differ', 10250.12060172322),\n",
       "             ('element', 10210.507492652223),\n",
       "             ('modul', 10190.419446525331),\n",
       "             ('storag', 10188.480654350231),\n",
       "             ('perform', 10035.043309722672),\n",
       "             ('fluid', 10016.485566154915),\n",
       "             ('materi', 9898.6647354460929),\n",
       "             ('request', 9810.8296203947066),\n",
       "             ('store', 9768.2057623695309),\n",
       "             ('input', 9649.2353419112096),\n",
       "             ('output', 9538.9447455416139),\n",
       "             ('contain', 9468.066960678636),\n",
       "             ('indic', 9426.5688876547647),\n",
       "             ('structur', 9334.748560264783),\n",
       "             ('correspond', 9233.8811472576035),\n",
       "             ('dispos', 9088.170741411237),\n",
       "             ('interfac', 8984.1084768560941),\n",
       "             ('support', 8975.0089106695232),\n",
       "             ('describ', 8767.802638058447),\n",
       "             ('respect', 8558.4674156779365),\n",
       "             ('two', 8393.2897177752984),\n",
       "             ('also includ', 7990.1402175806561),\n",
       "             ('dure', 7987.0938212799338),\n",
       "             ('non', 7921.0651322831764),\n",
       "             ('exampl', 7768.2208711670946),\n",
       "             ('transmit', 7663.1057843330855),\n",
       "             ('appli', 7362.4641266668832),\n",
       "             ('multipl', 7345.3801519604094),\n",
       "             ('accord', 7129.6052154307163),\n",
       "             ('along', 7018.0139020149809),\n",
       "             ('particular', 6965.4884699525337),\n",
       "             ('invent', 6930.7242442741499),\n",
       "             ('reduc', 6904.5075680571408),\n",
       "             ('via', 6863.4136481845771),\n",
       "             ('allow', 6802.2083956226861),\n",
       "             ('addit', 6727.8049254665057),\n",
       "             ('herein', 6381.1371109760894)])"
      ]
     },
     "execution_count": 49,
     "metadata": {},
     "output_type": "execute_result"
    }
   ],
   "source": [
    "# let's see what we have:\n",
    "dict_word_counts = get_word_counts( processed_bag_of_words, processed_features )\n",
    "dict_word_counts"
   ]
  },
  {
   "cell_type": "markdown",
   "metadata": {},
   "source": [
    "The words counts have been reweighted to emphasize the more meaningful words of the corpus, while de-emphasizing the words that are found commonly throughout the corpus.\n",
    "\n",
    "How does this affect our topics?"
   ]
  },
  {
   "cell_type": "code",
   "execution_count": 50,
   "metadata": {},
   "outputs": [
    {
     "name": "stdout",
     "output_type": "stream",
     "text": [
      "0 communic, devic, network, locat, detect, signal, applic, element, modul, interfac\n",
      "1 coupl, configur, includ, assembl, power, flow, control, sensor, fluid, electr\n",
      "2 determin, base, associ, identifi, set, comput, display, time, devic, valu\n",
      "3 inform, compon, layer, materi, request, non, compris, appli, form, structur\n",
      "4 imag, surfac, end, extend, member, print, contain, support, includ, form\n"
     ]
    }
   ],
   "source": [
    "processed_keywords, processed_doctopic = create_topics(processed_bag_of_words, \n",
    "                                                       processed_features, \n",
    "                                                       N_TOPICS = 5,\n",
    "                                                       N_TOP_WORDS= 10)"
   ]
  },
  {
   "cell_type": "markdown",
   "metadata": {},
   "source": [
    "---\n",
    "__Exercise 4 - Refining a topic model__\n",
    "\n",
    "- Back to [Table of Contents](#Table-of-Contents)\n",
    "\n",
    "You can only develop an intuition for the right number of topics and topic words suitable for a given problem by iterating until you find a good match. \n",
    "\n",
    "Change the number of topics and topic words until you get an intution of how many words and topics are enough."
   ]
  },
  {
   "cell_type": "code",
   "execution_count": 51,
   "metadata": {},
   "outputs": [
    {
     "name": "stdout",
     "output_type": "stream",
     "text": [
      "0 imag, use, present, embodi, process, print, disclos, provid, non, appli, invent, addit, relat, herein, particular, allow, contain, reduc, describ, compris, exampl, includ, apparatus, differ, direct\n",
      "1 control, coupl, configur, assembl, includ, power, flow, fluid, electr, storag, connect, sourc, also includ, oper, also, devic, provid, posit, direct, plural, within, communic, via, receiv, generat\n",
      "2 signal, determin, identifi, set, base, detect, sensor, time, valu, indic, input, correspond, locat, generat, receiv, output, respons, associ, includ, plural, perform, comput, devic, use, oper\n",
      "3 devic, network, communic, display, inform, access, modul, request, interfac, receiv, comput, associ, transmit, applic, store, base, determin, provid, configur, control, select, includ, oper, plural, respons\n",
      "4 surfac, end, form, layer, extend, posit, includ, member, element, defin, materi, structur, support, compon, dispos, along, compris, plural, within, wherein, contain, locat, provid, respect, direct\n"
     ]
    }
   ],
   "source": [
    "exercise_keywords, exercise_doctopic = create_topics( processed_bag_of_words, \n",
    "                                                      processed_features, \n",
    "                                                      N_TOPICS = 5,\n",
    "                                                      N_TOP_WORDS= 25 )"
   ]
  },
  {
   "cell_type": "code",
   "execution_count": 52,
   "metadata": {},
   "outputs": [
    {
     "name": "stdout",
     "output_type": "stream",
     "text": [
      "0 set, also, relat, embodi, describ, also includ, particular, herein, disclos, present, base, use, includ, associ, provid, select, determin, respect, generat, devic, plural, inform, receiv, identifi, oper\n",
      "1 compris, form, wherein, layer, materi, plural, invent, provid, present, includ, embodi, use, base, select, disclos, also, differ, contain, receiv, devic, dure, process, within, generat, extend\n",
      "2 imag, time, valu, storag, identifi, determin, comput, correspond, perform, base, store, generat, use, plural, associ, devic, differ, receiv, includ, inform, process, select, oper, provid, dure\n",
      "3 signal, control, display, modul, output, input, select, configur, plural, multipl, generat, differ, receiv, devic, oper, includ, coupl, base, provid, indic, determin, respons, associ, correspond, apparatus\n",
      "4 compon, process, applic, interfac, accord, use, provid, dure, present, oper, embodi, perform, allow, includ, generat, direct, configur, base, associ, control, receiv, determin, request, identifi, respons\n",
      "5 end, extend, electr, connect, dispos, appli, includ, reduc, coupl, fluid, defin, configur, within, along, devic, receiv, provid, also, use, generat, communic, relat, direct, wherein, base\n",
      "6 surfac, locat, contain, exampl, via, defin, within, allow, includ, disclos, provid, use, receiv, base, configur, also, plural, oper, embodi, dure, associ, differ, direct, process, structur\n",
      "7 communic, devic, network, power, access, inform, request, receiv, respons, transmit, determin, comput, indic, associ, base, oper, identifi, store, control, provid, includ, configur, use, connect, generat\n",
      "8 detect, member, print, structur, support, non, addit, includ, apparatus, use, disclos, provid, oper, configur, along, within, relat, select, also, embodi, base, imag, control, generat, associ\n",
      "9 posit, assembl, flow, sensor, direct, element, sourc, two, includ, respect, configur, apparatus, fluid, control, coupl, along, oper, provid, within, relat, dure, devic, disclos, use, receiv\n"
     ]
    }
   ],
   "source": [
    "exercise_keywords, exercise_doctopic = create_topics( processed_bag_of_words, \n",
    "                                                      processed_features, \n",
    "                                                      N_TOPICS = 10,\n",
    "                                                      N_TOP_WORDS= 25 )"
   ]
  },
  {
   "cell_type": "code",
   "execution_count": 53,
   "metadata": {},
   "outputs": [],
   "source": [
    "#grab the topic_id of the majority topic for each document and store it in a list\n",
    "ls_topic_id = [np.argsort(processed_doctopic[comment_id])[::-1][0] for comment_id in range(len(corpus))]\n",
    "df_patent_desc['topic_id'] = ls_topic_id #add to the dataframe so we can compare with the job titles"
   ]
  },
  {
   "cell_type": "markdown",
   "metadata": {},
   "source": [
    "Now that each row is tagged with a topic ID. Let's see how well the topics explain the social services by looking at the first topic, and seeing how similar the social services within that topic are to each other."
   ]
  },
  {
   "cell_type": "code",
   "execution_count": 54,
   "metadata": {},
   "outputs": [
    {
     "name": "stdout",
     "output_type": "stream",
     "text": [
      "communic, devic, network, locat, detect, signal, applic, element, modul, interfac\n"
     ]
    },
    {
     "data": {
      "text/html": [
       "<div>\n",
       "<style>\n",
       "    .dataframe thead tr:only-child th {\n",
       "        text-align: right;\n",
       "    }\n",
       "\n",
       "    .dataframe thead th {\n",
       "        text-align: left;\n",
       "    }\n",
       "\n",
       "    .dataframe tbody tr th {\n",
       "        vertical-align: top;\n",
       "    }\n",
       "</style>\n",
       "<table border=\"1\" class=\"dataframe\">\n",
       "  <thead>\n",
       "    <tr style=\"text-align: right;\">\n",
       "      <th></th>\n",
       "      <th>business_name</th>\n",
       "      <th>patent_number</th>\n",
       "      <th>patent_date</th>\n",
       "      <th>patent_title</th>\n",
       "      <th>patent_abstract</th>\n",
       "      <th>topic_id</th>\n",
       "    </tr>\n",
       "  </thead>\n",
       "  <tbody>\n",
       "    <tr>\n",
       "      <th>8</th>\n",
       "      <td>ORACLE AMERICA INC</td>\n",
       "      <td>8006016</td>\n",
       "      <td>2011-01-18</td>\n",
       "      <td>Hiding system latencies in a throughput networ...</td>\n",
       "      <td>A method for addressing system latency within ...</td>\n",
       "      <td>0</td>\n",
       "    </tr>\n",
       "    <tr>\n",
       "      <th>19</th>\n",
       "      <td>ORACLE AMERICA INC</td>\n",
       "      <td>8039308</td>\n",
       "      <td>2011-01-13</td>\n",
       "      <td>Integrated-circuit package for proximity commu...</td>\n",
       "      <td>Embodiments of a multi-chip module (MCM) are d...</td>\n",
       "      <td>0</td>\n",
       "    </tr>\n",
       "    <tr>\n",
       "      <th>30</th>\n",
       "      <td>MICROSOFT CORP</td>\n",
       "      <td>8065421</td>\n",
       "      <td>2011-02-15</td>\n",
       "      <td>Reciprocal public trust relationship</td>\n",
       "      <td>Publicly accessible linking information is to ...</td>\n",
       "      <td>0</td>\n",
       "    </tr>\n",
       "    <tr>\n",
       "      <th>57</th>\n",
       "      <td>EASTMAN KODAK CO</td>\n",
       "      <td>8098403</td>\n",
       "      <td>2011-05-11</td>\n",
       "      <td>Color error diffusion with error signal offset</td>\n",
       "      <td>A method for multi-toning an input digital ima...</td>\n",
       "      <td>0</td>\n",
       "    </tr>\n",
       "    <tr>\n",
       "      <th>58</th>\n",
       "      <td>MICROSOFT CORP</td>\n",
       "      <td>8099494</td>\n",
       "      <td>2011-03-31</td>\n",
       "      <td>Tuning and optimizing distributed systems with...</td>\n",
       "      <td>A system for automatically adjusting operation...</td>\n",
       "      <td>0</td>\n",
       "    </tr>\n",
       "    <tr>\n",
       "      <th>69</th>\n",
       "      <td>ORACLE AMERICA INC</td>\n",
       "      <td>8108461</td>\n",
       "      <td>2011-07-08</td>\n",
       "      <td>Method and system for processing a request sen...</td>\n",
       "      <td>A method for processing a request sent over a ...</td>\n",
       "      <td>0</td>\n",
       "    </tr>\n",
       "    <tr>\n",
       "      <th>72</th>\n",
       "      <td>MICROSOFT CORP</td>\n",
       "      <td>8112116</td>\n",
       "      <td>2011-05-11</td>\n",
       "      <td>Bidirectional dynamic offloading of tasks betw...</td>\n",
       "      <td>One or more functions are exposed by a mobile ...</td>\n",
       "      <td>0</td>\n",
       "    </tr>\n",
       "    <tr>\n",
       "      <th>77</th>\n",
       "      <td>MICROSOFT CORP</td>\n",
       "      <td>8112556</td>\n",
       "      <td>2011-05-31</td>\n",
       "      <td>Method and apparatus for detecting the type of...</td>\n",
       "      <td>A peripheral device, with first and second com...</td>\n",
       "      <td>0</td>\n",
       "    </tr>\n",
       "    <tr>\n",
       "      <th>81</th>\n",
       "      <td>MICROSOFT CORP</td>\n",
       "      <td>8116234</td>\n",
       "      <td>2011-01-31</td>\n",
       "      <td>Detection of home network configuration problems</td>\n",
       "      <td>A diagnostic tool for identifying a configurat...</td>\n",
       "      <td>0</td>\n",
       "    </tr>\n",
       "    <tr>\n",
       "      <th>93</th>\n",
       "      <td>GENERAL ELECTRIC CO</td>\n",
       "      <td>8131383</td>\n",
       "      <td>2011-01-31</td>\n",
       "      <td>Method and system for rapid modeling and verif...</td>\n",
       "      <td>A system for collecting frequency response dat...</td>\n",
       "      <td>0</td>\n",
       "    </tr>\n",
       "  </tbody>\n",
       "</table>\n",
       "</div>"
      ],
      "text/plain": [
       "          business_name patent_number patent_date  \\\n",
       "8    ORACLE AMERICA INC       8006016  2011-01-18   \n",
       "19   ORACLE AMERICA INC       8039308  2011-01-13   \n",
       "30       MICROSOFT CORP       8065421  2011-02-15   \n",
       "57     EASTMAN KODAK CO       8098403  2011-05-11   \n",
       "58       MICROSOFT CORP       8099494  2011-03-31   \n",
       "69   ORACLE AMERICA INC       8108461  2011-07-08   \n",
       "72       MICROSOFT CORP       8112116  2011-05-11   \n",
       "77       MICROSOFT CORP       8112556  2011-05-31   \n",
       "81       MICROSOFT CORP       8116234  2011-01-31   \n",
       "93  GENERAL ELECTRIC CO       8131383  2011-01-31   \n",
       "\n",
       "                                         patent_title  \\\n",
       "8   Hiding system latencies in a throughput networ...   \n",
       "19  Integrated-circuit package for proximity commu...   \n",
       "30               Reciprocal public trust relationship   \n",
       "57     Color error diffusion with error signal offset   \n",
       "58  Tuning and optimizing distributed systems with...   \n",
       "69  Method and system for processing a request sen...   \n",
       "72  Bidirectional dynamic offloading of tasks betw...   \n",
       "77  Method and apparatus for detecting the type of...   \n",
       "81   Detection of home network configuration problems   \n",
       "93  Method and system for rapid modeling and verif...   \n",
       "\n",
       "                                      patent_abstract  topic_id  \n",
       "8   A method for addressing system latency within ...         0  \n",
       "19  Embodiments of a multi-chip module (MCM) are d...         0  \n",
       "30  Publicly accessible linking information is to ...         0  \n",
       "57  A method for multi-toning an input digital ima...         0  \n",
       "58  A system for automatically adjusting operation...         0  \n",
       "69  A method for processing a request sent over a ...         0  \n",
       "72  One or more functions are exposed by a mobile ...         0  \n",
       "77  A peripheral device, with first and second com...         0  \n",
       "81  A diagnostic tool for identifying a configurat...         0  \n",
       "93  A system for collecting frequency response dat...         0  "
      ]
     },
     "execution_count": 54,
     "metadata": {},
     "output_type": "execute_result"
    }
   ],
   "source": [
    "topic_num = 0\n",
    "print(processed_keywords[topic_num])\n",
    "df_patent_desc[df_patent_desc.topic_id == topic_num].head(10)"
   ]
  },
  {
   "cell_type": "markdown",
   "metadata": {},
   "source": [
    "---\n",
    "\n",
    "__Exercise 5 - Interpreting a model's \"topics\"__\n",
    "\n",
    "- Back to [Table of Contents](#Table-of-Contents)\n",
    "\n",
    "Examine the other topic IDs, and see if the \"topics\" we identified make sense as groupings of social service agencies."
   ]
  },
  {
   "cell_type": "code",
   "execution_count": 55,
   "metadata": {},
   "outputs": [
    {
     "name": "stdout",
     "output_type": "stream",
     "text": [
      "inform, compon, layer, materi, request, non, compris, appli, form, structur\n"
     ]
    },
    {
     "data": {
      "text/html": [
       "<div>\n",
       "<style>\n",
       "    .dataframe thead tr:only-child th {\n",
       "        text-align: right;\n",
       "    }\n",
       "\n",
       "    .dataframe thead th {\n",
       "        text-align: left;\n",
       "    }\n",
       "\n",
       "    .dataframe tbody tr th {\n",
       "        vertical-align: top;\n",
       "    }\n",
       "</style>\n",
       "<table border=\"1\" class=\"dataframe\">\n",
       "  <thead>\n",
       "    <tr style=\"text-align: right;\">\n",
       "      <th></th>\n",
       "      <th>business_name</th>\n",
       "      <th>patent_number</th>\n",
       "      <th>patent_date</th>\n",
       "      <th>patent_title</th>\n",
       "      <th>patent_abstract</th>\n",
       "      <th>topic_id</th>\n",
       "    </tr>\n",
       "  </thead>\n",
       "  <tbody>\n",
       "    <tr>\n",
       "      <th>3</th>\n",
       "      <td>EASTMAN KODAK CO</td>\n",
       "      <td>7985684</td>\n",
       "      <td>2011-01-07</td>\n",
       "      <td>Actuating transistor including reduced channel...</td>\n",
       "      <td>A method of actuating a semiconductor device i...</td>\n",
       "      <td>3</td>\n",
       "    </tr>\n",
       "    <tr>\n",
       "      <th>14</th>\n",
       "      <td>SEALED AIR CORP</td>\n",
       "      <td>8033081</td>\n",
       "      <td>2011-01-14</td>\n",
       "      <td>Packaging machine</td>\n",
       "      <td>A packaging apparatus wherein each product is ...</td>\n",
       "      <td>3</td>\n",
       "    </tr>\n",
       "    <tr>\n",
       "      <th>21</th>\n",
       "      <td>MICROSOFT CORP</td>\n",
       "      <td>8041738</td>\n",
       "      <td>2011-02-10</td>\n",
       "      <td>Strongly typed tags</td>\n",
       "      <td>In one or more embodiments, a tag is provided ...</td>\n",
       "      <td>3</td>\n",
       "    </tr>\n",
       "    <tr>\n",
       "      <th>39</th>\n",
       "      <td>IGT</td>\n",
       "      <td>8078868</td>\n",
       "      <td>2011-02-16</td>\n",
       "      <td>Multi-party encryption systems and methods</td>\n",
       "      <td>A cryptographic communication system and metho...</td>\n",
       "      <td>3</td>\n",
       "    </tr>\n",
       "    <tr>\n",
       "      <th>53</th>\n",
       "      <td>AIR PRODUCTS AND CHEMICALS INC</td>\n",
       "      <td>8092709</td>\n",
       "      <td>2011-05-17</td>\n",
       "      <td>Stabilizers for the stabilization of unsaturat...</td>\n",
       "      <td>A stabilized composition consists essentially ...</td>\n",
       "      <td>3</td>\n",
       "    </tr>\n",
       "    <tr>\n",
       "      <th>74</th>\n",
       "      <td>MICROSOFT CORP</td>\n",
       "      <td>8112409</td>\n",
       "      <td>2011-06-10</td>\n",
       "      <td>Predicting future queries from log data</td>\n",
       "      <td>A system, media, and method for selecting futu...</td>\n",
       "      <td>3</td>\n",
       "    </tr>\n",
       "    <tr>\n",
       "      <th>78</th>\n",
       "      <td>MEADWESTVACO CORP</td>\n",
       "      <td>8113416</td>\n",
       "      <td>2011-07-14</td>\n",
       "      <td>Hermetically sealed paperboard container with ...</td>\n",
       "      <td>A hermetically sealed paperboard container inc...</td>\n",
       "      <td>3</td>\n",
       "    </tr>\n",
       "    <tr>\n",
       "      <th>85</th>\n",
       "      <td>HONEYWELL INTERNATIONAL INC</td>\n",
       "      <td>8118989</td>\n",
       "      <td>2011-08-11</td>\n",
       "      <td>Methods of bonding pure rhenium to a substrate</td>\n",
       "      <td>Methods are provided for bonding pure rhenium ...</td>\n",
       "      <td>3</td>\n",
       "    </tr>\n",
       "    <tr>\n",
       "      <th>109</th>\n",
       "      <td>GENERAL ELECTRIC CO</td>\n",
       "      <td>8138291</td>\n",
       "      <td>2011-05-23</td>\n",
       "      <td>Anion exchange polymers, methods for making an...</td>\n",
       "      <td>A novel anion exchange polymer is provided. A ...</td>\n",
       "      <td>3</td>\n",
       "    </tr>\n",
       "    <tr>\n",
       "      <th>114</th>\n",
       "      <td>LOCKHEED MARTIN CORP</td>\n",
       "      <td>8143548</td>\n",
       "      <td>2011-01-06</td>\n",
       "      <td>Clamp for mixed mail sorter</td>\n",
       "      <td>A clamp is designed for accepting a mail piece...</td>\n",
       "      <td>3</td>\n",
       "    </tr>\n",
       "  </tbody>\n",
       "</table>\n",
       "</div>"
      ],
      "text/plain": [
       "                      business_name patent_number patent_date  \\\n",
       "3                  EASTMAN KODAK CO       7985684  2011-01-07   \n",
       "14                 SEALED AIR CORP        8033081  2011-01-14   \n",
       "21                   MICROSOFT CORP       8041738  2011-02-10   \n",
       "39                              IGT       8078868  2011-02-16   \n",
       "53   AIR PRODUCTS AND CHEMICALS INC       8092709  2011-05-17   \n",
       "74                   MICROSOFT CORP       8112409  2011-06-10   \n",
       "78                MEADWESTVACO CORP       8113416  2011-07-14   \n",
       "85      HONEYWELL INTERNATIONAL INC       8118989  2011-08-11   \n",
       "109             GENERAL ELECTRIC CO       8138291  2011-05-23   \n",
       "114            LOCKHEED MARTIN CORP       8143548  2011-01-06   \n",
       "\n",
       "                                          patent_title  \\\n",
       "3    Actuating transistor including reduced channel...   \n",
       "14                                   Packaging machine   \n",
       "21                                 Strongly typed tags   \n",
       "39          Multi-party encryption systems and methods   \n",
       "53   Stabilizers for the stabilization of unsaturat...   \n",
       "74             Predicting future queries from log data   \n",
       "78   Hermetically sealed paperboard container with ...   \n",
       "85      Methods of bonding pure rhenium to a substrate   \n",
       "109  Anion exchange polymers, methods for making an...   \n",
       "114                        Clamp for mixed mail sorter   \n",
       "\n",
       "                                       patent_abstract  topic_id  \n",
       "3    A method of actuating a semiconductor device i...         3  \n",
       "14   A packaging apparatus wherein each product is ...         3  \n",
       "21   In one or more embodiments, a tag is provided ...         3  \n",
       "39   A cryptographic communication system and metho...         3  \n",
       "53   A stabilized composition consists essentially ...         3  \n",
       "74   A system, media, and method for selecting futu...         3  \n",
       "78   A hermetically sealed paperboard container inc...         3  \n",
       "85   Methods are provided for bonding pure rhenium ...         3  \n",
       "109  A novel anion exchange polymer is provided. A ...         3  \n",
       "114  A clamp is designed for accepting a mail piece...         3  "
      ]
     },
     "execution_count": 55,
     "metadata": {},
     "output_type": "execute_result"
    }
   ],
   "source": [
    "topic_num = 3\n",
    "print(processed_keywords[topic_num])\n",
    "df_patent_desc[df_patent_desc.topic_id == topic_num].head(10)"
   ]
  },
  {
   "cell_type": "code",
   "execution_count": null,
   "metadata": {
    "collapsed": true
   },
   "outputs": [],
   "source": []
  },
  {
   "cell_type": "code",
   "execution_count": null,
   "metadata": {
    "collapsed": true
   },
   "outputs": [],
   "source": []
  },
  {
   "cell_type": "code",
   "execution_count": null,
   "metadata": {
    "collapsed": true
   },
   "outputs": [],
   "source": []
  },
  {
   "cell_type": "code",
   "execution_count": null,
   "metadata": {
    "collapsed": true
   },
   "outputs": [],
   "source": []
  },
  {
   "cell_type": "code",
   "execution_count": null,
   "metadata": {
    "collapsed": true
   },
   "outputs": [],
   "source": []
  },
  {
   "cell_type": "markdown",
   "metadata": {
    "collapsed": true
   },
   "source": [
    "## Further Resources\n",
    "\n",
    "- Back to [Table of Contents](#Table-of-Contents)"
   ]
  },
  {
   "cell_type": "markdown",
   "metadata": {},
   "source": [
    "A great resource for NLP in Python is \n",
    "[Natural Language Processing with Python](https://www.amazon.com/Natural-Language-Processing-Python-Analyzing/dp/0596516495)."
   ]
  },
  {
   "cell_type": "code",
   "execution_count": null,
   "metadata": {
    "collapsed": true
   },
   "outputs": [],
   "source": []
  },
  {
   "cell_type": "code",
   "execution_count": null,
   "metadata": {
    "collapsed": true
   },
   "outputs": [],
   "source": []
  },
  {
   "cell_type": "code",
   "execution_count": null,
   "metadata": {
    "collapsed": true
   },
   "outputs": [],
   "source": []
  },
  {
   "cell_type": "code",
   "execution_count": null,
   "metadata": {
    "collapsed": true
   },
   "outputs": [],
   "source": []
  },
  {
   "cell_type": "code",
   "execution_count": null,
   "metadata": {
    "collapsed": true
   },
   "outputs": [],
   "source": []
  },
  {
   "cell_type": "code",
   "execution_count": null,
   "metadata": {
    "collapsed": true
   },
   "outputs": [],
   "source": []
  },
  {
   "cell_type": "code",
   "execution_count": null,
   "metadata": {
    "collapsed": true
   },
   "outputs": [],
   "source": []
  },
  {
   "cell_type": "code",
   "execution_count": null,
   "metadata": {
    "collapsed": true
   },
   "outputs": [],
   "source": []
  },
  {
   "cell_type": "code",
   "execution_count": null,
   "metadata": {
    "collapsed": true
   },
   "outputs": [],
   "source": []
  },
  {
   "cell_type": "code",
   "execution_count": null,
   "metadata": {
    "collapsed": true
   },
   "outputs": [],
   "source": []
  },
  {
   "cell_type": "code",
   "execution_count": null,
   "metadata": {
    "collapsed": true
   },
   "outputs": [],
   "source": []
  },
  {
   "cell_type": "code",
   "execution_count": null,
   "metadata": {
    "collapsed": true
   },
   "outputs": [],
   "source": []
  },
  {
   "cell_type": "code",
   "execution_count": null,
   "metadata": {
    "collapsed": true
   },
   "outputs": [],
   "source": []
  },
  {
   "cell_type": "code",
   "execution_count": null,
   "metadata": {
    "collapsed": true
   },
   "outputs": [],
   "source": []
  },
  {
   "cell_type": "markdown",
   "metadata": {},
   "source": [
    "# Supervised Learning: Document Classification\n",
    "\n",
    "- Back to [Table of Contents](#Table-of-Contents)\n",
    "\n",
    "Previously, we used topic modeling to infer relationships between social service facilities within the data. That is an example of unsupervised learning: we were looking to uncover structure in the form of topics, or groups of agencies, but we did not necessarily know the ground truth of how many groups we should find or which agencies belonged in which group.  \n",
    "\n",
    "Now we turn our attention to supervised learning. In supervised learning, we have a *known* outcome or label (*Y*) that we want to produce given some data (*X*), and in general, we want to be able to produce this *Y* when we *don't* know it, or when we *only* have *X*. \n",
    "\n",
    "In order to produce labels we need to first have examples our algorithm can learn from, a \"training set.\" In the context of text analysis, developing a training set can be very expensive, as it can require a large amount of human labor or linguistic expertise. **Document classification** is an example of supervised learning in which want to characterize our documents based on their contents (*X*). A common example of document classification is spam e-mail detection. Another example of supervised learning in text analysis is *sentiment analysis*, where *X* is our documents and *Y* is the state of the author. This \"state\" is dependent on the question you're trying to answer, and can range from the author being happy or unhappy with a product to the author being politically conservative or liberal. Another example is *part-of-speech tagging* where *X* are individual words and *Y* is the part-of-speech. \n",
    "\n",
    "In this section, we'll train a classifier to classify social service agencies. Let's see if we can label a new website as belonging to facility type \"income\" or \"health.\""
   ]
  },
  {
   "cell_type": "markdown",
   "metadata": {},
   "source": [
    "## Supervised Learning - Prepare the Data\n",
    "\n",
    "- Back to [Table of Contents](#Table-of-Contents)"
   ]
  },
  {
   "cell_type": "code",
   "execution_count": 193,
   "metadata": {},
   "outputs": [
    {
     "ename": "AttributeError",
     "evalue": "'DataFrame' object has no attribute 'factype'",
     "output_type": "error",
     "traceback": [
      "\u001b[0;31m---------------------------------------------------------------------------\u001b[0m",
      "\u001b[0;31mAttributeError\u001b[0m                            Traceback (most recent call last)",
      "\u001b[0;32m<ipython-input-193-6528918bdfa7>\u001b[0m in \u001b[0;36m<module>\u001b[0;34m()\u001b[0m\n\u001b[1;32m      1\u001b[0m \u001b[0;31m# look at counts\u001b[0m\u001b[0;34m\u001b[0m\u001b[0;34m\u001b[0m\u001b[0m\n\u001b[0;32m----> 2\u001b[0;31m \u001b[0mdf_patent_desc\u001b[0m\u001b[0;34m.\u001b[0m\u001b[0mfactype\u001b[0m\u001b[0;34m.\u001b[0m\u001b[0mvalue_counts\u001b[0m\u001b[0;34m(\u001b[0m\u001b[0;34m)\u001b[0m\u001b[0;34m\u001b[0m\u001b[0m\n\u001b[0m",
      "\u001b[0;32m~/anaconda3/lib/python3.6/site-packages/pandas/core/generic.py\u001b[0m in \u001b[0;36m__getattr__\u001b[0;34m(self, name)\u001b[0m\n\u001b[1;32m   3079\u001b[0m             \u001b[0;32mif\u001b[0m \u001b[0mname\u001b[0m \u001b[0;32min\u001b[0m \u001b[0mself\u001b[0m\u001b[0;34m.\u001b[0m\u001b[0m_info_axis\u001b[0m\u001b[0;34m:\u001b[0m\u001b[0;34m\u001b[0m\u001b[0m\n\u001b[1;32m   3080\u001b[0m                 \u001b[0;32mreturn\u001b[0m \u001b[0mself\u001b[0m\u001b[0;34m[\u001b[0m\u001b[0mname\u001b[0m\u001b[0;34m]\u001b[0m\u001b[0;34m\u001b[0m\u001b[0m\n\u001b[0;32m-> 3081\u001b[0;31m             \u001b[0;32mreturn\u001b[0m \u001b[0mobject\u001b[0m\u001b[0;34m.\u001b[0m\u001b[0m__getattribute__\u001b[0m\u001b[0;34m(\u001b[0m\u001b[0mself\u001b[0m\u001b[0;34m,\u001b[0m \u001b[0mname\u001b[0m\u001b[0;34m)\u001b[0m\u001b[0;34m\u001b[0m\u001b[0m\n\u001b[0m\u001b[1;32m   3082\u001b[0m \u001b[0;34m\u001b[0m\u001b[0m\n\u001b[1;32m   3083\u001b[0m     \u001b[0;32mdef\u001b[0m \u001b[0m__setattr__\u001b[0m\u001b[0;34m(\u001b[0m\u001b[0mself\u001b[0m\u001b[0;34m,\u001b[0m \u001b[0mname\u001b[0m\u001b[0;34m,\u001b[0m \u001b[0mvalue\u001b[0m\u001b[0;34m)\u001b[0m\u001b[0;34m:\u001b[0m\u001b[0;34m\u001b[0m\u001b[0m\n",
      "\u001b[0;31mAttributeError\u001b[0m: 'DataFrame' object has no attribute 'factype'"
     ]
    }
   ],
   "source": [
    "# look at counts\n",
    "df_patent_desc.factype.value_counts()"
   ]
  },
  {
   "cell_type": "code",
   "execution_count": null,
   "metadata": {
    "collapsed": true
   },
   "outputs": [],
   "source": [
    "# make a mask column we can use to flag rows with facility type in our types of interest.\n",
    "mask = df_patent_desc.factype.isin(['income','health'])"
   ]
  },
  {
   "cell_type": "code",
   "execution_count": null,
   "metadata": {
    "collapsed": true
   },
   "outputs": [],
   "source": [
    "# use mask to subset our data.\n",
    "df_income_health = df_patent_desc[mask]"
   ]
  },
  {
   "cell_type": "markdown",
   "metadata": {},
   "source": [
    "Split into training and testing sets (20% held back for training):"
   ]
  },
  {
   "cell_type": "code",
   "execution_count": null,
   "metadata": {
    "collapsed": true
   },
   "outputs": [],
   "source": [
    "# split into train and test sets.\n",
    "df_train, df_test = train_test_split(df_income_health, test_size=0.20, random_state=17)"
   ]
  },
  {
   "cell_type": "markdown",
   "metadata": {},
   "source": [
    "Look at our training set:"
   ]
  },
  {
   "cell_type": "code",
   "execution_count": null,
   "metadata": {
    "collapsed": true
   },
   "outputs": [],
   "source": [
    "# look at our training set.\n",
    "df_train.head()"
   ]
  },
  {
   "cell_type": "code",
   "execution_count": null,
   "metadata": {
    "collapsed": true
   },
   "outputs": [],
   "source": [
    "# make sure we only have the facility types we expect.\n",
    "df_train['factype'].unique()"
   ]
  },
  {
   "cell_type": "code",
   "execution_count": null,
   "metadata": {
    "collapsed": true
   },
   "outputs": [],
   "source": [
    "# look at the counts for each value.\n",
    "Counter(df_train['factype'].values)"
   ]
  },
  {
   "cell_type": "markdown",
   "metadata": {},
   "source": [
    "Look at our testing set:"
   ]
  },
  {
   "cell_type": "code",
   "execution_count": null,
   "metadata": {
    "collapsed": true
   },
   "outputs": [],
   "source": [
    "# look at our testing set.\n",
    "df_test.head()"
   ]
  },
  {
   "cell_type": "code",
   "execution_count": null,
   "metadata": {
    "collapsed": true
   },
   "outputs": [],
   "source": [
    "# make sure we only have the facility types we expect.\n",
    "df_test['factype'].unique()"
   ]
  },
  {
   "cell_type": "code",
   "execution_count": null,
   "metadata": {
    "collapsed": true
   },
   "outputs": [],
   "source": [
    "# look at the counts for each value.\n",
    "Counter(df_test['factype'].values)"
   ]
  },
  {
   "cell_type": "markdown",
   "metadata": {},
   "source": [
    "## Prepare Data for Document Classification\n",
    "\n",
    "- Back to [Table of Contents](#Table-of-Contents)\n",
    "\n",
    "In order to feed out data into a classifier, we need to pull out the labels (*Y*) and a clean corpus of documents (*X*) for our training and testing sets. "
   ]
  },
  {
   "cell_type": "code",
   "execution_count": null,
   "metadata": {
    "collapsed": true
   },
   "outputs": [],
   "source": [
    "# prepare training data - get labels we'll train on.\n",
    "train_labels = df_train.factype.values\n",
    "\n",
    "# prepare training data - clean text.\n",
    "train_corpus = np.array( [re.sub(RE_PREPROCESS, ' ', text).lower() for text in df_train.textfromurl.values])\n",
    "\n",
    "# prepare testing data - get labels we'll train on.\n",
    "test_labels = df_test.factype.values\n",
    "\n",
    "# prepare testing data - clean text.\n",
    "test_corpus = np.array( [re.sub(RE_PREPROCESS, ' ', text).lower() for text in df_test.textfromurl.values])\n",
    "\n",
    "# make list of all labels across train and test (should just be 'income' and 'health')\n",
    "labels = np.append(train_labels, test_labels)"
   ]
  },
  {
   "cell_type": "markdown",
   "metadata": {},
   "source": [
    "Just as we had done in the unsupervised learning context, we have to transform our data. This time we have to transform our testing and training set into two different bags of words. The classifier will learn from the training set, and we will evaluate the classifier's performance on the testing set.\n",
    "\n",
    "First, we create a CountVectorizer that we'll use to convert our text documents to matrices of features based on words contained within our corpus."
   ]
  },
  {
   "cell_type": "code",
   "execution_count": null,
   "metadata": {
    "collapsed": true
   },
   "outputs": [],
   "source": [
    "#parameters for vectorizer \n",
    "ANALYZER = \"word\" #unit of features are single words rather then phrases of words \n",
    "STRIP_ACCENTS = 'unicode'\n",
    "TOKENIZER = None\n",
    "NGRAM_RANGE = (0,2) #Range for pharases of words\n",
    "MIN_DF = 0.01 # Exclude words that have a frequency less than the threshold\n",
    "MAX_DF = 0.8  # Exclude words that have a frequency greater then the threshold \n",
    "\n",
    "vectorizer = CountVectorizer( analyzer = ANALYZER,\n",
    "                              tokenizer = None, # alternatively tokenize_and_stem but it will be slower \n",
    "                              ngram_range = NGRAM_RANGE,\n",
    "                              stop_words = stopwords.words( 'english' ),\n",
    "                              strip_accents = STRIP_ACCENTS,\n",
    "                              min_df = MIN_DF,\n",
    "                              max_df = MAX_DF )"
   ]
  },
  {
   "cell_type": "markdown",
   "metadata": {},
   "source": [
    "Next, we create a TF-IDF transformer, and create our bags of words, then weight them using TF-IDF."
   ]
  },
  {
   "cell_type": "code",
   "execution_count": null,
   "metadata": {
    "collapsed": true
   },
   "outputs": [],
   "source": [
    "NORM = None          # turn on normalization flag\n",
    "SMOOTH_IDF = True    # prevents division by zero errors\n",
    "SUBLINEAR_IDF = True # replace TF with 1 + log(TF)\n",
    "USE_IDF = True       # flag to control whether to use TFIDF\n",
    "\n",
    "transformer = TfidfTransformer( norm = NORM,\n",
    "                                smooth_idf = SMOOTH_IDF,\n",
    "                                sublinear_tf = True )\n",
    "\n",
    "# timing code - start!\n",
    "start_time = time.time()\n",
    "\n",
    "# get the bag-of-words for train and test from the vectorizer and\n",
    "# then use TFIDF to limit the tokens found throughout the text \n",
    "train_bag_of_words = vectorizer.fit_transform( train_corpus ) #using all the data on for generating features!! Bad!\n",
    "test_bag_of_words = vectorizer.transform( test_corpus )\n",
    "\n",
    "# if we use IDF, compute it here.\n",
    "if USE_IDF:\n",
    "    train_tfidf = transformer.fit_transform(train_bag_of_words)\n",
    "    test_tfidf = transformer.transform(test_bag_of_words)\n",
    "\n",
    "# Get list of the feature names, for passing to our model.\n",
    "features = vectorizer.get_feature_names()\n",
    "\n",
    "# timing code - done!\n",
    "print('Time Elapsed: {0:.2f}s'.format( time.time() - start_time ) )"
   ]
  },
  {
   "cell_type": "markdown",
   "metadata": {},
   "source": [
    "We cannot pass the labels \"income\" or \"health\" directly to the classifier. Instead, we to encode them as 0s and 1s using the `labelencoder` part of `sklearn`. "
   ]
  },
  {
   "cell_type": "code",
   "execution_count": null,
   "metadata": {
    "collapsed": true
   },
   "outputs": [],
   "source": [
    "#relabel our labels as a 0 or 1\n",
    "le = preprocessing.LabelEncoder() \n",
    "le.fit(labels)\n",
    "labels_binary = le.transform(labels)"
   ]
  },
  {
   "cell_type": "code",
   "execution_count": null,
   "metadata": {
    "collapsed": true
   },
   "outputs": [],
   "source": [
    "list(zip(labels,labels_binary))"
   ]
  },
  {
   "cell_type": "markdown",
   "metadata": {},
   "source": [
    "We also need to create arrays of indices so we can access the training and testing sets accordingly."
   ]
  },
  {
   "cell_type": "code",
   "execution_count": null,
   "metadata": {
    "collapsed": true
   },
   "outputs": [],
   "source": [
    "train_size = df_train.shape[ 0 ]\n",
    "train_set_idx = np.arange( 0, train_size )\n",
    "test_set_idx = np.arange( train_size, len( labels ) )\n",
    "train_labels_binary = labels_binary[ train_set_idx ]\n",
    "test_labels_binary = labels_binary[ test_set_idx ]"
   ]
  },
  {
   "cell_type": "markdown",
   "metadata": {},
   "source": [
    "## Model Training - Train Document Classification Model\n",
    "\n",
    "- Back to [Table of Contents](#Table-of-Contents)"
   ]
  },
  {
   "cell_type": "markdown",
   "metadata": {},
   "source": [
    "The classifier we are using in the example is LogisticRegression. As we saw in the Machine Learning tutorial, first we decide on a classifier, then we fit the classifier to the data to create a model. We can then test our model on the test set by passing the features (*X*) from our test set to get predicted labels. The model will output the probability of each document being classified as income or health. "
   ]
  },
  {
   "cell_type": "code",
   "execution_count": null,
   "metadata": {
    "collapsed": true
   },
   "outputs": [],
   "source": [
    "# create our LogisticRegression classifier.\n",
    "clf = LogisticRegression(penalty='l1')\n",
    "\n",
    "# train the classifer to create our model.\n",
    "mdl = clf.fit( train_tfidf, labels_binary[ train_set_idx ] )\n",
    "\n",
    "# create scores for each of the documents predicting whether each refers to \n",
    "#     an income or health agency\n",
    "y_score = mdl.predict_proba( test_tfidf )"
   ]
  },
  {
   "cell_type": "markdown",
   "metadata": {},
   "source": [
    "## Model Evaluation - Precision and Recall\n",
    "\n",
    "- Back to [Table of Contents](#Table-of-Contents)\n",
    "\n",
    "Now that we have calculated a score for each of our facility types of interest, we look at how well our model performed by outputting precision and recall curves at different cutoffs.\n",
    "\n",
    "First, we define the function that will do this work:"
   ]
  },
  {
   "cell_type": "code",
   "execution_count": null,
   "metadata": {
    "collapsed": true
   },
   "outputs": [],
   "source": [
    "def plot_precision_recall_n( y_true, y_prob, model_name ):\n",
    "\n",
    "    \"\"\"\n",
    "    y_true: ls\n",
    "        ls of ground truth labels\n",
    "    y_prob: ls\n",
    "        ls of predic proba from model\n",
    "    model_name: str\n",
    "        str of model name (e.g, LR_123)\n",
    "    \"\"\"\n",
    "    \n",
    "    from sklearn.metrics import precision_recall_curve\n",
    "    \n",
    "    y_score = y_prob\n",
    "    precision_curve, recall_curve, pr_thresholds = precision_recall_curve(y_true, y_score)\n",
    "    precision_curve = precision_curve[:-1]\n",
    "    recall_curve = recall_curve[:-1]\n",
    "    pct_above_per_thresh = []\n",
    "    number_scored = len(y_score)\n",
    "    for value in pr_thresholds:\n",
    "        num_above_thresh = len(y_score[y_score>=value])\n",
    "        pct_above_thresh = num_above_thresh / float(number_scored)\n",
    "        pct_above_per_thresh.append(pct_above_thresh)\n",
    "    pct_above_per_thresh = np.array(pct_above_per_thresh)\n",
    "    plt.clf()\n",
    "    fig, ax1 = plt.subplots()\n",
    "    ax1.plot(pct_above_per_thresh, precision_curve, 'b')\n",
    "    ax1.set_xlabel('percent of population')\n",
    "    ax1.set_ylabel('precision', color='b')\n",
    "    ax1.set_ylim(0,1.05)\n",
    "    ax2 = ax1.twinx()\n",
    "    ax2.plot(pct_above_per_thresh, recall_curve, 'r')\n",
    "    ax2.set_ylabel('recall', color='r')\n",
    "    ax2.set_ylim(0,1.05)\n",
    "    \n",
    "    name = model_name\n",
    "    plt.title(name)\n",
    "    plt.show()"
   ]
  },
  {
   "cell_type": "markdown",
   "metadata": {},
   "source": [
    "Then we output the graphs for our model:"
   ]
  },
  {
   "cell_type": "code",
   "execution_count": null,
   "metadata": {
    "collapsed": true,
    "scrolled": false
   },
   "outputs": [],
   "source": [
    " plot_precision_recall_n( labels_binary[ test_set_idx ], y_score[:,1], 'LR' )"
   ]
  },
  {
   "cell_type": "markdown",
   "metadata": {},
   "source": [
    "If we examine our precision-recall curve we can see that our precision is 1 up to 25 percent of the population. We can use a \"precision at *k*\" curve to see what percent of the corpus can be tagged by the classifier, and which should undergo a manual clerical review. Based on this curve, we might say that we can use our classifier to tag the 25% of the documents that have the highest scores as 1, and manually review the rest. \n",
    "\n",
    "Alternatively, we can try to maximize the entire precision-recall space. In this case we need a different metric - \"Area Under Curve\" (AUC). "
   ]
  },
  {
   "cell_type": "code",
   "execution_count": null,
   "metadata": {
    "collapsed": true
   },
   "outputs": [],
   "source": [
    "def plot_precision_recall(y_true,y_score):\n",
    "    \"\"\"\n",
    "    Plot a precision recall curve\n",
    "    \n",
    "    Parameters\n",
    "    ----------\n",
    "    y_true: ls\n",
    "        ground truth labels\n",
    "    y_score: ls\n",
    "        score output from model\n",
    "    \"\"\"\n",
    "    precision_curve, recall_curve, pr_thresholds = precision_recall_curve(y_true,y_score[:,1])\n",
    "    plt.plot(recall_curve, precision_curve)\n",
    "    plt.xlabel('Recall')\n",
    "    plt.ylabel('Precision')\n",
    "    auc_val = auc(recall_curve,precision_curve)\n",
    "    print('AUC-PR: {0:1f}'.format(auc_val))\n",
    "    plt.show()\n",
    "    plt.clf()"
   ]
  },
  {
   "cell_type": "code",
   "execution_count": null,
   "metadata": {
    "collapsed": true
   },
   "outputs": [],
   "source": [
    "plot_precision_recall(labels_binary[test_set_idx],y_score)"
   ]
  },
  {
   "cell_type": "markdown",
   "metadata": {},
   "source": [
    " The AUC shows how accurate our scores are under different cutoff thresholds. The model will output a score between 0 and 1. We specify a  range of cutoff values and label all of the examples as 0 or 1 based on whether they are above or below each cutoff value. The closer our scores are to the true values, the more resilient they are to different cutoffs. For instance, if our scores were perfect, our AUC would be 1. "
   ]
  },
  {
   "cell_type": "markdown",
   "metadata": {},
   "source": [
    "## Model Evaluation - Feature Importances\n",
    "\n",
    "- Back to [Table of Contents](#Table-of-Contents)\n",
    "\n",
    "Next, we look at the importance of different features (words) in our model.\n",
    "\n",
    "The function that will calculate these:"
   ]
  },
  {
   "cell_type": "code",
   "execution_count": null,
   "metadata": {
    "collapsed": true
   },
   "outputs": [],
   "source": [
    "def display_feature_importances( coef, features, labels, num_features = 10 ):\n",
    "\n",
    "    \"\"\"\n",
    "    output feature importances\n",
    "    \n",
    "    Parameters\n",
    "    ----------\n",
    "    coef: numpy\n",
    "        feature importances\n",
    "    features: ls \n",
    "        feature names\n",
    "    labels: ls\n",
    "        labels for the classifier\n",
    "    num_features: int\n",
    "        number of features to output (default 10)\n",
    "    \n",
    "    Example\n",
    "    --------\n",
    "    \n",
    "    \n",
    "    \"\"\"\n",
    "    coef = mdl.coef_.ravel()\n",
    "\n",
    "    dict_feature_importances = dict( zip(features, coef) )\n",
    "    orddict_feature_importances = OrderedDict( \n",
    "                                    sorted(dict_feature_importances.items(), key=lambda x: x[1]) )\n",
    "\n",
    "    ls_sorted_features  = list(orddict_feature_importances.keys())\n",
    "\n",
    "    label0_features = ls_sorted_features[:num_features] \n",
    "    label1_features = ls_sorted_features[-num_features:] \n",
    "\n",
    "    print(labels[0],label0_features)\n",
    "    print(labels[1], label1_features)"
   ]
  },
  {
   "cell_type": "code",
   "execution_count": null,
   "metadata": {
    "collapsed": true
   },
   "outputs": [],
   "source": [
    "display_feature_importances(mdl.coef_.ravel(), features, ['health','income'])"
   ]
  },
  {
   "cell_type": "markdown",
   "metadata": {},
   "source": [
    "The feature importances give us the words which are the most relevant for distinguishing the type of social service agency (between income and health). Some of these make sense (\"city church\" seems more likely to be health than income), but some don't make as much sense, or seem to be artifacts from the website that we should remove (\"housing humancarelogo\"). "
   ]
  },
  {
   "cell_type": "markdown",
   "metadata": {},
   "source": [
    "--- \n",
    "\n",
    "### Exercise 6 - interpreting feature importances\n",
    "\n",
    "- Back to [Table of Contents](#Table-of-Contents)\n",
    "\n",
    "Display the top 25 feature importances to get an intution of which words are the most and least important. "
   ]
  },
  {
   "cell_type": "markdown",
   "metadata": {},
   "source": [
    "We need to know how to pass into the function we want the top 25 feature importances. We can do this by consulting the docstring of the function. "
   ]
  },
  {
   "cell_type": "markdown",
   "metadata": {},
   "source": [
    "From this docstring we can see that `num_features` is a keyword argument that is set to 10 by default. We can pass `num_features=25` into the keyword argument instead to get the top 25 feature importances. "
   ]
  },
  {
   "cell_type": "code",
   "execution_count": null,
   "metadata": {
    "collapsed": true
   },
   "outputs": [],
   "source": [
    "display_feature_importances(mdl.coef_.ravel(), \n",
    "                            features,\n",
    "                            ['health','income'],\n",
    "                            num_features=25)"
   ]
  },
  {
   "cell_type": "markdown",
   "metadata": {},
   "source": [
    "---"
   ]
  },
  {
   "cell_type": "markdown",
   "metadata": {},
   "source": [
    "## Model Evaluation - Cross-validation\n",
    "\n",
    "- Back to [Table of Contents](#Table-of-Contents)\n",
    "\n",
    "Recall from the machine learning tutorial that we are seeking the find the most general pattern in the data in order to have to most general model that will be successful at classifying new unseen data. Our previous strategy above was the *Out-of-sample and holdout set*. With this strategy we try to find a general pattern by randomly dividing our data into a test and training set based on some percentage split (e.g., 50-50 or 80-20). We train on the test set and evaluate on the test set, where we pretend that we don't have the labels for the test set. A significant drawback with this approach is that we may be lucky or unlucky with our random split, and so our estimate of how we'd perform on truly new data is overly optimistic or overly pessimistic. A possible solution is to create many random splits into training and testing sets and evaluate each split to estimate the performance of a given model. \n",
    "\n",
    "A more sophisticated holdout training and testing procedure is *cross-validation*. In cross-validation we split our data into *k* folds or partitions, where *k* is usually 5 or 10. We then iterate k times. In each iteration, one of the folds is used as a test set, and the rest of the folds are combined to form the training set. We can then evaluate the performance at each iteration to estimate the performance of a given method. An advantage of using cross-validation is all examples of data are used in the training set at least once. \n",
    "\n",
    "Define function to create test and train bags of words:"
   ]
  },
  {
   "cell_type": "code",
   "execution_count": null,
   "metadata": {
    "collapsed": true
   },
   "outputs": [],
   "source": [
    "def create_test_train_bag_of_words(train_corpus, test_corpus):\n",
    "\n",
    "    \"\"\"\n",
    "    Create test and training set bag of words\n",
    "    \n",
    "    \n",
    "    Parameters\n",
    "    ----------\n",
    "    train_corpus: ls\n",
    "        ls of raw text for text corpus.\n",
    "    test_corpus: ls\n",
    "        ls of raw text for train corpus. \n",
    "        \n",
    "    Returns\n",
    "    -------\n",
    "    (train_bag_of_words,test_bag_of_words): scipy sparse matrix\n",
    "        bag-of-words representation of train and test corpus\n",
    "    features: ls\n",
    "        ls of words used as features. \n",
    "    \"\"\"\n",
    "\n",
    "    #parameters for vectorizer \n",
    "    ANALYZER = \"word\" #unit of features are single words rather then phrases of words \n",
    "    STRIP_ACCENTS = 'unicode'\n",
    "    TOKENIZER = None\n",
    "    NGRAM_RANGE = (0,2) #Range for pharases of words\n",
    "    MIN_DF = 0.01 # Exclude words that have a frequency less than the threshold\n",
    "    MAX_DF = 0.8  # Exclude words that have a frequency greater then the threshold \n",
    "\n",
    "    vectorizer = CountVectorizer(analyzer=ANALYZER,\n",
    "                                tokenizer=None, # alternatively tokenize_and_stem but it will be slower \n",
    "                                ngram_range=NGRAM_RANGE,\n",
    "                                stop_words = stopwords.words('english'),\n",
    "                                strip_accents=STRIP_ACCENTS,\n",
    "                                min_df = MIN_DF,\n",
    "                                max_df = MAX_DF)\n",
    "    \n",
    "    NORM = None #turn on normalization flag\n",
    "    SMOOTH_IDF = True #prevents division by zero errors\n",
    "    SUBLINEAR_IDF = True #replace TF with 1 + log(TF)\n",
    "    USE_IDF = True #flag to control whether to use TFIDF\n",
    "\n",
    "    transformer = TfidfTransformer(norm = NORM,smooth_idf = SMOOTH_IDF,sublinear_tf = True)\n",
    "\n",
    "    #get the bag-of-words from the vectorizer and\n",
    "    #then use TFIDF to limit the tokens found throughout the text \n",
    "    train_bag_of_words = vectorizer.fit_transform( train_corpus ) \n",
    "    test_bag_of_words = vectorizer.transform( test_corpus )\n",
    "    if USE_IDF:\n",
    "        train_tfidf = transformer.fit_transform(train_bag_of_words)\n",
    "        test_tfidf = transformer.transform(test_bag_of_words)\n",
    "    features = vectorizer.get_feature_names()\n",
    "\n",
    "    \n",
    "    return train_tfidf, test_tfidf, features"
   ]
  },
  {
   "cell_type": "markdown",
   "metadata": {},
   "source": [
    "And now, use scikit-learn's StratifiedKFold object to generate our folds (we'll do 3 here as an example), and then train and validate across all combinations."
   ]
  },
  {
   "cell_type": "code",
   "execution_count": null,
   "metadata": {
    "collapsed": true
   },
   "outputs": [],
   "source": [
    "from sklearn.cross_validation import StratifiedKFold\n",
    "\n",
    "# create folds\n",
    "cv = StratifiedKFold( train_labels_binary, n_folds = 3 )\n",
    "\n",
    "# get our labels\n",
    "train_labels_binary = le.transform(train_labels)\n",
    "\n",
    "# for each fold, get rows specified as train and test, then\n",
    "#     train and test our model with it.\n",
    "for i, ( train, test ) in enumerate(cv):\n",
    "    \n",
    "    # break out train and test data.\n",
    "    cv_train = train_corpus[train]\n",
    "    cv_test = train_corpus[test]\n",
    "    \n",
    "    # create bags of words and get feature names\n",
    "    bag_of_words_train, bag_of_words_test, feature_names = create_test_train_bag_of_words(cv_train, \n",
    "                                                                                          cv_test)\n",
    "    # fit our model and then use it to predict values in test set.\n",
    "    probas_ = clf.fit(bag_of_words_train, \n",
    "                      train_labels_binary[train]).predict_proba(bag_of_words_test)\n",
    "    cv_test_labels = train_labels_binary[test]\n",
    "    \n",
    "    # draw precision and recall curve\n",
    "    precision_curve, recall_curve, pr_thresholds = precision_recall_curve(cv_test_labels, probas_[:,1] )\n",
    "\n",
    "    # calculate and plot AUC\n",
    "    auc_val = auc( recall_curve,precision_curve )\n",
    "    plt.plot( recall_curve, precision_curve, label = 'AUC-PR {0} {1:.2f}'.format( i, auc_val ) )\n",
    "\n",
    "#-- END loop over folds --#\n",
    "                                                                          \n",
    "# and, plot the collected graphs.\n",
    "plt.ylim( 0, 1.05 )    \n",
    "plt.xlabel( 'Recall' )\n",
    "plt.ylabel( 'Precision' )\n",
    "plt.legend( loc = \"lower left\", fontsize = 'x-small' )"
   ]
  },
  {
   "cell_type": "markdown",
   "metadata": {},
   "source": [
    "In this case we did 3-fold cross-validation and plotted precision-recall curves for each iteration. You can see that there is a marked difference between the iterations. We can then average the AUC-PR of each iteration to estimate the performance of our method. "
   ]
  },
  {
   "cell_type": "markdown",
   "metadata": {},
   "source": [
    "---\n",
    "### Exercise 7 - Try a 5-fold cross-validation\n",
    "\n",
    "- Back to [Table of Contents](#Table-of-Contents)\n",
    "\n",
    "Try 5-fold cross-validation. "
   ]
  },
  {
   "cell_type": "code",
   "execution_count": null,
   "metadata": {
    "collapsed": true
   },
   "outputs": [],
   "source": [
    "from sklearn.cross_validation import StratifiedKFold\n",
    "cv = StratifiedKFold(train_labels_binary, n_folds=5)\n",
    "train_labels_binary = le.transform(train_labels)\n",
    "for i, (train,test) in enumerate(cv):\n",
    "    cv_train = train_corpus[train]\n",
    "    cv_test = train_corpus[test]\n",
    "    bag_of_words_train, bag_of_words_test, feature_names = create_test_train_bag_of_words(cv_train, \n",
    "                                                                                          cv_test)\n",
    "    \n",
    "    probas_ = clf.fit(bag_of_words_train, \n",
    "                      train_labels_binary[train]).predict_proba(bag_of_words_test)\n",
    "    cv_test_labels = train_labels_binary[test]\n",
    "    \n",
    "    precision_curve, recall_curve, pr_thresholds = precision_recall_curve(cv_test_labels,\n",
    "                                                                          probas_[:,1])\n",
    "    auc_val = auc(recall_curve,precision_curve)\n",
    "    plt.plot(recall_curve, precision_curve, label='AUC-PR {0} {1:.2f}'.format(i,auc_val))\n",
    "    \n",
    "plt.ylim(0,1.05)    \n",
    "plt.xlabel('Recall')\n",
    "plt.ylabel('Precision')\n",
    "plt.legend(loc=\"lower left\", fontsize='x-small')"
   ]
  },
  {
   "cell_type": "markdown",
   "metadata": {},
   "source": [
    "---"
   ]
  },
  {
   "cell_type": "markdown",
   "metadata": {
    "collapsed": true
   },
   "source": [
    "## Model Output - Examples of Document Classification\n",
    "\n",
    "- Back to [Table of Contents](#Table-of-Contents)\n",
    "\n",
    "Look at our data:"
   ]
  },
  {
   "cell_type": "code",
   "execution_count": null,
   "metadata": {
    "collapsed": true
   },
   "outputs": [],
   "source": [
    "df_test"
   ]
  },
  {
   "cell_type": "markdown",
   "metadata": {},
   "source": [
    "And, look at the text the model is most certain of being categorized as each facility type:"
   ]
  },
  {
   "cell_type": "code",
   "execution_count": null,
   "metadata": {
    "collapsed": true,
    "scrolled": false
   },
   "outputs": [],
   "source": [
    "num_comments = 2\n",
    "label0_comment_idx = y_score[:,1].argsort()[:num_comments] \n",
    "label1_comment_idx = y_score[:,1].argsort()[-num_comments:]\n",
    "test_set_labels = labels[test_set_idx]\n",
    "#convert back to the indices of the original dataset\n",
    "top_comments_testing_set_idx = np.concatenate([label0_comment_idx, \n",
    "                                               label1_comment_idx])\n",
    "\n",
    "\n",
    "#these are the 5 comments the model is most sure of \n",
    "for i in top_comments_testing_set_idx:\n",
    "    print(\n",
    "        u\"\"\"{}:{}\\n---\\n{}\\n===\"\"\".format(test_set_labels[i],\n",
    "                                          y_score[i,1],\n",
    "                                          test_corpus[i]))"
   ]
  },
  {
   "cell_type": "markdown",
   "metadata": {},
   "source": [
    "These are the top 2 examples that the model is the most sure of for each label. We can see our important feature words in the descriptions, which gives a hint of how the model made these classifications. "
   ]
  }
 ],
 "metadata": {
  "kernelspec": {
   "display_name": "Python 3",
   "language": "python",
   "name": "python3"
  },
  "language_info": {
   "codemirror_mode": {
    "name": "ipython",
    "version": 3
   },
   "file_extension": ".py",
   "mimetype": "text/x-python",
   "name": "python",
   "nbconvert_exporter": "python",
   "pygments_lexer": "ipython3",
   "version": "3.6.2"
  },
  "toc": {
   "nav_menu": {},
   "number_sections": false,
   "sideBar": true,
   "skip_h1_title": false,
   "title_cell": "Table of Contents",
   "title_sidebar": "Contents",
   "toc_cell": false,
   "toc_position": {},
   "toc_section_display": true,
   "toc_window_display": true
  }
 },
 "nbformat": 4,
 "nbformat_minor": 1
}
