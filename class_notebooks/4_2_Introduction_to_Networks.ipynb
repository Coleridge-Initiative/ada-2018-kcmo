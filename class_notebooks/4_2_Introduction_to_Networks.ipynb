{
 "cells": [
  {
   "cell_type": "markdown",
   "metadata": {},
   "source": [
    "<img style=\"float: center;\" src=\"images/CI_horizontal.png\" width=\"600\">\n",
    "<center>\n",
    "    <span style=\"font-size: 1.5em;\">\n",
    "        <a href='https://www.coleridgeinitiative.org'>Website</a>\n",
    "    </span>\n",
    "</center>\n",
    "\n",
    "Ghani, Rayid, Frauke Kreuter, Julia Lane, Adrianne Bradford, Alex Engler, Nicolas Guetta Jeanrenaud, Graham Henke, Daniela Hochfellner, Clayton Hunter, Brian Kim, Avishek Kumar, Jonathan Morgan, and Ridhima Sodhi. \"ADA-KCMO-2018.\" Coleridge Initiative GitHub Repositories. 2018. https://github.com/Coleridge-Initiative/ada-kcmo-2018. [![DOI](https://zenodo.org/badge/119078858.svg)](https://zenodo.org/badge/latestdoi/119078858)"
   ]
  },
  {
   "cell_type": "markdown",
   "metadata": {},
   "source": [
    "# Network Analysis\n",
    "\n",
    "---"
   ]
  },
  {
   "cell_type": "markdown",
   "metadata": {},
   "source": [
    "## Table of Contents\n",
    "\n",
    "- [Introduction](#Introduction)\n",
    "    - [Glossary of Terms](#Glossary-of-Terms)\n",
    "- [Creating a Network](#Creating-a-Network)\n",
    "- [Python Setup & Loading the Data](#Python-Setup-&-Loading-the-Data)\n",
    "- [Representations of Networks](#Representations-of-Networks)\n",
    "    - [Adjacency Matrix](#Adjacency-Matrix)\n",
    "    - [List of Edges](#List-of-Edges)\n",
    "    - [Graphs](#Graphs)\n",
    "- [Network Measures](#Network-Measures)\n",
    "   - [Summary Statistics](#Summary-Statistics)\n",
    "   - [Degree Distribution](#Degree-Distribution)\n",
    "   - [Components and Reachability](#Components-and-Reachability)\n",
    "   - [Path Length](#Path-Length)\n",
    "- [Centrality Metrics](#Centrality-Metrics)\n",
    "    - [Degree Centrality](#Degree-Centrality:-Who-has-the-most-relationships?)\n",
    "    - [Closeness Centrality](#Closeness-Centrality:-Who-has-the-shortest-of-shortest-paths-going-between-them?)\n",
    "    - [Betweenness Centrality](#Betweenness-Centrality:-Who-has-the-most-shortest-paths-between-them?)\n",
    "- [Cliques](#Cliques)\n",
    "- [Community Detection](#Community-Detection)\n",
    "- [Additional Resources](#Additional-Resources)"
   ]
  },
  {
   "cell_type": "markdown",
   "metadata": {},
   "source": [
    "## Introduction\n",
    "\n",
    "- Back to [Table of Contents](#Table-of-Contents)\n",
    "\n",
    "Networks are mathematical or graphical representations of patterns of relationships between entities. These relationships are defined by some measure of \"closeness\" between individuals, and can exist in an abstract or actual space (for example, whether you are related to someone versus how far away you live from each other). Networks have been used to model everything from airplane traffic to supply chains, and even amorphous materials like window glass, cells, and proteins. They can also be used to model relationships among people. Social networks are patterns of relationships among people or organizations that affect and are affected by actions of individuals within the network. Network analysis captures the effect of the complete pattern of connections among individuals in a group to help us perform structural analysis of outcomes of interest for individuals and the group as a whole. \n",
    "\n",
    "Networks can be represented as **graphs**, where a graph is made up of **nodes** connected by **ties**. The flexibility of network analysis means that the first step toward analysis is to clearly define what constitutes a node and what constitutes a tie in your network. There are several type of graphs: connected, unconnected, directional, and many more (see [glossary](#Glossary-of-Terms) for a list of terms). \n",
    "\n",
    "This tutorial is based on Chapter 8 of [Big Data and Social Science](https://github.com/BigDataSocialScience). \n",
    "\n",
    "\n",
    "\n",
    "### Glossary of Terms\n",
    "\n",
    "- A **node** is an individual entity within a graph.\n",
    "\n",
    "- A **tie** is a link between nodes. Ties can be **undirected**, meaning they represent a symmetrical\n",
    "relationship, or **directed**, meaning they represent an asymmetrical relationship (one that doesn't necessarily\n",
    "go both ways). \n",
    "\n",
    "- A directed tie is known as an **arc**. An undirected tie is known as an **edge**.\n",
    "tth Barack Obama, then he is also Facebook friends with me. \n",
    "\n",
    "- A **cutpoint** is a *node* that cannot be removed without disconnecting the network. \n",
    "\n",
    "- A **bridge** is a *tie* that cannot be removed without disconnecting the network. \n",
    "\n",
    "- Two nodes are said to be **reachable** when they are connected by an unbroken chain of relationships through\n",
    "other nodes. \n",
    "\n",
    "- **Network density** is the number of *actual* connections in a network divided by the number of *potential*\n",
    "connections in that network. \n",
    "\n",
    "- **Average distance** is the average path length between nodes in a graph. It is a measure of how many nodes \n",
    "it takes to transmit information across the network. This metric is only valid for fully connected graphs. \n",
    "\n",
    "- **Centrality** is the degree to which a given node influences the entire network. "
   ]
  },
  {
   "cell_type": "markdown",
   "metadata": {},
   "source": [
    "## Creating a Network\n",
    "\n",
    "- Back to [Table of Contents](#Table-of-Contents)\n",
    "\n",
    "\n",
    "https://www2.census.gov/ces/wp/2016/CES-WP-16-55.pdf\n",
    "\n",
    "https://www.bls.gov/opub/mlr/2005/07/art6full.pdf\n",
    "\n",
    "\n",
    "\n",
    "In this tutorial we are going to explore employment patterns of individuals that have recently stoppped receiving tanf benefits. The first step in creating a network is defining the question or questions we want to explore using the network. This then allows us to define what a *node* and *tie* will be. In our case we want to explore employment patterns. A node in our case is a single individual, and a tie will exist between two individuals if they worked for the same employer as determined by the employer's ein number. \n",
    "\n",
    "The following is a SQL script to create a network of all people that exited in 2014 and were employed in the first quarter of 2015. First we are going to create a new table from the `idhs.ind_spells` table as `ada_class3.ind_spells_dates` with the start_date and end_date converted to date columns. This table is quite large so we are going to take of subset of the data and make two tables of people on tanf benefits. One is for people receiving tanf benefits for the last half of 2014 and and the second table if for people receiving tanf benefits for 2015. Then we can do a `LEFT JOIN` to find individuals who no longer received tanf benefits in 2015 that did receive benfits in 2014 and also a second `LEFT JOIN` to grab the `ssn_hash`. We can then grab the wage records for the first quarter of 2015 using the `ssn_hash`. From there we can to a `self-join` and join the table onto itself using the `ein` forming the network. EIN doesn't really tell us anything about the type of job somone has but the legal name of the business will. We can create a table of ein and legal name and join that to our network table.\n",
    "\n",
    "Note that every person has the same ein so we remove \"self-ties\", entries where ein is 000000000 and where the legal name is nan.  "
   ]
  },
  {
   "cell_type": "markdown",
   "metadata": {},
   "source": [
    "First, let's subset the wage record data to High Tech industries.\n",
    "Using the list of High Tech Industry NAICS codes developed by Hecker (2005), we restrict the employer data to those in Technology Industries. We then merge the wage data onto this subset in order to keep only EINs associated with High Tech NAICS codes.\n",
    "The resulting table is saved in the KCMO_ada schema.\n",
    "\n",
    "```\n",
    "\\echo \"Munging The Data\"\n",
    "CREATE TABLE IF NOT EXISTS kcmo_ada.mo_tech_wage_2016 AS\n",
    "SELECT *\n",
    "FROM (\n",
    "  SELECT a.ein, b.ssn, b.year, b.quarter\n",
    "  FROM (\n",
    "    SELECT *\n",
    "    FROM (\n",
    "      SELECT ein\n",
    "      FROM kcmo_lehd.mo_qcew_employers\n",
    "      WHERE year = 2016\n",
    "            AND left(naics, 4) in (\n",
    "              --LEVEL I TECHNOLOGY INDUSTRIES\n",
    "              3254, 3341, 3342, 3344, 3345, 3364, 5112, 5161, 5179, 5181, 5182, 5413, 5415, 5417\n",
    "              --LEVEL II TECHNOLOGY INDUSTRIES\n",
    "              , 1131, 1132, 2111, 2211, 3251, 3252, 3332, 3333, 3343, 3346, 4234, 5416\n",
    "              --LEVEL III TECHNOLOGY INDUSTRIES\n",
    "              , 3241, 3253, 3255, 3259, 3336, 3339, 3353, 3369, 4861, 4862, 4869\n",
    "              , 5171, 5172, 5173, 5174, 5211, 5232, 5511, 5612, 8112\n",
    "            )\n",
    "    ) AS t\n",
    "    GROUP BY ein\n",
    "  ) AS a\n",
    "  LEFT JOIN (\n",
    "    SELECT ein, ssn, year, quarter\n",
    "    FROM kcmo_lehd.mo_wage\n",
    "    WHERE year = 2016\n",
    "  ) AS b\n",
    "  ON a.ein = b.ein\n",
    ") AS c\n",
    "GROUP BY ssn, ein, year, quarter;\n",
    "```\n",
    "\n",
    "\n",
    "\n",
    "Next do this"
   ]
  },
  {
   "cell_type": "markdown",
   "metadata": {},
   "source": [
    "## Python Setup & Loading the Data \n",
    "\n",
    "- Back to [Table of Contents](#Table-of-Contents)\n",
    "\n",
    "In this tutorial we will explore graphical representations of this network, degree metrics, centrality metrics, how to calculate the shortest path between nodes, and community detection. We will be using the [NetworkX Python Library](https://networkx.github.io) developed at Los Alamos National Laboratory (LANL). \n",
    "\n",
    "First we have to load the data from the database. *Note we did the hard work of creating the network in SQL and now doing our more advanced analysis in Python.*"
   ]
  },
  {
   "cell_type": "code",
   "execution_count": 1,
   "metadata": {},
   "outputs": [
    {
     "name": "stdout",
     "output_type": "stream",
     "text": [
      "Populating the interactive namespace from numpy and matplotlib\n"
     ]
    },
    {
     "ename": "ModuleNotFoundError",
     "evalue": "No module named 'community'",
     "output_type": "error",
     "traceback": [
      "\u001b[0;31m---------------------------------------------------------------------------\u001b[0m",
      "\u001b[0;31mModuleNotFoundError\u001b[0m                       Traceback (most recent call last)",
      "\u001b[0;32m<ipython-input-1-f9c017c16f7c>\u001b[0m in \u001b[0;36m<module>\u001b[0;34m()\u001b[0m\n\u001b[1;32m      2\u001b[0m \u001b[0;32mfrom\u001b[0m \u001b[0m__future__\u001b[0m \u001b[0;32mimport\u001b[0m \u001b[0mprint_function\u001b[0m\u001b[0;34m\u001b[0m\u001b[0m\n\u001b[1;32m      3\u001b[0m \u001b[0;32mimport\u001b[0m \u001b[0msys\u001b[0m\u001b[0;34m\u001b[0m\u001b[0m\n\u001b[0;32m----> 4\u001b[0;31m \u001b[0;32mimport\u001b[0m \u001b[0mcommunity\u001b[0m\u001b[0;34m\u001b[0m\u001b[0m\n\u001b[0m\u001b[1;32m      5\u001b[0m \u001b[0;32mimport\u001b[0m \u001b[0mnetworkx\u001b[0m \u001b[0;32mas\u001b[0m \u001b[0mnx\u001b[0m\u001b[0;34m\u001b[0m\u001b[0m\n\u001b[1;32m      6\u001b[0m \u001b[0;32mimport\u001b[0m \u001b[0mseaborn\u001b[0m \u001b[0;32mas\u001b[0m \u001b[0msns\u001b[0m\u001b[0;34m\u001b[0m\u001b[0m\n",
      "\u001b[0;31mModuleNotFoundError\u001b[0m: No module named 'community'"
     ]
    }
   ],
   "source": [
    "%pylab inline\n",
    "from __future__ import print_function\n",
    "import sys\n",
    "import community\n",
    "import networkx as nx\n",
    "import seaborn as sns\n",
    "import pandas as pd\n",
    "from sqlalchemy import create_engine"
   ]
  },
  {
   "cell_type": "code",
   "execution_count": null,
   "metadata": {
    "collapsed": true
   },
   "outputs": [],
   "source": [
    "engine = create_engine(\"postgresql://10.10.2.10:5432/appliedda\")\n",
    "df_network = pd.read_sql('SELECT * from kcmo_ada.ein_network_2016;', engine)"
   ]
  },
  {
   "cell_type": "code",
   "execution_count": null,
   "metadata": {
    "collapsed": true
   },
   "outputs": [],
   "source": [
    "df_network.head()"
   ]
  },
  {
   "cell_type": "code",
   "execution_count": null,
   "metadata": {
    "collapsed": true
   },
   "outputs": [],
   "source": [
    "network = list(zip(df_network.ssn_l, df_network.ssn_r))"
   ]
  },
  {
   "cell_type": "code",
   "execution_count": null,
   "metadata": {
    "collapsed": true
   },
   "outputs": [],
   "source": [
    "G = nx.Graph()\n",
    "G.add_edges_from(network)"
   ]
  },
  {
   "cell_type": "markdown",
   "metadata": {},
   "source": [
    "## Representations of Networks\n",
    "\n",
    "- Back to [Table of Contents](#Table-of-Contents)"
   ]
  },
  {
   "cell_type": "markdown",
   "metadata": {},
   "source": [
    "### Adjacency Matrix\n",
    "One way to represent networks is an **adjacency matrix**, a binary (all entries either 0 or 1) square matrix. Each row represents the connections between one node and the other nodes in the network. For instance, the first row represents the first node. Each entry in a row corresponding to a node represents possible connections to the other nodes as indicated by 1 (connected) or 0 (not connected).  "
   ]
  },
  {
   "cell_type": "code",
   "execution_count": null,
   "metadata": {
    "collapsed": true
   },
   "outputs": [],
   "source": [
    "plt.figure(figsize=(30,30))\n",
    "plt.spy(nx.adjacency_matrix(G))"
   ]
  },
  {
   "cell_type": "markdown",
   "metadata": {},
   "source": [
    "### List of Edges\n",
    "Graphs can also be represented as **edge lists**, where you list the connections between nodes exhaustively. If we know the graph is undirected, we only need to list each relationship one time. For example, we say that 1 is connected to 32, but it would be redundant to also say that 32 is connected to 1. Representing a network as an edge list is typically preferable to an adjacency matrix in the case of a sparse matrix -- where most of the entries of the matrix are 0 due to taking much less space to store. An edge list is typically how a network is stored in a database. "
   ]
  },
  {
   "cell_type": "code",
   "execution_count": null,
   "metadata": {
    "collapsed": true,
    "scrolled": true
   },
   "outputs": [],
   "source": [
    "network[:10]"
   ]
  },
  {
   "cell_type": "markdown",
   "metadata": {},
   "source": [
    "### Graphs\n",
    "Networks can also be displayed as graphs, which is probably the most intuitive way to visualize them. The top visualization below emphasizes the nodes, or individuals, how close they are to one another, and the groups that emerge. "
   ]
  },
  {
   "cell_type": "markdown",
   "metadata": {},
   "source": [
    "The visualization below emphasizes the edges, or the connections themselves. *Note: this network is too large to visualize*"
   ]
  },
  {
   "cell_type": "raw",
   "metadata": {},
   "source": [
    "nx.draw(G)"
   ]
  },
  {
   "cell_type": "markdown",
   "metadata": {},
   "source": [
    "Due to the large number of nodes this visualization is not helpful. Given that we can't derive much information from this particular visualization we need to turn to other network measures. "
   ]
  },
  {
   "cell_type": "markdown",
   "metadata": {},
   "source": [
    "## Network Measures\n",
    "\n",
    "- Back to [Table of Contents](#Table-of-Contents)\n",
    "\n",
    "It is useful to know the size (in terms of nodes and ties) of the network, both to have an idea of the size and connectivity of the network, and because most of the measures you will use to describe the network will need\n",
    "to be standardized by the number of nodes or the number of potential connections. \n",
    "\n",
    "One of the  most important things to understand about larger networks is the pattern of indirect connections among nodes, because it is these chains of indirect connections that make the network function as a whole, and make networks a \n",
    "useful level of analysis. Much of the power of networks is due to indirect ties that create **reachability.** Two nodes can reach each other if they are connected by an unbroken chain of relationships, often called **indirect ties**.\n",
    "\n",
    "Structural differences between node positions, the presence and characteristics of smaller \"communities\" within larger networks, and properties of the structure of the whole group can be quantified using different **network measures.**"
   ]
  },
  {
   "cell_type": "markdown",
   "metadata": {},
   "source": [
    "### Summary Statistics "
   ]
  },
  {
   "cell_type": "code",
   "execution_count": null,
   "metadata": {
    "collapsed": true
   },
   "outputs": [],
   "source": [
    "# Print out some summary statistics on the network\n",
    "print( nx.info(G) )"
   ]
  },
  {
   "cell_type": "markdown",
   "metadata": {},
   "source": [
    "<span style=\"background-color: #FFFF00\">We see that there are 568892 ties (relationships) and 13716 nodes (individuals). </span>\n",
    "\n",
    "The **average degree** of the network is the average number of edges connected to each node. \n",
    "\n",
    "<span style=\"background-color: #FFFF00\">We see that the average degree of this network is 83, meaning that the average individual in the network is connected to 83 other individuals. Recall we made the tie based on EIN, which means that in the first quarter the average person in our network worked with 83 people also receiving benefits in 2014, indicating these people are often working the same types of jobs.  </span>"
   ]
  },
  {
   "cell_type": "code",
   "execution_count": null,
   "metadata": {
    "collapsed": true
   },
   "outputs": [],
   "source": [
    "# Print out the average density of the netwo\n",
    "print(nx.density(G))"
   ]
  },
  {
   "cell_type": "markdown",
   "metadata": {},
   "source": [
    "The average density is calculated as the $$\\text{average density} = \\frac{\\text{actual ties}}{\\text{possible number of ties}} $$\n",
    "\n",
    "where the possible number of ties for an undirected graph (if every node had a tie to every other node) is $\\frac{n(n-1)}{2}$. \n",
    "\n",
    "<span style=\"background-color: #FFFF00\">If every node were connected to every other node, the average density would be 1. If there were no ties between any of the nodes, the average density would be 0. The average density of this network is 0.0006, which indicates it is  not a very dense network. In this example, we can interpret this to mean that individuals are mostly in small groups, and the groups don't overlap very much.  </span>"
   ]
  },
  {
   "cell_type": "markdown",
   "metadata": {},
   "source": [
    "Now that we have looked at some summary statistics as a whole we are going to drill down to the individual actors in our network."
   ]
  },
  {
   "cell_type": "markdown",
   "metadata": {},
   "source": [
    "### Degree Distribution\n",
    "\n",
    "We can cast this question as a network analysis problem by asking *which node has the most ties*. "
   ]
  },
  {
   "cell_type": "code",
   "execution_count": null,
   "metadata": {
    "collapsed": true
   },
   "outputs": [],
   "source": [
    "dict_degree = G.degree()\n",
    "df_degree = pd.DataFrame.from_dict(dict_degree, orient='index')\n",
    "df_degree.columns=['degree']\n",
    "df_degree.index.name = 'node_id'"
   ]
  },
  {
   "cell_type": "code",
   "execution_count": null,
   "metadata": {
    "collapsed": true
   },
   "outputs": [],
   "source": [
    "sns.set_style(\"whitegrid\")\n",
    "plt.figure(figsize=(22, 12))\n",
    "sns.set_context(\"poster\", font_scale=1.00, rc={\"lines.linewidth\": 1.00,\"lines.markersize\":8})\n",
    "df_degree.sort_values(by='degree', ascending=False)[:10].plot(kind='barh')"
   ]
  },
  {
   "cell_type": "markdown",
   "metadata": {},
   "source": [
    "<span style=\"background-color: #FFFF00\">The last five entries have over 1000 connectionctions. This likely means they work for a large company.</span>"
   ]
  },
  {
   "cell_type": "code",
   "execution_count": null,
   "metadata": {
    "collapsed": true
   },
   "outputs": [],
   "source": [
    "df_degree.sort_values(by='degree', ascending=False)[:10]"
   ]
  },
  {
   "cell_type": "code",
   "execution_count": null,
   "metadata": {
    "collapsed": true
   },
   "outputs": [],
   "source": [
    "G.neighbors('a7cb780013ee0fa3a2c48874e9d1c9a06eafa8a6d46fe3898f9529efc6d7c982')"
   ]
  },
  {
   "cell_type": "markdown",
   "metadata": {},
   "source": [
    "### Components and Reachability\n",
    "\n",
    "Two nodes are said to be **reachable** when they are connected by an unbroken chain of relationships through other nodes. Networks in which more of the possible connections (direct and indirect) among nodes are realized are denser and more cohesive than networks in which fewer of these connections are realized.\n",
    "\n",
    "The reachability of individuals in a network is determined by membership in **components**, which are subsets of the \n",
    "larger network in which every member of the group is indirectly connected to every other. Imagining the standard node and line drawing of a graph, a component is a portion of the network where you can trace a path between every pair of nodes without ever lifting your pen. \n",
    "\n",
    "Many larger networks consist of a single dominant component including anywhere from 50% to 90% of the individuals, and a few smaller components that are not connected. In this case, is common to perform analysis on only the main connected component of the graph, because there is not a convenient way to mathematically represent how \"far away\" unconnected nodes are. In our karate class example, our graph is connected, meaning that you can reach any individual from any other individual by moving along the edges of the graph, so we don't need to worry about that problem.\n",
    "\n"
   ]
  },
  {
   "cell_type": "markdown",
   "metadata": {},
   "source": [
    "### Path Length\n",
    "\n",
    "A **shortest path** between two nodes is a path from one node to the other, not repeating any nodes. One way to think of a shortest path between two individuals is how many people it would take to broker an introduction between them (think [six degrees of Kevin Bacon](https://en.wikipedia.org/wiki/Six_Degrees_of_Kevin_Bacon)).\n",
    "\n",
    "Most pairs will have several \"shortest paths\" between them; the * shortest path* is called the **geodesic**. "
   ]
  },
  {
   "cell_type": "code",
   "execution_count": null,
   "metadata": {
    "collapsed": true
   },
   "outputs": [],
   "source": [
    "# Calculate the length of the shortest path between 12 and 15\n",
    "ls_path = nx.shortest_path(G,\n",
    "                           'a7cb780013ee0fa3a2c48874e9d1c9a06eafa8a6d46fe3898f9529efc6d7c982',\n",
    "                           'fd4b91f0017af6da0c9410132dea125c5c915cdbbbf70810fb4c4a983000f4bb')\n",
    "print('The path length from {} to {} is {}.'.format(\n",
    "                                            'a7cb780013ee0fa3a2c48874e9d1c9a06eafa8a6d46fe3898f9529efc6d7c982',\n",
    "                                            'fd4b91f0017af6da0c9410132dea125c5c915cdbbbf70810fb4c4a983000f4bb',\n",
    "                                            len(ls_path)))\n",
    "print('path length: ', ls_path)"
   ]
  },
  {
   "cell_type": "markdown",
   "metadata": {},
   "source": [
    "In this case there is no path between the two nodes. "
   ]
  },
  {
   "cell_type": "code",
   "execution_count": null,
   "metadata": {
    "collapsed": true
   },
   "outputs": [],
   "source": [
    "# Calculate the length of the shortest path between 12 and 15\n",
    "ls_path = nx.shortest_path(G, 'a7cb780013ee0fa3a2c48874e9d1c9a06eafa8a6d46fe3898f9529efc6d7c982',\n",
    "                           '92b3eaa82b2f68f96dd9c18dace00a642b6af88c1612b9ded6960c69389ce7eb')\n",
    "print('The path length from {} to {} is {}.'.format(\n",
    "                                            'a7cb780013ee0fa3a2c48874e9d1c9a06eafa8a6d46fe3898f9529efc6d7c982',\n",
    "                                            '92b3eaa82b2f68f96dd9c18dace00a642b6af88c1612b9ded6960c69389ce7eb',\n",
    "                                            len(ls_path)))\n",
    "print('path length: ', ls_path)"
   ]
  },
  {
   "cell_type": "markdown",
   "metadata": {},
   "source": [
    "The **average shortest path length** describes how quickly information or goods can disburse through the network.\n",
    "\n",
    "The average shortest length $l$ is defined as $$ l = \\frac{1}{n(n-1)} \\sum_{i \\ne j}d(v_{i},v_{j}) $$ where $n$ is the number of nodes in the graph and $d(v_{i},v_{j})$ is the shortest path length between nodes $i$ and $j$. "
   ]
  },
  {
   "cell_type": "code",
   "execution_count": null,
   "metadata": {
    "collapsed": true
   },
   "outputs": [],
   "source": [
    "print(nx.average_shortest_path_length(G))"
   ]
  },
  {
   "cell_type": "markdown",
   "metadata": {},
   "source": [
    "In this case, we cannot calculate the average shortest path, since our network is not fully connected (the network has islands within it that are cut off from the rest of the network). Since there is no way to calculate the distance between two nodes that can't be reached from one another, there is no way to calculate the average shortest distance across all pairs."
   ]
  },
  {
   "cell_type": "markdown",
   "metadata": {},
   "source": [
    "## Centrality Metrics\n",
    "\n",
    "- Back to [Table of Contents](#Table-of-Contents)\n",
    "\n",
    "Centrality metrics measure how important, or \"central,\" a node is to the network. These can indicate what individual has the most social contacts, who is closest to people, or the person where information most transfers through. There are many **centrality metrics** -- degree centrality, betweenness centrality, closeness centrality, eigenvalue centrality, percolation centrality, PageRank -- all capturing different aspects of a node's contribution to a network. \n",
    "\n",
    "Centrality measures are the most commonly used means to explore network effects at the level of certain individual participants. Typically, these metrics identify and describe a few important nodes, but don't tell us much about the rest of the nodes in the network. This is akin to Google's search results: the first few matches are the most relevant, but if you go a few pages in to the search results, you might as well have been searching for something else entirely."
   ]
  },
  {
   "cell_type": "markdown",
   "metadata": {
    "collapsed": true
   },
   "source": [
    "### Degree Centrality: Who has the most relationships?\n",
    "\n",
    "The most basic and intuitive measure of centrality, **degree centrality**, simply counts the number of ties that each node has. Degree centrality represents a clear measure of the prominence or visibility of a node. The degree centrality $C_{D}(x)$ of a node $x$ is\n",
    "\n",
    "$$C_{D}(x) = \\frac{deg(x)}{n-1}$$\n",
    "\n",
    "where $deg(x)$ is the number of connections that node $x$ has, and $n-1$ is a normalization factor for the total amount of possible connections. \n",
    "\n",
    "If a node has no connections to any other nodes, its degree centrality will be 0. If it is directly connected to every other node, its degree centrality will be 1. \n"
   ]
  },
  {
   "cell_type": "code",
   "execution_count": null,
   "metadata": {
    "collapsed": true
   },
   "outputs": [],
   "source": [
    "dict_degree_centrality = nx.degree_centrality(G)\n",
    "df_degree_centrality = pd.DataFrame.from_dict(dict_degree_centrality, orient='index')\n",
    "df_degree_centrality.columns=['degree_centrality']\n",
    "df_degree_centrality.index.name = 'node_id'"
   ]
  },
  {
   "cell_type": "code",
   "execution_count": null,
   "metadata": {
    "collapsed": true
   },
   "outputs": [],
   "source": [
    "df_degree_centrality.sort_values(by='degree_centrality',\n",
    "                                 ascending=False)[:10].plot(kind='barh')"
   ]
  },
  {
   "cell_type": "markdown",
   "metadata": {},
   "source": [
    "As we can see, this is simply a recasting of the [degree distribution](#degree-distribution)."
   ]
  },
  {
   "cell_type": "markdown",
   "metadata": {
    "collapsed": true
   },
   "source": [
    "### Closeness Centrality: Who has the shortest of shortest paths going between them?\n",
    "\n",
    "**Closeness centrality** is based on the idea that networks position some individuals closer to or farther away \n",
    "from other individuals, and that shorter paths between actors increase the likelihood of communication, and \n",
    "consequently the ability to coordinate complicated activities. The closeness centrality $C_C(x)$ of a node $x$ is calculated as:\n",
    "\n",
    "$$C_C(x) = \\frac{n-1}{\\sum_{y}d(x,y)} $$\n",
    "\n",
    "where $d(x,y)$ is the length of the geodesic between nodes $x$ and $y$."
   ]
  },
  {
   "cell_type": "code",
   "execution_count": null,
   "metadata": {
    "collapsed": true
   },
   "outputs": [],
   "source": [
    "dict_closeness_centrality = {}"
   ]
  },
  {
   "cell_type": "code",
   "execution_count": null,
   "metadata": {
    "collapsed": true
   },
   "outputs": [],
   "source": [
    "for ssn_hash in zip(*network[:25])[0]:\n",
    "    dict_closeness_centrality[ssn_hash] = nx.closeness_centrality(G,u=ssn_hash)"
   ]
  },
  {
   "cell_type": "code",
   "execution_count": null,
   "metadata": {
    "collapsed": true
   },
   "outputs": [],
   "source": [
    "df_closeness_centrality = pd.DataFrame.from_dict(dict_closeness_centrality,\n",
    "                                                 orient='index')\n",
    "df_closeness_centrality.columns=['closeness_centrality']\n",
    "df_closeness_centrality.index.name = 'node_id'"
   ]
  },
  {
   "cell_type": "code",
   "execution_count": null,
   "metadata": {
    "collapsed": true
   },
   "outputs": [],
   "source": [
    "df_closeness_centrality.sort_values(by='closeness_centrality',\n",
    "                                   ascending=False)[:10].plot(kind='barh')"
   ]
  },
  {
   "cell_type": "markdown",
   "metadata": {},
   "source": [
    "<span style=\"background-color: #FFFF00\">The last three individuals have the highest closeness centrality.  This implies that these individuals have the most close connections to the most members in the network. However, all of these individuals have a closeness centrality of around 0.025, so it is clear there is not really anyone in the dataset that is very closely related to a lot of the other members. This makes sense given the other statistics we've calculated about this graph - there are lots of small, disconnected groups.</span>"
   ]
  },
  {
   "cell_type": "markdown",
   "metadata": {},
   "source": [
    "### Betweenness Centrality: Who has the most shortest paths between them?\n",
    "\n",
    "Where closeness assumes that communication and information flow increase with proximity, **betweenness centrality**\n",
    "captures \"brokerage,\" or the idea that a node that is positioned \"in between\" many other pairs of nodes gains some individual advantage. To calculate betweenness, we must assume that when people search for new\n",
    "information through networks, they are capable of identifying the shortest path (so that we know that the path between two nodes actually includes the \"in between\" node); additionally, we must assume\n",
    "that when multiple shortest paths exist, each path is equally likely to be chosen.\n",
    "\n",
    "The betweenness centrality $C_B(x)$ of a node $x$ is given by \n",
    "\n",
    "$$ C_B{x} = \\sum_{s,t} \\frac{\\sigma_{st}(x)}{\\sigma_{st}}$$ \n",
    "\n",
    "where $\\sigma_{st}$ is the number of shortest paths from node $s$ to node $t$ and $\\sigma_{st}(x)$ is the number of shortest paths $\\sigma_{st}$ passing through node $x$. Intuitively, for each node, we look at how many of the shortest paths between every other pair of nodes includes that node.\n"
   ]
  },
  {
   "cell_type": "code",
   "execution_count": null,
   "metadata": {
    "collapsed": true
   },
   "outputs": [],
   "source": [
    "dict_betweenness_centrality = nx.betweenness_centrality(G, k=50)\n",
    "df_betweenness_centrality = pd.DataFrame.from_dict(dict_betweenness_centrality,\n",
    "                                                 orient='index')\n",
    "df_betweenness_centrality.columns=['betweeness_centrality']\n",
    "df_betweenness_centrality.index.name = 'node_id'"
   ]
  },
  {
   "cell_type": "code",
   "execution_count": null,
   "metadata": {
    "collapsed": true,
    "scrolled": false
   },
   "outputs": [],
   "source": [
    "df_betweenness_centrality.sort_values(by='betweeness_centrality',\n",
    "                                   ascending=False)[:10].plot(kind='barh')"
   ]
  },
  {
   "cell_type": "markdown",
   "metadata": {},
   "source": [
    "<span style=\"background-color: #FFFF00\">Given the small values for betweenness centrality, it appears that there is no large single broker in this network. </span>"
   ]
  },
  {
   "cell_type": "markdown",
   "metadata": {},
   "source": [
    "## Cliques\n",
    "\n",
    "- Back to [Table of Contents](#Table-of-Contents)\n",
    "\n",
    "A clique is a maximally connected sub-network, or a group of individuals who are all connected to one another. \n",
    "\n",
    "In our case, this would be a group of individuals that are all connected to each other:  We might expect to see a lot of cliques in this network, because we defined the relationships within our network based on these groupings."
   ]
  },
  {
   "cell_type": "code",
   "execution_count": null,
   "metadata": {
    "collapsed": true
   },
   "outputs": [],
   "source": [
    "cliques = list(nx.find_cliques(G))"
   ]
  },
  {
   "cell_type": "code",
   "execution_count": null,
   "metadata": {
    "collapsed": true
   },
   "outputs": [],
   "source": [
    "import functools"
   ]
  },
  {
   "cell_type": "code",
   "execution_count": null,
   "metadata": {
    "collapsed": true
   },
   "outputs": [],
   "source": [
    "#summary stats of cliques\n",
    "num_cliques = len(cliques)\n",
    "ls_len_cliqs = [len(cliq) for cliq in cliques ]\n",
    "max_clique_size = max(ls_len_cliqs)\n",
    "avg_clique_size = np.mean(ls_len_cliqs)\n",
    "max_cliques = [c for c in cliques if len(c) == max_clique_size]\n",
    "max_clique_sets = [set(c) for c in max_cliques]\n",
    "people_in_max_cliques = list(functools.reduce(lambda x,y: x.intersection(y), max_clique_sets))"
   ]
  },
  {
   "cell_type": "code",
   "execution_count": null,
   "metadata": {
    "collapsed": true
   },
   "outputs": [],
   "source": [
    "print(num_cliques)\n",
    "print(max_clique_size)\n",
    "print(avg_clique_size)"
   ]
  },
  {
   "cell_type": "markdown",
   "metadata": {},
   "source": [
    "<span style=\"background-color: #FFFF00\">There are *2231* cliques in the network. The maximum clique size is *689* people and the average clique size is *7.60*, ~8 people. </span>\n",
    "\n",
    "Let's see what the maximum cliques look like. "
   ]
  },
  {
   "cell_type": "code",
   "execution_count": null,
   "metadata": {
    "collapsed": true
   },
   "outputs": [],
   "source": [
    "max_cliques"
   ]
  },
  {
   "cell_type": "code",
   "execution_count": null,
   "metadata": {
    "collapsed": true
   },
   "outputs": [],
   "source": [
    "Graph_max_clique1 = G.subgraph(max_cliques[0])"
   ]
  },
  {
   "cell_type": "raw",
   "metadata": {},
   "source": [
    "nx.draw(Graph_max_clique1, with_labels=False)"
   ]
  },
  {
   "cell_type": "code",
   "execution_count": null,
   "metadata": {
    "collapsed": true,
    "scrolled": true
   },
   "outputs": [],
   "source": [
    "df_network[ df_network['ssn_l'].isin(max_cliques[0]) & df_network['ssn_r'].isin(max_cliques[0])]"
   ]
  },
  {
   "cell_type": "markdown",
   "metadata": {},
   "source": [
    "<span style=\"background-color: #FFFF00\">It appears WalMart is a popular employer and there are some smaller business that employ sub-populations of our largest clique. </span>"
   ]
  },
  {
   "cell_type": "markdown",
   "metadata": {},
   "source": [
    "## Community Detection\n",
    "\n",
    "- Back to [Table of Contents](#Table-of-Contents)\n",
    "\n",
    "__Warning: the following code may take some time to run.__\n",
    "\n",
    "In **community detection**, we try to find sub-networks, or communities, of densely populated connections. Community detection is similar to clustering, in that strong communities will display an abundance of intra-community (within community) connections and few inter-community (between community) connections. \n",
    "\n",
    "The technical implementation of the algorithm can be found [here](https://arxiv.org/pdf/0803.0476v2.pdf).  "
   ]
  },
  {
   "cell_type": "code",
   "execution_count": null,
   "metadata": {
    "collapsed": true
   },
   "outputs": [],
   "source": [
    "dict_clusters = community.best_partition(G)\n",
    "clusters = [dict_clusters.get(node) for node in G.nodes()]\n",
    "plt.axis(\"off\")\n",
    "#nx.draw_networkx(G,\n",
    "#                 cmap = plt.get_cmap(\"terrain\"),\n",
    "#                 node_color = clusters, \n",
    "#                 node_size = 600,\n",
    "#                 with_labels = True,\n",
    "#                 fontsize=200)"
   ]
  },
  {
   "cell_type": "code",
   "execution_count": null,
   "metadata": {
    "collapsed": true
   },
   "outputs": [],
   "source": [
    "dict_clusters"
   ]
  },
  {
   "cell_type": "markdown",
   "metadata": {},
   "source": [
    "---"
   ]
  },
  {
   "cell_type": "markdown",
   "metadata": {},
   "source": [
    "## Additional Resources\n",
    "- [International Network for Social Network Analysis](http://www.insna.org/) is a large, interdisciplinary association\n",
    "dedicated to network analysis.\n",
    "- [Pajek](http://mrvar.fdv.uni-lj.si/pajek/) is a freeware package for network analysis and visualization.\n",
    "- [Gephi](https://gephi.org/) is another freeware package that supports large-scale network visualization.\n",
    "- [Network Workbench](http://nwb.cns.iu.edu/) is a freeware package that supports extensive analysis and \n",
    "visualization of networks.\n",
    "- [NetworkX](https://networkx.github.io/) is the Python package used in this tutorial to analyze and visualize networks.\n",
    "- [iGraph](http://igraph.org/) is a network analysis package with implementations in R, Python, and C libraries.\n",
    "- [A Fast and Dirty Intro to NetworkX (and D3)](http://www.slideshare.net/arnicas/a-quick-and-dirty-intro-to-networkx-and-d3)"
   ]
  }
 ],
 "metadata": {
  "anaconda-cloud": {},
  "kernelspec": {
   "display_name": "Python 3",
   "language": "python",
   "name": "python3"
  },
  "language_info": {
   "codemirror_mode": {
    "name": "ipython",
    "version": 3
   },
   "file_extension": ".py",
   "mimetype": "text/x-python",
   "name": "python",
   "nbconvert_exporter": "python",
   "pygments_lexer": "ipython3",
   "version": "3.6.2"
  },
  "toc": {
   "nav_menu": {},
   "number_sections": false,
   "sideBar": true,
   "skip_h1_title": false,
   "title_cell": "Table of Contents",
   "title_sidebar": "Contents",
   "toc_cell": false,
   "toc_position": {},
   "toc_section_display": true,
   "toc_window_display": true
  }
 },
 "nbformat": 4,
 "nbformat_minor": 1
}
