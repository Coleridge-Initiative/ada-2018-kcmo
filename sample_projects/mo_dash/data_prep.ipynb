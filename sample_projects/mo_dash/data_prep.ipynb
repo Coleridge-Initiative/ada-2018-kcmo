{
 "cells": [
  {
   "cell_type": "markdown",
   "metadata": {
    "collapsed": true
   },
   "source": [
    "# Data Preparation"
   ]
  },
  {
   "cell_type": "markdown",
   "metadata": {},
   "source": [
    "## Python Setup"
   ]
  },
  {
   "cell_type": "code",
   "execution_count": null,
   "metadata": {},
   "outputs": [],
   "source": [
    "import pandas as pd\n",
    "import numpy as np\n",
    "import psycopg2"
   ]
  },
  {
   "cell_type": "code",
   "execution_count": null,
   "metadata": {},
   "outputs": [],
   "source": [
    "db_name = \"appliedda\"\n",
    "hostname = \"10.10.2.10\"\n",
    "conn = psycopg2.connect(database=db_name, host = hostname) #database connection"
   ]
  },
  {
   "cell_type": "markdown",
   "metadata": {},
   "source": [
    "## SQL Query"
   ]
  },
  {
   "cell_type": "code",
   "execution_count": null,
   "metadata": {},
   "outputs": [],
   "source": [
    "script = '''\n",
    "create table if not exists ada_kcmo.dashboard_wages_mo as\n",
    "select \n",
    "    a.ssn\n",
    "    , a.wage\n",
    "    , a.ein\n",
    "    , a.seinunit as run\n",
    "    , a.empr_no as ui_acct\n",
    "    , a.year\n",
    "    , a.quarter as qtr\n",
    "    , b.pl_addr1\n",
    "    , b.pl_city\n",
    "    , b.pl_zip\n",
    "    , b.cnty\n",
    "    , b.naics\n",
    "    , case when b.flag = 1 then 1 else 0 end as merge_status\n",
    "from kcmo_lehd.mo_wage as a\n",
    "left join (select *, 1 as flag from kcmo_lehd.mo_qcew_employers) as b\n",
    "on a.ein = b.ein and a.seinunit = b.run and a.empr_no = b.ui_acct and a.year = b.year and a.quarter = b.qtr;\n",
    "\n",
    "alter table ada_kcmo.dashboard_wages_mo owner to ada_kcmo_admin;\n",
    "commit;\n",
    "'''"
   ]
  },
  {
   "cell_type": "code",
   "execution_count": null,
   "metadata": {},
   "outputs": [],
   "source": [
    "c = conn.cursor()\n",
    "c.execute(script)"
   ]
  },
  {
   "cell_type": "code",
   "execution_count": null,
   "metadata": {},
   "outputs": [],
   "source": [
    "script = '''\n",
    "create table if not exists ada_kcmo.dashboard_wage_buckets_mo as \n",
    "select\n",
    "    year\n",
    "    , qtr\n",
    "    , cnty\n",
    "    , left(naics, 2) as naics\n",
    "    , (wage/1000)*1000 as wage_bucket\n",
    "    , count(*) as nb_jobs\n",
    "    , avg(wage) as avg_wage\n",
    "from ada_kcmo.dashboard_wages_mo\n",
    "group by year, qtr, cnty, left(naics, 2), (wage/1000)*1000\n",
    "order by year, qtr, cnty, left(naics, 2), (wage/1000)*1000;\n",
    "\n",
    "alter table ada_kcmo.dashboard_wage_buckets_mo owner to ada_kcmo_admin;\n",
    "commit;\n",
    "'''"
   ]
  },
  {
   "cell_type": "code",
   "execution_count": null,
   "metadata": {},
   "outputs": [],
   "source": [
    "c = conn.cursor()\n",
    "c.execute(script)"
   ]
  },
  {
   "cell_type": "markdown",
   "metadata": {},
   "source": [
    "## IL Border Data"
   ]
  },
  {
   "cell_type": "code",
   "execution_count": null,
   "metadata": {},
   "outputs": [],
   "source": [
    "script = '''\n",
    "create table if not exists ada_kcmo.dashboard_wages_il as\n",
    "select \n",
    "    a.ssn\n",
    "    , a.wage\n",
    "    , a.ein\n",
    "    , a.seinunit as run\n",
    "    , a.empr_no as ui_acct\n",
    "    , a.year\n",
    "    , a.quarter as qtr\n",
    "    , b.address_street1\n",
    "    , b.address_city\n",
    "    , b.address_zip5\n",
    "    , b.county as cnty\n",
    "    , b.naics\n",
    "    , case when b.flag = 1 then 1 else 0 end as merge_status\n",
    "from il_des_kcmo.il_wage as a\n",
    "left join (select *, 1 as flag from il_des_kcmo.il_qcew_employers) as b\n",
    "on a.ein = b.ein and a.seinunit = b.seinunit and a.empr_no = b.empr_no and a.year = b.year and a.quarter = b.quarter\n",
    "where b.county in ('067', '001', '149', '013', '083', '119', '163', '133', '157', '077', '181', '003');\n",
    "\n",
    "alter table ada_kcmo.dashboard_wages_il owner to ada_kcmo_admin;\n",
    "commit;\n",
    "'''"
   ]
  },
  {
   "cell_type": "code",
   "execution_count": null,
   "metadata": {},
   "outputs": [],
   "source": [
    "c = conn.cursor()\n",
    "c.execute(script)"
   ]
  },
  {
   "cell_type": "code",
   "execution_count": null,
   "metadata": {},
   "outputs": [],
   "source": [
    "script = '''\n",
    "create table if not exists ada_kcmo.dashboard_wage_buckets_il as \n",
    "select\n",
    "    year\n",
    "    , qtr\n",
    "    , cnty\n",
    "    , left(naics, 2) as naics\n",
    "    , (wage/1000)*1000 as wage_bucket\n",
    "    , count(*) as nb_jobs\n",
    "    , avg(wage) as avg_wage\n",
    "from ada_kcmo.dashboard_wages_il\n",
    "group by year, qtr, cnty, left(naics, 2), (wage/1000)*1000\n",
    "order by year, qtr, cnty, left(naics, 2), (wage/1000)*1000;\n",
    "\n",
    "alter table ada_kcmo.dashboard_wage_buckets_il owner to ada_kcmo_admin;\n",
    "commit;\n",
    "'''"
   ]
  },
  {
   "cell_type": "code",
   "execution_count": null,
   "metadata": {},
   "outputs": [],
   "source": [
    "c = conn.cursor()\n",
    "c.execute(script)"
   ]
  },
  {
   "cell_type": "raw",
   "metadata": {},
   "source": []
  }
 ],
 "metadata": {
  "kernelspec": {
   "display_name": "Python 2",
   "language": "python",
   "name": "python2"
  },
  "language_info": {
   "codemirror_mode": {
    "name": "ipython",
    "version": 2
   },
   "file_extension": ".py",
   "mimetype": "text/x-python",
   "name": "python",
   "nbconvert_exporter": "python",
   "pygments_lexer": "ipython2",
   "version": "2.7.12"
  },
  "toc": {
   "nav_menu": {},
   "number_sections": false,
   "sideBar": true,
   "skip_h1_title": false,
   "toc_cell": false,
   "toc_position": {},
   "toc_section_display": "block",
   "toc_window_display": false
  }
 },
 "nbformat": 4,
 "nbformat_minor": 1
}
