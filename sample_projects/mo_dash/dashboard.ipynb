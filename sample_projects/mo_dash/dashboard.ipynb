{
 "cells": [
  {
   "cell_type": "markdown",
   "metadata": {},
   "source": [
    "# Missouri State Dashboard\n",
    "---"
   ]
  },
  {
   "cell_type": "markdown",
   "metadata": {},
   "source": [
    "## Python Setup"
   ]
  },
  {
   "cell_type": "code",
   "execution_count": null,
   "metadata": {},
   "outputs": [],
   "source": [
    "# import packages for data manipulation\n",
    "from sqlalchemy import create_engine\n",
    "import pandas as pd\n",
    "import numpy as np\n",
    "import geopandas as gpd\n",
    "from collections import OrderedDict\n",
    "\n",
    "# packages for visualizations\n",
    "import matplotlib.pyplot as plt\n",
    "import seaborn as sns\n",
    "\n",
    "# for interactivity\n",
    "from ipywidgets import *\n",
    "import ipywidgets as widgets\n",
    "%matplotlib notebook\n",
    "\n",
    "import warnings\n",
    "warnings.filterwarnings('ignore')\n",
    "\n",
    "# set Seaborn context/style\n",
    "sns.set_context(context='notebook')"
   ]
  },
  {
   "cell_type": "code",
   "execution_count": null,
   "metadata": {},
   "outputs": [],
   "source": [
    "# Database connection\n",
    "engine = create_engine('postgresql://@10.10.2.10/appliedda')"
   ]
  },
  {
   "cell_type": "markdown",
   "metadata": {},
   "source": [
    "## NAICS Codes and Descriptions"
   ]
  },
  {
   "cell_type": "code",
   "execution_count": null,
   "metadata": {},
   "outputs": [],
   "source": [
    "# Build NAICS codes and descriptions\n",
    "query = '''\n",
    "SELECT naics_us_code as code, naics_us_title as title \n",
    "FROM naics_2012 \n",
    "WHERE char_length(naics_us_code) = 2 OR naics_us_code like '%%-%%'\n",
    "'''\n",
    "naics = pd.read_sql(query, engine)"
   ]
  },
  {
   "cell_type": "code",
   "execution_count": null,
   "metadata": {},
   "outputs": [],
   "source": [
    "code_title = [\"{}: {}\".format(str(item[1]),item[0]) for item in zip(list(naics['title']),list(naics['code']))]\n",
    "\n",
    "# Fix codes with ranges, add code 32, and create dictionary\n",
    "naics['code'] = naics['code'].apply(lambda x: x.replace(r'-',','))\n",
    "naics['code'] = naics['code'].apply(lambda x: x.replace(r'31,33','31,32,33'))\n",
    "naics_dict = dict(zip(code_title,list(naics['code'])))\n",
    "\n",
    "# Create an industries_all list\n",
    "industries_all = []\n",
    "for s in naics_dict.values():\n",
    "    codes = str(s).split(',')\n",
    "    for code in codes:\n",
    "        industries_all.append(code)\n",
    "industries_all = str(industries_all).replace(r'[', '').replace(r']', '')\n",
    "naics_dict['All'] = 'All'\n",
    "naics_od = OrderedDict(sorted(naics_dict.items(), key=lambda t: t[0]))"
   ]
  },
  {
   "cell_type": "markdown",
   "metadata": {},
   "source": [
    "## Define User Interaction (UI) Components"
   ]
  },
  {
   "cell_type": "markdown",
   "metadata": {},
   "source": [
    "### Toggle"
   ]
  },
  {
   "cell_type": "code",
   "execution_count": null,
   "metadata": {},
   "outputs": [],
   "source": [
    "plot_toggle = widgets.ToggleButtons(\n",
    "    options=['Level', 'Variation'],\n",
    "    value='Variation',\n",
    "    description='',\n",
    "    disabled=False,\n",
    "    button_style='',\n",
    "    tooltips=['Display absolute counts', 'Display variation over time']\n",
    ")"
   ]
  },
  {
   "cell_type": "markdown",
   "metadata": {},
   "source": [
    "### Sliders"
   ]
  },
  {
   "cell_type": "markdown",
   "metadata": {},
   "source": [
    "**Time Range:**"
   ]
  },
  {
   "cell_type": "code",
   "execution_count": null,
   "metadata": {},
   "outputs": [],
   "source": [
    "options = [(\" Q{} {} \".format(qtr, year), (qtr,year)) for year in range(2006,2016) for qtr in range(1,5)]\n",
    "time_slider = widgets.SelectionSlider(\n",
    "    options=options,\n",
    "    description='Quarter',\n",
    "    disabled=False,\n",
    "    continuous_update=False,\n",
    "    layout=Layout(width='60%')\n",
    ")\n",
    "time_slider.layout.visibility = 'hidden'\n",
    "\n",
    "time_range_slider = widgets.SelectionRangeSlider(\n",
    "    options=options,\n",
    "    index=(0,len(options)-1),\n",
    "    description='Time Range',\n",
    "    disabled=False,\n",
    "    layout=Layout(width='60%')\n",
    ")"
   ]
  },
  {
   "cell_type": "markdown",
   "metadata": {},
   "source": [
    "**Wage Range:**"
   ]
  },
  {
   "cell_type": "code",
   "execution_count": null,
   "metadata": {},
   "outputs": [],
   "source": [
    "min_wage_text = widgets.IntText(\n",
    "    value=0,\n",
    "    step=1000,\n",
    "    description='Min',\n",
    "    disabled=False\n",
    ")\n",
    "\n",
    "max_wage_text = widgets.IntText(\n",
    "    value=10000000,\n",
    "    step=1000,\n",
    "    description='Max',\n",
    "    disabled=False\n",
    ")"
   ]
  },
  {
   "cell_type": "markdown",
   "metadata": {},
   "source": [
    "### Dropdowns"
   ]
  },
  {
   "cell_type": "markdown",
   "metadata": {},
   "source": [
    "**Plotted Metric:**"
   ]
  },
  {
   "cell_type": "code",
   "execution_count": null,
   "metadata": {},
   "outputs": [],
   "source": [
    "indicator_dropdown = widgets.Dropdown(\n",
    "    options={'Total Jobs': 'Total Jobs', 'Average Quarterly Earnings': 'Average Quarterly Earnings'},\n",
    "    description='Indicator'\n",
    ")"
   ]
  },
  {
   "cell_type": "markdown",
   "metadata": {},
   "source": [
    "**Optional QWI Metrics Subset:**"
   ]
  },
  {
   "cell_type": "code",
   "execution_count": null,
   "metadata": {},
   "outputs": [],
   "source": [
    "# Not yet implemented #\n",
    "# indicator_dropdown = widgets.Dropdown(\n",
    "#     options={'Beginning of Quarter Employment': 'Total Jobs',\n",
    "#              'End of Quarter Employment': 'Total Jobs',\n",
    "#              'Full Quarter Employment' : 'Total Jobs',\n",
    "#              'Accessions': 'Total Jobs',\n",
    "#              'Accessions to Consecutive Quarter Status': 'Total Jobs',\n",
    "#              'Accessions to Full Quarter Status': 'Total Jobs',\n",
    "#              'Separations': 'Total Jobs',\n",
    "#              'New Hires': 'Total Jobs',\n",
    "#              'Recalls': 'Total Jobs'},\n",
    "#     description='Indicator'\n",
    "# )"
   ]
  },
  {
   "cell_type": "markdown",
   "metadata": {},
   "source": [
    "**Industry Subset Dropdown:**"
   ]
  },
  {
   "cell_type": "code",
   "execution_count": null,
   "metadata": {},
   "outputs": [],
   "source": [
    "industry_dropdown = widgets.Dropdown(\n",
    "    options=naics_od,\n",
    "    value='All',\n",
    "    description='Industry'\n",
    ")"
   ]
  },
  {
   "cell_type": "markdown",
   "metadata": {},
   "source": [
    "### Button"
   ]
  },
  {
   "cell_type": "code",
   "execution_count": null,
   "metadata": {},
   "outputs": [],
   "source": [
    "generate_button = widgets.Button(\n",
    "    description='Generate Plot',\n",
    "    disabled=False,\n",
    "    tooltip='Generate Plot'\n",
    ")"
   ]
  },
  {
   "cell_type": "markdown",
   "metadata": {},
   "source": [
    "## Build Panel Layout"
   ]
  },
  {
   "cell_type": "code",
   "execution_count": null,
   "metadata": {},
   "outputs": [],
   "source": [
    "panel_items = [\n",
    "    HBox([plot_toggle]),\n",
    "    VBox([time_slider, time_range_slider]),\n",
    "    HBox([VBox([Label(''),indicator_dropdown, industry_dropdown]),\n",
    "    VBox([Label('        Quarterly Earnings Range'),min_wage_text,max_wage_text])]),\n",
    "    HBox([generate_button])\n",
    "]\n",
    "\n",
    "input_panel = VBox(panel_items)\n",
    "out = Output()"
   ]
  },
  {
   "cell_type": "code",
   "execution_count": null,
   "metadata": {},
   "outputs": [],
   "source": [
    "# Helper function for changing display\n",
    "def on_value_change(change):\n",
    "    if change['new'] == 'Level':\n",
    "        time_range_slider.layout.visibility = 'hidden'\n",
    "        time_slider.layout.visibility = 'visible'\n",
    "    elif change['new'] == 'Variation':\n",
    "        time_slider.layout.visibility = 'hidden'\n",
    "        time_range_slider.layout.visibility = 'visible'\n",
    "plot_toggle.observe(on_value_change, names='value')"
   ]
  },
  {
   "cell_type": "markdown",
   "metadata": {},
   "source": [
    "## Geographic Components with `geopandas`"
   ]
  },
  {
   "cell_type": "markdown",
   "metadata": {},
   "source": [
    "### Get County Shapes"
   ]
  },
  {
   "cell_type": "code",
   "execution_count": null,
   "metadata": {},
   "outputs": [],
   "source": [
    "### statefp: 29 for MO, 17 for IL ###\n",
    "qry = \"\"\"\n",
    "SELECT statefp, countyfp, name,\n",
    "    ST_Transform(geom, 102698) geom \n",
    "FROM tl_2016_us_county \n",
    "WHERE statefp = '29' OR statefp = '17'\n",
    "\"\"\"\n",
    "counties = gpd.read_postgis(qry, engine, geom_col='geom')\n",
    "counties['coords'] = counties.geometry.apply(lambda x: x.representative_point().coords[0])"
   ]
  },
  {
   "cell_type": "markdown",
   "metadata": {},
   "source": [
    "### Get State Borders"
   ]
  },
  {
   "cell_type": "code",
   "execution_count": null,
   "metadata": {},
   "outputs": [],
   "source": [
    "qry = \"\"\"\n",
    "SELECT statefp, ST_Transform(geom, 102698) geom \n",
    "FROM tl_2016_states \n",
    "WHERE statefp = '29'\n",
    "\"\"\"\n",
    "state = gpd.read_postgis(qry, engine, geom_col='geom')\n",
    "state['coords'] = state.geometry.apply(lambda x: x.representative_point().coords[0])"
   ]
  },
  {
   "cell_type": "markdown",
   "metadata": {},
   "source": [
    "## Dashboard Functions"
   ]
  },
  {
   "cell_type": "code",
   "execution_count": null,
   "metadata": {},
   "outputs": [],
   "source": [
    "def run_query():\n",
    "    # Grab all of the values from the UI components\n",
    "    plot_type = plot_toggle.value\n",
    "    year_qtr = time_slider.value\n",
    "    qtr, year = year_qtr[0], year_qtr[1]\n",
    "    start, end = time_range_slider.value\n",
    "    start_qtr, start_year, end_qtr, end_year = start[0], start[1], end[0], end[1]\n",
    "    indicator = indicator_dropdown.value\n",
    "    min_wage = min_wage_text.value\n",
    "    max_wage = max_wage_text.value\n",
    "    industry = industry_dropdown.value\n",
    "    \n",
    "    # Set industry codes\n",
    "    if industry == 'All':\n",
    "        industry = \"({}) or naics is null\".format(industries_all)\n",
    "    else:\n",
    "        temp_industry = \"\"\n",
    "        for i in industry.split(','):\n",
    "            temp_industry += \"'{}',\".format(i)\n",
    "        industry = temp_industry[:-1]\n",
    "        industry = \"({})\".format(industry)\n",
    "    \n",
    "    # Query data for each state of interest\n",
    "    states = ['mo', 'il']\n",
    "    df = pd.DataFrame()\n",
    "    for s in states:\n",
    "        data_table = \"dashboard_wage_buckets_{}\".format(s)\n",
    "        query = open('{}_buckets.sql'.format(plot_type.lower(), 'r')).read()\n",
    "        query = query.replace(r'(\\n|\\t)', '')\n",
    "\n",
    "        if plot_type == 'Level':\n",
    "            query = query.format(data_table = data_table,\n",
    "                             geography = 'cnty',\n",
    "                             year = year,\n",
    "                             qtr = qtr,\n",
    "                             min_wage = min_wage,\n",
    "                             max_wage = max_wage,\n",
    "                             industries = industry\n",
    "                            )\n",
    "        elif plot_type == 'Variation':\n",
    "            query = query.format(data_table = data_table,\n",
    "                             geography = 'cnty',\n",
    "                             start_year = start_year,\n",
    "                             start_qtr = start_qtr,\n",
    "                             end_year = end_year,\n",
    "                             end_qtr = end_qtr,\n",
    "                             min_wage = min_wage,\n",
    "                             max_wage = max_wage,\n",
    "                             industries = industry\n",
    "                            )\n",
    "\n",
    "        # Create dataframe on first iteration\n",
    "        if s == 'mo':\n",
    "            df = pd.read_sql(query, engine)\n",
    "            df['statefp'] = '29'\n",
    "        elif s == 'il':\n",
    "            df_temp = pd.read_sql(query, engine)\n",
    "            df_temp['statefp'] = '17'\n",
    "            df = pd.concat([df, df_temp])\n",
    "    \n",
    "    return df"
   ]
  },
  {
   "cell_type": "code",
   "execution_count": null,
   "metadata": {},
   "outputs": [],
   "source": [
    "def generate_plot(button_obj):\n",
    "    out.clear_output()\n",
    "    with out:\n",
    "        # Query and merge data\n",
    "        df = run_query()\n",
    "        cnty_df = pd.merge(counties, df, left_on=['countyfp', 'statefp'], right_on=['cnty', 'statefp'])\n",
    "\n",
    "        # Configure plot settings\n",
    "        sns.set_style('white')\n",
    "        f, ax = plt.subplots(1, figsize=(10,8))\n",
    "        \n",
    "        # Plot basemap so counties with no data appear gray\n",
    "        counties.plot(ax=ax, edgecolor='black', color='lightgray', hatch='//')\n",
    "    \n",
    "        # Plot county data\n",
    "        if plot_toggle.value == 'Level':\n",
    "            column = 'jobs'\n",
    "            if indicator_dropdown.value == 'Average Quarterly Earnings':\n",
    "                column = 'avg_wage'\n",
    "            colmap = sns.cubehelix_palette(8, start=2.9, rot=0, dark=.1, light=.95, as_cmap=True)\n",
    "            cnty_df.plot(column, ax=ax, legend=True, edgecolor='black', cmap=colmap)\n",
    "        elif plot_toggle.value == 'Variation':\n",
    "            column = 'change_in_jobs_pct'\n",
    "            if indicator_dropdown.value == 'Average Quarterly Earnings':\n",
    "                column = 'change_in_avg_wage_pct'\n",
    "            bound = cnty_df[column].abs().max()\n",
    "            colmap = sns.diverging_palette(10, 150, center='light', as_cmap=True)\n",
    "            cnty_df.plot(column, ax=ax, legend=True, edgecolor='black', cmap=colmap, vmax=bound, vmin=bound*-1)\n",
    "\n",
    "        # Plot MO state boundary\n",
    "        state.plot(ax=ax, edgecolor='black', linewidth='2', color=(0,0,0,0))\n",
    "        ax.set_xbound(upper=4500000)\n",
    "        ax.set_ybound(upper=1850000)\n",
    "        ax.axis('off')\n",
    "        plt.show()"
   ]
  },
  {
   "cell_type": "code",
   "execution_count": null,
   "metadata": {},
   "outputs": [],
   "source": [
    "generate_button.on_click(generate_plot)"
   ]
  },
  {
   "cell_type": "code",
   "execution_count": null,
   "metadata": {
    "scrolled": false
   },
   "outputs": [],
   "source": [
    "display(input_panel)\n",
    "display(out)"
   ]
  },
  {
   "cell_type": "code",
   "execution_count": null,
   "metadata": {},
   "outputs": [],
   "source": []
  }
 ],
 "metadata": {
  "kernelspec": {
   "display_name": "py2-dashboard",
   "language": "python",
   "name": "py2-dashboard"
  },
  "language_info": {
   "codemirror_mode": {
    "name": "ipython",
    "version": 2
   },
   "file_extension": ".py",
   "mimetype": "text/x-python",
   "name": "python",
   "nbconvert_exporter": "python",
   "pygments_lexer": "ipython2",
   "version": "2.7.12"
  },
  "toc": {
   "nav_menu": {},
   "number_sections": false,
   "sideBar": true,
   "skip_h1_title": false,
   "toc_cell": false,
   "toc_position": {},
   "toc_section_display": "block",
   "toc_window_display": false
  }
 },
 "nbformat": 4,
 "nbformat_minor": 2
}
