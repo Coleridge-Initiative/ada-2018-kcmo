{
 "cells": [
  {
   "cell_type": "markdown",
   "metadata": {},
   "source": [
    "# Data Preparation for Machine Learning\n",
    "----"
   ]
  },
  {
   "cell_type": "markdown",
   "metadata": {},
   "source": [
    "In this notebook, we prepare the table we will to run our Machine Learning algorithm predicting business survival. We start by creating the model's label (whether the firm survives or not in the coming *X* years). We then create some potential features to predict the outcome (firm characteristics, geography, industrial sector)."
   ]
  },
  {
   "cell_type": "markdown",
   "metadata": {},
   "source": [
    "## Python Setup"
   ]
  },
  {
   "cell_type": "code",
   "execution_count": null,
   "metadata": {},
   "outputs": [],
   "source": [
    "%pylab inline\n",
    "import pandas as pd\n",
    "import psycopg2\n",
    "from sqlalchemy import create_engine"
   ]
  },
  {
   "cell_type": "code",
   "execution_count": null,
   "metadata": {},
   "outputs": [],
   "source": [
    "db_name = \"appliedda\"\n",
    "hostname = \"10.10.2.10\"\n",
    "conn = psycopg2.connect(database=db_name, host = hostname) #database connection"
   ]
  },
  {
   "cell_type": "markdown",
   "metadata": {},
   "source": [
    "## Creating Labels\n",
    "\n",
    "The function below generates labels for the machine learning model. This function is very similar to the one seen in class, with two additional customizable options (`lookback` and `term`).\n",
    "- The `lookback` feature changes how long the employer has to have already existed in order to be included. This is to avoid accounting for short-term employers. The default value is set to 1 year: the algorithm will only consider the survival rate of employers over 1 year old.\n",
    "- The `term` feature controls how far into the future we predict the employer's outcome. The default value is set to 1 year: we look at whether the employer still exists 1 year after the focal year. This feature can be changed depending on the scope of the analysis (predicting short-term failures vs. long-term failures)."
   ]
  },
  {
   "cell_type": "code",
   "execution_count": null,
   "metadata": {},
   "outputs": [],
   "source": [
    "def generate_labels(year, schema, lookback = 1, term = 1,\n",
    "                    db_name = db_name, hostname = hostname, overwrite = False):\n",
    "    \n",
    "    conn = psycopg2.connect(database=db_name, host = hostname) #database connection\n",
    "    cursor = conn.cursor()\n",
    "   \n",
    "    sql_script=\"\"\"\n",
    "    -- First, let's make a list of the employers present at time t: Q1 of 2013\n",
    "\n",
    "    DROP TABLE IF EXISTS {schema}.labels_{year};\n",
    "    CREATE TABLE ada_kcmo.labels_{year} AS\n",
    "    SELECT CONCAT(a.ein, a.run, a.ui_acct) AS id\n",
    "            , a.ein, a.run, a.ui_acct\n",
    "            , case when b.flag = 1 then 0 else 1 end as label \n",
    "    FROM (\n",
    "        SELECT x.ein, x.run, x.ui_acct\n",
    "        FROM (\n",
    "            SELECT ein, run, ui_acct\n",
    "            FROM kcmo_lehd.mo_qcew_employers\n",
    "            WHERE year = {year}\n",
    "            AND qtr = 1\n",
    "        ) AS x\n",
    "        INNER JOIN (\n",
    "            SELECT ein, run, ui_acct\n",
    "            FROM kcmo_lehd.mo_qcew_employers\n",
    "            WHERE year = {year}-{lookback}\n",
    "            AND qtr = 1\n",
    "        ) AS y\n",
    "        ON x.ein = y.ein AND x.run = y.run AND x.ui_acct = y.ui_acct\n",
    "    ) AS a\n",
    "    LEFT JOIN (\n",
    "        SELECT ein, run, ui_acct, 1 as flag \n",
    "        FROM kcmo_lehd.mo_qcew_employers\n",
    "        WHERE year = {year}+{term}\n",
    "        AND qtr = 1   \n",
    "    ) AS b\n",
    "    ON a.ein = b.ein AND a.run = b.run AND a.ui_acct = b.ui_acct;\n",
    "    \n",
    "    ALTER TABLE {schema}.labels_{year} OWNER TO (schema)_admin;\n",
    "\n",
    "    COMMIT;\n",
    "\n",
    "    \"\"\".format(year = year, schema = schema, lookback = lookback, term = term)\n",
    "    \n",
    "    # Let's check if the table already exists:\n",
    "    cursor.execute('''\n",
    "    SELECT * FROM information_schema.tables \n",
    "    WHERE table_name = 'labels_{year}' \n",
    "    AND table_schema = '{schema}';\n",
    "    '''.format(year = year, schema = schema))\n",
    "    # Let's write table if it does not exist (or if overwrite = True)\n",
    "    if not(cursor.rowcount) or overwrite:\n",
    "        cursor.execute(sql_script)\n",
    "    \n",
    "    cursor.close()\n",
    "    \n",
    "    df = pd.read_sql('SELECT * FROM {schema}.labels_{year}'.format(year = year, schema = schema, year), conn)  \n",
    "    \n",
    "    return df"
   ]
  },
  {
   "cell_type": "markdown",
   "metadata": {},
   "source": [
    "## Creating Features\n",
    "\n",
    "Here we will add features to the Machine Learning Model. We will start by defining functions that will be usefull throughout the notebook. We will then include the features that we presented in class during the module on Machine Learning. Finally, we will discuss potential additional features."
   ]
  },
  {
   "cell_type": "markdown",
   "metadata": {},
   "source": [
    "### Useful Functions"
   ]
  },
  {
   "cell_type": "code",
   "execution_count": null,
   "metadata": {},
   "outputs": [],
   "source": [
    "def scaling_var(df, var):\n",
    "    min_var = df[var].min()\n",
    "    max_var = df[var].max()\n",
    "    scaled_var = '{}_scaled'.format(var)\n",
    "    \n",
    "    df[scaled_var] = (df[var] - min_var)/(max_var - min_var)\n",
    "    \n",
    "    return df[scaled_var]"
   ]
  },
  {
   "cell_type": "markdown",
   "metadata": {
    "collapsed": true
   },
   "source": [
    "### New vs Old Employers\n",
    "\n",
    "This function defining \"old\" and \"new\" firms is the same as the one we saw in class. Notice the `age_cutoff` variable (defining how many years an employer has to exists to be considered an \"old\" employer) that you can choose to modify."
   ]
  },
  {
   "cell_type": "code",
   "execution_count": null,
   "metadata": {},
   "outputs": [],
   "source": [
    "def employer_age_features(year, schema, age_cutoff = 5, \n",
    "                          db_name = db_name, hostname = hostname, overwrite = False):\n",
    "    \n",
    "    conn = psycopg2.connect(database=db_name, host = hostname) #database connection\n",
    "    cursor = conn.cursor()\n",
    "    \n",
    "    sql_script = '''\n",
    "    DROP TABLE IF EXISTS {schema}.features_age_{year};\n",
    "    CREATE TABLE ada_kcmo.features_age_{year} AS\n",
    "    SELECT a.*, CASE WHEN b.flag = 1 THEN 0 ELSE 1 END AS new_employer\n",
    "    FROM (\n",
    "        SELECT ein, run, ui_acct \n",
    "        FROM ada_kcmo.labels_{year}\n",
    "    ) AS a\n",
    "    LEFT JOIN (\n",
    "        SELECT ein, run, ui_acct, 1 as flag \n",
    "        FROM kcmo_lehd.mo_qcew_employers\n",
    "        WHERE year = {year}-{age_cutoff}\n",
    "        AND qtr = 1   \n",
    "    ) AS b\n",
    "    ON a.ein = b.ein AND a.run = b.run AND a.ui_acct = b.ui_acct;\n",
    "    \n",
    "    ALTER TABLE {schema}.features_age_{year} OWNER TO {schema}_admin;    \n",
    "    \n",
    "    COMMIT;\n",
    "    '''.format(year = year, age_cutoff = age_cutoff)\n",
    "    \n",
    "    # Let's check if the table already exists:\n",
    "    cursor.execute('''\n",
    "    SELECT * FROM information_schema.tables \n",
    "    WHERE table_name = 'features_age_{year}' \n",
    "    AND table_schema = '{schema}';\n",
    "    '''.format(year = year))\n",
    "    # Let's write table if it does not exist (or if overwrite = True)\n",
    "    if not(cursor.rowcount) or overwrite:\n",
    "        cursor.execute(sql_script)\n",
    "    \n",
    "    cursor.close()\n",
    "        \n",
    "    df = pd.read_sql('SELECT * FROM {schema}.features_age_{}'.format(year), conn)  \n",
    "    \n",
    "    return df"
   ]
  },
  {
   "cell_type": "markdown",
   "metadata": {},
   "source": [
    "## QWI Statistics\n",
    "\n",
    "Here too, the QWI statistics features are the same as the ones we saw in class. You may want to modify the code to include more years of QWI statistics, or replace the change in level of the QWI metrics by a rate of change (change in percent)."
   ]
  },
  {
   "cell_type": "code",
   "execution_count": null,
   "metadata": {},
   "outputs": [],
   "source": [
    "def qwi_features(year, schema,\n",
    "                 db_name = db_name, hostname = hostname, overwrite = False):\n",
    "    \n",
    "    conn = psycopg2.connect(database=db_name, host = hostname) #database connection\n",
    "    cursor = conn.cursor()\n",
    "    \n",
    "    sql_script = '''\n",
    "    DROP TABLE IF EXISTS {schema}.features_qwi_{year};\n",
    "    CREATE TABLE {schema}.features_qwi_{year} AS\n",
    "    SELECT a.*\n",
    "            , b.nb_jobs_current_qtr AS m1_nb_jobs_current_qtr\n",
    "            , b.emp_current_qtr AS m1_emp_current_qtr\n",
    "            , b.emp_4qtrs_ago AS m1_emp_4qtrs_ago\n",
    "            , b.emp_3qtrs_ago AS m1_emp_3qtrs_ago\n",
    "            , b.emp_2qtrs_ago AS m1_emp_2qtrs_ago\n",
    "            , b.emp_prev_qtr AS m1_emp_prev_qtr\n",
    "            , b.emp_next_qtr AS m1_emp_next_qtr\n",
    "            , b.emp_begin_qtr AS m1_emp_begin_qtr\n",
    "            , b.emp_end_qtr AS m1_emp_end_qtr\n",
    "            , b.emp_full_qtr AS m1_emp_full_qtr\n",
    "            , b.accessions_current AS m1_accessions_current\n",
    "            , b.accessions_consecutive_qtr AS m1_accessions_consecutive_qtr\n",
    "            , b.accessions_full_qtr AS m1_accessions_full_qtr\n",
    "            , b.separations AS m1_separations\n",
    "            , b.new_hires AS m1_new_hires\n",
    "            , b.recalls AS m1_recalls\n",
    "    FROM(\n",
    "        SELECT * \n",
    "        FROM ada_kcmo.qwi_ein_{year}_1\n",
    "    ) AS a\n",
    "    LEFT JOIN (\n",
    "        SELECT *\n",
    "        FROM ada_kcmo.qwi_ein_{year_m1}_1\n",
    "    ) AS b\n",
    "    ON a.ein = b.ein;\n",
    "    \n",
    "    ALTER TABLE {schema}.features_qwi_{year} OWNER TO {schema}_admin; \n",
    "    \n",
    "    COMMIT;\n",
    "    '''.format(year = year, schema = schema, year_m1 = year-1)\n",
    "    \n",
    "    # Let's check if the table already exists:\n",
    "    cursor.execute('''\n",
    "    SELECT * FROM information_schema.tables \n",
    "    WHERE table_name = 'features_qwi_{year}'\n",
    "    AND table_schema = '{schema}';\n",
    "    '''.format(year = year, schema = schema))\n",
    "    # Let's write table if it does not exist (or if overwrite = True)\n",
    "    if not(cursor.rowcount) or overwrite:\n",
    "        cursor.execute(sql_script)\n",
    "    \n",
    "    cursor.close()\n",
    "    \n",
    "    df = pd.read_sql('SELECT * FROM {schema}.features_qwi_{year};'.format(schema = schema, year = year), conn)\n",
    "    \n",
    "    for var in ['nb_jobs_current_qtr', 'emp_current_qtr'\n",
    "                , 'emp_4qtrs_ago', 'emp_3qtrs_ago', 'emp_2qtrs_ago', 'emp_prev_qtr', 'emp_next_qtr'\n",
    "                , 'emp_begin_qtr', 'emp_end_qtr', 'emp_full_qtr'\n",
    "                , 'accessions_current', 'accessions_consecutive_qtr', 'accessions_full_qtr'\n",
    "                , 'separations', 'new_hires', 'recalls']:\n",
    "        m1_var = 'm1_{}'.format(var)\n",
    "        change_var = 'change_{}'.format(var)\n",
    "        df[change_var] = df[var] - df[m1_var]\n",
    "   \n",
    "    # Remove NULL rows\n",
    "    isnan_rows = df.isnull().any(axis=1)\n",
    "    df = df[~isnan_rows]\n",
    "    \n",
    "    return df"
   ]
  },
  {
   "cell_type": "markdown",
   "metadata": {
    "collapsed": true
   },
   "source": [
    "## Wages and Employees\n",
    "Wages and Employee statistics are pulled from the MO employers data. The statistics here are the same as in class, but feel free to add additional metrics."
   ]
  },
  {
   "cell_type": "code",
   "execution_count": null,
   "metadata": {},
   "outputs": [],
   "source": [
    "def wages_features(year, schema,\n",
    "                   db_name = db_name, hostname = hostname, overwrite = False):\n",
    "    \n",
    "    conn = psycopg2.connect(database=db_name, host = hostname) #database connection\n",
    "    cursor = conn.cursor()\n",
    "\n",
    "    sql_script = '''\n",
    "    DROP TABLE IF EXISTS {schema}.features_wages_{year};\n",
    "    CREATE TABLE ada_kcmo.features_wages_{year} AS    \n",
    "    SELECT ein, run, ui_acct\n",
    "            , mon1_empl+mon2_empl+mon3_empl AS total_empl\n",
    "            , total_wage \n",
    "    FROM kcmo_lehd.mo_qcew_employers \n",
    "    WHERE year = {year} AND qtr = 1;\n",
    "    \n",
    "    ALTER TABLE {schema}.features_wages_{year} OWNER TO {schema}_admin; \n",
    "    \n",
    "    COMMIT;\n",
    "    '''.format(year = year, schema = schema)\n",
    "    \n",
    "    # Let's check if the table already exists:\n",
    "    cursor.execute('''\n",
    "    SELECT * FROM information_schema.tables \n",
    "    WHERE table_name = 'features_wages_{year}'\n",
    "    AND table_schema = '{schema}';\n",
    "    '''.format(year = year, schema = schema))\n",
    "    \n",
    "    # Let's write table if it does not exist (or if overwrite = True)\n",
    "    if not(cursor.rowcount) or overwrite:\n",
    "        cursor.execute(sql_script)\n",
    "    \n",
    "    cursor.close()    \n",
    "    \n",
    "    df = pd.read_sql('SELECT * FROM {schema}.features_wages_{year}'.format(year), conn)\n",
    "    df['avg_wage'] = df['total_wage']/df['total_empl']\n",
    "    \n",
    "    # Flag null, infinite average wage values\n",
    "    mask = ((df['avg_wage'].isnull()) | (df['avg_wage'] == inf))\n",
    "    vals_to_replace = df[mask]['avg_wage'].values\n",
    "    df['avg_wage'].replace(vals_to_replace,np.NaN, inplace=True)\n",
    "    \n",
    "    # Impute the median wage value\n",
    "    df['avg_wage'].fillna(df['avg_wage'].median(), inplace=True)\n",
    "    \n",
    "    # Remove Outliers\n",
    "    outlier_rows = ((df['avg_wage'] == 0) | (df['avg_wage'] > 50000))\n",
    "    df_wages = df[~outlier_rows]\n",
    "    \n",
    "    # Scaling values\n",
    "    df['total_wage_scaled'] = scaling_var(df, 'total_wage')\n",
    "    df['total_empl_scaled'] = scaling_var(df, 'total_empl')\n",
    "    df['avg_wage_scaled'] = scaling_var(df, 'avg_wage')\n",
    "    \n",
    "    return df"
   ]
  },
  {
   "cell_type": "code",
   "execution_count": null,
   "metadata": {},
   "outputs": [],
   "source": [
    "df_wages = wages_features(2013)"
   ]
  },
  {
   "cell_type": "code",
   "execution_count": null,
   "metadata": {},
   "outputs": [],
   "source": [
    "df_wages.head()"
   ]
  },
  {
   "cell_type": "markdown",
   "metadata": {},
   "source": [
    "## Combining all data"
   ]
  },
  {
   "cell_type": "markdown",
   "metadata": {},
   "source": [
    "We can now combine all our subset of features into one features table."
   ]
  },
  {
   "cell_type": "code",
   "execution_count": null,
   "metadata": {},
   "outputs": [],
   "source": [
    "df_features = pd.merge(df_age, df_qwi, how = 'left', on = 'ein')"
   ]
  },
  {
   "cell_type": "code",
   "execution_count": null,
   "metadata": {},
   "outputs": [],
   "source": [
    "df_features = pd.merge(df_features, df_wages, how = 'left', on = ['ein', 'run', 'ui_acct'])"
   ]
  },
  {
   "cell_type": "markdown",
   "metadata": {},
   "source": [
    "Let's merge our features with our labels."
   ]
  },
  {
   "cell_type": "code",
   "execution_count": null,
   "metadata": {},
   "outputs": [],
   "source": [
    "df_table = pd.merge(df_labels, df_features, how = 'left', on = ['ein', 'run', 'ui_acct'])"
   ]
  },
  {
   "cell_type": "markdown",
   "metadata": {
    "collapsed": true
   },
   "source": [
    "Let's now write the table into our class schema so we can use it for the Machine Learning notebook. In order to write a data table, we have to create an engine with SQLAlchemy (see notebook on Databases for more details)."
   ]
  },
  {
   "cell_type": "code",
   "execution_count": null,
   "metadata": {},
   "outputs": [],
   "source": [
    "# Let's check if the table already exists:  \n",
    "conn = psycopg2.connect(database=db_name, host = hostname) #database connection\n",
    "cursor = conn.cursor()    \n",
    "cursor.execute('''\n",
    "SELECT * FROM information_schema.tables \n",
    "WHERE table_name = 'table_employers_2013'\n",
    "AND table_schema = 'ada_kcmo';\n",
    "''')\n",
    "\n",
    "# Let's write table if it does not exist (or if overwrite = True)\n",
    "overwrite = False\n",
    "if not(cursor.rowcount) or overwrite:\n",
    "    engine = create_engine('postgresql://{}/{}'.format(hostname, db_name))\n",
    "    df_table.to_sql('table_employers_2013', engine, schema = 'ada_kcmo', index = False, if_exists='replace')\n",
    "    \n",
    "    # Change Admin rights of table to admin\n",
    "    conn = psycopg2.connect(database = db_name, host = hostname)\n",
    "    cursor = conn.cursor()\n",
    "    cursor.execute('ALTER TABLE ada_kcmo.table_employers_2013 OWNER TO ada_kcmo_admin; COMMIT;')\n",
    "\n",
    "cursor.close() "
   ]
  },
  {
   "cell_type": "code",
   "execution_count": null,
   "metadata": {},
   "outputs": [],
   "source": [
    "table_2013 = pd.read_sql('SELECT * FROM ada_kcmo.table_employers_2013 LIMIT 100', conn)\n",
    "table_2013.head()"
   ]
  },
  {
   "cell_type": "markdown",
   "metadata": {},
   "source": [
    "## Overall Function for Label and Features Generation:"
   ]
  },
  {
   "cell_type": "markdown",
   "metadata": {},
   "source": [
    "We have recapitulated all the above steps into a general function below."
   ]
  },
  {
   "cell_type": "code",
   "execution_count": null,
   "metadata": {},
   "outputs": [],
   "source": [
    "def generate_table(year, db_name = db_name, hostname = hostname, schema = 'ada_kcmo', overwrite = False):\n",
    "    \n",
    "    # Generate Labels\n",
    "    print(\"Generating labels\")\n",
    "    df_label = generate_labels(year, db_name = db_name, hostname = hostname, overwrite = overwrite)\n",
    "    \n",
    "    # Generate Features\n",
    "    print(\"Generating features\")\n",
    "    df_age = employer_age_features(year, db_name = db_name, hostname = hostname, overwrite = overwrite)\n",
    "    df_qwi = qwi_features(year, db_name = db_name, hostname = hostname, overwrite = overwrite)\n",
    "    df_wages = wages_features(year, db_name = db_name, hostname = hostname, overwrite = overwrite)\n",
    "    \n",
    "    # Merge Labels and Features together\n",
    "    print(\"Merging labels and features\")\n",
    "    df_table = pd.merge(df_label, df_age, how = 'inner', on = ['ein', 'run', 'ui_acct'])\n",
    "    df_table = pd.merge(df_table, df_qwi, how = 'inner', on = 'ein')\n",
    "    df_table = pd.merge(df_table, df_wages, how = 'inner', on = ['ein', 'run', 'ui_acct'])\n",
    "    \n",
    "    # Removing NULL values\n",
    "    isnan_rows = df_table.isnull().any(axis=1)\n",
    "    df_table = df_table[~isnan_rows]\n",
    "    \n",
    "    # Write Table\n",
    "    print(\"Writing table\")\n",
    "    \n",
    "    # Let's check if the table already exists:  \n",
    "    conn = psycopg2.connect(database=db_name, host = hostname) #database connection\n",
    "    cursor = conn.cursor()    \n",
    "    cursor.execute('''\n",
    "    SELECT * FROM information_schema.tables \n",
    "    WHERE table_name = 'table_employers_{year}'\n",
    "    AND table_schema = '{schema}';\n",
    "    '''.format(year = year, schema = schema))\n",
    "    \n",
    "    # Let's write table if it does not exist (or if overwrite = True)\n",
    "    if not(cursor.rowcount) or overwrite:\n",
    "        table_name = 'table_employers_{}'.format(year)\n",
    "        engine = create_engine('postgresql://{}/{}'.format(hostname, db_name))\n",
    "        df_table.to_sql(table_name, engine, schema = 'ada_kcmo', index = False, if_exists='replace')\n",
    "        \n",
    "        # Change Admin rights of table to admin\n",
    "        conn = psycopg2.connect(database = db_name, host = hostname)\n",
    "        cursor = conn.cursor()\n",
    "        cursor.execute('ALTER TABLE ada_kcmo.table_employers_{} OWNER TO ada_kcmo_admin; COMMIT;'.format(year))\n",
    "\n",
    "    cursor.close()        \n",
    "    \n",
    "    return df_table"
   ]
  },
  {
   "cell_type": "code",
   "execution_count": null,
   "metadata": {},
   "outputs": [],
   "source": [
    "df_table_2013 = generate_table(2013)"
   ]
  },
  {
   "cell_type": "code",
   "execution_count": null,
   "metadata": {},
   "outputs": [],
   "source": [
    "df_table_2014 = generate_table(2014)"
   ]
  },
  {
   "cell_type": "code",
   "execution_count": null,
   "metadata": {},
   "outputs": [],
   "source": [
    "df_table_2013.head()"
   ]
  },
  {
   "cell_type": "code",
   "execution_count": null,
   "metadata": {},
   "outputs": [],
   "source": [
    "df_table_2014.head()"
   ]
  },
  {
   "cell_type": "code",
   "execution_count": null,
   "metadata": {},
   "outputs": [],
   "source": []
  }
 ],
 "metadata": {
  "kernelspec": {
   "display_name": "Python 2",
   "language": "python",
   "name": "python2"
  },
  "language_info": {
   "codemirror_mode": {
    "name": "ipython",
    "version": 2
   },
   "file_extension": ".py",
   "mimetype": "text/x-python",
   "name": "python",
   "nbconvert_exporter": "python",
   "pygments_lexer": "ipython2",
   "version": "2.7.12"
  },
  "toc": {
   "nav_menu": {},
   "number_sections": false,
   "sideBar": true,
   "skip_h1_title": false,
   "title_cell": "Table of Contents",
   "title_sidebar": "Contents",
   "toc_cell": false,
   "toc_position": {},
   "toc_section_display": "block",
   "toc_window_display": false
  }
 },
 "nbformat": 4,
 "nbformat_minor": 2
}
