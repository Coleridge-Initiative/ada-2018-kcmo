{
 "cells": [
  {
   "cell_type": "markdown",
   "metadata": {
    "extensions": {
     "jupyter_dashboards": {
      "version": 1,
      "views": {
       "grid_default": {
        "col": 0,
        "height": 5,
        "hidden": false,
        "row": 0,
        "width": 12
       },
       "report_default": {}
      }
     }
    }
   },
   "source": [
    "# Dashboard testing\n",
    "\n",
    "- pan/zoom on a given graph\n",
    "- multiple graphs updated with selection change (eg year updates map and chart highlight)"
   ]
  },
  {
   "cell_type": "code",
   "execution_count": 1,
   "metadata": {
    "extensions": {
     "jupyter_dashboards": {
      "version": 1,
      "views": {
       "grid_default": {
        "hidden": true
       },
       "report_default": {}
      }
     }
    }
   },
   "outputs": [],
   "source": [
    "# import packages for data manipulation\n",
    "from sqlalchemy import create_engine\n",
    "import pandas as pd\n",
    "import geopandas as gpd\n",
    "\n",
    "# packages for visualizations\n",
    "import matplotlib.pyplot as plt\n",
    "import seaborn as sns\n",
    "\n",
    "# set Seaborn context/style\n",
    "# sns.set_context(context='notebook')\n",
    "# sns.set_style('darkgrid')\n",
    "\n",
    "# for interactivity\n",
    "from ipywidgets import *\n",
    "\n",
    "# to get zoom/pan option in plots\n",
    "%matplotlib notebook"
   ]
  },
  {
   "cell_type": "code",
   "execution_count": 2,
   "metadata": {
    "extensions": {
     "jupyter_dashboards": {
      "version": 1,
      "views": {
       "grid_default": {
        "hidden": true
       },
       "report_default": {}
      }
     }
    }
   },
   "outputs": [],
   "source": [
    "# database connection\n",
    "DB = 'template_postgis'\n",
    "USER = 'postgres'\n",
    "HOST = 'localhost'\n",
    "PORT = '5432'\n",
    "PW = 'postgres'\n",
    "\n",
    "DB_CONNECTION_STRING = 'postgresql://{username}:{password}@{host}:{port}/{database}'.format(\n",
    "username=USER, password=PW, host=HOST, port=PORT, database=DB)\n",
    "\n",
    "engine = create_engine(DB_CONNECTION_STRING)"
   ]
  },
  {
   "cell_type": "markdown",
   "metadata": {
    "extensions": {
     "jupyter_dashboards": {
      "version": 1,
      "views": {
       "grid_default": {
        "col": 0,
        "height": 4,
        "hidden": true,
        "row": 59,
        "width": 4
       },
       "report_default": {}
      }
     }
    }
   },
   "source": [
    "### Functions to get data"
   ]
  },
  {
   "cell_type": "code",
   "execution_count": 3,
   "metadata": {
    "extensions": {
     "jupyter_dashboards": {
      "version": 1,
      "views": {
       "grid_default": {
        "hidden": true
       },
       "report_default": {}
      }
     }
    }
   },
   "outputs": [],
   "source": [
    "# function to get data - cbsafp = '28140' is KCMO metro area\n",
    "# returns the base, Block level data\n",
    "def getWAC(seg='s000', jt='jt01', years=xrange(2002,2016), cbsafp = '28140'):\n",
    "    # to pull data from database\n",
    "    DFs = []\n",
    "    # get data\n",
    "    for year in years:\n",
    "        qry = \"\"\"\n",
    "        SELECT *, left(w_geocode, 5) countyfp, {YR} AS year \n",
    "        FROM lodes.mo_wac_{SEG}_{JT}_{YR}\n",
    "        WHERE left(w_geocode, 5) \n",
    "        IN (SELECT geoid FROM tl_2016_us_county WHERE cbsafp = '{CBSA}')\n",
    "        \"\"\".format(SEG=seg, JT=jt, YR=year, CBSA=cbsafp)\n",
    "        df = pd.read_sql(qry, engine)\n",
    "#         df.drop(columns='createdate', inplace=True)\n",
    "#         df['year'] = year\n",
    "        DFs.append(df)\n",
    "    # combine DFs into single dataframe\n",
    "    df = pd.concat(DFs)\n",
    "    return(df)"
   ]
  },
  {
   "cell_type": "code",
   "execution_count": 16,
   "metadata": {
    "extensions": {
     "jupyter_dashboards": {
      "version": 1,
      "views": {
       "grid_default": {
        "hidden": true
       },
       "report_default": {}
      }
     }
    }
   },
   "outputs": [],
   "source": [
    "# get geographic data\n",
    "# functions return pandas.DataFrame objects based on the counties in a given CBSA \n",
    "\n",
    "def _counties(cbsafp='28140', crs='102698'):\n",
    "    # get counties\n",
    "    qry = \"\"\"\n",
    "    SELECT geoid, name,\n",
    "        ST_Transform(geom, {CRS}) geom \n",
    "    FROM tl_2016_us_county \n",
    "    WHERE cbsafp = '{CBSA}'\n",
    "    \"\"\".format(CBSA=cbsafp, CRS=crs)\n",
    "\n",
    "    counties = gpd.read_postgis(qry, engine, geom_col='geom')\n",
    "    counties['coords'] = counties.geometry.apply(lambda x: x.representative_point().coords[0])\n",
    "    return(counties)\n",
    "\n",
    "def _blkgrps(cbsafp='28140', crs='102698'):\n",
    "    # get BlockGroups for map\n",
    "\n",
    "    qry = \"\"\"\n",
    "    SELECT blockgroup,\n",
    "        ST_Transform(geom, {CRS}) geom \n",
    "    FROM tl_2016_29_blkgrp\n",
    "    WHERE left(blockgroup, 5) \n",
    "        IN (SELECT geoid\n",
    "            FROM tl_2016_us_county \n",
    "            WHERE cbsafp =  '{CBSA}')\n",
    "    \"\"\".format(CBSA='28140', CRS=crs)\n",
    "\n",
    "    blkgrps = gpd.read_postgis(qry, engine, geom_col='geom')\n",
    "    blkgrps['coords'] = blkgrps.geometry.apply(lambda x: x.representative_point().coords[0])\n",
    "    return(blkgrps)\n",
    "\n",
    "\n",
    "# def get_geogs(geos = ['counties', 'blockgroups'], cbsafp='28140', crs='102698'):\n",
    "#     # hold retrieved data:\n",
    "#     GDFs = {}\n",
    "#     # get data for each of the geos passed:\n",
    "#     for g in geos:\n",
    "#         GDFs[g] = geoFunc[g]\n",
    "#     return(GDFs)\n",
    "    "
   ]
  },
  {
   "cell_type": "markdown",
   "metadata": {
    "extensions": {
     "jupyter_dashboards": {
      "version": 1,
      "views": {
       "grid_default": {
        "col": 4,
        "height": 4,
        "hidden": true,
        "row": 59,
        "width": 4
       },
       "report_default": {}
      }
     }
    }
   },
   "source": [
    "### find pan/zoom option"
   ]
  },
  {
   "cell_type": "code",
   "execution_count": 5,
   "metadata": {
    "extensions": {
     "jupyter_dashboards": {
      "version": 1,
      "views": {
       "grid_default": {
        "hidden": true
       },
       "report_default": {}
      }
     }
    }
   },
   "outputs": [],
   "source": [
    "counties = _counties()\n",
    "df = getWAC(years=range(2004,2012))"
   ]
  },
  {
   "cell_type": "code",
   "execution_count": 8,
   "metadata": {
    "extensions": {
     "jupyter_dashboards": {
      "version": 1,
      "views": {
       "grid_default": {
        "col": 8,
        "height": 9,
        "hidden": true,
        "row": 59,
        "width": 4
       },
       "report_default": {}
      }
     }
    }
   },
   "outputs": [
    {
     "name": "stdout",
     "output_type": "stream",
     "text": [
      "[u'c000', u'ca01', u'ca02', u'ca03', u'ce01', u'ce02', u'ce03', u'cns01', u'cns02', u'cns03', u'cns04', u'cns05', u'cns06', u'cns07', u'cns08', u'cns09', u'cns10', u'cns11', u'cns12', u'cns13', u'cns14', u'cns15', u'cns16', u'cns17', u'cns18', u'cns19', u'cns20', u'cr01', u'cr02', u'cr03', u'cr04', u'cr05', u'cr07', u'ct01', u'ct02', u'cd01', u'cd02', u'cd03', u'cd04', u'cs01', u'cs02', u'cfa01', u'cfa02', u'cfa03', u'cfa04', u'cfa05', u'cfs01', u'cfs02', u'cfs03', u'cfs04', u'cfs05']\n"
     ]
    }
   ],
   "source": [
    "print(df.columns.tolist()[1:-3])"
   ]
  },
  {
   "cell_type": "code",
   "execution_count": 9,
   "metadata": {
    "extensions": {
     "jupyter_dashboards": {
      "version": 1,
      "views": {
       "grid_default": {
        "col": 0,
        "height": 13,
        "hidden": true,
        "row": 46,
        "width": 4
       },
       "report_default": {}
      }
     }
    }
   },
   "outputs": [
    {
     "data": {
      "application/vnd.jupyter.widget-view+json": {
       "model_id": "b14bb2d2c17d4543b3e8c5ff3eb6e615",
       "version_major": 2,
       "version_minor": 0
      },
      "text/html": [
       "<p>Failed to display Jupyter Widget of type <code>interactive</code>.</p>\n",
       "<p>\n",
       "  If you're reading this message in the Jupyter Notebook or JupyterLab Notebook, it may mean\n",
       "  that the widgets JavaScript is still loading. If this message persists, it\n",
       "  likely means that the widgets JavaScript library is either not installed or\n",
       "  not enabled. See the <a href=\"https://ipywidgets.readthedocs.io/en/stable/user_install.html\">Jupyter\n",
       "  Widgets Documentation</a> for setup instructions.\n",
       "</p>\n",
       "<p>\n",
       "  If you're reading this message in another frontend (for example, a static\n",
       "  rendering on GitHub or <a href=\"https://nbviewer.jupyter.org/\">NBViewer</a>),\n",
       "  it may mean that your frontend doesn't currently support widgets.\n",
       "</p>\n"
      ],
      "text/plain": [
       "interactive(children=(Dropdown(description=u'yr', options=(2004, 2005, 2006, 2007, 2008, 2009, 2010, 2011), value=2004), Dropdown(description=u'col', options=(u'c000', u'ca01', u'ca02', u'ca03', u'ce01', u'ce02', u'ce03', u'cns01', u'cns02', u'cns03', u'cns04', u'cns05', u'cns06', u'cns07', u'cns08', u'cns09', u'cns10', u'cns11', u'cns12', u'cns13', u'cns14', u'cns15', u'cns16', u'cns17', u'cns18', u'cns19', u'cns20', u'cr01', u'cr02', u'cr03', u'cr04', u'cr05', u'cr07', u'ct01', u'ct02', u'cd01', u'cd02', u'cd03', u'cd04', u'cs01', u'cs02', u'cfa01', u'cfa02', u'cfa03', u'cfa04', u'cfa05', u'cfs01', u'cfs02', u'cfs03', u'cfs04', u'cfs05'), value=u'c000'), Output()), _dom_classes=('widget-interact',))"
      ]
     },
     "metadata": {},
     "output_type": "display_data"
    },
    {
     "ename": "TypeError",
     "evalue": "plot_cnty() takes exactly 2 arguments (1 given)",
     "output_type": "error",
     "traceback": [
      "\u001b[0;31m---------------------------------------------------------------------------\u001b[0m",
      "\u001b[0;31mTypeError\u001b[0m                                 Traceback (most recent call last)",
      "\u001b[0;32m<ipython-input-9-4e0db667c730>\u001b[0m in \u001b[0;36m<module>\u001b[0;34m()\u001b[0m\n\u001b[1;32m      3\u001b[0m \u001b[0;31m# that %matplotlib notebook defaults to interactivity\u001b[0m\u001b[0;34m\u001b[0m\u001b[0;34m\u001b[0m\u001b[0m\n\u001b[1;32m      4\u001b[0m \u001b[0;34m\u001b[0m\u001b[0m\n\u001b[0;32m----> 5\u001b[0;31m \u001b[0;34m@\u001b[0m\u001b[0minteract\u001b[0m\u001b[0;34m(\u001b[0m\u001b[0mplot_cnty\u001b[0m\u001b[0;34m,\u001b[0m\u001b[0myr\u001b[0m\u001b[0;34m=\u001b[0m\u001b[0mdf\u001b[0m\u001b[0;34m[\u001b[0m\u001b[0;34m'year'\u001b[0m\u001b[0;34m]\u001b[0m\u001b[0;34m.\u001b[0m\u001b[0munique\u001b[0m\u001b[0;34m(\u001b[0m\u001b[0;34m)\u001b[0m\u001b[0;34m,\u001b[0m \u001b[0mcol\u001b[0m\u001b[0;34m=\u001b[0m\u001b[0mdf\u001b[0m\u001b[0;34m.\u001b[0m\u001b[0mcolumns\u001b[0m\u001b[0;34m.\u001b[0m\u001b[0mtolist\u001b[0m\u001b[0;34m(\u001b[0m\u001b[0;34m)\u001b[0m\u001b[0;34m[\u001b[0m\u001b[0;36m1\u001b[0m\u001b[0;34m:\u001b[0m\u001b[0;34m-\u001b[0m\u001b[0;36m3\u001b[0m\u001b[0;34m]\u001b[0m\u001b[0;34m)\u001b[0m\u001b[0;34m\u001b[0m\u001b[0m\n\u001b[0m\u001b[1;32m      6\u001b[0m \u001b[0;32mdef\u001b[0m \u001b[0mplot_cnty\u001b[0m\u001b[0;34m(\u001b[0m\u001b[0myr\u001b[0m\u001b[0;34m,\u001b[0m \u001b[0mcol\u001b[0m\u001b[0;34m)\u001b[0m\u001b[0;34m:\u001b[0m\u001b[0;34m\u001b[0m\u001b[0m\n\u001b[1;32m      7\u001b[0m     \u001b[0mf\u001b[0m\u001b[0;34m,\u001b[0m \u001b[0max\u001b[0m \u001b[0;34m=\u001b[0m \u001b[0mplt\u001b[0m\u001b[0;34m.\u001b[0m\u001b[0msubplots\u001b[0m\u001b[0;34m(\u001b[0m\u001b[0;36m1\u001b[0m\u001b[0;34m,\u001b[0m \u001b[0mfigsize\u001b[0m\u001b[0;34m=\u001b[0m\u001b[0;34m(\u001b[0m\u001b[0;36m12\u001b[0m\u001b[0;34m,\u001b[0m\u001b[0;36m8\u001b[0m\u001b[0;34m)\u001b[0m\u001b[0;34m)\u001b[0m\u001b[0;34m\u001b[0m\u001b[0m\n",
      "\u001b[0;31mTypeError\u001b[0m: plot_cnty() takes exactly 2 arguments (1 given)"
     ]
    }
   ],
   "source": [
    "# NO %matplotlib magic used, testing claim\n",
    "# from https://stackoverflow.com/questions/10655217/ipython-notebook-pylab-inline-zooming-of-a-plot\n",
    "# that %matplotlib notebook defaults to interactivity\n",
    "\n",
    "# using @interact() in this way gives error \n",
    "# \"TypeError: plot_cnty() takes exactly 2 arguments (1 given)\"\n",
    "# but seems to still work fine\n",
    "@interact(plot_cnty,yr=df['year'].unique(), col=df.columns.tolist()[1:-3])\n",
    "def plot_cnty(yr, col): \n",
    "    f, ax = plt.subplots(1, figsize=(12,8))\n",
    "    # get specified data summarized by county\n",
    "    cnty_df = pd.merge(counties,\n",
    "                    df[df['year']==yr].groupby('countyfp')[col].sum().reset_index(), \n",
    "                    left_on='geoid', right_on='countyfp')\n",
    "    colmap = sns.cubehelix_palette(8, start=2, rot=0, dark=0, light=.95, as_cmap=True)\n",
    "    cnty_df.plot(col, ax=ax, legend=True, cmap=colmap) \n",
    "    \n",
    "    for idx, row in cnty_df.iterrows():\n",
    "        ax.annotate(row['name'], row['coords'],\n",
    "                     horizontalalignment='left', size='medium', color='white', \n",
    "                     weight='semibold',\n",
    "                   bbox=dict(boxstyle=\"round,pad=0.3\", fc=\"grey\", ec=\"k\", lw=0.5))\n",
    "    \n",
    "    ax.tick_params(\n",
    "        axis='both',          # changes apply to the x-axis\n",
    "        which='both',      # both major and minor ticks are affected\n",
    "        bottom='off',      # ticks along the bottom edge are off\n",
    "        top='off',         # ticks along the top edge are off\n",
    "        labelbottom='off', # labels along the bottom edge are off\n",
    "        labelleft='off')\n",
    "    \n",
    "    f.suptitle('{} in {} by county, KCMO'.format(col, yr))\n",
    "\n",
    "# interact(plot_cnty,yr=df['year'].unique(), col=df.columns.tolist()[1:])"
   ]
  },
  {
   "cell_type": "code",
   "execution_count": 10,
   "metadata": {
    "extensions": {
     "jupyter_dashboards": {
      "version": 1,
      "views": {
       "grid_default": {
        "col": 4,
        "height": 13,
        "hidden": true,
        "row": 46,
        "width": 4
       },
       "report_default": {}
      }
     }
    }
   },
   "outputs": [
    {
     "data": {
      "application/vnd.jupyter.widget-view+json": {
       "model_id": "5736432b1c194490bc55a9d572d328bd",
       "version_major": 2,
       "version_minor": 0
      },
      "text/html": [
       "<p>Failed to display Jupyter Widget of type <code>interactive</code>.</p>\n",
       "<p>\n",
       "  If you're reading this message in the Jupyter Notebook or JupyterLab Notebook, it may mean\n",
       "  that the widgets JavaScript is still loading. If this message persists, it\n",
       "  likely means that the widgets JavaScript library is either not installed or\n",
       "  not enabled. See the <a href=\"https://ipywidgets.readthedocs.io/en/stable/user_install.html\">Jupyter\n",
       "  Widgets Documentation</a> for setup instructions.\n",
       "</p>\n",
       "<p>\n",
       "  If you're reading this message in another frontend (for example, a static\n",
       "  rendering on GitHub or <a href=\"https://nbviewer.jupyter.org/\">NBViewer</a>),\n",
       "  it may mean that your frontend doesn't currently support widgets.\n",
       "</p>\n"
      ],
      "text/plain": [
       "interactive(children=(Dropdown(description=u'yr', options=(2004, 2005, 2006, 2007, 2008, 2009, 2010, 2011), value=2004), Dropdown(description=u'col', options=(u'c000', u'ca01', u'ca02', u'ca03', u'ce01', u'ce02', u'ce03', u'cns01', u'cns02', u'cns03', u'cns04', u'cns05', u'cns06', u'cns07', u'cns08', u'cns09', u'cns10', u'cns11', u'cns12', u'cns13', u'cns14', u'cns15', u'cns16', u'cns17', u'cns18', u'cns19', u'cns20', u'cr01', u'cr02', u'cr03', u'cr04', u'cr05', u'cr07', u'ct01', u'ct02', u'cd01', u'cd02', u'cd03', u'cd04', u'cs01', u'cs02', u'cfa01', u'cfa02', u'cfa03', u'cfa04', u'cfa05', u'cfs01', u'cfs02', u'cfs03', u'cfs04', u'cfs05', u'createdate', u'countyfp', u'year'), value=u'c000'), Output()), _dom_classes=('widget-interact',))"
      ]
     },
     "metadata": {},
     "output_type": "display_data"
    },
    {
     "data": {
      "text/plain": [
       "<function __main__.plot_cnty>"
      ]
     },
     "execution_count": 10,
     "metadata": {},
     "output_type": "execute_result"
    }
   ],
   "source": [
    "def plot_cnty(yr, col): \n",
    "    f, ax = plt.subplots(1, figsize=(12,8))\n",
    "    # get specified data summarized by county\n",
    "    cnty_df = pd.merge(counties,\n",
    "                    df[df['year']==yr].groupby('countyfp')[col].sum().reset_index(), \n",
    "                    left_on='geoid', right_on='countyfp')\n",
    "    colmap = sns.cubehelix_palette(8, start=2, rot=0, dark=0, light=.95, as_cmap=True)\n",
    "    cnty_df.plot(col, ax=ax, legend=True, cmap=colmap) \n",
    "    \n",
    "    for idx, row in cnty_df.iterrows():\n",
    "        ax.annotate(row['name'], row['coords'],\n",
    "                     horizontalalignment='left', size='medium', color='white', \n",
    "                     weight='semibold',\n",
    "                   bbox=dict(boxstyle=\"round,pad=0.3\", fc=\"grey\", ec=\"k\", lw=0.5))\n",
    "    \n",
    "    ax.tick_params(\n",
    "        axis='both',          # changes apply to the x-axis\n",
    "        which='both',      # both major and minor ticks are affected\n",
    "        bottom='off',      # ticks along the bottom edge are off\n",
    "        top='off',         # ticks along the top edge are off\n",
    "        labelbottom='off', # labels along the bottom edge are off\n",
    "        labelleft='off')\n",
    "    \n",
    "    f.suptitle('{} in {} by county, KCMO'.format(col, yr))\n",
    "\n",
    "interact(plot_cnty,yr=df['year'].unique(), col=df.columns.tolist()[1:])"
   ]
  },
  {
   "cell_type": "code",
   "execution_count": 30,
   "metadata": {
    "extensions": {
     "jupyter_dashboards": {
      "version": 1,
      "views": {
       "grid_default": {
        "col": 6,
        "height": 21,
        "hidden": false,
        "row": 5,
        "width": 6
       },
       "report_default": {}
      }
     }
    }
   },
   "outputs": [
    {
     "data": {
      "application/vnd.jupyter.widget-view+json": {
       "model_id": "a95358f00f344d93b9711e608a4f5eb8",
       "version_major": 2,
       "version_minor": 0
      },
      "text/html": [
       "<p>Failed to display Jupyter Widget of type <code>interactive</code>.</p>\n",
       "<p>\n",
       "  If you're reading this message in the Jupyter Notebook or JupyterLab Notebook, it may mean\n",
       "  that the widgets JavaScript is still loading. If this message persists, it\n",
       "  likely means that the widgets JavaScript library is either not installed or\n",
       "  not enabled. See the <a href=\"https://ipywidgets.readthedocs.io/en/stable/user_install.html\">Jupyter\n",
       "  Widgets Documentation</a> for setup instructions.\n",
       "</p>\n",
       "<p>\n",
       "  If you're reading this message in another frontend (for example, a static\n",
       "  rendering on GitHub or <a href=\"https://nbviewer.jupyter.org/\">NBViewer</a>),\n",
       "  it may mean that your frontend doesn't currently support widgets.\n",
       "</p>\n"
      ],
      "text/plain": [
       "interactive(children=(Dropdown(description=u'yr', options=(2004, 2005, 2006, 2007, 2008, 2009, 2010, 2011), value=2004), Dropdown(description=u'col', options=(u'c000', u'ca01', u'ca02', u'ca03', u'ce01', u'ce02', u'ce03', u'cns01', u'cns02', u'cns03', u'cns04', u'cns05', u'cns06', u'cns07', u'cns08', u'cns09', u'cns10', u'cns11', u'cns12', u'cns13', u'cns14', u'cns15', u'cns16', u'cns17', u'cns18', u'cns19', u'cns20', u'cr01', u'cr02', u'cr03', u'cr04', u'cr05', u'cr07', u'ct01', u'ct02', u'cd01', u'cd02', u'cd03', u'cd04', u'cs01', u'cs02', u'cfa01', u'cfa02', u'cfa03', u'cfa04', u'cfa05', u'cfs01', u'cfs02', u'cfs03', u'cfs04', u'cfs05', u'createdate', u'countyfp', u'year', 'bg'), value=u'c000'), Output()), _dom_classes=('widget-interact',))"
      ]
     },
     "metadata": {},
     "output_type": "display_data"
    },
    {
     "data": {
      "text/plain": [
       "<function __main__.plot_cnty>"
      ]
     },
     "execution_count": 30,
     "metadata": {},
     "output_type": "execute_result"
    }
   ],
   "source": [
    "# plot counties\n",
    "def plot_cnty(yr, col): \n",
    "    f, ax = plt.subplots(1)#, figsize=(8,8))\n",
    "    # get specified data summarized by county\n",
    "    cnty_df = pd.merge(counties,\n",
    "                    df[df['year']==yr].groupby('countyfp')[col].sum().reset_index(), \n",
    "                    left_on='geoid', right_on='countyfp')\n",
    "    colmap = sns.cubehelix_palette(8, start=2, rot=0, dark=0, light=.95, as_cmap=True)\n",
    "    cnty_df.plot(col, ax=ax, legend=True, cmap=colmap) \n",
    "    \n",
    "    for idx, row in cnty_df.iterrows():\n",
    "        ax.annotate(row['name'], row['coords'],\n",
    "                     horizontalalignment='left', size='medium', color='white', \n",
    "                     weight='semibold',\n",
    "                   bbox=dict(boxstyle=\"round,pad=0.3\", fc=\"grey\", ec=\"k\", lw=0.5))\n",
    "    \n",
    "    ax.tick_params(\n",
    "        axis='both',          # changes apply to the x-axis\n",
    "        which='both',      # both major and minor ticks are affected\n",
    "        bottom='off',      # ticks along the bottom edge are off\n",
    "        top='off',         # ticks along the top edge are off\n",
    "        labelbottom='off', # labels along the bottom edge are off\n",
    "        labelleft='off')\n",
    "    \n",
    "    f.suptitle('{} in {} by county, KCMO'.format(col, yr))\n",
    "\n",
    "interact(plot_cnty,yr=df['year'].unique(), col=df.columns.tolist()[1:])"
   ]
  },
  {
   "cell_type": "code",
   "execution_count": 17,
   "metadata": {
    "extensions": {
     "jupyter_dashboards": {
      "version": 1,
      "views": {
       "grid_default": {
        "hidden": true
       },
       "report_default": {}
      }
     }
    }
   },
   "outputs": [],
   "source": [
    "blocks = _blkgrps()"
   ]
  },
  {
   "cell_type": "code",
   "execution_count": 19,
   "metadata": {
    "extensions": {
     "jupyter_dashboards": {
      "version": 1,
      "views": {
       "grid_default": {
        "hidden": true
       },
       "report_default": {}
      }
     }
    }
   },
   "outputs": [],
   "source": [
    "df['bg'] = df['w_geocode'].apply(lambda g: g[:12])"
   ]
  },
  {
   "cell_type": "code",
   "execution_count": 28,
   "metadata": {
    "extensions": {
     "jupyter_dashboards": {
      "version": 1,
      "views": {
       "grid_default": {
        "col": 0,
        "height": 21,
        "hidden": false,
        "row": 5,
        "width": 6
       },
       "report_default": {}
      }
     }
    },
    "scrolled": false
   },
   "outputs": [
    {
     "data": {
      "application/vnd.jupyter.widget-view+json": {
       "model_id": "f84f173dcf5f4660a2a7b83ae52a4fe3",
       "version_major": 2,
       "version_minor": 0
      },
      "text/html": [
       "<p>Failed to display Jupyter Widget of type <code>interactive</code>.</p>\n",
       "<p>\n",
       "  If you're reading this message in the Jupyter Notebook or JupyterLab Notebook, it may mean\n",
       "  that the widgets JavaScript is still loading. If this message persists, it\n",
       "  likely means that the widgets JavaScript library is either not installed or\n",
       "  not enabled. See the <a href=\"https://ipywidgets.readthedocs.io/en/stable/user_install.html\">Jupyter\n",
       "  Widgets Documentation</a> for setup instructions.\n",
       "</p>\n",
       "<p>\n",
       "  If you're reading this message in another frontend (for example, a static\n",
       "  rendering on GitHub or <a href=\"https://nbviewer.jupyter.org/\">NBViewer</a>),\n",
       "  it may mean that your frontend doesn't currently support widgets.\n",
       "</p>\n"
      ],
      "text/plain": [
       "interactive(children=(Dropdown(description=u'yr', options=(2004, 2005, 2006, 2007, 2008, 2009, 2010, 2011), value=2004), Dropdown(description=u'col', options=(u'c000', u'ca01', u'ca02', u'ca03', u'ce01', u'ce02', u'ce03', u'cns01', u'cns02', u'cns03', u'cns04', u'cns05', u'cns06', u'cns07', u'cns08', u'cns09', u'cns10', u'cns11', u'cns12', u'cns13', u'cns14', u'cns15', u'cns16', u'cns17', u'cns18', u'cns19', u'cns20', u'cr01', u'cr02', u'cr03', u'cr04', u'cr05', u'cr07', u'ct01', u'ct02', u'cd01', u'cd02', u'cd03', u'cd04', u'cs01', u'cs02', u'cfa01', u'cfa02', u'cfa03', u'cfa04', u'cfa05', u'cfs01', u'cfs02', u'cfs03', u'cfs04', u'cfs05', u'createdate'), value=u'c000'), Output()), _dom_classes=('widget-interact',))"
      ]
     },
     "metadata": {},
     "output_type": "display_data"
    },
    {
     "data": {
      "text/plain": [
       "<function __main__.plot_bg>"
      ]
     },
     "execution_count": 28,
     "metadata": {},
     "output_type": "execute_result"
    }
   ],
   "source": [
    "def plot_bg(yr, col): \n",
    "    sns.set_style('whitegrid')\n",
    "    f, ax = plt.subplots(1)#, figsize=(6,6))\n",
    "    # get specified data summarized by county\n",
    "    block_df = pd.merge(blocks,\n",
    "                    df[df['year']==yr].groupby('bg')[col].sum().reset_index(), \n",
    "                    left_on='blockgroup', right_on='bg')\n",
    "    colmap = sns.cubehelix_palette(8, start=2, rot=0, dark=0, light=.95, as_cmap=True)\n",
    "    counties.plot(ax=ax, color='white', edgecolor='grey')\n",
    "    block_df.plot(col, ax=ax, legend=True, cmap=colmap) \n",
    "    \n",
    "    for idx, row in counties.iterrows():\n",
    "        ax.annotate(row['name'], row['coords'],\n",
    "                     horizontalalignment='left', size='medium', color='white', \n",
    "                     weight='semibold',\n",
    "                   bbox=dict(boxstyle=\"round,pad=0.3\", fc=\"grey\", ec=\"k\", lw=0.5))\n",
    "    \n",
    "    ax.tick_params(\n",
    "        axis='both',          # changes apply to the x-axis\n",
    "        which='both',      # both major and minor ticks are affected\n",
    "        bottom='off',      # ticks along the bottom edge are off\n",
    "        top='off',         # ticks along the top edge are off\n",
    "        labelbottom='off', # labels along the bottom edge are off\n",
    "        labelleft='off')\n",
    "    \n",
    "    f.suptitle('{} in {} by Block Group, KCMO'.format(col, yr))\n",
    "\n",
    "interact(plot_bg,yr=df['year'].unique(), col=df.columns.tolist()[1:-3])"
   ]
  },
  {
   "cell_type": "code",
   "execution_count": 23,
   "metadata": {
    "extensions": {
     "jupyter_dashboards": {
      "version": 1,
      "views": {
       "grid_default": {
        "col": 0,
        "height": 9,
        "hidden": true,
        "row": 56,
        "width": 4
       },
       "report_default": {}
      }
     }
    }
   },
   "outputs": [
    {
     "name": "stdout",
     "output_type": "stream",
     "text": [
      "[u'w_geocode', u'c000', u'ca01', u'ca02', u'ca03', u'ce01', u'ce02', u'ce03', u'cns01', u'cns02', u'cns03', u'cns04', u'cns05', u'cns06', u'cns07', u'cns08', u'cns09', u'cns10', u'cns11', u'cns12', u'cns13', u'cns14', u'cns15', u'cns16', u'cns17', u'cns18', u'cns19', u'cns20', u'cr01', u'cr02', u'cr03', u'cr04', u'cr05', u'cr07', u'ct01', u'ct02', u'cd01', u'cd02', u'cd03', u'cd04', u'cs01', u'cs02', u'cfa01', u'cfa02', u'cfa03', u'cfa04', u'cfa05', u'cfs01', u'cfs02', u'cfs03', u'cfs04', u'cfs05', u'createdate', u'countyfp', u'year', 'bg']\n"
     ]
    }
   ],
   "source": [
    "print(df.columns.tolist())"
   ]
  },
  {
   "cell_type": "code",
   "execution_count": 24,
   "metadata": {
    "extensions": {
     "jupyter_dashboards": {
      "version": 1,
      "views": {
       "grid_default": {
        "hidden": true
       },
       "report_default": {}
      }
     }
    }
   },
   "outputs": [],
   "source": [
    "# data prep for compare_cols()\n",
    "dfpl = df.groupby('year')[df.columns.tolist()[1:-4]].sum().reset_index()\n",
    "dfpl2 = pd.melt(dfpl, id_vars='year', value_vars=df.columns.tolist()[1:-4])"
   ]
  },
  {
   "cell_type": "code",
   "execution_count": 32,
   "metadata": {
    "extensions": {
     "jupyter_dashboards": {
      "version": 1,
      "views": {
       "grid_default": {
        "col": 0,
        "height": 26,
        "hidden": false,
        "row": 26,
        "width": 12
       },
       "report_default": {}
      }
     }
    }
   },
   "outputs": [
    {
     "data": {
      "application/vnd.jupyter.widget-view+json": {
       "model_id": "a195668a274646a78364a622899841f5",
       "version_major": 2,
       "version_minor": 0
      },
      "text/html": [
       "<p>Failed to display Jupyter Widget of type <code>interactive</code>.</p>\n",
       "<p>\n",
       "  If you're reading this message in the Jupyter Notebook or JupyterLab Notebook, it may mean\n",
       "  that the widgets JavaScript is still loading. If this message persists, it\n",
       "  likely means that the widgets JavaScript library is either not installed or\n",
       "  not enabled. See the <a href=\"https://ipywidgets.readthedocs.io/en/stable/user_install.html\">Jupyter\n",
       "  Widgets Documentation</a> for setup instructions.\n",
       "</p>\n",
       "<p>\n",
       "  If you're reading this message in another frontend (for example, a static\n",
       "  rendering on GitHub or <a href=\"https://nbviewer.jupyter.org/\">NBViewer</a>),\n",
       "  it may mean that your frontend doesn't currently support widgets.\n",
       "</p>\n"
      ],
      "text/plain": [
       "interactive(children=(Dropdown(description=u'col1', options=(u'c000', u'ca01', u'ca02', u'ca03', u'ce01', u'ce02', u'ce03', u'cns01', u'cns02', u'cns03', u'cns04', u'cns05', u'cns06', u'cns07', u'cns08', u'cns09', u'cns10', u'cns11', u'cns12', u'cns13', u'cns14', u'cns15', u'cns16', u'cns17', u'cns18', u'cns19', u'cns20', u'cr01', u'cr02', u'cr03', u'cr04', u'cr05', u'cr07', u'ct01', u'ct02', u'cd01', u'cd02', u'cd03', u'cd04', u'cs01', u'cs02', u'cfa01', u'cfa02', u'cfa03', u'cfa04', u'cfa05', u'cfs01', u'cfs02', u'cfs03', u'cfs04', u'cfs05', u'createdate', u'countyfp'), value=u'c000'), Dropdown(description=u'col2', options=(u'c000', u'ca01', u'ca02', u'ca03', u'ce01', u'ce02', u'ce03', u'cns01', u'cns02', u'cns03', u'cns04', u'cns05', u'cns06', u'cns07', u'cns08', u'cns09', u'cns10', u'cns11', u'cns12', u'cns13', u'cns14', u'cns15', u'cns16', u'cns17', u'cns18', u'cns19', u'cns20', u'cr01', u'cr02', u'cr03', u'cr04', u'cr05', u'cr07', u'ct01', u'ct02', u'cd01', u'cd02', u'cd03', u'cd04', u'cs01', u'cs02', u'cfa01', u'cfa02', u'cfa03', u'cfa04', u'cfa05', u'cfs01', u'cfs02', u'cfs03', u'cfs04', u'cfs05', u'createdate', u'countyfp'), value=u'c000'), Output()), _dom_classes=('widget-interact',))"
      ]
     },
     "metadata": {},
     "output_type": "display_data"
    },
    {
     "data": {
      "text/plain": [
       "<function __main__.compare_cols>"
      ]
     },
     "execution_count": 32,
     "metadata": {},
     "output_type": "execute_result"
    }
   ],
   "source": [
    "def compare_cols(col1, col2):\n",
    "    \n",
    "    f, (ax1, ax2) = plt.subplots(1, 2, figsize=(12,6))\n",
    "    f.suptitle('Comparing {} and {} over time'.format(col1, col2))\n",
    "\n",
    "    sns.barplot('year', 'value', 'variable', data=dfpl2[dfpl2['variable'].isin([col2, col1])], ax=ax1)\n",
    "    ax1.set_ylabel('Count')\n",
    "#     ax1.set_title('{} and {}'.format(col1, col2))\n",
    "#     ax1.yaxis.set_major_formatter(FormatStrFormatter('%.0f'))\n",
    "\n",
    "    ax2.plot(dfpl[col1], dfpl[col2], 'bo--')\n",
    "#     sns.pointplot(x=col1, y=col2, hue='year', data=dfpl2, markers='o', linestyles='--', ax=ax2)\n",
    "    ax2.set_ylabel(col2)\n",
    "    ax2.set_xlabel(col1)\n",
    "\n",
    "    for i, r in dfpl.iterrows():\n",
    "        ax2.annotate(r['year'], (r[col1]+0.2, r[col2]+0.2),\n",
    "                     horizontalalignment='left', size='medium', color='black', \n",
    "                     weight='semibold')\n",
    "#         f.text(r['year'], r[col1]+0.2, r[col2]+0.2,\n",
    "#                      horizontalalignment='left', size='medium', color='black', \n",
    "#                      weight='semibold')\n",
    "#         ax2.arrow(r[col1], r[col2], r[col1]+0.5, r[col2]+0.5, shape='full',\n",
    "#                   lw=0, length_includes_head=True, head_width=.5)\n",
    "    # return f? or plt?\n",
    "#     return(f) # no, duplicates image - maybe because %matplotlib magic?\n",
    "\n",
    "interact(compare_cols, col1=df.columns.tolist()[1:-2], col2=df.columns.tolist()[1:-2])"
   ]
  },
  {
   "cell_type": "code",
   "execution_count": null,
   "metadata": {
    "extensions": {
     "jupyter_dashboards": {
      "version": 1,
      "views": {
       "grid_default": {
        "hidden": true
       },
       "report_default": {}
      }
     }
    }
   },
   "outputs": [],
   "source": []
  }
 ],
 "metadata": {
  "extensions": {
   "jupyter_dashboards": {
    "activeView": "grid_default",
    "version": 1,
    "views": {
     "grid_default": {
      "cellMargin": 10,
      "defaultCellHeight": 20,
      "maxColumns": 12,
      "name": "grid",
      "type": "grid"
     },
     "report_default": {
      "name": "report",
      "type": "report"
     }
    }
   }
  },
  "kernelspec": {
   "display_name": "Python 2",
   "language": "python",
   "name": "python2"
  },
  "language_info": {
   "codemirror_mode": {
    "name": "ipython",
    "version": 2
   },
   "file_extension": ".py",
   "mimetype": "text/x-python",
   "name": "python",
   "nbconvert_exporter": "python",
   "pygments_lexer": "ipython2",
   "version": "2.7.14"
  }
 },
 "nbformat": 4,
 "nbformat_minor": 2
}
