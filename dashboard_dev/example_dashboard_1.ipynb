{
 "cells": [
  {
   "cell_type": "markdown",
   "metadata": {
    "extensions": {
     "jupyter_dashboards": {
      "version": 1,
      "views": {
       "grid_default": {
        "col": 0,
        "height": 3,
        "hidden": false,
        "row": 0,
        "width": 10
       },
       "report_default": {
        "hidden": false
       }
      }
     }
    }
   },
   "source": [
    "## Test out notebook interactivity\n",
    "Workplace Area Characteristics"
   ]
  },
  {
   "cell_type": "code",
   "execution_count": 1,
   "metadata": {
    "extensions": {
     "jupyter_dashboards": {
      "version": 1,
      "views": {
       "grid_default": {
        "hidden": true
       },
       "report_default": {
        "hidden": true
       }
      }
     }
    }
   },
   "outputs": [],
   "source": [
    "# import packages for data manipulation\n",
    "from sqlalchemy import create_engine\n",
    "import pandas as pd\n",
    "import geopandas as gpd\n",
    "\n",
    "# packages for visualizations\n",
    "import matplotlib.pyplot as plt\n",
    "import seaborn as sns\n",
    "%matplotlib notebook\n",
    "\n",
    "# set Seaborn context/style\n",
    "sns.set_context(context='notebook')\n",
    "sns.set_style('darkgrid')\n",
    "\n",
    "# for interactivity\n",
    "from ipywidgets import *"
   ]
  },
  {
   "cell_type": "code",
   "execution_count": 2,
   "metadata": {
    "extensions": {
     "jupyter_dashboards": {
      "version": 1,
      "views": {
       "grid_default": {
        "hidden": true
       },
       "report_default": {
        "hidden": true
       }
      }
     }
    }
   },
   "outputs": [],
   "source": [
    "# database connection\n",
    "DB = 'template_postgis'\n",
    "USER = 'postgres'\n",
    "HOST = 'localhost'\n",
    "PORT = '5432'\n",
    "PW = 'postgres'\n",
    "\n",
    "DB_CONNECTION_STRING = 'postgresql://{username}:{password}@{host}:{port}/{database}'.format(\n",
    "username=USER, password=PW, host=HOST, port=PORT, database=DB)\n",
    "\n",
    "engine = create_engine(DB_CONNECTION_STRING)"
   ]
  },
  {
   "cell_type": "code",
   "execution_count": 3,
   "metadata": {
    "extensions": {
     "jupyter_dashboards": {
      "version": 1,
      "views": {
       "grid_default": {
        "hidden": true
       },
       "report_default": {
        "hidden": true
       }
      }
     }
    }
   },
   "outputs": [],
   "source": [
    "# function to get data - cbsafp = '28140' is KCMO metro area\n",
    "def getWAC(seg='s000', jt='jt01', years=xrange(2002,2016), cbsafp = '28140'):\n",
    "    # to pull data from database\n",
    "    DFs = []\n",
    "    # get data\n",
    "    for year in years:\n",
    "        qry = \"\"\"\n",
    "        SELECT *, left(w_geocode, 5) countyfp, {YR} AS year \n",
    "        FROM lodes.mo_wac_{SEG}_{JT}_{YR}\n",
    "        WHERE left(w_geocode, 5) \n",
    "        IN (SELECT geoid FROM tl_2016_us_county WHERE cbsafp = '{CBSA}')\n",
    "        \"\"\".format(SEG=seg, JT=jt, YR=year, CBSA=cbsafp)\n",
    "        df = pd.read_sql(qry, engine)\n",
    "#         df.drop(columns='createdate', inplace=True)\n",
    "#         df['year'] = year\n",
    "        DFs.append(df)\n",
    "    # combine DFs into single dataframe\n",
    "    df = pd.concat(DFs)\n",
    "    return(df)"
   ]
  },
  {
   "cell_type": "code",
   "execution_count": 4,
   "metadata": {
    "extensions": {
     "jupyter_dashboards": {
      "version": 1,
      "views": {
       "grid_default": {
        "col": 4,
        "height": 7,
        "hidden": true,
        "row": 0,
        "width": 4
       },
       "report_default": {
        "hidden": true
       }
      }
     }
    }
   },
   "outputs": [
    {
     "data": {
      "text/plain": [
       "2006    10502\n",
       "2008    10267\n",
       "2007    10240\n",
       "2009    10225\n",
       "2010    10110\n",
       "2013     8587\n",
       "2012     8494\n",
       "2011     8137\n",
       "Name: year, dtype: int64"
      ]
     },
     "execution_count": 4,
     "metadata": {},
     "output_type": "execute_result"
    }
   ],
   "source": [
    "df = getWAC(years=xrange(2006,2014))\n",
    "df.year.value_counts()"
   ]
  },
  {
   "cell_type": "markdown",
   "metadata": {
    "extensions": {
     "jupyter_dashboards": {
      "version": 1,
      "views": {
       "grid_default": {
        "col": 0,
        "height": 6,
        "hidden": true,
        "row": 6,
        "width": 12
       },
       "report_default": {
        "hidden": true
       }
      }
     }
    }
   },
   "source": [
    "added following CRS to database to align with KCMO standard, from http://spatialreference.org/ref/esri/102698/postgis/\n",
    "\n",
    "> INSERT into spatial_ref_sys (srid, auth_name, auth_srid, proj4text, srtext) values ( 9102698, 'esri', 102698, '+proj=tmerc +lat_0=36.16666666666666 +lon_0=-94.5 +k=0.9999411764705882 +x_0=850000 +y_0=0 +ellps=GRS80 +datum=NAD83 +to_meter=0.3048006096012192 +no_defs ', 'PROJCS[\"NAD_1983_StatePlane_Missouri_West_FIPS_2403_Feet\",GEOGCS[\"GCS_North_American_1983\",DATUM[\"North_American_Datum_1983\",SPHEROID[\"GRS_1980\",6378137,298.257222101]],PRIMEM[\"Greenwich\",0],UNIT[\"Degree\",0.017453292519943295]],PROJECTION[\"Transverse_Mercator\"],PARAMETER[\"False_Easting\",2788708.333333333],PARAMETER[\"False_Northing\",0],PARAMETER[\"Central_Meridian\",-94.5],PARAMETER[\"Scale_Factor\",0.9999411764705882],PARAMETER[\"Latitude_Of_Origin\",36.16666666666666],UNIT[\"Foot_US\",0.30480060960121924],AUTHORITY[\"EPSG\",\"102698\"]]');"
   ]
  },
  {
   "cell_type": "code",
   "execution_count": 5,
   "metadata": {
    "extensions": {
     "jupyter_dashboards": {
      "version": 1,
      "views": {
       "grid_default": {
        "hidden": true
       },
       "report_default": {
        "hidden": true
       }
      }
     }
    }
   },
   "outputs": [],
   "source": [
    "# get counties for map\n",
    "\n",
    "qry = \"\"\"\n",
    "SELECT geoid, name,\n",
    "    ST_Transform(geom, 102698) geom \n",
    "FROM tl_2016_us_county \n",
    "WHERE cbsafp = '{CBSA}' AND statefp = '29'\n",
    "\"\"\".format(CBSA='28140')\n",
    "\n",
    "counties = gpd.read_postgis(qry, engine, geom_col='geom')\n",
    "counties['coords'] = counties.geometry.apply(lambda x: x.representative_point().coords[0])"
   ]
  },
  {
   "cell_type": "code",
   "execution_count": 6,
   "metadata": {
    "extensions": {
     "jupyter_dashboards": {
      "version": 1,
      "views": {
       "grid_default": {
        "col": 0,
        "height": 11,
        "hidden": true,
        "row": 17,
        "width": 4
       },
       "report_default": {
        "hidden": true
       }
      }
     }
    }
   },
   "outputs": [
    {
     "data": {
      "text/html": [
       "<div>\n",
       "<style scoped>\n",
       "    .dataframe tbody tr th:only-of-type {\n",
       "        vertical-align: middle;\n",
       "    }\n",
       "\n",
       "    .dataframe tbody tr th {\n",
       "        vertical-align: top;\n",
       "    }\n",
       "\n",
       "    .dataframe thead th {\n",
       "        text-align: right;\n",
       "    }\n",
       "</style>\n",
       "<table border=\"1\" class=\"dataframe\">\n",
       "  <thead>\n",
       "    <tr style=\"text-align: right;\">\n",
       "      <th></th>\n",
       "      <th>geoid</th>\n",
       "      <th>name</th>\n",
       "      <th>geom</th>\n",
       "      <th>coords</th>\n",
       "    </tr>\n",
       "  </thead>\n",
       "  <tbody>\n",
       "    <tr>\n",
       "      <th>0</th>\n",
       "      <td>29037</td>\n",
       "      <td>Cass</td>\n",
       "      <td>(POLYGON ((2757711.046145708 944487.779166155,...</td>\n",
       "      <td>(2827582.76366, 902996.782006)</td>\n",
       "    </tr>\n",
       "    <tr>\n",
       "      <th>1</th>\n",
       "      <td>29165</td>\n",
       "      <td>Platte</td>\n",
       "      <td>(POLYGON ((2672765.821989374 1160319.813960498...</td>\n",
       "      <td>(2716459.28694, 1157245.93518)</td>\n",
       "    </tr>\n",
       "    <tr>\n",
       "      <th>2</th>\n",
       "      <td>29177</td>\n",
       "      <td>Ray</td>\n",
       "      <td>(POLYGON ((2870211.913921144 1128467.049151529...</td>\n",
       "      <td>(2934245.1651, 1152428.64077)</td>\n",
       "    </tr>\n",
       "    <tr>\n",
       "      <th>3</th>\n",
       "      <td>29107</td>\n",
       "      <td>Lafayette</td>\n",
       "      <td>(POLYGON ((2899444.881616506 1033552.724563697...</td>\n",
       "      <td>(2988208.77351, 1069649.14907)</td>\n",
       "    </tr>\n",
       "    <tr>\n",
       "      <th>4</th>\n",
       "      <td>29025</td>\n",
       "      <td>Caldwell</td>\n",
       "      <td>(POLYGON ((2871479.595406072 1287479.497680248...</td>\n",
       "      <td>(2934492.20179, 1271114.0081)</td>\n",
       "    </tr>\n",
       "  </tbody>\n",
       "</table>\n",
       "</div>"
      ],
      "text/plain": [
       "   geoid       name                                               geom  \\\n",
       "0  29037       Cass  (POLYGON ((2757711.046145708 944487.779166155,...   \n",
       "1  29165     Platte  (POLYGON ((2672765.821989374 1160319.813960498...   \n",
       "2  29177        Ray  (POLYGON ((2870211.913921144 1128467.049151529...   \n",
       "3  29107  Lafayette  (POLYGON ((2899444.881616506 1033552.724563697...   \n",
       "4  29025   Caldwell  (POLYGON ((2871479.595406072 1287479.497680248...   \n",
       "\n",
       "                           coords  \n",
       "0  (2827582.76366, 902996.782006)  \n",
       "1  (2716459.28694, 1157245.93518)  \n",
       "2   (2934245.1651, 1152428.64077)  \n",
       "3  (2988208.77351, 1069649.14907)  \n",
       "4   (2934492.20179, 1271114.0081)  "
      ]
     },
     "execution_count": 6,
     "metadata": {},
     "output_type": "execute_result"
    }
   ],
   "source": [
    "counties.head()"
   ]
  },
  {
   "cell_type": "code",
   "execution_count": 25,
   "metadata": {
    "extensions": {
     "jupyter_dashboards": {
      "version": 1,
      "views": {
       "grid_default": {
        "hidden": true
       },
       "report_default": {}
      }
     }
    }
   },
   "outputs": [],
   "source": [
    "q = \"\"\"\n",
    "SELECT column_name FROM information_schema.columns \n",
    "WHERE table_name = 'tl_2016_us_county';\n",
    "\"\"\"\n",
    "# pd.read_sql(q, engine)"
   ]
  },
  {
   "cell_type": "code",
   "execution_count": 7,
   "metadata": {
    "extensions": {
     "jupyter_dashboards": {
      "version": 1,
      "views": {
       "grid_default": {
        "col": 0,
        "height": 17,
        "hidden": false,
        "row": 3,
        "width": 6
       },
       "report_default": {
        "hidden": false
       }
      }
     }
    }
   },
   "outputs": [
    {
     "data": {
      "application/vnd.jupyter.widget-view+json": {
       "model_id": "4eac7916047f46a1a6489782e41e81cc",
       "version_major": 2,
       "version_minor": 0
      },
      "text/html": [
       "<p>Failed to display Jupyter Widget of type <code>interactive</code>.</p>\n",
       "<p>\n",
       "  If you're reading this message in the Jupyter Notebook or JupyterLab Notebook, it may mean\n",
       "  that the widgets JavaScript is still loading. If this message persists, it\n",
       "  likely means that the widgets JavaScript library is either not installed or\n",
       "  not enabled. See the <a href=\"https://ipywidgets.readthedocs.io/en/stable/user_install.html\">Jupyter\n",
       "  Widgets Documentation</a> for setup instructions.\n",
       "</p>\n",
       "<p>\n",
       "  If you're reading this message in another frontend (for example, a static\n",
       "  rendering on GitHub or <a href=\"https://nbviewer.jupyter.org/\">NBViewer</a>),\n",
       "  it may mean that your frontend doesn't currently support widgets.\n",
       "</p>\n"
      ],
      "text/plain": [
       "interactive(children=(Dropdown(description=u'yr', options=(2006, 2007, 2008, 2009, 2010, 2011, 2012, 2013), value=2006), Dropdown(description=u'col', options=(u'c000', u'ca01', u'ca02', u'ca03', u'ce01', u'ce02', u'ce03', u'cns01', u'cns02', u'cns03', u'cns04', u'cns05', u'cns06', u'cns07', u'cns08', u'cns09', u'cns10', u'cns11', u'cns12', u'cns13', u'cns14', u'cns15', u'cns16', u'cns17', u'cns18', u'cns19', u'cns20', u'cr01', u'cr02', u'cr03', u'cr04', u'cr05', u'cr07', u'ct01', u'ct02', u'cd01', u'cd02', u'cd03', u'cd04', u'cs01', u'cs02', u'cfa01', u'cfa02', u'cfa03', u'cfa04', u'cfa05', u'cfs01', u'cfs02', u'cfs03', u'cfs04', u'cfs05', u'createdate', u'countyfp', u'year'), value=u'c000'), Output()), _dom_classes=('widget-interact',))"
      ]
     },
     "metadata": {},
     "output_type": "display_data"
    },
    {
     "data": {
      "text/plain": [
       "<function __main__.plot_cnty>"
      ]
     },
     "execution_count": 7,
     "metadata": {},
     "output_type": "execute_result"
    }
   ],
   "source": [
    "def plot_cnty(yr, col): \n",
    "    sns.set_style('whitegrid')\n",
    "    f, ax = plt.subplots(1, figsize=(12,8))\n",
    "    # get specified data summarized by county\n",
    "    cnty_df = pd.merge(counties,\n",
    "                    df[df['year']==yr].groupby('countyfp')[col].sum().reset_index(), \n",
    "                    left_on='geoid', right_on='countyfp')\n",
    "    colmap = sns.cubehelix_palette(8, start=2, rot=0, dark=0, light=.95, as_cmap=True)\n",
    "    cnty_df.plot(col, ax=ax, legend=True, cmap=colmap) \n",
    "    \n",
    "    for idx, row in cnty_df.iterrows():\n",
    "        ax.annotate(row['name'], row['coords'],\n",
    "                     horizontalalignment='left', size='medium', color='white', \n",
    "                     weight='semibold',\n",
    "                   bbox=dict(boxstyle=\"round,pad=0.3\", fc=\"grey\", ec=\"k\", lw=0.5))\n",
    "    \n",
    "    ax.tick_params(\n",
    "        axis='both',          # changes apply to the x-axis\n",
    "        which='both',      # both major and minor ticks are affected\n",
    "        bottom='off',      # ticks along the bottom edge are off\n",
    "        top='off',         # ticks along the top edge are off\n",
    "        labelbottom='off', # labels along the bottom edge are off\n",
    "        labelleft='off')\n",
    "    \n",
    "    f.suptitle('{} in {} by county, KCMO'.format(col, yr))\n",
    "\n",
    "interact(plot_cnty,yr=df['year'].unique(), col=df.columns.tolist()[1:])"
   ]
  },
  {
   "cell_type": "markdown",
   "metadata": {
    "extensions": {
     "jupyter_dashboards": {
      "version": 1,
      "views": {
       "grid_default": {
        "col": 0,
        "height": 26,
        "hidden": true,
        "row": 6,
        "width": 12
       },
       "report_default": {
        "hidden": true
       }
      }
     }
    }
   },
   "source": [
    "![county map example](lodes_example_county_map.png)"
   ]
  },
  {
   "cell_type": "code",
   "execution_count": 32,
   "metadata": {
    "extensions": {
     "jupyter_dashboards": {
      "version": 1,
      "views": {
       "grid_default": {
        "hidden": true
       },
       "report_default": {}
      }
     }
    }
   },
   "outputs": [],
   "source": [
    "# get BlockGroups for map\n",
    "\n",
    "qry = \"\"\"\n",
    "SELECT blockgroup,\n",
    "    ST_Transform(geom, 102698) geom \n",
    "FROM tl_2016_29_blkgrp\n",
    "WHERE left(blockgroup, 5) \n",
    "    IN (SELECT geoid\n",
    "        FROM tl_2016_us_county \n",
    "        WHERE cbsafp =  '{CBSA}')\n",
    "\"\"\".format(CBSA='28140')\n",
    "\n",
    "blocks = gpd.read_postgis(qry, engine, geom_col='geom')\n",
    "blocks['coords'] = blocks.geometry.apply(lambda x: x.representative_point().coords[0])"
   ]
  },
  {
   "cell_type": "code",
   "execution_count": 29,
   "metadata": {
    "extensions": {
     "jupyter_dashboards": {
      "version": 1,
      "views": {
       "grid_default": {
        "col": 0,
        "height": 9,
        "hidden": true,
        "row": 24,
        "width": 4
       },
       "report_default": {}
      }
     }
    }
   },
   "outputs": [
    {
     "name": "stdout",
     "output_type": "stream",
     "text": [
      "[u'w_geocode', u'c000', u'ca01', u'ca02', u'ca03', u'ce01', u'ce02', u'ce03', u'cns01', u'cns02', u'cns03', u'cns04', u'cns05', u'cns06', u'cns07', u'cns08', u'cns09', u'cns10', u'cns11', u'cns12', u'cns13', u'cns14', u'cns15', u'cns16', u'cns17', u'cns18', u'cns19', u'cns20', u'cr01', u'cr02', u'cr03', u'cr04', u'cr05', u'cr07', u'ct01', u'ct02', u'cd01', u'cd02', u'cd03', u'cd04', u'cs01', u'cs02', u'cfa01', u'cfa02', u'cfa03', u'cfa04', u'cfa05', u'cfs01', u'cfs02', u'cfs03', u'cfs04', u'cfs05', u'createdate', u'countyfp', u'year']\n"
     ]
    }
   ],
   "source": [
    "print(df.columns.tolist())"
   ]
  },
  {
   "cell_type": "code",
   "execution_count": 30,
   "metadata": {
    "extensions": {
     "jupyter_dashboards": {
      "version": 1,
      "views": {
       "grid_default": {
        "hidden": true
       },
       "report_default": {}
      }
     }
    }
   },
   "outputs": [],
   "source": [
    "# add blockgroup code to df\n",
    "df['bg'] = df['w_geocode'].apply(lambda g: g[:12])"
   ]
  },
  {
   "cell_type": "code",
   "execution_count": 34,
   "metadata": {
    "extensions": {
     "jupyter_dashboards": {
      "version": 1,
      "views": {
       "grid_default": {
        "col": 6,
        "height": 17,
        "hidden": false,
        "row": 3,
        "width": 6
       },
       "report_default": {}
      }
     }
    }
   },
   "outputs": [
    {
     "data": {
      "application/vnd.jupyter.widget-view+json": {
       "model_id": "3e9c418a1fc84bc1afb3c56f1fea74e1",
       "version_major": 2,
       "version_minor": 0
      },
      "text/html": [
       "<p>Failed to display Jupyter Widget of type <code>interactive</code>.</p>\n",
       "<p>\n",
       "  If you're reading this message in the Jupyter Notebook or JupyterLab Notebook, it may mean\n",
       "  that the widgets JavaScript is still loading. If this message persists, it\n",
       "  likely means that the widgets JavaScript library is either not installed or\n",
       "  not enabled. See the <a href=\"https://ipywidgets.readthedocs.io/en/stable/user_install.html\">Jupyter\n",
       "  Widgets Documentation</a> for setup instructions.\n",
       "</p>\n",
       "<p>\n",
       "  If you're reading this message in another frontend (for example, a static\n",
       "  rendering on GitHub or <a href=\"https://nbviewer.jupyter.org/\">NBViewer</a>),\n",
       "  it may mean that your frontend doesn't currently support widgets.\n",
       "</p>\n"
      ],
      "text/plain": [
       "interactive(children=(Dropdown(description=u'yr', options=(2006, 2007, 2008, 2009, 2010, 2011, 2012, 2013), value=2006), Dropdown(description=u'col', options=(u'c000', u'ca01', u'ca02', u'ca03', u'ce01', u'ce02', u'ce03', u'cns01', u'cns02', u'cns03', u'cns04', u'cns05', u'cns06', u'cns07', u'cns08', u'cns09', u'cns10', u'cns11', u'cns12', u'cns13', u'cns14', u'cns15', u'cns16', u'cns17', u'cns18', u'cns19', u'cns20', u'cr01', u'cr02', u'cr03', u'cr04', u'cr05', u'cr07', u'ct01', u'ct02', u'cd01', u'cd02', u'cd03', u'cd04', u'cs01', u'cs02', u'cfa01', u'cfa02', u'cfa03', u'cfa04', u'cfa05', u'cfs01', u'cfs02', u'cfs03', u'cfs04', u'cfs05', u'createdate', u'countyfp', u'year', 'bg'), value=u'c000'), Output()), _dom_classes=('widget-interact',))"
      ]
     },
     "metadata": {},
     "output_type": "display_data"
    },
    {
     "data": {
      "text/plain": [
       "<function __main__.plot_block>"
      ]
     },
     "execution_count": 34,
     "metadata": {},
     "output_type": "execute_result"
    }
   ],
   "source": [
    "def plot_bg(yr, col): \n",
    "    sns.set_style('whitegrid')\n",
    "    f, ax = plt.subplots(1, figsize=(12,8))\n",
    "    # get specified data summarized by county\n",
    "    block_df = pd.merge(blocks,\n",
    "                    df[df['year']==yr].groupby('bg')[col].sum().reset_index(), \n",
    "                    left_on='blockgroup', right_on='bg')\n",
    "    colmap = sns.cubehelix_palette(8, start=2, rot=0, dark=0, light=.95, as_cmap=True)\n",
    "    counties.plot(ax=ax, color='white', edgecolor='grey')\n",
    "    block_df.plot(col, ax=ax, legend=True, cmap=colmap) \n",
    "    \n",
    "    for idx, row in counties.iterrows():\n",
    "        ax.annotate(row['name'], row['coords'],\n",
    "                     horizontalalignment='left', size='medium', color='white', \n",
    "                     weight='semibold',\n",
    "                   bbox=dict(boxstyle=\"round,pad=0.3\", fc=\"grey\", ec=\"k\", lw=0.5))\n",
    "    \n",
    "    ax.tick_params(\n",
    "        axis='both',          # changes apply to the x-axis\n",
    "        which='both',      # both major and minor ticks are affected\n",
    "        bottom='off',      # ticks along the bottom edge are off\n",
    "        top='off',         # ticks along the top edge are off\n",
    "        labelbottom='off', # labels along the bottom edge are off\n",
    "        labelleft='off')\n",
    "    \n",
    "    f.suptitle('{} in {} by Block Group, KCMO'.format(col, yr))\n",
    "\n",
    "interact(plot_bg,yr=df['year'].unique(), col=df.columns.tolist()[1:])"
   ]
  },
  {
   "cell_type": "code",
   "execution_count": 8,
   "metadata": {
    "extensions": {
     "jupyter_dashboards": {
      "version": 1,
      "views": {
       "grid_default": {
        "hidden": true
       },
       "report_default": {
        "hidden": true
       }
      }
     }
    }
   },
   "outputs": [],
   "source": [
    "# prep data for comparison of variables over time\n",
    "dfpl = df.groupby('year')[df.columns.tolist()[1:-3]].sum().reset_index()\n",
    "dfpl2 = pd.melt(dfpl, id_vars='year', value_vars=df.columns.tolist()[1:-3])"
   ]
  },
  {
   "cell_type": "code",
   "execution_count": 9,
   "metadata": {
    "extensions": {
     "jupyter_dashboards": {
      "version": 1,
      "views": {
       "grid_default": {
        "col": 0,
        "height": 10,
        "hidden": true,
        "row": 24,
        "width": 4
       },
       "report_default": {}
      }
     }
    }
   },
   "outputs": [
    {
     "data": {
      "text/plain": [
       "<matplotlib.axes._subplots.AxesSubplot at 0x11dadc110>"
      ]
     },
     "execution_count": 9,
     "metadata": {},
     "output_type": "execute_result"
    },
    {
     "data": {
      "image/png": "[encoded data removed]",
      "text/plain": [
       "<matplotlib.figure.Figure at 0x11c00df10>"
      ]
     },
     "metadata": {},
     "output_type": "display_data"
    }
   ],
   "source": [
    "# sns.pointplot('ce01', 'ca02', 'year', data=df, markers='o')#, linestyles='--', )"
   ]
  },
  {
   "cell_type": "code",
   "execution_count": 20,
   "metadata": {
    "extensions": {
     "jupyter_dashboards": {
      "version": 1,
      "views": {
       "grid_default": {
        "col": 4,
        "height": 9,
        "hidden": true,
        "row": 30,
        "width": 4
       },
       "report_default": {}
      }
     }
    }
   },
   "outputs": [
    {
     "data": {
      "text/plain": [
       "<matplotlib.axes._subplots.AxesSubplot at 0x11e9c5fd0>"
      ]
     },
     "execution_count": 20,
     "metadata": {},
     "output_type": "execute_result"
    },
    {
     "data": {
      "image/png": "[encoded data removed]",
      "text/plain": [
       "<matplotlib.figure.Figure at 0x11e9bb4d0>"
      ]
     },
     "metadata": {},
     "output_type": "display_data"
    }
   ],
   "source": [
    "col1='ce01'\n",
    "col2='ce03'\n",
    "\n",
    "f, (ax1, ax2) = plt.subplots(1, 2, figsize=(12,6))\n",
    "ax1.plot(dfpl[col1], dfpl[col2], 'bo--')\n",
    "sns.pointplot(x=col1, y=col2, data=dfpl, order='year', markers='o', linestyles='--', ax=ax2)\n",
    "\n",
    "# for i, r in dfpl.iterrows():\n",
    "# #     ax2.annotate(r['year'], (r[col1]+0.2, r[col2]+0.2),\n",
    "# #                  horizontalalignment='left', size='medium', color='black', \n",
    "# #                  weight='semibold')\n",
    "#     f.text(r['year'], r[col1]+0.2, r[col2]+0.2,\n",
    "#                      horizontalalignment='left', size='medium', color='black', \n",
    "#                      weight='semibold')\n",
    "#     g.map(plt.annotate, s=r['year'], xy=(r[col1]+0.2, r[col2]+0.2))"
   ]
  },
  {
   "cell_type": "code",
   "execution_count": 19,
   "metadata": {
    "extensions": {
     "jupyter_dashboards": {
      "version": 1,
      "views": {
       "grid_default": {
        "col": 8,
        "height": 10,
        "hidden": true,
        "row": 30,
        "width": 4
       },
       "report_default": {}
      }
     }
    }
   },
   "outputs": [
    {
     "data": {
      "text/html": [
       "<div>\n",
       "<style scoped>\n",
       "    .dataframe tbody tr th:only-of-type {\n",
       "        vertical-align: middle;\n",
       "    }\n",
       "\n",
       "    .dataframe tbody tr th {\n",
       "        vertical-align: top;\n",
       "    }\n",
       "\n",
       "    .dataframe thead th {\n",
       "        text-align: right;\n",
       "    }\n",
       "</style>\n",
       "<table border=\"1\" class=\"dataframe\">\n",
       "  <thead>\n",
       "    <tr style=\"text-align: right;\">\n",
       "      <th></th>\n",
       "      <th>year</th>\n",
       "      <th>ce01</th>\n",
       "      <th>ce03</th>\n",
       "    </tr>\n",
       "  </thead>\n",
       "  <tbody>\n",
       "    <tr>\n",
       "      <th>0</th>\n",
       "      <td>2006</td>\n",
       "      <td>115522</td>\n",
       "      <td>176863</td>\n",
       "    </tr>\n",
       "    <tr>\n",
       "      <th>1</th>\n",
       "      <td>2007</td>\n",
       "      <td>112442</td>\n",
       "      <td>185130</td>\n",
       "    </tr>\n",
       "    <tr>\n",
       "      <th>2</th>\n",
       "      <td>2008</td>\n",
       "      <td>110347</td>\n",
       "      <td>195344</td>\n",
       "    </tr>\n",
       "    <tr>\n",
       "      <th>3</th>\n",
       "      <td>2009</td>\n",
       "      <td>105053</td>\n",
       "      <td>189921</td>\n",
       "    </tr>\n",
       "    <tr>\n",
       "      <th>4</th>\n",
       "      <td>2010</td>\n",
       "      <td>101468</td>\n",
       "      <td>202611</td>\n",
       "    </tr>\n",
       "    <tr>\n",
       "      <th>5</th>\n",
       "      <td>2011</td>\n",
       "      <td>102998</td>\n",
       "      <td>202301</td>\n",
       "    </tr>\n",
       "    <tr>\n",
       "      <th>6</th>\n",
       "      <td>2012</td>\n",
       "      <td>105908</td>\n",
       "      <td>208052</td>\n",
       "    </tr>\n",
       "    <tr>\n",
       "      <th>7</th>\n",
       "      <td>2013</td>\n",
       "      <td>106817</td>\n",
       "      <td>213290</td>\n",
       "    </tr>\n",
       "  </tbody>\n",
       "</table>\n",
       "</div>"
      ],
      "text/plain": [
       "   year    ce01    ce03\n",
       "0  2006  115522  176863\n",
       "1  2007  112442  185130\n",
       "2  2008  110347  195344\n",
       "3  2009  105053  189921\n",
       "4  2010  101468  202611\n",
       "5  2011  102998  202301\n",
       "6  2012  105908  208052\n",
       "7  2013  106817  213290"
      ]
     },
     "execution_count": 19,
     "metadata": {},
     "output_type": "execute_result"
    }
   ],
   "source": [
    "dfpl.loc[:,('year', 'ce01', 'ce03')]"
   ]
  },
  {
   "cell_type": "code",
   "execution_count": 37,
   "metadata": {
    "extensions": {
     "jupyter_dashboards": {
      "version": 1,
      "views": {
       "grid_default": {
        "col": 1,
        "height": 18,
        "hidden": false,
        "row": 20,
        "width": 9
       },
       "report_default": {
        "hidden": false
       }
      }
     }
    }
   },
   "outputs": [
    {
     "data": {
      "application/vnd.jupyter.widget-view+json": {
       "model_id": "060b9c602a01449f92d2153fdbbf5fe0",
       "version_major": 2,
       "version_minor": 0
      },
      "text/html": [
       "<p>Failed to display Jupyter Widget of type <code>interactive</code>.</p>\n",
       "<p>\n",
       "  If you're reading this message in the Jupyter Notebook or JupyterLab Notebook, it may mean\n",
       "  that the widgets JavaScript is still loading. If this message persists, it\n",
       "  likely means that the widgets JavaScript library is either not installed or\n",
       "  not enabled. See the <a href=\"https://ipywidgets.readthedocs.io/en/stable/user_install.html\">Jupyter\n",
       "  Widgets Documentation</a> for setup instructions.\n",
       "</p>\n",
       "<p>\n",
       "  If you're reading this message in another frontend (for example, a static\n",
       "  rendering on GitHub or <a href=\"https://nbviewer.jupyter.org/\">NBViewer</a>),\n",
       "  it may mean that your frontend doesn't currently support widgets.\n",
       "</p>\n"
      ],
      "text/plain": [
       "interactive(children=(Dropdown(description=u'col1', options=(u'c000', u'ca01', u'ca02', u'ca03', u'ce01', u'ce02', u'ce03', u'cns01', u'cns02', u'cns03', u'cns04', u'cns05', u'cns06', u'cns07', u'cns08', u'cns09', u'cns10', u'cns11', u'cns12', u'cns13', u'cns14', u'cns15', u'cns16', u'cns17', u'cns18', u'cns19', u'cns20', u'cr01', u'cr02', u'cr03', u'cr04', u'cr05', u'cr07', u'ct01', u'ct02', u'cd01', u'cd02', u'cd03', u'cd04', u'cs01', u'cs02', u'cfa01', u'cfa02', u'cfa03', u'cfa04', u'cfa05', u'cfs01', u'cfs02', u'cfs03', u'cfs04', u'cfs05', u'createdate', u'countyfp'), value=u'c000'), Dropdown(description=u'col2', options=(u'c000', u'ca01', u'ca02', u'ca03', u'ce01', u'ce02', u'ce03', u'cns01', u'cns02', u'cns03', u'cns04', u'cns05', u'cns06', u'cns07', u'cns08', u'cns09', u'cns10', u'cns11', u'cns12', u'cns13', u'cns14', u'cns15', u'cns16', u'cns17', u'cns18', u'cns19', u'cns20', u'cr01', u'cr02', u'cr03', u'cr04', u'cr05', u'cr07', u'ct01', u'ct02', u'cd01', u'cd02', u'cd03', u'cd04', u'cs01', u'cs02', u'cfa01', u'cfa02', u'cfa03', u'cfa04', u'cfa05', u'cfs01', u'cfs02', u'cfs03', u'cfs04', u'cfs05', u'createdate', u'countyfp'), value=u'c000'), Output()), _dom_classes=('widget-interact',))"
      ]
     },
     "metadata": {},
     "output_type": "display_data"
    },
    {
     "data": {
      "text/plain": [
       "<function __main__.compare_cols>"
      ]
     },
     "execution_count": 37,
     "metadata": {},
     "output_type": "execute_result"
    }
   ],
   "source": [
    "## compare two columns in two side by side graphs: bar chart over time and scatter plot of col1 v col2 over time\n",
    "\n",
    "# @interact(compare_cols, col1=df.columns.tolist()[1:-2], col2=df.columns.tolist()[1:-2])\n",
    "def compare_cols(col1, col2):\n",
    "    \n",
    "    f, (ax1, ax2) = plt.subplots(1, 2, figsize=(12,6))\n",
    "    f.suptitle('Comparing {} and {} over time'.format(col1, col2))\n",
    "\n",
    "    sns.barplot('year', 'value', 'variable', data=dfpl2[dfpl2['variable'].isin([col2, col1])], ax=ax1)\n",
    "    ax1.set_ylabel('Count')\n",
    "#     ax1.set_title('{} and {}'.format(col1, col2))\n",
    "#     ax1.yaxis.set_major_formatter(FormatStrFormatter('%.0f'))\n",
    "\n",
    "    ax2.plot(dfpl[col1], dfpl[col2], 'bo--')\n",
    "#     sns.pointplot(x=col1, y=col2, hue='year', data=dfpl2, markers='o', linestyles='--', ax=ax2)\n",
    "    ax2.set_ylabel(col2)\n",
    "    ax2.set_xlabel(col1)\n",
    "\n",
    "    for i, r in dfpl.iterrows():\n",
    "        ax2.annotate(r['year'], (r[col1]+0.2, r[col2]+0.2),\n",
    "                     horizontalalignment='left', size='medium', color='black', \n",
    "                     weight='semibold')\n",
    "#         f.text(r['year'], r[col1]+0.2, r[col2]+0.2,\n",
    "#                      horizontalalignment='left', size='medium', color='black', \n",
    "#                      weight='semibold')\n",
    "#         ax2.arrow(r[col1], r[col2], r[col1]+0.5, r[col2]+0.5, shape='full',\n",
    "#                   lw=0, length_includes_head=True, head_width=.5)\n",
    "    # return f? or plt?\n",
    "#     return(f) # no, duplicates image - maybe because %matplotlib magic?\n",
    "\n",
    "interact(compare_cols, col1=df.columns.tolist()[1:-2], col2=df.columns.tolist()[1:-2])"
   ]
  },
  {
   "cell_type": "markdown",
   "metadata": {
    "extensions": {
     "jupyter_dashboards": {
      "version": 1,
      "views": {
       "grid_default": {
        "col": 0,
        "height": 18,
        "hidden": true,
        "row": 6,
        "width": 12
       },
       "report_default": {
        "hidden": false
       }
      }
     }
    }
   },
   "source": [
    "![Column compare example](lodes_example_column_compare.png)"
   ]
  }
 ],
 "metadata": {
  "extensions": {
   "jupyter_dashboards": {
    "activeView": "grid_default",
    "version": 1,
    "views": {
     "grid_default": {
      "cellMargin": 10,
      "defaultCellHeight": 20,
      "maxColumns": 12,
      "name": "grid",
      "type": "grid"
     },
     "report_default": {
      "name": "report",
      "type": "report"
     }
    }
   }
  },
  "kernelspec": {
   "display_name": "Python 2",
   "language": "python",
   "name": "python2"
  },
  "language_info": {
   "codemirror_mode": {
    "name": "ipython",
    "version": 2
   },
   "file_extension": ".py",
   "mimetype": "text/x-python",
   "name": "python",
   "nbconvert_exporter": "python",
   "pygments_lexer": "ipython2",
   "version": "2.7.14"
  }
 },
 "nbformat": 4,
 "nbformat_minor": 2
}
