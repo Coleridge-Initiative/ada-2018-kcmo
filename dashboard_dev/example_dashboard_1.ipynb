{
 "cells": [
  {
   "cell_type": "markdown",
   "metadata": {
    "extensions": {
     "jupyter_dashboards": {
      "version": 1,
      "views": {
       "grid_default": {
        "col": 0,
        "height": 3,
        "hidden": false,
        "row": 0,
        "width": 10
       },
       "report_default": {}
      }
     }
    }
   },
   "source": [
    "## Testing out notebook interactivity"
   ]
  },
  {
   "cell_type": "code",
   "execution_count": 1,
   "metadata": {
    "extensions": {
     "jupyter_dashboards": {
      "version": 1,
      "views": {
       "grid_default": {
        "hidden": true
       },
       "report_default": {}
      }
     }
    }
   },
   "outputs": [],
   "source": [
    "\n",
    "# import packages for data manipulation\n",
    "from sqlalchemy import create_engine\n",
    "import pandas as pd\n",
    "import geopandas as gpd\n",
    "\n",
    "# packages for visualizations\n",
    "import matplotlib.pyplot as plt\n",
    "import seaborn as sns\n",
    "%matplotlib notebook\n",
    "\n",
    "# set Seaborn context/style\n",
    "sns.set_context(context='notebook')\n",
    "sns.set_style('darkgrid')\n",
    "\n",
    "# for interactivity\n",
    "from ipywidgets import *"
   ]
  },
  {
   "cell_type": "code",
   "execution_count": 2,
   "metadata": {
    "extensions": {
     "jupyter_dashboards": {
      "version": 1,
      "views": {
       "grid_default": {
        "hidden": true
       },
       "report_default": {}
      }
     }
    }
   },
   "outputs": [],
   "source": [
    "# database connection\n",
    "DB = 'template_postgis'\n",
    "USER = 'postgres'\n",
    "HOST = 'localhost'\n",
    "PORT = '5432'\n",
    "PW = 'postgres'\n",
    "\n",
    "DB_CONNECTION_STRING = 'postgresql://{username}:{password}@{host}:{port}/{database}'.format(\n",
    "username=USER, password=PW, host=HOST, port=PORT, database=DB)\n",
    "\n",
    "engine = create_engine(DB_CONNECTION_STRING)"
   ]
  },
  {
   "cell_type": "code",
   "execution_count": 3,
   "metadata": {
    "extensions": {
     "jupyter_dashboards": {
      "version": 1,
      "views": {
       "grid_default": {
        "hidden": true
       },
       "report_default": {}
      }
     }
    }
   },
   "outputs": [],
   "source": [
    "# function to get data - cbsafp = '28140' is KCMO metro area\n",
    "def getWAC(seg='s000', jt='jt01', years=xrange(2002,2016), cbsafp = '28140'):\n",
    "    # to pull data from database\n",
    "    DFs = []\n",
    "    # get data\n",
    "    for year in years:\n",
    "        qry = \"\"\"\n",
    "        SELECT *, left(w_geocode, 5) countyfp, {YR} AS year FROM mo_wac_{SEG}_{JT}_{YR}\n",
    "        WHERE left(w_geocode, 5) \n",
    "        IN (SELECT geoid FROM tl_2016_us_county WHERE cbsafp = '{CBSA}')\n",
    "        \"\"\".format(SEG=seg, JT=jt, YR=year, CBSA=cbsafp)\n",
    "        df = pd.read_sql(qry, engine)\n",
    "#         df.drop(columns='createdate', inplace=True)\n",
    "#         df['year'] = year\n",
    "        DFs.append(df)\n",
    "    # combine DFs into single dataframe\n",
    "    df = pd.concat(DFs)\n",
    "    return(df)"
   ]
  },
  {
   "cell_type": "code",
   "execution_count": 4,
   "metadata": {
    "extensions": {
     "jupyter_dashboards": {
      "version": 1,
      "views": {
       "grid_default": {
        "col": 4,
        "height": 7,
        "hidden": true,
        "row": 0,
        "width": 4
       },
       "report_default": {}
      }
     }
    }
   },
   "outputs": [
    {
     "data": {
      "text/plain": [
       "2006    10502\n",
       "2005    10390\n",
       "2004    10320\n",
       "2008    10267\n",
       "2007    10240\n",
       "2009    10225\n",
       "2010    10110\n",
       "2013     8587\n",
       "2012     8494\n",
       "2011     8137\n",
       "Name: year, dtype: int64"
      ]
     },
     "execution_count": 4,
     "metadata": {},
     "output_type": "execute_result"
    }
   ],
   "source": [
    "df = getWAC(years=xrange(2004,2014))\n",
    "df.year.value_counts()"
   ]
  },
  {
   "cell_type": "code",
   "execution_count": null,
   "metadata": {
    "extensions": {
     "jupyter_dashboards": {
      "version": 1,
      "views": {
       "grid_default": {
        "col": 2,
        "height": 15,
        "hidden": true,
        "row": 3,
        "width": 10
       },
       "report_default": {}
      }
     }
    }
   },
   "outputs": [],
   "source": [
    "# test graphs\n",
    "col1 = 'ce01'\n",
    "col2 = 'ce03'\n",
    "\n",
    "dfpl = df.groupby('year')[col1, col2].sum().reset_index()\n",
    "dfpl2 = pd.melt(dfpl, id_vars='year', value_vars=[col1, col2])\n",
    "\n",
    "f, (ax1, ax2) = plt.subplots(1, 2, figsize=(14,6))\n",
    "\n",
    "sns.barplot('year', 'value', 'variable', data=dfpl2, ax=ax1)\n",
    "ax1.set_title('Data over time')\n",
    "\n",
    "# ax2.set_aspect('equal', 'datalim')\n",
    "sns.pointplot(col1, col2, data=dfpl, hue='year', ax=ax2)\n",
    "ax2.set_title('X={} vs Y={}'.format(col1, col2))\n",
    "\n",
    "f.show()"
   ]
  },
  {
   "cell_type": "markdown",
   "metadata": {
    "extensions": {
     "jupyter_dashboards": {
      "version": 1,
      "views": {
       "grid_default": {
        "col": 0,
        "height": 6,
        "hidden": true,
        "row": 6,
        "width": 12
       },
       "report_default": {}
      }
     }
    }
   },
   "source": [
    "added following CRS to database to align with KCMO standard, from http://spatialreference.org/ref/esri/102698/postgis/\n",
    "\n",
    "> INSERT into spatial_ref_sys (srid, auth_name, auth_srid, proj4text, srtext) values ( 9102698, 'esri', 102698, '+proj=tmerc +lat_0=36.16666666666666 +lon_0=-94.5 +k=0.9999411764705882 +x_0=850000 +y_0=0 +ellps=GRS80 +datum=NAD83 +to_meter=0.3048006096012192 +no_defs ', 'PROJCS[\"NAD_1983_StatePlane_Missouri_West_FIPS_2403_Feet\",GEOGCS[\"GCS_North_American_1983\",DATUM[\"North_American_Datum_1983\",SPHEROID[\"GRS_1980\",6378137,298.257222101]],PRIMEM[\"Greenwich\",0],UNIT[\"Degree\",0.017453292519943295]],PROJECTION[\"Transverse_Mercator\"],PARAMETER[\"False_Easting\",2788708.333333333],PARAMETER[\"False_Northing\",0],PARAMETER[\"Central_Meridian\",-94.5],PARAMETER[\"Scale_Factor\",0.9999411764705882],PARAMETER[\"Latitude_Of_Origin\",36.16666666666666],UNIT[\"Foot_US\",0.30480060960121924],AUTHORITY[\"EPSG\",\"102698\"]]');"
   ]
  },
  {
   "cell_type": "code",
   "execution_count": 5,
   "metadata": {
    "extensions": {
     "jupyter_dashboards": {
      "version": 1,
      "views": {
       "grid_default": {
        "hidden": true
       },
       "report_default": {}
      }
     }
    }
   },
   "outputs": [],
   "source": [
    "# get counties for map\n",
    "\n",
    "qry = \"\"\"\n",
    "SELECT geoid, \n",
    "    ST_Transform(geom, 102698) geom \n",
    "FROM tl_2016_us_county \n",
    "WHERE cbsafp = '{CBSA}' AND statefp = '29'\n",
    "\"\"\".format(CBSA='28140')\n",
    "\n",
    "counties = gpd.read_postgis(qry, engine, geom_col='geom')"
   ]
  },
  {
   "cell_type": "code",
   "execution_count": 6,
   "metadata": {
    "extensions": {
     "jupyter_dashboards": {
      "version": 1,
      "views": {
       "grid_default": {
        "col": 0,
        "height": 14,
        "hidden": false,
        "row": 3,
        "width": 4
       },
       "report_default": {}
      }
     }
    }
   },
   "outputs": [
    {
     "data": {
      "application/vnd.jupyter.widget-view+json": {
       "model_id": "46b7a9f48530457eae4bc9dd9e761b14",
       "version_major": 2,
       "version_minor": 0
      },
      "text/html": [
       "<p>Failed to display Jupyter Widget of type <code>interactive</code>.</p>\n",
       "<p>\n",
       "  If you're reading this message in the Jupyter Notebook or JupyterLab Notebook, it may mean\n",
       "  that the widgets JavaScript is still loading. If this message persists, it\n",
       "  likely means that the widgets JavaScript library is either not installed or\n",
       "  not enabled. See the <a href=\"https://ipywidgets.readthedocs.io/en/stable/user_install.html\">Jupyter\n",
       "  Widgets Documentation</a> for setup instructions.\n",
       "</p>\n",
       "<p>\n",
       "  If you're reading this message in another frontend (for example, a static\n",
       "  rendering on GitHub or <a href=\"https://nbviewer.jupyter.org/\">NBViewer</a>),\n",
       "  it may mean that your frontend doesn't currently support widgets.\n",
       "</p>\n"
      ],
      "text/plain": [
       "interactive(children=(Dropdown(description=u'yr', options=(2004, 2005, 2006, 2007, 2008, 2009, 2010, 2011, 2012, 2013), value=2004), Dropdown(description=u'col', options=(u'c000', u'ca01', u'ca02', u'ca03', u'ce01', u'ce02', u'ce03', u'cns01', u'cns02', u'cns03', u'cns04', u'cns05', u'cns06', u'cns07', u'cns08', u'cns09', u'cns10', u'cns11', u'cns12', u'cns13', u'cns14', u'cns15', u'cns16', u'cns17', u'cns18', u'cns19', u'cns20', u'cr01', u'cr02', u'cr03', u'cr04', u'cr05', u'cr07', u'ct01', u'ct02', u'cd01', u'cd02', u'cd03', u'cd04', u'cs01', u'cs02', u'cfa01', u'cfa02', u'cfa03', u'cfa04', u'cfa05', u'cfs01', u'cfs02', u'cfs03', u'cfs04', u'cfs05', u'createdate', u'countyfp', u'year'), value=u'c000'), Output()), _dom_classes=('widget-interact',))"
      ]
     },
     "metadata": {},
     "output_type": "display_data"
    },
    {
     "data": {
      "text/plain": [
       "<function __main__.plot_cnty>"
      ]
     },
     "execution_count": 6,
     "metadata": {},
     "output_type": "execute_result"
    }
   ],
   "source": [
    "def plot_cnty(yr, col): \n",
    "    f, ax = plt.subplots(1, figsize=(12,8))\n",
    "    # get specified data summarized by county\n",
    "    cnty_df = pd.merge(counties.loc[:,('geoid', 'geom')],\n",
    "                       #\n",
    "                    df[df['year']==yr].groupby('countyfp')[col].sum().reset_index(), \n",
    "                    left_on='geoid', right_on='countyfp')\n",
    "    cnty_df.plot(col, ax=ax, legend=True) \n",
    "    ax.tick_params(\n",
    "        axis='both',          # changes apply to the x-axis\n",
    "        which='both',      # both major and minor ticks are affected\n",
    "        bottom='off',      # ticks along the bottom edge are off\n",
    "        top='off',         # ticks along the top edge are off\n",
    "        labelbottom='off', # labels along the bottom edge are off\n",
    "        labelleft='off')\n",
    "\n",
    "interact(plot_cnty,yr=df['year'].unique(), col=df.columns.tolist()[1:])"
   ]
  },
  {
   "cell_type": "markdown",
   "metadata": {
    "extensions": {
     "jupyter_dashboards": {
      "version": 1,
      "views": {
       "grid_default": {
        "col": 0,
        "height": 26,
        "hidden": true,
        "row": 6,
        "width": 12
       },
       "report_default": {}
      }
     }
    }
   },
   "source": [
    "![county map example](lodes_example_county_map.png)"
   ]
  },
  {
   "cell_type": "code",
   "execution_count": 7,
   "metadata": {
    "extensions": {
     "jupyter_dashboards": {
      "version": 1,
      "views": {
       "grid_default": {
        "hidden": true
       },
       "report_default": {}
      }
     }
    }
   },
   "outputs": [],
   "source": [
    "# prep data\n",
    "dfpl = df.groupby('year')[df.columns.tolist()[1:-3]].sum().reset_index()\n",
    "dfpl2 = pd.melt(dfpl, id_vars='year', value_vars=df.columns.tolist()[1:-3])"
   ]
  },
  {
   "cell_type": "code",
   "execution_count": 8,
   "metadata": {
    "extensions": {
     "jupyter_dashboards": {
      "version": 1,
      "views": {
       "grid_default": {
        "hidden": true
       },
       "report_default": {}
      }
     }
    }
   },
   "outputs": [],
   "source": [
    "# from matplotlib.ticker import FormatStrFormatter"
   ]
  },
  {
   "cell_type": "code",
   "execution_count": 9,
   "metadata": {
    "extensions": {
     "jupyter_dashboards": {
      "version": 1,
      "views": {
       "grid_default": {
        "col": 4,
        "height": 14,
        "hidden": false,
        "row": 3,
        "width": 8
       },
       "report_default": {}
      }
     }
    }
   },
   "outputs": [
    {
     "data": {
      "application/vnd.jupyter.widget-view+json": {
       "model_id": "b4645bf5e2694dfa86388513a1da592b",
       "version_major": 2,
       "version_minor": 0
      },
      "text/html": [
       "<p>Failed to display Jupyter Widget of type <code>interactive</code>.</p>\n",
       "<p>\n",
       "  If you're reading this message in the Jupyter Notebook or JupyterLab Notebook, it may mean\n",
       "  that the widgets JavaScript is still loading. If this message persists, it\n",
       "  likely means that the widgets JavaScript library is either not installed or\n",
       "  not enabled. See the <a href=\"https://ipywidgets.readthedocs.io/en/stable/user_install.html\">Jupyter\n",
       "  Widgets Documentation</a> for setup instructions.\n",
       "</p>\n",
       "<p>\n",
       "  If you're reading this message in another frontend (for example, a static\n",
       "  rendering on GitHub or <a href=\"https://nbviewer.jupyter.org/\">NBViewer</a>),\n",
       "  it may mean that your frontend doesn't currently support widgets.\n",
       "</p>\n"
      ],
      "text/plain": [
       "interactive(children=(Dropdown(description=u'col1', options=(u'c000', u'ca01', u'ca02', u'ca03', u'ce01', u'ce02', u'ce03', u'cns01', u'cns02', u'cns03', u'cns04', u'cns05', u'cns06', u'cns07', u'cns08', u'cns09', u'cns10', u'cns11', u'cns12', u'cns13', u'cns14', u'cns15', u'cns16', u'cns17', u'cns18', u'cns19', u'cns20', u'cr01', u'cr02', u'cr03', u'cr04', u'cr05', u'cr07', u'ct01', u'ct02', u'cd01', u'cd02', u'cd03', u'cd04', u'cs01', u'cs02', u'cfa01', u'cfa02', u'cfa03', u'cfa04', u'cfa05', u'cfs01', u'cfs02', u'cfs03', u'cfs04', u'cfs05', u'createdate'), value=u'c000'), Dropdown(description=u'col2', options=(u'c000', u'ca01', u'ca02', u'ca03', u'ce01', u'ce02', u'ce03', u'cns01', u'cns02', u'cns03', u'cns04', u'cns05', u'cns06', u'cns07', u'cns08', u'cns09', u'cns10', u'cns11', u'cns12', u'cns13', u'cns14', u'cns15', u'cns16', u'cns17', u'cns18', u'cns19', u'cns20', u'cr01', u'cr02', u'cr03', u'cr04', u'cr05', u'cr07', u'ct01', u'ct02', u'cd01', u'cd02', u'cd03', u'cd04', u'cs01', u'cs02', u'cfa01', u'cfa02', u'cfa03', u'cfa04', u'cfa05', u'cfs01', u'cfs02', u'cfs03', u'cfs04', u'cfs05', u'createdate'), value=u'c000'), Output()), _dom_classes=('widget-interact',))"
      ]
     },
     "metadata": {},
     "output_type": "display_data"
    },
    {
     "data": {
      "text/plain": [
       "<function __main__.compare_cols>"
      ]
     },
     "execution_count": 9,
     "metadata": {},
     "output_type": "execute_result"
    }
   ],
   "source": [
    "## compare two columns in two side by side graphs: bar chart over time and scatter plot of col1 v col2 over time\n",
    "def compare_cols(col1, col2):\n",
    "    \n",
    "    f, (ax1, ax2) = plt.subplots(1, 2, figsize=(16,6))\n",
    "\n",
    "    sns.barplot('year', 'value', 'variable', data=dfpl2[dfpl2['variable'].isin([col2, col1])], ax=ax1)\n",
    "    ax1.set_title('{} and {}'.format(col1, col2))\n",
    "#     ax1.yaxis.set_major_formatter(FormatStrFormatter('%.0f'))\n",
    "\n",
    "    sns.pointplot(col1, col2, data=dfpl, ax=ax2, linestyles='--') #hue='year', \n",
    "    ax2.set_title('X={} vs Y={}'.format(col1, col2))\n",
    "#     ax2.xaxis.set_major_formatter(FormatStrFormatter('%.2f'))\n",
    "#     ax2.set_aspect('equal', 'datalim')\n",
    "    \n",
    "    for c in ax2.collections:\n",
    "        for i, of in enumerate(c.get_offsets()):\n",
    "            ax2.annotate(dfpl['year'][i], (of[0]+0.2, of[1]),\n",
    "                         horizontalalignment='left', size='medium', color='black', \n",
    "                         weight='semibold')\n",
    "    # return f? or plt?\n",
    "    f.suptitle('Comparing {} and {} over time'.format(col1, col2))\n",
    "#     return(plt)\n",
    "\n",
    "interact(compare_cols, col1=df.columns.tolist()[1:-2], col2=df.columns.tolist()[1:-2])"
   ]
  },
  {
   "cell_type": "markdown",
   "metadata": {
    "extensions": {
     "jupyter_dashboards": {
      "version": 1,
      "views": {
       "grid_default": {
        "col": 0,
        "height": 18,
        "hidden": true,
        "row": 6,
        "width": 12
       },
       "report_default": {}
      }
     }
    }
   },
   "source": [
    "![Column compare example](lodes_example_column_compare.png)"
   ]
  }
 ],
 "metadata": {
  "extensions": {
   "jupyter_dashboards": {
    "activeView": "grid_default",
    "version": 1,
    "views": {
     "grid_default": {
      "cellMargin": 10,
      "defaultCellHeight": 20,
      "maxColumns": 12,
      "name": "grid",
      "type": "grid"
     },
     "report_default": {
      "name": "report",
      "type": "report"
     }
    }
   }
  },
  "kernelspec": {
   "display_name": "Python 2",
   "language": "python",
   "name": "python2"
  },
  "language_info": {
   "codemirror_mode": {
    "name": "ipython",
    "version": 2
   },
   "file_extension": ".py",
   "mimetype": "text/x-python",
   "name": "python",
   "nbconvert_exporter": "python",
   "pygments_lexer": "ipython2",
   "version": "2.7.14"
  }
 },
 "nbformat": 4,
 "nbformat_minor": 2
}
