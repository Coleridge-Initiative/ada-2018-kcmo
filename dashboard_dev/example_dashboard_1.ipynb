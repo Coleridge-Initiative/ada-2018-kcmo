{
 "cells": [
  {
   "cell_type": "markdown",
   "metadata": {
    "extensions": {
     "jupyter_dashboards": {
      "version": 1,
      "views": {
       "grid_default": {
        "col": 0,
        "height": 3,
        "hidden": false,
        "row": 0,
        "width": 10
       },
       "report_default": {
        "hidden": false
       }
      }
     }
    }
   },
   "source": [
    "## Economic activity in KCMO\n",
    "Workplace Area Characteristics"
   ]
  },
  {
   "cell_type": "code",
   "execution_count": 1,
   "metadata": {
    "collapsed": true,
    "extensions": {
     "jupyter_dashboards": {
      "version": 1,
      "views": {
       "grid_default": {
        "hidden": true
       },
       "report_default": {
        "hidden": true
       }
      }
     }
    }
   },
   "outputs": [],
   "source": [
    "# import packages for data manipulation\n",
    "from sqlalchemy import create_engine\n",
    "import pandas as pd\n",
    "import geopandas as gpd\n",
    "\n",
    "# packages for visualizations\n",
    "import matplotlib.pyplot as plt\n",
    "import seaborn as sns\n",
    "\n",
    "# for interactivity\n",
    "from ipywidgets import *\n",
    "%matplotlib notebook\n",
    "\n",
    "# set Seaborn context/style\n",
    "sns.set_context(context='notebook')\n",
    "sns.set_style('darkgrid')\n"
   ]
  },
  {
   "cell_type": "code",
   "execution_count": 2,
   "metadata": {
    "collapsed": false,
    "extensions": {
     "jupyter_dashboards": {
      "version": 1,
      "views": {
       "grid_default": {
        "col": 0,
        "height": 4,
        "hidden": true,
        "row": 55,
        "width": 4
       },
       "report_default": {
        "hidden": true
       }
      }
     }
    }
   },
   "outputs": [
    {
     "data": {
      "text/plain": [
       "'7.1.2'"
      ]
     },
     "execution_count": 2,
     "metadata": {},
     "output_type": "execute_result"
    }
   ],
   "source": [
    "import ipywidgets as iw\n",
    "iw.__version__"
   ]
  },
  {
   "cell_type": "code",
   "execution_count": 3,
   "metadata": {
    "collapsed": true,
    "extensions": {
     "jupyter_dashboards": {
      "version": 1,
      "views": {
       "grid_default": {
        "hidden": true
       },
       "report_default": {
        "hidden": true
       }
      }
     }
    }
   },
   "outputs": [],
   "source": [
    "# database connection\n",
    "DB = 'datadb'\n",
    "USER = 'postgres'\n",
    "HOST = 'localhost'\n",
    "PORT = '5432'\n",
    "PW = 'postgres'\n",
    "\n",
    "DB_CONNECTION_STRING = 'postgresql://{username}:{password}@{host}:{port}/{database}'.format(\n",
    "username=USER, password=PW, host=HOST, port=PORT, database=DB)\n",
    "\n",
    "engine = create_engine(DB_CONNECTION_STRING)"
   ]
  },
  {
   "cell_type": "code",
   "execution_count": 4,
   "metadata": {
    "collapsed": true,
    "extensions": {
     "jupyter_dashboards": {
      "version": 1,
      "views": {
       "grid_default": {
        "hidden": true
       },
       "report_default": {
        "hidden": true
       }
      }
     }
    }
   },
   "outputs": [],
   "source": [
    "# function to get data - cbsafp = '28140' is KCMO metro area\n",
    "def getWAC(seg='s000', jt='jt01', years=xrange(2002,2016), cbsafp = '28140'):\n",
    "    # to pull data from database\n",
    "    DFs = []\n",
    "    # get data\n",
    "    for year in years:\n",
    "        qry = \"\"\"\n",
    "        SELECT *, left(w_geocode, 5) countyfp, {YR} AS year \n",
    "        FROM lodes.mo_wac_{SEG}_{JT}_{YR}\n",
    "        WHERE left(w_geocode, 5) \n",
    "        IN (SELECT geoid FROM tl_2016_us_county WHERE cbsafp = '{CBSA}')\n",
    "        \"\"\".format(SEG=seg, JT=jt, YR=year, CBSA=cbsafp)\n",
    "        df = pd.read_sql(qry, engine)\n",
    "#         df.drop(columns='createdate', inplace=True)\n",
    "#         df['year'] = year\n",
    "        DFs.append(df)\n",
    "    # combine DFs into single dataframe\n",
    "    df = pd.concat(DFs)\n",
    "    return(df)"
   ]
  },
  {
   "cell_type": "code",
   "execution_count": 5,
   "metadata": {
    "collapsed": false,
    "extensions": {
     "jupyter_dashboards": {
      "version": 1,
      "views": {
       "grid_default": {
        "col": 4,
        "height": 7,
        "hidden": true,
        "row": 0,
        "width": 4
       },
       "report_default": {
        "hidden": true
       }
      }
     }
    }
   },
   "outputs": [
    {
     "data": {
      "text/plain": [
       "2006    10502\n",
       "2008    10267\n",
       "2007    10240\n",
       "2009    10225\n",
       "2010    10110\n",
       "2013     8587\n",
       "2012     8494\n",
       "2011     8137\n",
       "Name: year, dtype: int64"
      ]
     },
     "execution_count": 5,
     "metadata": {},
     "output_type": "execute_result"
    }
   ],
   "source": [
    "df = getWAC(years=xrange(2006,2014))\n",
    "df.year.value_counts()"
   ]
  },
  {
   "cell_type": "markdown",
   "metadata": {
    "extensions": {
     "jupyter_dashboards": {
      "version": 1,
      "views": {
       "grid_default": {
        "col": 0,
        "height": 6,
        "hidden": true,
        "row": 6,
        "width": 12
       },
       "report_default": {
        "hidden": true
       }
      }
     }
    }
   },
   "source": [
    "added following CRS to database to align with KCMO standard, from http://spatialreference.org/ref/esri/102698/postgis/\n",
    "\n",
    "> INSERT into spatial_ref_sys (srid, auth_name, auth_srid, proj4text, srtext) values ( 102698, 'esri', 102698, '+proj=tmerc +lat_0=36.16666666666666 +lon_0=-94.5 +k=0.9999411764705882 +x_0=850000 +y_0=0 +ellps=GRS80 +datum=NAD83 +to_meter=0.3048006096012192 +no_defs ', 'PROJCS[\"NAD_1983_StatePlane_Missouri_West_FIPS_2403_Feet\",GEOGCS[\"GCS_North_American_1983\",DATUM[\"North_American_Datum_1983\",SPHEROID[\"GRS_1980\",6378137,298.257222101]],PRIMEM[\"Greenwich\",0],UNIT[\"Degree\",0.017453292519943295]],PROJECTION[\"Transverse_Mercator\"],PARAMETER[\"False_Easting\",2788708.333333333],PARAMETER[\"False_Northing\",0],PARAMETER[\"Central_Meridian\",-94.5],PARAMETER[\"Scale_Factor\",0.9999411764705882],PARAMETER[\"Latitude_Of_Origin\",36.16666666666666],UNIT[\"Foot_US\",0.30480060960121924],AUTHORITY[\"EPSG\",\"102698\"]]');"
   ]
  },
  {
   "cell_type": "code",
   "execution_count": 6,
   "metadata": {
    "collapsed": true,
    "extensions": {
     "jupyter_dashboards": {
      "version": 1,
      "views": {
       "grid_default": {
        "hidden": true
       },
       "report_default": {
        "hidden": true
       }
      }
     }
    }
   },
   "outputs": [],
   "source": [
    "# get counties for map\n",
    "\n",
    "qry = \"\"\"\n",
    "SELECT geoid, name,\n",
    "    ST_Transform(geom, 102698) geom \n",
    "FROM tl_2016_us_county \n",
    "WHERE cbsafp = '{CBSA}' AND statefp = '29'\n",
    "\"\"\".format(CBSA='28140')\n",
    "\n",
    "counties = gpd.read_postgis(qry, engine, geom_col='geom')\n",
    "counties['coords'] = counties.geometry.apply(lambda x: x.representative_point().coords[0])"
   ]
  },
  {
   "cell_type": "code",
   "execution_count": 7,
   "metadata": {
    "collapsed": false,
    "extensions": {
     "jupyter_dashboards": {
      "version": 1,
      "views": {
       "grid_default": {
        "col": 0,
        "height": 11,
        "hidden": true,
        "row": 17,
        "width": 4
       },
       "report_default": {
        "hidden": true
       }
      }
     }
    }
   },
   "outputs": [
    {
     "data": {
      "text/html": [
       "<div>\n",
       "<style scoped>\n",
       "    .dataframe tbody tr th:only-of-type {\n",
       "        vertical-align: middle;\n",
       "    }\n",
       "\n",
       "    .dataframe tbody tr th {\n",
       "        vertical-align: top;\n",
       "    }\n",
       "\n",
       "    .dataframe thead th {\n",
       "        text-align: right;\n",
       "    }\n",
       "</style>\n",
       "<table border=\"1\" class=\"dataframe\">\n",
       "  <thead>\n",
       "    <tr style=\"text-align: right;\">\n",
       "      <th></th>\n",
       "      <th>geoid</th>\n",
       "      <th>name</th>\n",
       "      <th>geom</th>\n",
       "      <th>coords</th>\n",
       "    </tr>\n",
       "  </thead>\n",
       "  <tbody>\n",
       "    <tr>\n",
       "      <th>0</th>\n",
       "      <td>29037</td>\n",
       "      <td>Cass</td>\n",
       "      <td>(POLYGON ((2757711.046145708 944487.779166155,...</td>\n",
       "      <td>(2827582.76366, 902996.782006)</td>\n",
       "    </tr>\n",
       "    <tr>\n",
       "      <th>1</th>\n",
       "      <td>29165</td>\n",
       "      <td>Platte</td>\n",
       "      <td>(POLYGON ((2672765.821989374 1160319.813960498...</td>\n",
       "      <td>(2716459.28694, 1157245.93518)</td>\n",
       "    </tr>\n",
       "    <tr>\n",
       "      <th>2</th>\n",
       "      <td>29177</td>\n",
       "      <td>Ray</td>\n",
       "      <td>(POLYGON ((2870211.913921144 1128467.049151529...</td>\n",
       "      <td>(2934245.1651, 1152428.64077)</td>\n",
       "    </tr>\n",
       "    <tr>\n",
       "      <th>3</th>\n",
       "      <td>29107</td>\n",
       "      <td>Lafayette</td>\n",
       "      <td>(POLYGON ((2899444.881616506 1033552.724563697...</td>\n",
       "      <td>(2988208.77351, 1069649.14907)</td>\n",
       "    </tr>\n",
       "    <tr>\n",
       "      <th>4</th>\n",
       "      <td>29025</td>\n",
       "      <td>Caldwell</td>\n",
       "      <td>(POLYGON ((2871479.595406072 1287479.497680248...</td>\n",
       "      <td>(2934492.20179, 1271114.0081)</td>\n",
       "    </tr>\n",
       "  </tbody>\n",
       "</table>\n",
       "</div>"
      ],
      "text/plain": [
       "   geoid       name                                               geom  \\\n",
       "0  29037       Cass  (POLYGON ((2757711.046145708 944487.779166155,...   \n",
       "1  29165     Platte  (POLYGON ((2672765.821989374 1160319.813960498...   \n",
       "2  29177        Ray  (POLYGON ((2870211.913921144 1128467.049151529...   \n",
       "3  29107  Lafayette  (POLYGON ((2899444.881616506 1033552.724563697...   \n",
       "4  29025   Caldwell  (POLYGON ((2871479.595406072 1287479.497680248...   \n",
       "\n",
       "                           coords  \n",
       "0  (2827582.76366, 902996.782006)  \n",
       "1  (2716459.28694, 1157245.93518)  \n",
       "2   (2934245.1651, 1152428.64077)  \n",
       "3  (2988208.77351, 1069649.14907)  \n",
       "4   (2934492.20179, 1271114.0081)  "
      ]
     },
     "execution_count": 7,
     "metadata": {},
     "output_type": "execute_result"
    }
   ],
   "source": [
    "counties.head()"
   ]
  },
  {
   "cell_type": "code",
   "execution_count": 8,
   "metadata": {
    "collapsed": true,
    "extensions": {
     "jupyter_dashboards": {
      "version": 1,
      "views": {
       "grid_default": {
        "hidden": true
       },
       "report_default": {
        "hidden": true
       }
      }
     }
    }
   },
   "outputs": [],
   "source": [
    "q = \"\"\"\n",
    "SELECT column_name FROM information_schema.columns \n",
    "WHERE table_name = 'tl_2016_us_county';\n",
    "\"\"\"\n",
    "# pd.read_sql(q, engine)"
   ]
  },
  {
   "cell_type": "code",
   "execution_count": 9,
   "metadata": {
    "collapsed": false,
    "extensions": {
     "jupyter_dashboards": {
      "version": 1,
      "views": {
       "grid_default": {
        "col": 0,
        "height": 17,
        "hidden": true,
        "row": 3,
        "width": 6
       },
       "report_default": {
        "hidden": true
       }
      }
     }
    }
   },
   "outputs": [
    {
     "data": {
      "application/vnd.jupyter.widget-view+json": {
       "model_id": "d76069ace4d64673b078f53921e78a33",
       "version_major": 2,
       "version_minor": 0
      },
      "text/html": [
       "<p>Failed to display Jupyter Widget of type <code>interactive</code>.</p>\n",
       "<p>\n",
       "  If you're reading this message in the Jupyter Notebook or JupyterLab Notebook, it may mean\n",
       "  that the widgets JavaScript is still loading. If this message persists, it\n",
       "  likely means that the widgets JavaScript library is either not installed or\n",
       "  not enabled. See the <a href=\"https://ipywidgets.readthedocs.io/en/stable/user_install.html\">Jupyter\n",
       "  Widgets Documentation</a> for setup instructions.\n",
       "</p>\n",
       "<p>\n",
       "  If you're reading this message in another frontend (for example, a static\n",
       "  rendering on GitHub or <a href=\"https://nbviewer.jupyter.org/\">NBViewer</a>),\n",
       "  it may mean that your frontend doesn't currently support widgets.\n",
       "</p>\n"
      ],
      "text/plain": [
       "interactive(children=(Dropdown(description=u'yr', options=(2006, 2007, 2008, 2009, 2010, 2011, 2012, 2013), value=2006), Text(value=u'ce01', description=u'col'), Output()), _dom_classes=('widget-interact',))"
      ]
     },
     "metadata": {},
     "output_type": "display_data"
    },
    {
     "data": {
      "text/plain": [
       "<function __main__.plot_cnty>"
      ]
     },
     "execution_count": 9,
     "metadata": {},
     "output_type": "execute_result"
    }
   ],
   "source": [
    "def plot_cnty(yr, col='ce01'): \n",
    "    sns.set_style('whitegrid')\n",
    "    f, ax = plt.subplots(1, figsize=(8,6))\n",
    "    # get specified data summarized by county\n",
    "    cnty_df = pd.merge(counties,\n",
    "                    df[df['year']==yr].groupby('countyfp')[col].sum().reset_index(), \n",
    "                    left_on='geoid', right_on='countyfp')\n",
    "    colmap = sns.cubehelix_palette(8, start=2, rot=0, dark=0, light=.95, as_cmap=True)\n",
    "    cnty_df.plot(col, ax=ax, legend=True, cmap=colmap) \n",
    "    \n",
    "    for idx, row in cnty_df.iterrows():\n",
    "        ax.annotate(row['name'], row['coords'],\n",
    "                     horizontalalignment='left', size='medium', color='white', \n",
    "                     weight='semibold',\n",
    "                   bbox=dict(boxstyle=\"round,pad=0.3\", fc=\"grey\", ec=\"k\", lw=0.5))\n",
    "    \n",
    "    ax.tick_params(\n",
    "        axis='both',          # changes apply to the x-axis\n",
    "        which='both',      # both major and minor ticks are affected\n",
    "        bottom='off',      # ticks along the bottom edge are off\n",
    "        top='off',         # ticks along the top edge are off\n",
    "        labelbottom='off', # labels along the bottom edge are off\n",
    "        labelleft='off')\n",
    "    \n",
    "    f.suptitle('{} in {} by county, KCMO'.format(col, yr))\n",
    "\n",
    "interact(plot_cnty, yr = df['year'].unique())#, col = df.columns.tolist()[1:])\n",
    "# plot_cnty(2006, 'ce01')"
   ]
  },
  {
   "cell_type": "markdown",
   "metadata": {
    "extensions": {
     "jupyter_dashboards": {
      "version": 1,
      "views": {
       "grid_default": {
        "col": 0,
        "height": 26,
        "hidden": true,
        "row": 6,
        "width": 12
       },
       "report_default": {
        "hidden": true
       }
      }
     }
    }
   },
   "source": [
    "![county map example](lodes_example_county_map.png)"
   ]
  },
  {
   "cell_type": "code",
   "execution_count": 10,
   "metadata": {
    "collapsed": true,
    "extensions": {
     "jupyter_dashboards": {
      "version": 1,
      "views": {
       "grid_default": {
        "hidden": true
       },
       "report_default": {
        "hidden": true
       }
      }
     }
    }
   },
   "outputs": [],
   "source": [
    "# get BlockGroups for map\n",
    "\n",
    "qry = \"\"\"\n",
    "SELECT blockgroup,\n",
    "    ST_Transform(geom, 102698) geom \n",
    "FROM tl_2016_29_blkgrp\n",
    "WHERE left(blockgroup, 5) \n",
    "    IN (SELECT geoid\n",
    "        FROM tl_2016_us_county \n",
    "        WHERE cbsafp =  '{CBSA}')\n",
    "\"\"\".format(CBSA='28140')\n",
    "\n",
    "blocks = gpd.read_postgis(qry, engine, geom_col='geom')\n",
    "blocks['coords'] = blocks.geometry.apply(lambda x: x.representative_point().coords[0])"
   ]
  },
  {
   "cell_type": "code",
   "execution_count": 11,
   "metadata": {
    "collapsed": false,
    "extensions": {
     "jupyter_dashboards": {
      "version": 1,
      "views": {
       "grid_default": {
        "col": 0,
        "height": 9,
        "hidden": true,
        "row": 24,
        "width": 4
       },
       "report_default": {
        "hidden": true
       }
      }
     }
    }
   },
   "outputs": [
    {
     "name": "stdout",
     "output_type": "stream",
     "text": [
      "[u'w_geocode', u'c000', u'ca01', u'ca02', u'ca03', u'ce01', u'ce02', u'ce03', u'cns01', u'cns02', u'cns03', u'cns04', u'cns05', u'cns06', u'cns07', u'cns08', u'cns09', u'cns10', u'cns11', u'cns12', u'cns13', u'cns14', u'cns15', u'cns16', u'cns17', u'cns18', u'cns19', u'cns20', u'cr01', u'cr02', u'cr03', u'cr04', u'cr05', u'cr07', u'ct01', u'ct02', u'cd01', u'cd02', u'cd03', u'cd04', u'cs01', u'cs02', u'cfa01', u'cfa02', u'cfa03', u'cfa04', u'cfa05', u'cfs01', u'cfs02', u'cfs03', u'cfs04', u'cfs05', u'createdate', u'countyfp', u'year']\n"
     ]
    }
   ],
   "source": [
    "print(df.columns.tolist())"
   ]
  },
  {
   "cell_type": "code",
   "execution_count": 12,
   "metadata": {
    "collapsed": true,
    "extensions": {
     "jupyter_dashboards": {
      "version": 1,
      "views": {
       "grid_default": {
        "hidden": true
       },
       "report_default": {
        "hidden": true
       }
      }
     }
    }
   },
   "outputs": [],
   "source": [
    "# add blockgroup code to df\n",
    "df['bg'] = df['w_geocode'].apply(lambda g: g[:12])"
   ]
  },
  {
   "cell_type": "code",
   "execution_count": 13,
   "metadata": {
    "collapsed": false,
    "extensions": {
     "jupyter_dashboards": {
      "version": 1,
      "views": {
       "grid_default": {
        "col": 0,
        "height": 34,
        "hidden": false,
        "row": 3,
        "width": 12
       },
       "report_default": {
        "hidden": false
       }
      }
     }
    }
   },
   "outputs": [
    {
     "data": {
      "application/vnd.jupyter.widget-view+json": {
       "model_id": "ed99e8e629b047ce8fc3f2b6779f9e3b",
       "version_major": 2,
       "version_minor": 0
      },
      "text/html": [
       "<p>Failed to display Jupyter Widget of type <code>interactive</code>.</p>\n",
       "<p>\n",
       "  If you're reading this message in the Jupyter Notebook or JupyterLab Notebook, it may mean\n",
       "  that the widgets JavaScript is still loading. If this message persists, it\n",
       "  likely means that the widgets JavaScript library is either not installed or\n",
       "  not enabled. See the <a href=\"https://ipywidgets.readthedocs.io/en/stable/user_install.html\">Jupyter\n",
       "  Widgets Documentation</a> for setup instructions.\n",
       "</p>\n",
       "<p>\n",
       "  If you're reading this message in another frontend (for example, a static\n",
       "  rendering on GitHub or <a href=\"https://nbviewer.jupyter.org/\">NBViewer</a>),\n",
       "  it may mean that your frontend doesn't currently support widgets.\n",
       "</p>\n"
      ],
      "text/plain": [
       "interactive(children=(Dropdown(description=u'yr', options=(2006, 2007, 2008, 2009, 2010, 2011, 2012, 2013), value=2006), Dropdown(description=u'col', options=(u'c000', u'ca01', u'ca02', u'ca03', u'ce01', u'ce02', u'ce03', u'cns01', u'cns02', u'cns03', u'cns04', u'cns05', u'cns06', u'cns07', u'cns08', u'cns09', u'cns10', u'cns11', u'cns12', u'cns13', u'cns14', u'cns15', u'cns16', u'cns17', u'cns18', u'cns19', u'cns20', u'cr01', u'cr02', u'cr03', u'cr04', u'cr05', u'cr07', u'ct01', u'ct02', u'cd01', u'cd02', u'cd03', u'cd04', u'cs01', u'cs02', u'cfa01', u'cfa02', u'cfa03', u'cfa04', u'cfa05', u'cfs01', u'cfs02', u'cfs03', u'cfs04', u'cfs05', u'createdate', u'countyfp', u'year', 'bg'), value=u'c000'), Output()), _dom_classes=('widget-interact',))"
      ]
     },
     "metadata": {},
     "output_type": "display_data"
    },
    {
     "data": {
      "text/plain": [
       "<function __main__.plot_bg>"
      ]
     },
     "execution_count": 13,
     "metadata": {},
     "output_type": "execute_result"
    }
   ],
   "source": [
    "%matplotlib notebook\n",
    "def plot_bg(yr, col): \n",
    "    sns.set_style('whitegrid')\n",
    "    f, ax = plt.subplots(1, figsize=(12,8))\n",
    "    # get specified data summarized by county\n",
    "    block_df = pd.merge(blocks,\n",
    "                    df[df['year']==yr].groupby('bg')[col].sum().reset_index(), \n",
    "                    left_on='blockgroup', right_on='bg')\n",
    "    colmap = sns.cubehelix_palette(8, start=2, rot=0, dark=0, light=.95, as_cmap=True)\n",
    "    counties.plot(ax=ax, color='white', edgecolor='grey')\n",
    "    block_df.plot(col, ax=ax, legend=True, cmap=colmap) \n",
    "    \n",
    "    for idx, row in counties.iterrows():\n",
    "        ax.annotate(row['name'], row['coords'],\n",
    "                     horizontalalignment='left', size='medium', color='white', \n",
    "                     weight='semibold',\n",
    "                   bbox=dict(boxstyle=\"round,pad=0.3\", fc=\"grey\", ec=\"k\", lw=0.5))\n",
    "    \n",
    "    ax.tick_params(\n",
    "        axis='both',          # changes apply to the x-axis\n",
    "        which='both',      # both major and minor ticks are affected\n",
    "        bottom='off',      # ticks along the bottom edge are off\n",
    "        top='off',         # ticks along the top edge are off\n",
    "        labelbottom='off', # labels along the bottom edge are off\n",
    "        labelleft='off')\n",
    "    \n",
    "    f.suptitle('{} in {} by Block Group, KCMO'.format(col, yr))\n",
    "\n",
    "interact(plot_bg,yr=df['year'].unique(), col=df.columns.tolist()[1:])"
   ]
  },
  {
   "cell_type": "code",
   "execution_count": 17,
   "metadata": {
    "collapsed": true
   },
   "outputs": [],
   "source": [
    "counties['rand_float'] = counties.apply(lambda x: pd.np.random.random(), axis=1)"
   ]
  },
  {
   "cell_type": "code",
   "execution_count": 18,
   "metadata": {
    "collapsed": false
   },
   "outputs": [
    {
     "name": "stdout",
     "output_type": "stream",
     "text": [
      "<class 'geopandas.geodataframe.GeoDataFrame'>\n",
      "RangeIndex: 9 entries, 0 to 8\n",
      "Data columns (total 5 columns):\n",
      "geoid         9 non-null object\n",
      "name          9 non-null object\n",
      "geom          9 non-null object\n",
      "coords        9 non-null object\n",
      "rand_float    9 non-null float64\n",
      "dtypes: float64(1), object(4)\n",
      "memory usage: 432.0+ bytes\n"
     ]
    }
   ],
   "source": [
    "counties.info()"
   ]
  },
  {
   "cell_type": "code",
   "execution_count": 34,
   "metadata": {
    "collapsed": true
   },
   "outputs": [],
   "source": [
    "# create number of tick marks in legend and set location to display them\n",
    "numpoints = 5\n",
    "leg_ticks = pd.np.linspace(-1,1,numpoints)\n",
    "\n",
    "# create labels based on number of tickmarks\n",
    "leg_min = counties['rand_float'].min()\n",
    "leg_max = counties['rand_float'].max()\n",
    "leg_tick_labels = [str(round(x*100,1))+'%' for x in pd.np.linspace(leg_min,leg_max,numpoints)]"
   ]
  },
  {
   "cell_type": "code",
   "execution_count": 35,
   "metadata": {
    "collapsed": false
   },
   "outputs": [
    {
     "data": {
      "text/plain": [
       "['6.8%', '25.0%', '43.2%', '61.4%', '79.6%']"
      ]
     },
     "execution_count": 35,
     "metadata": {},
     "output_type": "execute_result"
    }
   ],
   "source": [
    "leg_tick_labels"
   ]
  },
  {
   "cell_type": "code",
   "execution_count": 31,
   "metadata": {
    "collapsed": false
   },
   "outputs": [
    {
     "data": {
      "text/plain": [
       "[-1, -0.5, 0, 0.5, 1]"
      ]
     },
     "execution_count": 31,
     "metadata": {},
     "output_type": "execute_result"
    }
   ],
   "source": [
    "[-1] + [-.5, 0, .5] + [1]"
   ]
  },
  {
   "cell_type": "code",
   "execution_count": 36,
   "metadata": {
    "collapsed": true
   },
   "outputs": [],
   "source": [
    "leg_kwds_dict = {'numpoints': numpoints, 'labels': leg_tick_labels}"
   ]
  },
  {
   "cell_type": "code",
   "execution_count": 38,
   "metadata": {
    "collapsed": false
   },
   "outputs": [
    {
     "data": {
      "text/plain": [
       "u'0.3.0'"
      ]
     },
     "execution_count": 38,
     "metadata": {},
     "output_type": "execute_result"
    }
   ],
   "source": [
    "gpd.__version__"
   ]
  },
  {
   "cell_type": "code",
   "execution_count": null,
   "metadata": {
    "collapsed": true
   },
   "outputs": [],
   "source": [
    "gpd.GeoDataFrame.plot()"
   ]
  },
  {
   "cell_type": "code",
   "execution_count": 48,
   "metadata": {
    "collapsed": false
   },
   "outputs": [
    {
     "data": {
      "application/javascript": [
       "/* Put everything inside the global mpl namespace */\n",
       "window.mpl = {};\n",
       "\n",
       "\n",
       "mpl.get_websocket_type = function() {\n",
       "    if (typeof(WebSocket) !== 'undefined') {\n",
       "        return WebSocket;\n",
       "    } else if (typeof(MozWebSocket) !== 'undefined') {\n",
       "        return MozWebSocket;\n",
       "    } else {\n",
       "        alert('Your browser does not have WebSocket support.' +\n",
       "              'Please try Chrome, Safari or Firefox ≥ 6. ' +\n",
       "              'Firefox 4 and 5 are also supported but you ' +\n",
       "              'have to enable WebSockets in about:config.');\n",
       "    };\n",
       "}\n",
       "\n",
       "mpl.figure = function(figure_id, websocket, ondownload, parent_element) {\n",
       "    this.id = figure_id;\n",
       "\n",
       "    this.ws = websocket;\n",
       "\n",
       "    this.supports_binary = (this.ws.binaryType != undefined);\n",
       "\n",
       "    if (!this.supports_binary) {\n",
       "        var warnings = document.getElementById(\"mpl-warnings\");\n",
       "        if (warnings) {\n",
       "            warnings.style.display = 'block';\n",
       "            warnings.textContent = (\n",
       "                \"This browser does not support binary websocket messages. \" +\n",
       "                    \"Performance may be slow.\");\n",
       "        }\n",
       "    }\n",
       "\n",
       "    this.imageObj = new Image();\n",
       "\n",
       "    this.context = undefined;\n",
       "    this.message = undefined;\n",
       "    this.canvas = undefined;\n",
       "    this.rubberband_canvas = undefined;\n",
       "    this.rubberband_context = undefined;\n",
       "    this.format_dropdown = undefined;\n",
       "\n",
       "    this.image_mode = 'full';\n",
       "\n",
       "    this.root = $('<div/>');\n",
       "    this._root_extra_style(this.root)\n",
       "    this.root.attr('style', 'display: inline-block');\n",
       "\n",
       "    $(parent_element).append(this.root);\n",
       "\n",
       "    this._init_header(this);\n",
       "    this._init_canvas(this);\n",
       "    this._init_toolbar(this);\n",
       "\n",
       "    var fig = this;\n",
       "\n",
       "    this.waiting = false;\n",
       "\n",
       "    this.ws.onopen =  function () {\n",
       "            fig.send_message(\"supports_binary\", {value: fig.supports_binary});\n",
       "            fig.send_message(\"send_image_mode\", {});\n",
       "            if (mpl.ratio != 1) {\n",
       "                fig.send_message(\"set_dpi_ratio\", {'dpi_ratio': mpl.ratio});\n",
       "            }\n",
       "            fig.send_message(\"refresh\", {});\n",
       "        }\n",
       "\n",
       "    this.imageObj.onload = function() {\n",
       "            if (fig.image_mode == 'full') {\n",
       "                // Full images could contain transparency (where diff images\n",
       "                // almost always do), so we need to clear the canvas so that\n",
       "                // there is no ghosting.\n",
       "                fig.context.clearRect(0, 0, fig.canvas.width, fig.canvas.height);\n",
       "            }\n",
       "            fig.context.drawImage(fig.imageObj, 0, 0);\n",
       "        };\n",
       "\n",
       "    this.imageObj.onunload = function() {\n",
       "        fig.ws.close();\n",
       "    }\n",
       "\n",
       "    this.ws.onmessage = this._make_on_message_function(this);\n",
       "\n",
       "    this.ondownload = ondownload;\n",
       "}\n",
       "\n",
       "mpl.figure.prototype._init_header = function() {\n",
       "    var titlebar = $(\n",
       "        '<div class=\"ui-dialog-titlebar ui-widget-header ui-corner-all ' +\n",
       "        'ui-helper-clearfix\"/>');\n",
       "    var titletext = $(\n",
       "        '<div class=\"ui-dialog-title\" style=\"width: 100%; ' +\n",
       "        'text-align: center; padding: 3px;\"/>');\n",
       "    titlebar.append(titletext)\n",
       "    this.root.append(titlebar);\n",
       "    this.header = titletext[0];\n",
       "}\n",
       "\n",
       "\n",
       "\n",
       "mpl.figure.prototype._canvas_extra_style = function(canvas_div) {\n",
       "\n",
       "}\n",
       "\n",
       "\n",
       "mpl.figure.prototype._root_extra_style = function(canvas_div) {\n",
       "\n",
       "}\n",
       "\n",
       "mpl.figure.prototype._init_canvas = function() {\n",
       "    var fig = this;\n",
       "\n",
       "    var canvas_div = $('<div/>');\n",
       "\n",
       "    canvas_div.attr('style', 'position: relative; clear: both; outline: 0');\n",
       "\n",
       "    function canvas_keyboard_event(event) {\n",
       "        return fig.key_event(event, event['data']);\n",
       "    }\n",
       "\n",
       "    canvas_div.keydown('key_press', canvas_keyboard_event);\n",
       "    canvas_div.keyup('key_release', canvas_keyboard_event);\n",
       "    this.canvas_div = canvas_div\n",
       "    this._canvas_extra_style(canvas_div)\n",
       "    this.root.append(canvas_div);\n",
       "\n",
       "    var canvas = $('<canvas/>');\n",
       "    canvas.addClass('mpl-canvas');\n",
       "    canvas.attr('style', \"left: 0; top: 0; z-index: 0; outline: 0\")\n",
       "\n",
       "    this.canvas = canvas[0];\n",
       "    this.context = canvas[0].getContext(\"2d\");\n",
       "\n",
       "    var backingStore = this.context.backingStorePixelRatio ||\n",
       "\tthis.context.webkitBackingStorePixelRatio ||\n",
       "\tthis.context.mozBackingStorePixelRatio ||\n",
       "\tthis.context.msBackingStorePixelRatio ||\n",
       "\tthis.context.oBackingStorePixelRatio ||\n",
       "\tthis.context.backingStorePixelRatio || 1;\n",
       "\n",
       "    mpl.ratio = (window.devicePixelRatio || 1) / backingStore;\n",
       "\n",
       "    var rubberband = $('<canvas/>');\n",
       "    rubberband.attr('style', \"position: absolute; left: 0; top: 0; z-index: 1;\")\n",
       "\n",
       "    var pass_mouse_events = true;\n",
       "\n",
       "    canvas_div.resizable({\n",
       "        start: function(event, ui) {\n",
       "            pass_mouse_events = false;\n",
       "        },\n",
       "        resize: function(event, ui) {\n",
       "            fig.request_resize(ui.size.width, ui.size.height);\n",
       "        },\n",
       "        stop: function(event, ui) {\n",
       "            pass_mouse_events = true;\n",
       "            fig.request_resize(ui.size.width, ui.size.height);\n",
       "        },\n",
       "    });\n",
       "\n",
       "    function mouse_event_fn(event) {\n",
       "        if (pass_mouse_events)\n",
       "            return fig.mouse_event(event, event['data']);\n",
       "    }\n",
       "\n",
       "    rubberband.mousedown('button_press', mouse_event_fn);\n",
       "    rubberband.mouseup('button_release', mouse_event_fn);\n",
       "    // Throttle sequential mouse events to 1 every 20ms.\n",
       "    rubberband.mousemove('motion_notify', mouse_event_fn);\n",
       "\n",
       "    rubberband.mouseenter('figure_enter', mouse_event_fn);\n",
       "    rubberband.mouseleave('figure_leave', mouse_event_fn);\n",
       "\n",
       "    canvas_div.on(\"wheel\", function (event) {\n",
       "        event = event.originalEvent;\n",
       "        event['data'] = 'scroll'\n",
       "        if (event.deltaY < 0) {\n",
       "            event.step = 1;\n",
       "        } else {\n",
       "            event.step = -1;\n",
       "        }\n",
       "        mouse_event_fn(event);\n",
       "    });\n",
       "\n",
       "    canvas_div.append(canvas);\n",
       "    canvas_div.append(rubberband);\n",
       "\n",
       "    this.rubberband = rubberband;\n",
       "    this.rubberband_canvas = rubberband[0];\n",
       "    this.rubberband_context = rubberband[0].getContext(\"2d\");\n",
       "    this.rubberband_context.strokeStyle = \"#000000\";\n",
       "\n",
       "    this._resize_canvas = function(width, height) {\n",
       "        // Keep the size of the canvas, canvas container, and rubber band\n",
       "        // canvas in synch.\n",
       "        canvas_div.css('width', width)\n",
       "        canvas_div.css('height', height)\n",
       "\n",
       "        canvas.attr('width', width * mpl.ratio);\n",
       "        canvas.attr('height', height * mpl.ratio);\n",
       "        canvas.attr('style', 'width: ' + width + 'px; height: ' + height + 'px;');\n",
       "\n",
       "        rubberband.attr('width', width);\n",
       "        rubberband.attr('height', height);\n",
       "    }\n",
       "\n",
       "    // Set the figure to an initial 600x600px, this will subsequently be updated\n",
       "    // upon first draw.\n",
       "    this._resize_canvas(600, 600);\n",
       "\n",
       "    // Disable right mouse context menu.\n",
       "    $(this.rubberband_canvas).bind(\"contextmenu\",function(e){\n",
       "        return false;\n",
       "    });\n",
       "\n",
       "    function set_focus () {\n",
       "        canvas.focus();\n",
       "        canvas_div.focus();\n",
       "    }\n",
       "\n",
       "    window.setTimeout(set_focus, 100);\n",
       "}\n",
       "\n",
       "mpl.figure.prototype._init_toolbar = function() {\n",
       "    var fig = this;\n",
       "\n",
       "    var nav_element = $('<div/>')\n",
       "    nav_element.attr('style', 'width: 100%');\n",
       "    this.root.append(nav_element);\n",
       "\n",
       "    // Define a callback function for later on.\n",
       "    function toolbar_event(event) {\n",
       "        return fig.toolbar_button_onclick(event['data']);\n",
       "    }\n",
       "    function toolbar_mouse_event(event) {\n",
       "        return fig.toolbar_button_onmouseover(event['data']);\n",
       "    }\n",
       "\n",
       "    for(var toolbar_ind in mpl.toolbar_items) {\n",
       "        var name = mpl.toolbar_items[toolbar_ind][0];\n",
       "        var tooltip = mpl.toolbar_items[toolbar_ind][1];\n",
       "        var image = mpl.toolbar_items[toolbar_ind][2];\n",
       "        var method_name = mpl.toolbar_items[toolbar_ind][3];\n",
       "\n",
       "        if (!name) {\n",
       "            // put a spacer in here.\n",
       "            continue;\n",
       "        }\n",
       "        var button = $('<button/>');\n",
       "        button.addClass('ui-button ui-widget ui-state-default ui-corner-all ' +\n",
       "                        'ui-button-icon-only');\n",
       "        button.attr('role', 'button');\n",
       "        button.attr('aria-disabled', 'false');\n",
       "        button.click(method_name, toolbar_event);\n",
       "        button.mouseover(tooltip, toolbar_mouse_event);\n",
       "\n",
       "        var icon_img = $('<span/>');\n",
       "        icon_img.addClass('ui-button-icon-primary ui-icon');\n",
       "        icon_img.addClass(image);\n",
       "        icon_img.addClass('ui-corner-all');\n",
       "\n",
       "        var tooltip_span = $('<span/>');\n",
       "        tooltip_span.addClass('ui-button-text');\n",
       "        tooltip_span.html(tooltip);\n",
       "\n",
       "        button.append(icon_img);\n",
       "        button.append(tooltip_span);\n",
       "\n",
       "        nav_element.append(button);\n",
       "    }\n",
       "\n",
       "    var fmt_picker_span = $('<span/>');\n",
       "\n",
       "    var fmt_picker = $('<select/>');\n",
       "    fmt_picker.addClass('mpl-toolbar-option ui-widget ui-widget-content');\n",
       "    fmt_picker_span.append(fmt_picker);\n",
       "    nav_element.append(fmt_picker_span);\n",
       "    this.format_dropdown = fmt_picker[0];\n",
       "\n",
       "    for (var ind in mpl.extensions) {\n",
       "        var fmt = mpl.extensions[ind];\n",
       "        var option = $(\n",
       "            '<option/>', {selected: fmt === mpl.default_extension}).html(fmt);\n",
       "        fmt_picker.append(option)\n",
       "    }\n",
       "\n",
       "    // Add hover states to the ui-buttons\n",
       "    $( \".ui-button\" ).hover(\n",
       "        function() { $(this).addClass(\"ui-state-hover\");},\n",
       "        function() { $(this).removeClass(\"ui-state-hover\");}\n",
       "    );\n",
       "\n",
       "    var status_bar = $('<span class=\"mpl-message\"/>');\n",
       "    nav_element.append(status_bar);\n",
       "    this.message = status_bar[0];\n",
       "}\n",
       "\n",
       "mpl.figure.prototype.request_resize = function(x_pixels, y_pixels) {\n",
       "    // Request matplotlib to resize the figure. Matplotlib will then trigger a resize in the client,\n",
       "    // which will in turn request a refresh of the image.\n",
       "    this.send_message('resize', {'width': x_pixels, 'height': y_pixels});\n",
       "}\n",
       "\n",
       "mpl.figure.prototype.send_message = function(type, properties) {\n",
       "    properties['type'] = type;\n",
       "    properties['figure_id'] = this.id;\n",
       "    this.ws.send(JSON.stringify(properties));\n",
       "}\n",
       "\n",
       "mpl.figure.prototype.send_draw_message = function() {\n",
       "    if (!this.waiting) {\n",
       "        this.waiting = true;\n",
       "        this.ws.send(JSON.stringify({type: \"draw\", figure_id: this.id}));\n",
       "    }\n",
       "}\n",
       "\n",
       "\n",
       "mpl.figure.prototype.handle_save = function(fig, msg) {\n",
       "    var format_dropdown = fig.format_dropdown;\n",
       "    var format = format_dropdown.options[format_dropdown.selectedIndex].value;\n",
       "    fig.ondownload(fig, format);\n",
       "}\n",
       "\n",
       "\n",
       "mpl.figure.prototype.handle_resize = function(fig, msg) {\n",
       "    var size = msg['size'];\n",
       "    if (size[0] != fig.canvas.width || size[1] != fig.canvas.height) {\n",
       "        fig._resize_canvas(size[0], size[1]);\n",
       "        fig.send_message(\"refresh\", {});\n",
       "    };\n",
       "}\n",
       "\n",
       "mpl.figure.prototype.handle_rubberband = function(fig, msg) {\n",
       "    var x0 = msg['x0'] / mpl.ratio;\n",
       "    var y0 = (fig.canvas.height - msg['y0']) / mpl.ratio;\n",
       "    var x1 = msg['x1'] / mpl.ratio;\n",
       "    var y1 = (fig.canvas.height - msg['y1']) / mpl.ratio;\n",
       "    x0 = Math.floor(x0) + 0.5;\n",
       "    y0 = Math.floor(y0) + 0.5;\n",
       "    x1 = Math.floor(x1) + 0.5;\n",
       "    y1 = Math.floor(y1) + 0.5;\n",
       "    var min_x = Math.min(x0, x1);\n",
       "    var min_y = Math.min(y0, y1);\n",
       "    var width = Math.abs(x1 - x0);\n",
       "    var height = Math.abs(y1 - y0);\n",
       "\n",
       "    fig.rubberband_context.clearRect(\n",
       "        0, 0, fig.canvas.width, fig.canvas.height);\n",
       "\n",
       "    fig.rubberband_context.strokeRect(min_x, min_y, width, height);\n",
       "}\n",
       "\n",
       "mpl.figure.prototype.handle_figure_label = function(fig, msg) {\n",
       "    // Updates the figure title.\n",
       "    fig.header.textContent = msg['label'];\n",
       "}\n",
       "\n",
       "mpl.figure.prototype.handle_cursor = function(fig, msg) {\n",
       "    var cursor = msg['cursor'];\n",
       "    switch(cursor)\n",
       "    {\n",
       "    case 0:\n",
       "        cursor = 'pointer';\n",
       "        break;\n",
       "    case 1:\n",
       "        cursor = 'default';\n",
       "        break;\n",
       "    case 2:\n",
       "        cursor = 'crosshair';\n",
       "        break;\n",
       "    case 3:\n",
       "        cursor = 'move';\n",
       "        break;\n",
       "    }\n",
       "    fig.rubberband_canvas.style.cursor = cursor;\n",
       "}\n",
       "\n",
       "mpl.figure.prototype.handle_message = function(fig, msg) {\n",
       "    fig.message.textContent = msg['message'];\n",
       "}\n",
       "\n",
       "mpl.figure.prototype.handle_draw = function(fig, msg) {\n",
       "    // Request the server to send over a new figure.\n",
       "    fig.send_draw_message();\n",
       "}\n",
       "\n",
       "mpl.figure.prototype.handle_image_mode = function(fig, msg) {\n",
       "    fig.image_mode = msg['mode'];\n",
       "}\n",
       "\n",
       "mpl.figure.prototype.updated_canvas_event = function() {\n",
       "    // Called whenever the canvas gets updated.\n",
       "    this.send_message(\"ack\", {});\n",
       "}\n",
       "\n",
       "// A function to construct a web socket function for onmessage handling.\n",
       "// Called in the figure constructor.\n",
       "mpl.figure.prototype._make_on_message_function = function(fig) {\n",
       "    return function socket_on_message(evt) {\n",
       "        if (evt.data instanceof Blob) {\n",
       "            /* FIXME: We get \"Resource interpreted as Image but\n",
       "             * transferred with MIME type text/plain:\" errors on\n",
       "             * Chrome.  But how to set the MIME type?  It doesn't seem\n",
       "             * to be part of the websocket stream */\n",
       "            evt.data.type = \"image/png\";\n",
       "\n",
       "            /* Free the memory for the previous frames */\n",
       "            if (fig.imageObj.src) {\n",
       "                (window.URL || window.webkitURL).revokeObjectURL(\n",
       "                    fig.imageObj.src);\n",
       "            }\n",
       "\n",
       "            fig.imageObj.src = (window.URL || window.webkitURL).createObjectURL(\n",
       "                evt.data);\n",
       "            fig.updated_canvas_event();\n",
       "            fig.waiting = false;\n",
       "            return;\n",
       "        }\n",
       "        else if (typeof evt.data === 'string' && evt.data.slice(0, 21) == \"data:image/png;base64\") {\n",
       "            fig.imageObj.src = evt.data;\n",
       "            fig.updated_canvas_event();\n",
       "            fig.waiting = false;\n",
       "            return;\n",
       "        }\n",
       "\n",
       "        var msg = JSON.parse(evt.data);\n",
       "        var msg_type = msg['type'];\n",
       "\n",
       "        // Call the  \"handle_{type}\" callback, which takes\n",
       "        // the figure and JSON message as its only arguments.\n",
       "        try {\n",
       "            var callback = fig[\"handle_\" + msg_type];\n",
       "        } catch (e) {\n",
       "            console.log(\"No handler for the '\" + msg_type + \"' message type: \", msg);\n",
       "            return;\n",
       "        }\n",
       "\n",
       "        if (callback) {\n",
       "            try {\n",
       "                // console.log(\"Handling '\" + msg_type + \"' message: \", msg);\n",
       "                callback(fig, msg);\n",
       "            } catch (e) {\n",
       "                console.log(\"Exception inside the 'handler_\" + msg_type + \"' callback:\", e, e.stack, msg);\n",
       "            }\n",
       "        }\n",
       "    };\n",
       "}\n",
       "\n",
       "// from http://stackoverflow.com/questions/1114465/getting-mouse-location-in-canvas\n",
       "mpl.findpos = function(e) {\n",
       "    //this section is from http://www.quirksmode.org/js/events_properties.html\n",
       "    var targ;\n",
       "    if (!e)\n",
       "        e = window.event;\n",
       "    if (e.target)\n",
       "        targ = e.target;\n",
       "    else if (e.srcElement)\n",
       "        targ = e.srcElement;\n",
       "    if (targ.nodeType == 3) // defeat Safari bug\n",
       "        targ = targ.parentNode;\n",
       "\n",
       "    // jQuery normalizes the pageX and pageY\n",
       "    // pageX,Y are the mouse positions relative to the document\n",
       "    // offset() returns the position of the element relative to the document\n",
       "    var x = e.pageX - $(targ).offset().left;\n",
       "    var y = e.pageY - $(targ).offset().top;\n",
       "\n",
       "    return {\"x\": x, \"y\": y};\n",
       "};\n",
       "\n",
       "/*\n",
       " * return a copy of an object with only non-object keys\n",
       " * we need this to avoid circular references\n",
       " * http://stackoverflow.com/a/24161582/3208463\n",
       " */\n",
       "function simpleKeys (original) {\n",
       "  return Object.keys(original).reduce(function (obj, key) {\n",
       "    if (typeof original[key] !== 'object')\n",
       "        obj[key] = original[key]\n",
       "    return obj;\n",
       "  }, {});\n",
       "}\n",
       "\n",
       "mpl.figure.prototype.mouse_event = function(event, name) {\n",
       "    var canvas_pos = mpl.findpos(event)\n",
       "\n",
       "    if (name === 'button_press')\n",
       "    {\n",
       "        this.canvas.focus();\n",
       "        this.canvas_div.focus();\n",
       "    }\n",
       "\n",
       "    var x = canvas_pos.x * mpl.ratio;\n",
       "    var y = canvas_pos.y * mpl.ratio;\n",
       "\n",
       "    this.send_message(name, {x: x, y: y, button: event.button,\n",
       "                             step: event.step,\n",
       "                             guiEvent: simpleKeys(event)});\n",
       "\n",
       "    /* This prevents the web browser from automatically changing to\n",
       "     * the text insertion cursor when the button is pressed.  We want\n",
       "     * to control all of the cursor setting manually through the\n",
       "     * 'cursor' event from matplotlib */\n",
       "    event.preventDefault();\n",
       "    return false;\n",
       "}\n",
       "\n",
       "mpl.figure.prototype._key_event_extra = function(event, name) {\n",
       "    // Handle any extra behaviour associated with a key event\n",
       "}\n",
       "\n",
       "mpl.figure.prototype.key_event = function(event, name) {\n",
       "\n",
       "    // Prevent repeat events\n",
       "    if (name == 'key_press')\n",
       "    {\n",
       "        if (event.which === this._key)\n",
       "            return;\n",
       "        else\n",
       "            this._key = event.which;\n",
       "    }\n",
       "    if (name == 'key_release')\n",
       "        this._key = null;\n",
       "\n",
       "    var value = '';\n",
       "    if (event.ctrlKey && event.which != 17)\n",
       "        value += \"ctrl+\";\n",
       "    if (event.altKey && event.which != 18)\n",
       "        value += \"alt+\";\n",
       "    if (event.shiftKey && event.which != 16)\n",
       "        value += \"shift+\";\n",
       "\n",
       "    value += 'k';\n",
       "    value += event.which.toString();\n",
       "\n",
       "    this._key_event_extra(event, name);\n",
       "\n",
       "    this.send_message(name, {key: value,\n",
       "                             guiEvent: simpleKeys(event)});\n",
       "    return false;\n",
       "}\n",
       "\n",
       "mpl.figure.prototype.toolbar_button_onclick = function(name) {\n",
       "    if (name == 'download') {\n",
       "        this.handle_save(this, null);\n",
       "    } else {\n",
       "        this.send_message(\"toolbar_button\", {name: name});\n",
       "    }\n",
       "};\n",
       "\n",
       "mpl.figure.prototype.toolbar_button_onmouseover = function(tooltip) {\n",
       "    this.message.textContent = tooltip;\n",
       "};\n",
       "mpl.toolbar_items = [[\"Home\", \"Reset original view\", \"fa fa-home icon-home\", \"home\"], [\"Back\", \"Back to  previous view\", \"fa fa-arrow-left icon-arrow-left\", \"back\"], [\"Forward\", \"Forward to next view\", \"fa fa-arrow-right icon-arrow-right\", \"forward\"], [\"\", \"\", \"\", \"\"], [\"Pan\", \"Pan axes with left mouse, zoom with right\", \"fa fa-arrows icon-move\", \"pan\"], [\"Zoom\", \"Zoom to rectangle\", \"fa fa-square-o icon-check-empty\", \"zoom\"], [\"\", \"\", \"\", \"\"], [\"Download\", \"Download plot\", \"fa fa-floppy-o icon-save\", \"download\"]];\n",
       "\n",
       "mpl.extensions = [\"eps\", \"jpeg\", \"pdf\", \"png\", \"ps\", \"raw\", \"svg\", \"tif\"];\n",
       "\n",
       "mpl.default_extension = \"png\";var comm_websocket_adapter = function(comm) {\n",
       "    // Create a \"websocket\"-like object which calls the given IPython comm\n",
       "    // object with the appropriate methods. Currently this is a non binary\n",
       "    // socket, so there is still some room for performance tuning.\n",
       "    var ws = {};\n",
       "\n",
       "    ws.close = function() {\n",
       "        comm.close()\n",
       "    };\n",
       "    ws.send = function(m) {\n",
       "        //console.log('sending', m);\n",
       "        comm.send(m);\n",
       "    };\n",
       "    // Register the callback with on_msg.\n",
       "    comm.on_msg(function(msg) {\n",
       "        //console.log('receiving', msg['content']['data'], msg);\n",
       "        // Pass the mpl event to the overriden (by mpl) onmessage function.\n",
       "        ws.onmessage(msg['content']['data'])\n",
       "    });\n",
       "    return ws;\n",
       "}\n",
       "\n",
       "mpl.mpl_figure_comm = function(comm, msg) {\n",
       "    // This is the function which gets called when the mpl process\n",
       "    // starts-up an IPython Comm through the \"matplotlib\" channel.\n",
       "\n",
       "    var id = msg.content.data.id;\n",
       "    // Get hold of the div created by the display call when the Comm\n",
       "    // socket was opened in Python.\n",
       "    var element = $(\"#\" + id);\n",
       "    var ws_proxy = comm_websocket_adapter(comm)\n",
       "\n",
       "    function ondownload(figure, format) {\n",
       "        window.open(figure.imageObj.src);\n",
       "    }\n",
       "\n",
       "    var fig = new mpl.figure(id, ws_proxy,\n",
       "                           ondownload,\n",
       "                           element.get(0));\n",
       "\n",
       "    // Call onopen now - mpl needs it, as it is assuming we've passed it a real\n",
       "    // web socket which is closed, not our websocket->open comm proxy.\n",
       "    ws_proxy.onopen();\n",
       "\n",
       "    fig.parent_element = element.get(0);\n",
       "    fig.cell_info = mpl.find_output_cell(\"<div id='\" + id + \"'></div>\");\n",
       "    if (!fig.cell_info) {\n",
       "        console.error(\"Failed to find cell for figure\", id, fig);\n",
       "        return;\n",
       "    }\n",
       "\n",
       "    var output_index = fig.cell_info[2]\n",
       "    var cell = fig.cell_info[0];\n",
       "\n",
       "};\n",
       "\n",
       "mpl.figure.prototype.handle_close = function(fig, msg) {\n",
       "    var width = fig.canvas.width/mpl.ratio\n",
       "    fig.root.unbind('remove')\n",
       "\n",
       "    // Update the output cell to use the data from the current canvas.\n",
       "    fig.push_to_output();\n",
       "    var dataURL = fig.canvas.toDataURL();\n",
       "    // Re-enable the keyboard manager in IPython - without this line, in FF,\n",
       "    // the notebook keyboard shortcuts fail.\n",
       "    IPython.keyboard_manager.enable()\n",
       "    $(fig.parent_element).html('<img src=\"' + dataURL + '\" width=\"' + width + '\">');\n",
       "    fig.close_ws(fig, msg);\n",
       "}\n",
       "\n",
       "mpl.figure.prototype.close_ws = function(fig, msg){\n",
       "    fig.send_message('closing', msg);\n",
       "    // fig.ws.close()\n",
       "}\n",
       "\n",
       "mpl.figure.prototype.push_to_output = function(remove_interactive) {\n",
       "    // Turn the data on the canvas into data in the output cell.\n",
       "    var width = this.canvas.width/mpl.ratio\n",
       "    var dataURL = this.canvas.toDataURL();\n",
       "    this.cell_info[1]['text/html'] = '<img src=\"' + dataURL + '\" width=\"' + width + '\">';\n",
       "}\n",
       "\n",
       "mpl.figure.prototype.updated_canvas_event = function() {\n",
       "    // Tell IPython that the notebook contents must change.\n",
       "    IPython.notebook.set_dirty(true);\n",
       "    this.send_message(\"ack\", {});\n",
       "    var fig = this;\n",
       "    // Wait a second, then push the new image to the DOM so\n",
       "    // that it is saved nicely (might be nice to debounce this).\n",
       "    setTimeout(function () { fig.push_to_output() }, 1000);\n",
       "}\n",
       "\n",
       "mpl.figure.prototype._init_toolbar = function() {\n",
       "    var fig = this;\n",
       "\n",
       "    var nav_element = $('<div/>')\n",
       "    nav_element.attr('style', 'width: 100%');\n",
       "    this.root.append(nav_element);\n",
       "\n",
       "    // Define a callback function for later on.\n",
       "    function toolbar_event(event) {\n",
       "        return fig.toolbar_button_onclick(event['data']);\n",
       "    }\n",
       "    function toolbar_mouse_event(event) {\n",
       "        return fig.toolbar_button_onmouseover(event['data']);\n",
       "    }\n",
       "\n",
       "    for(var toolbar_ind in mpl.toolbar_items){\n",
       "        var name = mpl.toolbar_items[toolbar_ind][0];\n",
       "        var tooltip = mpl.toolbar_items[toolbar_ind][1];\n",
       "        var image = mpl.toolbar_items[toolbar_ind][2];\n",
       "        var method_name = mpl.toolbar_items[toolbar_ind][3];\n",
       "\n",
       "        if (!name) { continue; };\n",
       "\n",
       "        var button = $('<button class=\"btn btn-default\" href=\"#\" title=\"' + name + '\"><i class=\"fa ' + image + ' fa-lg\"></i></button>');\n",
       "        button.click(method_name, toolbar_event);\n",
       "        button.mouseover(tooltip, toolbar_mouse_event);\n",
       "        nav_element.append(button);\n",
       "    }\n",
       "\n",
       "    // Add the status bar.\n",
       "    var status_bar = $('<span class=\"mpl-message\" style=\"text-align:right; float: right;\"/>');\n",
       "    nav_element.append(status_bar);\n",
       "    this.message = status_bar[0];\n",
       "\n",
       "    // Add the close button to the window.\n",
       "    var buttongrp = $('<div class=\"btn-group inline pull-right\"></div>');\n",
       "    var button = $('<button class=\"btn btn-mini btn-primary\" href=\"#\" title=\"Stop Interaction\"><i class=\"fa fa-power-off icon-remove icon-large\"></i></button>');\n",
       "    button.click(function (evt) { fig.handle_close(fig, {}); } );\n",
       "    button.mouseover('Stop Interaction', toolbar_mouse_event);\n",
       "    buttongrp.append(button);\n",
       "    var titlebar = this.root.find($('.ui-dialog-titlebar'));\n",
       "    titlebar.prepend(buttongrp);\n",
       "}\n",
       "\n",
       "mpl.figure.prototype._root_extra_style = function(el){\n",
       "    var fig = this\n",
       "    el.on(\"remove\", function(){\n",
       "\tfig.close_ws(fig, {});\n",
       "    });\n",
       "}\n",
       "\n",
       "mpl.figure.prototype._canvas_extra_style = function(el){\n",
       "    // this is important to make the div 'focusable\n",
       "    el.attr('tabindex', 0)\n",
       "    // reach out to IPython and tell the keyboard manager to turn it's self\n",
       "    // off when our div gets focus\n",
       "\n",
       "    // location in version 3\n",
       "    if (IPython.notebook.keyboard_manager) {\n",
       "        IPython.notebook.keyboard_manager.register_events(el);\n",
       "    }\n",
       "    else {\n",
       "        // location in version 2\n",
       "        IPython.keyboard_manager.register_events(el);\n",
       "    }\n",
       "\n",
       "}\n",
       "\n",
       "mpl.figure.prototype._key_event_extra = function(event, name) {\n",
       "    var manager = IPython.notebook.keyboard_manager;\n",
       "    if (!manager)\n",
       "        manager = IPython.keyboard_manager;\n",
       "\n",
       "    // Check for shift+enter\n",
       "    if (event.shiftKey && event.which == 13) {\n",
       "        this.canvas_div.blur();\n",
       "        event.shiftKey = false;\n",
       "        // Send a \"J\" for go to next cell\n",
       "        event.which = 74;\n",
       "        event.keyCode = 74;\n",
       "        manager.command_mode();\n",
       "        manager.handle_keydown(event);\n",
       "    }\n",
       "}\n",
       "\n",
       "mpl.figure.prototype.handle_save = function(fig, msg) {\n",
       "    fig.ondownload(fig, null);\n",
       "}\n",
       "\n",
       "\n",
       "mpl.find_output_cell = function(html_output) {\n",
       "    // Return the cell and output element which can be found *uniquely* in the notebook.\n",
       "    // Note - this is a bit hacky, but it is done because the \"notebook_saving.Notebook\"\n",
       "    // IPython event is triggered only after the cells have been serialised, which for\n",
       "    // our purposes (turning an active figure into a static one), is too late.\n",
       "    var cells = IPython.notebook.get_cells();\n",
       "    var ncells = cells.length;\n",
       "    for (var i=0; i<ncells; i++) {\n",
       "        var cell = cells[i];\n",
       "        if (cell.cell_type === 'code'){\n",
       "            for (var j=0; j<cell.output_area.outputs.length; j++) {\n",
       "                var data = cell.output_area.outputs[j];\n",
       "                if (data.data) {\n",
       "                    // IPython >= 3 moved mimebundle to data attribute of output\n",
       "                    data = data.data;\n",
       "                }\n",
       "                if (data['text/html'] == html_output) {\n",
       "                    return [cell, data, j];\n",
       "                }\n",
       "            }\n",
       "        }\n",
       "    }\n",
       "}\n",
       "\n",
       "// Register the function which deals with the matplotlib target/channel.\n",
       "// The kernel may be null if the page has been refreshed.\n",
       "if (IPython.notebook.kernel != null) {\n",
       "    IPython.notebook.kernel.comm_manager.register_target('matplotlib', mpl.mpl_figure_comm);\n",
       "}\n"
      ],
      "text/plain": [
       "<IPython.core.display.Javascript object>"
      ]
     },
     "metadata": {},
     "output_type": "display_data"
    },
    {
     "data": {
      "text/html": [
       "<img src=\"data:image/png;base64,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\" width=\"640\">"
      ],
      "text/plain": [
       "<IPython.core.display.HTML object>"
      ]
     },
     "metadata": {},
     "output_type": "display_data"
    }
   ],
   "source": [
    "f, ax = plt.subplots(1, figsize=(6,6))\n",
    "# ax = \n",
    "counties.plot('rand_float', legend=True, ax=ax)#, legend_kwds=leg_kwds_dict)\n",
    "# ax.legend()\n",
    "handles, labels = ax.get_legend_handles_labels() # does not return either handles or labels\n"
   ]
  },
  {
   "cell_type": "code",
   "execution_count": 49,
   "metadata": {
    "collapsed": false
   },
   "outputs": [
    {
     "data": {
      "text/plain": [
       "0"
      ]
     },
     "execution_count": 49,
     "metadata": {},
     "output_type": "execute_result"
    }
   ],
   "source": [
    "len(handles)"
   ]
  },
  {
   "cell_type": "code",
   "execution_count": 16,
   "metadata": {
    "collapsed": false,
    "extensions": {
     "jupyter_dashboards": {
      "version": 1,
      "views": {
       "grid_default": {
        "hidden": true
       },
       "report_default": {
        "hidden": true
       }
      }
     }
    }
   },
   "outputs": [
    {
     "name": "stderr",
     "output_type": "stream",
     "text": [
      "/Users/crh278/anaconda3/envs/ada-env/lib/python2.7/site-packages/pandas/core/reshape/reshape.py:731: FutureWarning: \n",
      "Passing list-likes to .loc or [] with any missing label will raise\n",
      "KeyError in the future, you can use .reindex() as an alternative.\n",
      "\n",
      "See the documentation here:\n",
      "http://pandas.pydata.org/pandas-docs/stable/indexing.html#deprecate-loc-reindex-listlike\n",
      "  frame = frame.loc[:, id_vars + value_vars]\n",
      "/Users/crh278/anaconda3/envs/ada-env/lib/python2.7/site-packages/pandas/core/indexing.py:1367: FutureWarning: \n",
      "Passing list-likes to .loc or [] with any missing label will raise\n",
      "KeyError in the future, you can use .reindex() as an alternative.\n",
      "\n",
      "See the documentation here:\n",
      "http://pandas.pydata.org/pandas-docs/stable/indexing.html#deprecate-loc-reindex-listlike\n",
      "  return self._getitem_tuple(key)\n"
     ]
    }
   ],
   "source": [
    "# prep data for comparison of variables over time\n",
    "dfpl = df.groupby('year')[df.columns.tolist()[1:-3]].sum().reset_index()\n",
    "dfpl2 = pd.melt(dfpl, id_vars='year', value_vars=df.columns.tolist()[1:-3])"
   ]
  },
  {
   "cell_type": "code",
   "execution_count": 17,
   "metadata": {
    "collapsed": false,
    "extensions": {
     "jupyter_dashboards": {
      "version": 1,
      "views": {
       "grid_default": {
        "col": 0,
        "height": 10,
        "hidden": true,
        "row": 24,
        "width": 4
       },
       "report_default": {
        "hidden": true
       }
      }
     }
    }
   },
   "outputs": [
    {
     "name": "stdout",
     "output_type": "stream",
     "text": [
      "<class 'pandas.core.frame.DataFrame'>\n",
      "RangeIndex: 8 entries, 0 to 7\n",
      "Data columns (total 52 columns):\n",
      "year     8 non-null int64\n",
      "c000     8 non-null int64\n",
      "ca01     8 non-null int64\n",
      "ca02     8 non-null int64\n",
      "ca03     8 non-null int64\n",
      "ce01     8 non-null int64\n",
      "ce02     8 non-null int64\n",
      "ce03     8 non-null int64\n",
      "cns01    8 non-null int64\n",
      "cns02    8 non-null int64\n",
      "cns03    8 non-null int64\n",
      "cns04    8 non-null int64\n",
      "cns05    8 non-null int64\n",
      "cns06    8 non-null int64\n",
      "cns07    8 non-null int64\n",
      "cns08    8 non-null int64\n",
      "cns09    8 non-null int64\n",
      "cns10    8 non-null int64\n",
      "cns11    8 non-null int64\n",
      "cns12    8 non-null int64\n",
      "cns13    8 non-null int64\n",
      "cns14    8 non-null int64\n",
      "cns15    8 non-null int64\n",
      "cns16    8 non-null int64\n",
      "cns17    8 non-null int64\n",
      "cns18    8 non-null int64\n",
      "cns19    8 non-null int64\n",
      "cns20    8 non-null int64\n",
      "cr01     8 non-null int64\n",
      "cr02     8 non-null int64\n",
      "cr03     8 non-null int64\n",
      "cr04     8 non-null int64\n",
      "cr05     8 non-null int64\n",
      "cr07     8 non-null int64\n",
      "ct01     8 non-null int64\n",
      "ct02     8 non-null int64\n",
      "cd01     8 non-null int64\n",
      "cd02     8 non-null int64\n",
      "cd03     8 non-null int64\n",
      "cd04     8 non-null int64\n",
      "cs01     8 non-null int64\n",
      "cs02     8 non-null int64\n",
      "cfa01    8 non-null int64\n",
      "cfa02    8 non-null int64\n",
      "cfa03    8 non-null int64\n",
      "cfa04    8 non-null int64\n",
      "cfa05    8 non-null int64\n",
      "cfs01    8 non-null int64\n",
      "cfs02    8 non-null int64\n",
      "cfs03    8 non-null int64\n",
      "cfs04    8 non-null int64\n",
      "cfs05    8 non-null int64\n",
      "dtypes: int64(52)\n",
      "memory usage: 3.3 KB\n"
     ]
    }
   ],
   "source": [
    "# sns.pointplot('ce01', 'ca02', 'year', data=df, markers='o')#, linestyles='--', )\n",
    "\n",
    "dfpl.info()"
   ]
  },
  {
   "cell_type": "code",
   "execution_count": 18,
   "metadata": {
    "collapsed": false,
    "extensions": {
     "jupyter_dashboards": {
      "version": 1,
      "views": {
       "grid_default": {
        "col": 4,
        "height": 9,
        "hidden": true,
        "row": 30,
        "width": 4
       },
       "report_default": {
        "hidden": true
       }
      }
     }
    }
   },
   "outputs": [
    {
     "data": {
      "application/javascript": [
       "/* Put everything inside the global mpl namespace */\n",
       "window.mpl = {};\n",
       "\n",
       "\n",
       "mpl.get_websocket_type = function() {\n",
       "    if (typeof(WebSocket) !== 'undefined') {\n",
       "        return WebSocket;\n",
       "    } else if (typeof(MozWebSocket) !== 'undefined') {\n",
       "        return MozWebSocket;\n",
       "    } else {\n",
       "        alert('Your browser does not have WebSocket support.' +\n",
       "              'Please try Chrome, Safari or Firefox ≥ 6. ' +\n",
       "              'Firefox 4 and 5 are also supported but you ' +\n",
       "              'have to enable WebSockets in about:config.');\n",
       "    };\n",
       "}\n",
       "\n",
       "mpl.figure = function(figure_id, websocket, ondownload, parent_element) {\n",
       "    this.id = figure_id;\n",
       "\n",
       "    this.ws = websocket;\n",
       "\n",
       "    this.supports_binary = (this.ws.binaryType != undefined);\n",
       "\n",
       "    if (!this.supports_binary) {\n",
       "        var warnings = document.getElementById(\"mpl-warnings\");\n",
       "        if (warnings) {\n",
       "            warnings.style.display = 'block';\n",
       "            warnings.textContent = (\n",
       "                \"This browser does not support binary websocket messages. \" +\n",
       "                    \"Performance may be slow.\");\n",
       "        }\n",
       "    }\n",
       "\n",
       "    this.imageObj = new Image();\n",
       "\n",
       "    this.context = undefined;\n",
       "    this.message = undefined;\n",
       "    this.canvas = undefined;\n",
       "    this.rubberband_canvas = undefined;\n",
       "    this.rubberband_context = undefined;\n",
       "    this.format_dropdown = undefined;\n",
       "\n",
       "    this.image_mode = 'full';\n",
       "\n",
       "    this.root = $('<div/>');\n",
       "    this._root_extra_style(this.root)\n",
       "    this.root.attr('style', 'display: inline-block');\n",
       "\n",
       "    $(parent_element).append(this.root);\n",
       "\n",
       "    this._init_header(this);\n",
       "    this._init_canvas(this);\n",
       "    this._init_toolbar(this);\n",
       "\n",
       "    var fig = this;\n",
       "\n",
       "    this.waiting = false;\n",
       "\n",
       "    this.ws.onopen =  function () {\n",
       "            fig.send_message(\"supports_binary\", {value: fig.supports_binary});\n",
       "            fig.send_message(\"send_image_mode\", {});\n",
       "            if (mpl.ratio != 1) {\n",
       "                fig.send_message(\"set_dpi_ratio\", {'dpi_ratio': mpl.ratio});\n",
       "            }\n",
       "            fig.send_message(\"refresh\", {});\n",
       "        }\n",
       "\n",
       "    this.imageObj.onload = function() {\n",
       "            if (fig.image_mode == 'full') {\n",
       "                // Full images could contain transparency (where diff images\n",
       "                // almost always do), so we need to clear the canvas so that\n",
       "                // there is no ghosting.\n",
       "                fig.context.clearRect(0, 0, fig.canvas.width, fig.canvas.height);\n",
       "            }\n",
       "            fig.context.drawImage(fig.imageObj, 0, 0);\n",
       "        };\n",
       "\n",
       "    this.imageObj.onunload = function() {\n",
       "        fig.ws.close();\n",
       "    }\n",
       "\n",
       "    this.ws.onmessage = this._make_on_message_function(this);\n",
       "\n",
       "    this.ondownload = ondownload;\n",
       "}\n",
       "\n",
       "mpl.figure.prototype._init_header = function() {\n",
       "    var titlebar = $(\n",
       "        '<div class=\"ui-dialog-titlebar ui-widget-header ui-corner-all ' +\n",
       "        'ui-helper-clearfix\"/>');\n",
       "    var titletext = $(\n",
       "        '<div class=\"ui-dialog-title\" style=\"width: 100%; ' +\n",
       "        'text-align: center; padding: 3px;\"/>');\n",
       "    titlebar.append(titletext)\n",
       "    this.root.append(titlebar);\n",
       "    this.header = titletext[0];\n",
       "}\n",
       "\n",
       "\n",
       "\n",
       "mpl.figure.prototype._canvas_extra_style = function(canvas_div) {\n",
       "\n",
       "}\n",
       "\n",
       "\n",
       "mpl.figure.prototype._root_extra_style = function(canvas_div) {\n",
       "\n",
       "}\n",
       "\n",
       "mpl.figure.prototype._init_canvas = function() {\n",
       "    var fig = this;\n",
       "\n",
       "    var canvas_div = $('<div/>');\n",
       "\n",
       "    canvas_div.attr('style', 'position: relative; clear: both; outline: 0');\n",
       "\n",
       "    function canvas_keyboard_event(event) {\n",
       "        return fig.key_event(event, event['data']);\n",
       "    }\n",
       "\n",
       "    canvas_div.keydown('key_press', canvas_keyboard_event);\n",
       "    canvas_div.keyup('key_release', canvas_keyboard_event);\n",
       "    this.canvas_div = canvas_div\n",
       "    this._canvas_extra_style(canvas_div)\n",
       "    this.root.append(canvas_div);\n",
       "\n",
       "    var canvas = $('<canvas/>');\n",
       "    canvas.addClass('mpl-canvas');\n",
       "    canvas.attr('style', \"left: 0; top: 0; z-index: 0; outline: 0\")\n",
       "\n",
       "    this.canvas = canvas[0];\n",
       "    this.context = canvas[0].getContext(\"2d\");\n",
       "\n",
       "    var backingStore = this.context.backingStorePixelRatio ||\n",
       "\tthis.context.webkitBackingStorePixelRatio ||\n",
       "\tthis.context.mozBackingStorePixelRatio ||\n",
       "\tthis.context.msBackingStorePixelRatio ||\n",
       "\tthis.context.oBackingStorePixelRatio ||\n",
       "\tthis.context.backingStorePixelRatio || 1;\n",
       "\n",
       "    mpl.ratio = (window.devicePixelRatio || 1) / backingStore;\n",
       "\n",
       "    var rubberband = $('<canvas/>');\n",
       "    rubberband.attr('style', \"position: absolute; left: 0; top: 0; z-index: 1;\")\n",
       "\n",
       "    var pass_mouse_events = true;\n",
       "\n",
       "    canvas_div.resizable({\n",
       "        start: function(event, ui) {\n",
       "            pass_mouse_events = false;\n",
       "        },\n",
       "        resize: function(event, ui) {\n",
       "            fig.request_resize(ui.size.width, ui.size.height);\n",
       "        },\n",
       "        stop: function(event, ui) {\n",
       "            pass_mouse_events = true;\n",
       "            fig.request_resize(ui.size.width, ui.size.height);\n",
       "        },\n",
       "    });\n",
       "\n",
       "    function mouse_event_fn(event) {\n",
       "        if (pass_mouse_events)\n",
       "            return fig.mouse_event(event, event['data']);\n",
       "    }\n",
       "\n",
       "    rubberband.mousedown('button_press', mouse_event_fn);\n",
       "    rubberband.mouseup('button_release', mouse_event_fn);\n",
       "    // Throttle sequential mouse events to 1 every 20ms.\n",
       "    rubberband.mousemove('motion_notify', mouse_event_fn);\n",
       "\n",
       "    rubberband.mouseenter('figure_enter', mouse_event_fn);\n",
       "    rubberband.mouseleave('figure_leave', mouse_event_fn);\n",
       "\n",
       "    canvas_div.on(\"wheel\", function (event) {\n",
       "        event = event.originalEvent;\n",
       "        event['data'] = 'scroll'\n",
       "        if (event.deltaY < 0) {\n",
       "            event.step = 1;\n",
       "        } else {\n",
       "            event.step = -1;\n",
       "        }\n",
       "        mouse_event_fn(event);\n",
       "    });\n",
       "\n",
       "    canvas_div.append(canvas);\n",
       "    canvas_div.append(rubberband);\n",
       "\n",
       "    this.rubberband = rubberband;\n",
       "    this.rubberband_canvas = rubberband[0];\n",
       "    this.rubberband_context = rubberband[0].getContext(\"2d\");\n",
       "    this.rubberband_context.strokeStyle = \"#000000\";\n",
       "\n",
       "    this._resize_canvas = function(width, height) {\n",
       "        // Keep the size of the canvas, canvas container, and rubber band\n",
       "        // canvas in synch.\n",
       "        canvas_div.css('width', width)\n",
       "        canvas_div.css('height', height)\n",
       "\n",
       "        canvas.attr('width', width * mpl.ratio);\n",
       "        canvas.attr('height', height * mpl.ratio);\n",
       "        canvas.attr('style', 'width: ' + width + 'px; height: ' + height + 'px;');\n",
       "\n",
       "        rubberband.attr('width', width);\n",
       "        rubberband.attr('height', height);\n",
       "    }\n",
       "\n",
       "    // Set the figure to an initial 600x600px, this will subsequently be updated\n",
       "    // upon first draw.\n",
       "    this._resize_canvas(600, 600);\n",
       "\n",
       "    // Disable right mouse context menu.\n",
       "    $(this.rubberband_canvas).bind(\"contextmenu\",function(e){\n",
       "        return false;\n",
       "    });\n",
       "\n",
       "    function set_focus () {\n",
       "        canvas.focus();\n",
       "        canvas_div.focus();\n",
       "    }\n",
       "\n",
       "    window.setTimeout(set_focus, 100);\n",
       "}\n",
       "\n",
       "mpl.figure.prototype._init_toolbar = function() {\n",
       "    var fig = this;\n",
       "\n",
       "    var nav_element = $('<div/>')\n",
       "    nav_element.attr('style', 'width: 100%');\n",
       "    this.root.append(nav_element);\n",
       "\n",
       "    // Define a callback function for later on.\n",
       "    function toolbar_event(event) {\n",
       "        return fig.toolbar_button_onclick(event['data']);\n",
       "    }\n",
       "    function toolbar_mouse_event(event) {\n",
       "        return fig.toolbar_button_onmouseover(event['data']);\n",
       "    }\n",
       "\n",
       "    for(var toolbar_ind in mpl.toolbar_items) {\n",
       "        var name = mpl.toolbar_items[toolbar_ind][0];\n",
       "        var tooltip = mpl.toolbar_items[toolbar_ind][1];\n",
       "        var image = mpl.toolbar_items[toolbar_ind][2];\n",
       "        var method_name = mpl.toolbar_items[toolbar_ind][3];\n",
       "\n",
       "        if (!name) {\n",
       "            // put a spacer in here.\n",
       "            continue;\n",
       "        }\n",
       "        var button = $('<button/>');\n",
       "        button.addClass('ui-button ui-widget ui-state-default ui-corner-all ' +\n",
       "                        'ui-button-icon-only');\n",
       "        button.attr('role', 'button');\n",
       "        button.attr('aria-disabled', 'false');\n",
       "        button.click(method_name, toolbar_event);\n",
       "        button.mouseover(tooltip, toolbar_mouse_event);\n",
       "\n",
       "        var icon_img = $('<span/>');\n",
       "        icon_img.addClass('ui-button-icon-primary ui-icon');\n",
       "        icon_img.addClass(image);\n",
       "        icon_img.addClass('ui-corner-all');\n",
       "\n",
       "        var tooltip_span = $('<span/>');\n",
       "        tooltip_span.addClass('ui-button-text');\n",
       "        tooltip_span.html(tooltip);\n",
       "\n",
       "        button.append(icon_img);\n",
       "        button.append(tooltip_span);\n",
       "\n",
       "        nav_element.append(button);\n",
       "    }\n",
       "\n",
       "    var fmt_picker_span = $('<span/>');\n",
       "\n",
       "    var fmt_picker = $('<select/>');\n",
       "    fmt_picker.addClass('mpl-toolbar-option ui-widget ui-widget-content');\n",
       "    fmt_picker_span.append(fmt_picker);\n",
       "    nav_element.append(fmt_picker_span);\n",
       "    this.format_dropdown = fmt_picker[0];\n",
       "\n",
       "    for (var ind in mpl.extensions) {\n",
       "        var fmt = mpl.extensions[ind];\n",
       "        var option = $(\n",
       "            '<option/>', {selected: fmt === mpl.default_extension}).html(fmt);\n",
       "        fmt_picker.append(option)\n",
       "    }\n",
       "\n",
       "    // Add hover states to the ui-buttons\n",
       "    $( \".ui-button\" ).hover(\n",
       "        function() { $(this).addClass(\"ui-state-hover\");},\n",
       "        function() { $(this).removeClass(\"ui-state-hover\");}\n",
       "    );\n",
       "\n",
       "    var status_bar = $('<span class=\"mpl-message\"/>');\n",
       "    nav_element.append(status_bar);\n",
       "    this.message = status_bar[0];\n",
       "}\n",
       "\n",
       "mpl.figure.prototype.request_resize = function(x_pixels, y_pixels) {\n",
       "    // Request matplotlib to resize the figure. Matplotlib will then trigger a resize in the client,\n",
       "    // which will in turn request a refresh of the image.\n",
       "    this.send_message('resize', {'width': x_pixels, 'height': y_pixels});\n",
       "}\n",
       "\n",
       "mpl.figure.prototype.send_message = function(type, properties) {\n",
       "    properties['type'] = type;\n",
       "    properties['figure_id'] = this.id;\n",
       "    this.ws.send(JSON.stringify(properties));\n",
       "}\n",
       "\n",
       "mpl.figure.prototype.send_draw_message = function() {\n",
       "    if (!this.waiting) {\n",
       "        this.waiting = true;\n",
       "        this.ws.send(JSON.stringify({type: \"draw\", figure_id: this.id}));\n",
       "    }\n",
       "}\n",
       "\n",
       "\n",
       "mpl.figure.prototype.handle_save = function(fig, msg) {\n",
       "    var format_dropdown = fig.format_dropdown;\n",
       "    var format = format_dropdown.options[format_dropdown.selectedIndex].value;\n",
       "    fig.ondownload(fig, format);\n",
       "}\n",
       "\n",
       "\n",
       "mpl.figure.prototype.handle_resize = function(fig, msg) {\n",
       "    var size = msg['size'];\n",
       "    if (size[0] != fig.canvas.width || size[1] != fig.canvas.height) {\n",
       "        fig._resize_canvas(size[0], size[1]);\n",
       "        fig.send_message(\"refresh\", {});\n",
       "    };\n",
       "}\n",
       "\n",
       "mpl.figure.prototype.handle_rubberband = function(fig, msg) {\n",
       "    var x0 = msg['x0'] / mpl.ratio;\n",
       "    var y0 = (fig.canvas.height - msg['y0']) / mpl.ratio;\n",
       "    var x1 = msg['x1'] / mpl.ratio;\n",
       "    var y1 = (fig.canvas.height - msg['y1']) / mpl.ratio;\n",
       "    x0 = Math.floor(x0) + 0.5;\n",
       "    y0 = Math.floor(y0) + 0.5;\n",
       "    x1 = Math.floor(x1) + 0.5;\n",
       "    y1 = Math.floor(y1) + 0.5;\n",
       "    var min_x = Math.min(x0, x1);\n",
       "    var min_y = Math.min(y0, y1);\n",
       "    var width = Math.abs(x1 - x0);\n",
       "    var height = Math.abs(y1 - y0);\n",
       "\n",
       "    fig.rubberband_context.clearRect(\n",
       "        0, 0, fig.canvas.width, fig.canvas.height);\n",
       "\n",
       "    fig.rubberband_context.strokeRect(min_x, min_y, width, height);\n",
       "}\n",
       "\n",
       "mpl.figure.prototype.handle_figure_label = function(fig, msg) {\n",
       "    // Updates the figure title.\n",
       "    fig.header.textContent = msg['label'];\n",
       "}\n",
       "\n",
       "mpl.figure.prototype.handle_cursor = function(fig, msg) {\n",
       "    var cursor = msg['cursor'];\n",
       "    switch(cursor)\n",
       "    {\n",
       "    case 0:\n",
       "        cursor = 'pointer';\n",
       "        break;\n",
       "    case 1:\n",
       "        cursor = 'default';\n",
       "        break;\n",
       "    case 2:\n",
       "        cursor = 'crosshair';\n",
       "        break;\n",
       "    case 3:\n",
       "        cursor = 'move';\n",
       "        break;\n",
       "    }\n",
       "    fig.rubberband_canvas.style.cursor = cursor;\n",
       "}\n",
       "\n",
       "mpl.figure.prototype.handle_message = function(fig, msg) {\n",
       "    fig.message.textContent = msg['message'];\n",
       "}\n",
       "\n",
       "mpl.figure.prototype.handle_draw = function(fig, msg) {\n",
       "    // Request the server to send over a new figure.\n",
       "    fig.send_draw_message();\n",
       "}\n",
       "\n",
       "mpl.figure.prototype.handle_image_mode = function(fig, msg) {\n",
       "    fig.image_mode = msg['mode'];\n",
       "}\n",
       "\n",
       "mpl.figure.prototype.updated_canvas_event = function() {\n",
       "    // Called whenever the canvas gets updated.\n",
       "    this.send_message(\"ack\", {});\n",
       "}\n",
       "\n",
       "// A function to construct a web socket function for onmessage handling.\n",
       "// Called in the figure constructor.\n",
       "mpl.figure.prototype._make_on_message_function = function(fig) {\n",
       "    return function socket_on_message(evt) {\n",
       "        if (evt.data instanceof Blob) {\n",
       "            /* FIXME: We get \"Resource interpreted as Image but\n",
       "             * transferred with MIME type text/plain:\" errors on\n",
       "             * Chrome.  But how to set the MIME type?  It doesn't seem\n",
       "             * to be part of the websocket stream */\n",
       "            evt.data.type = \"image/png\";\n",
       "\n",
       "            /* Free the memory for the previous frames */\n",
       "            if (fig.imageObj.src) {\n",
       "                (window.URL || window.webkitURL).revokeObjectURL(\n",
       "                    fig.imageObj.src);\n",
       "            }\n",
       "\n",
       "            fig.imageObj.src = (window.URL || window.webkitURL).createObjectURL(\n",
       "                evt.data);\n",
       "            fig.updated_canvas_event();\n",
       "            fig.waiting = false;\n",
       "            return;\n",
       "        }\n",
       "        else if (typeof evt.data === 'string' && evt.data.slice(0, 21) == \"data:image/png;base64\") {\n",
       "            fig.imageObj.src = evt.data;\n",
       "            fig.updated_canvas_event();\n",
       "            fig.waiting = false;\n",
       "            return;\n",
       "        }\n",
       "\n",
       "        var msg = JSON.parse(evt.data);\n",
       "        var msg_type = msg['type'];\n",
       "\n",
       "        // Call the  \"handle_{type}\" callback, which takes\n",
       "        // the figure and JSON message as its only arguments.\n",
       "        try {\n",
       "            var callback = fig[\"handle_\" + msg_type];\n",
       "        } catch (e) {\n",
       "            console.log(\"No handler for the '\" + msg_type + \"' message type: \", msg);\n",
       "            return;\n",
       "        }\n",
       "\n",
       "        if (callback) {\n",
       "            try {\n",
       "                // console.log(\"Handling '\" + msg_type + \"' message: \", msg);\n",
       "                callback(fig, msg);\n",
       "            } catch (e) {\n",
       "                console.log(\"Exception inside the 'handler_\" + msg_type + \"' callback:\", e, e.stack, msg);\n",
       "            }\n",
       "        }\n",
       "    };\n",
       "}\n",
       "\n",
       "// from http://stackoverflow.com/questions/1114465/getting-mouse-location-in-canvas\n",
       "mpl.findpos = function(e) {\n",
       "    //this section is from http://www.quirksmode.org/js/events_properties.html\n",
       "    var targ;\n",
       "    if (!e)\n",
       "        e = window.event;\n",
       "    if (e.target)\n",
       "        targ = e.target;\n",
       "    else if (e.srcElement)\n",
       "        targ = e.srcElement;\n",
       "    if (targ.nodeType == 3) // defeat Safari bug\n",
       "        targ = targ.parentNode;\n",
       "\n",
       "    // jQuery normalizes the pageX and pageY\n",
       "    // pageX,Y are the mouse positions relative to the document\n",
       "    // offset() returns the position of the element relative to the document\n",
       "    var x = e.pageX - $(targ).offset().left;\n",
       "    var y = e.pageY - $(targ).offset().top;\n",
       "\n",
       "    return {\"x\": x, \"y\": y};\n",
       "};\n",
       "\n",
       "/*\n",
       " * return a copy of an object with only non-object keys\n",
       " * we need this to avoid circular references\n",
       " * http://stackoverflow.com/a/24161582/3208463\n",
       " */\n",
       "function simpleKeys (original) {\n",
       "  return Object.keys(original).reduce(function (obj, key) {\n",
       "    if (typeof original[key] !== 'object')\n",
       "        obj[key] = original[key]\n",
       "    return obj;\n",
       "  }, {});\n",
       "}\n",
       "\n",
       "mpl.figure.prototype.mouse_event = function(event, name) {\n",
       "    var canvas_pos = mpl.findpos(event)\n",
       "\n",
       "    if (name === 'button_press')\n",
       "    {\n",
       "        this.canvas.focus();\n",
       "        this.canvas_div.focus();\n",
       "    }\n",
       "\n",
       "    var x = canvas_pos.x * mpl.ratio;\n",
       "    var y = canvas_pos.y * mpl.ratio;\n",
       "\n",
       "    this.send_message(name, {x: x, y: y, button: event.button,\n",
       "                             step: event.step,\n",
       "                             guiEvent: simpleKeys(event)});\n",
       "\n",
       "    /* This prevents the web browser from automatically changing to\n",
       "     * the text insertion cursor when the button is pressed.  We want\n",
       "     * to control all of the cursor setting manually through the\n",
       "     * 'cursor' event from matplotlib */\n",
       "    event.preventDefault();\n",
       "    return false;\n",
       "}\n",
       "\n",
       "mpl.figure.prototype._key_event_extra = function(event, name) {\n",
       "    // Handle any extra behaviour associated with a key event\n",
       "}\n",
       "\n",
       "mpl.figure.prototype.key_event = function(event, name) {\n",
       "\n",
       "    // Prevent repeat events\n",
       "    if (name == 'key_press')\n",
       "    {\n",
       "        if (event.which === this._key)\n",
       "            return;\n",
       "        else\n",
       "            this._key = event.which;\n",
       "    }\n",
       "    if (name == 'key_release')\n",
       "        this._key = null;\n",
       "\n",
       "    var value = '';\n",
       "    if (event.ctrlKey && event.which != 17)\n",
       "        value += \"ctrl+\";\n",
       "    if (event.altKey && event.which != 18)\n",
       "        value += \"alt+\";\n",
       "    if (event.shiftKey && event.which != 16)\n",
       "        value += \"shift+\";\n",
       "\n",
       "    value += 'k';\n",
       "    value += event.which.toString();\n",
       "\n",
       "    this._key_event_extra(event, name);\n",
       "\n",
       "    this.send_message(name, {key: value,\n",
       "                             guiEvent: simpleKeys(event)});\n",
       "    return false;\n",
       "}\n",
       "\n",
       "mpl.figure.prototype.toolbar_button_onclick = function(name) {\n",
       "    if (name == 'download') {\n",
       "        this.handle_save(this, null);\n",
       "    } else {\n",
       "        this.send_message(\"toolbar_button\", {name: name});\n",
       "    }\n",
       "};\n",
       "\n",
       "mpl.figure.prototype.toolbar_button_onmouseover = function(tooltip) {\n",
       "    this.message.textContent = tooltip;\n",
       "};\n",
       "mpl.toolbar_items = [[\"Home\", \"Reset original view\", \"fa fa-home icon-home\", \"home\"], [\"Back\", \"Back to  previous view\", \"fa fa-arrow-left icon-arrow-left\", \"back\"], [\"Forward\", \"Forward to next view\", \"fa fa-arrow-right icon-arrow-right\", \"forward\"], [\"\", \"\", \"\", \"\"], [\"Pan\", \"Pan axes with left mouse, zoom with right\", \"fa fa-arrows icon-move\", \"pan\"], [\"Zoom\", \"Zoom to rectangle\", \"fa fa-square-o icon-check-empty\", \"zoom\"], [\"\", \"\", \"\", \"\"], [\"Download\", \"Download plot\", \"fa fa-floppy-o icon-save\", \"download\"]];\n",
       "\n",
       "mpl.extensions = [\"eps\", \"jpeg\", \"pdf\", \"png\", \"ps\", \"raw\", \"svg\", \"tif\"];\n",
       "\n",
       "mpl.default_extension = \"png\";var comm_websocket_adapter = function(comm) {\n",
       "    // Create a \"websocket\"-like object which calls the given IPython comm\n",
       "    // object with the appropriate methods. Currently this is a non binary\n",
       "    // socket, so there is still some room for performance tuning.\n",
       "    var ws = {};\n",
       "\n",
       "    ws.close = function() {\n",
       "        comm.close()\n",
       "    };\n",
       "    ws.send = function(m) {\n",
       "        //console.log('sending', m);\n",
       "        comm.send(m);\n",
       "    };\n",
       "    // Register the callback with on_msg.\n",
       "    comm.on_msg(function(msg) {\n",
       "        //console.log('receiving', msg['content']['data'], msg);\n",
       "        // Pass the mpl event to the overriden (by mpl) onmessage function.\n",
       "        ws.onmessage(msg['content']['data'])\n",
       "    });\n",
       "    return ws;\n",
       "}\n",
       "\n",
       "mpl.mpl_figure_comm = function(comm, msg) {\n",
       "    // This is the function which gets called when the mpl process\n",
       "    // starts-up an IPython Comm through the \"matplotlib\" channel.\n",
       "\n",
       "    var id = msg.content.data.id;\n",
       "    // Get hold of the div created by the display call when the Comm\n",
       "    // socket was opened in Python.\n",
       "    var element = $(\"#\" + id);\n",
       "    var ws_proxy = comm_websocket_adapter(comm)\n",
       "\n",
       "    function ondownload(figure, format) {\n",
       "        window.open(figure.imageObj.src);\n",
       "    }\n",
       "\n",
       "    var fig = new mpl.figure(id, ws_proxy,\n",
       "                           ondownload,\n",
       "                           element.get(0));\n",
       "\n",
       "    // Call onopen now - mpl needs it, as it is assuming we've passed it a real\n",
       "    // web socket which is closed, not our websocket->open comm proxy.\n",
       "    ws_proxy.onopen();\n",
       "\n",
       "    fig.parent_element = element.get(0);\n",
       "    fig.cell_info = mpl.find_output_cell(\"<div id='\" + id + \"'></div>\");\n",
       "    if (!fig.cell_info) {\n",
       "        console.error(\"Failed to find cell for figure\", id, fig);\n",
       "        return;\n",
       "    }\n",
       "\n",
       "    var output_index = fig.cell_info[2]\n",
       "    var cell = fig.cell_info[0];\n",
       "\n",
       "};\n",
       "\n",
       "mpl.figure.prototype.handle_close = function(fig, msg) {\n",
       "    var width = fig.canvas.width/mpl.ratio\n",
       "    fig.root.unbind('remove')\n",
       "\n",
       "    // Update the output cell to use the data from the current canvas.\n",
       "    fig.push_to_output();\n",
       "    var dataURL = fig.canvas.toDataURL();\n",
       "    // Re-enable the keyboard manager in IPython - without this line, in FF,\n",
       "    // the notebook keyboard shortcuts fail.\n",
       "    IPython.keyboard_manager.enable()\n",
       "    $(fig.parent_element).html('<img src=\"' + dataURL + '\" width=\"' + width + '\">');\n",
       "    fig.close_ws(fig, msg);\n",
       "}\n",
       "\n",
       "mpl.figure.prototype.close_ws = function(fig, msg){\n",
       "    fig.send_message('closing', msg);\n",
       "    // fig.ws.close()\n",
       "}\n",
       "\n",
       "mpl.figure.prototype.push_to_output = function(remove_interactive) {\n",
       "    // Turn the data on the canvas into data in the output cell.\n",
       "    var width = this.canvas.width/mpl.ratio\n",
       "    var dataURL = this.canvas.toDataURL();\n",
       "    this.cell_info[1]['text/html'] = '<img src=\"' + dataURL + '\" width=\"' + width + '\">';\n",
       "}\n",
       "\n",
       "mpl.figure.prototype.updated_canvas_event = function() {\n",
       "    // Tell IPython that the notebook contents must change.\n",
       "    IPython.notebook.set_dirty(true);\n",
       "    this.send_message(\"ack\", {});\n",
       "    var fig = this;\n",
       "    // Wait a second, then push the new image to the DOM so\n",
       "    // that it is saved nicely (might be nice to debounce this).\n",
       "    setTimeout(function () { fig.push_to_output() }, 1000);\n",
       "}\n",
       "\n",
       "mpl.figure.prototype._init_toolbar = function() {\n",
       "    var fig = this;\n",
       "\n",
       "    var nav_element = $('<div/>')\n",
       "    nav_element.attr('style', 'width: 100%');\n",
       "    this.root.append(nav_element);\n",
       "\n",
       "    // Define a callback function for later on.\n",
       "    function toolbar_event(event) {\n",
       "        return fig.toolbar_button_onclick(event['data']);\n",
       "    }\n",
       "    function toolbar_mouse_event(event) {\n",
       "        return fig.toolbar_button_onmouseover(event['data']);\n",
       "    }\n",
       "\n",
       "    for(var toolbar_ind in mpl.toolbar_items){\n",
       "        var name = mpl.toolbar_items[toolbar_ind][0];\n",
       "        var tooltip = mpl.toolbar_items[toolbar_ind][1];\n",
       "        var image = mpl.toolbar_items[toolbar_ind][2];\n",
       "        var method_name = mpl.toolbar_items[toolbar_ind][3];\n",
       "\n",
       "        if (!name) { continue; };\n",
       "\n",
       "        var button = $('<button class=\"btn btn-default\" href=\"#\" title=\"' + name + '\"><i class=\"fa ' + image + ' fa-lg\"></i></button>');\n",
       "        button.click(method_name, toolbar_event);\n",
       "        button.mouseover(tooltip, toolbar_mouse_event);\n",
       "        nav_element.append(button);\n",
       "    }\n",
       "\n",
       "    // Add the status bar.\n",
       "    var status_bar = $('<span class=\"mpl-message\" style=\"text-align:right; float: right;\"/>');\n",
       "    nav_element.append(status_bar);\n",
       "    this.message = status_bar[0];\n",
       "\n",
       "    // Add the close button to the window.\n",
       "    var buttongrp = $('<div class=\"btn-group inline pull-right\"></div>');\n",
       "    var button = $('<button class=\"btn btn-mini btn-primary\" href=\"#\" title=\"Stop Interaction\"><i class=\"fa fa-power-off icon-remove icon-large\"></i></button>');\n",
       "    button.click(function (evt) { fig.handle_close(fig, {}); } );\n",
       "    button.mouseover('Stop Interaction', toolbar_mouse_event);\n",
       "    buttongrp.append(button);\n",
       "    var titlebar = this.root.find($('.ui-dialog-titlebar'));\n",
       "    titlebar.prepend(buttongrp);\n",
       "}\n",
       "\n",
       "mpl.figure.prototype._root_extra_style = function(el){\n",
       "    var fig = this\n",
       "    el.on(\"remove\", function(){\n",
       "\tfig.close_ws(fig, {});\n",
       "    });\n",
       "}\n",
       "\n",
       "mpl.figure.prototype._canvas_extra_style = function(el){\n",
       "    // this is important to make the div 'focusable\n",
       "    el.attr('tabindex', 0)\n",
       "    // reach out to IPython and tell the keyboard manager to turn it's self\n",
       "    // off when our div gets focus\n",
       "\n",
       "    // location in version 3\n",
       "    if (IPython.notebook.keyboard_manager) {\n",
       "        IPython.notebook.keyboard_manager.register_events(el);\n",
       "    }\n",
       "    else {\n",
       "        // location in version 2\n",
       "        IPython.keyboard_manager.register_events(el);\n",
       "    }\n",
       "\n",
       "}\n",
       "\n",
       "mpl.figure.prototype._key_event_extra = function(event, name) {\n",
       "    var manager = IPython.notebook.keyboard_manager;\n",
       "    if (!manager)\n",
       "        manager = IPython.keyboard_manager;\n",
       "\n",
       "    // Check for shift+enter\n",
       "    if (event.shiftKey && event.which == 13) {\n",
       "        this.canvas_div.blur();\n",
       "        event.shiftKey = false;\n",
       "        // Send a \"J\" for go to next cell\n",
       "        event.which = 74;\n",
       "        event.keyCode = 74;\n",
       "        manager.command_mode();\n",
       "        manager.handle_keydown(event);\n",
       "    }\n",
       "}\n",
       "\n",
       "mpl.figure.prototype.handle_save = function(fig, msg) {\n",
       "    fig.ondownload(fig, null);\n",
       "}\n",
       "\n",
       "\n",
       "mpl.find_output_cell = function(html_output) {\n",
       "    // Return the cell and output element which can be found *uniquely* in the notebook.\n",
       "    // Note - this is a bit hacky, but it is done because the \"notebook_saving.Notebook\"\n",
       "    // IPython event is triggered only after the cells have been serialised, which for\n",
       "    // our purposes (turning an active figure into a static one), is too late.\n",
       "    var cells = IPython.notebook.get_cells();\n",
       "    var ncells = cells.length;\n",
       "    for (var i=0; i<ncells; i++) {\n",
       "        var cell = cells[i];\n",
       "        if (cell.cell_type === 'code'){\n",
       "            for (var j=0; j<cell.output_area.outputs.length; j++) {\n",
       "                var data = cell.output_area.outputs[j];\n",
       "                if (data.data) {\n",
       "                    // IPython >= 3 moved mimebundle to data attribute of output\n",
       "                    data = data.data;\n",
       "                }\n",
       "                if (data['text/html'] == html_output) {\n",
       "                    return [cell, data, j];\n",
       "                }\n",
       "            }\n",
       "        }\n",
       "    }\n",
       "}\n",
       "\n",
       "// Register the function which deals with the matplotlib target/channel.\n",
       "// The kernel may be null if the page has been refreshed.\n",
       "if (IPython.notebook.kernel != null) {\n",
       "    IPython.notebook.kernel.comm_manager.register_target('matplotlib', mpl.mpl_figure_comm);\n",
       "}\n"
      ],
      "text/plain": [
       "<IPython.core.display.Javascript object>"
      ]
     },
     "metadata": {},
     "output_type": "display_data"
    },
    {
     "data": {
      "text/html": [
       "<img src=\"data:image/png;base64,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\" width=\"1200\">"
      ],
      "text/plain": [
       "<IPython.core.display.HTML object>"
      ]
     },
     "metadata": {},
     "output_type": "display_data"
    },
    {
     "data": {
      "text/plain": [
       "<matplotlib.axes._subplots.AxesSubplot at 0x11ed885d0>"
      ]
     },
     "execution_count": 18,
     "metadata": {},
     "output_type": "execute_result"
    }
   ],
   "source": [
    "col1='ce01'\n",
    "col2='ce03'\n",
    "\n",
    "f, (ax1, ax2) = plt.subplots(1, 2, figsize=(12,6))\n",
    "ax1.plot(dfpl[col1], dfpl[col2], 'bo--')\n",
    "sns.pointplot(x=col1, y=col2, data=dfpl, order='year', markers='o', linestyles='--', ax=ax2)\n",
    "\n",
    "# for i, r in dfpl.iterrows():\n",
    "# #     ax2.annotate(r['year'], (r[col1]+0.2, r[col2]+0.2),\n",
    "# #                  horizontalalignment='left', size='medium', color='black', \n",
    "# #                  weight='semibold')\n",
    "#     f.text(r['year'], r[col1]+0.2, r[col2]+0.2,\n",
    "#                      horizontalalignment='left', size='medium', color='black', \n",
    "#                      weight='semibold')\n",
    "#     g.map(plt.annotate, s=r['year'], xy=(r[col1]+0.2, r[col2]+0.2))"
   ]
  },
  {
   "cell_type": "code",
   "execution_count": 17,
   "metadata": {
    "collapsed": false,
    "extensions": {
     "jupyter_dashboards": {
      "version": 1,
      "views": {
       "grid_default": {
        "col": 8,
        "height": 10,
        "hidden": true,
        "row": 30,
        "width": 4
       },
       "report_default": {
        "hidden": true
       }
      }
     }
    }
   },
   "outputs": [
    {
     "data": {
      "text/html": [
       "<div>\n",
       "<style scoped>\n",
       "    .dataframe tbody tr th:only-of-type {\n",
       "        vertical-align: middle;\n",
       "    }\n",
       "\n",
       "    .dataframe tbody tr th {\n",
       "        vertical-align: top;\n",
       "    }\n",
       "\n",
       "    .dataframe thead th {\n",
       "        text-align: right;\n",
       "    }\n",
       "</style>\n",
       "<table border=\"1\" class=\"dataframe\">\n",
       "  <thead>\n",
       "    <tr style=\"text-align: right;\">\n",
       "      <th></th>\n",
       "      <th>year</th>\n",
       "      <th>ce01</th>\n",
       "      <th>ce03</th>\n",
       "    </tr>\n",
       "  </thead>\n",
       "  <tbody>\n",
       "    <tr>\n",
       "      <th>0</th>\n",
       "      <td>2006</td>\n",
       "      <td>115522</td>\n",
       "      <td>176863</td>\n",
       "    </tr>\n",
       "    <tr>\n",
       "      <th>1</th>\n",
       "      <td>2007</td>\n",
       "      <td>112442</td>\n",
       "      <td>185130</td>\n",
       "    </tr>\n",
       "    <tr>\n",
       "      <th>2</th>\n",
       "      <td>2008</td>\n",
       "      <td>110347</td>\n",
       "      <td>195344</td>\n",
       "    </tr>\n",
       "    <tr>\n",
       "      <th>3</th>\n",
       "      <td>2009</td>\n",
       "      <td>105053</td>\n",
       "      <td>189921</td>\n",
       "    </tr>\n",
       "    <tr>\n",
       "      <th>4</th>\n",
       "      <td>2010</td>\n",
       "      <td>101468</td>\n",
       "      <td>202611</td>\n",
       "    </tr>\n",
       "    <tr>\n",
       "      <th>5</th>\n",
       "      <td>2011</td>\n",
       "      <td>102998</td>\n",
       "      <td>202301</td>\n",
       "    </tr>\n",
       "    <tr>\n",
       "      <th>6</th>\n",
       "      <td>2012</td>\n",
       "      <td>105908</td>\n",
       "      <td>208052</td>\n",
       "    </tr>\n",
       "    <tr>\n",
       "      <th>7</th>\n",
       "      <td>2013</td>\n",
       "      <td>106817</td>\n",
       "      <td>213290</td>\n",
       "    </tr>\n",
       "  </tbody>\n",
       "</table>\n",
       "</div>"
      ],
      "text/plain": [
       "   year    ce01    ce03\n",
       "0  2006  115522  176863\n",
       "1  2007  112442  185130\n",
       "2  2008  110347  195344\n",
       "3  2009  105053  189921\n",
       "4  2010  101468  202611\n",
       "5  2011  102998  202301\n",
       "6  2012  105908  208052\n",
       "7  2013  106817  213290"
      ]
     },
     "execution_count": 17,
     "metadata": {},
     "output_type": "execute_result"
    }
   ],
   "source": [
    "dfpl.loc[:,('year', 'ce01', 'ce03')]"
   ]
  },
  {
   "cell_type": "code",
   "execution_count": 19,
   "metadata": {
    "collapsed": false,
    "extensions": {
     "jupyter_dashboards": {
      "version": 1,
      "views": {
       "grid_default": {
        "col": 0,
        "height": 26,
        "hidden": false,
        "row": 37,
        "width": 12
       },
       "report_default": {
        "hidden": false
       }
      }
     }
    },
    "scrolled": false
   },
   "outputs": [
    {
     "data": {
      "application/vnd.jupyter.widget-view+json": {
       "model_id": "5e6474aeec044d2995e681107e751ec7",
       "version_major": 2,
       "version_minor": 0
      },
      "text/html": [
       "<p>Failed to display Jupyter Widget of type <code>interactive</code>.</p>\n",
       "<p>\n",
       "  If you're reading this message in the Jupyter Notebook or JupyterLab Notebook, it may mean\n",
       "  that the widgets JavaScript is still loading. If this message persists, it\n",
       "  likely means that the widgets JavaScript library is either not installed or\n",
       "  not enabled. See the <a href=\"https://ipywidgets.readthedocs.io/en/stable/user_install.html\">Jupyter\n",
       "  Widgets Documentation</a> for setup instructions.\n",
       "</p>\n",
       "<p>\n",
       "  If you're reading this message in another frontend (for example, a static\n",
       "  rendering on GitHub or <a href=\"https://nbviewer.jupyter.org/\">NBViewer</a>),\n",
       "  it may mean that your frontend doesn't currently support widgets.\n",
       "</p>\n"
      ],
      "text/plain": [
       "interactive(children=(Dropdown(description=u'col1', options=(u'c000', u'ca01', u'ca02', u'ca03', u'ce01', u'ce02', u'ce03', u'cns01', u'cns02', u'cns03', u'cns04', u'cns05', u'cns06', u'cns07', u'cns08', u'cns09', u'cns10', u'cns11', u'cns12', u'cns13', u'cns14', u'cns15', u'cns16', u'cns17', u'cns18', u'cns19', u'cns20', u'cr01', u'cr02', u'cr03', u'cr04', u'cr05', u'cr07', u'ct01', u'ct02', u'cd01', u'cd02', u'cd03', u'cd04', u'cs01', u'cs02', u'cfa01', u'cfa02', u'cfa03', u'cfa04', u'cfa05', u'cfs01', u'cfs02', u'cfs03', u'cfs04', u'cfs05', u'createdate', u'countyfp'), value=u'c000'), Dropdown(description=u'col2', options=(u'c000', u'ca01', u'ca02', u'ca03', u'ce01', u'ce02', u'ce03', u'cns01', u'cns02', u'cns03', u'cns04', u'cns05', u'cns06', u'cns07', u'cns08', u'cns09', u'cns10', u'cns11', u'cns12', u'cns13', u'cns14', u'cns15', u'cns16', u'cns17', u'cns18', u'cns19', u'cns20', u'cr01', u'cr02', u'cr03', u'cr04', u'cr05', u'cr07', u'ct01', u'ct02', u'cd01', u'cd02', u'cd03', u'cd04', u'cs01', u'cs02', u'cfa01', u'cfa02', u'cfa03', u'cfa04', u'cfa05', u'cfs01', u'cfs02', u'cfs03', u'cfs04', u'cfs05', u'createdate', u'countyfp'), value=u'c000'), Output()), _dom_classes=('widget-interact',))"
      ]
     },
     "metadata": {},
     "output_type": "display_data"
    },
    {
     "data": {
      "text/plain": [
       "<function __main__.compare_cols>"
      ]
     },
     "execution_count": 19,
     "metadata": {},
     "output_type": "execute_result"
    }
   ],
   "source": [
    "## compare two columns in two side by side graphs: bar chart over time and scatter plot of col1 v col2 over time\n",
    "%matplotlib notebook\n",
    "# @interact(compare_cols, col1=df.columns.tolist()[1:-2], col2=df.columns.tolist()[1:-2])\n",
    "def compare_cols(col1, col2):\n",
    "    \n",
    "    f, (ax1, ax2) = plt.subplots(1, 2, figsize=(10,6))\n",
    "    f.suptitle('Comparing {} and {} over time'.format(col1, col2))\n",
    "\n",
    "    sns.barplot('year', 'value', 'variable', data=dfpl2[dfpl2['variable'].isin([col2, col1])], ax=ax1)\n",
    "    ax1.set_ylabel('Count')\n",
    "#     ax1.set_title('{} and {}'.format(col1, col2))\n",
    "#     ax1.yaxis.set_major_formatter(FormatStrFormatter('%.0f'))\n",
    "\n",
    "    ax2.plot(dfpl[col1], dfpl[col2], 'bo--')\n",
    "#     sns.pointplot(x=col1, y=col2, hue='year', data=dfpl2, markers='o', linestyles='--', ax=ax2)\n",
    "    ax2.set_ylabel(col2)\n",
    "    ax2.set_xlabel(col1)\n",
    "\n",
    "    for i, r in dfpl.iterrows():\n",
    "        ax2.annotate(r['year'], (r[col1]+0.2, r[col2]+0.2),\n",
    "                     horizontalalignment='left', size='medium', color='black', \n",
    "                     weight='semibold')\n",
    "#         f.text(r['year'], r[col1]+0.2, r[col2]+0.2,\n",
    "#                      horizontalalignment='left', size='medium', color='black', \n",
    "#                      weight='semibold')\n",
    "#         ax2.arrow(r[col1], r[col2], r[col1]+0.5, r[col2]+0.5, shape='full',\n",
    "#                   lw=0, length_includes_head=True, head_width=.5)\n",
    "    # return f? or plt?\n",
    "#     return(f) # no, duplicates image - maybe because %matplotlib magic?\n",
    "\n",
    "interact(compare_cols, col1=df.columns.tolist()[1:-2], col2=df.columns.tolist()[1:-2])"
   ]
  },
  {
   "cell_type": "markdown",
   "metadata": {
    "extensions": {
     "jupyter_dashboards": {
      "version": 1,
      "views": {
       "grid_default": {
        "col": 0,
        "height": 18,
        "hidden": true,
        "row": 6,
        "width": 12
       },
       "report_default": {
        "hidden": false
       }
      }
     }
    }
   },
   "source": [
    "![Column compare example](lodes_example_column_compare.png)"
   ]
  },
  {
   "cell_type": "code",
   "execution_count": 19,
   "metadata": {
    "collapsed": true,
    "extensions": {
     "jupyter_dashboards": {
      "version": 1,
      "views": {
       "grid_default": {
        "hidden": true
       },
       "report_default": {
        "hidden": true
       }
      }
     }
    }
   },
   "outputs": [],
   "source": [
    "df_test = pd.DataFrame({'var1': [pd.np.random.random() for x in xrange(1000)],\n",
    "                       'var2': [pd.np.random.random() for x in xrange(1000)]})"
   ]
  },
  {
   "cell_type": "code",
   "execution_count": 20,
   "metadata": {
    "collapsed": false,
    "extensions": {
     "jupyter_dashboards": {
      "version": 1,
      "views": {
       "grid_default": {
        "col": 4,
        "height": 6,
        "hidden": true,
        "row": 55,
        "width": 4
       },
       "report_default": {
        "hidden": false
       }
      }
     }
    }
   },
   "outputs": [
    {
     "data": {
      "application/vnd.jupyter.widget-view+json": {
       "model_id": "f3c8a7ae96db427c925ebc3ce56b54c2",
       "version_major": 2,
       "version_minor": 0
      },
      "text/html": [
       "<p>Failed to display Jupyter Widget of type <code>interactive</code>.</p>\n",
       "<p>\n",
       "  If you're reading this message in the Jupyter Notebook or JupyterLab Notebook, it may mean\n",
       "  that the widgets JavaScript is still loading. If this message persists, it\n",
       "  likely means that the widgets JavaScript library is either not installed or\n",
       "  not enabled. See the <a href=\"https://ipywidgets.readthedocs.io/en/stable/user_install.html\">Jupyter\n",
       "  Widgets Documentation</a> for setup instructions.\n",
       "</p>\n",
       "<p>\n",
       "  If you're reading this message in another frontend (for example, a static\n",
       "  rendering on GitHub or <a href=\"https://nbviewer.jupyter.org/\">NBViewer</a>),\n",
       "  it may mean that your frontend doesn't currently support widgets.\n",
       "</p>\n"
      ],
      "text/plain": [
       "interactive(children=(Dropdown(description=u'col', options=('var1', 'var2'), value='var1'), Output()), _dom_classes=('widget-interact',))"
      ]
     },
     "metadata": {},
     "output_type": "display_data"
    },
    {
     "data": {
      "text/plain": [
       "<function __main__.df_plot>"
      ]
     },
     "execution_count": 20,
     "metadata": {},
     "output_type": "execute_result"
    }
   ],
   "source": [
    "def df_plot(col):\n",
    "    f, ax = plt.subplots()\n",
    "    sns.distplot(df_test[col])\n",
    "#     plt.show()\n",
    "    \n",
    "interact(df_plot, col=df_test.columns.tolist())"
   ]
  },
  {
   "cell_type": "code",
   "execution_count": null,
   "metadata": {
    "collapsed": true,
    "extensions": {
     "jupyter_dashboards": {
      "version": 1,
      "views": {
       "grid_default": {
        "hidden": true
       },
       "report_default": {
        "hidden": true
       }
      }
     }
    }
   },
   "outputs": [],
   "source": []
  }
 ],
 "metadata": {
  "extensions": {
   "jupyter_dashboards": {
    "activeView": "grid_default",
    "version": 1,
    "views": {
     "grid_default": {
      "cellMargin": 10,
      "defaultCellHeight": 20,
      "maxColumns": 12,
      "name": "grid",
      "type": "grid"
     },
     "report_default": {
      "name": "report",
      "type": "report"
     }
    }
   }
  },
  "kernelspec": {
   "display_name": "ada-env",
   "language": "python",
   "name": "ada-env"
  },
  "language_info": {
   "codemirror_mode": {
    "name": "ipython",
    "version": 2
   },
   "file_extension": ".py",
   "mimetype": "text/x-python",
   "name": "python",
   "nbconvert_exporter": "python",
   "pygments_lexer": "ipython2",
   "version": "2.7.3"
  }
 },
 "nbformat": 4,
 "nbformat_minor": 2
}
