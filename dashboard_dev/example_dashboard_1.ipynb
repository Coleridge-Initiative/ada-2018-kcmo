{
 "cells": [
  {
   "cell_type": "markdown",
   "metadata": {
    "extensions": {
     "jupyter_dashboards": {
      "version": 1,
      "views": {
       "grid_default": {
        "col": 0,
        "height": 3,
        "hidden": false,
        "row": 0,
        "width": 10
       },
       "report_default": {
        "hidden": false
       }
      }
     }
    }
   },
   "source": [
    "## Economic activity in KCMO\n",
    "Workplace Area Characteristics"
   ]
  },
  {
   "cell_type": "code",
   "execution_count": 1,
   "metadata": {
    "extensions": {
     "jupyter_dashboards": {
      "version": 1,
      "views": {
       "grid_default": {
        "hidden": true
       },
       "report_default": {
        "hidden": true
       }
      }
     }
    }
   },
   "outputs": [],
   "source": [
    "# import packages for data manipulation\n",
    "from sqlalchemy import create_engine\n",
    "import pandas as pd\n",
    "import geopandas as gpd\n",
    "\n",
    "# packages for visualizations\n",
    "import matplotlib.pyplot as plt\n",
    "import seaborn as sns\n",
    "\n",
    "# for interactivity\n",
    "from ipywidgets import *\n",
    "%matplotlib notebook\n",
    "\n",
    "# set Seaborn context/style\n",
    "sns.set_context(context='notebook')\n",
    "sns.set_style('darkgrid')\n"
   ]
  },
  {
   "cell_type": "code",
   "execution_count": 2,
   "metadata": {
    "extensions": {
     "jupyter_dashboards": {
      "version": 1,
      "views": {
       "grid_default": {
        "col": 0,
        "height": 4,
        "hidden": true,
        "row": 55,
        "width": 4
       },
       "report_default": {
        "hidden": true
       }
      }
     }
    }
   },
   "outputs": [
    {
     "data": {
      "text/plain": [
       "'7.1.2'"
      ]
     },
     "execution_count": 2,
     "metadata": {},
     "output_type": "execute_result"
    }
   ],
   "source": [
    "import ipywidgets as iw\n",
    "iw.__version__"
   ]
  },
  {
   "cell_type": "code",
   "execution_count": 3,
   "metadata": {
    "extensions": {
     "jupyter_dashboards": {
      "version": 1,
      "views": {
       "grid_default": {
        "hidden": true
       },
       "report_default": {
        "hidden": true
       }
      }
     }
    }
   },
   "outputs": [],
   "source": [
    "# database connection\n",
    "DB = 'datadb'\n",
    "USER = 'postgres'\n",
    "HOST = 'localhost'\n",
    "PORT = '5432'\n",
    "PW = 'postgres'\n",
    "\n",
    "DB_CONNECTION_STRING = 'postgresql://{username}:{password}@{host}:{port}/{database}'.format(\n",
    "username=USER, password=PW, host=HOST, port=PORT, database=DB)\n",
    "\n",
    "engine = create_engine(DB_CONNECTION_STRING)"
   ]
  },
  {
   "cell_type": "code",
   "execution_count": 4,
   "metadata": {
    "extensions": {
     "jupyter_dashboards": {
      "version": 1,
      "views": {
       "grid_default": {
        "hidden": true
       },
       "report_default": {
        "hidden": true
       }
      }
     }
    }
   },
   "outputs": [],
   "source": [
    "# function to get data - cbsafp = '28140' is KCMO metro area\n",
    "def getWAC(seg='s000', jt='jt01', years=xrange(2002,2016), cbsafp = '28140'):\n",
    "    # to pull data from database\n",
    "    DFs = []\n",
    "    # get data\n",
    "    for year in years:\n",
    "        qry = \"\"\"\n",
    "        SELECT *, left(w_geocode, 5) countyfp, {YR} AS year \n",
    "        FROM lodes.mo_wac_{SEG}_{JT}_{YR}\n",
    "        WHERE left(w_geocode, 5) \n",
    "        IN (SELECT geoid FROM tl_2016_us_county WHERE cbsafp = '{CBSA}')\n",
    "        \"\"\".format(SEG=seg, JT=jt, YR=year, CBSA=cbsafp)\n",
    "        df = pd.read_sql(qry, engine)\n",
    "#         df.drop(columns='createdate', inplace=True)\n",
    "#         df['year'] = year\n",
    "        DFs.append(df)\n",
    "    # combine DFs into single dataframe\n",
    "    df = pd.concat(DFs)\n",
    "    return(df)"
   ]
  },
  {
   "cell_type": "code",
   "execution_count": 5,
   "metadata": {
    "extensions": {
     "jupyter_dashboards": {
      "version": 1,
      "views": {
       "grid_default": {
        "col": 4,
        "height": 7,
        "hidden": true,
        "row": 0,
        "width": 4
       },
       "report_default": {
        "hidden": true
       }
      }
     }
    }
   },
   "outputs": [
    {
     "data": {
      "text/plain": [
       "2006    10502\n",
       "2008    10267\n",
       "2007    10240\n",
       "2009    10225\n",
       "2010    10110\n",
       "2013     8587\n",
       "2012     8494\n",
       "2011     8137\n",
       "Name: year, dtype: int64"
      ]
     },
     "execution_count": 5,
     "metadata": {},
     "output_type": "execute_result"
    }
   ],
   "source": [
    "df = getWAC(years=xrange(2006,2014))\n",
    "df.year.value_counts()"
   ]
  },
  {
   "cell_type": "markdown",
   "metadata": {
    "extensions": {
     "jupyter_dashboards": {
      "version": 1,
      "views": {
       "grid_default": {
        "col": 0,
        "height": 6,
        "hidden": true,
        "row": 6,
        "width": 12
       },
       "report_default": {
        "hidden": true
       }
      }
     }
    }
   },
   "source": [
    "added following CRS to database to align with KCMO standard, from http://spatialreference.org/ref/esri/102698/postgis/\n",
    "\n",
    "> INSERT into spatial_ref_sys (srid, auth_name, auth_srid, proj4text, srtext) values ( 102698, 'esri', 102698, '+proj=tmerc +lat_0=36.16666666666666 +lon_0=-94.5 +k=0.9999411764705882 +x_0=850000 +y_0=0 +ellps=GRS80 +datum=NAD83 +to_meter=0.3048006096012192 +no_defs ', 'PROJCS[\"NAD_1983_StatePlane_Missouri_West_FIPS_2403_Feet\",GEOGCS[\"GCS_North_American_1983\",DATUM[\"North_American_Datum_1983\",SPHEROID[\"GRS_1980\",6378137,298.257222101]],PRIMEM[\"Greenwich\",0],UNIT[\"Degree\",0.017453292519943295]],PROJECTION[\"Transverse_Mercator\"],PARAMETER[\"False_Easting\",2788708.333333333],PARAMETER[\"False_Northing\",0],PARAMETER[\"Central_Meridian\",-94.5],PARAMETER[\"Scale_Factor\",0.9999411764705882],PARAMETER[\"Latitude_Of_Origin\",36.16666666666666],UNIT[\"Foot_US\",0.30480060960121924],AUTHORITY[\"EPSG\",\"102698\"]]');"
   ]
  },
  {
   "cell_type": "code",
   "execution_count": 6,
   "metadata": {
    "extensions": {
     "jupyter_dashboards": {
      "version": 1,
      "views": {
       "grid_default": {
        "hidden": true
       },
       "report_default": {
        "hidden": true
       }
      }
     }
    }
   },
   "outputs": [],
   "source": [
    "# get counties for map\n",
    "\n",
    "qry = \"\"\"\n",
    "SELECT geoid, name,\n",
    "    ST_Transform(geom, 102698) geom \n",
    "FROM tl_2016_us_county \n",
    "WHERE cbsafp = '{CBSA}' AND statefp = '29'\n",
    "\"\"\".format(CBSA='28140')\n",
    "\n",
    "counties = gpd.read_postgis(qry, engine, geom_col='geom')\n",
    "counties['coords'] = counties.geometry.apply(lambda x: x.representative_point().coords[0])"
   ]
  },
  {
   "cell_type": "code",
   "execution_count": 7,
   "metadata": {
    "extensions": {
     "jupyter_dashboards": {
      "version": 1,
      "views": {
       "grid_default": {
        "col": 0,
        "height": 11,
        "hidden": true,
        "row": 17,
        "width": 4
       },
       "report_default": {
        "hidden": true
       }
      }
     }
    }
   },
   "outputs": [
    {
     "data": {
      "text/html": [
       "<div>\n",
       "<style scoped>\n",
       "    .dataframe tbody tr th:only-of-type {\n",
       "        vertical-align: middle;\n",
       "    }\n",
       "\n",
       "    .dataframe tbody tr th {\n",
       "        vertical-align: top;\n",
       "    }\n",
       "\n",
       "    .dataframe thead th {\n",
       "        text-align: right;\n",
       "    }\n",
       "</style>\n",
       "<table border=\"1\" class=\"dataframe\">\n",
       "  <thead>\n",
       "    <tr style=\"text-align: right;\">\n",
       "      <th></th>\n",
       "      <th>geoid</th>\n",
       "      <th>name</th>\n",
       "      <th>geom</th>\n",
       "      <th>coords</th>\n",
       "    </tr>\n",
       "  </thead>\n",
       "  <tbody>\n",
       "    <tr>\n",
       "      <th>0</th>\n",
       "      <td>29037</td>\n",
       "      <td>Cass</td>\n",
       "      <td>(POLYGON ((2757711.046145708 944487.779166155,...</td>\n",
       "      <td>(2827582.76366, 902996.782006)</td>\n",
       "    </tr>\n",
       "    <tr>\n",
       "      <th>1</th>\n",
       "      <td>29165</td>\n",
       "      <td>Platte</td>\n",
       "      <td>(POLYGON ((2672765.821989374 1160319.813960498...</td>\n",
       "      <td>(2716459.28694, 1157245.93518)</td>\n",
       "    </tr>\n",
       "    <tr>\n",
       "      <th>2</th>\n",
       "      <td>29177</td>\n",
       "      <td>Ray</td>\n",
       "      <td>(POLYGON ((2870211.913921144 1128467.049151529...</td>\n",
       "      <td>(2934245.1651, 1152428.64077)</td>\n",
       "    </tr>\n",
       "    <tr>\n",
       "      <th>3</th>\n",
       "      <td>29107</td>\n",
       "      <td>Lafayette</td>\n",
       "      <td>(POLYGON ((2899444.881616506 1033552.724563697...</td>\n",
       "      <td>(2988208.77351, 1069649.14907)</td>\n",
       "    </tr>\n",
       "    <tr>\n",
       "      <th>4</th>\n",
       "      <td>29025</td>\n",
       "      <td>Caldwell</td>\n",
       "      <td>(POLYGON ((2871479.595406072 1287479.497680248...</td>\n",
       "      <td>(2934492.20179, 1271114.0081)</td>\n",
       "    </tr>\n",
       "  </tbody>\n",
       "</table>\n",
       "</div>"
      ],
      "text/plain": [
       "   geoid       name                                               geom  \\\n",
       "0  29037       Cass  (POLYGON ((2757711.046145708 944487.779166155,...   \n",
       "1  29165     Platte  (POLYGON ((2672765.821989374 1160319.813960498...   \n",
       "2  29177        Ray  (POLYGON ((2870211.913921144 1128467.049151529...   \n",
       "3  29107  Lafayette  (POLYGON ((2899444.881616506 1033552.724563697...   \n",
       "4  29025   Caldwell  (POLYGON ((2871479.595406072 1287479.497680248...   \n",
       "\n",
       "                           coords  \n",
       "0  (2827582.76366, 902996.782006)  \n",
       "1  (2716459.28694, 1157245.93518)  \n",
       "2   (2934245.1651, 1152428.64077)  \n",
       "3  (2988208.77351, 1069649.14907)  \n",
       "4   (2934492.20179, 1271114.0081)  "
      ]
     },
     "execution_count": 7,
     "metadata": {},
     "output_type": "execute_result"
    }
   ],
   "source": [
    "counties.head()"
   ]
  },
  {
   "cell_type": "code",
   "execution_count": 8,
   "metadata": {
    "extensions": {
     "jupyter_dashboards": {
      "version": 1,
      "views": {
       "grid_default": {
        "hidden": true
       },
       "report_default": {
        "hidden": true
       }
      }
     }
    }
   },
   "outputs": [],
   "source": [
    "q = \"\"\"\n",
    "SELECT column_name FROM information_schema.columns \n",
    "WHERE table_name = 'tl_2016_us_county';\n",
    "\"\"\"\n",
    "# pd.read_sql(q, engine)"
   ]
  },
  {
   "cell_type": "code",
   "execution_count": 9,
   "metadata": {
    "extensions": {
     "jupyter_dashboards": {
      "version": 1,
      "views": {
       "grid_default": {
        "col": 0,
        "height": 17,
        "hidden": true,
        "row": 3,
        "width": 6
       },
       "report_default": {
        "hidden": true
       }
      }
     }
    }
   },
   "outputs": [
    {
     "data": {
      "application/vnd.jupyter.widget-view+json": {
       "model_id": "5ae1a9b28ea7497eacd11646db152855",
       "version_major": 2,
       "version_minor": 0
      },
      "text/html": [
       "<p>Failed to display Jupyter Widget of type <code>interactive</code>.</p>\n",
       "<p>\n",
       "  If you're reading this message in the Jupyter Notebook or JupyterLab Notebook, it may mean\n",
       "  that the widgets JavaScript is still loading. If this message persists, it\n",
       "  likely means that the widgets JavaScript library is either not installed or\n",
       "  not enabled. See the <a href=\"https://ipywidgets.readthedocs.io/en/stable/user_install.html\">Jupyter\n",
       "  Widgets Documentation</a> for setup instructions.\n",
       "</p>\n",
       "<p>\n",
       "  If you're reading this message in another frontend (for example, a static\n",
       "  rendering on GitHub or <a href=\"https://nbviewer.jupyter.org/\">NBViewer</a>),\n",
       "  it may mean that your frontend doesn't currently support widgets.\n",
       "</p>\n"
      ],
      "text/plain": [
       "interactive(children=(Dropdown(description=u'yr', options=(2006, 2007, 2008, 2009, 2010, 2011, 2012, 2013), value=2006), Text(value=u'ce01', description=u'col'), Output()), _dom_classes=('widget-interact',))"
      ]
     },
     "metadata": {},
     "output_type": "display_data"
    },
    {
     "data": {
      "text/plain": [
       "<function __main__.plot_cnty>"
      ]
     },
     "execution_count": 9,
     "metadata": {},
     "output_type": "execute_result"
    }
   ],
   "source": [
    "def plot_cnty(yr, col='ce01'): \n",
    "    sns.set_style('whitegrid')\n",
    "    f, ax = plt.subplots(1, figsize=(8,6))\n",
    "    # get specified data summarized by county\n",
    "    cnty_df = pd.merge(counties,\n",
    "                    df[df['year']==yr].groupby('countyfp')[col].sum().reset_index(), \n",
    "                    left_on='geoid', right_on='countyfp')\n",
    "    colmap = sns.cubehelix_palette(8, start=2, rot=0, dark=0, light=.95, as_cmap=True)\n",
    "    cnty_df.plot(col, ax=ax, legend=True, cmap=colmap) \n",
    "    \n",
    "    for idx, row in cnty_df.iterrows():\n",
    "        ax.annotate(row['name'], row['coords'],\n",
    "                     horizontalalignment='left', size='medium', color='white', \n",
    "                     weight='semibold',\n",
    "                   bbox=dict(boxstyle=\"round,pad=0.3\", fc=\"grey\", ec=\"k\", lw=0.5))\n",
    "    \n",
    "    ax.tick_params(\n",
    "        axis='both',          # changes apply to the x-axis\n",
    "        which='both',      # both major and minor ticks are affected\n",
    "        bottom='off',      # ticks along the bottom edge are off\n",
    "        top='off',         # ticks along the top edge are off\n",
    "        labelbottom='off', # labels along the bottom edge are off\n",
    "        labelleft='off')\n",
    "    \n",
    "    f.suptitle('{} in {} by county, KCMO'.format(col, yr))\n",
    "\n",
    "interact(plot_cnty, yr = df['year'].unique())#, col = df.columns.tolist()[1:])\n",
    "# plot_cnty(2006, 'ce01')"
   ]
  },
  {
   "cell_type": "markdown",
   "metadata": {
    "extensions": {
     "jupyter_dashboards": {
      "version": 1,
      "views": {
       "grid_default": {
        "col": 0,
        "height": 26,
        "hidden": true,
        "row": 6,
        "width": 12
       },
       "report_default": {
        "hidden": true
       }
      }
     }
    }
   },
   "source": [
    "![county map example](lodes_example_county_map.png)"
   ]
  },
  {
   "cell_type": "code",
   "execution_count": 10,
   "metadata": {
    "extensions": {
     "jupyter_dashboards": {
      "version": 1,
      "views": {
       "grid_default": {
        "hidden": true
       },
       "report_default": {
        "hidden": true
       }
      }
     }
    }
   },
   "outputs": [],
   "source": [
    "# get BlockGroups for map\n",
    "\n",
    "qry = \"\"\"\n",
    "SELECT blockgroup,\n",
    "    ST_Transform(geom, 102698) geom \n",
    "FROM tl_2016_29_blkgrp\n",
    "WHERE left(blockgroup, 5) \n",
    "    IN (SELECT geoid\n",
    "        FROM tl_2016_us_county \n",
    "        WHERE cbsafp =  '{CBSA}')\n",
    "\"\"\".format(CBSA='28140')\n",
    "\n",
    "blocks = gpd.read_postgis(qry, engine, geom_col='geom')\n",
    "blocks['coords'] = blocks.geometry.apply(lambda x: x.representative_point().coords[0])"
   ]
  },
  {
   "cell_type": "code",
   "execution_count": 11,
   "metadata": {
    "extensions": {
     "jupyter_dashboards": {
      "version": 1,
      "views": {
       "grid_default": {
        "col": 0,
        "height": 9,
        "hidden": true,
        "row": 24,
        "width": 4
       },
       "report_default": {
        "hidden": true
       }
      }
     }
    }
   },
   "outputs": [
    {
     "name": "stdout",
     "output_type": "stream",
     "text": [
      "[u'w_geocode', u'c000', u'ca01', u'ca02', u'ca03', u'ce01', u'ce02', u'ce03', u'cns01', u'cns02', u'cns03', u'cns04', u'cns05', u'cns06', u'cns07', u'cns08', u'cns09', u'cns10', u'cns11', u'cns12', u'cns13', u'cns14', u'cns15', u'cns16', u'cns17', u'cns18', u'cns19', u'cns20', u'cr01', u'cr02', u'cr03', u'cr04', u'cr05', u'cr07', u'ct01', u'ct02', u'cd01', u'cd02', u'cd03', u'cd04', u'cs01', u'cs02', u'cfa01', u'cfa02', u'cfa03', u'cfa04', u'cfa05', u'cfs01', u'cfs02', u'cfs03', u'cfs04', u'cfs05', u'createdate', u'countyfp', u'year']\n"
     ]
    }
   ],
   "source": [
    "print(df.columns.tolist())"
   ]
  },
  {
   "cell_type": "code",
   "execution_count": 12,
   "metadata": {
    "extensions": {
     "jupyter_dashboards": {
      "version": 1,
      "views": {
       "grid_default": {
        "hidden": true
       },
       "report_default": {
        "hidden": true
       }
      }
     }
    }
   },
   "outputs": [],
   "source": [
    "# add blockgroup code to df\n",
    "df['bg'] = df['w_geocode'].apply(lambda g: g[:12])"
   ]
  },
  {
   "cell_type": "code",
   "execution_count": 13,
   "metadata": {
    "extensions": {
     "jupyter_dashboards": {
      "version": 1,
      "views": {
       "grid_default": {
        "col": 0,
        "height": 34,
        "hidden": false,
        "row": 3,
        "width": 12
       },
       "report_default": {
        "hidden": false
       }
      }
     }
    }
   },
   "outputs": [
    {
     "data": {
      "application/vnd.jupyter.widget-view+json": {
       "model_id": "83edf2b2d93f4008aabfcf06ae1f03a9",
       "version_major": 2,
       "version_minor": 0
      },
      "text/html": [
       "<p>Failed to display Jupyter Widget of type <code>interactive</code>.</p>\n",
       "<p>\n",
       "  If you're reading this message in the Jupyter Notebook or JupyterLab Notebook, it may mean\n",
       "  that the widgets JavaScript is still loading. If this message persists, it\n",
       "  likely means that the widgets JavaScript library is either not installed or\n",
       "  not enabled. See the <a href=\"https://ipywidgets.readthedocs.io/en/stable/user_install.html\">Jupyter\n",
       "  Widgets Documentation</a> for setup instructions.\n",
       "</p>\n",
       "<p>\n",
       "  If you're reading this message in another frontend (for example, a static\n",
       "  rendering on GitHub or <a href=\"https://nbviewer.jupyter.org/\">NBViewer</a>),\n",
       "  it may mean that your frontend doesn't currently support widgets.\n",
       "</p>\n"
      ],
      "text/plain": [
       "interactive(children=(Dropdown(description=u'yr', options=(2006, 2007, 2008, 2009, 2010, 2011, 2012, 2013), value=2006), Dropdown(description=u'col', options=(u'c000', u'ca01', u'ca02', u'ca03', u'ce01', u'ce02', u'ce03', u'cns01', u'cns02', u'cns03', u'cns04', u'cns05', u'cns06', u'cns07', u'cns08', u'cns09', u'cns10', u'cns11', u'cns12', u'cns13', u'cns14', u'cns15', u'cns16', u'cns17', u'cns18', u'cns19', u'cns20', u'cr01', u'cr02', u'cr03', u'cr04', u'cr05', u'cr07', u'ct01', u'ct02', u'cd01', u'cd02', u'cd03', u'cd04', u'cs01', u'cs02', u'cfa01', u'cfa02', u'cfa03', u'cfa04', u'cfa05', u'cfs01', u'cfs02', u'cfs03', u'cfs04', u'cfs05', u'createdate', u'countyfp', u'year', 'bg'), value=u'c000'), Output()), _dom_classes=('widget-interact',))"
      ]
     },
     "metadata": {},
     "output_type": "display_data"
    },
    {
     "data": {
      "text/plain": [
       "<function __main__.plot_bg>"
      ]
     },
     "execution_count": 13,
     "metadata": {},
     "output_type": "execute_result"
    }
   ],
   "source": [
    "%matplotlib notebook\n",
    "def plot_bg(yr, col): \n",
    "    sns.set_style('whitegrid')\n",
    "    f, ax = plt.subplots(1, figsize=(12,8))\n",
    "    # get specified data summarized by county\n",
    "    block_df = pd.merge(blocks,\n",
    "                    df[df['year']==yr].groupby('bg')[col].sum().reset_index(), \n",
    "                    left_on='blockgroup', right_on='bg')\n",
    "    colmap = sns.cubehelix_palette(8, start=2, rot=0, dark=0, light=.95, as_cmap=True)\n",
    "    counties.plot(ax=ax, color='white', edgecolor='grey')\n",
    "    block_df.plot(col, ax=ax, legend=True, cmap=colmap) \n",
    "    \n",
    "    for idx, row in counties.iterrows():\n",
    "        ax.annotate(row['name'], row['coords'],\n",
    "                     horizontalalignment='left', size='medium', color='white', \n",
    "                     weight='semibold',\n",
    "                   bbox=dict(boxstyle=\"round,pad=0.3\", fc=\"grey\", ec=\"k\", lw=0.5))\n",
    "    \n",
    "    ax.tick_params(\n",
    "        axis='both',          # changes apply to the x-axis\n",
    "        which='both',      # both major and minor ticks are affected\n",
    "        bottom='off',      # ticks along the bottom edge are off\n",
    "        top='off',         # ticks along the top edge are off\n",
    "        labelbottom='off', # labels along the bottom edge are off\n",
    "        labelleft='off')\n",
    "    \n",
    "    f.suptitle('{} in {} by Block Group, KCMO'.format(col, yr))\n",
    "\n",
    "interact(plot_bg,yr=df['year'].unique(), col=df.columns.tolist()[1:])"
   ]
  },
  {
   "cell_type": "code",
   "execution_count": 16,
   "metadata": {
    "extensions": {
     "jupyter_dashboards": {
      "version": 1,
      "views": {
       "grid_default": {
        "hidden": true
       },
       "report_default": {
        "hidden": true
       }
      }
     }
    }
   },
   "outputs": [
    {
     "name": "stderr",
     "output_type": "stream",
     "text": [
      "/Users/crh278/anaconda3/envs/ada-env/lib/python2.7/site-packages/pandas/core/reshape/reshape.py:731: FutureWarning: \n",
      "Passing list-likes to .loc or [] with any missing label will raise\n",
      "KeyError in the future, you can use .reindex() as an alternative.\n",
      "\n",
      "See the documentation here:\n",
      "http://pandas.pydata.org/pandas-docs/stable/indexing.html#deprecate-loc-reindex-listlike\n",
      "  frame = frame.loc[:, id_vars + value_vars]\n",
      "/Users/crh278/anaconda3/envs/ada-env/lib/python2.7/site-packages/pandas/core/indexing.py:1367: FutureWarning: \n",
      "Passing list-likes to .loc or [] with any missing label will raise\n",
      "KeyError in the future, you can use .reindex() as an alternative.\n",
      "\n",
      "See the documentation here:\n",
      "http://pandas.pydata.org/pandas-docs/stable/indexing.html#deprecate-loc-reindex-listlike\n",
      "  return self._getitem_tuple(key)\n"
     ]
    }
   ],
   "source": [
    "# prep data for comparison of variables over time\n",
    "dfpl = df.groupby('year')[df.columns.tolist()[1:-3]].sum().reset_index()\n",
    "dfpl2 = pd.melt(dfpl, id_vars='year', value_vars=df.columns.tolist()[1:-3])"
   ]
  },
  {
   "cell_type": "code",
   "execution_count": 17,
   "metadata": {
    "extensions": {
     "jupyter_dashboards": {
      "version": 1,
      "views": {
       "grid_default": {
        "col": 0,
        "height": 10,
        "hidden": true,
        "row": 24,
        "width": 4
       },
       "report_default": {
        "hidden": true
       }
      }
     }
    }
   },
   "outputs": [
    {
     "name": "stdout",
     "output_type": "stream",
     "text": [
      "<class 'pandas.core.frame.DataFrame'>\n",
      "RangeIndex: 8 entries, 0 to 7\n",
      "Data columns (total 52 columns):\n",
      "year     8 non-null int64\n",
      "c000     8 non-null int64\n",
      "ca01     8 non-null int64\n",
      "ca02     8 non-null int64\n",
      "ca03     8 non-null int64\n",
      "ce01     8 non-null int64\n",
      "ce02     8 non-null int64\n",
      "ce03     8 non-null int64\n",
      "cns01    8 non-null int64\n",
      "cns02    8 non-null int64\n",
      "cns03    8 non-null int64\n",
      "cns04    8 non-null int64\n",
      "cns05    8 non-null int64\n",
      "cns06    8 non-null int64\n",
      "cns07    8 non-null int64\n",
      "cns08    8 non-null int64\n",
      "cns09    8 non-null int64\n",
      "cns10    8 non-null int64\n",
      "cns11    8 non-null int64\n",
      "cns12    8 non-null int64\n",
      "cns13    8 non-null int64\n",
      "cns14    8 non-null int64\n",
      "cns15    8 non-null int64\n",
      "cns16    8 non-null int64\n",
      "cns17    8 non-null int64\n",
      "cns18    8 non-null int64\n",
      "cns19    8 non-null int64\n",
      "cns20    8 non-null int64\n",
      "cr01     8 non-null int64\n",
      "cr02     8 non-null int64\n",
      "cr03     8 non-null int64\n",
      "cr04     8 non-null int64\n",
      "cr05     8 non-null int64\n",
      "cr07     8 non-null int64\n",
      "ct01     8 non-null int64\n",
      "ct02     8 non-null int64\n",
      "cd01     8 non-null int64\n",
      "cd02     8 non-null int64\n",
      "cd03     8 non-null int64\n",
      "cd04     8 non-null int64\n",
      "cs01     8 non-null int64\n",
      "cs02     8 non-null int64\n",
      "cfa01    8 non-null int64\n",
      "cfa02    8 non-null int64\n",
      "cfa03    8 non-null int64\n",
      "cfa04    8 non-null int64\n",
      "cfa05    8 non-null int64\n",
      "cfs01    8 non-null int64\n",
      "cfs02    8 non-null int64\n",
      "cfs03    8 non-null int64\n",
      "cfs04    8 non-null int64\n",
      "cfs05    8 non-null int64\n",
      "dtypes: int64(52)\n",
      "memory usage: 3.3 KB\n"
     ]
    }
   ],
   "source": [
    "# sns.pointplot('ce01', 'ca02', 'year', data=df, markers='o')#, linestyles='--', )\n",
    "\n",
    "dfpl.info()"
   ]
  },
  {
   "cell_type": "code",
   "execution_count": 18,
   "metadata": {
    "extensions": {
     "jupyter_dashboards": {
      "version": 1,
      "views": {
       "grid_default": {
        "col": 4,
        "height": 9,
        "hidden": true,
        "row": 30,
        "width": 4
       },
       "report_default": {
        "hidden": true
       }
      }
     }
    }
   },
   "outputs": [
    {
     "data": {
      "application/javascript": [
       "/* Put everything inside the global mpl namespace */\n",
       "window.mpl = {};\n",
       "\n",
       "\n",
       "mpl.get_websocket_type = function() {\n",
       "    if (typeof(WebSocket) !== 'undefined') {\n",
       "        return WebSocket;\n",
       "    } else if (typeof(MozWebSocket) !== 'undefined') {\n",
       "        return MozWebSocket;\n",
       "    } else {\n",
       "        alert('Your browser does not have WebSocket support.' +\n",
       "              'Please try Chrome, Safari or Firefox ≥ 6. ' +\n",
       "              'Firefox 4 and 5 are also supported but you ' +\n",
       "              'have to enable WebSockets in about:config.');\n",
       "    };\n",
       "}\n",
       "\n",
       "mpl.figure = function(figure_id, websocket, ondownload, parent_element) {\n",
       "    this.id = figure_id;\n",
       "\n",
       "    this.ws = websocket;\n",
       "\n",
       "    this.supports_binary = (this.ws.binaryType != undefined);\n",
       "\n",
       "    if (!this.supports_binary) {\n",
       "        var warnings = document.getElementById(\"mpl-warnings\");\n",
       "        if (warnings) {\n",
       "            warnings.style.display = 'block';\n",
       "            warnings.textContent = (\n",
       "                \"This browser does not support binary websocket messages. \" +\n",
       "                    \"Performance may be slow.\");\n",
       "        }\n",
       "    }\n",
       "\n",
       "    this.imageObj = new Image();\n",
       "\n",
       "    this.context = undefined;\n",
       "    this.message = undefined;\n",
       "    this.canvas = undefined;\n",
       "    this.rubberband_canvas = undefined;\n",
       "    this.rubberband_context = undefined;\n",
       "    this.format_dropdown = undefined;\n",
       "\n",
       "    this.image_mode = 'full';\n",
       "\n",
       "    this.root = $('<div/>');\n",
       "    this._root_extra_style(this.root)\n",
       "    this.root.attr('style', 'display: inline-block');\n",
       "\n",
       "    $(parent_element).append(this.root);\n",
       "\n",
       "    this._init_header(this);\n",
       "    this._init_canvas(this);\n",
       "    this._init_toolbar(this);\n",
       "\n",
       "    var fig = this;\n",
       "\n",
       "    this.waiting = false;\n",
       "\n",
       "    this.ws.onopen =  function () {\n",
       "            fig.send_message(\"supports_binary\", {value: fig.supports_binary});\n",
       "            fig.send_message(\"send_image_mode\", {});\n",
       "            if (mpl.ratio != 1) {\n",
       "                fig.send_message(\"set_dpi_ratio\", {'dpi_ratio': mpl.ratio});\n",
       "            }\n",
       "            fig.send_message(\"refresh\", {});\n",
       "        }\n",
       "\n",
       "    this.imageObj.onload = function() {\n",
       "            if (fig.image_mode == 'full') {\n",
       "                // Full images could contain transparency (where diff images\n",
       "                // almost always do), so we need to clear the canvas so that\n",
       "                // there is no ghosting.\n",
       "                fig.context.clearRect(0, 0, fig.canvas.width, fig.canvas.height);\n",
       "            }\n",
       "            fig.context.drawImage(fig.imageObj, 0, 0);\n",
       "        };\n",
       "\n",
       "    this.imageObj.onunload = function() {\n",
       "        fig.ws.close();\n",
       "    }\n",
       "\n",
       "    this.ws.onmessage = this._make_on_message_function(this);\n",
       "\n",
       "    this.ondownload = ondownload;\n",
       "}\n",
       "\n",
       "mpl.figure.prototype._init_header = function() {\n",
       "    var titlebar = $(\n",
       "        '<div class=\"ui-dialog-titlebar ui-widget-header ui-corner-all ' +\n",
       "        'ui-helper-clearfix\"/>');\n",
       "    var titletext = $(\n",
       "        '<div class=\"ui-dialog-title\" style=\"width: 100%; ' +\n",
       "        'text-align: center; padding: 3px;\"/>');\n",
       "    titlebar.append(titletext)\n",
       "    this.root.append(titlebar);\n",
       "    this.header = titletext[0];\n",
       "}\n",
       "\n",
       "\n",
       "\n",
       "mpl.figure.prototype._canvas_extra_style = function(canvas_div) {\n",
       "\n",
       "}\n",
       "\n",
       "\n",
       "mpl.figure.prototype._root_extra_style = function(canvas_div) {\n",
       "\n",
       "}\n",
       "\n",
       "mpl.figure.prototype._init_canvas = function() {\n",
       "    var fig = this;\n",
       "\n",
       "    var canvas_div = $('<div/>');\n",
       "\n",
       "    canvas_div.attr('style', 'position: relative; clear: both; outline: 0');\n",
       "\n",
       "    function canvas_keyboard_event(event) {\n",
       "        return fig.key_event(event, event['data']);\n",
       "    }\n",
       "\n",
       "    canvas_div.keydown('key_press', canvas_keyboard_event);\n",
       "    canvas_div.keyup('key_release', canvas_keyboard_event);\n",
       "    this.canvas_div = canvas_div\n",
       "    this._canvas_extra_style(canvas_div)\n",
       "    this.root.append(canvas_div);\n",
       "\n",
       "    var canvas = $('<canvas/>');\n",
       "    canvas.addClass('mpl-canvas');\n",
       "    canvas.attr('style', \"left: 0; top: 0; z-index: 0; outline: 0\")\n",
       "\n",
       "    this.canvas = canvas[0];\n",
       "    this.context = canvas[0].getContext(\"2d\");\n",
       "\n",
       "    var backingStore = this.context.backingStorePixelRatio ||\n",
       "\tthis.context.webkitBackingStorePixelRatio ||\n",
       "\tthis.context.mozBackingStorePixelRatio ||\n",
       "\tthis.context.msBackingStorePixelRatio ||\n",
       "\tthis.context.oBackingStorePixelRatio ||\n",
       "\tthis.context.backingStorePixelRatio || 1;\n",
       "\n",
       "    mpl.ratio = (window.devicePixelRatio || 1) / backingStore;\n",
       "\n",
       "    var rubberband = $('<canvas/>');\n",
       "    rubberband.attr('style', \"position: absolute; left: 0; top: 0; z-index: 1;\")\n",
       "\n",
       "    var pass_mouse_events = true;\n",
       "\n",
       "    canvas_div.resizable({\n",
       "        start: function(event, ui) {\n",
       "            pass_mouse_events = false;\n",
       "        },\n",
       "        resize: function(event, ui) {\n",
       "            fig.request_resize(ui.size.width, ui.size.height);\n",
       "        },\n",
       "        stop: function(event, ui) {\n",
       "            pass_mouse_events = true;\n",
       "            fig.request_resize(ui.size.width, ui.size.height);\n",
       "        },\n",
       "    });\n",
       "\n",
       "    function mouse_event_fn(event) {\n",
       "        if (pass_mouse_events)\n",
       "            return fig.mouse_event(event, event['data']);\n",
       "    }\n",
       "\n",
       "    rubberband.mousedown('button_press', mouse_event_fn);\n",
       "    rubberband.mouseup('button_release', mouse_event_fn);\n",
       "    // Throttle sequential mouse events to 1 every 20ms.\n",
       "    rubberband.mousemove('motion_notify', mouse_event_fn);\n",
       "\n",
       "    rubberband.mouseenter('figure_enter', mouse_event_fn);\n",
       "    rubberband.mouseleave('figure_leave', mouse_event_fn);\n",
       "\n",
       "    canvas_div.on(\"wheel\", function (event) {\n",
       "        event = event.originalEvent;\n",
       "        event['data'] = 'scroll'\n",
       "        if (event.deltaY < 0) {\n",
       "            event.step = 1;\n",
       "        } else {\n",
       "            event.step = -1;\n",
       "        }\n",
       "        mouse_event_fn(event);\n",
       "    });\n",
       "\n",
       "    canvas_div.append(canvas);\n",
       "    canvas_div.append(rubberband);\n",
       "\n",
       "    this.rubberband = rubberband;\n",
       "    this.rubberband_canvas = rubberband[0];\n",
       "    this.rubberband_context = rubberband[0].getContext(\"2d\");\n",
       "    this.rubberband_context.strokeStyle = \"#000000\";\n",
       "\n",
       "    this._resize_canvas = function(width, height) {\n",
       "        // Keep the size of the canvas, canvas container, and rubber band\n",
       "        // canvas in synch.\n",
       "        canvas_div.css('width', width)\n",
       "        canvas_div.css('height', height)\n",
       "\n",
       "        canvas.attr('width', width * mpl.ratio);\n",
       "        canvas.attr('height', height * mpl.ratio);\n",
       "        canvas.attr('style', 'width: ' + width + 'px; height: ' + height + 'px;');\n",
       "\n",
       "        rubberband.attr('width', width);\n",
       "        rubberband.attr('height', height);\n",
       "    }\n",
       "\n",
       "    // Set the figure to an initial 600x600px, this will subsequently be updated\n",
       "    // upon first draw.\n",
       "    this._resize_canvas(600, 600);\n",
       "\n",
       "    // Disable right mouse context menu.\n",
       "    $(this.rubberband_canvas).bind(\"contextmenu\",function(e){\n",
       "        return false;\n",
       "    });\n",
       "\n",
       "    function set_focus () {\n",
       "        canvas.focus();\n",
       "        canvas_div.focus();\n",
       "    }\n",
       "\n",
       "    window.setTimeout(set_focus, 100);\n",
       "}\n",
       "\n",
       "mpl.figure.prototype._init_toolbar = function() {\n",
       "    var fig = this;\n",
       "\n",
       "    var nav_element = $('<div/>')\n",
       "    nav_element.attr('style', 'width: 100%');\n",
       "    this.root.append(nav_element);\n",
       "\n",
       "    // Define a callback function for later on.\n",
       "    function toolbar_event(event) {\n",
       "        return fig.toolbar_button_onclick(event['data']);\n",
       "    }\n",
       "    function toolbar_mouse_event(event) {\n",
       "        return fig.toolbar_button_onmouseover(event['data']);\n",
       "    }\n",
       "\n",
       "    for(var toolbar_ind in mpl.toolbar_items) {\n",
       "        var name = mpl.toolbar_items[toolbar_ind][0];\n",
       "        var tooltip = mpl.toolbar_items[toolbar_ind][1];\n",
       "        var image = mpl.toolbar_items[toolbar_ind][2];\n",
       "        var method_name = mpl.toolbar_items[toolbar_ind][3];\n",
       "\n",
       "        if (!name) {\n",
       "            // put a spacer in here.\n",
       "            continue;\n",
       "        }\n",
       "        var button = $('<button/>');\n",
       "        button.addClass('ui-button ui-widget ui-state-default ui-corner-all ' +\n",
       "                        'ui-button-icon-only');\n",
       "        button.attr('role', 'button');\n",
       "        button.attr('aria-disabled', 'false');\n",
       "        button.click(method_name, toolbar_event);\n",
       "        button.mouseover(tooltip, toolbar_mouse_event);\n",
       "\n",
       "        var icon_img = $('<span/>');\n",
       "        icon_img.addClass('ui-button-icon-primary ui-icon');\n",
       "        icon_img.addClass(image);\n",
       "        icon_img.addClass('ui-corner-all');\n",
       "\n",
       "        var tooltip_span = $('<span/>');\n",
       "        tooltip_span.addClass('ui-button-text');\n",
       "        tooltip_span.html(tooltip);\n",
       "\n",
       "        button.append(icon_img);\n",
       "        button.append(tooltip_span);\n",
       "\n",
       "        nav_element.append(button);\n",
       "    }\n",
       "\n",
       "    var fmt_picker_span = $('<span/>');\n",
       "\n",
       "    var fmt_picker = $('<select/>');\n",
       "    fmt_picker.addClass('mpl-toolbar-option ui-widget ui-widget-content');\n",
       "    fmt_picker_span.append(fmt_picker);\n",
       "    nav_element.append(fmt_picker_span);\n",
       "    this.format_dropdown = fmt_picker[0];\n",
       "\n",
       "    for (var ind in mpl.extensions) {\n",
       "        var fmt = mpl.extensions[ind];\n",
       "        var option = $(\n",
       "            '<option/>', {selected: fmt === mpl.default_extension}).html(fmt);\n",
       "        fmt_picker.append(option)\n",
       "    }\n",
       "\n",
       "    // Add hover states to the ui-buttons\n",
       "    $( \".ui-button\" ).hover(\n",
       "        function() { $(this).addClass(\"ui-state-hover\");},\n",
       "        function() { $(this).removeClass(\"ui-state-hover\");}\n",
       "    );\n",
       "\n",
       "    var status_bar = $('<span class=\"mpl-message\"/>');\n",
       "    nav_element.append(status_bar);\n",
       "    this.message = status_bar[0];\n",
       "}\n",
       "\n",
       "mpl.figure.prototype.request_resize = function(x_pixels, y_pixels) {\n",
       "    // Request matplotlib to resize the figure. Matplotlib will then trigger a resize in the client,\n",
       "    // which will in turn request a refresh of the image.\n",
       "    this.send_message('resize', {'width': x_pixels, 'height': y_pixels});\n",
       "}\n",
       "\n",
       "mpl.figure.prototype.send_message = function(type, properties) {\n",
       "    properties['type'] = type;\n",
       "    properties['figure_id'] = this.id;\n",
       "    this.ws.send(JSON.stringify(properties));\n",
       "}\n",
       "\n",
       "mpl.figure.prototype.send_draw_message = function() {\n",
       "    if (!this.waiting) {\n",
       "        this.waiting = true;\n",
       "        this.ws.send(JSON.stringify({type: \"draw\", figure_id: this.id}));\n",
       "    }\n",
       "}\n",
       "\n",
       "\n",
       "mpl.figure.prototype.handle_save = function(fig, msg) {\n",
       "    var format_dropdown = fig.format_dropdown;\n",
       "    var format = format_dropdown.options[format_dropdown.selectedIndex].value;\n",
       "    fig.ondownload(fig, format);\n",
       "}\n",
       "\n",
       "\n",
       "mpl.figure.prototype.handle_resize = function(fig, msg) {\n",
       "    var size = msg['size'];\n",
       "    if (size[0] != fig.canvas.width || size[1] != fig.canvas.height) {\n",
       "        fig._resize_canvas(size[0], size[1]);\n",
       "        fig.send_message(\"refresh\", {});\n",
       "    };\n",
       "}\n",
       "\n",
       "mpl.figure.prototype.handle_rubberband = function(fig, msg) {\n",
       "    var x0 = msg['x0'] / mpl.ratio;\n",
       "    var y0 = (fig.canvas.height - msg['y0']) / mpl.ratio;\n",
       "    var x1 = msg['x1'] / mpl.ratio;\n",
       "    var y1 = (fig.canvas.height - msg['y1']) / mpl.ratio;\n",
       "    x0 = Math.floor(x0) + 0.5;\n",
       "    y0 = Math.floor(y0) + 0.5;\n",
       "    x1 = Math.floor(x1) + 0.5;\n",
       "    y1 = Math.floor(y1) + 0.5;\n",
       "    var min_x = Math.min(x0, x1);\n",
       "    var min_y = Math.min(y0, y1);\n",
       "    var width = Math.abs(x1 - x0);\n",
       "    var height = Math.abs(y1 - y0);\n",
       "\n",
       "    fig.rubberband_context.clearRect(\n",
       "        0, 0, fig.canvas.width, fig.canvas.height);\n",
       "\n",
       "    fig.rubberband_context.strokeRect(min_x, min_y, width, height);\n",
       "}\n",
       "\n",
       "mpl.figure.prototype.handle_figure_label = function(fig, msg) {\n",
       "    // Updates the figure title.\n",
       "    fig.header.textContent = msg['label'];\n",
       "}\n",
       "\n",
       "mpl.figure.prototype.handle_cursor = function(fig, msg) {\n",
       "    var cursor = msg['cursor'];\n",
       "    switch(cursor)\n",
       "    {\n",
       "    case 0:\n",
       "        cursor = 'pointer';\n",
       "        break;\n",
       "    case 1:\n",
       "        cursor = 'default';\n",
       "        break;\n",
       "    case 2:\n",
       "        cursor = 'crosshair';\n",
       "        break;\n",
       "    case 3:\n",
       "        cursor = 'move';\n",
       "        break;\n",
       "    }\n",
       "    fig.rubberband_canvas.style.cursor = cursor;\n",
       "}\n",
       "\n",
       "mpl.figure.prototype.handle_message = function(fig, msg) {\n",
       "    fig.message.textContent = msg['message'];\n",
       "}\n",
       "\n",
       "mpl.figure.prototype.handle_draw = function(fig, msg) {\n",
       "    // Request the server to send over a new figure.\n",
       "    fig.send_draw_message();\n",
       "}\n",
       "\n",
       "mpl.figure.prototype.handle_image_mode = function(fig, msg) {\n",
       "    fig.image_mode = msg['mode'];\n",
       "}\n",
       "\n",
       "mpl.figure.prototype.updated_canvas_event = function() {\n",
       "    // Called whenever the canvas gets updated.\n",
       "    this.send_message(\"ack\", {});\n",
       "}\n",
       "\n",
       "// A function to construct a web socket function for onmessage handling.\n",
       "// Called in the figure constructor.\n",
       "mpl.figure.prototype._make_on_message_function = function(fig) {\n",
       "    return function socket_on_message(evt) {\n",
       "        if (evt.data instanceof Blob) {\n",
       "            /* FIXME: We get \"Resource interpreted as Image but\n",
       "             * transferred with MIME type text/plain:\" errors on\n",
       "             * Chrome.  But how to set the MIME type?  It doesn't seem\n",
       "             * to be part of the websocket stream */\n",
       "            evt.data.type = \"image/png\";\n",
       "\n",
       "            /* Free the memory for the previous frames */\n",
       "            if (fig.imageObj.src) {\n",
       "                (window.URL || window.webkitURL).revokeObjectURL(\n",
       "                    fig.imageObj.src);\n",
       "            }\n",
       "\n",
       "            fig.imageObj.src = (window.URL || window.webkitURL).createObjectURL(\n",
       "                evt.data);\n",
       "            fig.updated_canvas_event();\n",
       "            fig.waiting = false;\n",
       "            return;\n",
       "        }\n",
       "        else if (typeof evt.data === 'string' && evt.data.slice(0, 21) == \"data:image/png;base64\") {\n",
       "            fig.imageObj.src = evt.data;\n",
       "            fig.updated_canvas_event();\n",
       "            fig.waiting = false;\n",
       "            return;\n",
       "        }\n",
       "\n",
       "        var msg = JSON.parse(evt.data);\n",
       "        var msg_type = msg['type'];\n",
       "\n",
       "        // Call the  \"handle_{type}\" callback, which takes\n",
       "        // the figure and JSON message as its only arguments.\n",
       "        try {\n",
       "            var callback = fig[\"handle_\" + msg_type];\n",
       "        } catch (e) {\n",
       "            console.log(\"No handler for the '\" + msg_type + \"' message type: \", msg);\n",
       "            return;\n",
       "        }\n",
       "\n",
       "        if (callback) {\n",
       "            try {\n",
       "                // console.log(\"Handling '\" + msg_type + \"' message: \", msg);\n",
       "                callback(fig, msg);\n",
       "            } catch (e) {\n",
       "                console.log(\"Exception inside the 'handler_\" + msg_type + \"' callback:\", e, e.stack, msg);\n",
       "            }\n",
       "        }\n",
       "    };\n",
       "}\n",
       "\n",
       "// from http://stackoverflow.com/questions/1114465/getting-mouse-location-in-canvas\n",
       "mpl.findpos = function(e) {\n",
       "    //this section is from http://www.quirksmode.org/js/events_properties.html\n",
       "    var targ;\n",
       "    if (!e)\n",
       "        e = window.event;\n",
       "    if (e.target)\n",
       "        targ = e.target;\n",
       "    else if (e.srcElement)\n",
       "        targ = e.srcElement;\n",
       "    if (targ.nodeType == 3) // defeat Safari bug\n",
       "        targ = targ.parentNode;\n",
       "\n",
       "    // jQuery normalizes the pageX and pageY\n",
       "    // pageX,Y are the mouse positions relative to the document\n",
       "    // offset() returns the position of the element relative to the document\n",
       "    var x = e.pageX - $(targ).offset().left;\n",
       "    var y = e.pageY - $(targ).offset().top;\n",
       "\n",
       "    return {\"x\": x, \"y\": y};\n",
       "};\n",
       "\n",
       "/*\n",
       " * return a copy of an object with only non-object keys\n",
       " * we need this to avoid circular references\n",
       " * http://stackoverflow.com/a/24161582/3208463\n",
       " */\n",
       "function simpleKeys (original) {\n",
       "  return Object.keys(original).reduce(function (obj, key) {\n",
       "    if (typeof original[key] !== 'object')\n",
       "        obj[key] = original[key]\n",
       "    return obj;\n",
       "  }, {});\n",
       "}\n",
       "\n",
       "mpl.figure.prototype.mouse_event = function(event, name) {\n",
       "    var canvas_pos = mpl.findpos(event)\n",
       "\n",
       "    if (name === 'button_press')\n",
       "    {\n",
       "        this.canvas.focus();\n",
       "        this.canvas_div.focus();\n",
       "    }\n",
       "\n",
       "    var x = canvas_pos.x * mpl.ratio;\n",
       "    var y = canvas_pos.y * mpl.ratio;\n",
       "\n",
       "    this.send_message(name, {x: x, y: y, button: event.button,\n",
       "                             step: event.step,\n",
       "                             guiEvent: simpleKeys(event)});\n",
       "\n",
       "    /* This prevents the web browser from automatically changing to\n",
       "     * the text insertion cursor when the button is pressed.  We want\n",
       "     * to control all of the cursor setting manually through the\n",
       "     * 'cursor' event from matplotlib */\n",
       "    event.preventDefault();\n",
       "    return false;\n",
       "}\n",
       "\n",
       "mpl.figure.prototype._key_event_extra = function(event, name) {\n",
       "    // Handle any extra behaviour associated with a key event\n",
       "}\n",
       "\n",
       "mpl.figure.prototype.key_event = function(event, name) {\n",
       "\n",
       "    // Prevent repeat events\n",
       "    if (name == 'key_press')\n",
       "    {\n",
       "        if (event.which === this._key)\n",
       "            return;\n",
       "        else\n",
       "            this._key = event.which;\n",
       "    }\n",
       "    if (name == 'key_release')\n",
       "        this._key = null;\n",
       "\n",
       "    var value = '';\n",
       "    if (event.ctrlKey && event.which != 17)\n",
       "        value += \"ctrl+\";\n",
       "    if (event.altKey && event.which != 18)\n",
       "        value += \"alt+\";\n",
       "    if (event.shiftKey && event.which != 16)\n",
       "        value += \"shift+\";\n",
       "\n",
       "    value += 'k';\n",
       "    value += event.which.toString();\n",
       "\n",
       "    this._key_event_extra(event, name);\n",
       "\n",
       "    this.send_message(name, {key: value,\n",
       "                             guiEvent: simpleKeys(event)});\n",
       "    return false;\n",
       "}\n",
       "\n",
       "mpl.figure.prototype.toolbar_button_onclick = function(name) {\n",
       "    if (name == 'download') {\n",
       "        this.handle_save(this, null);\n",
       "    } else {\n",
       "        this.send_message(\"toolbar_button\", {name: name});\n",
       "    }\n",
       "};\n",
       "\n",
       "mpl.figure.prototype.toolbar_button_onmouseover = function(tooltip) {\n",
       "    this.message.textContent = tooltip;\n",
       "};\n",
       "mpl.toolbar_items = [[\"Home\", \"Reset original view\", \"fa fa-home icon-home\", \"home\"], [\"Back\", \"Back to  previous view\", \"fa fa-arrow-left icon-arrow-left\", \"back\"], [\"Forward\", \"Forward to next view\", \"fa fa-arrow-right icon-arrow-right\", \"forward\"], [\"\", \"\", \"\", \"\"], [\"Pan\", \"Pan axes with left mouse, zoom with right\", \"fa fa-arrows icon-move\", \"pan\"], [\"Zoom\", \"Zoom to rectangle\", \"fa fa-square-o icon-check-empty\", \"zoom\"], [\"\", \"\", \"\", \"\"], [\"Download\", \"Download plot\", \"fa fa-floppy-o icon-save\", \"download\"]];\n",
       "\n",
       "mpl.extensions = [\"eps\", \"jpeg\", \"pdf\", \"png\", \"ps\", \"raw\", \"svg\", \"tif\"];\n",
       "\n",
       "mpl.default_extension = \"png\";var comm_websocket_adapter = function(comm) {\n",
       "    // Create a \"websocket\"-like object which calls the given IPython comm\n",
       "    // object with the appropriate methods. Currently this is a non binary\n",
       "    // socket, so there is still some room for performance tuning.\n",
       "    var ws = {};\n",
       "\n",
       "    ws.close = function() {\n",
       "        comm.close()\n",
       "    };\n",
       "    ws.send = function(m) {\n",
       "        //console.log('sending', m);\n",
       "        comm.send(m);\n",
       "    };\n",
       "    // Register the callback with on_msg.\n",
       "    comm.on_msg(function(msg) {\n",
       "        //console.log('receiving', msg['content']['data'], msg);\n",
       "        // Pass the mpl event to the overriden (by mpl) onmessage function.\n",
       "        ws.onmessage(msg['content']['data'])\n",
       "    });\n",
       "    return ws;\n",
       "}\n",
       "\n",
       "mpl.mpl_figure_comm = function(comm, msg) {\n",
       "    // This is the function which gets called when the mpl process\n",
       "    // starts-up an IPython Comm through the \"matplotlib\" channel.\n",
       "\n",
       "    var id = msg.content.data.id;\n",
       "    // Get hold of the div created by the display call when the Comm\n",
       "    // socket was opened in Python.\n",
       "    var element = $(\"#\" + id);\n",
       "    var ws_proxy = comm_websocket_adapter(comm)\n",
       "\n",
       "    function ondownload(figure, format) {\n",
       "        window.open(figure.imageObj.src);\n",
       "    }\n",
       "\n",
       "    var fig = new mpl.figure(id, ws_proxy,\n",
       "                           ondownload,\n",
       "                           element.get(0));\n",
       "\n",
       "    // Call onopen now - mpl needs it, as it is assuming we've passed it a real\n",
       "    // web socket which is closed, not our websocket->open comm proxy.\n",
       "    ws_proxy.onopen();\n",
       "\n",
       "    fig.parent_element = element.get(0);\n",
       "    fig.cell_info = mpl.find_output_cell(\"<div id='\" + id + \"'></div>\");\n",
       "    if (!fig.cell_info) {\n",
       "        console.error(\"Failed to find cell for figure\", id, fig);\n",
       "        return;\n",
       "    }\n",
       "\n",
       "    var output_index = fig.cell_info[2]\n",
       "    var cell = fig.cell_info[0];\n",
       "\n",
       "};\n",
       "\n",
       "mpl.figure.prototype.handle_close = function(fig, msg) {\n",
       "    var width = fig.canvas.width/mpl.ratio\n",
       "    fig.root.unbind('remove')\n",
       "\n",
       "    // Update the output cell to use the data from the current canvas.\n",
       "    fig.push_to_output();\n",
       "    var dataURL = fig.canvas.toDataURL();\n",
       "    // Re-enable the keyboard manager in IPython - without this line, in FF,\n",
       "    // the notebook keyboard shortcuts fail.\n",
       "    IPython.keyboard_manager.enable()\n",
       "    $(fig.parent_element).html('<img src=\"' + dataURL + '\" width=\"' + width + '\">');\n",
       "    fig.close_ws(fig, msg);\n",
       "}\n",
       "\n",
       "mpl.figure.prototype.close_ws = function(fig, msg){\n",
       "    fig.send_message('closing', msg);\n",
       "    // fig.ws.close()\n",
       "}\n",
       "\n",
       "mpl.figure.prototype.push_to_output = function(remove_interactive) {\n",
       "    // Turn the data on the canvas into data in the output cell.\n",
       "    var width = this.canvas.width/mpl.ratio\n",
       "    var dataURL = this.canvas.toDataURL();\n",
       "    this.cell_info[1]['text/html'] = '<img src=\"' + dataURL + '\" width=\"' + width + '\">';\n",
       "}\n",
       "\n",
       "mpl.figure.prototype.updated_canvas_event = function() {\n",
       "    // Tell IPython that the notebook contents must change.\n",
       "    IPython.notebook.set_dirty(true);\n",
       "    this.send_message(\"ack\", {});\n",
       "    var fig = this;\n",
       "    // Wait a second, then push the new image to the DOM so\n",
       "    // that it is saved nicely (might be nice to debounce this).\n",
       "    setTimeout(function () { fig.push_to_output() }, 1000);\n",
       "}\n",
       "\n",
       "mpl.figure.prototype._init_toolbar = function() {\n",
       "    var fig = this;\n",
       "\n",
       "    var nav_element = $('<div/>')\n",
       "    nav_element.attr('style', 'width: 100%');\n",
       "    this.root.append(nav_element);\n",
       "\n",
       "    // Define a callback function for later on.\n",
       "    function toolbar_event(event) {\n",
       "        return fig.toolbar_button_onclick(event['data']);\n",
       "    }\n",
       "    function toolbar_mouse_event(event) {\n",
       "        return fig.toolbar_button_onmouseover(event['data']);\n",
       "    }\n",
       "\n",
       "    for(var toolbar_ind in mpl.toolbar_items){\n",
       "        var name = mpl.toolbar_items[toolbar_ind][0];\n",
       "        var tooltip = mpl.toolbar_items[toolbar_ind][1];\n",
       "        var image = mpl.toolbar_items[toolbar_ind][2];\n",
       "        var method_name = mpl.toolbar_items[toolbar_ind][3];\n",
       "\n",
       "        if (!name) { continue; };\n",
       "\n",
       "        var button = $('<button class=\"btn btn-default\" href=\"#\" title=\"' + name + '\"><i class=\"fa ' + image + ' fa-lg\"></i></button>');\n",
       "        button.click(method_name, toolbar_event);\n",
       "        button.mouseover(tooltip, toolbar_mouse_event);\n",
       "        nav_element.append(button);\n",
       "    }\n",
       "\n",
       "    // Add the status bar.\n",
       "    var status_bar = $('<span class=\"mpl-message\" style=\"text-align:right; float: right;\"/>');\n",
       "    nav_element.append(status_bar);\n",
       "    this.message = status_bar[0];\n",
       "\n",
       "    // Add the close button to the window.\n",
       "    var buttongrp = $('<div class=\"btn-group inline pull-right\"></div>');\n",
       "    var button = $('<button class=\"btn btn-mini btn-primary\" href=\"#\" title=\"Stop Interaction\"><i class=\"fa fa-power-off icon-remove icon-large\"></i></button>');\n",
       "    button.click(function (evt) { fig.handle_close(fig, {}); } );\n",
       "    button.mouseover('Stop Interaction', toolbar_mouse_event);\n",
       "    buttongrp.append(button);\n",
       "    var titlebar = this.root.find($('.ui-dialog-titlebar'));\n",
       "    titlebar.prepend(buttongrp);\n",
       "}\n",
       "\n",
       "mpl.figure.prototype._root_extra_style = function(el){\n",
       "    var fig = this\n",
       "    el.on(\"remove\", function(){\n",
       "\tfig.close_ws(fig, {});\n",
       "    });\n",
       "}\n",
       "\n",
       "mpl.figure.prototype._canvas_extra_style = function(el){\n",
       "    // this is important to make the div 'focusable\n",
       "    el.attr('tabindex', 0)\n",
       "    // reach out to IPython and tell the keyboard manager to turn it's self\n",
       "    // off when our div gets focus\n",
       "\n",
       "    // location in version 3\n",
       "    if (IPython.notebook.keyboard_manager) {\n",
       "        IPython.notebook.keyboard_manager.register_events(el);\n",
       "    }\n",
       "    else {\n",
       "        // location in version 2\n",
       "        IPython.keyboard_manager.register_events(el);\n",
       "    }\n",
       "\n",
       "}\n",
       "\n",
       "mpl.figure.prototype._key_event_extra = function(event, name) {\n",
       "    var manager = IPython.notebook.keyboard_manager;\n",
       "    if (!manager)\n",
       "        manager = IPython.keyboard_manager;\n",
       "\n",
       "    // Check for shift+enter\n",
       "    if (event.shiftKey && event.which == 13) {\n",
       "        this.canvas_div.blur();\n",
       "        event.shiftKey = false;\n",
       "        // Send a \"J\" for go to next cell\n",
       "        event.which = 74;\n",
       "        event.keyCode = 74;\n",
       "        manager.command_mode();\n",
       "        manager.handle_keydown(event);\n",
       "    }\n",
       "}\n",
       "\n",
       "mpl.figure.prototype.handle_save = function(fig, msg) {\n",
       "    fig.ondownload(fig, null);\n",
       "}\n",
       "\n",
       "\n",
       "mpl.find_output_cell = function(html_output) {\n",
       "    // Return the cell and output element which can be found *uniquely* in the notebook.\n",
       "    // Note - this is a bit hacky, but it is done because the \"notebook_saving.Notebook\"\n",
       "    // IPython event is triggered only after the cells have been serialised, which for\n",
       "    // our purposes (turning an active figure into a static one), is too late.\n",
       "    var cells = IPython.notebook.get_cells();\n",
       "    var ncells = cells.length;\n",
       "    for (var i=0; i<ncells; i++) {\n",
       "        var cell = cells[i];\n",
       "        if (cell.cell_type === 'code'){\n",
       "            for (var j=0; j<cell.output_area.outputs.length; j++) {\n",
       "                var data = cell.output_area.outputs[j];\n",
       "                if (data.data) {\n",
       "                    // IPython >= 3 moved mimebundle to data attribute of output\n",
       "                    data = data.data;\n",
       "                }\n",
       "                if (data['text/html'] == html_output) {\n",
       "                    return [cell, data, j];\n",
       "                }\n",
       "            }\n",
       "        }\n",
       "    }\n",
       "}\n",
       "\n",
       "// Register the function which deals with the matplotlib target/channel.\n",
       "// The kernel may be null if the page has been refreshed.\n",
       "if (IPython.notebook.kernel != null) {\n",
       "    IPython.notebook.kernel.comm_manager.register_target('matplotlib', mpl.mpl_figure_comm);\n",
       "}\n"
      ],
      "text/plain": [
       "<IPython.core.display.Javascript object>"
      ]
     },
     "metadata": {},
     "output_type": "display_data"
    },
    {
     "data": {
      "text/html": [
       "<img src=\"data:image/png;base64,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\" width=\"1200\">"
      ],
      "text/plain": [
       "<IPython.core.display.HTML object>"
      ]
     },
     "metadata": {},
     "output_type": "display_data"
    },
    {
     "data": {
      "text/plain": [
       "<matplotlib.axes._subplots.AxesSubplot at 0x11ed885d0>"
      ]
     },
     "execution_count": 18,
     "metadata": {},
     "output_type": "execute_result"
    }
   ],
   "source": [
    "col1='ce01'\n",
    "col2='ce03'\n",
    "\n",
    "f, (ax1, ax2) = plt.subplots(1, 2, figsize=(12,6))\n",
    "ax1.plot(dfpl[col1], dfpl[col2], 'bo--')\n",
    "sns.pointplot(x=col1, y=col2, data=dfpl, order='year', markers='o', linestyles='--', ax=ax2)\n",
    "\n",
    "# for i, r in dfpl.iterrows():\n",
    "# #     ax2.annotate(r['year'], (r[col1]+0.2, r[col2]+0.2),\n",
    "# #                  horizontalalignment='left', size='medium', color='black', \n",
    "# #                  weight='semibold')\n",
    "#     f.text(r['year'], r[col1]+0.2, r[col2]+0.2,\n",
    "#                      horizontalalignment='left', size='medium', color='black', \n",
    "#                      weight='semibold')\n",
    "#     g.map(plt.annotate, s=r['year'], xy=(r[col1]+0.2, r[col2]+0.2))"
   ]
  },
  {
   "cell_type": "code",
   "execution_count": 17,
   "metadata": {
    "extensions": {
     "jupyter_dashboards": {
      "version": 1,
      "views": {
       "grid_default": {
        "col": 8,
        "height": 10,
        "hidden": true,
        "row": 30,
        "width": 4
       },
       "report_default": {
        "hidden": true
       }
      }
     }
    }
   },
   "outputs": [
    {
     "data": {
      "text/html": [
       "<div>\n",
       "<style scoped>\n",
       "    .dataframe tbody tr th:only-of-type {\n",
       "        vertical-align: middle;\n",
       "    }\n",
       "\n",
       "    .dataframe tbody tr th {\n",
       "        vertical-align: top;\n",
       "    }\n",
       "\n",
       "    .dataframe thead th {\n",
       "        text-align: right;\n",
       "    }\n",
       "</style>\n",
       "<table border=\"1\" class=\"dataframe\">\n",
       "  <thead>\n",
       "    <tr style=\"text-align: right;\">\n",
       "      <th></th>\n",
       "      <th>year</th>\n",
       "      <th>ce01</th>\n",
       "      <th>ce03</th>\n",
       "    </tr>\n",
       "  </thead>\n",
       "  <tbody>\n",
       "    <tr>\n",
       "      <th>0</th>\n",
       "      <td>2006</td>\n",
       "      <td>115522</td>\n",
       "      <td>176863</td>\n",
       "    </tr>\n",
       "    <tr>\n",
       "      <th>1</th>\n",
       "      <td>2007</td>\n",
       "      <td>112442</td>\n",
       "      <td>185130</td>\n",
       "    </tr>\n",
       "    <tr>\n",
       "      <th>2</th>\n",
       "      <td>2008</td>\n",
       "      <td>110347</td>\n",
       "      <td>195344</td>\n",
       "    </tr>\n",
       "    <tr>\n",
       "      <th>3</th>\n",
       "      <td>2009</td>\n",
       "      <td>105053</td>\n",
       "      <td>189921</td>\n",
       "    </tr>\n",
       "    <tr>\n",
       "      <th>4</th>\n",
       "      <td>2010</td>\n",
       "      <td>101468</td>\n",
       "      <td>202611</td>\n",
       "    </tr>\n",
       "    <tr>\n",
       "      <th>5</th>\n",
       "      <td>2011</td>\n",
       "      <td>102998</td>\n",
       "      <td>202301</td>\n",
       "    </tr>\n",
       "    <tr>\n",
       "      <th>6</th>\n",
       "      <td>2012</td>\n",
       "      <td>105908</td>\n",
       "      <td>208052</td>\n",
       "    </tr>\n",
       "    <tr>\n",
       "      <th>7</th>\n",
       "      <td>2013</td>\n",
       "      <td>106817</td>\n",
       "      <td>213290</td>\n",
       "    </tr>\n",
       "  </tbody>\n",
       "</table>\n",
       "</div>"
      ],
      "text/plain": [
       "   year    ce01    ce03\n",
       "0  2006  115522  176863\n",
       "1  2007  112442  185130\n",
       "2  2008  110347  195344\n",
       "3  2009  105053  189921\n",
       "4  2010  101468  202611\n",
       "5  2011  102998  202301\n",
       "6  2012  105908  208052\n",
       "7  2013  106817  213290"
      ]
     },
     "execution_count": 17,
     "metadata": {},
     "output_type": "execute_result"
    }
   ],
   "source": [
    "dfpl.loc[:,('year', 'ce01', 'ce03')]"
   ]
  },
  {
   "cell_type": "code",
   "execution_count": 19,
   "metadata": {
    "extensions": {
     "jupyter_dashboards": {
      "version": 1,
      "views": {
       "grid_default": {
        "col": 0,
        "height": 26,
        "hidden": false,
        "row": 37,
        "width": 12
       },
       "report_default": {
        "hidden": false
       }
      }
     }
    },
    "scrolled": false
   },
   "outputs": [
    {
     "data": {
      "application/vnd.jupyter.widget-view+json": {
       "model_id": "5e6474aeec044d2995e681107e751ec7",
       "version_major": 2,
       "version_minor": 0
      },
      "text/html": [
       "<p>Failed to display Jupyter Widget of type <code>interactive</code>.</p>\n",
       "<p>\n",
       "  If you're reading this message in the Jupyter Notebook or JupyterLab Notebook, it may mean\n",
       "  that the widgets JavaScript is still loading. If this message persists, it\n",
       "  likely means that the widgets JavaScript library is either not installed or\n",
       "  not enabled. See the <a href=\"https://ipywidgets.readthedocs.io/en/stable/user_install.html\">Jupyter\n",
       "  Widgets Documentation</a> for setup instructions.\n",
       "</p>\n",
       "<p>\n",
       "  If you're reading this message in another frontend (for example, a static\n",
       "  rendering on GitHub or <a href=\"https://nbviewer.jupyter.org/\">NBViewer</a>),\n",
       "  it may mean that your frontend doesn't currently support widgets.\n",
       "</p>\n"
      ],
      "text/plain": [
       "interactive(children=(Dropdown(description=u'col1', options=(u'c000', u'ca01', u'ca02', u'ca03', u'ce01', u'ce02', u'ce03', u'cns01', u'cns02', u'cns03', u'cns04', u'cns05', u'cns06', u'cns07', u'cns08', u'cns09', u'cns10', u'cns11', u'cns12', u'cns13', u'cns14', u'cns15', u'cns16', u'cns17', u'cns18', u'cns19', u'cns20', u'cr01', u'cr02', u'cr03', u'cr04', u'cr05', u'cr07', u'ct01', u'ct02', u'cd01', u'cd02', u'cd03', u'cd04', u'cs01', u'cs02', u'cfa01', u'cfa02', u'cfa03', u'cfa04', u'cfa05', u'cfs01', u'cfs02', u'cfs03', u'cfs04', u'cfs05', u'createdate', u'countyfp'), value=u'c000'), Dropdown(description=u'col2', options=(u'c000', u'ca01', u'ca02', u'ca03', u'ce01', u'ce02', u'ce03', u'cns01', u'cns02', u'cns03', u'cns04', u'cns05', u'cns06', u'cns07', u'cns08', u'cns09', u'cns10', u'cns11', u'cns12', u'cns13', u'cns14', u'cns15', u'cns16', u'cns17', u'cns18', u'cns19', u'cns20', u'cr01', u'cr02', u'cr03', u'cr04', u'cr05', u'cr07', u'ct01', u'ct02', u'cd01', u'cd02', u'cd03', u'cd04', u'cs01', u'cs02', u'cfa01', u'cfa02', u'cfa03', u'cfa04', u'cfa05', u'cfs01', u'cfs02', u'cfs03', u'cfs04', u'cfs05', u'createdate', u'countyfp'), value=u'c000'), Output()), _dom_classes=('widget-interact',))"
      ]
     },
     "metadata": {},
     "output_type": "display_data"
    },
    {
     "data": {
      "text/plain": [
       "<function __main__.compare_cols>"
      ]
     },
     "execution_count": 19,
     "metadata": {},
     "output_type": "execute_result"
    }
   ],
   "source": [
    "## compare two columns in two side by side graphs: bar chart over time and scatter plot of col1 v col2 over time\n",
    "%matplotlib notebook\n",
    "# @interact(compare_cols, col1=df.columns.tolist()[1:-2], col2=df.columns.tolist()[1:-2])\n",
    "def compare_cols(col1, col2):\n",
    "    \n",
    "    f, (ax1, ax2) = plt.subplots(1, 2, figsize=(10,6))\n",
    "    f.suptitle('Comparing {} and {} over time'.format(col1, col2))\n",
    "\n",
    "    sns.barplot('year', 'value', 'variable', data=dfpl2[dfpl2['variable'].isin([col2, col1])], ax=ax1)\n",
    "    ax1.set_ylabel('Count')\n",
    "#     ax1.set_title('{} and {}'.format(col1, col2))\n",
    "#     ax1.yaxis.set_major_formatter(FormatStrFormatter('%.0f'))\n",
    "\n",
    "    ax2.plot(dfpl[col1], dfpl[col2], 'bo--')\n",
    "#     sns.pointplot(x=col1, y=col2, hue='year', data=dfpl2, markers='o', linestyles='--', ax=ax2)\n",
    "    ax2.set_ylabel(col2)\n",
    "    ax2.set_xlabel(col1)\n",
    "\n",
    "    for i, r in dfpl.iterrows():\n",
    "        ax2.annotate(r['year'], (r[col1]+0.2, r[col2]+0.2),\n",
    "                     horizontalalignment='left', size='medium', color='black', \n",
    "                     weight='semibold')\n",
    "#         f.text(r['year'], r[col1]+0.2, r[col2]+0.2,\n",
    "#                      horizontalalignment='left', size='medium', color='black', \n",
    "#                      weight='semibold')\n",
    "#         ax2.arrow(r[col1], r[col2], r[col1]+0.5, r[col2]+0.5, shape='full',\n",
    "#                   lw=0, length_includes_head=True, head_width=.5)\n",
    "    # return f? or plt?\n",
    "#     return(f) # no, duplicates image - maybe because %matplotlib magic?\n",
    "\n",
    "interact(compare_cols, col1=df.columns.tolist()[1:-2], col2=df.columns.tolist()[1:-2])"
   ]
  },
  {
   "cell_type": "markdown",
   "metadata": {
    "extensions": {
     "jupyter_dashboards": {
      "version": 1,
      "views": {
       "grid_default": {
        "col": 0,
        "height": 18,
        "hidden": true,
        "row": 6,
        "width": 12
       },
       "report_default": {
        "hidden": false
       }
      }
     }
    }
   },
   "source": [
    "![Column compare example](lodes_example_column_compare.png)"
   ]
  },
  {
   "cell_type": "code",
   "execution_count": 19,
   "metadata": {
    "extensions": {
     "jupyter_dashboards": {
      "version": 1,
      "views": {
       "grid_default": {
        "hidden": true
       },
       "report_default": {
        "hidden": true
       }
      }
     }
    }
   },
   "outputs": [],
   "source": [
    "df_test = pd.DataFrame({'var1': [pd.np.random.random() for x in xrange(1000)],\n",
    "                       'var2': [pd.np.random.random() for x in xrange(1000)]})"
   ]
  },
  {
   "cell_type": "code",
   "execution_count": 20,
   "metadata": {
    "extensions": {
     "jupyter_dashboards": {
      "version": 1,
      "views": {
       "grid_default": {
        "col": 4,
        "height": 6,
        "hidden": true,
        "row": 55,
        "width": 4
       },
       "report_default": {
        "hidden": false
       }
      }
     }
    }
   },
   "outputs": [
    {
     "data": {
      "application/vnd.jupyter.widget-view+json": {
       "model_id": "f3c8a7ae96db427c925ebc3ce56b54c2",
       "version_major": 2,
       "version_minor": 0
      },
      "text/html": [
       "<p>Failed to display Jupyter Widget of type <code>interactive</code>.</p>\n",
       "<p>\n",
       "  If you're reading this message in the Jupyter Notebook or JupyterLab Notebook, it may mean\n",
       "  that the widgets JavaScript is still loading. If this message persists, it\n",
       "  likely means that the widgets JavaScript library is either not installed or\n",
       "  not enabled. See the <a href=\"https://ipywidgets.readthedocs.io/en/stable/user_install.html\">Jupyter\n",
       "  Widgets Documentation</a> for setup instructions.\n",
       "</p>\n",
       "<p>\n",
       "  If you're reading this message in another frontend (for example, a static\n",
       "  rendering on GitHub or <a href=\"https://nbviewer.jupyter.org/\">NBViewer</a>),\n",
       "  it may mean that your frontend doesn't currently support widgets.\n",
       "</p>\n"
      ],
      "text/plain": [
       "interactive(children=(Dropdown(description=u'col', options=('var1', 'var2'), value='var1'), Output()), _dom_classes=('widget-interact',))"
      ]
     },
     "metadata": {},
     "output_type": "display_data"
    },
    {
     "data": {
      "text/plain": [
       "<function __main__.df_plot>"
      ]
     },
     "execution_count": 20,
     "metadata": {},
     "output_type": "execute_result"
    }
   ],
   "source": [
    "def df_plot(col):\n",
    "    f, ax = plt.subplots()\n",
    "    sns.distplot(df_test[col])\n",
    "#     plt.show()\n",
    "    \n",
    "interact(df_plot, col=df_test.columns.tolist())"
   ]
  },
  {
   "cell_type": "code",
   "execution_count": null,
   "metadata": {
    "extensions": {
     "jupyter_dashboards": {
      "version": 1,
      "views": {
       "grid_default": {
        "hidden": true
       },
       "report_default": {
        "hidden": true
       }
      }
     }
    }
   },
   "outputs": [],
   "source": []
  }
 ],
 "metadata": {
  "extensions": {
   "jupyter_dashboards": {
    "activeView": "grid_default",
    "version": 1,
    "views": {
     "grid_default": {
      "cellMargin": 10,
      "defaultCellHeight": 20,
      "maxColumns": 12,
      "name": "grid",
      "type": "grid"
     },
     "report_default": {
      "name": "report",
      "type": "report"
     }
    }
   }
  },
  "kernelspec": {
   "display_name": "Python 2",
   "language": "python",
   "name": "python2"
  },
  "language_info": {
   "codemirror_mode": {
    "name": "ipython",
    "version": 2
   },
   "file_extension": ".py",
   "mimetype": "text/x-python",
   "name": "python",
   "nbconvert_exporter": "python",
   "pygments_lexer": "ipython2",
   "version": "2.7.3"
  }
 },
 "nbformat": 4,
 "nbformat_minor": 2
}
